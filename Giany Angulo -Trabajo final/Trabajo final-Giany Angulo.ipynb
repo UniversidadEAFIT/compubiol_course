{
 "cells": [
  {
   "cell_type": "markdown",
   "metadata": {},
   "source": []
  },
  {
   "cell_type": "markdown",
   "metadata": {},
   "source": [
    "# Análisis de proteínas homólogas: factores de transcripción asociados a la inducción somática de *Arabidopsis thaliana* en *Ricinus communis*. \n",
    "### Giany Angulo\n",
    "Biología - Universidad EAFIT"
   ]
  },
  {
   "cell_type": "markdown",
   "metadata": {},
   "source": [
    "# Resumen"
   ]
  },
  {
   "cell_type": "markdown",
   "metadata": {},
   "source": [
    "<div class=text-justify>En el presente trabajo se buscan homologías entre 17 proteínas asociados a la regulación de la embriogénesis somática en la planta modelo *Arabidopsis thaliana* y el proteoma de *Ricinus communis*. Para ello se realiza un BLASTp y se analizan los matches. "
   ]
  },
  {
   "cell_type": "markdown",
   "metadata": {},
   "source": [
    "# Introducción"
   ]
  },
  {
   "cell_type": "markdown",
   "metadata": {},
   "source": [
    "<div class=text-justify>\n",
    "Actualmente el mundo enfrenta una alarmante crisis alimentaria. La FAO (Organización de las Naciones Unidas para la Alimentación y la Agricultura) estimó que para el 2017, 1 de cada 9 personas padecía de desnutrición. Se trata de 821 millones de personas subalimentadas donde los principales afectados son los niños con retrasos en el crecimiento y otras afecciones asociadas a la pérdida de peso [1].<br />\n",
    "<div class=text-justify>\n",
    "Las causas son muchas: conflictos armados, políticas de gobierno, el acelerado crecimiento demográfico, cambio climático, resistencia a antimicrobianos en los cultivos, entre otros [1]. En este panorama de hambre mundial se necesitan cultivos económicos, resistentes y con un alto contenido nutricional. Económicos para que todas las personas puedan tener acceso al alimento, y para hacerlos económicos es necesario reducir costos de producción; Resistentes porque con el cambio climático han aumentado y seguirán aumentan desastres extremos como sequias e inundaciones, y todo esto afecta la disponibilidad y la estabilidad de los alimentos de origen agrícola que constituyen la única fuente de alimento para muchas personas[1]; también deben ser resistentes a patógenos que arruinan los cultivos y merman la capacidad de estos de abastecer a la población.<br />\n",
    "<div class=text-justify>\n",
    "Por ello la biotecnología nos ofrece la alternativa de generar cultivos de mayor rendimiento, resistentes a la sequía, resistentes a sus patógenos naturales y capaces de producir en mayor cantidad aquellos compuestos que le dan su valor nutricional. También, la biotecnología permite una mejor forma de propagación masiva de material vegetal a través de la propagación in vitro, que facilita homogeneizar los estándares de rendimiento, entre otras ventajas. Las dos metodologías ideales para la propagación de material vegetal in vitro son la organogénesis y la embriogénesis somática; en la organogénesis se usan fitohormonas para inducir que se genere un individuo nuevo a partir de un explante [2].  Esto permite someter el explante a transformaciones para generar individuos con alguna resistencia o mejora adquirida. El inconveniente que se presenta aquí es que las transformaciones que se realizan a través de organogénesis suelen dar como resultado organismos quiméricos con unas células transformadas y otras no. Eso sucede porque no se parte de una única célula transformada para generar la nueva planta.<br />\n",
    "<div class=text-justify>\n",
    "En la embriogénesis somática, en cambio, se devuelve una célula somática a condición de embrión[3], lo que podría permitir originar individuos nuevos a partir de una única célula transformada. El problema en este caso es que inducir a una célula somática al estado de embrión requiere la activación de un patrón de expresión génica específico que por lo general se desconoce en el cultivo de interés. La buena noticia es que este patrón ya se ha sido dilucidado en gran medida en plantas modelos como *Arabidopsis thaliana* [4], lo que hace pensar que se pueden encontrar los genes homólogos en otras plantas para conocer sus requerimientos específicos durante la embriogénesis somática.<br />\n",
    "<div class=text-justify>\n",
    "En este trabajo se tomaron 17 factores [4] de transcripción involucrados en la embriogénesis, en la maduración de semilla y en la geminación en *Arabidopsis thaliana* y se compararon con el proteoma de *Ricinus commuis* o higuerilla para encontrar homologías que permitan similitudes tanto en secuencias como en funciones en la segunda especie. Lo anterior es el primer paso para dilucidar el patrón de expresión y regulación génica que podría inducir embriogénesis somática en *Ricinus communis*. \n"
   ]
  },
  {
   "cell_type": "markdown",
   "metadata": {},
   "source": [
    "# Metodología"
   ]
  },
  {
   "cell_type": "markdown",
   "metadata": {},
   "source": [
    "Los 17 genes alanizados fueron los siguientes:\n",
    "   1. ANT\n",
    "   2. AIL1\n",
    "   3. PLT1\n",
    "   4. PLT2\n",
    "   5. AIL5\n",
    "   6. AIL6\n",
    "   7. PLT7\n",
    "   8. BBM\n",
    "   9. LEC1\n",
    "   10. LEC2\n",
    "   11. L1L\n",
    "   12. ABI3\n",
    "   13. FUS3\n",
    "   14. AGL15\n",
    "   15. PKL\n",
    "   16. VAL\n",
    "   17. NF-YA9\n",
    "   \n",
    "Primero se descargaron los archivos FASTA de cada una de las proteínas de *A. thaliana* de la base de datos de UniProt. El proteoma de *R. communis* se descargó de la base de datos Taxonomy de NCBI. Posteriormente se usó la aplicación makeblastdb para crear una base de datos para BLAST a partir de los archivos FASTA obtenidos. Esa base de datos se sometió a un BLASTp usando el programa DIAMOND. Se presentó un inconveniente al generar la salida pues esta fue formato texto. Las herramientas para analizar salidas de BLAST que ofrece Biopython sólo soportan el formato XML, por lo que la salida se analizó como una lista de listas. "
   ]
  },
  {
   "cell_type": "markdown",
   "metadata": {},
   "source": [
    "# Resultados"
   ]
  },
  {
   "cell_type": "code",
   "execution_count": 138,
   "metadata": {},
   "outputs": [],
   "source": [
    "from Bio import SeqIO\n",
    "for seq_record in SeqIO.parse(\"ANT.fasta\", \"fasta\"):\n",
    "    ANT= seq_record.id[3:9]\n",
    "for seq_record in SeqIO.parse(\"AIL1.fasta\", \"fasta\"):\n",
    "    AIL1= seq_record.id[3:9]\n",
    "for seq_record in SeqIO.parse(\"AIL5.fasta\", \"fasta\"):\n",
    "    AIL5= seq_record.id[3:13]\n",
    "for seq_record in SeqIO.parse(\"AIL6.fasta\", \"fasta\"):\n",
    "    AIL6= seq_record.id[3:9]\n",
    "for seq_record in SeqIO.parse(\"PLT1.fasta\", \"fasta\"):\n",
    "    PLT1= seq_record.id[3:9]\n",
    "for seq_record in SeqIO.parse(\"PLT2.fasta\", \"fasta\"):\n",
    "    PLT2= seq_record.id[3:9]\n",
    "for seq_record in SeqIO.parse(\"PLT7.fasta\", \"fasta\"):\n",
    "    PLT7= seq_record.id[3:9]\n",
    "for seq_record in SeqIO.parse(\"BBM.fasta\", \"fasta\"):\n",
    "    BBM= seq_record.id[3:9]\n",
    "for seq_record in SeqIO.parse(\"LEC1.fasta\", \"fasta\"):\n",
    "    LEC1= seq_record.id[3:9]\n",
    "for seq_record in SeqIO.parse(\"LEC2.fasta\", \"fasta\"):\n",
    "    LEC2= seq_record.id[3:9]\n",
    "for seq_record in SeqIO.parse(\"L1L.fasta\", \"fasta\"):\n",
    "    L1L= seq_record.id[3:9]\n",
    "for seq_record in SeqIO.parse(\"ABI3.fasta\", \"fasta\"):\n",
    "    ABI3= seq_record.id[3:9]\n",
    "for seq_record in SeqIO.parse(\"FUS3.fasta\", \"fasta\"):\n",
    "    FUS3= seq_record.id[3:9]\n",
    "for seq_record in SeqIO.parse(\"AGL15.fasta\", \"fasta\"):\n",
    "    AGL15= seq_record.id[3:9]\n",
    "for seq_record in SeqIO.parse(\"PKL.fasta\", \"fasta\"):\n",
    "    PKL= seq_record.id[3:9]\n",
    "for seq_record in SeqIO.parse(\"VAL.fasta\", \"fasta\"):\n",
    "    VAL= seq_record.id[3:9]\n",
    "for seq_record in SeqIO.parse(\"NF-YA9.fasta\", \"fasta\"):\n",
    "    NF_YA9= seq_record.id[3:13]"
   ]
  },
  {
   "cell_type": "code",
   "execution_count": 139,
   "metadata": {},
   "outputs": [
    {
     "name": "stdout",
     "output_type": "stream",
     "text": [
      "A0A178U889\n"
     ]
    }
   ],
   "source": [
    "print(AIL5)"
   ]
  },
  {
   "cell_type": "markdown",
   "metadata": {},
   "source": [
    "## Análisis del BLAST"
   ]
  },
  {
   "cell_type": "code",
   "execution_count": 89,
   "metadata": {},
   "outputs": [],
   "source": [
    "#Primero se convirtió la salida del BLAST (BLASTP_output) en un string, y ese string se dividió por líneas.\n",
    "with open('BLASTP_output', 'r') as f2:\n",
    "    data = f2.read()\n",
    "data_string=str(data)\n",
    "blast_output=data_string.split(\"\\n\")\n",
    "blast_output"
   ]
  },
  {
   "cell_type": "code",
   "execution_count": 90,
   "metadata": {},
   "outputs": [
    {
     "data": {
      "text/plain": [
       "['Query= NP_001310615.1 B3 domain-containing transcription factor LEC2 [Ricinus communis]',\n",
       " '',\n",
       " 'Length=399',\n",
       " '',\n",
       " '>spQ1PFR7LEC2_ARATH_B3_domain_containing_transcription_factor_LEC2_OSArabidopsis_thaliana_OX3702_GNLEC2_PE2_SV1',\n",
       " 'Length=363',\n",
       " '',\n",
       " ' Score = 198.7 bits (504),  Expect = 5.9e-54',\n",
       " ' Identities = 121/233 (51%), Positives = 153/233 (65%), Gaps = 5/233 (2%)',\n",
       " 'Query= NP_001310634.1 B3 domain-containing transcription factor ABI3 [Ricinus communis]',\n",
       " '',\n",
       " 'Length=767',\n",
       " '',\n",
       " '>spQ01593ABI3_ARATH_B3_domain_containing_transcription_factor_ABI3_OSArabidopsis_thaliana_OX3702_GNABI3_PE1_SV1',\n",
       " 'Length=720',\n",
       " '',\n",
       " ' Score = 170.6 bits (431),  Expect = 3.3e-45',\n",
       " ' Identities = 88/123 (71%), Positives = 94/123 (76%), Gaps = 3/123 (2%)',\n",
       " 'Query= NP_001310645.1 AP2-like ethylene-responsive transcription factor At1g16060 [Ricinus communis]',\n",
       " '',\n",
       " 'Length=327',\n",
       " '',\n",
       " '>trA0A178U889A0A178U889_ARATH_AINTEGUMENTA_like_5_OSArabidopsis_thaliana_OX3702_GNAIL5_PE4_SV1',\n",
       " 'Length=440',\n",
       " '',\n",
       " ' Score = 238.4 bits (607),  Expect = 5.5e-66',\n",
       " ' Identities = 114/161 (70%), Positives = 134/161 (83%), Gaps = 3/161 (1%)',\n",
       " 'Query= NP_001310691.1 ethylene-responsive transcription factor WRI1 [Ricinus communis]',\n",
       " '',\n",
       " 'Length=446',\n",
       " '',\n",
       " '>trA0A178U889A0A178U889_ARATH_AINTEGUMENTA_like_5_OSArabidopsis_thaliana_OX3702_GNAIL5_PE4_SV1',\n",
       " 'Length=440',\n",
       " '',\n",
       " ' Score = 256.9 bits (655),  Expect = 2.0e-71',\n",
       " ' Identities = 122/169 (72%), Positives = 142/169 (84%), Gaps = 0/169 (0%)',\n",
       " 'Query= XP_002509704.3 ethylene-responsive transcription factor ERF027 [Ricinus communis]',\n",
       " '',\n",
       " 'Length=245',\n",
       " '',\n",
       " '>spQ6J9N8AIL7_ARATH_AP2_like_ethylene_responsive_transcription_factor_AIL7_OSArabidopsis_thaliana_OX3702_GNAIL7_PE2_SV2',\n",
       " 'Length=498',\n",
       " '',\n",
       " ' Score = 49.7 bits (117),  Expect = 2.7e-09',\n",
       " ' Identities = 33/107 (30%), Positives = 57/107 (53%), Gaps = 8/107 (7%)',\n",
       " 'Query= XP_002510048.2 AP2-like ethylene-responsive transcription factor ANT [Ricinus communis]',\n",
       " '',\n",
       " 'Length=709',\n",
       " '',\n",
       " '>spQ38914ANT_ARATH_AP2_like_ethylene_responsive_transcription_factor_ANT_OSArabidopsis_thaliana_OX3702_GNANT_PE1_SV2',\n",
       " 'Length=555',\n",
       " '',\n",
       " ' Score = 431.4 bits (1108),  Expect = 9.5e-124',\n",
       " ' Identities = 276/538 (51%), Positives = 318/538 (59%), Gaps = 122/538 (22%)',\n",
       " 'Query= XP_002510472.2 floral homeotic protein DEFICIENS [Ricinus communis]',\n",
       " '',\n",
       " 'Length=225',\n",
       " '',\n",
       " '>spQ38847AGL15_ARATH_Agamous_like_MADS_box_protein_AGL15_OSArabidopsis_thaliana_OX3702_GNAGL15_PE1_SV1',\n",
       " 'Length=268',\n",
       " '',\n",
       " ' Score = 110.9 bits (276),  Expect = 9.1e-28',\n",
       " ' Identities = 69/158 (43%), Positives = 105/158 (66%), Gaps = 4/158 (2%)',\n",
       " 'Query= XP_002510845.1 ethylene-responsive transcription factor ERF026 [Ricinus communis]',\n",
       " '',\n",
       " 'Length=224',\n",
       " '',\n",
       " '>spQ1PFE1AIL1_ARATH_AP2_like_ethylene_responsive_transcription_factor_AIL1_OSArabidopsis_thaliana_OX3702_GNAIL1_PE2_SV1',\n",
       " 'Length=415',\n",
       " '',\n",
       " ' Score = 37.7 bits (86),  Expect = 9.7e-06',\n",
       " ' Identities = 20/54 (37%), Positives = 31/54 (57%), Gaps = 2/54 (3%)',\n",
       " 'Query= XP_002510866.1 MADS-box protein AGL42 [Ricinus communis]',\n",
       " '',\n",
       " 'Length=213',\n",
       " '',\n",
       " '>spQ38847AGL15_ARATH_Agamous_like_MADS_box_protein_AGL15_OSArabidopsis_thaliana_OX3702_GNAGL15_PE1_SV1',\n",
       " 'Length=268',\n",
       " '',\n",
       " ' Score = 123.2 bits (308),  Expect = 1.7e-31',\n",
       " ' Identities = 88/224 (39%), Positives = 132/224 (58%), Gaps = 23/224 (10%)',\n",
       " 'Query= XP_002511765.1 MADS-box transcription factor 6 isoform X1 [Ricinus communis]',\n",
       " '',\n",
       " 'Length=244',\n",
       " '',\n",
       " '>spQ38847AGL15_ARATH_Agamous_like_MADS_box_protein_AGL15_OSArabidopsis_thaliana_OX3702_GNAGL15_PE1_SV1',\n",
       " 'Length=268',\n",
       " '',\n",
       " ' Score = 134.4 bits (337),  Expect = 8.3e-35',\n",
       " ' Identities = 80/170 (47%), Positives = 111/170 (65%), Gaps = 5/170 (2%)',\n",
       " 'Query= XP_002511767.2 MADS-box protein SOC1 [Ricinus communis]',\n",
       " '',\n",
       " 'Length=218',\n",
       " '',\n",
       " '>spQ38847AGL15_ARATH_Agamous_like_MADS_box_protein_AGL15_OSArabidopsis_thaliana_OX3702_GNAGL15_PE1_SV1',\n",
       " 'Length=268',\n",
       " '',\n",
       " ' Score = 122.1 bits (305),  Expect = 3.8e-31',\n",
       " ' Identities = 75/168 (44%), Positives = 109/168 (64%), Gaps = 8/168 (4%)',\n",
       " 'Query= XP_002512051.2 truncated transcription factor CAULIFLOWER A [Ricinus communis]',\n",
       " '',\n",
       " 'Length=242',\n",
       " '',\n",
       " '>spQ38847AGL15_ARATH_Agamous_like_MADS_box_protein_AGL15_OSArabidopsis_thaliana_OX3702_GNAGL15_PE1_SV1',\n",
       " 'Length=268',\n",
       " '',\n",
       " ' Score = 133.3 bits (334),  Expect = 1.8e-34',\n",
       " ' Identities = 82/174 (47%), Positives = 113/174 (64%), Gaps = 8/174 (4%)',\n",
       " 'Query= XP_002512405.1 nuclear transcription factor Y subunit B-4 [Ricinus communis]',\n",
       " '',\n",
       " 'Length=158',\n",
       " '',\n",
       " '>Q84W66NFYB6_ARATH_Nuclear_transcription_factor_Y_subunit_B_6_OSArabidopsis_thaliana_OX3702_GNNFYB6_PE1_SV2',\n",
       " 'Length=234',\n",
       " '',\n",
       " ' Score = 129.0 bits (323),  Expect = 2.3e-33',\n",
       " ' Identities = 55/100 (55%), Positives = 80/100 (80%), Gaps = 0/100 (0%)',\n",
       " 'Query= XP_002512669.1 ethylene-responsive transcription factor ERF113 [Ricinus communis]',\n",
       " '',\n",
       " 'Length=249',\n",
       " '',\n",
       " '>spQ38914ANT_ARATH_AP2_like_ethylene_responsive_transcription_factor_ANT_OSArabidopsis_thaliana_OX3702_GNANT_PE1_SV2',\n",
       " 'Length=555',\n",
       " '',\n",
       " ' Score = 51.6 bits (122),  Expect = 7.2e-10',\n",
       " ' Identities = 29/57 (50%), Positives = 35/57 (61%), Gaps = 1/57 (1%)',\n",
       " 'Query= XP_002512756.1 AP2-like ethylene-responsive transcription factor At1g16060 [Ricinus communis]',\n",
       " '',\n",
       " 'Length=330',\n",
       " '',\n",
       " '>trA0A178U889A0A178U889_ARATH_AINTEGUMENTA_like_5_OSArabidopsis_thaliana_OX3702_GNAIL5_PE4_SV1',\n",
       " 'Length=440',\n",
       " '',\n",
       " ' Score = 222.2 bits (565),  Expect = 4.1e-61',\n",
       " ' Identities = 104/151 (68%), Positives = 126/151 (83%), Gaps = 0/151 (0%)',\n",
       " 'Query= XP_002512863.1 B3 domain-containing transcription factor FUS3 isoform X1 [Ricinus communis]',\n",
       " '',\n",
       " 'Length=321',\n",
       " '',\n",
       " '>spQ9LW31FUS3_ARATH_B3_domain_containing_transcription_factor_FUS3_OSArabidopsis_thaliana_OX3702_GNFUS3_PE1_SV2',\n",
       " 'Length=313',\n",
       " '',\n",
       " ' Score = 239.6 bits (610),  Expect = 2.4e-66',\n",
       " ' Identities = 136/242 (56%), Positives = 156/242 (64%), Gaps = 34/242 (14%)',\n",
       " 'Query= XP_002513133.2 LOW QUALITY PROTEIN: helicase-like transcription factor CHR28 [Ricinus communis]',\n",
       " '',\n",
       " 'Length=1064',\n",
       " '',\n",
       " '>spQ9S775PKL_ARATH_CHD3_type_chromatin_remodeling_factor_PICKLE_OSArabidopsis_thaliana_OX3702_GNPKL_PE1_SV1',\n",
       " 'Length=1384',\n",
       " '',\n",
       " ' Score = 68.6 bits (166),  Expect = 2.4e-14',\n",
       " ' Identities = 56/226 (24%), Positives = 103/226 (45%), Gaps = 24/226 (10%)',\n",
       " 'Query= XP_002513787.1 ethylene-responsive transcription factor ERF014 [Ricinus communis]',\n",
       " '',\n",
       " 'Length=230',\n",
       " '',\n",
       " '>trA0A178U889A0A178U889_ARATH_AINTEGUMENTA_like_5_OSArabidopsis_thaliana_OX3702_GNAIL5_PE4_SV1',\n",
       " 'Length=440',\n",
       " '',\n",
       " ' Score = 39.7 bits (91),  Expect = 2.6e-06',\n",
       " ' Identities = 30/88 (34%), Positives = 43/88 (48%), Gaps = 8/88 (9%)',\n",
       " 'Query= XP_002514037.2 MADS-box protein SVP isoform X2 [Ricinus communis]',\n",
       " '',\n",
       " 'Length=222',\n",
       " '',\n",
       " '>spQ38847AGL15_ARATH_Agamous_like_MADS_box_protein_AGL15_OSArabidopsis_thaliana_OX3702_GNAGL15_PE1_SV1',\n",
       " 'Length=268',\n",
       " '',\n",
       " ' Score = 115.5 bits (288),  Expect = 3.6e-29',\n",
       " ' Identities = 88/228 (38%), Positives = 137/228 (60%), Gaps = 20/228 (8%)',\n",
       " 'Query= XP_002514074.1 nuclear transcription factor Y subunit A-3 isoform X2 [Ricinus communis]',\n",
       " '',\n",
       " 'Length=327',\n",
       " '',\n",
       " '>trA0A178VD17A0A178VD17_ARATH_NF_YA9_OSArabidopsis_thaliana_OX3702_GNAXX17_At3g22310_PE4_SV1',\n",
       " 'Length=298',\n",
       " '',\n",
       " ' Score = 103.6 bits (257),  Expect = 2.1e-25',\n",
       " ' Identities = 54/116 (46%), Positives = 70/116 (60%), Gaps = 1/116 (0%)',\n",
       " 'Query= XP_002514623.1 truncated transcription factor CAULIFLOWER A [Ricinus communis]',\n",
       " '',\n",
       " 'Length=244',\n",
       " '',\n",
       " '>spQ38847AGL15_ARATH_Agamous_like_MADS_box_protein_AGL15_OSArabidopsis_thaliana_OX3702_GNAGL15_PE1_SV1',\n",
       " 'Length=268',\n",
       " '',\n",
       " ' Score = 123.2 bits (308),  Expect = 1.9e-31',\n",
       " ' Identities = 77/171 (45%), Positives = 107/171 (62%), Gaps = 8/171 (4%)',\n",
       " 'Query= XP_002514624.2 MADS-box protein EJ2 [Ricinus communis]',\n",
       " '',\n",
       " 'Length=244',\n",
       " '',\n",
       " '>spQ38847AGL15_ARATH_Agamous_like_MADS_box_protein_AGL15_OSArabidopsis_thaliana_OX3702_GNAGL15_PE1_SV1',\n",
       " 'Length=268',\n",
       " '',\n",
       " ' Score = 126.7 bits (317),  Expect = 1.7e-32',\n",
       " ' Identities = 79/179 (44%), Positives = 113/179 (63%), Gaps = 7/179 (3%)',\n",
       " 'Query= XP_002514893.2 agamous-like MADS-box protein AGL9 homolog isoform X2 [Ricinus communis]',\n",
       " '',\n",
       " 'Length=241',\n",
       " '',\n",
       " '>spQ38847AGL15_ARATH_Agamous_like_MADS_box_protein_AGL15_OSArabidopsis_thaliana_OX3702_GNAGL15_PE1_SV1',\n",
       " 'Length=268',\n",
       " '',\n",
       " ' Score = 122.9 bits (307),  Expect = 2.5e-31',\n",
       " ' Identities = 79/175 (45%), Positives = 115/175 (65%), Gaps = 9/175 (5%)',\n",
       " 'Query= XP_002515445.1 CHD3-type chromatin-remodeling factor PICKLE [Ricinus communis]',\n",
       " '',\n",
       " 'Length=1470',\n",
       " '',\n",
       " '>spQ9S775PKL_ARATH_CHD3_type_chromatin_remodeling_factor_PICKLE_OSArabidopsis_thaliana_OX3702_GNPKL_PE1_SV1',\n",
       " 'Length=1384',\n",
       " '',\n",
       " ' Score = 1884.0 bits (4879),  Expect = 0.0e+00',\n",
       " ' Identities = 976/1407 (69%), Positives = 1146/1407 (81%), Gaps = 45/1407 (3%)',\n",
       " 'Query= XP_002516312.1 nuclear transcription factor Y subunit B-3 [Ricinus communis]',\n",
       " '',\n",
       " 'Length=233',\n",
       " '',\n",
       " '>Q84W66NFYB6_ARATH_Nuclear_transcription_factor_Y_subunit_B_6_OSArabidopsis_thaliana_OX3702_GNNFYB6_PE1_SV2',\n",
       " 'Length=234',\n",
       " '',\n",
       " ' Score = 148.3 bits (373),  Expect = 5.3e-39',\n",
       " ' Identities = 61/96 (63%), Positives = 86/96 (89%), Gaps = 0/96 (0%)',\n",
       " 'Query= XP_002516857.1 chromatin structure-remodeling complex protein SYD [Ricinus communis]',\n",
       " '',\n",
       " 'Length=3502',\n",
       " '',\n",
       " '>spQ9S775PKL_ARATH_CHD3_type_chromatin_remodeling_factor_PICKLE_OSArabidopsis_thaliana_OX3702_GNPKL_PE1_SV1',\n",
       " 'Length=1384',\n",
       " '',\n",
       " ' Score = 328.6 bits (841),  Expect = 4.3e-92',\n",
       " ' Identities = 209/551 (37%), Positives = 307/551 (55%), Gaps = 60/551 (10%)',\n",
       " 'Query= XP_002516879.1 ISWI chromatin-remodeling complex ATPase CHR11 [Ricinus communis]',\n",
       " '',\n",
       " 'Length=1064',\n",
       " '',\n",
       " '>spQ9S775PKL_ARATH_CHD3_type_chromatin_remodeling_factor_PICKLE_OSArabidopsis_thaliana_OX3702_GNPKL_PE1_SV1',\n",
       " 'Length=1384',\n",
       " '',\n",
       " ' Score = 418.3 bits (1074),  Expect = 1.3e-119',\n",
       " ' Identities = 288/854 (33%), Positives = 443/854 (51%), Gaps = 93/854 (10%)',\n",
       " 'Query= XP_002516891.1 ethylene-responsive transcription factor ERF086 [Ricinus communis]',\n",
       " '',\n",
       " 'Length=356',\n",
       " '',\n",
       " '>spQ38914ANT_ARATH_AP2_like_ethylene_responsive_transcription_factor_ANT_OSArabidopsis_thaliana_OX3702_GNANT_PE1_SV2',\n",
       " 'Length=555',\n",
       " '',\n",
       " ' Score = 43.1 bits (100),  Expect = 3.7e-07',\n",
       " ' Identities = 25/55 (45%), Positives = 31/55 (56%), Gaps = 0/55 (0%)',\n",
       " 'Query= XP_002516901.2 nuclear transcription factor Y subunit B-5 [Ricinus communis]',\n",
       " '',\n",
       " 'Length=135',\n",
       " '',\n",
       " '>Q84W66NFYB6_ARATH_Nuclear_transcription_factor_Y_subunit_B_6_OSArabidopsis_thaliana_OX3702_GNNFYB6_PE1_SV2',\n",
       " 'Length=234',\n",
       " '',\n",
       " ' Score = 139.4 bits (350),  Expect = 1.4e-36',\n",
       " ' Identities = 66/109 (60%), Positives = 86/109 (78%), Gaps = 0/109 (0%)',\n",
       " 'Query= XP_002516971.1 ethylene-responsive transcription factor RAP2-3 isoform X1 [Ricinus communis]',\n",
       " '',\n",
       " 'Length=247',\n",
       " '',\n",
       " '>spQ1PFE1AIL1_ARATH_AP2_like_ethylene_responsive_transcription_factor_AIL1_OSArabidopsis_thaliana_OX3702_GNAIL1_PE2_SV1',\n",
       " 'Length=415',\n",
       " '',\n",
       " ' Score = 49.3 bits (116),  Expect = 3.6e-09',\n",
       " ' Identities = 34/99 (34%), Positives = 49/99 (49%), Gaps = 1/99 (1%)',\n",
       " 'Query= XP_002517624.1 ethylene-responsive transcription factor WIN1 [Ricinus communis]',\n",
       " '',\n",
       " 'Length=189',\n",
       " '',\n",
       " '>trA0A178U889A0A178U889_ARATH_AINTEGUMENTA_like_5_OSArabidopsis_thaliana_OX3702_GNAIL5_PE4_SV1',\n",
       " 'Length=440',\n",
       " '',\n",
       " ' Score = 52.4 bits (124),  Expect = 3.2e-10',\n",
       " ' Identities = 28/60 (46%), Positives = 36/60 (60%), Gaps = 1/60 (1%)',\n",
       " 'Query= XP_002517826.1 nuclear transcription factor Y subunit A-1 isoform X1 [Ricinus communis]',\n",
       " '',\n",
       " 'Length=336',\n",
       " '',\n",
       " '>trA0A178VD17A0A178VD17_ARATH_NF_YA9_OSArabidopsis_thaliana_OX3702_GNAXX17_At3g22310_PE4_SV1',\n",
       " 'Length=298',\n",
       " '',\n",
       " ' Score = 134.8 bits (338),  Expect = 8.8e-35',\n",
       " ' Identities = 107/265 (40%), Positives = 143/265 (53%), Gaps = 33/265 (12%)',\n",
       " 'Query= XP_002517890.1 switch 2 [Ricinus communis]',\n",
       " '',\n",
       " 'Length=870',\n",
       " '',\n",
       " '>spQ9S775PKL_ARATH_CHD3_type_chromatin_remodeling_factor_PICKLE_OSArabidopsis_thaliana_OX3702_GNPKL_PE1_SV1',\n",
       " 'Length=1384',\n",
       " '',\n",
       " ' Score = 229.6 bits (584),  Expect = 6.8e-63',\n",
       " ' Identities = 197/730 (26%), Positives = 331/730 (45%), Gaps = 154/730 (21%)',\n",
       " 'Query= XP_002518331.2 MADS-box transcription factor 23 isoform X2 [Ricinus communis]',\n",
       " '',\n",
       " 'Length=239',\n",
       " '',\n",
       " '>spQ38847AGL15_ARATH_Agamous_like_MADS_box_protein_AGL15_OSArabidopsis_thaliana_OX3702_GNAGL15_PE1_SV1',\n",
       " 'Length=268',\n",
       " '',\n",
       " ' Score = 132.5 bits (332),  Expect = 3.1e-34',\n",
       " ' Identities = 76/151 (50%), Positives = 106/151 (70%), Gaps = 6/151 (3%)',\n",
       " 'Query= XP_002518767.1 ethylene-responsive transcription factor ERF109 [Ricinus communis]',\n",
       " '',\n",
       " 'Length=288',\n",
       " '',\n",
       " '>spQ5YGP8PLET1_ARATH_AP2_like_ethylene_responsive_transcription_factor_PLT1_OSArabidopsis_thaliana_OX3702_GNPLT1_PE2_SV1',\n",
       " 'Length=574',\n",
       " '',\n",
       " ' Score = 52.0 bits (123),  Expect = 6.4e-10',\n",
       " ' Identities = 31/62 (50%), Positives = 37/62 (59%), Gaps = 1/62 (1%)',\n",
       " 'Query= XP_002518776.1 protein CHROMATIN REMODELING 25 [Ricinus communis]',\n",
       " '',\n",
       " 'Length=940',\n",
       " '',\n",
       " '>spQ9S775PKL_ARATH_CHD3_type_chromatin_remodeling_factor_PICKLE_OSArabidopsis_thaliana_OX3702_GNPKL_PE1_SV1',\n",
       " 'Length=1384',\n",
       " '',\n",
       " ' Score = 208.4 bits (529),  Expect = 1.7e-56',\n",
       " ' Identities = 163/607 (26%), Positives = 274/607 (45%), Gaps = 89/607 (14%)',\n",
       " 'Query= XP_002519712.1 agamous-like MADS-box protein AGL29 [Ricinus communis]',\n",
       " '',\n",
       " 'Length=172',\n",
       " '',\n",
       " '>spQ38847AGL15_ARATH_Agamous_like_MADS_box_protein_AGL15_OSArabidopsis_thaliana_OX3702_GNAGL15_PE1_SV1',\n",
       " 'Length=268',\n",
       " '',\n",
       " ' Score = 78.6 bits (192),  Expect = 3.8e-18',\n",
       " ' Identities = 45/107 (42%), Positives = 67/107 (62%), Gaps = 1/107 (0%)',\n",
       " 'Query= XP_002519714.1 agamous-like MADS-box protein AGL62 [Ricinus communis]',\n",
       " '',\n",
       " 'Length=239',\n",
       " '',\n",
       " '>spQ38847AGL15_ARATH_Agamous_like_MADS_box_protein_AGL15_OSArabidopsis_thaliana_OX3702_GNAGL15_PE1_SV1',\n",
       " 'Length=268',\n",
       " '',\n",
       " ' Score = 67.0 bits (162),  Expect = 1.6e-14',\n",
       " ' Identities = 34/68 (50%), Positives = 47/68 (69%), Gaps = 0/68 (0%)',\n",
       " 'Query= XP_002519715.1 agamous-like MADS-box protein AGL61 [Ricinus communis]',\n",
       " '',\n",
       " 'Length=220',\n",
       " '',\n",
       " '>spQ38847AGL15_ARATH_Agamous_like_MADS_box_protein_AGL15_OSArabidopsis_thaliana_OX3702_GNAGL15_PE1_SV1',\n",
       " 'Length=268',\n",
       " '',\n",
       " ' Score = 70.5 bits (171),  Expect = 1.3e-15',\n",
       " ' Identities = 51/162 (31%), Positives = 77/162 (47%), Gaps = 16/162 (9%)',\n",
       " 'Query= XP_002520308.1 floral homeotic protein GLOBOSA [Ricinus communis]',\n",
       " '',\n",
       " 'Length=234',\n",
       " '',\n",
       " '>spQ38847AGL15_ARATH_Agamous_like_MADS_box_protein_AGL15_OSArabidopsis_thaliana_OX3702_GNAGL15_PE1_SV1',\n",
       " 'Length=268',\n",
       " '',\n",
       " ' Score = 107.5 bits (267),  Expect = 1.0e-26',\n",
       " ' Identities = 62/141 (43%), Positives = 95/141 (67%), Gaps = 8/141 (5%)',\n",
       " 'Query= XP_002521404.2 uncharacterized protein LOC8279107 [Ricinus communis]',\n",
       " '',\n",
       " 'Length=1112',\n",
       " '',\n",
       " '>spQ9S775PKL_ARATH_CHD3_type_chromatin_remodeling_factor_PICKLE_OSArabidopsis_thaliana_OX3702_GNPKL_PE1_SV1',\n",
       " 'Length=1384',\n",
       " '',\n",
       " ' Score = 62.0 bits (149),  Expect = 2.4e-12',\n",
       " ' Identities = 63/302 (20%), Positives = 132/302 (43%), Gaps = 49/302 (16%)',\n",
       " 'Query= XP_002522019.1 dehydration-responsive element-binding protein 2D [Ricinus communis]',\n",
       " '',\n",
       " 'Length=215',\n",
       " '',\n",
       " '>spQ6J9N8AIL7_ARATH_AP2_like_ethylene_responsive_transcription_factor_AIL7_OSArabidopsis_thaliana_OX3702_GNAIL7_PE2_SV2',\n",
       " 'Length=498',\n",
       " '',\n",
       " ' Score = 48.1 bits (113),  Expect = 6.9e-09',\n",
       " ' Identities = 25/68 (36%), Positives = 40/68 (58%), Gaps = 9/68 (13%)',\n",
       " 'Query= XP_002522084.2 agamous-like MADS-box protein AGL61 [Ricinus communis]',\n",
       " '',\n",
       " 'Length=298',\n",
       " '',\n",
       " '>spQ38847AGL15_ARATH_Agamous_like_MADS_box_protein_AGL15_OSArabidopsis_thaliana_OX3702_GNAGL15_PE1_SV1',\n",
       " 'Length=268',\n",
       " '',\n",
       " ' Score = 68.9 bits (167),  Expect = 5.2e-15',\n",
       " ' Identities = 35/83 (42%), Positives = 50/83 (60%), Gaps = 1/83 (1%)',\n",
       " 'Query= XP_002522085.1 agamous-like MADS-box protein AGL62 [Ricinus communis]',\n",
       " '',\n",
       " 'Length=217',\n",
       " '',\n",
       " '>spQ38847AGL15_ARATH_Agamous_like_MADS_box_protein_AGL15_OSArabidopsis_thaliana_OX3702_GNAGL15_PE1_SV1',\n",
       " 'Length=268',\n",
       " '',\n",
       " ' Score = 68.9 bits (167),  Expect = 3.8e-15',\n",
       " ' Identities = 51/162 (31%), Positives = 80/162 (49%), Gaps = 24/162 (14%)',\n",
       " 'Query= XP_002522740.1 nuclear transcription factor Y subunit B-9 [Ricinus communis]',\n",
       " '',\n",
       " 'Length=252',\n",
       " '',\n",
       " '>spQ84W66_2NFYB6_ARATH_Isoform_2_of_Nuclear_transcription_factor_Y_subunit_B_6_OSArabidopsis_thaliana_OX3702_GNNFYB6',\n",
       " 'Length=205',\n",
       " '',\n",
       " ' Score = 188.7 bits (478),  Expect = 3.8e-51',\n",
       " ' Identities = 102/170 (60%), Positives = 118/170 (69%), Gaps = 11/170 (6%)',\n",
       " 'Query= XP_002523193.1 nuclear transcription factor Y subunit A-7 isoform X1 [Ricinus communis]',\n",
       " '',\n",
       " 'Length=213',\n",
       " '',\n",
       " '>trA0A178VD17A0A178VD17_ARATH_NF_YA9_OSArabidopsis_thaliana_OX3702_GNAXX17_At3g22310_PE4_SV1',\n",
       " 'Length=298',\n",
       " '',\n",
       " ' Score = 105.9 bits (263),  Expect = 2.8e-26',\n",
       " ' Identities = 85/219 (38%), Positives = 112/219 (51%), Gaps = 31/219 (14%)',\n",
       " 'Query= XP_002523912.1 nuclear transcription factor Y subunit B-1 [Ricinus communis]',\n",
       " '',\n",
       " 'Length=174',\n",
       " '',\n",
       " '>Q84W66NFYB6_ARATH_Nuclear_transcription_factor_Y_subunit_B_6_OSArabidopsis_thaliana_OX3702_GNNFYB6_PE1_SV2',\n",
       " 'Length=234',\n",
       " '',\n",
       " ' Score = 146.4 bits (368),  Expect = 1.5e-38',\n",
       " ' Identities = 69/117 (58%), Positives = 94/117 (80%), Gaps = 2/117 (1%)',\n",
       " 'Query= XP_002524409.1 AP2/ERF and B3 domain-containing transcription factor RAV1 [Ricinus communis]',\n",
       " '',\n",
       " 'Length=371',\n",
       " '',\n",
       " '>spQ5YGP8PLET1_ARATH_AP2_like_ethylene_responsive_transcription_factor_PLT1_OSArabidopsis_thaliana_OX3702_GNPLT1_PE2_SV1',\n",
       " 'Length=574',\n",
       " '',\n",
       " ' Score = 56.6 bits (135),  Expect = 3.3e-11',\n",
       " ' Identities = 30/61 (49%), Positives = 45/61 (73%), Gaps = 3/61 (4%)',\n",
       " 'Query= XP_002524500.1 ethylene-responsive transcription factor WIN1 [Ricinus communis]',\n",
       " '',\n",
       " 'Length=229',\n",
       " '',\n",
       " '>spQ38914ANT_ARATH_AP2_like_ethylene_responsive_transcription_factor_ANT_OSArabidopsis_thaliana_OX3702_GNANT_PE1_SV2',\n",
       " 'Length=555',\n",
       " '',\n",
       " ' Score = 54.7 bits (130),  Expect = 7.8e-11',\n",
       " ' Identities = 30/61 (49%), Positives = 37/61 (60%), Gaps = 1/61 (1%)',\n",
       " 'Query= XP_002524826.1 DNA repair protein RAD16 [Ricinus communis]',\n",
       " '',\n",
       " 'Length=874',\n",
       " '',\n",
       " '>spQ9S775PKL_ARATH_CHD3_type_chromatin_remodeling_factor_PICKLE_OSArabidopsis_thaliana_OX3702_GNPKL_PE1_SV1',\n",
       " 'Length=1384',\n",
       " '',\n",
       " ' Score = 73.2 bits (178),  Expect = 8.1e-16',\n",
       " ' Identities = 103/464 (22%), Positives = 180/464 (38%), Gaps = 141/464 (30%)',\n",
       " 'Query= XP_002525186.1 nuclear transcription factor Y subunit B-10 [Ricinus communis]',\n",
       " '',\n",
       " 'Length=180',\n",
       " '',\n",
       " '>Q84W66NFYB6_ARATH_Nuclear_transcription_factor_Y_subunit_B_6_OSArabidopsis_thaliana_OX3702_GNNFYB6_PE1_SV2',\n",
       " 'Length=234',\n",
       " '',\n",
       " ' Score = 150.2 bits (378),  Expect = 1.1e-39',\n",
       " ' Identities = 67/108 (62%), Positives = 90/108 (83%), Gaps = 0/108 (0%)',\n",
       " 'Query= XP_002525190.2 LOW QUALITY PROTEIN: floral homeotic protein APETALA 2 [Ricinus communis]',\n",
       " '',\n",
       " 'Length=469',\n",
       " '',\n",
       " '>spQ5YGP7PLET2_ARATH_AP2_like_ethylene_responsive_transcription_factor_PLT2_OSArabidopsis_thaliana_OX3702_GNPLT2_PE2_SV1',\n",
       " 'Length=568',\n",
       " '',\n",
       " ' Score = 176.8 bits (447),  Expect = 2.8e-47',\n",
       " ' Identities = 105/248 (42%), Positives = 145/248 (58%), Gaps = 15/248 (6%)',\n",
       " 'Query= XP_002525305.1 ethylene-responsive transcription factor WRI1 isoform X1 [Ricinus communis]',\n",
       " '',\n",
       " 'Length=443',\n",
       " '',\n",
       " '>trA0A178U889A0A178U889_ARATH_AINTEGUMENTA_like_5_OSArabidopsis_thaliana_OX3702_GNAIL5_PE4_SV1',\n",
       " 'Length=440',\n",
       " '',\n",
       " ' Score = 244.6 bits (623),  Expect = 1.0e-67',\n",
       " ' Identities = 119/169 (70%), Positives = 139/169 (82%), Gaps = 3/169 (1%)',\n",
       " 'Query= XP_002525916.2 developmental protein SEPALLATA 1 [Ricinus communis]',\n",
       " '',\n",
       " 'Length=242',\n",
       " '',\n",
       " '>spQ38847AGL15_ARATH_Agamous_like_MADS_box_protein_AGL15_OSArabidopsis_thaliana_OX3702_GNAGL15_PE1_SV1',\n",
       " 'Length=268',\n",
       " '',\n",
       " ' Score = 124.0 bits (310),  Expect = 1.1e-31',\n",
       " ' Identities = 79/174 (45%), Positives = 109/174 (62%), Gaps = 7/174 (4%)',\n",
       " 'Query= XP_002525917.2 truncated transcription factor CAULIFLOWER A [Ricinus communis]',\n",
       " '',\n",
       " 'Length=250',\n",
       " '',\n",
       " '>spQ38847AGL15_ARATH_Agamous_like_MADS_box_protein_AGL15_OSArabidopsis_thaliana_OX3702_GNAGL15_PE1_SV1',\n",
       " 'Length=268',\n",
       " '',\n",
       " ' Score = 127.9 bits (320),  Expect = 8.0e-33',\n",
       " ' Identities = 80/174 (45%), Positives = 105/174 (60%), Gaps = 8/174 (4%)',\n",
       " 'Query= XP_002526423.1 agamous-like MADS-box protein AGL12 [Ricinus communis]',\n",
       " '',\n",
       " 'Length=205',\n",
       " '',\n",
       " '>spQ38847AGL15_ARATH_Agamous_like_MADS_box_protein_AGL15_OSArabidopsis_thaliana_OX3702_GNAGL15_PE1_SV1',\n",
       " 'Length=268',\n",
       " '',\n",
       " ' Score = 113.6 bits (283),  Expect = 1.3e-28',\n",
       " ' Identities = 70/192 (36%), Positives = 110/192 (57%), Gaps = 15/192 (7%)',\n",
       " 'Query= XP_002526723.1 dehydration-responsive element-binding protein 2F [Ricinus communis]',\n",
       " '',\n",
       " 'Length=300',\n",
       " '',\n",
       " '>trF4KGW7F4KGW7_ARATH_AINTEGUMENTA_like_6_OSArabidopsis_thaliana_OX3702_GNAIL6_PE4_SV1',\n",
       " 'Length=604',\n",
       " '',\n",
       " ' Score = 44.3 bits (103),  Expect = 1.4e-07',\n",
       " ' Identities = 27/56 (48%), Positives = 32/56 (57%), Gaps = 1/56 (1%)',\n",
       " 'Query= XP_002527350.1 MADS-box transcription factor 23 isoform X1 [Ricinus communis]',\n",
       " '',\n",
       " 'Length=262',\n",
       " '',\n",
       " '>spQ38847AGL15_ARATH_Agamous_like_MADS_box_protein_AGL15_OSArabidopsis_thaliana_OX3702_GNAGL15_PE1_SV1',\n",
       " 'Length=268',\n",
       " '',\n",
       " ' Score = 135.2 bits (339),  Expect = 5.2e-35',\n",
       " ' Identities = 75/151 (49%), Positives = 108/151 (71%), Gaps = 6/151 (3%)',\n",
       " 'Query= XP_002527439.1 DNA repair protein RAD5A isoform X1 [Ricinus communis]',\n",
       " '',\n",
       " 'Length=1028',\n",
       " '',\n",
       " '>spQ9S775PKL_ARATH_CHD3_type_chromatin_remodeling_factor_PICKLE_OSArabidopsis_thaliana_OX3702_GNPKL_PE1_SV1',\n",
       " 'Length=1384',\n",
       " '',\n",
       " ' Score = 95.5 bits (236),  Expect = 1.8e-22',\n",
       " ' Identities = 87/373 (23%), Positives = 162/373 (43%), Gaps = 102/373 (27%)',\n",
       " 'Query= XP_002528318.2 ethylene-responsive transcription factor ABI4 isoform X1 [Ricinus communis]',\n",
       " '',\n",
       " 'Length=396',\n",
       " '',\n",
       " '>trF4KGW7F4KGW7_ARATH_AINTEGUMENTA_like_6_OSArabidopsis_thaliana_OX3702_GNAIL6_PE4_SV1',\n",
       " 'Length=604',\n",
       " '',\n",
       " ' Score = 43.1 bits (100),  Expect = 4.1e-07',\n",
       " ' Identities = 27/58 (46%), Positives = 31/58 (53%), Gaps = 1/58 (1%)',\n",
       " 'Query= XP_002528664.1 nuclear transcription factor Y subunit B-3 [Ricinus communis]',\n",
       " '',\n",
       " 'Length=220',\n",
       " '',\n",
       " '>spQ9SFD8NFYB9_ARATH_Nuclear_transcription_factor_Y_subunit_B_9_OSArabidopsis_thaliana_OX3702_GNNFYB9_PE1_SV2',\n",
       " 'Length=238',\n",
       " '',\n",
       " ' Score = 145.6 bits (366),  Expect = 3.2e-38',\n",
       " ' Identities = 65/106 (61%), Positives = 91/106 (85%), Gaps = 0/106 (0%)',\n",
       " 'Query= XP_002529848.1 protein CHROMATIN REMODELING 8 [Ricinus communis]',\n",
       " '',\n",
       " 'Length=1230',\n",
       " '',\n",
       " '>spQ9S775PKL_ARATH_CHD3_type_chromatin_remodeling_factor_PICKLE_OSArabidopsis_thaliana_OX3702_GNPKL_PE1_SV1',\n",
       " 'Length=1384',\n",
       " '',\n",
       " ' Score = 273.5 bits (698),  Expect = 5.8e-76',\n",
       " ' Identities = 191/580 (32%), Positives = 297/580 (51%), Gaps = 63/580 (10%)',\n",
       " 'Query= XP_002530247.1 ethylene-responsive transcription factor RAP2-7 isoform X2 [Ricinus communis]',\n",
       " '',\n",
       " 'Length=499',\n",
       " '',\n",
       " '>spQ1PFE1AIL1_ARATH_AP2_like_ethylene_responsive_transcription_factor_AIL1_OSArabidopsis_thaliana_OX3702_GNAIL1_PE2_SV1',\n",
       " 'Length=415',\n",
       " '',\n",
       " ' Score = 176.0 bits (445),  Expect = 5.1e-47',\n",
       " ' Identities = 92/187 (49%), Positives = 131/187 (70%), Gaps = 11/187 (5%)',\n",
       " 'Query= XP_002530713.1 agamous-like MADS-box protein AGL61 [Ricinus communis]',\n",
       " '',\n",
       " 'Length=183',\n",
       " '',\n",
       " '>spQ38847AGL15_ARATH_Agamous_like_MADS_box_protein_AGL15_OSArabidopsis_thaliana_OX3702_GNAGL15_PE1_SV1',\n",
       " 'Length=268',\n",
       " '',\n",
       " ' Score = 68.9 bits (167),  Expect = 3.2e-15',\n",
       " ' Identities = 34/69 (49%), Positives = 45/69 (65%), Gaps = 0/69 (0%)',\n",
       " 'Query= XP_002530792.1 agamous-like MADS-box protein AGL62 [Ricinus communis]',\n",
       " '',\n",
       " 'Length=166',\n",
       " '',\n",
       " '>spQ38847AGL15_ARATH_Agamous_like_MADS_box_protein_AGL15_OSArabidopsis_thaliana_OX3702_GNAGL15_PE1_SV1',\n",
       " 'Length=268',\n",
       " '',\n",
       " ' Score = 53.9 bits (128),  Expect = 9.7e-11',\n",
       " ' Identities = 46/122 (37%), Positives = 59/122 (48%), Gaps = 23/122 (18%)',\n",
       " 'Query= XP_002531012.1 nuclear transcription factor Y subunit B-3 [Ricinus communis]',\n",
       " '',\n",
       " 'Length=182',\n",
       " '',\n",
       " '>Q84W66NFYB6_ARATH_Nuclear_transcription_factor_Y_subunit_B_6_OSArabidopsis_thaliana_OX3702_GNNFYB6_PE1_SV2',\n",
       " 'Length=234',\n",
       " '',\n",
       " ' Score = 153.7 bits (387),  Expect = 9.9e-41',\n",
       " ' Identities = 70/112 (62%), Positives = 94/112 (83%), Gaps = 0/112 (0%)',\n",
       " 'Query= XP_002531028.2 AP2-like ethylene-responsive transcription factor AIL5 [Ricinus communis]',\n",
       " '',\n",
       " 'Length=527',\n",
       " '',\n",
       " '>trA0A178U889A0A178U889_ARATH_AINTEGUMENTA_like_5_OSArabidopsis_thaliana_OX3702_GNAIL5_PE4_SV1',\n",
       " 'Length=440',\n",
       " '',\n",
       " ' Score = 429.9 bits (1104),  Expect = 2.1e-123',\n",
       " ' Identities = 231/323 (71%), Positives = 255/323 (78%), Gaps = 13/323 (4%)',\n",
       " 'Query= XP_002531994.2 agamous-like MADS-box protein AGL29 isoform X1 [Ricinus communis]',\n",
       " '',\n",
       " 'Length=212',\n",
       " '',\n",
       " '>spQ38847AGL15_ARATH_Agamous_like_MADS_box_protein_AGL15_OSArabidopsis_thaliana_OX3702_GNAGL15_PE1_SV1',\n",
       " 'Length=268',\n",
       " '',\n",
       " ' Score = 63.2 bits (152),  Expect = 2.0e-13',\n",
       " ' Identities = 46/149 (30%), Positives = 72/149 (48%), Gaps = 15/149 (10%)',\n",
       " 'Query= XP_002532356.1 AP2/ERF and B3 domain-containing transcription factor At1g51120 [Ricinus communis]',\n",
       " '',\n",
       " 'Length=325',\n",
       " '',\n",
       " '>trF4KGW7F4KGW7_ARATH_AINTEGUMENTA_like_6_OSArabidopsis_thaliana_OX3702_GNAIL6_PE4_SV1',\n",
       " 'Length=604',\n",
       " '',\n",
       " ' Score = 48.1 bits (113),  Expect = 1.0e-08',\n",
       " ' Identities = 37/88 (42%), Positives = 51/88 (57%), Gaps = 7/88 (7%)',\n",
       " 'Query= XP_002532452.2 agamous-like MADS-box protein AGL62 [Ricinus communis]',\n",
       " '',\n",
       " 'Length=241',\n",
       " '',\n",
       " '>spQ38847AGL15_ARATH_Agamous_like_MADS_box_protein_AGL15_OSArabidopsis_thaliana_OX3702_GNAGL15_PE1_SV1',\n",
       " 'Length=268',\n",
       " '',\n",
       " ' Score = 76.3 bits (186),  Expect = 2.7e-17',\n",
       " ' Identities = 43/85 (50%), Positives = 56/85 (65%), Gaps = 3/85 (3%)',\n",
       " 'Query= XP_002533305.1 floral homeotic protein DEFICIENS [Ricinus communis]',\n",
       " '',\n",
       " 'Length=235',\n",
       " '',\n",
       " '>spQ38847AGL15_ARATH_Agamous_like_MADS_box_protein_AGL15_OSArabidopsis_thaliana_OX3702_GNAGL15_PE1_SV1',\n",
       " 'Length=268',\n",
       " '',\n",
       " ' Score = 106.7 bits (265),  Expect = 1.8e-26',\n",
       " ' Identities = 73/169 (43%), Positives = 102/169 (60%), Gaps = 8/169 (4%)',\n",
       " 'Query= XP_002533686.2 MADS-box protein JOINTLESS [Ricinus communis]',\n",
       " '',\n",
       " 'Length=201',\n",
       " '',\n",
       " '>spQ38847AGL15_ARATH_Agamous_like_MADS_box_protein_AGL15_OSArabidopsis_thaliana_OX3702_GNAGL15_PE1_SV1',\n",
       " 'Length=268',\n",
       " '',\n",
       " ' Score = 112.1 bits (279),  Expect = 3.6e-28',\n",
       " ' Identities = 73/153 (47%), Positives = 102/153 (66%), Gaps = 9/153 (5%)',\n",
       " 'Query= XP_002533832.1 pathogenesis-related genes transcriptional activator PTI6 [Ricinus communis]',\n",
       " '',\n",
       " 'Length=259',\n",
       " '',\n",
       " '>trA0A178U889A0A178U889_ARATH_AINTEGUMENTA_like_5_OSArabidopsis_thaliana_OX3702_GNAIL5_PE4_SV1',\n",
       " 'Length=440',\n",
       " '',\n",
       " ' Score = 63.5 bits (153),  Expect = 1.9e-13',\n",
       " ' Identities = 49/136 (36%), Positives = 66/136 (48%), Gaps = 13/136 (9%)',\n",
       " 'Query= XP_002534454.2 agamous-like MADS-box protein AGL15 isoform X1 [Ricinus communis]',\n",
       " '',\n",
       " 'Length=255',\n",
       " '',\n",
       " '>spQ38847AGL15_ARATH_Agamous_like_MADS_box_protein_AGL15_OSArabidopsis_thaliana_OX3702_GNAGL15_PE1_SV1',\n",
       " 'Length=268',\n",
       " '',\n",
       " ' Score = 255.4 bits (651),  Expect = 3.4e-71',\n",
       " ' Identities = 145/249 (58%), Positives = 187/249 (75%), Gaps = 14/249 (5%)',\n",
       " 'Query= XP_002535292.2 AP2-like ethylene-responsive transcription factor PLT1, partial [Ricinus communis]',\n",
       " '',\n",
       " 'Length=343',\n",
       " '',\n",
       " '>spQ5YGP7PLET2_ARATH_AP2_like_ethylene_responsive_transcription_factor_PLT2_OSArabidopsis_thaliana_OX3702_GNPLT2_PE2_SV1',\n",
       " 'Length=568',\n",
       " '',\n",
       " ' Score = 429.5 bits (1103),  Expect = 1.8e-123',\n",
       " ' Identities = 252/364 (69%), Positives = 283/364 (77%), Gaps = 44/364 (12%)',\n",
       " 'Query= XP_002540255.2 nuclear transcription factor Y subunit B-6, partial [Ricinus communis]',\n",
       " '',\n",
       " 'Length=177',\n",
       " '',\n",
       " '>Q84W66NFYB6_ARATH_Nuclear_transcription_factor_Y_subunit_B_6_OSArabidopsis_thaliana_OX3702_GNNFYB6_PE1_SV2',\n",
       " 'Length=234',\n",
       " '',\n",
       " ' Score = 197.2 bits (500),  Expect = 7.6e-54',\n",
       " ' Identities = 114/188 (60%), Positives = 126/188 (67%), Gaps = 17/188 (9%)',\n",
       " 'Query= XP_015570693.1 B3 domain-containing transcription factor FUS3 isoform X2 [Ricinus communis]',\n",
       " '',\n",
       " 'Length=310',\n",
       " '',\n",
       " '>spQ9LW31FUS3_ARATH_B3_domain_containing_transcription_factor_FUS3_OSArabidopsis_thaliana_OX3702_GNFUS3_PE1_SV2',\n",
       " 'Length=313',\n",
       " '',\n",
       " ' Score = 213.8 bits (543),  Expect = 1.4e-58',\n",
       " ' Identities = 127/242 (52%), Positives = 145/242 (59%), Gaps = 45/242 (18%)',\n",
       " 'Query= XP_015571132.1 AP2-like ethylene-responsive transcription factor PLT2 [Ricinus communis]',\n",
       " '',\n",
       " 'Length=206',\n",
       " '',\n",
       " '>spQ5YGP7PLET2_ARATH_AP2_like_ethylene_responsive_transcription_factor_PLT2_OSArabidopsis_thaliana_OX3702_GNPLT2_PE2_SV1',\n",
       " 'Length=568',\n",
       " '',\n",
       " ' Score = 238.8 bits (608),  Expect = 2.6e-66',\n",
       " ' Identities = 137/223 (61%), Positives = 157/223 (70%), Gaps = 24/223 (10%)',\n",
       " 'Query= XP_015571336.1 nuclear transcription factor Y subunit A-1 [Ricinus communis]',\n",
       " '',\n",
       " 'Length=350',\n",
       " '',\n",
       " '>trA0A178VD17A0A178VD17_ARATH_NF_YA9_OSArabidopsis_thaliana_OX3702_GNAXX17_At3g22310_PE4_SV1',\n",
       " 'Length=298',\n",
       " '',\n",
       " ' Score = 186.4 bits (472),  Expect = 2.6e-50',\n",
       " ' Identities = 148/358 (41%), Positives = 188/358 (52%), Gaps = 68/358 (18%)',\n",
       " 'Query= XP_015571337.1 nuclear transcription factor Y subunit A-1 [Ricinus communis]',\n",
       " '',\n",
       " 'Length=350',\n",
       " '',\n",
       " '>trA0A178VD17A0A178VD17_ARATH_NF_YA9_OSArabidopsis_thaliana_OX3702_GNAXX17_At3g22310_PE4_SV1',\n",
       " 'Length=298',\n",
       " '',\n",
       " ' Score = 186.4 bits (472),  Expect = 2.6e-50',\n",
       " ' Identities = 148/358 (41%), Positives = 188/358 (52%), Gaps = 68/358 (18%)',\n",
       " 'Query= XP_015571338.1 nuclear transcription factor Y subunit A-1 [Ricinus communis]',\n",
       " '',\n",
       " 'Length=350',\n",
       " '',\n",
       " '>trA0A178VD17A0A178VD17_ARATH_NF_YA9_OSArabidopsis_thaliana_OX3702_GNAXX17_At3g22310_PE4_SV1',\n",
       " 'Length=298',\n",
       " '',\n",
       " ' Score = 186.4 bits (472),  Expect = 2.6e-50',\n",
       " ' Identities = 148/358 (41%), Positives = 188/358 (52%), Gaps = 68/358 (18%)',\n",
       " 'Query= XP_015571379.1 protein TRANSPARENT TESTA 16 [Ricinus communis]',\n",
       " '',\n",
       " 'Length=233',\n",
       " '',\n",
       " '>spQ38847AGL15_ARATH_Agamous_like_MADS_box_protein_AGL15_OSArabidopsis_thaliana_OX3702_GNAGL15_PE1_SV1',\n",
       " 'Length=268',\n",
       " '',\n",
       " ' Score = 125.2 bits (313),  Expect = 4.8e-32',\n",
       " ' Identities = 76/176 (43%), Positives = 110/176 (62%), Gaps = 5/176 (2%)',\n",
       " 'Query= XP_015571380.1 protein TRANSPARENT TESTA 16 [Ricinus communis]',\n",
       " '',\n",
       " 'Length=233',\n",
       " '',\n",
       " '>spQ38847AGL15_ARATH_Agamous_like_MADS_box_protein_AGL15_OSArabidopsis_thaliana_OX3702_GNAGL15_PE1_SV1',\n",
       " 'Length=268',\n",
       " '',\n",
       " ' Score = 125.2 bits (313),  Expect = 4.8e-32',\n",
       " ' Identities = 76/176 (43%), Positives = 110/176 (62%), Gaps = 5/176 (2%)',\n",
       " 'Query= XP_015571381.1 protein TRANSPARENT TESTA 16 [Ricinus communis]',\n",
       " '',\n",
       " 'Length=233',\n",
       " '',\n",
       " '>spQ38847AGL15_ARATH_Agamous_like_MADS_box_protein_AGL15_OSArabidopsis_thaliana_OX3702_GNAGL15_PE1_SV1',\n",
       " 'Length=268',\n",
       " '',\n",
       " ' Score = 125.2 bits (313),  Expect = 4.8e-32',\n",
       " ' Identities = 76/176 (43%), Positives = 110/176 (62%), Gaps = 5/176 (2%)',\n",
       " 'Query= XP_015571382.1 protein TRANSPARENT TESTA 16 [Ricinus communis]',\n",
       " '',\n",
       " 'Length=233',\n",
       " '',\n",
       " '>spQ38847AGL15_ARATH_Agamous_like_MADS_box_protein_AGL15_OSArabidopsis_thaliana_OX3702_GNAGL15_PE1_SV1',\n",
       " 'Length=268',\n",
       " '',\n",
       " ' Score = 125.2 bits (313),  Expect = 4.8e-32',\n",
       " ' Identities = 76/176 (43%), Positives = 110/176 (62%), Gaps = 5/176 (2%)',\n",
       " 'Query= XP_015571455.1 MADS-box protein SVP isoform X1 [Ricinus communis]',\n",
       " '',\n",
       " 'Length=225',\n",
       " '',\n",
       " '>spQ38847AGL15_ARATH_Agamous_like_MADS_box_protein_AGL15_OSArabidopsis_thaliana_OX3702_GNAGL15_PE1_SV1',\n",
       " 'Length=268',\n",
       " '',\n",
       " ' Score = 120.6 bits (301),  Expect = 1.1e-30',\n",
       " ' Identities = 90/230 (39%), Positives = 139/230 (60%), Gaps = 20/230 (8%)',\n",
       " 'Query= XP_015571470.1 agamous-like MADS-box protein AGL104 [Ricinus communis]',\n",
       " '',\n",
       " 'Length=347',\n",
       " '',\n",
       " '>spQ38847AGL15_ARATH_Agamous_like_MADS_box_protein_AGL15_OSArabidopsis_thaliana_OX3702_GNAGL15_PE1_SV1',\n",
       " 'Length=268',\n",
       " '',\n",
       " ' Score = 84.3 bits (207),  Expect = 1.4e-19',\n",
       " ' Identities = 42/72 (58%), Positives = 56/72 (77%), Gaps = 1/72 (1%)',\n",
       " 'Query= XP_015571745.1 nuclear transcription factor Y subunit A-3 isoform X1 [Ricinus communis]',\n",
       " '',\n",
       " 'Length=331',\n",
       " '',\n",
       " '>trA0A178VD17A0A178VD17_ARATH_NF_YA9_OSArabidopsis_thaliana_OX3702_GNAXX17_At3g22310_PE4_SV1',\n",
       " 'Length=298',\n",
       " '',\n",
       " ' Score = 102.1 bits (253),  Expect = 6.2e-25',\n",
       " ' Identities = 55/120 (45%), Positives = 71/120 (59%), Gaps = 5/120 (4%)',\n",
       " 'Query= XP_015571747.1 nuclear transcription factor Y subunit A-3 isoform X1 [Ricinus communis]',\n",
       " '',\n",
       " 'Length=331',\n",
       " '',\n",
       " '>trA0A178VD17A0A178VD17_ARATH_NF_YA9_OSArabidopsis_thaliana_OX3702_GNAXX17_At3g22310_PE4_SV1',\n",
       " 'Length=298',\n",
       " '',\n",
       " ' Score = 102.1 bits (253),  Expect = 6.2e-25',\n",
       " ' Identities = 55/120 (45%), Positives = 71/120 (59%), Gaps = 5/120 (4%)',\n",
       " 'Query= XP_015571748.1 nuclear transcription factor Y subunit A-3 isoform X1 [Ricinus communis]',\n",
       " '',\n",
       " 'Length=331',\n",
       " '',\n",
       " '>trA0A178VD17A0A178VD17_ARATH_NF_YA9_OSArabidopsis_thaliana_OX3702_GNAXX17_At3g22310_PE4_SV1',\n",
       " 'Length=298',\n",
       " '',\n",
       " ' Score = 102.1 bits (253),  Expect = 6.2e-25',\n",
       " ' Identities = 55/120 (45%), Positives = 71/120 (59%), Gaps = 5/120 (4%)',\n",
       " 'Query= XP_015571749.1 nuclear transcription factor Y subunit A-3 isoform X1 [Ricinus communis]',\n",
       " '',\n",
       " 'Length=331',\n",
       " '',\n",
       " '>trA0A178VD17A0A178VD17_ARATH_NF_YA9_OSArabidopsis_thaliana_OX3702_GNAXX17_At3g22310_PE4_SV1',\n",
       " 'Length=298',\n",
       " '',\n",
       " ' Score = 102.1 bits (253),  Expect = 6.2e-25',\n",
       " ' Identities = 55/120 (45%), Positives = 71/120 (59%), Gaps = 5/120 (4%)',\n",
       " 'Query= XP_015571750.1 nuclear transcription factor Y subunit A-3 isoform X2 [Ricinus communis]',\n",
       " '',\n",
       " 'Length=327',\n",
       " '',\n",
       " '>trA0A178VD17A0A178VD17_ARATH_NF_YA9_OSArabidopsis_thaliana_OX3702_GNAXX17_At3g22310_PE4_SV1',\n",
       " 'Length=298',\n",
       " '',\n",
       " ' Score = 103.6 bits (257),  Expect = 2.1e-25',\n",
       " ' Identities = 54/116 (46%), Positives = 70/116 (60%), Gaps = 1/116 (0%)',\n",
       " 'Query= XP_015571751.1 nuclear transcription factor Y subunit A-3 isoform X2 [Ricinus communis]',\n",
       " '',\n",
       " 'Length=327',\n",
       " '',\n",
       " '>trA0A178VD17A0A178VD17_ARATH_NF_YA9_OSArabidopsis_thaliana_OX3702_GNAXX17_At3g22310_PE4_SV1',\n",
       " 'Length=298',\n",
       " '',\n",
       " ' Score = 103.6 bits (257),  Expect = 2.1e-25',\n",
       " ' Identities = 54/116 (46%), Positives = 70/116 (60%), Gaps = 1/116 (0%)',\n",
       " 'Query= XP_015571924.1 DNA annealing helicase and endonuclease ZRANB3 [Ricinus communis]',\n",
       " '',\n",
       " 'Length=1204',\n",
       " '',\n",
       " '>spQ9S775PKL_ARATH_CHD3_type_chromatin_remodeling_factor_PICKLE_OSArabidopsis_thaliana_OX3702_GNPKL_PE1_SV1',\n",
       " 'Length=1384',\n",
       " '',\n",
       " ' Score = 132.1 bits (331),  Expect = 2.0e-33',\n",
       " ' Identities = 163/676 (24%), Positives = 285/676 (42%), Gaps = 109/676 (16%)',\n",
       " 'Query= XP_015572064.1 agamous-like MADS-box protein AGL65 isoform X1 [Ricinus communis]',\n",
       " '',\n",
       " 'Length=358',\n",
       " '',\n",
       " '>spQ38847AGL15_ARATH_Agamous_like_MADS_box_protein_AGL15_OSArabidopsis_thaliana_OX3702_GNAGL15_PE1_SV1',\n",
       " 'Length=268',\n",
       " '',\n",
       " ' Score = 74.7 bits (182),  Expect = 1.1e-16',\n",
       " ' Identities = 52/170 (30%), Positives = 100/170 (58%), Gaps = 7/170 (4%)',\n",
       " 'Query= XP_015572066.1 agamous-like MADS-box protein AGL65 isoform X2 [Ricinus communis]',\n",
       " '',\n",
       " 'Length=357',\n",
       " '',\n",
       " '>spQ38847AGL15_ARATH_Agamous_like_MADS_box_protein_AGL15_OSArabidopsis_thaliana_OX3702_GNAGL15_PE1_SV1',\n",
       " 'Length=268',\n",
       " '',\n",
       " ' Score = 73.6 bits (179),  Expect = 2.5e-16',\n",
       " ' Identities = 52/170 (30%), Positives = 103/170 (60%), Gaps = 8/170 (4%)',\n",
       " 'Query= XP_015572169.1 MADS-box protein EJ2 [Ricinus communis]',\n",
       " '',\n",
       " 'Length=190',\n",
       " '',\n",
       " '>spQ38847AGL15_ARATH_Agamous_like_MADS_box_protein_AGL15_OSArabidopsis_thaliana_OX3702_GNAGL15_PE1_SV1',\n",
       " 'Length=268',\n",
       " '',\n",
       " ' Score = 110.2 bits (274),  Expect = 1.3e-27',\n",
       " ' Identities = 71/174 (40%), Positives = 100/174 (57%), Gaps = 7/174 (4%)',\n",
       " 'Query= XP_015572170.1 AP2-like ethylene-responsive transcription factor BBM2 [Ricinus communis]',\n",
       " '',\n",
       " 'Length=732',\n",
       " '',\n",
       " '>spQ6PQQ4BBM_ARATH_AP2_like_ethylene_responsive_transcription_factor_BBM_OSArabidopsis_thaliana_OX3702_GNBBM_PE2_SV2',\n",
       " 'Length=584',\n",
       " '',\n",
       " ' Score = 404.8 bits (1039),  Expect = 9.9e-116',\n",
       " ' Identities = 283/532 (53%), Positives = 320/532 (60%), Gaps = 113/532 (21%)',\n",
       " 'Query= XP_015572264.1 agamous-like MADS-box protein AGL9 homolog isoform X1 [Ricinus communis]',\n",
       " '',\n",
       " 'Length=248',\n",
       " '',\n",
       " '>spQ38847AGL15_ARATH_Agamous_like_MADS_box_protein_AGL15_OSArabidopsis_thaliana_OX3702_GNAGL15_PE1_SV1',\n",
       " 'Length=268',\n",
       " '',\n",
       " ' Score = 123.6 bits (309),  Expect = 1.5e-31',\n",
       " ' Identities = 79/173 (45%), Positives = 114/173 (65%), Gaps = 9/173 (5%)',\n",
       " 'Query= XP_015572387.1 agamous-like MADS-box protein AGL11 isoform X1 [Ricinus communis]',\n",
       " '',\n",
       " 'Length=231',\n",
       " '',\n",
       " '>spQ38847AGL15_ARATH_Agamous_like_MADS_box_protein_AGL15_OSArabidopsis_thaliana_OX3702_GNAGL15_PE1_SV1',\n",
       " 'Length=268',\n",
       " '',\n",
       " ' Score = 132.1 bits (331),  Expect = 3.9e-34',\n",
       " ' Identities = 84/176 (47%), Positives = 112/176 (63%), Gaps = 11/176 (6%)',\n",
       " 'Query= XP_015572395.1 agamous-like MADS-box protein AGL11 isoform X2 [Ricinus communis]',\n",
       " '',\n",
       " 'Length=223',\n",
       " '',\n",
       " '>spQ38847AGL15_ARATH_Agamous_like_MADS_box_protein_AGL15_OSArabidopsis_thaliana_OX3702_GNAGL15_PE1_SV1',\n",
       " 'Length=268',\n",
       " '',\n",
       " ' Score = 132.5 bits (332),  Expect = 2.9e-34',\n",
       " ' Identities = 84/176 (47%), Positives = 112/176 (63%), Gaps = 11/176 (6%)',\n",
       " 'Query= XP_015572503.1 agamous-like MADS-box protein AGL104 isoform X1 [Ricinus communis]',\n",
       " '',\n",
       " 'Length=331',\n",
       " '',\n",
       " '>spQ38847AGL15_ARATH_Agamous_like_MADS_box_protein_AGL15_OSArabidopsis_thaliana_OX3702_GNAGL15_PE1_SV1',\n",
       " 'Length=268',\n",
       " '',\n",
       " ' Score = 89.0 bits (219),  Expect = 5.4e-21',\n",
       " ' Identities = 66/177 (37%), Positives = 101/177 (57%), Gaps = 15/177 (8%)',\n",
       " 'Query= XP_015573004.1 protein CHROMATIN REMODELING 24 [Ricinus communis]',\n",
       " '',\n",
       " 'Length=1119',\n",
       " '',\n",
       " '>spQ9S775PKL_ARATH_CHD3_type_chromatin_remodeling_factor_PICKLE_OSArabidopsis_thaliana_OX3702_GNPKL_PE1_SV1',\n",
       " 'Length=1384',\n",
       " '',\n",
       " ' Score = 221.9 bits (564),  Expect = 1.8e-60',\n",
       " ' Identities = 168/568 (29%), Positives = 284/568 (50%), Gaps = 101/568 (17%)',\n",
       " 'Query= XP_015573309.1 ISWI chromatin-remodeling complex ATPase CHR11 [Ricinus communis]',\n",
       " '',\n",
       " 'Length=1064',\n",
       " '',\n",
       " '>spQ9S775PKL_ARATH_CHD3_type_chromatin_remodeling_factor_PICKLE_OSArabidopsis_thaliana_OX3702_GNPKL_PE1_SV1',\n",
       " 'Length=1384',\n",
       " '',\n",
       " ' Score = 418.3 bits (1074),  Expect = 1.3e-119',\n",
       " ' Identities = 288/854 (33%), Positives = 443/854 (51%), Gaps = 93/854 (10%)',\n",
       " 'Query= XP_015573366.1 ethylene-responsive transcription factor RAP2-3 isoform X2 [Ricinus communis]',\n",
       " '',\n",
       " 'Length=245',\n",
       " '',\n",
       " '>spQ1PFE1AIL1_ARATH_AP2_like_ethylene_responsive_transcription_factor_AIL1_OSArabidopsis_thaliana_OX3702_GNAIL1_PE2_SV1',\n",
       " 'Length=415',\n",
       " '',\n",
       " ' Score = 48.1 bits (113),  Expect = 7.9e-09',\n",
       " ' Identities = 35/99 (35%), Positives = 50/99 (50%), Gaps = 3/99 (3%)',\n",
       " 'Query= XP_015573614.1 SNF2 domain-containing protein CLASSY 3 isoform X1 [Ricinus communis]',\n",
       " '',\n",
       " 'Length=1139',\n",
       " '',\n",
       " '>spQ9S775PKL_ARATH_CHD3_type_chromatin_remodeling_factor_PICKLE_OSArabidopsis_thaliana_OX3702_GNPKL_PE1_SV1',\n",
       " 'Length=1384',\n",
       " '',\n",
       " ' Score = 110.2 bits (274),  Expect = 7.8e-27',\n",
       " ' Identities = 136/547 (24%), Positives = 223/547 (40%), Gaps = 96/547 (17%)',\n",
       " 'Query= XP_015573687.1 AP2-like ethylene-responsive transcription factor At1g79700 [Ricinus communis]',\n",
       " '',\n",
       " 'Length=375',\n",
       " '',\n",
       " '>spQ6PQQ4BBM_ARATH_AP2_like_ethylene_responsive_transcription_factor_BBM_OSArabidopsis_thaliana_OX3702_GNBBM_PE2_SV2',\n",
       " 'Length=584',\n",
       " '',\n",
       " ' Score = 256.9 bits (655),  Expect = 1.7e-71',\n",
       " ' Identities = 127/219 (57%), Positives = 167/219 (76%), Gaps = 3/219 (1%)',\n",
       " 'Query= XP_015573876.1 nuclear transcription factor Y subunit A-1 isoform X2 [Ricinus communis]',\n",
       " '',\n",
       " 'Length=310',\n",
       " '',\n",
       " '>trA0A178VD17A0A178VD17_ARATH_NF_YA9_OSArabidopsis_thaliana_OX3702_GNAXX17_At3g22310_PE4_SV1',\n",
       " 'Length=298',\n",
       " '',\n",
       " ' Score = 137.9 bits (346),  Expect = 9.5e-36',\n",
       " ' Identities = 104/245 (42%), Positives = 136/245 (55%), Gaps = 31/245 (12%)',\n",
       " 'Query= XP_015574734.1 SWI/SNF-related matrix-associated actin-dependent regulator of chromatin subfamily A-like protein 1 isoform X2 [Ricinus communis]',\n",
       " '',\n",
       " 'Length=667',\n",
       " '',\n",
       " '>spQ9S775PKL_ARATH_CHD3_type_chromatin_remodeling_factor_PICKLE_OSArabidopsis_thaliana_OX3702_GNPKL_PE1_SV1',\n",
       " 'Length=1384',\n",
       " '',\n",
       " ' Score = 139.4 bits (350),  Expect = 7.1e-36',\n",
       " ' Identities = 125/486 (25%), Positives = 222/486 (45%), Gaps = 55/486 (11%)',\n",
       " 'Query= XP_015575434.1 floral homeotic protein AGAMOUS [Ricinus communis]',\n",
       " '',\n",
       " 'Length=320',\n",
       " '',\n",
       " '>spQ38847AGL15_ARATH_Agamous_like_MADS_box_protein_AGL15_OSArabidopsis_thaliana_OX3702_GNAGL15_PE1_SV1',\n",
       " 'Length=268',\n",
       " '',\n",
       " ' Score = 129.0 bits (323),  Expect = 4.6e-33',\n",
       " ' Identities = 75/172 (43%), Positives = 107/172 (62%), Gaps = 7/172 (4%)',\n",
       " 'Query= XP_015576091.1 AP2-like ethylene-responsive transcription factor AIL1 [Ricinus communis]',\n",
       " '',\n",
       " 'Length=616',\n",
       " '',\n",
       " '>spQ1PFE1AIL1_ARATH_AP2_like_ethylene_responsive_transcription_factor_AIL1_OSArabidopsis_thaliana_OX3702_GNAIL1_PE2_SV1',\n",
       " 'Length=415',\n",
       " '',\n",
       " ' Score = 389.0 bits (998),  Expect = 4.7e-111',\n",
       " ' Identities = 247/499 (49%), Positives = 287/499 (57%), Gaps = 120/499 (24%)',\n",
       " 'Query= XP_015576131.1 nuclear transcription factor Y subunit A-3 isoform X2 [Ricinus communis]',\n",
       " ...]"
      ]
     },
     "execution_count": 90,
     "metadata": {},
     "output_type": "execute_result"
    }
   ],
   "source": [
    "#Lo siguiente fue decantar todos los matches para descartar los queries vacíos:\n",
    "def lista_de_matches(x):\n",
    "    i=0\n",
    "    query=[]\n",
    "    while i < (len(x)-4):\n",
    "        if len(x[i])!=0:\n",
    "            if x[i][0] == \">\":\n",
    "                query= query + x[i-4:i+5]\n",
    "        i=i+1\n",
    "    return query\n",
    "matches=lista_de_matches(blast_output)\n",
    "matches"
   ]
  },
  {
   "cell_type": "markdown",
   "metadata": {},
   "source": [
    "## Análisis de las proteínas con homologías"
   ]
  },
  {
   "cell_type": "markdown",
   "metadata": {},
   "source": [
    "### ANT"
   ]
  },
  {
   "cell_type": "code",
   "execution_count": 92,
   "metadata": {},
   "outputs": [
    {
     "data": {
      "text/plain": [
       "('Query= XP_025015758.1 LOW QUALITY PROTEIN: floral homeotic protein APETALA 2 [Ricinus communis]',\n",
       " ' Score = 175.3 bits (443),  Expect = 8.4e-47')"
      ]
     },
     "execution_count": 92,
     "metadata": {},
     "output_type": "execute_result"
    }
   ],
   "source": [
    "#Éste código se realizó para buscar las proteínas con homologías metiendo el nombre de la proteína y la lista de matches.\n",
    "#La salida es el query para conocer el ID de la proteína de higuerilla con la que hizo match, y el e-value del alineamiento.\n",
    "def query_evalue(lista, proteina):\n",
    "    i=0\n",
    "    b=len(proteina)\n",
    "    prot=\"\"\n",
    "    e_value=[]\n",
    "    query=[]\n",
    "    while i < len(lista):\n",
    "        if len(lista[i])!=0:\n",
    "            if lista[i][0] == \">\":\n",
    "                j=1\n",
    "                while j< len(lista[i]):\n",
    "                    if lista[i][j:j+b] == proteina:\n",
    "                        prot= lista[i][j:j+b]\n",
    "                        e_value= lista[i+3]\n",
    "                        query = lista[i-4]\n",
    "                    j=j+1\n",
    "        i=i+1\n",
    "    return query,e_value\n",
    "\n",
    "query_evalue(matches, \"ANT\")"
   ]
  },
  {
   "cell_type": "code",
   "execution_count": 95,
   "metadata": {},
   "outputs": [
    {
     "name": "stdout",
     "output_type": "stream",
     "text": [
      "\n",
      "XP_025015758.1\n",
      "LOCUS:XP_025015758\n",
      "SOURCE:Ricinus communis (castor bean)\n",
      "[MODEL REFSEQ: This record is predicted by automated computational analysis. This record is derived from a genomic sequence (NW_002995406.1) annotated using gene prediction method: Gnomon.~Also see:~ Documentation of NCBI's Annotation Process~; ; ##Genome-Annotation-Data-START## ; Annotation Provider :: NCBI ; Annotation Status :: Full annotation ; Annotation Name :: Ricinus communis Annotation Release 101 ; Annotation Version :: 101 ; Annotation Pipeline :: NCBI eukaryotic genome annotation pipeline ; Annotation Software Version :: 8.0 ; Annotation Method :: Best-placed RefSeq; Gnomon ; Features Annotated :: Gene; mRNA; CDS; ncRNA ; ##Genome-Annotation-Data-END##; ; ##RefSeq-Attributes-START## ; frameshifts :: corrected 1 indel ; ##RefSeq-Attributes-END##; COMPLETENESS: full length.\n"
     ]
    }
   ],
   "source": [
    "#Conociendo el ID de la proteína, se añadió el siguiente código para realizar una búsqueda a través de Entrez\n",
    "#con el objetivo de conocer qué tan descrita está o si registra la misma función que la proteína en el organismo modelo.\n",
    "from Bio import Entrez\n",
    "from Bio import SeqIO\n",
    "f_t = ['XP_025015758.1'] \n",
    "Entrez.email = \"gangulo@eafit.edu.co\"\n",
    "\n",
    "for prot in f_t:\n",
    "    print()\n",
    "    print(prot)\n",
    "    proteina = Entrez.efetch(db=\"protein\", id=prot, retmode=\"xml\")\n",
    "    proteinaXML = Entrez.read(proteina)[0]\n",
    "    print(\"LOCUS:\"+proteinaXML[\"GBSeq_locus\"])\n",
    "    print(\"SOURCE:\"+proteinaXML[\"GBSeq_source\"])\n",
    "    info = proteinaXML[\"GBSeq_comment\"].split(\"[\")\n",
    "    newl = []\n",
    "    for e in info:\n",
    "        newl.append(\"[\"+e)\n",
    "\n",
    "for ne in newl:\n",
    "    print(ne)"
   ]
  },
  {
   "cell_type": "code",
   "execution_count": 97,
   "metadata": {},
   "outputs": [],
   "source": []
  },
  {
   "cell_type": "code",
   "execution_count": 107,
   "metadata": {},
   "outputs": [
    {
     "name": "stdout",
     "output_type": "stream",
     "text": [
      "\n",
      "Q38914\n",
      "LOCUS:ANT_ARATH\n",
      "SOURCE:Arabidopsis thaliana (thale cress)\n",
      "[On or before Nov 22, 2005 this sequence version replaced gi:75319672, gi:75220707.; \n",
      "[FUNCTION] Transcription activator that recognizes and binds to the DNA consensus sequence 5'-CAC\n",
      "[AG]N\n",
      "[AT]TNCCNANG-3'. Required for the initiation and growth of ovules integumenta, and for the development of female gametophyte. Plays a critical role in the development of gynoecium marginal tissues (e.g. stigma, style and septa), and in the fusion of carpels and of medial ridges leading to ovule primordia. Also involved in organs initiation and development, including floral organs. Maintains the meristematic competence of cells and consequently sustains expression of cell cycle regulators during organogenesis, thus controlling the final size of each organ by controlling their cell number. Regulates INO autoinduction and expression pattern. As ANT promotes petal cell identity and mediates down-regulation of AG in flower whorl 2, it functions as a class A homeotic gene. {ECO:0000269|PubMed:10528263, ECO:0000269|PubMed:10639184, ECO:0000269|PubMed:10948255, ECO:0000269|PubMed:11041883, ECO:0000269|PubMed:12183381, ECO:0000269|PubMed:12271029, ECO:0000269|PubMed:12655002, ECO:0000269|PubMed:8742706, ECO:0000269|PubMed:8742707, ECO:0000269|PubMed:9001406, ECO:0000269|PubMed:9093862, ECO:0000269|PubMed:9118807}.; \n",
      "[SUBCELLULAR LOCATION] Nucleus {ECO:0000305}.; \n",
      "[TISSUE SPECIFICITY] Mostly expressed in developing flowers. Also present in mature flowers, siliques and seedlings, but not in mature roots, leaves and stems. Expressed in ovules and in vegetative and floral primordia. {ECO:0000269|PubMed:15988559, ECO:0000269|PubMed:8742706, ECO:0000269|PubMed:8742707}.; \n",
      "[DEVELOPMENTAL STAGE] Expressed in floral primordia, in STM-negative region, then in sepal primordia. As sepal develops, progressively confined to a basal core before disappearing. Present in stamen primordia, then confined to a central region as they become stalked and develop locules. Later reduced to procambial cells as stamen mature. From petal primordia, expressed on the lateral edges of developing petals and finally confined to petal epidermis before disappearing. Present in carpel primordia, then in inner side of carpels especially in the placenta. Strong levels in ovules primordia and young ovules, then localized in integuments initiation zone before being confined to inner integument cells that will differentiate into the endothelium. Expressed in the distal half of the funiculus throughout ovule development and later extends into the chalaza. After fertilization, expression shift to the embryo. First on the apical part at the globular stage, then in cotyledons primordia, and later in cotyledons during the torpedo stage. As cotyledons grow out, expression becomes limited to a plane separating adaxial and abaxial parts. Excluded from the embryonic central region (ECR). In seedlings, found in leaf primordia then in central and lateral actively developing regions of extending leaves. {ECO:0000269|PubMed:10656774, ECO:0000269|PubMed:8742707, ECO:0000269|PubMed:9671577}.; \n",
      "[SIMILARITY] Belongs to the AP2/ERF transcription factor family. AP2 subfamily. {ECO:0000305}.\n"
     ]
    }
   ],
   "source": [
    "from Bio import Entrez\n",
    "from Bio import SeqIO\n",
    "f_t = [ANT] \n",
    "Entrez.email = \"gangulo@eafit.edu.co\"\n",
    "\n",
    "for prot in f_t:\n",
    "    print()\n",
    "    print(prot)\n",
    "    proteina = Entrez.efetch(db=\"protein\", id=prot, retmode=\"xml\")\n",
    "    proteinaXML = Entrez.read(proteina)[0]\n",
    "    print(\"LOCUS:\"+proteinaXML[\"GBSeq_locus\"])\n",
    "    print(\"SOURCE:\"+proteinaXML[\"GBSeq_source\"])\n",
    "    info = proteinaXML[\"GBSeq_comment\"].split(\"[\")\n",
    "    newl = []\n",
    "    for e in info:\n",
    "        newl.append(\"[\"+e)\n",
    "\n",
    "for ne in newl:\n",
    "    print(ne)"
   ]
  },
  {
   "cell_type": "markdown",
   "metadata": {},
   "source": [
    "### AIL1"
   ]
  },
  {
   "cell_type": "code",
   "execution_count": 119,
   "metadata": {},
   "outputs": [
    {
     "data": {
      "text/plain": [
       "('Query= XP_025013972.1 floral homeotic protein APETALA 2 isoform X4 [Ricinus communis]',\n",
       " ' Score = 175.3 bits (443),  Expect = 7.5e-47')"
      ]
     },
     "execution_count": 119,
     "metadata": {},
     "output_type": "execute_result"
    }
   ],
   "source": [
    "def query_evalue(lista, proteina):\n",
    "    i=0\n",
    "    b=len(proteina)\n",
    "    prot=\"\"\n",
    "    e_value=[]\n",
    "    query=[]\n",
    "    while i < len(lista):\n",
    "        if len(lista[i])!=0:\n",
    "            if lista[i][0] == \">\":\n",
    "                j=1\n",
    "                while j< len(lista[i]):\n",
    "                    if lista[i][j:j+b] == proteina:\n",
    "                        prot= lista[i][j:j+b]\n",
    "                        e_value= lista[i+3]\n",
    "                        query = lista[i-4]\n",
    "                    j=j+1\n",
    "        i=i+1\n",
    "    return query,e_value\n",
    "\n",
    "query_evalue(matches, \"AIL1\")"
   ]
  },
  {
   "cell_type": "code",
   "execution_count": 121,
   "metadata": {},
   "outputs": [
    {
     "name": "stdout",
     "output_type": "stream",
     "text": [
      "\n",
      "XP_025013972.1\n",
      "LOCUS:XP_025013972\n",
      "SOURCE:Ricinus communis (castor bean)\n",
      "[MODEL REFSEQ: This record is predicted by automated computational analysis. This record is derived from a genomic sequence (NW_002994429.1) annotated using gene prediction method: Gnomon.~Also see:~ Documentation of NCBI's Annotation Process~; ; ##Genome-Annotation-Data-START## ; Annotation Provider :: NCBI ; Annotation Status :: Full annotation ; Annotation Name :: Ricinus communis Annotation Release 101 ; Annotation Version :: 101 ; Annotation Pipeline :: NCBI eukaryotic genome annotation pipeline ; Annotation Software Version :: 8.0 ; Annotation Method :: Best-placed RefSeq; Gnomon ; Features Annotated :: Gene; mRNA; CDS; ncRNA ; ##Genome-Annotation-Data-END##; COMPLETENESS: full length.\n"
     ]
    }
   ],
   "source": [
    "from Bio import Entrez\n",
    "from Bio import SeqIO\n",
    "f_t = [\"XP_025013972.1\"] \n",
    "Entrez.email = \"gangulo@eafit.edu.co\"\n",
    "\n",
    "for prot in f_t:\n",
    "    print()\n",
    "    print(prot)\n",
    "    proteina = Entrez.efetch(db=\"protein\", id=prot, retmode=\"xml\")\n",
    "    proteinaXML = Entrez.read(proteina)[0]\n",
    "    print(\"LOCUS:\"+proteinaXML[\"GBSeq_locus\"])\n",
    "    print(\"SOURCE:\"+proteinaXML[\"GBSeq_source\"])\n",
    "    info = proteinaXML[\"GBSeq_comment\"].split(\"[\")\n",
    "    newl = []\n",
    "    for e in info:\n",
    "        newl.append(\"[\"+e)\n",
    "\n",
    "for ne in newl:\n",
    "    print(ne)"
   ]
  },
  {
   "cell_type": "code",
   "execution_count": 122,
   "metadata": {},
   "outputs": [
    {
     "name": "stdout",
     "output_type": "stream",
     "text": [
      "\n",
      "Q1PFE1\n",
      "LOCUS:AIL1_ARATH\n",
      "SOURCE:Arabidopsis thaliana (thale cress)\n",
      "[On or before Jun 16, 2007 this sequence version replaced gi:75260422, gi:75262280.; \n",
      "[FUNCTION] Probably acts as a transcriptional activator. Binds to the GCC-box pathogenesis-related promoter element. May be involved in the regulation of gene expression by stress factors and by components of stress signal transduction pathways (By similarity). {ECO:0000250}.; \n",
      "[SUBCELLULAR LOCATION] Nucleus {ECO:0000305}.; \n",
      "[TISSUE SPECIFICITY] Expressed in roots, seedlings, inflorescence, and siliques. Also detected at low levels in leaves. {ECO:0000269|PubMed:15988559}.; \n",
      "[SIMILARITY] Belongs to the AP2/ERF transcription factor family. AP2 subfamily. {ECO:0000305}.; \n",
      "[SEQUENCE CAUTION] Sequence=AAG51860.1; Type=Erroneous gene model prediction; Evidence={ECO:0000305}; Sequence=ABK28464.1; Type=Erroneous termination; Positions=416; Note=Translated as stop.; Evidence={ECO:0000305}.\n"
     ]
    }
   ],
   "source": [
    "from Bio import Entrez\n",
    "from Bio import SeqIO\n",
    "f_t = [AIL1] \n",
    "Entrez.email = \"gangulo@eafit.edu.co\"\n",
    "\n",
    "for prot in f_t:\n",
    "    print()\n",
    "    print(prot)\n",
    "    proteina = Entrez.efetch(db=\"protein\", id=prot, retmode=\"xml\")\n",
    "    proteinaXML = Entrez.read(proteina)[0]\n",
    "    print(\"LOCUS:\"+proteinaXML[\"GBSeq_locus\"])\n",
    "    print(\"SOURCE:\"+proteinaXML[\"GBSeq_source\"])\n",
    "    info = proteinaXML[\"GBSeq_comment\"].split(\"[\")\n",
    "    newl = []\n",
    "    for e in info:\n",
    "        newl.append(\"[\"+e)\n",
    "\n",
    "for ne in newl:\n",
    "    print(ne)"
   ]
  },
  {
   "cell_type": "markdown",
   "metadata": {},
   "source": [
    "### PLT1"
   ]
  },
  {
   "cell_type": "code",
   "execution_count": 124,
   "metadata": {},
   "outputs": [
    {
     "data": {
      "text/plain": [
       "('Query= XP_002524409.1 AP2/ERF and B3 domain-containing transcription factor RAV1 [Ricinus communis]',\n",
       " ' Score = 56.6 bits (135),  Expect = 3.3e-11')"
      ]
     },
     "execution_count": 124,
     "metadata": {},
     "output_type": "execute_result"
    }
   ],
   "source": [
    "def query_evalue(lista, proteina):\n",
    "    i=0\n",
    "    b=len(proteina)\n",
    "    prot=\"\"\n",
    "    e_value=[]\n",
    "    query=[]\n",
    "    while i < len(lista):\n",
    "        if len(lista[i])!=0:\n",
    "            if lista[i][0] == \">\":\n",
    "                j=1\n",
    "                while j< len(lista[i]):\n",
    "                    if lista[i][j:j+b] == proteina:\n",
    "                        prot= lista[i][j:j+b]\n",
    "                        e_value= lista[i+3]\n",
    "                        query = lista[i-4]\n",
    "                    j=j+1\n",
    "        i=i+1\n",
    "    return query,e_value\n",
    "\n",
    "query_evalue(matches, \"PLT1\")"
   ]
  },
  {
   "cell_type": "code",
   "execution_count": 125,
   "metadata": {},
   "outputs": [
    {
     "name": "stdout",
     "output_type": "stream",
     "text": [
      "\n",
      "XP_002524409.1\n",
      "LOCUS:XP_002524409\n",
      "SOURCE:Ricinus communis (castor bean)\n",
      "[MODEL REFSEQ: This record is predicted by automated computational analysis. This record is derived from a genomic sequence (NW_002994440.1) annotated using gene prediction method: Gnomon, supported by EST evidence.~Also see:~ Documentation of NCBI's Annotation Process~; ; ##Genome-Annotation-Data-START## ; Annotation Provider :: NCBI ; Annotation Status :: Full annotation ; Annotation Name :: Ricinus communis Annotation Release 101 ; Annotation Version :: 101 ; Annotation Pipeline :: NCBI eukaryotic genome annotation pipeline ; Annotation Software Version :: 8.0 ; Annotation Method :: Best-placed RefSeq; Gnomon ; Features Annotated :: Gene; mRNA; CDS; ncRNA ; ##Genome-Annotation-Data-END##; COMPLETENESS: full length.\n"
     ]
    }
   ],
   "source": [
    "from Bio import Entrez\n",
    "from Bio import SeqIO\n",
    "f_t = [\"XP_002524409.1\"] \n",
    "Entrez.email = \"gangulo@eafit.edu.co\"\n",
    "\n",
    "for prot in f_t:\n",
    "    print()\n",
    "    print(prot)\n",
    "    proteina = Entrez.efetch(db=\"protein\", id=prot, retmode=\"xml\")\n",
    "    proteinaXML = Entrez.read(proteina)[0]\n",
    "    print(\"LOCUS:\"+proteinaXML[\"GBSeq_locus\"])\n",
    "    print(\"SOURCE:\"+proteinaXML[\"GBSeq_source\"])\n",
    "    info = proteinaXML[\"GBSeq_comment\"].split(\"[\")\n",
    "    newl = []\n",
    "    for e in info:\n",
    "        newl.append(\"[\"+e)\n",
    "\n",
    "for ne in newl:\n",
    "    print(ne)"
   ]
  },
  {
   "cell_type": "code",
   "execution_count": 123,
   "metadata": {},
   "outputs": [
    {
     "name": "stdout",
     "output_type": "stream",
     "text": [
      "\n",
      "Q5YGP8\n",
      "LOCUS:PLET1_ARATH\n",
      "SOURCE:Arabidopsis thaliana (thale cress)\n",
      "[On or before Aug 31, 2007 this sequence version replaced gi:75223334, gi:75274047.; \n",
      "[FUNCTION] Probably acts as a transcriptional activator. Binds to the GCC-box pathogenesis-related promoter element. May be involved in the regulation of gene expression by stress factors and by components of stress signal transduction pathways (By similarity). Master regulator of basal/root fate. Essential for root quiescent center (QC) and columella specification, stem cell activity, as well as for establishment of the stem cell niche during embryogenesis. Modulates the root polar auxin transport by regulating the distribution of PIN genes. Essential role in respecifying pattern and polarity in damaged roots. Direct target of the transcriptional corepressor TPL. Expression levels and patterns regulated post-transcriptionally by root meristem growth factors (RGFs). {ECO:0000250, ECO:0000269|PubMed:15454085, ECO:0000269|PubMed:15635403, ECO:0000269|PubMed:16424342, ECO:0000269|PubMed:20190735}.; \n",
      "[SUBCELLULAR LOCATION] Nucleus {ECO:0000305}.; \n",
      "[TISSUE SPECIFICITY] Expressed in roots, seedlings, flowers, and siliques. Also detected at low levels in leaves. In roots, specifically detected in the distal root meristem, including the QC. This tissue specificity is regulated by auxin gradient and depends on PIN proteins. {ECO:0000269|PubMed:15454085, ECO:0000269|PubMed:15635403, ECO:0000269|PubMed:15988559, ECO:0000269|PubMed:16424342, ECO:0000269|PubMed:20190735}.; \n",
      "[DEVELOPMENTAL STAGE] Accumulates in the basal embryo region that gives rise to hypocotyl, root, and root stem cells. Expressed in the root meristem throughout embryo development. {ECO:0000269|PubMed:15454085, ECO:0000269|PubMed:20190735}.; \n",
      "[INDUCTION] By auxin accumulation. {ECO:0000269|PubMed:15454085}.; \n",
      "[SIMILARITY] Belongs to the AP2/ERF transcription factor family. AP2 subfamily. {ECO:0000305}.; \n",
      "[SEQUENCE CAUTION] Sequence=BAB02492.1; Type=Erroneous gene model prediction; Evidence={ECO:0000305}.\n"
     ]
    }
   ],
   "source": [
    "from Bio import Entrez\n",
    "from Bio import SeqIO\n",
    "f_t = [PLT1] \n",
    "Entrez.email = \"gangulo@eafit.edu.co\"\n",
    "\n",
    "for prot in f_t:\n",
    "    print()\n",
    "    print(prot)\n",
    "    proteina = Entrez.efetch(db=\"protein\", id=prot, retmode=\"xml\")\n",
    "    proteinaXML = Entrez.read(proteina)[0]\n",
    "    print(\"LOCUS:\"+proteinaXML[\"GBSeq_locus\"])\n",
    "    print(\"SOURCE:\"+proteinaXML[\"GBSeq_source\"])\n",
    "    info = proteinaXML[\"GBSeq_comment\"].split(\"[\")\n",
    "    newl = []\n",
    "    for e in info:\n",
    "        newl.append(\"[\"+e)\n",
    "\n",
    "for ne in newl:\n",
    "    print(ne)"
   ]
  },
  {
   "cell_type": "markdown",
   "metadata": {},
   "source": [
    "### PLT2"
   ]
  },
  {
   "cell_type": "code",
   "execution_count": 127,
   "metadata": {},
   "outputs": [
    {
     "data": {
      "text/plain": [
       "('Query= XP_015582262.1 ethylene-responsive transcription factor 5-like [Ricinus communis]',\n",
       " ' Score = 42.0 bits (97),  Expect = 6.1e-07')"
      ]
     },
     "execution_count": 127,
     "metadata": {},
     "output_type": "execute_result"
    }
   ],
   "source": [
    "def query_evalue(lista, proteina):\n",
    "    i=0\n",
    "    b=len(proteina)\n",
    "    prot=\"\"\n",
    "    e_value=[]\n",
    "    query=[]\n",
    "    while i < len(lista):\n",
    "        if len(lista[i])!=0:\n",
    "            if lista[i][0] == \">\":\n",
    "                j=1\n",
    "                while j< len(lista[i]):\n",
    "                    if lista[i][j:j+b] == proteina:\n",
    "                        prot= lista[i][j:j+b]\n",
    "                        e_value= lista[i+3]\n",
    "                        query = lista[i-4]\n",
    "                    j=j+1\n",
    "        i=i+1\n",
    "    return query,e_value\n",
    "\n",
    "query_evalue(matches, \"PLT2\")"
   ]
  },
  {
   "cell_type": "code",
   "execution_count": 128,
   "metadata": {},
   "outputs": [
    {
     "name": "stdout",
     "output_type": "stream",
     "text": [
      "\n",
      "XP_015582262.1\n",
      "LOCUS:XP_015582262\n",
      "SOURCE:Ricinus communis (castor bean)\n",
      "[MODEL REFSEQ: This record is predicted by automated computational analysis. This record is derived from a genomic sequence (NW_002994786.1) annotated using gene prediction method: Gnomon, supported by EST evidence.~Also see:~ Documentation of NCBI's Annotation Process~; ; ##Genome-Annotation-Data-START## ; Annotation Provider :: NCBI ; Annotation Status :: Full annotation ; Annotation Name :: Ricinus communis Annotation Release 101 ; Annotation Version :: 101 ; Annotation Pipeline :: NCBI eukaryotic genome annotation pipeline ; Annotation Software Version :: 8.0 ; Annotation Method :: Best-placed RefSeq; Gnomon ; Features Annotated :: Gene; mRNA; CDS; ncRNA ; ##Genome-Annotation-Data-END##; COMPLETENESS: full length.\n"
     ]
    }
   ],
   "source": [
    "from Bio import Entrez\n",
    "from Bio import SeqIO\n",
    "f_t = ['XP_015582262.1'] \n",
    "Entrez.email = \"gangulo@eafit.edu.co\"\n",
    "\n",
    "for prot in f_t:\n",
    "    print()\n",
    "    print(prot)\n",
    "    proteina = Entrez.efetch(db=\"protein\", id=prot, retmode=\"xml\")\n",
    "    proteinaXML = Entrez.read(proteina)[0]\n",
    "    print(\"LOCUS:\"+proteinaXML[\"GBSeq_locus\"])\n",
    "    print(\"SOURCE:\"+proteinaXML[\"GBSeq_source\"])\n",
    "    info = proteinaXML[\"GBSeq_comment\"].split(\"[\")\n",
    "    newl = []\n",
    "    for e in info:\n",
    "        newl.append(\"[\"+e)\n",
    "\n",
    "for ne in newl:\n",
    "    print(ne)"
   ]
  },
  {
   "cell_type": "code",
   "execution_count": 129,
   "metadata": {},
   "outputs": [
    {
     "name": "stdout",
     "output_type": "stream",
     "text": [
      "\n",
      "Q5YGP7\n",
      "LOCUS:PLET2_ARATH\n",
      "SOURCE:Arabidopsis thaliana (thale cress)\n",
      "[On or before Aug 31, 2007 this sequence version replaced gi:75223335, gi:75266698.; \n",
      "[FUNCTION] Probably acts as a transcriptional activator. Binds to the GCC-box pathogenesis-related promoter element. May be involved in the regulation of gene expression by stress factors and by components of stress signal transduction pathways (By similarity). Master regulator of basal/root fate. Essential for root quiescent center (QC) and columella specification, stem cell activity, as well as for establishment of the stem cell niche during embryogenesis. Modulates the root polar auxin transport by regulating the distribution of PIN genes. Essential role in respecifying pattern and polarity in damaged roots. Direct target of the transcriptional corepressor TPL. Expression levels and patterns regulated post-transcriptionally by root meristem growth factors (RGFs). {ECO:0000250, ECO:0000269|PubMed:15454085, ECO:0000269|PubMed:15635403, ECO:0000269|PubMed:16424342, ECO:0000269|PubMed:20190735}.; \n",
      "[SUBCELLULAR LOCATION] Nucleus {ECO:0000255|PROSITE-ProRule:PRU00366, ECO:0000269|PubMed:15454085}.; \n",
      "[TISSUE SPECIFICITY] Expressed in roots, seedlings, flowers, and siliques. Also detected at low levels in leaves. In roots, specifically detected in the distal root meristem, including the QC. This tissue specificity is regulated by auxin gradient and depends on PIN proteins. {ECO:0000269|PubMed:15454085, ECO:0000269|PubMed:15635403, ECO:0000269|PubMed:15988559, ECO:0000269|PubMed:16424342, ECO:0000269|PubMed:20190735}.; \n",
      "[DEVELOPMENTAL STAGE] Accumulates in the basal embryo region that gives rise to hypocotyl, root, and root stem cells. Expressed in the root meristem throughout embryo development. {ECO:0000269|PubMed:15454085, ECO:0000269|PubMed:20190735}.; \n",
      "[INDUCTION] By auxin accumulation. {ECO:0000269|PubMed:15454085}.; \n",
      "[SIMILARITY] Belongs to the AP2/ERF transcription factor family. AP2 subfamily. {ECO:0000305}.; \n",
      "[SEQUENCE CAUTION] Sequence=AAD30633.1; Type=Erroneous gene model prediction; Evidence={ECO:0000305}.\n"
     ]
    }
   ],
   "source": [
    "from Bio import Entrez\n",
    "from Bio import SeqIO\n",
    "f_t = [PLT2] \n",
    "Entrez.email = \"gangulo@eafit.edu.co\"\n",
    "\n",
    "for prot in f_t:\n",
    "    print()\n",
    "    print(prot)\n",
    "    proteina = Entrez.efetch(db=\"protein\", id=prot, retmode=\"xml\")\n",
    "    proteinaXML = Entrez.read(proteina)[0]\n",
    "    print(\"LOCUS:\"+proteinaXML[\"GBSeq_locus\"])\n",
    "    print(\"SOURCE:\"+proteinaXML[\"GBSeq_source\"])\n",
    "    info = proteinaXML[\"GBSeq_comment\"].split(\"[\")\n",
    "    newl = []\n",
    "    for e in info:\n",
    "        newl.append(\"[\"+e)\n",
    "\n",
    "for ne in newl:\n",
    "    print(ne)"
   ]
  },
  {
   "cell_type": "markdown",
   "metadata": {},
   "source": [
    "### AIL5"
   ]
  },
  {
   "cell_type": "code",
   "execution_count": 130,
   "metadata": {},
   "outputs": [
    {
     "data": {
      "text/plain": [
       "('Query= XP_025013917.1 ethylene-responsive transcription factor ERF109-like [Ricinus communis]',\n",
       " ' Score = 55.8 bits (133),  Expect = 2.7e-11')"
      ]
     },
     "execution_count": 130,
     "metadata": {},
     "output_type": "execute_result"
    }
   ],
   "source": [
    "def query_evalue(lista, proteina):\n",
    "    i=0\n",
    "    b=len(proteina)\n",
    "    prot=\"\"\n",
    "    e_value=[]\n",
    "    query=[]\n",
    "    while i < len(lista):\n",
    "        if len(lista[i])!=0:\n",
    "            if lista[i][0] == \">\":\n",
    "                j=1\n",
    "                while j< len(lista[i]):\n",
    "                    if lista[i][j:j+b] == proteina:\n",
    "                        prot= lista[i][j:j+b]\n",
    "                        e_value= lista[i+3]\n",
    "                        query = lista[i-4]\n",
    "                    j=j+1\n",
    "        i=i+1\n",
    "    return query,e_value\n",
    "\n",
    "query_evalue(matches, \"AIL5\")"
   ]
  },
  {
   "cell_type": "code",
   "execution_count": 132,
   "metadata": {},
   "outputs": [
    {
     "name": "stdout",
     "output_type": "stream",
     "text": [
      "\n",
      "XP_025013917.1\n",
      "LOCUS:XP_025013917\n",
      "SOURCE:Ricinus communis (castor bean)\n",
      "[MODEL REFSEQ: This record is predicted by automated computational analysis. This record is derived from a genomic sequence (NW_002994423.1) annotated using gene prediction method: Gnomon.~Also see:~ Documentation of NCBI's Annotation Process~; ; ##Genome-Annotation-Data-START## ; Annotation Provider :: NCBI ; Annotation Status :: Full annotation ; Annotation Name :: Ricinus communis Annotation Release 101 ; Annotation Version :: 101 ; Annotation Pipeline :: NCBI eukaryotic genome annotation pipeline ; Annotation Software Version :: 8.0 ; Annotation Method :: Best-placed RefSeq; Gnomon ; Features Annotated :: Gene; mRNA; CDS; ncRNA ; ##Genome-Annotation-Data-END##; ; ##RefSeq-Attributes-START## ; ab initio :: 1% of CDS bases ; ##RefSeq-Attributes-END##; COMPLETENESS: full length.\n"
     ]
    }
   ],
   "source": [
    "from Bio import Entrez\n",
    "from Bio import SeqIO\n",
    "f_t = ['XP_025013917.1'] \n",
    "Entrez.email = \"gangulo@eafit.edu.co\"\n",
    "\n",
    "for prot in f_t:\n",
    "    print()\n",
    "    print(prot)\n",
    "    proteina = Entrez.efetch(db=\"protein\", id=prot, retmode=\"xml\")\n",
    "    proteinaXML = Entrez.read(proteina)[0]\n",
    "    print(\"LOCUS:\"+proteinaXML[\"GBSeq_locus\"])\n",
    "    print(\"SOURCE:\"+proteinaXML[\"GBSeq_source\"])\n",
    "    info = proteinaXML[\"GBSeq_comment\"].split(\"[\")\n",
    "    newl = []\n",
    "    for e in info:\n",
    "        newl.append(\"[\"+e)\n",
    "\n",
    "for ne in newl:\n",
    "    print(ne)"
   ]
  },
  {
   "cell_type": "code",
   "execution_count": 141,
   "metadata": {},
   "outputs": [],
   "source": [
    "##No se encontró la proteina de A. thaliana en la base de datos empleada."
   ]
  },
  {
   "cell_type": "markdown",
   "metadata": {},
   "source": [
    "### AIL6"
   ]
  },
  {
   "cell_type": "code",
   "execution_count": 142,
   "metadata": {},
   "outputs": [
    {
     "data": {
      "text/plain": [
       "('Query= XP_025014755.1 ethylene-responsive transcription factor ABI4 isoform X2 [Ricinus communis]',\n",
       " ' Score = 43.1 bits (100),  Expect = 3.8e-07')"
      ]
     },
     "execution_count": 142,
     "metadata": {},
     "output_type": "execute_result"
    }
   ],
   "source": [
    "def query_evalue(lista, proteina):\n",
    "    i=0\n",
    "    b=len(proteina)\n",
    "    prot=\"\"\n",
    "    e_value=[]\n",
    "    query=[]\n",
    "    while i < len(lista):\n",
    "        if len(lista[i])!=0:\n",
    "            if lista[i][0] == \">\":\n",
    "                j=1\n",
    "                while j< len(lista[i]):\n",
    "                    if lista[i][j:j+b] == proteina:\n",
    "                        prot= lista[i][j:j+b]\n",
    "                        e_value= lista[i+3]\n",
    "                        query = lista[i-4]\n",
    "                    j=j+1\n",
    "        i=i+1\n",
    "    return query,e_value\n",
    "\n",
    "query_evalue(matches, \"AIL6\")"
   ]
  },
  {
   "cell_type": "code",
   "execution_count": 143,
   "metadata": {},
   "outputs": [
    {
     "name": "stdout",
     "output_type": "stream",
     "text": [
      "\n",
      "XP_025014755.1\n",
      "LOCUS:XP_025014755\n",
      "SOURCE:Ricinus communis (castor bean)\n",
      "[MODEL REFSEQ: This record is predicted by automated computational analysis. This record is derived from a genomic sequence (NW_002994593.1) annotated using gene prediction method: Gnomon.~Also see:~ Documentation of NCBI's Annotation Process~; ; ##Genome-Annotation-Data-START## ; Annotation Provider :: NCBI ; Annotation Status :: Full annotation ; Annotation Name :: Ricinus communis Annotation Release 101 ; Annotation Version :: 101 ; Annotation Pipeline :: NCBI eukaryotic genome annotation pipeline ; Annotation Software Version :: 8.0 ; Annotation Method :: Best-placed RefSeq; Gnomon ; Features Annotated :: Gene; mRNA; CDS; ncRNA ; ##Genome-Annotation-Data-END##; COMPLETENESS: full length.\n"
     ]
    }
   ],
   "source": [
    "from Bio import Entrez\n",
    "from Bio import SeqIO\n",
    "f_t = ['XP_025014755.1'] \n",
    "Entrez.email = \"gangulo@eafit.edu.co\"\n",
    "\n",
    "for prot in f_t:\n",
    "    print()\n",
    "    print(prot)\n",
    "    proteina = Entrez.efetch(db=\"protein\", id=prot, retmode=\"xml\")\n",
    "    proteinaXML = Entrez.read(proteina)[0]\n",
    "    print(\"LOCUS:\"+proteinaXML[\"GBSeq_locus\"])\n",
    "    print(\"SOURCE:\"+proteinaXML[\"GBSeq_source\"])\n",
    "    info = proteinaXML[\"GBSeq_comment\"].split(\"[\")\n",
    "    newl = []\n",
    "    for e in info:\n",
    "        newl.append(\"[\"+e)\n",
    "\n",
    "for ne in newl:\n",
    "    print(ne)"
   ]
  },
  {
   "cell_type": "code",
   "execution_count": 171,
   "metadata": {},
   "outputs": [],
   "source": [
    "#No se encontró la proteina de A. thaliana en la base de datos empleada."
   ]
  },
  {
   "cell_type": "markdown",
   "metadata": {},
   "source": [
    "### PLT7"
   ]
  },
  {
   "cell_type": "code",
   "execution_count": 146,
   "metadata": {},
   "outputs": [
    {
     "data": {
      "text/plain": [
       "([], [])"
      ]
     },
     "execution_count": 146,
     "metadata": {},
     "output_type": "execute_result"
    }
   ],
   "source": [
    "def query_evalue(lista, proteina):\n",
    "    i=0\n",
    "    b=len(proteina)\n",
    "    prot=\"\"\n",
    "    e_value=[]\n",
    "    query=[]\n",
    "    while i < len(lista):\n",
    "        if len(lista[i])!=0:\n",
    "            if lista[i][0] == \">\":\n",
    "                j=1\n",
    "                while j< len(lista[i]):\n",
    "                    if lista[i][j:j+b] == proteina:\n",
    "                        prot= lista[i][j:j+b]\n",
    "                        e_value= lista[i+3]\n",
    "                        query = lista[i-4]\n",
    "                    j=j+1\n",
    "        i=i+1\n",
    "    return query,e_value\n",
    "\n",
    "query_evalue(matches, \"PLT7\")"
   ]
  },
  {
   "cell_type": "markdown",
   "metadata": {},
   "source": [
    "### BBM"
   ]
  },
  {
   "cell_type": "code",
   "execution_count": 147,
   "metadata": {},
   "outputs": [
    {
     "data": {
      "text/plain": [
       "('Query= XP_015573687.1 AP2-like ethylene-responsive transcription factor At1g79700 [Ricinus communis]',\n",
       " ' Score = 256.9 bits (655),  Expect = 1.7e-71')"
      ]
     },
     "execution_count": 147,
     "metadata": {},
     "output_type": "execute_result"
    }
   ],
   "source": [
    "def query_evalue(lista, proteina):\n",
    "    i=0\n",
    "    b=len(proteina)\n",
    "    prot=\"\"\n",
    "    e_value=[]\n",
    "    query=[]\n",
    "    while i < len(lista):\n",
    "        if len(lista[i])!=0:\n",
    "            if lista[i][0] == \">\":\n",
    "                j=1\n",
    "                while j< len(lista[i]):\n",
    "                    if lista[i][j:j+b] == proteina:\n",
    "                        prot= lista[i][j:j+b]\n",
    "                        e_value= lista[i+3]\n",
    "                        query = lista[i-4]\n",
    "                    j=j+1\n",
    "        i=i+1\n",
    "    return query,e_value\n",
    "\n",
    "query_evalue(matches, \"BBM\")"
   ]
  },
  {
   "cell_type": "code",
   "execution_count": 148,
   "metadata": {},
   "outputs": [
    {
     "name": "stdout",
     "output_type": "stream",
     "text": [
      "\n",
      "XP_015573687.1\n",
      "LOCUS:XP_015573687\n",
      "SOURCE:Ricinus communis (castor bean)\n",
      "[MODEL REFSEQ: This record is predicted by automated computational analysis. This record is derived from a genomic sequence (NW_002994321.1) annotated using gene prediction method: Gnomon.~Also see:~ Documentation of NCBI's Annotation Process~; ; ##Genome-Annotation-Data-START## ; Annotation Provider :: NCBI ; Annotation Status :: Full annotation ; Annotation Name :: Ricinus communis Annotation Release 101 ; Annotation Version :: 101 ; Annotation Pipeline :: NCBI eukaryotic genome annotation pipeline ; Annotation Software Version :: 8.0 ; Annotation Method :: Best-placed RefSeq; Gnomon ; Features Annotated :: Gene; mRNA; CDS; ncRNA ; ##Genome-Annotation-Data-END##; COMPLETENESS: full length.\n"
     ]
    }
   ],
   "source": [
    "from Bio import Entrez\n",
    "from Bio import SeqIO\n",
    "f_t = ['XP_015573687.1'] \n",
    "Entrez.email = \"gangulo@eafit.edu.co\"\n",
    "\n",
    "for prot in f_t:\n",
    "    print()\n",
    "    print(prot)\n",
    "    proteina = Entrez.efetch(db=\"protein\", id=prot, retmode=\"xml\")\n",
    "    proteinaXML = Entrez.read(proteina)[0]\n",
    "    print(\"LOCUS:\"+proteinaXML[\"GBSeq_locus\"])\n",
    "    print(\"SOURCE:\"+proteinaXML[\"GBSeq_source\"])\n",
    "    info = proteinaXML[\"GBSeq_comment\"].split(\"[\")\n",
    "    newl = []\n",
    "    for e in info:\n",
    "        newl.append(\"[\"+e)\n",
    "\n",
    "for ne in newl:\n",
    "    print(ne)"
   ]
  },
  {
   "cell_type": "code",
   "execution_count": 149,
   "metadata": {},
   "outputs": [
    {
     "name": "stdout",
     "output_type": "stream",
     "text": [
      "\n",
      "Q6PQQ4\n",
      "LOCUS:BBM_ARATH\n",
      "SOURCE:Arabidopsis thaliana (thale cress)\n",
      "[On or before Apr 11, 2006 this sequence version replaced gi:75246547, gi:75263840, gi:11358596.; \n",
      "[FUNCTION] Transcription factor that promotes cell proliferation, differentiation and morphogenesis, especially during embryogenesis. {ECO:0000269|PubMed:12172019}.; \n",
      "[SUBCELLULAR LOCATION] Nucleus {ECO:0000305}.; \n",
      "[TISSUE SPECIFICITY] Mostly expressed in developing seeds. Also expressed in roots, seedlings, and siliques, and, at low levels, in leaves. {ECO:0000269|PubMed:12172019, ECO:0000269|PubMed:15988559}.; \n",
      "[DEVELOPMENTAL STAGE] Expressed in embryo throughout embryogenesis. Also present in free nuclear endosperm, but disappears once endosperm cellularization begins. {ECO:0000269|PubMed:12172019}.; \n",
      "[MISCELLANEOUS] Was named 'Baby boom' because overexpressing transgenic plants exhibit several spontaneous somatic embryos.; \n",
      "[SIMILARITY] Belongs to the AP2/ERF transcription factor family. AP2 subfamily. {ECO:0000305}.\n"
     ]
    }
   ],
   "source": [
    "from Bio import Entrez\n",
    "from Bio import SeqIO\n",
    "f_t = [BBM] \n",
    "Entrez.email = \"gangulo@eafit.edu.co\"\n",
    "\n",
    "for prot in f_t:\n",
    "    print()\n",
    "    print(prot)\n",
    "    proteina = Entrez.efetch(db=\"protein\", id=prot, retmode=\"xml\")\n",
    "    proteinaXML = Entrez.read(proteina)[0]\n",
    "    print(\"LOCUS:\"+proteinaXML[\"GBSeq_locus\"])\n",
    "    print(\"SOURCE:\"+proteinaXML[\"GBSeq_source\"])\n",
    "    info = proteinaXML[\"GBSeq_comment\"].split(\"[\")\n",
    "    newl = []\n",
    "    for e in info:\n",
    "        newl.append(\"[\"+e)\n",
    "\n",
    "for ne in newl:\n",
    "    print(ne)"
   ]
  },
  {
   "cell_type": "markdown",
   "metadata": {},
   "source": [
    "### LEC1"
   ]
  },
  {
   "cell_type": "code",
   "execution_count": 150,
   "metadata": {},
   "outputs": [
    {
     "data": {
      "text/plain": [
       "([], [])"
      ]
     },
     "execution_count": 150,
     "metadata": {},
     "output_type": "execute_result"
    }
   ],
   "source": [
    "def query_evalue(lista, proteina):\n",
    "    i=0\n",
    "    b=len(proteina)\n",
    "    prot=\"\"\n",
    "    e_value=[]\n",
    "    query=[]\n",
    "    while i < len(lista):\n",
    "        if len(lista[i])!=0:\n",
    "            if lista[i][0] == \">\":\n",
    "                j=1\n",
    "                while j< len(lista[i]):\n",
    "                    if lista[i][j:j+b] == proteina:\n",
    "                        prot= lista[i][j:j+b]\n",
    "                        e_value= lista[i+3]\n",
    "                        query = lista[i-4]\n",
    "                    j=j+1\n",
    "        i=i+1\n",
    "    return query,e_value\n",
    "\n",
    "query_evalue(matches, \"LEC1\")"
   ]
  },
  {
   "cell_type": "markdown",
   "metadata": {},
   "source": [
    "### LEC2"
   ]
  },
  {
   "cell_type": "code",
   "execution_count": 151,
   "metadata": {},
   "outputs": [
    {
     "data": {
      "text/plain": [
       "('Query= NP_001310615.1 B3 domain-containing transcription factor LEC2 [Ricinus communis]',\n",
       " ' Score = 198.7 bits (504),  Expect = 5.9e-54')"
      ]
     },
     "execution_count": 151,
     "metadata": {},
     "output_type": "execute_result"
    }
   ],
   "source": [
    "def query_evalue(lista, proteina):\n",
    "    i=0\n",
    "    b=len(proteina)\n",
    "    prot=\"\"\n",
    "    e_value=[]\n",
    "    query=[]\n",
    "    while i < len(lista):\n",
    "        if len(lista[i])!=0:\n",
    "            if lista[i][0] == \">\":\n",
    "                j=1\n",
    "                while j< len(lista[i]):\n",
    "                    if lista[i][j:j+b] == proteina:\n",
    "                        prot= lista[i][j:j+b]\n",
    "                        e_value= lista[i+3]\n",
    "                        query = lista[i-4]\n",
    "                    j=j+1\n",
    "        i=i+1\n",
    "    return query,e_value\n",
    "\n",
    "query_evalue(matches, \"LEC2\")"
   ]
  },
  {
   "cell_type": "code",
   "execution_count": 152,
   "metadata": {},
   "outputs": [
    {
     "name": "stdout",
     "output_type": "stream",
     "text": [
      "\n",
      "NP_001310615.1\n",
      "LOCUS:NP_001310615\n",
      "SOURCE:Ricinus communis (castor bean)\n",
      "[PROVISIONAL REFSEQ: This record has not yet been subject to final NCBI review. The reference sequence was derived from KC146386.1.; On Apr 22, 2016 this sequence version replaced XP_015573736.1.; ; ##Evidence-Data-START## ; Transcript exon combination :: KC146386.1 \n",
      "[ECO:0000332] ; RNAseq introns :: single sample supports all introns SAMEA1034164, SAMEA1034165 \n",
      "[ECO:0000348] ; ##Evidence-Data-END##\n"
     ]
    }
   ],
   "source": [
    "from Bio import Entrez\n",
    "from Bio import SeqIO\n",
    "f_t = ['NP_001310615.1'] \n",
    "Entrez.email = \"gangulo@eafit.edu.co\"\n",
    "\n",
    "for prot in f_t:\n",
    "    print()\n",
    "    print(prot)\n",
    "    proteina = Entrez.efetch(db=\"protein\", id=prot, retmode=\"xml\")\n",
    "    proteinaXML = Entrez.read(proteina)[0]\n",
    "    print(\"LOCUS:\"+proteinaXML[\"GBSeq_locus\"])\n",
    "    print(\"SOURCE:\"+proteinaXML[\"GBSeq_source\"])\n",
    "    info = proteinaXML[\"GBSeq_comment\"].split(\"[\")\n",
    "    newl = []\n",
    "    for e in info:\n",
    "        newl.append(\"[\"+e)\n",
    "\n",
    "for ne in newl:\n",
    "    print(ne)"
   ]
  },
  {
   "cell_type": "code",
   "execution_count": 153,
   "metadata": {},
   "outputs": [
    {
     "name": "stdout",
     "output_type": "stream",
     "text": [
      "\n",
      "Q1PFR7\n",
      "LOCUS:LEC2_ARATH\n",
      "SOURCE:Arabidopsis thaliana (thale cress)\n",
      "[On or before May 26, 2009 this sequence version replaced gi:75163189, gi:75173393.; \n",
      "[FUNCTION] Transcription regulator that plays a central role in embryo development. Required for the maintenance of suspensor morphology, specification of cotyledon identity, progression through the maturation phase and suppression of premature germination. Ectopic expression is sufficient to promote somatic embryogenesis. {ECO:0000269|PubMed:11573014, ECO:0000269|PubMed:16492731, ECO:0000269|PubMed:18287041}.; \n",
      "[SUBCELLULAR LOCATION] Nucleus {ECO:0000305}.; \n",
      "[DEVELOPMENTAL STAGE] Expressed during embryo development. {ECO:0000269|PubMed:11573014}.; \n",
      "[DISRUPTION PHENOTYPE] Pigmented seeds. Distorted seedlings with elongated hypocotyl and curled cotyledons. Presence of trichomes and accumulation of anthocyanins on cotyledons. Unusual pattern of storage product accumulation in seedlings. {ECO:0000269|PubMed:12244265}.; \n",
      "[SEQUENCE CAUTION] Sequence=AAF98425.1; Type=Erroneous gene model prediction; Evidence={ECO:0000305}; Sequence=ABK28418.1; Type=Erroneous termination; Positions=364; Note=Translated as stop.; Evidence={ECO:0000305}.\n"
     ]
    }
   ],
   "source": [
    "from Bio import Entrez\n",
    "from Bio import SeqIO\n",
    "f_t = [LEC2] \n",
    "Entrez.email = \"gangulo@eafit.edu.co\"\n",
    "\n",
    "for prot in f_t:\n",
    "    print()\n",
    "    print(prot)\n",
    "    proteina = Entrez.efetch(db=\"protein\", id=prot, retmode=\"xml\")\n",
    "    proteinaXML = Entrez.read(proteina)[0]\n",
    "    print(\"LOCUS:\"+proteinaXML[\"GBSeq_locus\"])\n",
    "    print(\"SOURCE:\"+proteinaXML[\"GBSeq_source\"])\n",
    "    info = proteinaXML[\"GBSeq_comment\"].split(\"[\")\n",
    "    newl = []\n",
    "    for e in info:\n",
    "        newl.append(\"[\"+e)\n",
    "\n",
    "for ne in newl:\n",
    "    print(ne)"
   ]
  },
  {
   "cell_type": "markdown",
   "metadata": {},
   "source": [
    "### L1L"
   ]
  },
  {
   "cell_type": "code",
   "execution_count": 154,
   "metadata": {},
   "outputs": [
    {
     "data": {
      "text/plain": [
       "([], [])"
      ]
     },
     "execution_count": 154,
     "metadata": {},
     "output_type": "execute_result"
    }
   ],
   "source": [
    "def query_evalue(lista, proteina):\n",
    "    i=0\n",
    "    b=len(proteina)\n",
    "    prot=\"\"\n",
    "    e_value=[]\n",
    "    query=[]\n",
    "    while i < len(lista):\n",
    "        if len(lista[i])!=0:\n",
    "            if lista[i][0] == \">\":\n",
    "                j=1\n",
    "                while j< len(lista[i]):\n",
    "                    if lista[i][j:j+b] == proteina:\n",
    "                        prot= lista[i][j:j+b]\n",
    "                        e_value= lista[i+3]\n",
    "                        query = lista[i-4]\n",
    "                    j=j+1\n",
    "        i=i+1\n",
    "    return query,e_value\n",
    "\n",
    "query_evalue(matches, \"L1L\")"
   ]
  },
  {
   "cell_type": "markdown",
   "metadata": {},
   "source": [
    "### ABI3"
   ]
  },
  {
   "cell_type": "code",
   "execution_count": 155,
   "metadata": {},
   "outputs": [
    {
     "data": {
      "text/plain": [
       "('Query= NP_001310634.1 B3 domain-containing transcription factor ABI3 [Ricinus communis]',\n",
       " ' Score = 170.6 bits (431),  Expect = 3.3e-45')"
      ]
     },
     "execution_count": 155,
     "metadata": {},
     "output_type": "execute_result"
    }
   ],
   "source": [
    "def query_evalue(lista, proteina):\n",
    "    i=0\n",
    "    b=len(proteina)\n",
    "    prot=\"\"\n",
    "    e_value=[]\n",
    "    query=[]\n",
    "    while i < len(lista):\n",
    "        if len(lista[i])!=0:\n",
    "            if lista[i][0] == \">\":\n",
    "                j=1\n",
    "                while j< len(lista[i]):\n",
    "                    if lista[i][j:j+b] == proteina:\n",
    "                        prot= lista[i][j:j+b]\n",
    "                        e_value= lista[i+3]\n",
    "                        query = lista[i-4]\n",
    "                    j=j+1\n",
    "        i=i+1\n",
    "    return query,e_value\n",
    "\n",
    "query_evalue(matches, \"ABI3\")"
   ]
  },
  {
   "cell_type": "code",
   "execution_count": 156,
   "metadata": {},
   "outputs": [
    {
     "name": "stdout",
     "output_type": "stream",
     "text": [
      "\n",
      "NP_001310634.1\n",
      "LOCUS:NP_001310634\n",
      "SOURCE:Ricinus communis (castor bean)\n",
      "[PROVISIONAL REFSEQ: This record has not yet been subject to final NCBI review. The reference sequence was derived from AB774162.1.; ; ##Evidence-Data-START## ; Transcript exon combination :: AB774162.1 \n",
      "[ECO:0000332] ; RNAseq introns :: mixed/partial sample support SAMEA1034165, SAMEA1034166 \n",
      "[ECO:0000350] ; ##Evidence-Data-END##\n"
     ]
    }
   ],
   "source": [
    "from Bio import Entrez\n",
    "from Bio import SeqIO\n",
    "f_t = ['NP_001310634.1'] \n",
    "Entrez.email = \"gangulo@eafit.edu.co\"\n",
    "\n",
    "for prot in f_t:\n",
    "    print()\n",
    "    print(prot)\n",
    "    proteina = Entrez.efetch(db=\"protein\", id=prot, retmode=\"xml\")\n",
    "    proteinaXML = Entrez.read(proteina)[0]\n",
    "    print(\"LOCUS:\"+proteinaXML[\"GBSeq_locus\"])\n",
    "    print(\"SOURCE:\"+proteinaXML[\"GBSeq_source\"])\n",
    "    info = proteinaXML[\"GBSeq_comment\"].split(\"[\")\n",
    "    newl = []\n",
    "    for e in info:\n",
    "        newl.append(\"[\"+e)\n",
    "\n",
    "for ne in newl:\n",
    "    print(ne)"
   ]
  },
  {
   "cell_type": "code",
   "execution_count": 157,
   "metadata": {},
   "outputs": [
    {
     "name": "stdout",
     "output_type": "stream",
     "text": [
      "\n",
      "Q01593\n",
      "LOCUS:ABI3_ARATH\n",
      "SOURCE:Arabidopsis thaliana (thale cress)\n",
      "[On or before May 26, 2009 this sequence version replaced gi:75097935, gi:122178491, gi:75218455, gi:75218562, gi:320551.; \n",
      "[FUNCTION] Participates in abscisic acid-regulated gene expression during seed development. Regulates the transcription of SGR1 and SGR2 that are involved in leaf and embryo degreening. {ECO:0000269|PubMed:19531597, ECO:0000269|PubMed:24043799}.; \n",
      "[SUBUNIT] Interacts (via C-terminus) with SPK1, SCAR3, ABI5, APRR1, AIP2, AIP3 and AIP4. Binds to BZIP10 and BZIP25 and forms complexes made of ABI3, BZIP53 and BZIP25 or BZIP10. {ECO:0000269|PubMed:10743655, ECO:0000269|PubMed:11489176, ECO:0000269|PubMed:12657652, ECO:0000269|PubMed:15998807, ECO:0000269|PubMed:17267444, ECO:0000269|PubMed:19531597}.; \n",
      "[INTERACTION] Q8RXD3:AIP2; NbExp=3; IntAct=EBI-1578892, EBI-2312425; Q9M4B5:AIP3; NbExp=2; IntAct=EBI-1578892, EBI-2130809.; \n",
      "[SUBCELLULAR LOCATION] Nucleus. Cytoplasm. Note=Predominantly found in the nucleus.; \n",
      "[ALTERNATIVE PRODUCTS] Event=Alternative splicing; Named isoforms=2; Comment=A number of isoforms are produced. Splicing is regulated by SUA. {ECO:0000269|PubMed:20525852}; Name=1; Synonyms=ABI3-alpha; IsoId=Q01593-1; Sequence=Displayed; Name=2; Synonyms=ABI3-beta; IsoId=Q01593-2; Sequence=VSP_058192, VSP_058193; Note=Due to a cryptic intron removal. {ECO:0000269|PubMed:20525852}.; \n",
      "[TISSUE SPECIFICITY] Isoform 2 accumulates only at the end of seed maturation. {ECO:0000269|PubMed:20525852}.; \n",
      "[DEVELOPMENTAL STAGE] Expressed in the embryos, endosperm, and outer teguments of the seed throughout seed development. {ECO:0000269|PubMed:12657652}.; \n",
      "[INDUCTION] Repressed by silencing mediated by polycomb group (PcG) protein complex containing EMF1 and EMF2. {ECO:0000269|PubMed:19783648}.; \n",
      "[PTM] Ubiquitinated by AIP2. Ubiquitination probably leads to its subsequent degradation, thus negatively regulating ABA signaling. {ECO:0000269|PubMed:15998807}.; \n",
      "[MISCELLANEOUS] The truncated abi3-6 mutant lacking the DNA-binding domain is unable to localize to the nucleus and is an embryo stay-green mutant. {ECO:0000305|PubMed:24043799}.; \n",
      "[SEQUENCE CAUTION] Sequence=BAB01214.1; Type=Erroneous gene model prediction; Evidence={ECO:0000305}.\n"
     ]
    }
   ],
   "source": [
    "from Bio import Entrez\n",
    "from Bio import SeqIO\n",
    "f_t = [ABI3] \n",
    "Entrez.email = \"gangulo@eafit.edu.co\"\n",
    "\n",
    "for prot in f_t:\n",
    "    print()\n",
    "    print(prot)\n",
    "    proteina = Entrez.efetch(db=\"protein\", id=prot, retmode=\"xml\")\n",
    "    proteinaXML = Entrez.read(proteina)[0]\n",
    "    print(\"LOCUS:\"+proteinaXML[\"GBSeq_locus\"])\n",
    "    print(\"SOURCE:\"+proteinaXML[\"GBSeq_source\"])\n",
    "    info = proteinaXML[\"GBSeq_comment\"].split(\"[\")\n",
    "    newl = []\n",
    "    for e in info:\n",
    "        newl.append(\"[\"+e)\n",
    "\n",
    "for ne in newl:\n",
    "    print(ne)"
   ]
  },
  {
   "cell_type": "markdown",
   "metadata": {},
   "source": [
    "### FUS3"
   ]
  },
  {
   "cell_type": "code",
   "execution_count": 158,
   "metadata": {},
   "outputs": [
    {
     "data": {
      "text/plain": [
       "('Query= XP_015570693.1 B3 domain-containing transcription factor FUS3 isoform X2 [Ricinus communis]',\n",
       " ' Score = 213.8 bits (543),  Expect = 1.4e-58')"
      ]
     },
     "execution_count": 158,
     "metadata": {},
     "output_type": "execute_result"
    }
   ],
   "source": [
    "def query_evalue(lista, proteina):\n",
    "    i=0\n",
    "    b=len(proteina)\n",
    "    prot=\"\"\n",
    "    e_value=[]\n",
    "    query=[]\n",
    "    while i < len(lista):\n",
    "        if len(lista[i])!=0:\n",
    "            if lista[i][0] == \">\":\n",
    "                j=1\n",
    "                while j< len(lista[i]):\n",
    "                    if lista[i][j:j+b] == proteina:\n",
    "                        prot= lista[i][j:j+b]\n",
    "                        e_value= lista[i+3]\n",
    "                        query = lista[i-4]\n",
    "                    j=j+1\n",
    "        i=i+1\n",
    "    return query,e_value\n",
    "\n",
    "query_evalue(matches, \"FUS3\")"
   ]
  },
  {
   "cell_type": "code",
   "execution_count": 159,
   "metadata": {},
   "outputs": [
    {
     "name": "stdout",
     "output_type": "stream",
     "text": [
      "\n",
      "XP_015570693.1\n",
      "LOCUS:XP_015570693\n",
      "SOURCE:Ricinus communis (castor bean)\n",
      "[MODEL REFSEQ: This record is predicted by automated computational analysis. This record is derived from a genomic sequence (NW_002994282.1) annotated using gene prediction method: Gnomon.~Also see:~ Documentation of NCBI's Annotation Process~; ; ##Genome-Annotation-Data-START## ; Annotation Provider :: NCBI ; Annotation Status :: Full annotation ; Annotation Name :: Ricinus communis Annotation Release 101 ; Annotation Version :: 101 ; Annotation Pipeline :: NCBI eukaryotic genome annotation pipeline ; Annotation Software Version :: 8.0 ; Annotation Method :: Best-placed RefSeq; Gnomon ; Features Annotated :: Gene; mRNA; CDS; ncRNA ; ##Genome-Annotation-Data-END##; COMPLETENESS: full length.\n"
     ]
    }
   ],
   "source": [
    "from Bio import Entrez\n",
    "from Bio import SeqIO\n",
    "f_t = ['XP_015570693.1'] \n",
    "Entrez.email = \"gangulo@eafit.edu.co\"\n",
    "\n",
    "for prot in f_t:\n",
    "    print()\n",
    "    print(prot)\n",
    "    proteina = Entrez.efetch(db=\"protein\", id=prot, retmode=\"xml\")\n",
    "    proteinaXML = Entrez.read(proteina)[0]\n",
    "    print(\"LOCUS:\"+proteinaXML[\"GBSeq_locus\"])\n",
    "    print(\"SOURCE:\"+proteinaXML[\"GBSeq_source\"])\n",
    "    info = proteinaXML[\"GBSeq_comment\"].split(\"[\")\n",
    "    newl = []\n",
    "    for e in info:\n",
    "        newl.append(\"[\"+e)\n",
    "\n",
    "for ne in newl:\n",
    "    print(ne)"
   ]
  },
  {
   "cell_type": "code",
   "execution_count": 160,
   "metadata": {},
   "outputs": [
    {
     "name": "stdout",
     "output_type": "stream",
     "text": [
      "\n",
      "Q9LW31\n",
      "LOCUS:FUS3_ARATH\n",
      "SOURCE:Arabidopsis thaliana (thale cress)\n",
      "[On or before May 26, 2009 this sequence version replaced gi:75100671, gi:75136697, gi:75201299, gi:75274430.; \n",
      "[FUNCTION] Transcription regulator involved in gene regulation during late embryogenesis. Its expression to the epidermis is sufficient to control foliar organ identity by regulating positively the synthesis abscisic acid (ABA) and negatively gibberellin production. Negatively regulates TTG1 in the embryo. Positively regulates the abundance of the ABI3 protein in the seed. Cooperates with KIN10 to regulate developmental phase transitions and lateral organ development and act both as positive regulators of abscisic acid (ABA) signaling during germination (PubMed:22026387, PubMed:22902692). {ECO:0000269|PubMed:14675433, ECO:0000269|PubMed:15363412, ECO:0000269|PubMed:22026387, ECO:0000269|PubMed:22902692}.; ACTIVITY REGULATION: Phosphorylation by KIN10 is required to positively regulates embryogenesis, seed yield, and plant growth at high temperature. {ECO:0000269|PubMed:28922765}.; \n",
      "[SUBUNIT] Interacts with KIN10. {ECO:0000269|PubMed:22026387}.; \n",
      "[SUBCELLULAR LOCATION] Nucleus {ECO:0000305}.; \n",
      "[TISSUE SPECIFICITY] Expressed in cotyledons and hypocotyls. {ECO:0000269|PubMed:22026387}.; \n",
      "[DEVELOPMENTAL STAGE] Expressed in developing embryo. At globular stage, expressed in all cells of the embryo proper. At heart stage, preferentially expressed in the protodermal tissue. In mature embryo, expressed in the provascular tissue, root cap and mature epidermis. Expressed in the aleurone layer in mature seed. Expressed in leaf primordia and shoot apical meristem (PubMed:22026387). {ECO:0000269|PubMed:14675433, ECO:0000269|PubMed:22026387, ECO:0000269|PubMed:9807814}.; \n",
      "[PTM] Phosphorylation by KIN10 increases its stability. Phosphorylated at one or more of the Ser-55, Ser-56 and/or Ser-57 residues. {ECO:0000269|PubMed:22026387}.; \n",
      "[DISRUPTION PHENOTYPE] Accumulation of anthocyanins in embryo. Presence of trichomes on cotyledons. Unusual pattern of storage product accumulation in embryos and cotyledons. {ECO:0000269|PubMed:12244252}.; \n",
      "[SEQUENCE CAUTION] Sequence=AAC35246.1; Type=Erroneous initiation; Evidence={ECO:0000305}; Sequence=AAC35247.1; Type=Erroneous initiation; Evidence={ECO:0000305}; Sequence=BAB01226.1; Type=Erroneous gene model prediction; Evidence={ECO:0000305}.\n"
     ]
    }
   ],
   "source": [
    "from Bio import Entrez\n",
    "from Bio import SeqIO\n",
    "f_t = [FUS3] \n",
    "Entrez.email = \"gangulo@eafit.edu.co\"\n",
    "\n",
    "for prot in f_t:\n",
    "    print()\n",
    "    print(prot)\n",
    "    proteina = Entrez.efetch(db=\"protein\", id=prot, retmode=\"xml\")\n",
    "    proteinaXML = Entrez.read(proteina)[0]\n",
    "    print(\"LOCUS:\"+proteinaXML[\"GBSeq_locus\"])\n",
    "    print(\"SOURCE:\"+proteinaXML[\"GBSeq_source\"])\n",
    "    info = proteinaXML[\"GBSeq_comment\"].split(\"[\")\n",
    "    newl = []\n",
    "    for e in info:\n",
    "        newl.append(\"[\"+e)\n",
    "\n",
    "for ne in newl:\n",
    "    print(ne)"
   ]
  },
  {
   "cell_type": "markdown",
   "metadata": {},
   "source": [
    "### AGL15"
   ]
  },
  {
   "cell_type": "code",
   "execution_count": 161,
   "metadata": {},
   "outputs": [
    {
     "data": {
      "text/plain": [
       "('Query= XP_025015594.1 LOW QUALITY PROTEIN: agamous-like MADS-box protein AGL18 [Ricinus communis]',\n",
       " ' Score = 165.2 bits (417),  Expect = 4.8e-44')"
      ]
     },
     "execution_count": 161,
     "metadata": {},
     "output_type": "execute_result"
    }
   ],
   "source": [
    "def query_evalue(lista, proteina):\n",
    "    i=0\n",
    "    b=len(proteina)\n",
    "    prot=\"\"\n",
    "    e_value=[]\n",
    "    query=[]\n",
    "    while i < len(lista):\n",
    "        if len(lista[i])!=0:\n",
    "            if lista[i][0] == \">\":\n",
    "                j=1\n",
    "                while j< len(lista[i]):\n",
    "                    if lista[i][j:j+b] == proteina:\n",
    "                        prot= lista[i][j:j+b]\n",
    "                        e_value= lista[i+3]\n",
    "                        query = lista[i-4]\n",
    "                    j=j+1\n",
    "        i=i+1\n",
    "    return query,e_value\n",
    "\n",
    "query_evalue(matches, \"AGL15\")"
   ]
  },
  {
   "cell_type": "code",
   "execution_count": 162,
   "metadata": {},
   "outputs": [
    {
     "name": "stdout",
     "output_type": "stream",
     "text": [
      "\n",
      "XP_025015594.1\n",
      "LOCUS:XP_025015594\n",
      "SOURCE:Ricinus communis (castor bean)\n",
      "[MODEL REFSEQ: This record is predicted by automated computational analysis. This record is derived from a genomic sequence (NW_002995023.1) annotated using gene prediction method: Gnomon.~Also see:~ Documentation of NCBI's Annotation Process~; ; ##Genome-Annotation-Data-START## ; Annotation Provider :: NCBI ; Annotation Status :: Full annotation ; Annotation Name :: Ricinus communis Annotation Release 101 ; Annotation Version :: 101 ; Annotation Pipeline :: NCBI eukaryotic genome annotation pipeline ; Annotation Software Version :: 8.0 ; Annotation Method :: Best-placed RefSeq; Gnomon ; Features Annotated :: Gene; mRNA; CDS; ncRNA ; ##Genome-Annotation-Data-END##; ; ##RefSeq-Attributes-START## ; internal stop codons :: corrected 1 genomic stop codon ; ##RefSeq-Attributes-END##; COMPLETENESS: full length.\n"
     ]
    }
   ],
   "source": [
    "from Bio import Entrez\n",
    "from Bio import SeqIO\n",
    "f_t = ['XP_025015594.1'] \n",
    "Entrez.email = \"gangulo@eafit.edu.co\"\n",
    "\n",
    "for prot in f_t:\n",
    "    print()\n",
    "    print(prot)\n",
    "    proteina = Entrez.efetch(db=\"protein\", id=prot, retmode=\"xml\")\n",
    "    proteinaXML = Entrez.read(proteina)[0]\n",
    "    print(\"LOCUS:\"+proteinaXML[\"GBSeq_locus\"])\n",
    "    print(\"SOURCE:\"+proteinaXML[\"GBSeq_source\"])\n",
    "    info = proteinaXML[\"GBSeq_comment\"].split(\"[\")\n",
    "    newl = []\n",
    "    for e in info:\n",
    "        newl.append(\"[\"+e)\n",
    "\n",
    "for ne in newl:\n",
    "    print(ne)"
   ]
  },
  {
   "cell_type": "code",
   "execution_count": 163,
   "metadata": {},
   "outputs": [
    {
     "name": "stdout",
     "output_type": "stream",
     "text": [
      "\n",
      "Q38847\n",
      "LOCUS:AGL15_ARATH\n",
      "SOURCE:Arabidopsis thaliana (thale cress)\n",
      "[On Apr 14, 2006 this sequence version replaced gi:2129535.; \n",
      "[FUNCTION] Transcription factor involved in the negative regulation of flowering, probably through the photoperiodic pathway. Acts as both an activator and a repressor of transcription. Binds DNA in a sequence-specific manner in large CArG motif 5'-CC (A/T)8 GG-3'. Participates probably in the regulation of programs active during the early stages of embryo development. Prevents premature perianth senescence and abscission, fruits development and seed desiccation. Stimulates the expression of at least DTA4, LEC2, FUS3, ABI3, AT4G38680/CSP2 and GRP2B/CSP4. Can enhance somatic embryo development in vitro. {ECO:0000269|PubMed:10318690, ECO:0000269|PubMed:10662856, ECO:0000269|PubMed:12226488, ECO:0000269|PubMed:12743119, ECO:0000269|PubMed:14615187, ECO:0000269|PubMed:15084721, ECO:0000269|PubMed:15686521, ECO:0000269|PubMed:17521410, ECO:0000269|PubMed:18305206, ECO:0000269|PubMed:19269998, ECO:0000269|PubMed:19767455, ECO:0000269|PubMed:8953767}.; \n",
      "[SUBUNIT] Homodimer. Interacts with SVP, AGL24, AP1, AGL6, AG, AGL1, AGL11, AGL5, AGL16, SOC1 and AGL21. {ECO:0000269|PubMed:15805477}.; \n",
      "[INTERACTION] Q9SZJ6:AGL21; NbExp=5; IntAct=EBI-622076, EBI-621986.; \n",
      "[SUBCELLULAR LOCATION] Nucleus. Cytoplasm. Note=Associated with the chromosomes during mitosis. Accumulates in the egg cytoplasm before fertilization but moves into the nucleus of the fertilized egg.; \n",
      "[TISSUE SPECIFICITY] Expressed at low levels in flowers and siliques. Also present in seedlings. Detected during embryogenesis and accumulates during early seed development (at protein level). Expressed in shoot apices and the base of leaf petioles. {ECO:0000269|PubMed:10318690, ECO:0000269|PubMed:10662856, ECO:0000269|PubMed:12837945, ECO:0000269|PubMed:12949148, ECO:0000269|PubMed:15686521, ECO:0000269|PubMed:16028119, ECO:0000269|PubMed:17521410, ECO:0000269|PubMed:8953767}.; \n",
      "[DEVELOPMENTAL STAGE] During the reproductive phase, accumulates in immature buds and at the base of the floral organs, and in the receptacle, ovules, anther filaments, and stigma and style of open flowers. Accumulates before fertilization in the cytoplasm in the cells of the egg apparatus and moves into the nucleus during early stages of development following fertilization in the suspensor, embryo, and endosperm, mainly double fertilization derived tissues (at protein level). Highly expressed in developing embryos. In young seedlings, present in the shoot and root apices, lateral root primordia and throughout the vascular system. {ECO:0000269|PubMed:10318690, ECO:0000269|PubMed:10662856, ECO:0000269|PubMed:15686521, ECO:0000269|PubMed:17521410, ECO:0000269|PubMed:8953767}.; \n",
      "[INDUCTION] By auxin (2,4-D). Feedback loop leading to direct down-regulation by itself. {ECO:0000269|PubMed:15686521}.; \n",
      "[DISRUPTION PHENOTYPE] Early flowering under short-days conditions (SD) when combined with AGL18 disruption. Decreased ability to produce somatic embryos in vitro. {ECO:0000269|PubMed:17521410, ECO:0000269|PubMed:18305206}.\n"
     ]
    }
   ],
   "source": [
    "from Bio import Entrez\n",
    "from Bio import SeqIO\n",
    "f_t = [AGL15] \n",
    "Entrez.email = \"gangulo@eafit.edu.co\"\n",
    "\n",
    "for prot in f_t:\n",
    "    print()\n",
    "    print(prot)\n",
    "    proteina = Entrez.efetch(db=\"protein\", id=prot, retmode=\"xml\")\n",
    "    proteinaXML = Entrez.read(proteina)[0]\n",
    "    print(\"LOCUS:\"+proteinaXML[\"GBSeq_locus\"])\n",
    "    print(\"SOURCE:\"+proteinaXML[\"GBSeq_source\"])\n",
    "    info = proteinaXML[\"GBSeq_comment\"].split(\"[\")\n",
    "    newl = []\n",
    "    for e in info:\n",
    "        newl.append(\"[\"+e)\n",
    "\n",
    "for ne in newl:\n",
    "    print(ne)"
   ]
  },
  {
   "cell_type": "markdown",
   "metadata": {},
   "source": [
    "### PKL "
   ]
  },
  {
   "cell_type": "code",
   "execution_count": 164,
   "metadata": {},
   "outputs": [
    {
     "data": {
      "text/plain": [
       "('Query= XP_025015659.1 LOW QUALITY PROTEIN: DNA helicase INO80 [Ricinus communis]',\n",
       " ' Score = 237.7 bits (605),  Expect = 4.2e-65')"
      ]
     },
     "execution_count": 164,
     "metadata": {},
     "output_type": "execute_result"
    }
   ],
   "source": [
    "def query_evalue(lista, proteina):\n",
    "    i=0\n",
    "    b=len(proteina)\n",
    "    prot=\"\"\n",
    "    e_value=[]\n",
    "    query=[]\n",
    "    while i < len(lista):\n",
    "        if len(lista[i])!=0:\n",
    "            if lista[i][0] == \">\":\n",
    "                j=1\n",
    "                while j< len(lista[i]):\n",
    "                    if lista[i][j:j+b] == proteina:\n",
    "                        prot= lista[i][j:j+b]\n",
    "                        e_value= lista[i+3]\n",
    "                        query = lista[i-4]\n",
    "                    j=j+1\n",
    "        i=i+1\n",
    "    return query,e_value\n",
    "\n",
    "query_evalue(matches, \"PKL\")"
   ]
  },
  {
   "cell_type": "code",
   "execution_count": 165,
   "metadata": {},
   "outputs": [
    {
     "name": "stdout",
     "output_type": "stream",
     "text": [
      "\n",
      "XP_025015659.1\n",
      "LOCUS:XP_025015659\n",
      "SOURCE:Ricinus communis (castor bean)\n",
      "[MODEL REFSEQ: This record is predicted by automated computational analysis. This record is derived from a genomic sequence (NW_002995114.1) annotated using gene prediction method: Gnomon, supported by EST evidence.~Also see:~ Documentation of NCBI's Annotation Process~; ; ##Genome-Annotation-Data-START## ; Annotation Provider :: NCBI ; Annotation Status :: Full annotation ; Annotation Name :: Ricinus communis Annotation Release 101 ; Annotation Version :: 101 ; Annotation Pipeline :: NCBI eukaryotic genome annotation pipeline ; Annotation Software Version :: 8.0 ; Annotation Method :: Best-placed RefSeq; Gnomon ; Features Annotated :: Gene; mRNA; CDS; ncRNA ; ##Genome-Annotation-Data-END##; ; ##RefSeq-Attributes-START## ; frameshifts :: corrected 1 indel ; ##RefSeq-Attributes-END##; COMPLETENESS: full length.\n"
     ]
    }
   ],
   "source": [
    "from Bio import Entrez\n",
    "from Bio import SeqIO\n",
    "f_t = ['XP_025015659.1'] \n",
    "Entrez.email = \"gangulo@eafit.edu.co\"\n",
    "\n",
    "for prot in f_t:\n",
    "    print()\n",
    "    print(prot)\n",
    "    proteina = Entrez.efetch(db=\"protein\", id=prot, retmode=\"xml\")\n",
    "    proteinaXML = Entrez.read(proteina)[0]\n",
    "    print(\"LOCUS:\"+proteinaXML[\"GBSeq_locus\"])\n",
    "    print(\"SOURCE:\"+proteinaXML[\"GBSeq_source\"])\n",
    "    info = proteinaXML[\"GBSeq_comment\"].split(\"[\")\n",
    "    newl = []\n",
    "    for e in info:\n",
    "        newl.append(\"[\"+e)\n",
    "\n",
    "for ne in newl:\n",
    "    print(ne)"
   ]
  },
  {
   "cell_type": "code",
   "execution_count": 166,
   "metadata": {},
   "outputs": [
    {
     "name": "stdout",
     "output_type": "stream",
     "text": [
      "\n",
      "Q9S775\n",
      "LOCUS:PKL_ARATH\n",
      "SOURCE:Arabidopsis thaliana (thale cress)\n",
      "[On or before Jun 15, 2007 this sequence version replaced gi:122242445, gi:25453560.; \n",
      "[FUNCTION] Chromatin remodeling factor that represses the expression of embryonic trait genes (such as NFYB9/LEC1) upon and after seed germination and thus enables the developmental switch to post-germinative growth. Silences some MADS-box proteins such as PHE1 and PHE2. Plays a role during carpel differentiation. Regulates late processes in cytokinin signaling. {ECO:0000269|PubMed:10535738, ECO:0000269|PubMed:10570159, ECO:0000269|PubMed:16359393, ECO:0000269|PubMed:21357580}.; \n",
      "[SUBUNIT] Interacts with TAF12B. {ECO:0000269|PubMed:21357580}.; \n",
      "[SUBCELLULAR LOCATION] Nucleus {ECO:0000255|PROSITE-ProRule:PRU00768, ECO:0000269|PubMed:16359393, ECO:0000269|PubMed:19245862}.; \n",
      "[TISSUE SPECIFICITY] Mostly expressed in tissue undergoing significant differentiation (meristems and primordia) such as young seedlings, influorescent tissue and young siliques, but not in endosperm and seed coat (at protein level). Levels decrease as organs age. Also present in trichomes. {ECO:0000269|PubMed:10535738, ECO:0000269|PubMed:10570159, ECO:0000269|PubMed:16359393}.; \n",
      "[INDUCTION] Not up-regulated by cytokinins. {ECO:0000269|PubMed:21357580}.; \n",
      "[DISRUPTION PHENOTYPE] Hypersensitivity to cytokinins. {ECO:0000269|PubMed:21357580}.; \n",
      "[MISCELLANEOUS] 'Gymnos' means 'naked' in Greek.; \n",
      "[SIMILARITY] Belongs to the SNF2/RAD54 helicase family. {ECO:0000305}.\n"
     ]
    }
   ],
   "source": [
    "from Bio import Entrez\n",
    "from Bio import SeqIO\n",
    "f_t = [PKL] \n",
    "Entrez.email = \"gangulo@eafit.edu.co\"\n",
    "\n",
    "for prot in f_t:\n",
    "    print()\n",
    "    print(prot)\n",
    "    proteina = Entrez.efetch(db=\"protein\", id=prot, retmode=\"xml\")\n",
    "    proteinaXML = Entrez.read(proteina)[0]\n",
    "    print(\"LOCUS:\"+proteinaXML[\"GBSeq_locus\"])\n",
    "    print(\"SOURCE:\"+proteinaXML[\"GBSeq_source\"])\n",
    "    info = proteinaXML[\"GBSeq_comment\"].split(\"[\")\n",
    "    newl = []\n",
    "    for e in info:\n",
    "        newl.append(\"[\"+e)\n",
    "\n",
    "for ne in newl:\n",
    "    print(ne)"
   ]
  },
  {
   "cell_type": "markdown",
   "metadata": {},
   "source": [
    "### VAL"
   ]
  },
  {
   "cell_type": "code",
   "execution_count": 167,
   "metadata": {},
   "outputs": [
    {
     "data": {
      "text/plain": [
       "('Query= XP_025013310.1 LOW QUALITY PROTEIN: histone-lysine N-methyltransferase ASHH2 [Ricinus communis]',\n",
       " ' Score = 40.8 bits (94),  Expect = 9.1e-06')"
      ]
     },
     "execution_count": 167,
     "metadata": {},
     "output_type": "execute_result"
    }
   ],
   "source": [
    "def query_evalue(lista, proteina):\n",
    "    i=0\n",
    "    b=len(proteina)\n",
    "    prot=\"\"\n",
    "    e_value=[]\n",
    "    query=[]\n",
    "    while i < len(lista):\n",
    "        if len(lista[i])!=0:\n",
    "            if lista[i][0] == \">\":\n",
    "                j=1\n",
    "                while j< len(lista[i]):\n",
    "                    if lista[i][j:j+b] == proteina:\n",
    "                        prot= lista[i][j:j+b]\n",
    "                        e_value= lista[i+3]\n",
    "                        query = lista[i-4]\n",
    "                    j=j+1\n",
    "        i=i+1\n",
    "    return query,e_value\n",
    "\n",
    "query_evalue(matches, \"VAL\")"
   ]
  },
  {
   "cell_type": "code",
   "execution_count": 168,
   "metadata": {},
   "outputs": [
    {
     "name": "stdout",
     "output_type": "stream",
     "text": [
      "\n",
      "XP_025013310.1\n",
      "LOCUS:XP_025013310\n",
      "SOURCE:Ricinus communis (castor bean)\n",
      "[MODEL REFSEQ: This record is predicted by automated computational analysis. This record is derived from a genomic sequence (NW_002994357.1) annotated using gene prediction method: Gnomon.~Also see:~ Documentation of NCBI's Annotation Process~; ; ##Genome-Annotation-Data-START## ; Annotation Provider :: NCBI ; Annotation Status :: Full annotation ; Annotation Name :: Ricinus communis Annotation Release 101 ; Annotation Version :: 101 ; Annotation Pipeline :: NCBI eukaryotic genome annotation pipeline ; Annotation Software Version :: 8.0 ; Annotation Method :: Best-placed RefSeq; Gnomon ; Features Annotated :: Gene; mRNA; CDS; ncRNA ; ##Genome-Annotation-Data-END##; ; ##RefSeq-Attributes-START## ; ab initio :: 6% of CDS bases ; internal stop codons :: corrected 3 genomic stop codon ; ##RefSeq-Attributes-END##; COMPLETENESS: full length.\n"
     ]
    }
   ],
   "source": [
    "from Bio import Entrez\n",
    "from Bio import SeqIO\n",
    "f_t = ['XP_025013310.1'] \n",
    "Entrez.email = \"gangulo@eafit.edu.co\"\n",
    "\n",
    "for prot in f_t:\n",
    "    print()\n",
    "    print(prot)\n",
    "    proteina = Entrez.efetch(db=\"protein\", id=prot, retmode=\"xml\")\n",
    "    proteinaXML = Entrez.read(proteina)[0]\n",
    "    print(\"LOCUS:\"+proteinaXML[\"GBSeq_locus\"])\n",
    "    print(\"SOURCE:\"+proteinaXML[\"GBSeq_source\"])\n",
    "    info = proteinaXML[\"GBSeq_comment\"].split(\"[\")\n",
    "    newl = []\n",
    "    for e in info:\n",
    "        newl.append(\"[\"+e)\n",
    "\n",
    "for ne in newl:\n",
    "    print(ne)"
   ]
  },
  {
   "cell_type": "code",
   "execution_count": 169,
   "metadata": {},
   "outputs": [
    {
     "name": "stdout",
     "output_type": "stream",
     "text": [
      "\n",
      "Q8W4L5\n",
      "LOCUS:VAL1_ARATH\n",
      "SOURCE:Arabidopsis thaliana (thale cress)\n",
      "[On May 26, 2009 this sequence version replaced gi:75097004.; \n",
      "[FUNCTION] Transcriptional repressor of gene expression involved in embryonic pathways, such as LEC1, ABI3, and FUS3. Repressor of the sugar-inducible genes involved in the seed maturation program in seedlings. Plays an essential role in regulating the transition from seed maturation to seedling growth. Functionally redundant with VAL2/HSL1. {ECO:0000269|PubMed:15894743, ECO:0000269|PubMed:17158584, ECO:0000269|PubMed:17267611}.; \n",
      "[SUBUNIT] Interacts with SNL1. {ECO:0000269|PubMed:19962994}.; \n",
      "[SUBCELLULAR LOCATION] Nucleus {ECO:0000255|PROSITE-ProRule:PRU00326, ECO:0000269|PubMed:15894743}.; \n",
      "[TISSUE SPECIFICITY] Expressed in flowers and at lower levels in roots, stems and leaves. {ECO:0000269|PubMed:15894743}.; \n",
      "[SEQUENCE CAUTION] Sequence=AAB63089.1; Type=Erroneous gene model prediction; Evidence={ECO:0000305}.\n"
     ]
    }
   ],
   "source": [
    "from Bio import Entrez\n",
    "from Bio import SeqIO\n",
    "f_t = [VAL] \n",
    "Entrez.email = \"gangulo@eafit.edu.co\"\n",
    "\n",
    "for prot in f_t:\n",
    "    print()\n",
    "    print(prot)\n",
    "    proteina = Entrez.efetch(db=\"protein\", id=prot, retmode=\"xml\")\n",
    "    proteinaXML = Entrez.read(proteina)[0]\n",
    "    print(\"LOCUS:\"+proteinaXML[\"GBSeq_locus\"])\n",
    "    print(\"SOURCE:\"+proteinaXML[\"GBSeq_source\"])\n",
    "    info = proteinaXML[\"GBSeq_comment\"].split(\"[\")\n",
    "    newl = []\n",
    "    for e in info:\n",
    "        newl.append(\"[\"+e)\n",
    "\n",
    "for ne in newl:\n",
    "    print(ne)"
   ]
  },
  {
   "cell_type": "markdown",
   "metadata": {},
   "source": [
    "### NF-YA9"
   ]
  },
  {
   "cell_type": "code",
   "execution_count": 170,
   "metadata": {},
   "outputs": [
    {
     "data": {
      "text/plain": [
       "([], [])"
      ]
     },
     "execution_count": 170,
     "metadata": {},
     "output_type": "execute_result"
    }
   ],
   "source": [
    "def query_evalue(lista, proteina):\n",
    "    i=0\n",
    "    b=len(proteina)\n",
    "    prot=\"\"\n",
    "    e_value=[]\n",
    "    query=[]\n",
    "    while i < len(lista):\n",
    "        if len(lista[i])!=0:\n",
    "            if lista[i][0] == \">\":\n",
    "                j=1\n",
    "                while j< len(lista[i]):\n",
    "                    if lista[i][j:j+b] == proteina:\n",
    "                        prot= lista[i][j:j+b]\n",
    "                        e_value= lista[i+3]\n",
    "                        query = lista[i-4]\n",
    "                    j=j+1\n",
    "        i=i+1\n",
    "    return query,e_value\n",
    "\n",
    "query_evalue(matches, \"NF-YA9\")"
   ]
  },
  {
   "cell_type": "markdown",
   "metadata": {},
   "source": [
    "# Análisis y conclusiones"
   ]
  },
  {
   "cell_type": "markdown",
   "metadata": {},
   "source": [
    "<div class=text-justify>De las 17 proteínas analizadas 14 tuvieron homología en el proteoma de higuerilla con bajos valores de e-value: ANT, AIL1, AIL5, AIL6, PLT1, PLT2,PLT7, BBM, LEC2, ABI3, FUS3, AGL15, PKL y VAL. Sin embargo, aunque estas proteínas se encuentran en su mayoría caracterizadas en *A. thaliana* con funciones regulatorias en la embriogénesis, no es el mismo caso para higuerilla como puede observarse al comparar las búsquedas en la base de dato de NCBI. Sin embargo, los resultados invitan a evaluar si las proteínas homólogas en higuerilla identificadas aquí tienen funciones similares a las de *A. thaliana*, y también si se rigen por patrones similares de regulación.<br />\n",
    "    \n",
    "<div class=text-justify>En particular, el gen de la proteína LEC2 fue identificado previmente en higuerilla también mediante un BLAST usando la secuencia conocida de *A. thaliana* [5]. En ese trabajo observaron que ambas proteínas tienen un dominio B3 central altamente conservado y señalaron que esa característica sumada a similares patrónes de regulación podrían sugerir que los homólogos tienen funciones similares asociadas al desarrollo de semillas en ambas especies de plantas. Hay mucho por hacer todavia en el reconocimiento de genes homólogos que puedan esclarecer los requerimientos necesarios para la inducción de embriogénesis somática *in vitro*.\n",
    "    "
   ]
  },
  {
   "cell_type": "markdown",
   "metadata": {},
   "source": [
    "# Bibliografía"
   ]
  },
  {
   "cell_type": "markdown",
   "metadata": {},
   "source": [
    "1. FAO, F., OMS, P., & UNICEF. (2017). El estado de la seguridad alimentaria y la nutrición en el mundo 2017. Fomentando la resiliencia en aras de la paz y la seguridad alimentaria. ROMA, FAO.\n",
    "2. Pernisová, M., Klíma, P., Horák, J., Válková, M., Malbeck, J., Souček, P., ... & Za, E. (2009). Cytokinins modulate auxin-induced organogenesis in plants via regulation of the auxin efflux. Proceedings of the National Academy of Sciences, 106(9), 3609-3614.\n",
    "3. Us-Camas, R., Rivera-Solís, G., Duarte-Aké, F., & De-la-Pena, C. (2014). In vitro culture: an epigenetic challenge for plants. Plant Cell, Tissue and Organ Culture (PCTOC), 118(2), 187-201.\n",
    "4. Horstman, A., Li, M., Heidmann, I., Weemen, M., Chen, B., Muino, J. M., ... & Boutilier, K. (2017). The BABY BOOM transcription factor activates the LEC1-ABI3-FUS3-LEC2 network to induce somatic embryogenesis. Plant physiology, pp-00232.\n",
    "5. Kim, H. U., Jung, S. J., Lee, K. R., Kim, E. H., Lee, S. M., Roh, K. H., & Kim, J. B. (2014). Ectopic overexpression of castor bean LEAFY COTYLEDON2 (LEC2) in Arabidopsis triggers the expression of genes that encode regulators of seed maturation and oil body proteins in vegetative tissues. FEBS open bio, 4, 25-32."
   ]
  }
 ],
 "metadata": {
  "kernelspec": {
   "display_name": "Python 3",
   "language": "python",
   "name": "python3"
  },
  "language_info": {
   "codemirror_mode": {
    "name": "ipython",
    "version": 3
   },
   "file_extension": ".py",
   "mimetype": "text/x-python",
   "name": "python",
   "nbconvert_exporter": "python",
   "pygments_lexer": "ipython3",
   "version": "3.6.5"
  }
 },
 "nbformat": 4,
 "nbformat_minor": 2
}
