{
 "cells": [
  {
   "cell_type": "markdown",
   "metadata": {},
   "source": [
    "# Taller 2 - Python\n",
    "## Fundamentos en Biología Computacional\n",
    "## 2018-2, Prof. Javier Correa\n",
    "\n",
    "### Giany Angulo \n",
    "Nota: Se calificará que el código sea lo más simple, claro, original y eficiente. No usar funciones no realizadas por ustedes mismos."
   ]
  },
  {
   "cell_type": "markdown",
   "metadata": {},
   "source": [
    "1. Realice un función para expresar cualquier número entero en su conotación factorial. <br>\n",
    "Ejemplo: factorial(4)<br>\n",
    "Out: 24"
   ]
  },
  {
   "cell_type": "code",
   "execution_count": 1,
   "metadata": {},
   "outputs": [
    {
     "data": {
      "text/plain": [
       "720"
      ]
     },
     "execution_count": 1,
     "metadata": {},
     "output_type": "execute_result"
    }
   ],
   "source": [
    "def FactorialEnteros (numero):\n",
    "    producto = 1\n",
    "    i = 2\n",
    "    while i <= numero:\n",
    "        producto = producto * i\n",
    "        i = i + 1\n",
    "    return producto \n",
    "int(FactorialEnteros (6))"
   ]
  },
  {
   "cell_type": "markdown",
   "metadata": {},
   "source": [
    "2. Realice un función para expresar la potencia de cualquier número. La función recibe como parámetros la base y el exponencial. <br>\n",
    "Ejemplo: potencia(4,2)<br>\n",
    "Out: 16"
   ]
  },
  {
   "cell_type": "code",
   "execution_count": 2,
   "metadata": {},
   "outputs": [
    {
     "data": {
      "text/plain": [
       "36"
      ]
     },
     "execution_count": 2,
     "metadata": {},
     "output_type": "execute_result"
    }
   ],
   "source": [
    "def potenciaN(base, expo):\n",
    "    return base ** expo\n",
    "potenciaN(6,2)"
   ]
  },
  {
   "cell_type": "markdown",
   "metadata": {},
   "source": [
    "3. Utilizando las dos funciones anteriormente definidas (factorial y potencia), realice un función para expresar el Seno de un entero. <br>\n",
    "Ejemplo: seno(5)<br>\n",
    "Out: -0.9589331651965962"
   ]
  },
  {
   "cell_type": "code",
   "execution_count": 3,
   "metadata": {},
   "outputs": [
    {
     "data": {
      "text/plain": [
       "-0.9589242746631186"
      ]
     },
     "execution_count": 3,
     "metadata": {},
     "output_type": "execute_result"
    }
   ],
   "source": [
    "def Seno (numero):\n",
    "    pi = 3.1415\n",
    "    radianes = numero * pi / 180 \n",
    "    sumap = 0\n",
    "    suman = 0\n",
    "    i1 = 1\n",
    "    i2 = 3\n",
    "    termino = 10\n",
    "    while termino > 0:\n",
    "        sumap = sumap + (potenciaN(numero, i1) / FactorialEnteros(i1))\n",
    "        suman = suman + (potenciaN(numero, i2) / FactorialEnteros(i2))\n",
    "        i1 = i1 + 4\n",
    "        i2 = i2 + 4\n",
    "        termino = termino - 1\n",
    "    return sumap - suman\n",
    "\n",
    "Seno(5)\n",
    "    "
   ]
  },
  {
   "cell_type": "markdown",
   "metadata": {},
   "source": [
    "4. Dadas las cantidades de individuos con los genótipos AA, AB y BB. Calcular la frecuencia del alelo A esperada en equilibrio de Hardyweinber. <br>\n",
    "Ejemplo: hardyweinbergpp(12,4,4) <br>\n",
    "Out: 0.48999999999999994"
   ]
  },
  {
   "cell_type": "code",
   "execution_count": 4,
   "metadata": {},
   "outputs": [
    {
     "data": {
      "text/plain": [
       "0.756330141379776"
      ]
     },
     "execution_count": 4,
     "metadata": {},
     "output_type": "execute_result"
    }
   ],
   "source": [
    "# frecuencias genotípicas: AA= P**2, AB= 2pq, BB= q**2\n",
    "# Para calcular frecuencias genotípicas (p, q y 2pq) se divide el número de individuos con el genotipo entre el total de individuos. ej: 12/20, 4/20, 3/20\n",
    "# Para calcular frecuencias alélicas utilizamos la formula: p**2+2pq+q**2=1\n",
    "\n",
    "def frecuenciaAlelicaHardy (AA, AB, BB):\n",
    "    totali = AA + AB + BB\n",
    "    pala2 = AA / totali\n",
    "    dospq = AB / totali\n",
    "    qala2 = BB / totali\n",
    "    hardy = 1 - (pala2 + dospq)\n",
    "    q = hardy ** (1/2)\n",
    "    return 1 - q\n",
    "frecuenciaAlelicaHardy (187, 114, 19)"
   ]
  },
  {
   "cell_type": "markdown",
   "metadata": {},
   "source": [
    "5. Dada una cadena de DNA retornar una de RNA <br>\n",
    "Ejemplo: DNA_to_RNA(\"TCTCTACTCATGTCTGCA\")<br>\n",
    "Out: UCUCUACUCAUGUCUGCA"
   ]
  },
  {
   "cell_type": "code",
   "execution_count": 44,
   "metadata": {},
   "outputs": [
    {
     "data": {
      "text/plain": [
       "'UCUCUACUCAUGUCUGCA'"
      ]
     },
     "execution_count": 44,
     "metadata": {},
     "output_type": "execute_result"
    }
   ],
   "source": [
    "def pasaraARN (adn):\n",
    "    i = 0\n",
    "    arn = \"\"\n",
    "    while i < len(adn):\n",
    "        if adn[i] == \"T\":\n",
    "            arn = arn + \"U\"\n",
    "        else: \n",
    "            arn = arn + adn[i]\n",
    "            \n",
    "        i = i + 1\n",
    "    return arn\n",
    "\n",
    "SADN = \"TCTCTACTCATGTCTGCA\"\n",
    "\n",
    "pasaraARN(SADN)\n",
    "\n",
    "    \n",
    "    "
   ]
  },
  {
   "cell_type": "markdown",
   "metadata": {},
   "source": [
    "6. Realizar una función que calcule la Temperatura de Melting de un primer de DNA en grados Celcius. Teniendo en cuenta que; en un oligonucleótido < de 14 nucleótidos, la Tm se calcula multiplicando la cantidad de G+C por 4 y las A+T por 2. Mientras que, si es >= de 14 nt, se debe aplicar la siguiente fórmula (64.9 + 41 * (totalG+C -16.4) / Tamaño sel oligo). <br>\n",
    "Ejemplo: tempmelt(TCTCTACTCATGTCTGCA)<br>\n",
    "Out: 57.2"
   ]
  },
  {
   "cell_type": "code",
   "execution_count": 27,
   "metadata": {},
   "outputs": [
    {
     "data": {
      "text/plain": [
       "7"
      ]
     },
     "execution_count": 27,
     "metadata": {},
     "output_type": "execute_result"
    }
   ],
   "source": [
    "def contarT (t):\n",
    "    i = 0\n",
    "    conteot = 0\n",
    "    while i < len(t):\n",
    "        if t[i] == \"T\":\n",
    "            conteot = conteot + 1\n",
    "        i = i + 1\n",
    "    return conteot\n",
    "\n",
    "SADN1 = [\"T\", \"C\", \"T\", \"C\", \"T\", \"A\", \"C\", \"T\", \"C\", \"A\", \"T\", \"G\", \"T\", \"C\", \"T\", \"G\", \"C\", \"A\"]\n",
    "\n",
    "contarT (SADN1)    "
   ]
  },
  {
   "cell_type": "code",
   "execution_count": 28,
   "metadata": {},
   "outputs": [
    {
     "data": {
      "text/plain": [
       "3"
      ]
     },
     "execution_count": 28,
     "metadata": {},
     "output_type": "execute_result"
    }
   ],
   "source": [
    "def contarA (a):\n",
    "    i = 0\n",
    "    conteoa = 0\n",
    "    while i < len(a):\n",
    "        if a[i] == \"A\":\n",
    "            conteoa = conteoa + 1\n",
    "        i = i + 1\n",
    "    return conteoa\n",
    "\n",
    "contarA(SADN1)"
   ]
  },
  {
   "cell_type": "code",
   "execution_count": 29,
   "metadata": {},
   "outputs": [
    {
     "data": {
      "text/plain": [
       "6"
      ]
     },
     "execution_count": 29,
     "metadata": {},
     "output_type": "execute_result"
    }
   ],
   "source": [
    "def contarC (c):\n",
    "    i = 0\n",
    "    conteoc = 0\n",
    "    while i < len(c):\n",
    "        if c[i] == \"C\":\n",
    "            conteoc = conteoc + 1\n",
    "        i = i + 1\n",
    "    return conteoc\n",
    "\n",
    "contarC(SADN1)"
   ]
  },
  {
   "cell_type": "code",
   "execution_count": 30,
   "metadata": {},
   "outputs": [
    {
     "data": {
      "text/plain": [
       "2"
      ]
     },
     "execution_count": 30,
     "metadata": {},
     "output_type": "execute_result"
    }
   ],
   "source": [
    "def contarG (g):\n",
    "    i = 0\n",
    "    conteog = 0\n",
    "    while i < len(g):\n",
    "        if g[i] == \"G\":\n",
    "            conteog = conteog + 1\n",
    "        i = i + 1\n",
    "    return conteog\n",
    "\n",
    "contarG(SADN1)"
   ]
  },
  {
   "cell_type": "code",
   "execution_count": 32,
   "metadata": {},
   "outputs": [
    {
     "data": {
      "text/plain": [
       "45.76666666666668"
      ]
     },
     "execution_count": 32,
     "metadata": {},
     "output_type": "execute_result"
    }
   ],
   "source": [
    "def temperaturaMelting (secuencia):\n",
    "    totalAT = contarA(secuencia) + contarT(secuencia)\n",
    "    totalGC = contarG(secuencia) + contarC(secuencia)\n",
    "    if len(secuencia) <= 14:\n",
    "        Tm = (totalAT * 2) + (totalGC * 4)\n",
    "    else: \n",
    "        Tm = (64.9 + 41 * (totalGC - 16.4) / len(secuencia))\n",
    "    return Tm\n",
    "\n",
    "temperaturaMelting (SADN1)\n",
    "\n",
    "\n",
    "    \n",
    "    "
   ]
  },
  {
   "cell_type": "markdown",
   "metadata": {},
   "source": [
    "7. Hallar la distancia Hamming entre dos secuencias de polipéptidos. <br>\n",
    "link: https://es.wikipedia.org/wiki/Distancia_de_Hamming <br>\n",
    "Ejemplo: distancia_Hamming(\"SRSLLLRFLMSRSLLLRFLLFLLLLPPLPLFLLLLPPL\",\"SRSLLLRFLSSRSLLLRFLLFLLLLAALALFLLLLSML\")<br>\n",
    "Out:6"
   ]
  },
  {
   "cell_type": "code",
   "execution_count": 59,
   "metadata": {},
   "outputs": [
    {
     "data": {
      "text/plain": [
       "6"
      ]
     },
     "execution_count": 59,
     "metadata": {},
     "output_type": "execute_result"
    }
   ],
   "source": [
    "secu1 = [\"A\",\"A\",\"A\",\"B\",\"B\",\"B\",\"C\",\"C\",\"C\"]\n",
    "secu2 = [\"A\",\"A\",\"B\",\"B\",\"B\",\"A\",\"C\", \"C\",\"B\"]\n",
    "\n",
    "def distanciaHamming(poli1,poli2):\n",
    "    i1 = 0\n",
    "    i2 = 0\n",
    "    cont = 0\n",
    "    len(poli1) == len(poli2)\n",
    "    while i1 < len(poli1):\n",
    "        if poli1[i1] != poli2[i2]:\n",
    "            cont = cont + 1\n",
    "        i1 = i1 + 1\n",
    "        i2 = i2 + 1\n",
    "    return cont\n",
    "distanciaHamming(\"SRSLLLRFLMSRSLLLRFLLFLLLLPPLPLFLLLLPPL\",\"SRSLLLRFLSSRSLLLRFLLFLLLLAALALFLLLLSML\")\n"
   ]
  },
  {
   "cell_type": "markdown",
   "metadata": {},
   "source": [
    "8. Dada la tabla de codones estandar, hacer una función para traducir una cadena de DNA empezando desde la posición 1 <br>\n",
    "Ejemplo: traducir(\"ATGGCGCGTATGAATAGCAATCCGAGCGCATGCCATGTTTGCCATGCGGCTCTGGCGGTCATTGATGCGTGCAATAACAATACCCGTAATAGCAATATCAATAGCTAA\")<br>\n",
    "Out: Met A R Met N S N P S A C H V C H A A L A V I D A C N N N T R N S N I N S Stop"
   ]
  },
  {
   "cell_type": "code",
   "execution_count": 53,
   "metadata": {},
   "outputs": [
    {
     "data": {
      "text/plain": [
       "'MARMNSNPSACHVCHAALAVIDACNNNTRNSNINSSTOP'"
      ]
     },
     "execution_count": 53,
     "metadata": {},
     "output_type": "execute_result"
    }
   ],
   "source": [
    "dic = {\"UUU\":\"F\", \"UUC\":\"F\", \"UUA\":\"L\", \"UUG\":\"L\",\n",
    "    \"UCU\":\"S\", \"UCC\":\"s\", \"UCA\":\"S\", \"UCG\":\"S\",\n",
    "    \"UAU\":\"Y\", \"UAC\":\"Y\", \"UAA\":\"STOP\", \"UAG\":\"STOP\",\n",
    "    \"UGU\":\"C\", \"UGC\":\"C\", \"UGA\":\"STOP\", \"UGG\":\"W\",\n",
    "    \"CUU\":\"L\", \"CUC\":\"L\", \"CUA\":\"L\", \"CUG\":\"L\",\n",
    "    \"CCU\":\"P\", \"CCC\":\"P\", \"CCA\":\"P\", \"CCG\":\"P\",\n",
    "    \"CAU\":\"H\", \"CAC\":\"H\", \"CAA\":\"Q\", \"CAG\":\"Q\",\n",
    "    \"CGU\":\"R\", \"CGC\":\"R\", \"CGA\":\"R\", \"CGG\":\"R\",\n",
    "    \"AUU\":\"I\", \"AUC\":\"I\", \"AUA\":\"I\", \"AUG\":\"M\",\n",
    "    \"ACU\":\"T\", \"ACC\":\"T\", \"ACA\":\"T\", \"ACG\":\"T\",\n",
    "    \"AAU\":\"N\", \"AAC\":\"N\", \"AAA\":\"K\", \"AAG\":\"K\",\n",
    "    \"AGU\":\"S\", \"AGC\":\"S\", \"AGA\":\"R\", \"AGG\":\"R\",\n",
    "    \"GUU\":\"V\", \"GUC\":\"V\", \"GUA\":\"V\", \"GUG\":\"V\",\n",
    "    \"GCU\":\"A\", \"GCC\":\"A\", \"GCA\":\"A\", \"GCG\":\"A\",\n",
    "    \"GAU\":\"D\", \"GAC\":\"D\", \"GAA\":\"E\", \"GAG\":\"E\",\n",
    "    \"GGU\":\"G\", \"GGC\":\"G\", \"GGA\":\"G\", \"GGG\":\"G\",}\n",
    "\n",
    "\n",
    "\n",
    "def traduccionADN(sec):\n",
    "    i = 0\n",
    "    poli = \"\"\n",
    "    while i < len(sec) - 2:\n",
    "        amino = dic[sec[i:i+3]]\n",
    "        poli = poli + amino\n",
    "        i = i + 3\n",
    "    return poli\n",
    "\n",
    "secuencia = \"ATGGCGCGTATGAATAGCAATCCGAGCGCATGCCATGTTTGCCATGCGGCTCTGGCGGTCATTGATGCGTGCAATAACAATACCCGTAATAGCAATATCAATAGCTAA\"\n",
    "\n",
    "secuenciadeARN = pasaraARN(secuencia)\n",
    "\n",
    "traduccionADN(secuenciadeARN)\n"
   ]
  },
  {
   "cell_type": "markdown",
   "metadata": {},
   "source": [
    "9. Usando la función anterior, traducir en los 6 frames una cadena de DNA dada.\n",
    "Ejemplo: traducirALL(\"ATGGCGCGTATGAATAGCAATCCGAGCGCATGCCATGTTTGCCATGCGGCTCTGGCGGTCATTGATGCGTGCAATAACAATACCCGTAATAGCAATATCAATAGCTAA\")<br>\n",
    "Out: (1:Met A R Met N S N P S A C H V C H A A L A V I D A C N N N T R N S N I N S Stop, 2:W R V Stop I A I R A H A Met F A Met R L W R S L Met R A I T I P V I A I S I A, 3:G A Y E Stop Q S E R Met P C L P C G S G G H Stop C V Q Stop Q Y P Stop Stop Q Y Q Stop L, 4:L A I D I A I T G I V I A R I N D R Q S R Met A N Met A C A R I A I H T R H, 5:Stop L L I L L L R V L L L H A S Met T A R A A W Q T W H A L G L L F I R A, 6:S Y Stop Y C Y Y G Y C Y C T H Q Stop P P E P H G K H G Met R S D C Y S Y A P)"
   ]
  },
  {
   "cell_type": "code",
   "execution_count": 70,
   "metadata": {},
   "outputs": [
    {
     "data": {
      "text/plain": [
       "'1:MARMNSNPSACHVCHAALAVIDACNNNTRNSNINSSTOP,2:WRVSTOPIAIRAHAMFAMRLWRSLMRAITIPVIAISIA,3:GAYESTOPQsERMPCLPCGSGGHSTOPCVQSTOPQYPSTOPSTOPQYQSTOPL'"
      ]
     },
     "execution_count": 70,
     "metadata": {},
     "output_type": "execute_result"
    }
   ],
   "source": [
    "def nana(secc):\n",
    "    return (\"1\" + \":\" + traduccionADN(secc) + \",\" + \"2\" + \":\" + traduccionADN(secc[1:]) + \",\" + \"3\" + \":\" + traduccionADN(secc[2:]))\n",
    "nana(secuenciadeARN)"
   ]
  },
  {
   "cell_type": "markdown",
   "metadata": {},
   "source": [
    "10. Un investigador realizó un experiemento donde trató células cancerígeneas con un antimitótico y luego de un tiempo cuantificó la expresión de varios oncogenes usando RNAseq. (Figura adjunta).<br>\n",
    "![texte](image.png)\n",
    "En la imagen se muestra en la primera columna los IDs de los oncogenes. Las tres columnas siguientes (Son réplicas del tratamiento control con células no tratadas, Exp1, Exp2 y Exp3). Las tres últimas columnas son las tres réplicas del tratamiento con el antimitótico. <br>\n",
    "a. Utilizando la librería numpy, creár una matríz y cargar los datos de la tabla e imprimirla. <br>\n",
    "b. Realizar una función que promedie, usando las tres réplicas, la expresión de cada gen por tratamiento. <br>\n",
    "c. Realizar una función donde a partir de los promedio de cada gen, compare el tratamiento versus el control y si la relación es < 0.5 ó > 1.5 retornar el ID del gen expresado diferencialmente."
   ]
  },
  {
   "cell_type": "code",
   "execution_count": null,
   "metadata": {},
   "outputs": [],
   "source": []
  }
 ],
 "metadata": {
  "kernelspec": {
   "display_name": "Python 3",
   "language": "python",
   "name": "python3"
  },
  "language_info": {
   "codemirror_mode": {
    "name": "ipython",
    "version": 3
   },
   "file_extension": ".py",
   "mimetype": "text/x-python",
   "name": "python",
   "nbconvert_exporter": "python",
   "pygments_lexer": "ipython3",
   "version": "3.6.5"
  }
 },
 "nbformat": 4,
 "nbformat_minor": 2
}
