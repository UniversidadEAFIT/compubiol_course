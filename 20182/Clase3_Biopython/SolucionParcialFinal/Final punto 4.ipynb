{
 "cells": [
  {
   "cell_type": "markdown",
   "metadata": {},
   "source": [
    "# Parcial Final \n",
    "## Punto 4"
   ]
  },
  {
   "cell_type": "code",
   "execution_count": 6,
   "metadata": {},
   "outputs": [
    {
     "data": {
      "text/plain": [
       "True"
      ]
     },
     "execution_count": 6,
     "metadata": {},
     "output_type": "execute_result"
    }
   ],
   "source": [
    "# Función para saber si dos secuencias tienen el mismo tamaño\n",
    "def SonIguales (Seq1,Seq2):\n",
    "    if len(Seq1) == len(Seq2):\n",
    "        return True \n",
    "    else:\n",
    "        return False\n",
    "\n",
    "#Prueba\n",
    "SonIguales('AAAB','AAAB')"
   ]
  },
  {
   "cell_type": "code",
   "execution_count": 7,
   "metadata": {},
   "outputs": [
    {
     "data": {
      "text/plain": [
       "True"
      ]
     },
     "execution_count": 7,
     "metadata": {},
     "output_type": "execute_result"
    }
   ],
   "source": [
    "# Función para saber que la secuencia si la secuencia 1 es menro que la 2\n",
    "def Unoesmenorquedos(Seq1,Seq2):\n",
    "    if len(Seq1)<len(Seq2):\n",
    "         return True \n",
    "    else:\n",
    "        return False\n",
    "\n",
    "#Prueba\n",
    "Unoesmenorquedos('AAAB','AAABC')"
   ]
  },
  {
   "cell_type": "code",
   "execution_count": 9,
   "metadata": {},
   "outputs": [
    {
     "data": {
      "text/plain": [
       "1"
      ]
     },
     "execution_count": 9,
     "metadata": {},
     "output_type": "execute_result"
    }
   ],
   "source": [
    "# Función para calcular la distancia de dos secuencias iguales\n",
    "def Distancia(Seq1,Seq2):\n",
    "    i = 0\n",
    "    distancia=0\n",
    "    while i<len(Seq1):\n",
    "        if Seq1[i]!=Seq2[i]:\n",
    "            distancia=distancia+1\n",
    "        i = i+1\n",
    "    return distancia\n",
    "\n",
    "#Prueba\n",
    "Distancia('AAABC','AAABA')"
   ]
  },
  {
   "cell_type": "code",
   "execution_count": 10,
   "metadata": {},
   "outputs": [
    {
     "data": {
      "text/plain": [
       "6"
      ]
     },
     "execution_count": 10,
     "metadata": {},
     "output_type": "execute_result"
    }
   ],
   "source": [
    "# Función distancia de dos secuencias sean iguales o no\n",
    "def DistanciaHamming(Seq1,Seq2):\n",
    "    i=0\n",
    "    distancia=0\n",
    "    if SonIguales(Seq1,Seq2) == True:\n",
    "        return Distancia(Seq1,Seq2)\n",
    "    else:\n",
    "        if Unoesmenorquedos(Seq1,Seq2) == True:\n",
    "            return Distancia(Seq1,Seq2)+(len(Seq2)-len(Seq1))\n",
    "        else:\n",
    "            return Distancia(Seq2,Seq1)+(len(Seq1)-len(Seq2))\n",
    "        \n",
    "#Prueba\n",
    "DistanciaHamming('AA','AAABACCC')"
   ]
  },
  {
   "cell_type": "code",
   "execution_count": null,
   "metadata": {
    "collapsed": true
   },
   "outputs": [],
   "source": []
  }
 ],
 "metadata": {
  "kernelspec": {
   "display_name": "Python 3",
   "language": "python",
   "name": "python3"
  },
  "language_info": {
   "codemirror_mode": {
    "name": "ipython",
    "version": 3
   },
   "file_extension": ".py",
   "mimetype": "text/x-python",
   "name": "python",
   "nbconvert_exporter": "python",
   "pygments_lexer": "ipython3",
   "version": "3.6.4"
  }
 },
 "nbformat": 4,
 "nbformat_minor": 2
}
