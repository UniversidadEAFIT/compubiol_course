{
 "cells": [
  {
   "cell_type": "markdown",
   "metadata": {},
   "source": [
    "La tecnología de secuenciación Sanger genera cromatrogramas a partir de los cuales es posible asignar la secuencia de nucleotidos que se haya procesado.\n",
    "\n",
    "![Sanger](https://seqcore.brcf.med.umich.edu/sites/default/files/images/some_noise.gif)"
   ]
  },
  {
   "cell_type": "markdown",
   "metadata": {},
   "source": [
    "Estos cromatrogramas suelen venir en archivos de formato .abi, y de ellos puede extraerse tanto la secuencia de nucleotidos como la calidad asociada a estos."
   ]
  },
  {
   "cell_type": "markdown",
   "metadata": {},
   "source": [
    "Biopython cuenta con la función X, la cual puede leer estos archivos para su posterior manipulación."
   ]
  },
  {
   "cell_type": "code",
   "execution_count": 262,
   "metadata": {},
   "outputs": [],
   "source": [
    "from Bio import SeqIO"
   ]
  },
  {
   "cell_type": "markdown",
   "metadata": {
    "scrolled": true
   },
   "source": [
    "# Ejercicio\n",
    "\n",
    "Leer secuencias forward y reverse, y trimearlas según el phred quality"
   ]
  },
  {
   "cell_type": "markdown",
   "metadata": {},
   "source": [
    "## Mejores respuestas\n",
    "## 1. Veronica Velez"
   ]
  },
  {
   "cell_type": "code",
   "execution_count": 286,
   "metadata": {},
   "outputs": [],
   "source": [
    "# Función general para trimear secuencias\n",
    "# Parámetros: archivo de secuencia (con todos sus datos), valor del rango para evaluar con promedio, score para comparar quality.\n",
    "\n",
    "def trimrec(lrec, n, score):\n",
    "    phr = lrec.letter_annotations[\"phred_quality\"]\n",
    "    mitad=int(len(phr)/2)\n",
    "    der= mitad \n",
    "    izq= mitad \n",
    "    izqend=False\n",
    "    derend=False\n",
    "    while izq >=0 and der < len(phr)-1:\n",
    "        promizq= sum(phr[izq-n:izq])/float(n)\n",
    "        promder= sum(phr[der:der+n])/float(n)\n",
    "        if promizq >=score: \n",
    "            izq = izq - 1\n",
    "        else:\n",
    "            izqend=True\n",
    "        if promder >=score: \n",
    "            der = der + 1\n",
    "        else:\n",
    "            derend=True\n",
    "        if izqend and derend: \n",
    "            break\n",
    "#---------------------\n",
    "    trimedSeq = []\n",
    "    idx = izq\n",
    "    while idx <= der:\n",
    "        trimedSeq.append(lrec.seq[idx])\n",
    "        idx = idx + 1\n",
    "#---------------------\n",
    "                \n",
    "    return trimedSeq , phr[izq:der]\n",
    "\n",
    "# Esta función me devuelve: La secuencia trimeada y los valores Phred de cada nucleótido de la secuencia trimeada."
   ]
  },
  {
   "cell_type": "code",
   "execution_count": 290,
   "metadata": {},
   "outputs": [],
   "source": [
    "# Función para convertir de lista a String\n",
    "\n",
    "def listToString(alist):\n",
    "    s=\"\"\n",
    "    for c in alist:\n",
    "        s = s + c\n",
    "    return s"
   ]
  },
  {
   "cell_type": "code",
   "execution_count": 309,
   "metadata": {},
   "outputs": [],
   "source": [
    "# Función que agrupa todo lo necesario para aplicar la función de trimear a las secuencias del ejercicio (S6_27F y S6_907R).\n",
    "\n",
    "def main():\n",
    "    from Bio import SeqIO\n",
    "    record = SeqIO.read(\"raw_data/Sanger/S6_27F.ab1\",\"abi\")\n",
    "    record2 = SeqIO.read(\"raw_data/Sanger/S6_907R.ab1\",\"abi\")\n",
    "\n",
    "    # Para la secuencia S6_27F\n",
    "    seqtrim,phredtrim =trimrec(record,6,30)  \n",
    "\n",
    "    # Para la secuencia S6_907R  \n",
    "    rec2reverse = [c for c in record2.seq]\n",
    "    rec2reverse.reverse()\n",
    "    seqtrim2,phredtrim2 =trimrec(record2,6,30)\n",
    "    \n",
    "    print(listToString(seqtrim))\n",
    "    print(phredtrim)\n",
    "    print()\n",
    "    print(listToString(seqtrim2))\n",
    "    print(phredtrim2)\n"
   ]
  },
  {
   "cell_type": "code",
   "execution_count": 310,
   "metadata": {
    "scrolled": true
   },
   "outputs": [
    {
     "name": "stdout",
     "output_type": "stream",
     "text": [
      "AACATATCTGAGAGTAACTGTTCAGGTATTGACGGTATTTAACCAGAAAGCCACGGCTAACTACGTGCCAGCAGCCGCGGTAATACGTAGGTGGCAAGCGTTGTCCGGATTTATTGGGCGTAAAGCGAGCGCAGGCGGTTTTTTAAGTCTGATGTGAAAGCCTTCGGCTCAACCGAAGAAGTGCATCGGAAACTGGGAAACTTGAGTGCAGAAGAGGACAGTGGAACTCCATGTGTAGCGGTGAAATGCGTAGATATATGGAAGAACACCAGTGGCGAAGGCGGCTGTCTGGTCTGTAACTGACGCTGAGGCTCGAAAGTATGGGTAGCAAACAGGATTAGATACCCTGGTAGTCCATACCGTAAACGATGAATGCTAAGTGT\n",
      "[62, 56, 62, 62, 62, 62, 62, 62, 62, 62, 62, 51, 56, 38, 51, 39, 50, 51, 51, 62, 62, 62, 62, 62, 62, 62, 62, 62, 54, 62, 62, 62, 62, 62, 62, 62, 62, 62, 62, 62, 56, 62, 62, 62, 62, 56, 62, 62, 62, 62, 62, 62, 56, 62, 62, 62, 62, 62, 62, 62, 62, 62, 62, 62, 56, 62, 62, 62, 62, 42, 62, 62, 62, 62, 62, 62, 62, 62, 62, 62, 62, 62, 62, 62, 62, 62, 47, 62, 62, 28, 28, 62, 62, 49, 62, 62, 62, 62, 62, 62, 58, 58, 58, 58, 58, 58, 58, 58, 54, 45, 58, 58, 54, 58, 58, 58, 58, 58, 58, 58, 54, 52, 58, 58, 43, 44, 58, 58, 58, 58, 58, 58, 54, 38, 58, 58, 58, 49, 54, 58, 58, 58, 58, 58, 54, 58, 52, 58, 58, 58, 58, 58, 31, 49, 47, 47, 49, 49, 58, 42, 43, 58, 58, 58, 52, 36, 38, 48, 58, 54, 34, 48, 41, 41, 41, 58, 58, 22, 58, 58, 50, 58, 58, 42, 49, 58, 53, 58, 58, 58, 58, 58, 48, 54, 54, 48, 41, 48, 48, 46, 47, 51, 58, 58, 58, 50, 58, 58, 37, 49, 35, 58, 58, 25, 39, 20, 58, 41, 39, 52, 52, 51, 58, 58, 58, 49, 43, 58, 50, 44, 24, 51, 58, 53, 58, 49, 48, 42, 51, 58, 51, 53, 54, 58, 49, 50, 47, 58, 43, 51, 51, 54, 22, 41, 50, 52, 52, 50, 51, 58, 53, 51, 51, 32, 58, 39, 50, 39, 38, 38, 29, 50, 52, 58, 51, 50, 41, 58, 49, 6, 39, 39, 41, 46, 34, 53, 58, 50, 53, 52, 54, 54, 32, 53, 52, 54, 40, 30, 41, 37, 51, 54, 38, 29, 25, 51, 53, 35, 29, 6, 46, 32, 53, 49, 29, 47, 54, 53, 39, 45, 39, 35, 51, 54, 44, 47, 47, 26, 39, 28, 54, 37, 40, 31, 19, 47, 31, 17, 41, 40, 17, 39, 40, 37, 33, 28, 26, 28, 42, 44, 37, 45, 24, 37, 31, 29, 28, 45, 32, 40, 42, 40, 37, 40, 54, 42, 38, 28, 45, 31, 42, 45, 33, 23, 53, 32, 34, 31, 36, 26, 30, 46]\n",
      "\n",
      "TACTTTCGAGCCTCAGCGTCAGTTACAGACCAGACAGCCGCCTTCGCCACTGGTGTTCTTCCATATATCTACGCATTTCACCGCTACACATGGAGTTCCACTGTCCTCTTCTGCACTCAAGTTTCCCAGTTTCCGATGCACTTCTTCGGTTGAGCCGAAGGCTTTCACATCAGACTTAAAAAACCGCCTGCGCTCGCTTTACGCCCAATAAATCCGGACAACGCTTGCCACCTACGTATTACCGCGGCTGCTGGCACGTAGTTAGCCGTGGCTTTCTGGTTAAATACCGTCAATACCTGAACAGTTACTCTCAGATATGTTCTTCTTTAACAACAGAGTTTTACGAGCCGAAACCCTTCTTCACTCACGCGGCGTTGCTCCATCAGACTTTCGTCCATTGTGGAAGATTCCCTACTGCTGCCTCCCGTAGGAGTTTGGGCCGTGTCTCAGTCCCAATGTGGCCGATTACCCTCTCAGGTCGGCTACGTATCATTGCCATGGTGAGCCGTTACCCCACCATCTAGCTAATACGCCGCGGGACCATCCAAAAGTGATAGCCGAAGCCATCTT\n",
      "[52, 55, 55, 55, 52, 52, 55, 52, 45, 45, 52, 52, 52, 55, 55, 55, 55, 52, 52, 55, 45, 45, 52, 45, 55, 55, 45, 52, 52, 55, 55, 52, 52, 52, 55, 52, 52, 52, 52, 52, 55, 55, 55, 52, 55, 55, 52, 52, 52, 52, 45, 45, 45, 52, 52, 55, 52, 55, 55, 55, 55, 55, 55, 55, 55, 55, 55, 55, 55, 55, 55, 52, 52, 52, 52, 52, 52, 52, 55, 52, 55, 52, 52, 52, 52, 55, 55, 55, 52, 52, 55, 45, 45, 45, 55, 55, 55, 55, 55, 52, 55, 52, 52, 52, 55, 55, 55, 52, 52, 52, 55, 55, 52, 52, 52, 55, 52, 52, 55, 52, 55, 55, 55, 52, 55, 52, 52, 45, 45, 52, 52, 52, 55, 52, 55, 55, 55, 55, 55, 55, 52, 52, 52, 52, 52, 52, 52, 55, 52, 52, 52, 52, 52, 52, 55, 55, 55, 52, 40, 45, 40, 55, 55, 55, 52, 55, 55, 55, 52, 52, 52, 55, 55, 55, 55, 52, 52, 55, 55, 55, 52, 52, 52, 52, 52, 52, 55, 52, 52, 52, 52, 55, 55, 55, 55, 55, 55, 55, 52, 52, 55, 55, 55, 55, 52, 52, 52, 52, 52, 55, 55, 52, 55, 55, 52, 52, 52, 52, 55, 55, 55, 52, 52, 55, 40, 40, 40, 52, 52, 55, 55, 55, 55, 55, 55, 55, 55, 55, 55, 55, 55, 55, 55, 52, 45, 52, 45, 55, 55, 55, 52, 52, 55, 52, 55, 55, 55, 55, 55, 55, 55, 55, 55, 55, 55, 55, 55, 55, 52, 45, 45, 52, 55, 55, 52, 52, 52, 52, 45, 52, 45, 55, 55, 55, 55, 55, 55, 55, 55, 55, 52, 55, 55, 55, 55, 55, 55, 55, 55, 55, 55, 40, 35, 35, 46, 40, 40, 52, 46, 52, 30, 40, 40, 52, 52, 52, 52, 55, 55, 55, 52, 52, 52, 52, 52, 55, 55, 52, 55, 52, 55, 55, 55, 55, 55, 55, 55, 55, 55, 55, 55, 55, 55, 55, 55, 52, 55, 55, 45, 40, 55, 52, 40, 55, 55, 55, 55, 52, 52, 52, 52, 52, 45, 45, 55, 52, 52, 52, 55, 52, 52, 52, 52, 52, 45, 45, 45, 52, 55, 55, 52, 45, 45, 45, 45, 52, 55, 55, 55, 55, 55, 52, 52, 52, 55, 52, 45, 45, 45, 45, 40, 35, 30, 55, 52, 55, 52, 52, 52, 55, 52, 52, 52, 52, 45, 40, 40, 40, 22, 22, 52, 52, 52, 52, 52, 35, 30, 52, 52, 55, 52, 45, 45, 52, 35, 35, 49, 45, 35, 52, 35, 24, 40, 45, 45, 45, 45, 45, 52, 40, 45, 55, 52, 40, 52, 52, 52, 20, 20, 52, 20, 55, 45, 45, 52, 52, 52, 55, 55, 55, 52, 52, 52, 30, 30, 46, 46, 40, 40, 40, 35, 35, 52, 45, 52, 52, 52, 52, 45, 45, 40, 23, 30, 23, 35, 42, 35, 25, 20, 40, 20, 45, 52, 52, 52, 52, 52, 52, 52, 52, 55, 55, 55, 55, 52, 52, 52, 52, 52, 52, 52, 52, 52, 52, 52, 52, 52, 52, 55, 55, 52, 52, 52, 52, 52, 52, 55, 52, 52, 52, 52, 52, 52, 52, 52, 52, 55, 52, 52, 45, 45, 45, 45, 52, 52, 52, 55, 55, 52, 45, 52, 45, 52, 52, 30, 35, 35, 40, 45]\n"
     ]
    }
   ],
   "source": [
    "# Llamado a la función principal: \n",
    "\n",
    "main()"
   ]
  },
  {
   "cell_type": "markdown",
   "metadata": {},
   "source": [
    "La longitud de la secuencia después de recortarla es:"
   ]
  },
  {
   "cell_type": "code",
   "execution_count": 282,
   "metadata": {},
   "outputs": [
    {
     "data": {
      "text/plain": [
       "382"
      ]
     },
     "execution_count": 282,
     "metadata": {},
     "output_type": "execute_result"
    }
   ],
   "source": [
    "len(phredtrim)"
   ]
  },
  {
   "cell_type": "code",
   "execution_count": 283,
   "metadata": {},
   "outputs": [
    {
     "data": {
      "text/plain": [
       "569"
      ]
     },
     "execution_count": 283,
     "metadata": {},
     "output_type": "execute_result"
    }
   ],
   "source": [
    "len(phredtrim2)"
   ]
  },
  {
   "cell_type": "markdown",
   "metadata": {},
   "source": [
    "Veamos ahora como se ven los cambios en la calidad(Phred score) de las secuencias:"
   ]
  },
  {
   "cell_type": "code",
   "execution_count": 284,
   "metadata": {},
   "outputs": [
    {
     "data": {
      "image/png": "[encoded data removed]",
      "text/plain": [
       "<Figure size 432x288 with 1 Axes>"
      ]
     },
     "metadata": {},
     "output_type": "display_data"
    }
   ],
   "source": [
    "plt.plot(record.letter_annotations['phred_quality'])\n",
    "plt.axis([0,len(record.seq),0,max(record.letter_annotations['phred_quality'])+1])\n",
    "plt.show()"
   ]
  },
  {
   "cell_type": "code",
   "execution_count": 285,
   "metadata": {},
   "outputs": [
    {
     "data": {
      "text/plain": [
       "[0, 382, 0, 63]"
      ]
     },
     "execution_count": 285,
     "metadata": {},
     "output_type": "execute_result"
    },
    {
     "data": {
      "image/png": "[encoded data removed]",
      "text/plain": [
       "<Figure size 432x288 with 1 Axes>"
      ]
     },
     "metadata": {},
     "output_type": "display_data"
    }
   ],
   "source": [
    "plt.plot(phredtrim)\n",
    "plt.axis([0,len(phredtrim),0,max(phredtrim)+1])"
   ]
  },
  {
   "cell_type": "markdown",
   "metadata": {},
   "source": [
    "## 2. Isabel Adarve"
   ]
  },
  {
   "cell_type": "code",
   "execution_count": null,
   "metadata": {},
   "outputs": [],
   "source": [
    "#CON ESTA FUNCIÓN SE ESPERA RECORRER POR VENTANAS DEL RANGO QUE SE DESEE, LA SECUENCIA DESDE LA MITAD A PARTIR DE LOS VALORES PHRED (EL SCORE SE LO DA EL PROGRAMADOR SEGÚN SUS PREFERENCIAS)\n",
    "\n",
    "def trimeado (prec, n, score):\n",
    "    ph = prec.letter_annotations['phred_quality']\n",
    "    half = int(len(ph)/2)\n",
    "    rig = half\n",
    "    lef = half\n",
    "    lefend = False\n",
    "    rigend = False\n",
    "\n",
    "    while lef >= 0 and rig < len(ph)-1:\n",
    "        promedlef = sum(ph [lef-n:lef])/float(n)\n",
    "        promedrig = sum(ph [rig:rig+n])/float(n)\n",
    "        if promedlef >= score:\n",
    "            lef = lef - 1\n",
    "        else:\n",
    "            lefend = True\n",
    "        if promedrig >= score:\n",
    "            rig = rig + 1\n",
    "        else:\n",
    "            rigend = True\n",
    "        if lefend and rigend:\n",
    "            break"
   ]
  },
  {
   "cell_type": "code",
   "execution_count": null,
   "metadata": {},
   "outputs": [],
   "source": [
    "#SE ESPERA OBTENER LA SECUENCIA TRIMEADA, NO CON LOS VALORES DE PHRED SINO CON LOS NUCLEÓTIDOS\n",
    "\n",
    "secTrime = []\n",
    "inx = lef\n",
    "while inx <= rig:\n",
    "    secTrime.append(prec.seq [inx])\n",
    "    inx = inx + 1\n",
    "#LO QUE VA A DEVOLVERSE: UNA SECUENCIA DE NUCLEÓTIDOS TRIMEADA Y LOS VALORES PHRED DE LOS NUCLÓTIDOS DE LA SECUENCIA TRIMEADA\n",
    "\n",
    "return secTrime , ph [lef:rig]"
   ]
  },
  {
   "cell_type": "code",
   "execution_count": null,
   "metadata": {},
   "outputs": [],
   "source": [
    "#¿CÓMO CONVERTIR DE LISTA A CADENA?\n",
    "\n",
    "def listaAcadena (lalista):\n",
    "    s = ''\n",
    "    for c in lalista:\n",
    "        s = s + c\n",
    "    return s"
   ]
  },
  {
   "cell_type": "code",
   "execution_count": null,
   "metadata": {},
   "outputs": [],
   "source": [
    "#COMPROBEMOS LAS FUNCIONES CON SECUENCIAS REALES\n",
    "\n",
    "def principal():\n",
    "\tfrom Bio import SeqIO\n",
    "\trecord = SeqIO.read(“/20181/SeqAnalyse/raw_data/Sanger/S12_27F.ab1”,”abi”)\n",
    "\trecord2 = SeqIO.read(“/20181/SeqAnalyse/raw_data/Sanger/S12_907R.ab1”,”abi”)\n",
    "\n",
    "\tsequentrim,phtrim = trimeado(record,10,30)\n",
    "\n",
    "\tphredlist2.reverse()\n",
    "\tre2rever = [c for c in record2.seq]\n",
    "\tre2rever.reverse()\n",
    "\tsequentrim2,phtrim2 = trimeado(record2,10,30)\n",
    "\n",
    "\tprint (listaAcadena(sequentrim))\n",
    "\tprint (phtrim)\n",
    "\tprint()\n",
    "\tprint(listaAcadena(sequentrim2))\n",
    "\tprint (phtrim2)\n",
    "\n",
    "\n",
    "principal()"
   ]
  },
  {
   "cell_type": "markdown",
   "metadata": {},
   "source": [
    "### 3. Giany Angulo"
   ]
  },
  {
   "cell_type": "code",
   "execution_count": null,
   "metadata": {},
   "outputs": [],
   "source": [
    "def promedio (rango):\n",
    "    suma=0\n",
    "    i=0\n",
    "    while i < len(rango):\n",
    "        suma = suma + rango[i]\n",
    "        i = i + 1\n",
    "    return suma/len(rango)\n",
    "\n",
    "promedio(listaprueba)"
   ]
  },
  {
   "cell_type": "code",
   "execution_count": null,
   "metadata": {},
   "outputs": [],
   "source": [
    "def guardar (lista):\n",
    "    guardado = [ ]\n",
    "    num= promedio(lista)\n",
    "    if num > 5:\n",
    "        guardado.append(lista)\n",
    "    return guardado\n",
    "            \n",
    "guardar(listaprueba)"
   ]
  },
  {
   "cell_type": "code",
   "execution_count": null,
   "metadata": {},
   "outputs": [],
   "source": [
    "numero = len(phredlist)/2\n",
    "\n",
    "def parte_entera(x):\n",
    "    return int(x)\n",
    "\n",
    "parte_entera(numero)"
   ]
  },
  {
   "cell_type": "code",
   "execution_count": null,
   "metadata": {},
   "outputs": [],
   "source": [
    "def trimq_iz(p_l):\n",
    "    listareal= \" \"\n",
    "    score= 30\n",
    "    phred= phredlist\n",
    "    mitad= len(p_l)/2\n",
    "    num = parte_entera(mitad)\n",
    "    i=num\n",
    "    j= num + 6\n",
    "    while j < len(p_l):\n",
    "        if promedio(phred[i:j]) < 30:\n",
    "            listareal = j\n",
    "            break \n",
    "        i = i + 1\n",
    "        j = j + 1\n",
    "    return listareal\n",
    "\n",
    "trimq_iz(record1)"
   ]
  },
  {
   "cell_type": "code",
   "execution_count": null,
   "metadata": {},
   "outputs": [],
   "source": [
    "def trimq_de (p_l):\n",
    "    listareald= \"\"\n",
    "    score=30\n",
    "    phred= phredlist\n",
    "    mitad= len(p_l)/2-1\n",
    "    num = parte_entera(mitad)\n",
    "    j = num\n",
    "    i = num - 6\n",
    "    while i >= 0:\n",
    "        if promedio(phred[i:j]) < 30:\n",
    "            listareald = i\n",
    "            break\n",
    "        i = i - 1\n",
    "        j = j - 1\n",
    "    return listareald\n",
    "\n",
    "trimq_de(record1)"
   ]
  },
  {
   "cell_type": "code",
   "execution_count": null,
   "metadata": {},
   "outputs": [],
   "source": [
    "def trimq(lista):\n",
    "    return  lista[trimq_de(lista):trimq_iz(lista)]\n",
    "\n",
    "trimq(record1)\n",
    "record_trimmed = trimq(record1)\n",
    "len(record_trimmed)"
   ]
  },
  {
   "cell_type": "code",
   "execution_count": null,
   "metadata": {},
   "outputs": [],
   "source": [
    "plt.plot(record1.letter_annotations['phred_quality'])\n",
    "plt.axis([0,len(record1.seq),0,max(record1.letter_annotations['phred_quality'])+1])\n",
    "plt.show()"
   ]
  },
  {
   "cell_type": "code",
   "execution_count": null,
   "metadata": {},
   "outputs": [],
   "source": [
    "plt.plot(record_trimmed.letter_annotations['phred_quality'])\n",
    "plt.axis([0,len(record_trimmed.seq),0,max(record_trimmed.letter_annotations['phred_quality'])+1])\n",
    "plt.show()"
   ]
  }
 ],
 "metadata": {
  "kernelspec": {
   "display_name": "Python 3",
   "language": "python",
   "name": "python3"
  },
  "language_info": {
   "codemirror_mode": {
    "name": "ipython",
    "version": 3
   },
   "file_extension": ".py",
   "mimetype": "text/x-python",
   "name": "python",
   "nbconvert_exporter": "python",
   "pygments_lexer": "ipython3",
   "version": "3.6.3"
  }
 },
 "nbformat": 4,
 "nbformat_minor": 2
}
