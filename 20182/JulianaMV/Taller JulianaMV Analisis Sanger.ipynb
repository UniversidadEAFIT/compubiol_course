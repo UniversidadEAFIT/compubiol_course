{
 "cells": [
  {
   "cell_type": "markdown",
   "metadata": {},
   "source": [
    "# **Taller Análisis de secuencias de Sanger**"
   ]
  },
  {
   "cell_type": "markdown",
   "metadata": {},
   "source": [
    "## Por Juliana Madrigal Vélez"
   ]
  },
  {
   "cell_type": "markdown",
   "metadata": {},
   "source": [
    "#Función General para Secuencia Trimmed"
   ]
  },
  {
   "cell_type": "code",
   "execution_count": 52,
   "metadata": {},
   "outputs": [],
   "source": [
    "def rectrimed(anyrec, N , puntaje):\n",
    "    phred = anyrec.letter_annotations[\"phred_quality\"]\n",
    "    half=int(len(phred)/2)\n",
    "    derecho= half \n",
    "    izquierdo= half\n",
    "    izqfinal=False\n",
    "    derfinal=False\n",
    "    while izquierdo >=0 and derecho < len(phred)-1:\n",
    "        promedioizq= sum(phred[izquierdo-N:izquierdo])/float(N)\n",
    "        promedioder= sum(phred[derecho:derecho+N])/float(N)\n",
    "        if promedioizq >=puntaje: \n",
    "            izquierdo = izquierdo - 1\n",
    "        else:\n",
    "            izqfinal=True\n",
    "        if promedioder >=puntaje: \n",
    "            derecho = derecho + 1\n",
    "        else:\n",
    "            derfinal=True\n",
    "        if izqfinal and derfinal: \n",
    "            break\n",
    "\n",
    "    trimedSecuencia = []\n",
    "    index = izquierdo\n",
    "    while index <= derecho:\n",
    "        trimedSecuencia.append(anyrec.seq[index])\n",
    "        index = index + 1\n",
    "\n",
    "                \n",
    "    return trimedSecuencia , phred[izquierdo:derecho]"
   ]
  },
  {
   "cell_type": "markdown",
   "metadata": {},
   "source": [
    "#Función para Pasar de Lista a Cadena"
   ]
  },
  {
   "cell_type": "code",
   "execution_count": 53,
   "metadata": {},
   "outputs": [],
   "source": [
    "def listToString(lista):\n",
    "    string=\"\"\n",
    "    for c in lista:\n",
    "        string = string + c\n",
    "    return string"
   ]
  },
  {
   "cell_type": "markdown",
   "metadata": {},
   "source": [
    "#Función para Trimmear Cadena Forward"
   ]
  },
  {
   "cell_type": "code",
   "execution_count": 54,
   "metadata": {},
   "outputs": [
    {
     "name": "stdout",
     "output_type": "stream",
     "text": [
      "CTGAGAGTAACTGTTCAGGTATTGACGGTATTTAACCAGAAAGCCACGGCTAACTACGTGCCAGCAGCCGCGGTAATACGTAGGTGGCAAGCGTTGTCCGGATTTATTGGGCGTAAAGCGAGCGCAGGCGGTTTTTTAAGTCTGATGTGAAAGCCTTCGGCTCAACCGAAGAAGTGCATCGGAAACTGGGAAACTTGAGTGCAGAAGAGGACAGTGGAACTCCATGTGTAGCGGTGAAATGCGTAGATATATGGAAGAACACCAGTGGCGAAGGCGGCTGTCTGGTCTGTAACTGACGCTG\n",
      "[62, 62, 62, 62, 46, 52, 42, 50, 35, 40, 43, 50, 62, 62, 62, 62, 52, 45, 62, 62, 62, 62, 62, 62, 62, 62, 62, 62, 62, 54, 62, 62, 62, 52, 58, 58, 58, 58, 54, 58, 58, 54, 58, 58, 54, 52, 58, 58, 58, 58, 54, 54, 58, 54, 58, 54, 58, 54, 58, 58, 58, 58, 42, 52, 58, 54, 54, 58, 58, 58, 54, 58, 58, 54, 54, 54, 54, 54, 58, 58, 58, 54, 41, 54, 54, 58, 54, 42, 58, 58, 58, 54, 54, 54, 54, 58, 58, 58, 58, 58, 58, 54, 41, 58, 54, 52, 54, 58, 58, 58, 58, 49, 58, 53, 50, 49, 58, 51, 49, 53, 58, 51, 54, 51, 49, 49, 29, 51, 52, 58, 51, 50, 58, 58, 58, 58, 48, 50, 51, 51, 54, 53, 54, 58, 58, 37, 51, 49, 51, 54, 58, 58, 32, 51, 54, 53, 54, 53, 39, 51, 50, 54, 52, 50, 37, 51, 58, 50, 58, 54, 31, 58, 49, 39, 53, 53, 53, 53, 53, 53, 51, 44, 58, 58, 52, 53, 51, 58, 39, 20, 49, 53, 41, 41, 52, 53, 58, 52, 37, 51, 49, 32, 50, 31, 58, 58, 31, 58, 21, 51, 47, 30, 39, 49, 53, 58, 35, 51, 46, 50, 53, 53, 46, 39, 50, 58, 52, 53, 50, 53, 32, 50, 54, 54, 41, 54, 38, 49, 42, 40, 46, 32, 52, 53, 54, 35, 53, 42, 42, 52, 53, 53, 54, 50, 44, 46, 31, 54, 19, 40, 39, 47, 49, 37, 52, 45, 54, 38, 39, 32, 48, 49, 7, 27, 33, 47, 44, 24, 39, 54, 33, 53, 45, 54, 51, 32, 52, 40, 53, 37, 30, 30, 37, 47, 47, 35, 37, 37, 42, 52]\n"
     ]
    }
   ],
   "source": [
    "from Bio import SeqIO\n",
    "record = SeqIO.read(\"raw_data/Sanger/S8_27F.ab1\",\"abi\")\n",
    "\n",
    "secuenciatrim,phredtrim = rectrimed(record,6,30)\n",
    "\n",
    "    \n",
    "print(listToString(secuenciatrim))\n",
    "print(phredtrim)\n",
    "   "
   ]
  },
  {
   "cell_type": "markdown",
   "metadata": {},
   "source": [
    "#Función para Trimmear Cadena Reverse"
   ]
  },
  {
   "cell_type": "code",
   "execution_count": 55,
   "metadata": {},
   "outputs": [
    {
     "name": "stdout",
     "output_type": "stream",
     "text": [
      "TGGAGTTCCACTGTCCTCTTCTGCACTCAAGTTTCCCAGTTTCCGATGCACTTCTTCGGTTGAGCCGAAGGCTTTCACATCAGACTTAAAAAACCGCCTGCGCTCGCTTTACGCCCAATAAATCCGGACAACGCTTGCCACCTACGTATTACCGCGGCTGCTGGCACGTAGTTAGCCGTGGCTTTCTGGTTAAATACCGTCAATACCTGAACAGTTACTCTCAGATATGTTCTTCTTTAACAACAGAGTTTTACGAGCCGAAACCCTTCTTCACTCACGCGGCGTTGCTCCATCAGACTTTCGTCCATTGTGGAAGATTCCCTACTGCTGCCTCCCGTAGGAGTTTGGGCCGTGTCTCAGTCCCAATGTGGCCGATTACCCTCTCAGGTCGGCTACGTATCATTGCCATGGTGAGCCGTTACCCCACCATCTAGCTAATACGCCGCGGGACCATCCAAAAGTGATAGCCGAAGCCATCTTTCAAGCTCGGACCATGCGGTCCAAGTTGTTATGCGGTATTAGCATCTGTTTCCAGGTGTTATCCCCCGCTTCTGGGCAGGTTTCCCAC\n",
      "[50, 58, 58, 58, 51, 46, 53, 51, 36, 49, 58, 26, 43, 44, 50, 58, 39, 47, 52, 53, 50, 58, 58, 58, 47, 48, 51, 51, 33, 46, 30, 45, 58, 49, 58, 58, 54, 58, 46, 38, 51, 52, 53, 51, 27, 45, 54, 52, 51, 50, 58, 54, 41, 41, 46, 53, 48, 41, 49, 38, 41, 48, 50, 58, 58, 54, 54, 58, 58, 54, 58, 58, 54, 52, 54, 58, 58, 58, 58, 54, 58, 54, 54, 58, 58, 58, 54, 54, 54, 54, 54, 58, 54, 58, 54, 54, 58, 58, 58, 58, 58, 31, 41, 54, 49, 49, 58, 58, 58, 53, 58, 58, 54, 58, 54, 58, 48, 43, 58, 58, 58, 52, 58, 54, 58, 58, 58, 58, 54, 58, 58, 47, 58, 58, 58, 58, 58, 58, 46, 58, 49, 33, 62, 62, 62, 62, 62, 62, 62, 62, 62, 62, 62, 62, 62, 62, 62, 62, 62, 62, 62, 62, 62, 30, 62, 52, 62, 62, 62, 62, 62, 62, 62, 62, 62, 62, 62, 62, 62, 62, 62, 62, 62, 56, 62, 62, 62, 62, 62, 62, 62, 62, 62, 62, 62, 62, 62, 62, 62, 62, 62, 62, 62, 62, 62, 62, 62, 62, 62, 62, 62, 62, 62, 62, 62, 62, 62, 62, 62, 62, 62, 62, 62, 62, 62, 62, 62, 54, 62, 62, 62, 62, 62, 62, 62, 62, 62, 62, 62, 62, 62, 62, 62, 54, 62, 62, 62, 62, 62, 62, 62, 62, 62, 62, 51, 56, 62, 26, 37, 32, 54, 39, 56, 50, 50, 44, 38, 51, 62, 62, 62, 62, 62, 62, 62, 62, 62, 62, 62, 62, 62, 62, 62, 62, 62, 62, 62, 62, 62, 62, 62, 62, 62, 62, 62, 62, 62, 62, 62, 62, 62, 62, 62, 62, 62, 62, 62, 62, 62, 62, 59, 62, 62, 62, 62, 62, 62, 62, 62, 62, 62, 62, 62, 62, 62, 62, 62, 62, 62, 62, 62, 62, 62, 62, 62, 62, 62, 62, 62, 49, 62, 62, 62, 62, 62, 62, 62, 62, 62, 62, 62, 62, 62, 62, 62, 62, 62, 62, 62, 62, 62, 62, 62, 62, 62, 62, 62, 62, 62, 62, 62, 62, 62, 62, 62, 62, 62, 62, 62, 62, 62, 62, 62, 62, 62, 62, 62, 62, 62, 62, 62, 62, 62, 62, 62, 62, 62, 62, 59, 62, 62, 62, 62, 62, 62, 62, 62, 62, 62, 62, 62, 62, 62, 62, 62, 62, 62, 62, 62, 62, 62, 62, 62, 62, 62, 62, 62, 62, 62, 62, 62, 62, 62, 62, 62, 62, 62, 62, 62, 62, 62, 62, 62, 51, 56, 56, 51, 59, 59, 62, 62, 62, 62, 62, 62, 59, 62, 62, 62, 62, 62, 62, 62, 62, 62, 62, 62, 62, 59, 59, 59, 62, 62, 62, 62, 62, 62, 59, 62, 62, 62, 62, 62, 62, 62, 62, 59, 62, 62, 62, 62, 62, 62, 62, 62, 62, 62, 62, 59, 62, 62, 59, 62, 62, 62, 62, 62, 62, 59, 62, 62, 62, 62, 62, 62, 62, 62, 59, 62, 59, 54, 59, 62, 62, 62, 62, 62, 62, 62, 62, 62, 62, 62, 62, 62, 59, 62, 54, 62, 59, 59, 62, 62, 62, 59, 62, 62, 62, 62, 62, 59, 62, 62, 62, 62, 62, 59, 62, 62, 62, 62, 62, 62, 62, 62, 62, 62]\n"
     ]
    }
   ],
   "source": [
    "from Bio import SeqIO\n",
    "record2 = SeqIO.read(\"raw_data/Sanger/S8_907R.ab1\",\"abi\")\n",
    "phredlist2= record2.letter_annotations[\"phred_quality\"]\n",
    "phredlist2.reverse()\n",
    "record2reverse = [c for c in record2.seq]\n",
    "record2reverse.reverse()\n",
    "secuenciatrim2,phredtrim2 =rectrimed(record2,6,30)\n",
    "\n",
    "print(listToString(secuenciatrim2))\n",
    "print(phredtrim2)\n",
    "    "
   ]
  },
  {
   "cell_type": "code",
   "execution_count": null,
   "metadata": {},
   "outputs": [],
   "source": []
  }
 ],
 "metadata": {
  "kernelspec": {
   "display_name": "Python 3",
   "language": "python",
   "name": "python3"
  },
  "language_info": {
   "codemirror_mode": {
    "name": "ipython",
    "version": 3
   },
   "file_extension": ".py",
   "mimetype": "text/x-python",
   "name": "python",
   "nbconvert_exporter": "python",
   "pygments_lexer": "ipython3",
   "version": "3.6.5"
  }
 },
 "nbformat": 4,
 "nbformat_minor": 2
}
