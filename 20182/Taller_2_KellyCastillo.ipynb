{
 "cells": [
  {
   "cell_type": "markdown",
   "metadata": {},
   "source": [
    "# Taller 2 - Python\n",
    "### Fundamentos en Biología Computacional\n",
    "### Kelly Castillo\n",
    "### 2018-2\n",
    "Nota: Se calificará que el código sea lo más simple, claro, original y eficiente. No usar funciones no realizadas por ustedes mismos."
   ]
  },
  {
   "cell_type": "markdown",
   "metadata": {},
   "source": [
    "1. Realice un función para expresar cualquier número entero en su conotación factorial. <br>\n",
    "Ejemplo: factorial(4)<br>\n",
    "Out: 24"
   ]
  },
  {
   "cell_type": "code",
   "execution_count": 22,
   "metadata": {},
   "outputs": [
    {
     "data": {
      "text/plain": [
       "24"
      ]
     },
     "execution_count": 22,
     "metadata": {},
     "output_type": "execute_result"
    }
   ],
   "source": [
    "def factorial(numero):\n",
    "    i = 1\n",
    "    factorial = numero\n",
    "    while i < numero:\n",
    "        factorial = factorial * i\n",
    "        i = i + 1\n",
    "    return (factorial)\n",
    "        \n",
    "factorial(4)"
   ]
  },
  {
   "cell_type": "markdown",
   "metadata": {},
   "source": [
    "2. Realice un función para expresar la potencia de cualquier número. La función recibe como parámetros la base y el exponencial. <br>\n",
    "Ejemplo: potencia(4,2)<br>\n",
    "Out: 16"
   ]
  },
  {
   "cell_type": "code",
   "execution_count": 23,
   "metadata": {},
   "outputs": [
    {
     "data": {
      "text/plain": [
       "16"
      ]
     },
     "execution_count": 23,
     "metadata": {},
     "output_type": "execute_result"
    }
   ],
   "source": [
    "def potencia(base, exp):\n",
    "    return(base**exp)\n",
    "    \n",
    "potencia(4,2)"
   ]
  },
  {
   "cell_type": "markdown",
   "metadata": {},
   "source": [
    "3. Utilizando las dos funciones anteriormente definidas (factorial y potencia), realice un función para expresar el Seno de un entero. <br>\n",
    "Ejemplo: seno(5)<br>\n",
    "Out: -0.9589331651965962"
   ]
  },
  {
   "cell_type": "code",
   "execution_count": 24,
   "metadata": {},
   "outputs": [
    {
     "data": {
      "text/plain": [
       "-0.9589331651965963"
      ]
     },
     "execution_count": 24,
     "metadata": {},
     "output_type": "execute_result"
    }
   ],
   "source": [
    "def seno(numero):\n",
    "    numero = float(numero)\n",
    "    aux = 0.0\n",
    "    for i in range(0,10):\n",
    "        aux = aux + ((potencia(-1,i))/(factorial(2*i+1)))*(potencia(numero,(2*i+1)))\n",
    "    return(aux)\n",
    "\n",
    "seno(5)"
   ]
  },
  {
   "cell_type": "markdown",
   "metadata": {},
   "source": [
    "4. Dadas las cantidades de individuos con los genótipos AA, AB y BB. Calcular la frecuencia del alelo A esperada en equilibrio de Hardyweinber. <br>\n",
    "Ejemplo: hardyweinbergpp(12,4,4) <br>\n",
    "Out: 0.48999999999999994"
   ]
  },
  {
   "cell_type": "code",
   "execution_count": 35,
   "metadata": {},
   "outputs": [
    {
     "data": {
      "text/plain": [
       "0.4522774424948338"
      ]
     },
     "execution_count": 35,
     "metadata": {},
     "output_type": "execute_result"
    }
   ],
   "source": [
    "def hardyweinbergpp(AA,AB,BB):\n",
    "    \n",
    "#Frecuencias genotípicas\n",
    "    alelos=AA+AB+BB\n",
    "    frecGenAA = AA/alelos \n",
    "    frecGenAB = AB/alelos\n",
    "    frecGenBB = BB/alelos\n",
    "    frecGenDom = frecGenAA + (frecGenAB/2)\n",
    "    frecGenRec = 1 - frecGenDom\n",
    "        \n",
    "#Frecuencias alélicas\n",
    "    frecAleRec = frecGenRec**(1/2)\n",
    "    frecAleDom = 1 - frecAleRec \n",
    "    return(frecAleDom)\n",
    "\n",
    "hardyweinbergpp(12,4,4)"
   ]
  },
  {
   "cell_type": "markdown",
   "metadata": {},
   "source": [
    "5. Dada una cadena de DNA retornar una de RNA <br>\n",
    "Ejemplo: DNA_to_RNA(\"TCTCTACTCATGTCTGCA\")<br>\n",
    "Out: UCUCUACUCAUGUCUGCA"
   ]
  },
  {
   "cell_type": "code",
   "execution_count": 52,
   "metadata": {},
   "outputs": [
    {
     "data": {
      "text/plain": [
       "'UCUCUACUCAUGUCUGCA'"
      ]
     },
     "execution_count": 52,
     "metadata": {},
     "output_type": "execute_result"
    }
   ],
   "source": [
    "def transcribir(adn):\n",
    "    arn = \"\"\n",
    "    for nucleotido in adn:\n",
    "        if(nucleotido == \"T\"):\n",
    "            arn = arn + \"U\"\n",
    "        elif(nucleotido == \"C\"):\n",
    "            arn = arn + \"C\"\n",
    "        elif(nucleotido == \"A\"):\n",
    "            arn = arn + \"A\"\n",
    "        elif(nucleotido == \"G\"):\n",
    "            arn = arn + \"G\"\n",
    "    return(arn)\n",
    "\n",
    "transcribir(\"TCTCTACTCATGTCTGCA\")"
   ]
  },
  {
   "cell_type": "markdown",
   "metadata": {},
   "source": [
    "6. Realizar una función que calcule la Temperatura de Melting de un primer de DNA en grados Celcius. Teniendo en cuenta que; en un oligonucleótido < de 14 nucleótidos, la Tm se calcula multiplicando la cantidad de G+C por 4 y las A+T por 2. Mientras que, si es >= de 14 nt, se debe aplicar la siguiente fórmula (64.9 + 41 * (totalG+C -16.4) / Tamaño sel oligo). <br>\n",
    "Ejemplo: tempmelt(TCTCTACTCATGTCTGCA)<br>\n",
    "Out: 57.2"
   ]
  },
  {
   "cell_type": "code",
   "execution_count": 51,
   "metadata": {},
   "outputs": [
    {
     "data": {
      "text/plain": [
       "45.76666666666668"
      ]
     },
     "execution_count": 51,
     "metadata": {},
     "output_type": "execute_result"
    }
   ],
   "source": [
    "def tempMelt(oligonucleotidos):\n",
    "    contA = 0\n",
    "    contT = 0\n",
    "    contC = 0\n",
    "    contG = 0\n",
    "    for nt in oligonucleotidos:\n",
    "        if(nt == \"A\"):\n",
    "            contA = contA + 1\n",
    "        elif(nt == \"T\"):\n",
    "            contT = contT + 1\n",
    "        elif(nt == \"C\"):\n",
    "            contC = contC + 1\n",
    "        elif(nt == \"G\"):\n",
    "            contG = contG + 1\n",
    "    formula = (64.9 + 41 * (contG+contC-16.4) / (contA+contT+contC+contG))\n",
    "    return(formula)\n",
    "\n",
    "tempMelt(\"TCTCTACTCATGTCTGCA\")"
   ]
  },
  {
   "cell_type": "markdown",
   "metadata": {},
   "source": [
    "7. Hallar la distancia Hamming entre dos secuencias de polipéptidos. <br>\n",
    "link: https://es.wikipedia.org/wiki/Distancia_de_Hamming <br>\n",
    "Ejemplo: distancia_Hamming(\"SRSLLLRFLMSRSLLLRFLLFLLLLPPLPLFLLLLPPL\",\"SRSLLLRFLSSRSLLLRFLLFLLLLAALALFLLLLSML\")<br>\n",
    "Out:6"
   ]
  },
  {
   "cell_type": "code",
   "execution_count": 59,
   "metadata": {},
   "outputs": [
    {
     "data": {
      "text/plain": [
       "6"
      ]
     },
     "execution_count": 59,
     "metadata": {},
     "output_type": "execute_result"
    }
   ],
   "source": [
    "def distancia_Hamming(seq1,seq2):\n",
    "    i = 0\n",
    "    contError = 0\n",
    "    while i < len(seq1):\n",
    "        if seq1[i] != seq2[i]:\n",
    "            contError = contError + 1\n",
    "        i = i + 1\n",
    "    return(contError)\n",
    "        \n",
    "distancia_Hamming(\"SRSLLLRFLMSRSLLLRFLLFLLLLPPLPLFLLLLPPL\",\"SRSLLLRFLSSRSLLLRFLLFLLLLAALALFLLLLSML\")"
   ]
  },
  {
   "cell_type": "markdown",
   "metadata": {},
   "source": [
    "8. Dada la tabla de codones estandar, hacer una función para traducir una cadena de DNA empezando desde la posición 1 <br>\n",
    "Ejemplo: traducir(\"ATGGCGCGTATGAATAGCAATCCGAGCGCATGCCATGTTTGCCATGCGGCTCTGGCGGTCATTGATGCGTGCAATAACAATACCCGTAATAGCAATATCAATAGCTAA\")<br>\n",
    "Out: Met A R Met N S N P S A C H V C H A A L A V I D A C N N N T R N S N I N S Stop"
   ]
  },
  {
   "cell_type": "code",
   "execution_count": 13,
   "metadata": {},
   "outputs": [
    {
     "name": "stdout",
     "output_type": "stream",
     "text": [
      "Met A R Met N S N P S A C H V C H A A L A V I D A C N N N T R N S N I N S Stop \n"
     ]
    }
   ],
   "source": [
    "def traducir(cadena):\n",
    "    i= 0 \n",
    "    AA = \"\"\n",
    "    codon = cadena\n",
    "    while i < len(cadena)-2:\n",
    "        codon = cadena[i]+cadena[i+1]+cadena[i+2]\n",
    "        if(codon == \"ATG\"):\n",
    "            AA = AA + \"Met \"\n",
    "        elif(codon == \"TTT\") or (codon == \"TTC\"):\n",
    "            AA = AA + \"F \"\n",
    "        elif(codon == \"TTA\") or (codon == \"TTG\") or (codon == \"CTT\") or (codon == \"CTC\") or (codon == \"CTA\") or (codon == \"CTG\"):\n",
    "            AA = AA + \"L \"\n",
    "        elif(codon == \"ATT\") or (codon == \"ATC\") or (codon == \"ATA\"):\n",
    "            AA = AA + \"I \"\n",
    "        elif(codon == \"GTT\") or (codon == \"GTC\") or (codon == \"GTA\") or (codon == \"GTG\"):\n",
    "            AA = AA + \"V \"\n",
    "        elif(codon == \"GCT\") or (codon == \"GCC\") or (codon == \"GCA\") or (codon == \"GCG\"):\n",
    "            AA = AA + \"A \"\n",
    "        elif(codon == \"ACT\") or (codon == \"ACC\") or (codon == \"ACA\") or (codon == \"ACG\"):\n",
    "            AA = AA + \"T \"\n",
    "        elif(codon == \"CCT\") or (codon == \"CCC\") or (codon == \"CCA\") or (codon == \"CCG\"):\n",
    "            AA = AA + \"P \"\n",
    "        elif(codon == \"TAT\") or (codon == \"TAC\"):\n",
    "            AA = AA + \"Y \"\n",
    "        elif(codon == \"TCT\") or (codon == \"TCC\") or (codon == \"TCA\") or (codon == \"TCG\") or (codon == \"AGT\") or (codon == \"AGC\"):\n",
    "            AA = AA + \"S \"\n",
    "        elif(codon == \"CAT\") or (codon == \"CAC\"):\n",
    "            AA = AA + \"H \"\n",
    "        elif (codon == \"CAA\") or (codon == \"CAG\"):\n",
    "            AA = AA + \"Q \"\n",
    "        elif(codon == \"AAA\") or (codon == \"AAG\"):\n",
    "            AA = AA + \"K \"\n",
    "        elif(codon == \"AAT\") or (codon == \"AAC\"):\n",
    "            AA = AA + \"N \"\n",
    "        elif(codon == \"GAT\") or (codon == \"GAC\"):\n",
    "            AA = AA + \"D \"\n",
    "        elif(codon == \"GAA\") or (codon == \"GAG\"):\n",
    "            AA = AA + \"E \"\n",
    "        elif(codon == \"TGT\") or (codon == \"TGC\"):\n",
    "            AA = AA + \"C \"\n",
    "        elif(codon == \"TAA\") or (codon == \"TAG\") or (codon == \"TGA\"):\n",
    "            AA = AA + \"Stop \"\n",
    "        elif(codon == \"TGG\"):\n",
    "            AA = AA + \"W \"\n",
    "        elif(codon == \"CGT\") or (codon == \"CGC\") or (codon == \"CGA\") or (codon == \"CGG\") or (codon == \"AGA\") or (codon == \"AGG\"):\n",
    "            AA = AA + \"R \"\n",
    "        elif(codon == \"GGT\") or (codon == \"GGC\") or (codon == \"GGA\") or (codon == \"GGG\"):\n",
    "            AA = AA + \"G \"\n",
    "        i = i + 3 \n",
    "    print(AA)\n",
    "        \n",
    "traducir(\"ATGGCGCGTATGAATAGCAATCCGAGCGCATGCCATGTTTGCCATGCGGCTCTGGCGGTCATTGATGCGTGCAATAACAATACCCGTAATAGCAATATCAATAGCTAA\")\n"
   ]
  },
  {
   "cell_type": "markdown",
   "metadata": {},
   "source": [
    "9. Usando la función anterior, traducir en los 6 frames una cadena de DNA dada.\n",
    "Ejemplo: traducirALL(\"ATGGCGCGTATGAATAGCAATCCGAGCGCATGCCATGTTTGCCATGCGGCTCTGGCGGTCATTGATGCGTGCAATAACAATACCCGTAATAGCAATATCAATAGCTAA\")<br>\n",
    "Out: (1:Met A R Met N S N P S A C H V C H A A L A V I D A C N N N T R N S N I N S Stop, 2:W R V Stop I A I R A H A Met F A Met R L W R S L Met R A I T I P V I A I S I A, 3:G A Y E Stop Q S E R Met P C L P C G S G G H Stop C V Q Stop Q Y P Stop Stop Q Y Q Stop L, 4:L A I D I A I T G I V I A R I N D R Q S R Met A N Met A C A R I A I H T R H, 5:Stop L L I L L L R V L L L H A S Met T A R A A W Q T W H A L G L L F I R A, 6:S Y Stop Y C Y Y G Y C Y C T H Q Stop P P E P H G K H G Met R S D C Y S Y A P)"
   ]
  },
  {
   "cell_type": "code",
   "execution_count": null,
   "metadata": {},
   "outputs": [],
   "source": []
  },
  {
   "cell_type": "markdown",
   "metadata": {},
   "source": [
    "10. Un investigador realizó un experiemento donde trató células cancerígeneas con un antimitótico y luego de un tiempo cuantificó la expresión de varios oncogenes usando RNAseq. (Figura adjunta).<br>\n",
    "![texte](image.png)\n",
    "En la imagen se muestra en la primera columna los IDs de los oncogenes. Las tres columnas siguientes (Son réplicas del tratamiento control con células no tratadas, Exp1, Exp2 y Exp3). Las tres últimas columnas son las tres réplicas del tratamiento con el antimitótico. <br>\n",
    "a. Utilizando la librería numpy, creár una matríz y cargar los datos de la tabla e imprimirla. <br>\n",
    "b. Realizar una función que promedie, usando las tres réplicas, la expresión de cada gen por tratamiento. <br>\n",
    "c. Realizar una función donde a partir de los promedio de cada gen, compare el tratamiento versus el control y si la relación es < 0.5 ó > 1.5 retornar el ID del gen expresado diferencialmente."
   ]
  },
  {
   "cell_type": "code",
   "execution_count": null,
   "metadata": {},
   "outputs": [],
   "source": []
  }
 ],
 "metadata": {
  "kernelspec": {
   "display_name": "Python 3",
   "language": "python",
   "name": "python3"
  },
  "language_info": {
   "codemirror_mode": {
    "name": "ipython",
    "version": 3
   },
   "file_extension": ".py",
   "mimetype": "text/x-python",
   "name": "python",
   "nbconvert_exporter": "python",
   "pygments_lexer": "ipython3",
   "version": "3.6.5"
  }
 },
 "nbformat": 4,
 "nbformat_minor": 2
}
