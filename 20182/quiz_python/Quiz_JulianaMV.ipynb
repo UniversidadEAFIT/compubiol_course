{
 "cells": [
  {
   "cell_type": "markdown",
   "metadata": {},
   "source": [
    "# **Quiz Modulo de Python**\n",
    "## 18 de Septiembre de 2018\n",
    "## Fund. Biología Computacional\n",
    "Juliana Madrigal Vélez"
   ]
  },
  {
   "cell_type": "markdown",
   "metadata": {},
   "source": [
    "1. Resuelva el siguiente problema utilizando las habilidades en programación adquiridas durante esta unidad. Tener en cuenta: a. desarrollar y aplicar funciones en python, b. manipular archivos (entrada y salida), c. utilizar librerias especializadas (Biopython).<br>\n",
    "Ejercicio:<br>\n",
    "Un investigador desea desarrollar un Script en python, que le permita identificar el grupo monifilético en común de una lista de especies (archivo adjunto: lista_mercado.tsv). La información de la taxonomía de cada especie fue descargada de la base de datos del GenBank, concatenada y se encuentra en formato .gb anexo <br> \n",
    "(ver contenido de Mercado.gb ---> abajo)."
   ]
  },
  {
   "cell_type": "code",
   "execution_count": 7,
   "metadata": {},
   "outputs": [
    {
     "name": "stdout",
     "output_type": "stream",
     "text": [
      "Especie\tid\n",
      "Quinua\t63459\n",
      "Tomate\t4081\n",
      "Oliva\t4146\n",
      "Yuca\t3983\n",
      "Papa\t4113\n",
      "Repollo\t3712\n",
      "Lechuga\t4236\n",
      "Durazno\t3760\n",
      "Piña\t4615\n",
      "Coco\t13894\n",
      "Lenteja\t3864\n",
      "Arveja\t3888\n",
      "Berenjena\t4111\n",
      "Garbanzo\t3827\n"
     ]
    }
   ],
   "source": [
    "%%bash\n",
    "cat lista_mercado.tsv"
   ]
  },
  {
   "cell_type": "code",
   "execution_count": 10,
   "metadata": {},
   "outputs": [
    {
     "name": "stdout",
     "output_type": "stream",
     "text": [
      "LOCUS       MG859922              122198 bp    DNA     circular PLN 30-APR-2018\n",
      "DEFINITION  Pisum sativum subsp. elatius isolate CE1 chloroplast, complete\n",
      "            genome.\n",
      "ACCESSION   MG859922\n",
      "VERSION     MG859922.1\n",
      "KEYWORDS    .\n",
      "SOURCE      chloroplast Pisum sativum subsp. elatius\n",
      "  ORGANISM  Pisum sativum subsp. elatius\n",
      "            Eukaryota; Viridiplantae; Streptophyta; Embryophyta; Tracheophyta;\n",
      "            Spermatophyta; Magnoliophyta; eudicotyledons; Gunneridae;\n"
     ]
    }
   ],
   "source": [
    "%%bash\n",
    "head -10 Mercado.gb"
   ]
  },
  {
   "cell_type": "markdown",
   "metadata": {},
   "source": [
    "#### -->> Con el archivo \"Mercado.gb\";<br>\n",
    "A. Desarrolle un script el cual extraiga la información relacionada con la taxonomía de cada especie.<br>\n",
    "B. Organice esta información en una objeto tipo lista o diccionario.<br>\n",
    "C. Cree una función que reciba el objeto anterior y compare las clasificaciones entre las diferentes especies para retornar el ancestro monofilético común a todas ellas. <br>\n",
    "Ejemplo: Embryophyta"
   ]
  },
  {
   "cell_type": "markdown",
   "metadata": {},
   "source": [
    "* Puntos A. y B."
   ]
  },
  {
   "cell_type": "code",
   "execution_count": 6,
   "metadata": {},
   "outputs": [
    {
     "name": "stdout",
     "output_type": "stream",
     "text": [
      "[['Eukaryota', 'Viridiplantae', 'Streptophyta', 'Embryophyta', 'Tracheophyta', 'Spermatophyta', 'Magnoliophyta', 'eudicotyledons', 'Gunneridae', 'Pentapetalae', 'rosids', 'fabids', 'Fabales', 'Fabaceae', 'Papilionoideae', 'Fabeae', 'Pisum'], ['Eukaryota', 'Viridiplantae', 'Streptophyta', 'Embryophyta', 'Tracheophyta', 'Spermatophyta', 'Magnoliophyta', 'eudicotyledons', 'Gunneridae', 'Pentapetalae', 'asterids', 'lamiids', 'Solanales', 'Solanaceae', 'Solanoideae', 'Solaneae', 'Solanum'], ['Eukaryota', 'Viridiplantae', 'Streptophyta', 'Embryophyta', 'Tracheophyta', 'Spermatophyta', 'Magnoliophyta', 'Liliopsida', 'Arecaceae', 'Arecoideae', 'Cocoseae', 'Attaleinae', 'Cocos'], ['Eukaryota', 'Viridiplantae', 'Streptophyta', 'Embryophyta', 'Tracheophyta', 'Spermatophyta', 'Magnoliophyta', 'eudicotyledons', 'Gunneridae', 'Pentapetalae', 'rosids', 'fabids', 'Rosales', 'Rosaceae', 'Maloideae', 'Amygdaleae', 'Prunus'], ['Eukaryota', 'Viridiplantae', 'Streptophyta', 'Embryophyta', 'Tracheophyta', 'Spermatophyta', 'Magnoliophyta', 'eudicotyledons', 'Gunneridae', 'Pentapetalae', 'rosids', 'fabids', 'Fabales', 'Fabaceae', 'Papilionoideae', 'Cicereae', 'Cicer'], ['Eukaryota', 'Viridiplantae', 'Streptophyta', 'Embryophyta', 'Tracheophyta', 'Spermatophyta', 'Magnoliophyta', 'eudicotyledons', 'Gunneridae', 'Pentapetalae', 'asterids', 'campanulids', 'Asterales', 'Asteraceae', 'Cichorioideae', 'Cichorieae', 'Lactucinae', 'Lactuca'], ['Eukaryota', 'Viridiplantae', 'Streptophyta', 'Embryophyta', 'Tracheophyta', 'Spermatophyta', 'Magnoliophyta', 'eudicotyledons', 'Gunneridae', 'Pentapetalae', 'rosids', 'fabids', 'Fabales', 'Fabaceae', 'Papilionoideae', 'Fabeae', 'Lens'], ['Eukaryota', 'Viridiplantae', 'Streptophyta', 'Embryophyta', 'Tracheophyta', 'Spermatophyta', 'Magnoliophyta', 'eudicotyledons', 'Gunneridae', 'Pentapetalae', 'asterids', 'lamiids', 'Lamiales', 'Oleaceae', 'Oleeae', 'Olea'], ['Eukaryota', 'Viridiplantae', 'Streptophyta', 'Embryophyta', 'Tracheophyta', 'Spermatophyta', 'Magnoliophyta', 'eudicotyledons', 'Gunneridae', 'Pentapetalae', 'asterids', 'lamiids', 'Solanales', 'Solanaceae', 'Solanoideae', 'Solaneae', 'Solanum'], ['Eukaryota', 'Viridiplantae', 'Streptophyta', 'Embryophyta', 'Tracheophyta', 'Spermatophyta', 'Magnoliophyta', 'Liliopsida', 'Poales', 'Bromeliaceae', 'Bromelioideae', 'Ananas'], ['Eukaryota', 'Viridiplantae', 'Streptophyta', 'Embryophyta', 'Tracheophyta', 'Spermatophyta', 'Magnoliophyta', 'eudicotyledons', 'Gunneridae', 'Pentapetalae', 'Caryophyllales', 'Chenopodiaceae', 'Chenopodioideae', 'Atripliceae', 'Chenopodium'], ['Eukaryota', 'Viridiplantae', 'Streptophyta', 'Embryophyta', 'Tracheophyta', 'Spermatophyta', 'Magnoliophyta', 'eudicotyledons', 'Gunneridae', 'Pentapetalae', 'rosids', 'malvids', 'Brassicales', 'Brassicaceae', 'Brassiceae', 'Brassica'], ['Eukaryota', 'Viridiplantae', 'Streptophyta', 'Embryophyta', 'Tracheophyta', 'Spermatophyta', 'Magnoliophyta', 'eudicotyledons', 'Gunneridae', 'Pentapetalae', 'asterids', 'lamiids', 'Solanales', 'Solanaceae', 'Solanoideae', 'Solaneae', 'Solanum', 'Lycopersicon'], ['Eukaryota', 'Viridiplantae', 'Streptophyta', 'Embryophyta', 'Tracheophyta', 'Spermatophyta', 'Magnoliophyta', 'eudicotyledons', 'Gunneridae', 'Pentapetalae', 'rosids', 'fabids', 'Malpighiales', 'Euphorbiaceae', 'Crotonoideae', 'Manihoteae', 'Manihot']]\n"
     ]
    }
   ],
   "source": [
    "from Bio import SeqIO\n",
    "handle = SeqIO.parse(\"Mercado.gb\", \"genbank\")\n",
    "Taxonomia = []\n",
    "for i in handle:\n",
    "    a=i.annotations[\"taxonomy\"]\n",
    "    Taxonomia.append(a)\n",
    "print(Taxonomia)"
   ]
  },
  {
   "cell_type": "code",
   "execution_count": null,
   "metadata": {},
   "outputs": [],
   "source": []
  }
 ],
 "metadata": {
  "kernelspec": {
   "display_name": "Python 3",
   "language": "python",
   "name": "python3"
  },
  "language_info": {
   "codemirror_mode": {
    "name": "ipython",
    "version": 3
   },
   "file_extension": ".py",
   "mimetype": "text/x-python",
   "name": "python",
   "nbconvert_exporter": "python",
   "pygments_lexer": "ipython3",
   "version": "3.6.5"
  }
 },
 "nbformat": 4,
 "nbformat_minor": 2
}
