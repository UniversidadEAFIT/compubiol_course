{
 "cells": [
  {
   "cell_type": "markdown",
   "metadata": {},
   "source": [
    "# **Quiz Modulo de Python**"
   ]
  },
  {
   "cell_type": "markdown",
   "metadata": {},
   "source": [
    "Doña Magnolia manda a su hijo Abel al mercado local con una lista de compras. Al ver la lista, Abel se pregunta qué tienen en común los alimentos que aparecen en la lista (lista de mercado.tsv)."
   ]
  },
  {
   "cell_type": "markdown",
   "metadata": {},
   "source": [
    "Con el archivo \"Mercado.gb\". Determine cuál es el grupo monofilético más pequeño que abarca todos estos alimentos (_i.e._ ¿cuál es el ancestro común más reciente?)"
   ]
  },
  {
   "cell_type": "code",
   "execution_count": null,
   "metadata": {},
   "outputs": [],
   "source": []
  },
  {
   "cell_type": "code",
   "execution_count": 2,
   "metadata": {},
   "outputs": [
    {
     "name": "stdout",
     "output_type": "stream",
     "text": [
      "Magnoliophyta\n"
     ]
    }
   ],
   "source": [
    "from Bio import SeqIO\n",
    "\n",
    "evo = [] ## Creamos la lista donde vamos a poner las taxonomias (lista de listas)\n",
    "handle = SeqIO.parse(\"/home/sivico26/Documents/Msc/Clases/Fund_Biocomp/Eval_material/Quiz_taxonomy/Mercado.gb\", \"genbank\")\n",
    "for rec in handle: ## Leemos las secuencias\n",
    "    evo.append(rec.annotations[\"taxonomy\"]) ## Sólo necesitamos la taxonomía de cada alimento\n",
    "\n",
    "\n",
    "nivel_m = None ## Debemos inicializar la variable en la que guardaremos el nivel del ancestro común\n",
    "for nivel in range(len(evo[0])): ## Contador para recorrer cada nivel de la taxonomía\n",
    "    category = evo[0][nivel] ## Notese que no importa si elegimos 0, 1, 2 , 3 ... ¿Es claro por qué? \n",
    "    for alim in evo: ## Contador para recorrer la lista entre alimentos\n",
    "        if alim[nivel] != category: ## Si alguno de las categorias de los alimentos es diferente a la de \\\n",
    "            nivel_m = nivel - 1 ## las demás del mismo nivel, es por que nos pasamos del grupo monofilético\n",
    "            break\n",
    "    if nivel_m != None:\n",
    "        break\n",
    "\n",
    "print(evo[0][nivel_m])"
   ]
  },
  {
   "cell_type": "markdown",
   "metadata": {},
   "source": [
    "Bonificación: Según lo anterior ¿Podría usted responder la pregunta de Abel? "
   ]
  },
  {
   "cell_type": "markdown",
   "metadata": {},
   "source": []
  }
 ],
 "metadata": {
  "kernelspec": {
   "display_name": "Python 3",
   "language": "python",
   "name": "python3"
  },
  "language_info": {
   "codemirror_mode": {
    "name": "ipython",
    "version": 3
   },
   "file_extension": ".py",
   "mimetype": "text/x-python",
   "name": "python",
   "nbconvert_exporter": "python",
   "pygments_lexer": "ipython3",
   "version": "3.6.6"
  }
 },
 "nbformat": 4,
 "nbformat_minor": 2
}
