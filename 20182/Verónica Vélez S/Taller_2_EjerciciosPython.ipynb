{
 "cells": [
  {
   "cell_type": "markdown",
   "metadata": {},
   "source": [
    "# Taller 2 - Python\n",
    "## Fundamentos en Biología Computacional\n",
    "## 2018-2, Prof. Javier Correa\n",
    "Nota: Se calificará que el código sea lo más simple, claro, original y eficiente. No usar funciones no realizadas por ustedes mismos."
   ]
  },
  {
   "cell_type": "markdown",
   "metadata": {},
   "source": [
    "1. Realice un función para expresar cualquier número entero en su connotación factorial. <br>\n",
    "Ejemplo: factorial(4)<br>\n",
    "Out: 24"
   ]
  },
  {
   "cell_type": "code",
   "execution_count": 63,
   "metadata": {},
   "outputs": [
    {
     "data": {
      "text/plain": [
       "24"
      ]
     },
     "execution_count": 63,
     "metadata": {},
     "output_type": "execute_result"
    }
   ],
   "source": [
    "def numFactorial(Entero):\n",
    "    multi=1\n",
    "    i=2\n",
    "    while i <= Entero:\n",
    "        multi=multi*i\n",
    "        i=i+1\n",
    "    return multi\n",
    "\n",
    "int(numFactorial(4))"
   ]
  },
  {
   "cell_type": "markdown",
   "metadata": {},
   "source": [
    "2. Realice un función para expresar la potencia de cualquier número. La función recibe como parámetros la base y el exponencial. <br>\n",
    "Ejemplo: potencia(4,2)<br>\n",
    "Out: 16"
   ]
  },
  {
   "cell_type": "code",
   "execution_count": 66,
   "metadata": {},
   "outputs": [
    {
     "data": {
      "text/plain": [
       "16"
      ]
     },
     "execution_count": 66,
     "metadata": {},
     "output_type": "execute_result"
    }
   ],
   "source": [
    "def potenciaDeNum(num1,num2):\n",
    "    return num1**num2\n",
    "\n",
    "potenciaDeNum(4,2)"
   ]
  },
  {
   "cell_type": "markdown",
   "metadata": {},
   "source": [
    "3. Utilizando las dos funciones anteriormente definidas (factorial y potencia), realice un función para expresar el Seno de un entero. <br>\n",
    "Ejemplo: seno(5)<br>\n",
    "Out: -0.9589331651965962"
   ]
  },
  {
   "cell_type": "code",
   "execution_count": 86,
   "metadata": {},
   "outputs": [
    {
     "data": {
      "text/plain": [
       "-0.9589242746631186"
      ]
     },
     "execution_count": 86,
     "metadata": {},
     "output_type": "execute_result"
    }
   ],
   "source": [
    "def seno(num):\n",
    "    Pi=3.1415\n",
    "    Radian=num*Pi/180\n",
    "    i1=1\n",
    "    i2=3\n",
    "    s1=0\n",
    "    s2=0\n",
    "    Fracciones=10\n",
    "    while Fracciones > 0:\n",
    "        s1=s1+(potenciaDeNum(num,i1))/numFactorial(i1)\n",
    "        s2=s2+(potenciaDeNum(num,i2))/numFactorial(i2)\n",
    "        i1=i1+4\n",
    "        i2=i2+4\n",
    "        Fracciones=Fracciones-1\n",
    "    return s1-s2\n",
    "\n",
    "seno(5)"
   ]
  },
  {
   "cell_type": "markdown",
   "metadata": {},
   "source": [
    "4. Dadas las cantidades de individuos con los genótipos AA, AB y BB. Calcular la frecuencia del alelo A esperada en equilibrio de Hardyweinber. <br>\n",
    "Ejemplo: hardyweinbergpp(12,4,4) <br>\n",
    "Out: 0.48999999999999994"
   ]
  },
  {
   "cell_type": "code",
   "execution_count": 89,
   "metadata": {},
   "outputs": [
    {
     "data": {
      "text/plain": [
       "0.5527864045000421"
      ]
     },
     "execution_count": 89,
     "metadata": {},
     "output_type": "execute_result"
    }
   ],
   "source": [
    "def FrecA_HW(ent1,ent2,ent3):\n",
    "    Suma=ent1+ent2+ent3\n",
    "    FrecDominante=ent1/Suma\n",
    "    FrecHetero=ent2/Suma\n",
    "    FrecRecesivo=ent3/Suma\n",
    "    Resta=1-(FrecDominante+FrecHetero)\n",
    "    Raiz=(Resta)**(1/2)\n",
    "    Resta2=1-Raiz\n",
    "    return Resta2\n",
    "\n",
    "FrecA_HW(12,4,4)"
   ]
  },
  {
   "cell_type": "markdown",
   "metadata": {},
   "source": [
    "5. Dada una cadena de DNA retornar una de RNA <br>\n",
    "Ejemplo: DNA_to_RNA(\"TCTCTACTCATGTCTGCA\")<br>\n",
    "Out: UCUCUACUCAUGUCUGCA"
   ]
  },
  {
   "cell_type": "code",
   "execution_count": 82,
   "metadata": {},
   "outputs": [
    {
     "data": {
      "text/plain": [
       "' UCUCUACUCAUGUCUGCA'"
      ]
     },
     "execution_count": 82,
     "metadata": {},
     "output_type": "execute_result"
    }
   ],
   "source": [
    "DNA=\"TCTCTACTCATGTCTGCA\"\n",
    "\n",
    "def DNAaRNA (DNA):\n",
    "    i=0\n",
    "    ARN=\" \"\n",
    "    while i < len(DNA):\n",
    "        if DNA[i] == \"T\":\n",
    "            ARN = ARN + \"U\"\n",
    "        else:\n",
    "            ARN = ARN + DNA[i]\n",
    "        i = i+1\n",
    "    return (ARN)\n",
    "\n",
    "DNAaRNA(DNA)"
   ]
  },
  {
   "cell_type": "markdown",
   "metadata": {},
   "source": [
    "6. Realizar una función que calcule la Temperatura de Melting de un primer de DNA en grados Celcius. Teniendo en cuenta que; en un oligonucleótido < de 14 nucleótidos, la Tm se calcula multiplicando la cantidad de G+C por 4 y las A+T por 2. Mientras que, si es >= de 14 nt, se debe aplicar la siguiente fórmula (64.9 + 41 * (totalG+C -16.4) / Tamaño sel oligo). <br>\n",
    "Ejemplo: tempmelt(TCTCTACTCATGTCTGCA)<br>\n",
    "Out: 57.2"
   ]
  },
  {
   "cell_type": "code",
   "execution_count": 90,
   "metadata": {},
   "outputs": [
    {
     "data": {
      "text/plain": [
       "45.76666666666668"
      ]
     },
     "execution_count": 90,
     "metadata": {},
     "output_type": "execute_result"
    }
   ],
   "source": [
    "Primer=[\"T\",\"C\",\"T\",\"C\",\"T\",\"A\",\"C\",\"T\",\"C\",\"A\",\"T\",\"G\",\"T\",\"C\",\"T\",\"G\",\"C\",\"A\"]\n",
    "\n",
    "def temMelting(Primer):\n",
    "    i=0\n",
    "    tam=len(Primer)\n",
    "    cA=0\n",
    "    cT=0\n",
    "    cG=0\n",
    "    cC=0  \n",
    "    while i<tam:\n",
    "        if Primer[i]==\"A\":\n",
    "            cA=cA+1\n",
    "        elif Primer[i]==\"T\":\n",
    "            cT=cT+1\n",
    "        elif Primer[i]==\"G\":\n",
    "            cG=cG+1\n",
    "        elif Primer[i]==\"C\":\n",
    "            cC=cC+1\n",
    "        i=i+1\n",
    "    if tam<14:\n",
    "        Tm=4*(cG+cC) + 2*(cA+cT)               \n",
    "    else:\n",
    "        Tm=(64.9 + 41*(cG+cC-16.4)/tam)        \n",
    "    return Tm\n",
    "      \n",
    "temMelting(Primer)\n",
    "       "
   ]
  },
  {
   "cell_type": "markdown",
   "metadata": {},
   "source": [
    "7. Hallar la distancia Hamming entre dos secuencias de polipéptidos. <br>\n",
    "link: https://es.wikipedia.org/wiki/Distancia_de_Hamming <br>\n",
    "Ejemplo: distancia_Hamming(\"SRSLLLRFLMSRSLLLRFLLFLLLLPPLPLFLLLLPPL\",\"SRSLLLRFLSSRSLLLRFLLFLLLLAALALFLLLLSML\")<br>\n",
    "Out:6"
   ]
  },
  {
   "cell_type": "code",
   "execution_count": 91,
   "metadata": {},
   "outputs": [
    {
     "data": {
      "text/plain": [
       "6"
      ]
     },
     "execution_count": 91,
     "metadata": {},
     "output_type": "execute_result"
    }
   ],
   "source": [
    "#Comparar ambas listas y cuando haya algo diferente, contar 1\n",
    "Sec1=[\"S\",\"R\",\"S\",\"L\",\"L\",\"L\",\"R\",\"F\",\"L\",\"M\",\"S\",\"R\",\"S\",\"L\",\"L\",\"L\",\"R\",\"F\",\"L\",\"L\",\"F\",\"L\",\"L\",\"L\",\"L\",\"P\",\"P\",\"L\",\"P\",\"L\",\"F\",\"L\",\"L\",\"L\",\"L\",\"P\",\"P\",\"L\"]\n",
    "Sec2=[\"S\",\"R\",\"S\",\"L\",\"L\",\"L\",\"R\",\"F\",\"L\",\"S\",\"S\",\"R\",\"S\",\"L\",\"L\",\"L\",\"R\",\"F\",\"L\",\"L\",\"F\",\"L\",\"L\",\"L\",\"L\",\"A\",\"A\",\"L\",\"A\",\"L\",\"F\",\"L\",\"L\",\"L\",\"L\",\"S\",\"M\",\"L\"]\n",
    "\n",
    "def distanciaHamming(Sec1,Sec2):\n",
    "    i1=0\n",
    "    i2=0\n",
    "    diferencias=0\n",
    "    tam=len(Sec1)\n",
    "    len(Sec1)==len(Sec2)\n",
    "    while i1 < tam:\n",
    "        if Sec1[i1] != Sec2[i2]:\n",
    "            diferencias=diferencias + 1\n",
    "        i1=i1+1\n",
    "        i2=i2+1\n",
    "    return diferencias\n",
    "\n",
    "distanciaHamming(Sec1,Sec2)\n",
    "    "
   ]
  },
  {
   "cell_type": "markdown",
   "metadata": {},
   "source": [
    "8. Dada la tabla de codones estandar, hacer una función para traducir una cadena de DNA empezando desde la posición 1 <br>\n",
    "Ejemplo: traducir(\"ATGGCGCGTATGAATAGCAATCCGAGCGCATGCCATGTTTGCCATGCGGCTCTGGCGGTCATTGATGCGTGCAATAACAATACCCGTAATAGCAATATCAATAGCTAA\")<br>\n",
    "Out: Met A R Met N S N P S A C H V C H A A L A V I D A C N N N T R N S N I N S Stop"
   ]
  },
  {
   "cell_type": "code",
   "execution_count": 95,
   "metadata": {},
   "outputs": [
    {
     "data": {
      "text/plain": [
       "' M A R M N S N P S A C H V C H A A L A V I D A C N N N T R N S N I N S STOP '"
      ]
     },
     "execution_count": 95,
     "metadata": {},
     "output_type": "execute_result"
    }
   ],
   "source": [
    "CadenaDNA=\"ATGGCGCGTATGAATAGCAATCCGAGCGCATGCCATGTTTGCCATGCGGCTCTGGCGGTCATTGATGCGTGCAATAACAATACCCGTAATAGCAATATCAATAGCTAA\"\n",
    "CadenaRNA=\"AUGGCGCGUAUGAAUAGCAAUCCGAGCGCAUGCCAUGUUUGCCAUGCGGCUCUGGCGGUCAUUGAUGCGUGCAAUAACAAUACCCGUAAUAGCAAUAUCAAUAGCUAA\"\n",
    "\n",
    "DiccionarioCodones={\"UUU\":\"F\", \"UUC\":\"F\", \"UUA\":\"L\", \"UUG\":\"L\",\n",
    "    \"UCU\":\"S\", \"UCC\":\"s\", \"UCA\":\"S\", \"UCG\":\"S\",\n",
    "    \"UAU\":\"Y\", \"UAC\":\"Y\", \"UAA\":\"STOP\", \"UAG\":\"STOP\",\n",
    "    \"UGU\":\"C\", \"UGC\":\"C\", \"UGA\":\"STOP\", \"UGG\":\"W\",\n",
    "    \"CUU\":\"L\", \"CUC\":\"L\", \"CUA\":\"L\", \"CUG\":\"L\",\n",
    "    \"CCU\":\"P\", \"CCC\":\"P\", \"CCA\":\"P\", \"CCG\":\"P\",\n",
    "    \"CAU\":\"H\", \"CAC\":\"H\", \"CAA\":\"Q\", \"CAG\":\"Q\",\n",
    "    \"CGU\":\"R\", \"CGC\":\"R\", \"CGA\":\"R\", \"CGG\":\"R\",\n",
    "    \"AUU\":\"I\", \"AUC\":\"I\", \"AUA\":\"I\", \"AUG\":\"M\",\n",
    "    \"ACU\":\"T\", \"ACC\":\"T\", \"ACA\":\"T\", \"ACG\":\"T\",\n",
    "    \"AAU\":\"N\", \"AAC\":\"N\", \"AAA\":\"K\", \"AAG\":\"K\",\n",
    "    \"AGU\":\"S\", \"AGC\":\"S\", \"AGA\":\"R\", \"AGG\":\"R\",\n",
    "    \"GUU\":\"V\", \"GUC\":\"V\", \"GUA\":\"V\", \"GUG\":\"V\",\n",
    "    \"GCU\":\"A\", \"GCC\":\"A\", \"GCA\":\"A\", \"GCG\":\"A\",\n",
    "    \"GAU\":\"D\", \"GAC\":\"D\", \"GAA\":\"E\", \"GAG\":\"E\",\n",
    "    \"GGU\":\"G\", \"GGC\":\"G\", \"GGA\":\"G\", \"GGG\":\"G\"}\n",
    "\n",
    "def traducirDNA(CadenaDNA):\n",
    "    i=0\n",
    "    Polipeptido=\" \"\n",
    "    while i<len(CadenaDNA)-2:\n",
    "        Aminoacido=DiccionarioCodones[CadenaDNA[i:i+3]]\n",
    "        Polipeptido=Polipeptido+Aminoacido + \" \"\n",
    "        i=i+3\n",
    "    return Polipeptido\n",
    "\n",
    "\n",
    "traducirDNA(CadenaRNA)"
   ]
  },
  {
   "cell_type": "markdown",
   "metadata": {},
   "source": [
    "9. Usando la función anterior, traducir en los 6 frames una cadena de DNA dada.\n",
    "Ejemplo: traducirALL(\"ATGGCGCGTATGAATAGCAATCCGAGCGCATGCCATGTTTGCCATGCGGCTCTGGCGGTCATTGATGCGTGCAATAACAATACCCGTAATAGCAATATCAATAGCTAA\")<br>\n",
    "Out: (1:Met A R Met N S N P S A C H V C H A A L A V I D A C N N N T R N S N I N S Stop, 2:W R V Stop I A I R A H A Met F A Met R L W R S L Met R A I T I P V I A I S I A, 3:G A Y E Stop Q S E R Met P C L P C G S G G H Stop C V Q Stop Q Y P Stop Stop Q Y Q Stop L, 4:L A I D I A I T G I V I A R I N D R Q S R Met A N Met A C A R I A I H T R H, 5:Stop L L I L L L R V L L L H A S Met T A R A A W Q T W H A L G L L F I R A, 6:S Y Stop Y C Y Y G Y C Y C T H Q Stop P P E P H G K H G Met R S D C Y S Y A P)"
   ]
  },
  {
   "cell_type": "code",
   "execution_count": null,
   "metadata": {},
   "outputs": [],
   "source": []
  },
  {
   "cell_type": "markdown",
   "metadata": {},
   "source": [
    "10. Un investigador realizó un experiemento donde trató células cancerígeneas con un antimitótico y luego de un tiempo cuantificó la expresión de varios oncogenes usando RNAseq. (Figura adjunta).<br>\n",
    "![texte](image.png)\n",
    "En la imagen se muestra en la primera columna los IDs de los oncogenes. Las tres columnas siguientes (Son réplicas del tratamiento control con células no tratadas, Exp1, Exp2 y Exp3). Las tres últimas columnas son las tres réplicas del tratamiento con el antimitótico. <br>\n",
    "a. Utilizando la librería numpy, creár una matríz y cargar los datos de la tabla e imprimirla. <br>\n",
    "b. Realizar una función que promedie, usando las tres réplicas, la expresión de cada gen por tratamiento. <br>\n",
    "c. Realizar una función donde a partir de los promedio de cada gen, compare el tratamiento versus el control y si la relación es < 0.5 ó > 1.5 retornar el ID del gen expresado diferencialmente."
   ]
  },
  {
   "cell_type": "code",
   "execution_count": null,
   "metadata": {},
   "outputs": [],
   "source": []
  },
  {
   "cell_type": "code",
   "execution_count": null,
   "metadata": {},
   "outputs": [],
   "source": []
  }
 ],
 "metadata": {
  "kernelspec": {
   "display_name": "Python 3",
   "language": "python",
   "name": "python3"
  }
 },
 "nbformat": 4,
 "nbformat_minor": 2
}
