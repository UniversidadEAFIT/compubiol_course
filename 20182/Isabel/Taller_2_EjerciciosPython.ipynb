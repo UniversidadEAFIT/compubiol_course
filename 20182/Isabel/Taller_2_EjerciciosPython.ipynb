{
 "cells": [
  {
   "cell_type": "markdown",
   "metadata": {},
   "source": [
    "# Taller 2 - Python\n",
    "## Fundamentos en Biología Computacional\n",
    "## 2018-2, Prof. Javier Correa\n",
    "\n",
    "### Estudiante: Isabel Adarve R.\n",
    "Nota: Se calificará que el código sea lo más simple, claro, original y eficiente. No usar funciones no realizadas por ustedes mismos."
   ]
  },
  {
   "cell_type": "markdown",
   "metadata": {},
   "source": [
    "1. Realice un función para expresar cualquier número entero en su conotación factorial. <br>\n",
    "Ejemplo: factorial(4)<br>\n",
    "Out: 24"
   ]
  },
  {
   "cell_type": "code",
   "execution_count": 9,
   "metadata": {},
   "outputs": [
    {
     "data": {
      "text/plain": [
       "40320"
      ]
     },
     "execution_count": 9,
     "metadata": {},
     "output_type": "execute_result"
    }
   ],
   "source": [
    "def numerofactorial (entero):\n",
    "    multi = 1\n",
    "    i = 2\n",
    "    \n",
    "    while i <= entero:\n",
    "        multi = multi * i\n",
    "        i = i + 1\n",
    "        \n",
    "    return multi\n",
    "int(numerofactorial (8))"
   ]
  },
  {
   "cell_type": "markdown",
   "metadata": {},
   "source": [
    "2. Realice un función para expresar la potencia de cualquier número. La función recibe como parámetros la base y el exponencial. <br>\n",
    "Ejemplo: potencia(4,2)<br>\n",
    "Out: 16"
   ]
  },
  {
   "cell_type": "code",
   "execution_count": 11,
   "metadata": {},
   "outputs": [
    {
     "data": {
      "text/plain": [
       "256"
      ]
     },
     "execution_count": 11,
     "metadata": {},
     "output_type": "execute_result"
    }
   ],
   "source": [
    "def poten (num1, num2):\n",
    "    return num1 ** num2\n",
    "\n",
    "poten(16,2)\n"
   ]
  },
  {
   "cell_type": "markdown",
   "metadata": {},
   "source": [
    "3. Utilizando las dos funciones anteriormente definidas (factorial y potencia), realice un función para expresar el Seno de un entero. <br>\n",
    "Ejemplo: seno(5)<br>\n",
    "Out: -0.9589331651965962"
   ]
  },
  {
   "cell_type": "code",
   "execution_count": 34,
   "metadata": {},
   "outputs": [
    {
     "data": {
      "text/plain": [
       "0.6569865987189019"
      ]
     },
     "execution_count": 34,
     "metadata": {},
     "output_type": "execute_result"
    }
   ],
   "source": [
    "def seno (num):\n",
    "    \n",
    "    pi = 3.1415\n",
    "    radian = num * pi / 180\n",
    "    i1 = 1\n",
    "    i2 = 3\n",
    "    s1 = 0\n",
    "    s2 = 0\n",
    "    fracciones = 10\n",
    "    \n",
    "    while fracciones > 0:\n",
    "        s1 = s1 + (poten(num,i1) / numerofactorial(i1))\n",
    "        s2 = s2 + (poten(num,i2) / numerofactorial(i2))\n",
    "        i1 = i1 + 4\n",
    "        i2 = i2 + 4\n",
    "        fracciones = fracciones - 1\n",
    "    \n",
    "    return s1 - s2\n",
    "\n",
    "seno(7)"
   ]
  },
  {
   "cell_type": "markdown",
   "metadata": {},
   "source": [
    "4. Dadas las cantidades de individuos con los genótipos AA, AB y BB. Calcular la frecuencia del alelo A esperada en equilibrio de Hardyweinber. <br>\n",
    "Ejemplo: hardyweinbergpp(12,4,4) <br>\n",
    "Out: 0.48999999999999994"
   ]
  },
  {
   "cell_type": "code",
   "execution_count": 32,
   "metadata": {},
   "outputs": [
    {
     "data": {
      "text/plain": [
       "0.5527864045000421"
      ]
     },
     "execution_count": 32,
     "metadata": {},
     "output_type": "execute_result"
    }
   ],
   "source": [
    "#AA, AB Y BB son las frecuencias genotípicas.\n",
    "#Se debe dividir cada frecuencia por el número total de frecuencias.\n",
    "#La ecuación de H-W es: 1 = p**2 + 2pq + q**2\n",
    "#AA = 12 que es la cantidad de individuos con ese genotipo y cuya frecuencia es 12/20 (p**2)\n",
    "#AB = 4 que es la cantidad de individuos con ese genotipo y cuya frecuencia es 4/20 (2pq)\n",
    "#BB = 4 que es la cantidad de individuos con ese genotipo y cuya frecuencia es 4/20 (q**2)\n",
    "\n",
    "\n",
    "def hardywei (ent1, ent2, ent3):\n",
    "    \n",
    "    suma = ent1 + ent2 + ent3\n",
    "    fredominante = ent1 / suma\n",
    "    frehetero = ent2 / suma\n",
    "    frerecesivo = ent3 / suma\n",
    "    resta = 1 - (fredominante + frehetero)\n",
    "    raiz = (resta) ** (1/2)\n",
    "    resta2 = 1 - raiz\n",
    "    \n",
    "    return resta2\n",
    "\n",
    "hardywei (12, 4, 4)"
   ]
  },
  {
   "cell_type": "markdown",
   "metadata": {},
   "source": [
    "5. Dada una cadena de DNA retornar una de RNA <br>\n",
    "Ejemplo: DNA_to_RNA(\"TCTCTACTCATGTCTGCA\")<br>\n",
    "Out: UCUCUACUCAUGUCUGCA"
   ]
  },
  {
   "cell_type": "code",
   "execution_count": 42,
   "metadata": {},
   "outputs": [
    {
     "data": {
      "text/plain": [
       "' UCUCUACUCAUGUCUGCA'"
      ]
     },
     "execution_count": 42,
     "metadata": {},
     "output_type": "execute_result"
    }
   ],
   "source": [
    "def cadenaDNA (dna):\n",
    "    i = 0\n",
    "    rna = \" \"\n",
    "    while i < len(dna):\n",
    "        if secuencia[i] == \"T\":\n",
    "            rna = rna + \"U\"\n",
    "        else: \n",
    "            rna = rna + secuencia[i]\n",
    "        i = i + 1\n",
    "    return (rna)\n",
    "\n",
    "secuencia = \"TCTCTACTCATGTCTGCA\"\n",
    "\n",
    "cadenaDNA(secuencia)"
   ]
  },
  {
   "cell_type": "markdown",
   "metadata": {},
   "source": [
    "6. Realizar una función que calcule la Temperatura de Melting de un primer de DNA en grados Celcius. Teniendo en cuenta que; en un oligonucleótido < de 14 nucleótidos, la Tm se calcula multiplicando la cantidad de G+C por 4 y las A+T por 2. Mientras que, si es >= de 14 nt, se debe aplicar la siguiente fórmula (64.9 + 41 * (totalG+C -16.4) / Tamaño sel oligo). <br>\n",
    "Ejemplo: tempmelt(TCTCTACTCATGTCTGCA)<br>\n",
    "Out: 57.2"
   ]
  },
  {
   "cell_type": "code",
   "execution_count": 31,
   "metadata": {},
   "outputs": [
    {
     "data": {
      "text/plain": [
       "45.76666666666668"
      ]
     },
     "execution_count": 31,
     "metadata": {},
     "output_type": "execute_result"
    }
   ],
   "source": [
    "primer = [\"T\",\"C\",\"T\",\"C\",\"T\",\"A\",\"C\",\"T\",\"C\",\"A\",\"T\",\"G\",\"T\",\"C\",\"T\",\"G\",\"C\",\"A\"]\n",
    "\n",
    "def tempMelt (primer):\n",
    "    i = 0\n",
    "    tam = len(primer)\n",
    "    cA = 0\n",
    "    cT = 0\n",
    "    cG = 0\n",
    "    cC = 0\n",
    "    \n",
    "    while i < tam:\n",
    "        if primer [i] == \"A\":\n",
    "            cA = cA + 1\n",
    "        elif primer [i] == \"T\":\n",
    "            cT = cT + 1\n",
    "        elif primer [i] == \"G\":\n",
    "            cG = cG + 1\n",
    "        elif primer [i] == \"C\":\n",
    "            cC = cC + 1\n",
    "        i = i + 1\n",
    "        \n",
    "    if tam < 14:\n",
    "        Tm = ((cG + cC)*4) + ((cA + cT)*2)\n",
    "    else: \n",
    "        Tm = (64.9 + 41 * (cG + cC -16.4)/ tam)\n",
    "    \n",
    "    return (Tm)\n",
    "    \n",
    "tempMelt (primer)       "
   ]
  },
  {
   "cell_type": "markdown",
   "metadata": {},
   "source": [
    "7. Hallar la distancia Hamming entre dos secuencias de polipéptidos. <br>\n",
    "link: https://es.wikipedia.org/wiki/Distancia_de_Hamming <br>\n",
    "Ejemplo: distancia_Hamming(\"SRSLLLRFLMSRSLLLRFLLFLLLLPPLPLFLLLLPPL\",\"SRSLLLRFLSSRSLLLRFLLFLLLLAALALFLLLLSML\")<br>\n",
    "Out:6"
   ]
  },
  {
   "cell_type": "code",
   "execution_count": 1,
   "metadata": {},
   "outputs": [
    {
     "data": {
      "text/plain": [
       "6"
      ]
     },
     "execution_count": 1,
     "metadata": {},
     "output_type": "execute_result"
    }
   ],
   "source": [
    "lista1 = [\"S\",\"R\",\"S\",\"L\",\"L\",\"L\",\"R\",\"F\",\"L\",\"M\",\"S\",\"R\",\"S\",\"L\",\"L\",\"L\",\"R\",\"F\",\"L\",\"L\",\"F\",\"L\",\"L\",\"L\",\"L\",\"P\",\"P\",\"L\",\"P\",\"L\",\"F\",\"L\",\"L\",\"L\",\"L\",\"P\",\"P\",\"L\"]\n",
    "lista2 = [\"S\",\"R\",\"S\",\"L\",\"L\",\"L\",\"R\",\"F\",\"L\",\"S\",\"S\",\"R\",\"S\",\"L\",\"L\",\"L\",\"R\",\"F\",\"L\",\"L\",\"F\",\"L\",\"L\",\"L\",\"L\",\"A\",\"A\",\"L\",\"A\",\"L\",\"F\",\"L\",\"L\",\"L\",\"L\",\"S\",\"M\",\"L\"]\n",
    "\n",
    "def dHamming (lista1, lista2):\n",
    "    i1 = 0\n",
    "    i2 = 0\n",
    "    cnt = 0\n",
    "    len(lista1) == len(lista2)\n",
    "        \n",
    "    while i1 < len(lista1):\n",
    "        if lista1[i1] != lista2[i2]:\n",
    "            cnt = cnt + 1\n",
    "        i1 = i1 + 1\n",
    "        i2 = i2 + 1\n",
    "    return (cnt)\n",
    "\n",
    "dHamming (lista1, lista2)"
   ]
  },
  {
   "cell_type": "markdown",
   "metadata": {},
   "source": [
    "8. Dada la tabla de codones estandar, hacer una función para traducir una cadena de DNA empezando desde la posición 1 <br>\n",
    "Ejemplo: traducir(\"ATGGCGCGTATGAATAGCAATCCGAGCGCATGCCATGTTTGCCATGCGGCTCTGGCGGTCATTGATGCGTGCAATAACAATACCCGTAATAGCAATATCAATAGCTAA\")<br>\n",
    "Out: Met A R Met N S N P S A C H V C H A A L A V I D A C N N N T R N S N I N S Stop"
   ]
  },
  {
   "cell_type": "code",
   "execution_count": 51,
   "metadata": {},
   "outputs": [
    {
     "data": {
      "text/plain": [
       "' M A R M N S N P S A C H V C H A A L A V I D A C N N N T R N S N I N S Stop '"
      ]
     },
     "execution_count": 51,
     "metadata": {},
     "output_type": "execute_result"
    }
   ],
   "source": [
    "#Este ejercicio comienza con un error: no se traducen cadenas de DNA, se traducen cadenas de RNA\n",
    "\n",
    "\n",
    "tira = \"ATGGCGCGTATGAATAGCAATCCGAGCGCATGCCATGTTTGCCATGCGGCTCTGGCGGTCATTGATGCGTGCAATAACAATACCCGTAATAGCAATATCAATAGCTAA\"\n",
    "rna = \"AUGGCGCGUAUGAAUAGCAAUCCGAGCGCAUGCCAUGUUUGCCAUGCGGCUCUGGCGGUCAUUGAUGCGUGCAAUAACAAUACCCGUAAUAGCAAUAUCAAUAGCUAA\"\n",
    "diccionario = {\"UUU\":\"F\", \"UUC\":\"F\", \"UUA\":\"L\", \"UUG\":\"L\",\n",
    "    \"UCU\":\"S\", \"UCC\":\"s\", \"UCA\":\"S\", \"UCG\":\"S\",\n",
    "    \"UAU\":\"Y\", \"UAC\":\"Y\", \"UAA\":\"Stop\", \"UAG\":\"Stop\",\n",
    "    \"UGU\":\"C\", \"UGC\":\"C\", \"UGA\":\"Stop\", \"UGG\":\"W\",\n",
    "    \"CUU\":\"L\", \"CUC\":\"L\", \"CUA\":\"L\", \"CUG\":\"L\",\n",
    "    \"CCU\":\"P\", \"CCC\":\"P\", \"CCA\":\"P\", \"CCG\":\"P\",\n",
    "    \"CAU\":\"H\", \"CAC\":\"H\", \"CAA\":\"Q\", \"CAG\":\"Q\",\n",
    "    \"CGU\":\"R\", \"CGC\":\"R\", \"CGA\":\"R\", \"CGG\":\"R\",\n",
    "    \"AUU\":\"I\", \"AUC\":\"I\", \"AUA\":\"I\", \"AUG\":\"M\",\n",
    "    \"ACU\":\"T\", \"ACC\":\"T\", \"ACA\":\"T\", \"ACG\":\"T\",\n",
    "    \"AAU\":\"N\", \"AAC\":\"N\", \"AAA\":\"K\", \"AAG\":\"K\",\n",
    "    \"AGU\":\"S\", \"AGC\":\"S\", \"AGA\":\"R\", \"AGG\":\"R\",\n",
    "    \"GUU\":\"V\", \"GUC\":\"V\", \"GUA\":\"V\", \"GUG\":\"V\",\n",
    "    \"GCU\":\"A\", \"GCC\":\"A\", \"GCA\":\"A\", \"GCG\":\"A\",\n",
    "    \"GAU\":\"D\", \"GAC\":\"D\", \"GAA\":\"E\", \"GAG\":\"E\",\n",
    "    \"GGU\":\"G\", \"GGC\":\"G\", \"GGA\":\"G\", \"GGG\":\"G\"}\n",
    "\n",
    "def traduccion (dna):\n",
    "    i=0\n",
    "    pol=\" \"\n",
    "    \n",
    "    while i<len(dna)-2:\n",
    "        codon= dna[i:i+3]\n",
    "        amino = diccionario[codon]\n",
    "        pol = pol + amino + \" \"\n",
    "        i = i + 3\n",
    "    return(pol)\n",
    "\n",
    "traduccion (rna)"
   ]
  },
  {
   "cell_type": "markdown",
   "metadata": {},
   "source": [
    "9. Usando la función anterior, traducir en los 6 frames una cadena de DNA dada.\n",
    "Ejemplo: traducirALL(\"ATGGCGCGTATGAATAGCAATCCGAGCGCATGCCATGTTTGCCATGCGGCTCTGGCGGTCATTGATGCGTGCAATAACAATACCCGTAATAGCAATATCAATAGCTAA\")<br>\n",
    "Out: (1:Met A R Met N S N P S A C H V C H A A L A V I D A C N N N T R N S N I N S Stop, 2:W R V Stop I A I R A H A Met F A Met R L W R S L Met R A I T I P V I A I S I A, 3:G A Y E Stop Q S E R Met P C L P C G S G G H Stop C V Q Stop Q Y P Stop Stop Q Y Q Stop L, 4:L A I D I A I T G I V I A R I N D R Q S R Met A N Met A C A R I A I H T R H, 5:Stop L L I L L L R V L L L H A S Met T A R A A W Q T W H A L G L L F I R A, 6:S Y Stop Y C Y Y G Y C Y C T H Q Stop P P E P H G K H G Met R S D C Y S Y A P)"
   ]
  },
  {
   "cell_type": "code",
   "execution_count": null,
   "metadata": {},
   "outputs": [],
   "source": []
  },
  {
   "cell_type": "markdown",
   "metadata": {},
   "source": [
    "10. Un investigador realizó un experiemento donde trató células cancerígeneas con un antimitótico y luego de un tiempo cuantificó la expresión de varios oncogenes usando RNAseq. (Figura adjunta).<br>\n",
    "![texte](image.png)\n",
    "En la imagen se muestra en la primera columna los IDs de los oncogenes. Las tres columnas siguientes (Son réplicas del tratamiento control con células no tratadas, Exp1, Exp2 y Exp3). Las tres últimas columnas son las tres réplicas del tratamiento con el antimitótico. <br>\n",
    "a. Utilizando la librería numpy, creár una matríz y cargar los datos de la tabla e imprimirla. <br>\n",
    "b. Realizar una función que promedie, usando las tres réplicas, la expresión de cada gen por tratamiento. <br>\n",
    "c. Realizar una función donde a partir de los promedio de cada gen, compare el tratamiento versus el control y si la relación es < 0.5 ó > 1.5 retornar el ID del gen expresado diferencialmente."
   ]
  },
  {
   "cell_type": "code",
   "execution_count": 52,
   "metadata": {},
   "outputs": [],
   "source": []
  }
 ],
 "metadata": {
  "kernelspec": {
   "display_name": "Python 3",
   "language": "python",
   "name": "python3"
  },
  "language_info": {
   "codemirror_mode": {
    "name": "ipython",
    "version": 3
   },
   "file_extension": ".py",
   "mimetype": "text/x-python",
   "name": "python",
   "nbconvert_exporter": "python",
   "pygments_lexer": "ipython3",
   "version": "3.6.5"
  }
 },
 "nbformat": 4,
 "nbformat_minor": 2
}
