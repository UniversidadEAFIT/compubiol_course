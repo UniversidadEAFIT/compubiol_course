{
 "cells": [
  {
   "cell_type": "markdown",
   "metadata": {},
   "source": [
    "# TALLER 3: Python\n",
    "Jose Á. Rodríguez B. \n",
    "\n",
    "Curso: Biología computacional "
   ]
  },
  {
   "cell_type": "markdown",
   "metadata": {},
   "source": [
    "1 y 2. **Suscripción DataCamp**"
   ]
  },
  {
   "cell_type": "markdown",
   "metadata": {},
   "source": [
    "![J](Soporte/Suscrip.png)"
   ]
  },
  {
   "cell_type": "markdown",
   "metadata": {},
   "source": [
    "3.**Curso Finalizado**"
   ]
  },
  {
   "cell_type": "markdown",
   "metadata": {},
   "source": [
    "![R](Soporte/DataCampFinalizado.png)\n",
    "![F](Soporte/FinalDC.png)\n"
   ]
  },
  {
   "cell_type": "markdown",
   "metadata": {},
   "source": [
    "# **ROSALIND**"
   ]
  },
  {
   "cell_type": "markdown",
   "metadata": {},
   "source": [
    "**Ejercicio1: Installing Python**"
   ]
  },
  {
   "cell_type": "markdown",
   "metadata": {},
   "source": [
    "![ip](Soporte/Rosalind1.png)"
   ]
  },
  {
   "cell_type": "markdown",
   "metadata": {},
   "source": [
    "¿Cómo lo hice?==> Código"
   ]
  },
  {
   "cell_type": "code",
   "execution_count": 2,
   "metadata": {},
   "outputs": [
    {
     "name": "stdout",
     "output_type": "stream",
     "text": [
      "The Zen of Python, by Tim Peters\n",
      "\n",
      "Beautiful is better than ugly.\n",
      "Explicit is better than implicit.\n",
      "Simple is better than complex.\n",
      "Complex is better than complicated.\n",
      "Flat is better than nested.\n",
      "Sparse is better than dense.\n",
      "Readability counts.\n",
      "Special cases aren't special enough to break the rules.\n",
      "Although practicality beats purity.\n",
      "Errors should never pass silently.\n",
      "Unless explicitly silenced.\n",
      "In the face of ambiguity, refuse the temptation to guess.\n",
      "There should be one-- and preferably only one --obvious way to do it.\n",
      "Although that way may not be obvious at first unless you're Dutch.\n",
      "Now is better than never.\n",
      "Although never is often better than *right* now.\n",
      "If the implementation is hard to explain, it's a bad idea.\n",
      "If the implementation is easy to explain, it may be a good idea.\n",
      "Namespaces are one honking great idea -- let's do more of those!\n"
     ]
    }
   ],
   "source": [
    "import this"
   ]
  },
  {
   "cell_type": "markdown",
   "metadata": {},
   "source": [
    "**Ejercicio2: Variables and Some Arithmetic**"
   ]
  },
  {
   "cell_type": "markdown",
   "metadata": {},
   "source": [
    "![vsa](Soporte/Rosalind2.png)"
   ]
  },
  {
   "cell_type": "markdown",
   "metadata": {},
   "source": [
    "**¿Cómo lo hice?==> Código**"
   ]
  },
  {
   "cell_type": "code",
   "execution_count": 2,
   "metadata": {},
   "outputs": [
    {
     "name": "stdout",
     "output_type": "stream",
     "text": [
      "34\n",
      "1638130\n"
     ]
    }
   ],
   "source": [
    "def Hipotenusa(a,b): #escribo la función de lo que quiero hallar con sus parámetros \n",
    "    if(a>=1000 or b>=1000): #establezco la condición que me dan, si alguna de las 2 se da, no se calcula nada\n",
    "        return \"False\" # en caso de que se incumpla la condición\n",
    "    else:\n",
    "         H2=(a**2+b**2) #esta función halla el valor deseado\n",
    "    print (H2) #con el print obtengo visualmente el valor de H2 \n",
    "    \n",
    "#Prueba1\n",
    "Hipotenusa(3,5) #datos de ejemplo\n",
    "\n",
    "#Prueba2\n",
    "Hipotenusa(947,861) #datos para ejercicio Rosalind"
   ]
  },
  {
   "cell_type": "markdown",
   "metadata": {},
   "source": [
    "**Ejercicio3:Strings and Lists**"
   ]
  },
  {
   "cell_type": "markdown",
   "metadata": {},
   "source": [
    "![LS](Soporte/Rosalind3.png)"
   ]
  },
  {
   "cell_type": "markdown",
   "metadata": {},
   "source": [
    "**¿Cómo lo hice?==> Código**"
   ]
  },
  {
   "cell_type": "code",
   "execution_count": 2,
   "metadata": {},
   "outputs": [
    {
     "name": "stdout",
     "output_type": "stream",
     "text": [
      "Humpty   Dumpty\n",
      "Holodactylus   citreola\n"
     ]
    }
   ],
   "source": [
    "s=\"HumptyDumptysatonawallHumptyDumptyhadagreatfallAlltheKingshorsesandalltheKingsmenCouldntputHumptyDumptyinhisplaceagain\"\n",
    "print(s[22:28] ,\" \" ,s[97:103])\n",
    "\n",
    "s=\"UpmrAS2Pykiy84I9bHolodactylusDhdgNS9fPQwJ9QZUsaFErP5DJnYU2LQUNnsF2omiOigtkEwk9Rxia1scoEsk59jX4fKVqJkAcitreolaEwxRXDKGJrTpj8JNbiCpGZrdZPYsc8uqLfQLmFiCraxNbI3msN.\"\n",
    "print(s[17:29] ,\" \" ,s[101:109])"
   ]
  }
 ],
 "metadata": {
  "kernelspec": {
   "display_name": "Python 3",
   "language": "python",
   "name": "python3"
  },
  "language_info": {
   "codemirror_mode": {
    "name": "ipython",
    "version": 3
   },
   "file_extension": ".py",
   "mimetype": "text/x-python",
   "name": "python",
   "nbconvert_exporter": "python",
   "pygments_lexer": "ipython3",
   "version": "3.6.4"
  }
 },
 "nbformat": 4,
 "nbformat_minor": 2
}
