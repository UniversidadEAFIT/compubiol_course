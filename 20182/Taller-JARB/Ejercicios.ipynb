{
 "cells": [
  {
   "cell_type": "code",
   "execution_count": 19,
   "metadata": {},
   "outputs": [
    {
     "name": "stdout",
     "output_type": "stream",
     "text": [
      "22 33.999999999999986\n"
     ]
    }
   ],
   "source": [
    "def Horasaminutos(minutos):\n",
    "    Horas= (minutos/60)\n",
    "    enteroHoras= int(Horas)\n",
    "    restahoras= Horas- enteroHoras\n",
    "    enterominutos= restahoras*60\n",
    "    print (enteroHoras, enterominutos)\n",
    "Horasaminutos(1354)\n"
   ]
  },
  {
   "cell_type": "code",
   "execution_count": 2,
   "metadata": {},
   "outputs": [
    {
     "data": {
      "text/plain": [
       "28.274328"
      ]
     },
     "execution_count": 2,
     "metadata": {},
     "output_type": "execute_result"
    }
   ],
   "source": [
    "def volBacter (radiobacteria, longitudbacteria):\n",
    "    pi = 3.141592\n",
    "    cuadrado = radiobacteria ** 2\n",
    "    volumenbacteria = pi * cuadrado\n",
    "    return volumenbacteria\n",
    "\n",
    "volBacter(3,87)\n"
   ]
  },
  {
   "cell_type": "code",
   "execution_count": 3,
   "metadata": {},
   "outputs": [],
   "source": [
    "def Nnucle(secuencia, nucleotido):\n",
    "    i= 0\n",
    "    cont = 0\n",
    "    Longitud = len(secuencia)\n",
    "    while i <= Longitud:\n",
    "        if secuencia[i] == nucleotido:\n",
    "            cont = cont + 1\n",
    "        else:\n",
    "            i= i+1\n",
    "    return cont"
   ]
  },
  {
   "cell_type": "code",
   "execution_count": null,
   "metadata": {},
   "outputs": [],
   "source": [
    "Nnucle(\"ATATATAGCGTGCTAT\", \"T\")"
   ]
  },
  {
   "cell_type": "code",
   "execution_count": null,
   "metadata": {},
   "outputs": [],
   "source": []
  },
  {
   "cell_type": "code",
   "execution_count": 12,
   "metadata": {},
   "outputs": [
    {
     "name": "stdout",
     "output_type": "stream",
     "text": [
      "Humpty   Dumpty\n",
      "Holodactylus   citreola\n"
     ]
    }
   ],
   "source": [
    "s=\"HumptyDumptysatonawallHumptyDumptyhadagreatfallAlltheKingshorsesandalltheKingsmenCouldntputHumptyDumptyinhisplaceagain\"\n",
    "print(s[22:28] ,\" \" ,s[97:103])\n",
    "\n",
    "s=\"UpmrAS2Pykiy84I9bHolodactylusDhdgNS9fPQwJ9QZUsaFErP5DJnYU2LQUNnsF2omiOigtkEwk9Rxia1scoEsk59jX4fKVqJkAcitreolaEwxRXDKGJrTpj8JNbiCpGZrdZPYsc8uqLfQLmFiCraxNbI3msN.\"\n",
    "print(s[17:29] ,\" \" ,s[101:109])\n",
    "\n"
   ]
  },
  {
   "cell_type": "code",
   "execution_count": null,
   "metadata": {},
   "outputs": [],
   "source": []
  }
 ],
 "metadata": {
  "kernelspec": {
   "display_name": "Python 3",
   "language": "python",
   "name": "python3"
  },
  "language_info": {
   "codemirror_mode": {
    "name": "ipython",
    "version": 3
   },
   "file_extension": ".py",
   "mimetype": "text/x-python",
   "name": "python",
   "nbconvert_exporter": "python",
   "pygments_lexer": "ipython3",
   "version": "3.6.4"
  }
 },
 "nbformat": 4,
 "nbformat_minor": 2
}
