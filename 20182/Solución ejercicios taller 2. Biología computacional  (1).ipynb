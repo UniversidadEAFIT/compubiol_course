{
 "cells": [
  {
   "cell_type": "markdown",
   "metadata": {},
   "source": [
    "# Solución taller 2\n",
    "Juan Pablo Puerta Gallo \n",
    "Biología-EAFIT"
   ]
  },
  {
   "cell_type": "markdown",
   "metadata": {},
   "source": [
    " Punto 1"
   ]
  },
  {
   "cell_type": "code",
   "execution_count": 14,
   "metadata": {
    "scrolled": true
   },
   "outputs": [
    {
     "data": {
      "text/plain": [
       "120"
      ]
     },
     "execution_count": 14,
     "metadata": {},
     "output_type": "execute_result"
    }
   ],
   "source": [
    "def factorial(numero):\n",
    "    num=1\n",
    "    i=1\n",
    "    while i<=numero: \n",
    "        num=num*i\n",
    "        i= i+1\n",
    "    return num\n",
    "factorial(5)"
   ]
  },
  {
   "cell_type": "markdown",
   "metadata": {},
   "source": [
    "Punto 2"
   ]
  },
  {
   "cell_type": "code",
   "execution_count": 7,
   "metadata": {},
   "outputs": [
    {
     "data": {
      "text/plain": [
       "16"
      ]
     },
     "execution_count": 7,
     "metadata": {},
     "output_type": "execute_result"
    }
   ],
   "source": [
    "def potencia(x, y):\n",
    "    resultado= x ** y\n",
    "    return resultado\n",
    "potencia (4, 2)"
   ]
  },
  {
   "cell_type": "markdown",
   "metadata": {},
   "source": [
    "Punto 3"
   ]
  },
  {
   "cell_type": "code",
   "execution_count": 47,
   "metadata": {},
   "outputs": [
    {
     "data": {
      "text/plain": [
       "-0.9589331651965963"
      ]
     },
     "execution_count": 47,
     "metadata": {},
     "output_type": "execute_result"
    }
   ],
   "source": [
    "def seno(x):\n",
    "    x=float(x)\n",
    "    contar=0\n",
    "    for i in range (0, 10):\n",
    "        contar=contar+((potencia(-1,i))/(factorial(2*i+1)))*(potencia(x,(2*i+1)))\n",
    "    return contar\n",
    "seno (5)"
   ]
  },
  {
   "cell_type": "raw",
   "metadata": {},
   "source": [
    "punto 4 "
   ]
  },
  {
   "cell_type": "code",
   "execution_count": 22,
   "metadata": {},
   "outputs": [
    {
     "data": {
      "text/plain": [
       "0.48"
      ]
     },
     "execution_count": 22,
     "metadata": {},
     "output_type": "execute_result"
    }
   ],
   "source": [
    "def hardyweinber (x,y,z):\n",
    "    AA=x\n",
    "    AB=y\n",
    "    BB=z\n",
    "    total=AA+AB+BB\n",
    "    FAA=AA/total\n",
    "    FAB=AB/total\n",
    "    FBB=BB/total\n",
    "    frecuencia=FAA*FAA+((2*FAA*FBB)/2)\n",
    "    return frecuencia\n",
    "hardyweinber(12, 4, 4)"
   ]
  },
  {
   "cell_type": "markdown",
   "metadata": {},
   "source": [
    "Punto 5"
   ]
  },
  {
   "cell_type": "code",
   "execution_count": 53,
   "metadata": {},
   "outputs": [
    {
     "data": {
      "text/plain": [
       "'UCUCUACUCAUGUCUGCA'"
      ]
     },
     "execution_count": 53,
     "metadata": {},
     "output_type": "execute_result"
    }
   ],
   "source": [
    "def dna_rna(secuencia):\n",
    "    y= secuencia\n",
    "    y= y.replace(\"T\",\"U\")\n",
    "    return y\n",
    "dna_rna(\"TCTCTACTCATGTCTGCA\")"
   ]
  },
  {
   "cell_type": "markdown",
   "metadata": {},
   "source": [
    "Punto 6"
   ]
  },
  {
   "cell_type": "code",
   "execution_count": 74,
   "metadata": {
    "scrolled": true
   },
   "outputs": [
    {
     "data": {
      "text/plain": [
       "45.76666666666668"
      ]
     },
     "execution_count": 74,
     "metadata": {},
     "output_type": "execute_result"
    }
   ],
   "source": [
    "def TM(oligo):\n",
    "    \n",
    "    secuencia = oligo\n",
    "    tamaño_secuencia = len (secuencia)\n",
    "    G = 0\n",
    "    C = 0\n",
    "    T = 0\n",
    "    A = 0\n",
    "    \n",
    "    for i in secuencia:\n",
    "        \n",
    "        if i == \"G\":\n",
    "            G = G + 1\n",
    "        if i == \"C\":\n",
    "            C = C + 1\n",
    "        if i == \"T\":\n",
    "            T = T + 1\n",
    "        if i == \"A\":\n",
    "            A = A + 1\n",
    "    \n",
    "    if tamaño_secuencia <= 14:\n",
    "        tm = ((G + C) * 4) + ((T + A)*2) \n",
    "    \n",
    "    else:\n",
    "        tm = 64.9 + (41 * (G + C - 16.4))/(tamaño_secuencia)\n",
    "    \n",
    "    return tm\n",
    "TM(\"TCTCTACTCATGTCTGCA\")"
   ]
  },
  {
   "cell_type": "markdown",
   "metadata": {},
   "source": [
    "Punto 7"
   ]
  },
  {
   "cell_type": "code",
   "execution_count": 79,
   "metadata": {},
   "outputs": [
    {
     "data": {
      "text/plain": [
       "6"
      ]
     },
     "execution_count": 79,
     "metadata": {},
     "output_type": "execute_result"
    }
   ],
   "source": [
    "def distancia (x1,x2):\n",
    "    dist_ancia = 0\n",
    "    x = len (x1)\n",
    "    for i in range (x):\n",
    "        if x1 [i] != x2[i]:\n",
    "            dist_ancia = dist_ancia + 1\n",
    "    return dist_ancia\n",
    "distancia(\"SRSLLLRFLMSRSLLLRFLLFLLLLPPLPLFLLLLPPL\",\"SRSLLLRFLSSRSLLLRFLLFLLLLAALALFLLLLSML\")"
   ]
  },
  {
   "cell_type": "markdown",
   "metadata": {},
   "source": [
    "Punto 8"
   ]
  },
  {
   "cell_type": "code",
   "execution_count": 131,
   "metadata": {},
   "outputs": [
    {
     "data": {
      "text/plain": [
       "'MetARMetNSNPSACHVCHAALAVIDACNNNTRNSNINSStop'"
      ]
     },
     "execution_count": 131,
     "metadata": {},
     "output_type": "execute_result"
    }
   ],
   "source": [
    "def traduccion (secuencia):\n",
    "    tabla = {\n",
    "    'ATA':'I', 'ATC':'I', 'ATT':'I', 'ATG':'Met',\n",
    "    'ACA':'T', 'ACC':'T', 'ACG':'T', 'ACT':'T',\n",
    "    'AAC':'N', 'AAT':'N', 'AAA':'K', 'AAG':'K',\n",
    "    'AGC':'S', 'AGT':'S', 'AGA':'R', 'AGG':'R',\n",
    "    'CTA':'L', 'CTC':'L', 'CTG':'L', 'CTT':'L',\n",
    "    'CCA':'P', 'CCC':'P', 'CCG':'P', 'CCT':'P',\n",
    "    'CAC':'H', 'CAT':'H', 'CAA':'Q', 'CAG':'Q',\n",
    "    'CGA':'R', 'CGC':'R', 'CGG':'R', 'CGT':'R',\n",
    "    'GTA':'V', 'GTC':'V', 'GTG':'V', 'GTT':'V',\n",
    "    'GCA':'A', 'GCC':'A', 'GCG':'A', 'GCT':'A',\n",
    "    'GAC':'D', 'GAT':'D', 'GAA':'E', 'GAG':'E',\n",
    "    'GGA':'G', 'GGC':'G', 'GGG':'G', 'GGT':'G',\n",
    "    'TCA':'S', 'TCC':'S', 'TCG':'S', 'TCT':'S',\n",
    "    'TTC':'F', 'TTT':'F', 'TTA':'L', 'TTG':'L',\n",
    "    'TAC':'Y', 'TAT':'Y', 'TAA':'Stop', 'TAG':'Stop',\n",
    "    'TGC':'C', 'TGT':'C', 'TGA':'Stop', 'TGG':'W',}\n",
    "    proteina=\"\"\n",
    "    if len (secuencia)%3==0:\n",
    "        for i in range (0, len(secuencia),3):\n",
    "            codon=secuencia[i:i+3]\n",
    "            proteina+=tabla[codon]\n",
    "    return proteina\n",
    "traduccion (\"ATGGCGCGTATGAATAGCAATCCGAGCGCATGCCATGTTTGCCATGCGGCTCTGGCGGTCATTGATGCGTGCAATAACAATACCCGTAATAGCAATATCAATAGCTAA\")"
   ]
  }
 ],
 "metadata": {
  "kernelspec": {
   "display_name": "Python 3",
   "language": "python",
   "name": "python3"
  },
  "language_info": {
   "codemirror_mode": {
    "name": "ipython",
    "version": 3
   },
   "file_extension": ".py",
   "mimetype": "text/x-python",
   "name": "python",
   "nbconvert_exporter": "python",
   "pygments_lexer": "ipython3",
   "version": "3.6.5"
  }
 },
 "nbformat": 4,
 "nbformat_minor": 2
}
