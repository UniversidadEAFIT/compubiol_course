{
 "cells": [
  {
   "cell_type": "markdown",
   "metadata": {},
   "source": [
    "# Taller 2 - Python\n",
    "## Fundamentos en Biología Computacional\n",
    "## 2018-2, Prof. Javier Correa\n",
    "Nota: Se calificará que el código sea lo más simple, claro, original y eficiente. No usar funciones no realizadas por ustedes mismos."
   ]
  },
  {
   "cell_type": "markdown",
   "metadata": {},
   "source": [
    "1. Realice un función para expresar cualquier número entero en su conotación factorial. <br>\n",
    "Ejemplo: factorial(4)<br>\n",
    "Out: 24"
   ]
  },
  {
   "cell_type": "code",
   "execution_count": 54,
   "metadata": {},
   "outputs": [
    {
     "data": {
      "text/plain": [
       "24"
      ]
     },
     "execution_count": 54,
     "metadata": {},
     "output_type": "execute_result"
    }
   ],
   "source": [
    "def numerofactorial(entero):\n",
    "    multipli=1\n",
    "    i=2\n",
    "    while i<= entero:\n",
    "        multipli=multipli*i\n",
    "        i=i+1  \n",
    "    return multipli\n",
    "\n",
    "numerofactorial(4)"
   ]
  },
  {
   "cell_type": "markdown",
   "metadata": {},
   "source": [
    "2. Realice un función para expresar la potencia de cualquier número. La función recibe como parámetros la base y el exponencial. <br>\n",
    "Ejemplo: potencia(4,2)<br>\n",
    "Out: 16"
   ]
  },
  {
   "cell_type": "code",
   "execution_count": 57,
   "metadata": {},
   "outputs": [
    {
     "data": {
      "text/plain": [
       "16"
      ]
     },
     "execution_count": 57,
     "metadata": {},
     "output_type": "execute_result"
    }
   ],
   "source": [
    "def potencia(base,potencia):\n",
    "    return base**potencia\n",
    "potencia(2,4)\n",
    "        "
   ]
  },
  {
   "cell_type": "markdown",
   "metadata": {},
   "source": [
    "3. Utilizando las dos funciones anteriormente definidas (factorial y potencia), realice un función para expresar el Seno de un entero. <br>\n",
    "Ejemplo: seno(5)<br>\n",
    "Out: -0.9589331651965962"
   ]
  },
  {
   "cell_type": "code",
   "execution_count": 75,
   "metadata": {},
   "outputs": [
    {
     "data": {
      "text/plain": [
       "-0.9589242746631186"
      ]
     },
     "execution_count": 75,
     "metadata": {},
     "output_type": "execute_result"
    }
   ],
   "source": [
    "def senoDeUnEntero (numero):\n",
    "    pi = 3.141516\n",
    "    radian = numero * pi / 180\n",
    "    i1=1\n",
    "    i2=3\n",
    "    s1=0\n",
    "    s2=0\n",
    "    fracciones=10\n",
    "    \n",
    "    while fracciones > 0:\n",
    "        s1=s1+(potencia(numero,i1)/numerofactorial(i1))\n",
    "        s2=s2+(potencia(numero,i2)/numerofactorial(i2))\n",
    "        i1=i1+4\n",
    "        i2=i2+4\n",
    "        fracciones = fracciones - 1\n",
    "    return s1-s2\n",
    "\n",
    "senoDeUnEntero(5)"
   ]
  },
  {
   "cell_type": "markdown",
   "metadata": {},
   "source": [
    "4. Dadas las cantidades de individuos con los genótipos AA, AB y BB. Calcular la frecuencia del alelo A esperada en equilibrio de Hardyweinber. <br>\n",
    "Ejemplo: hardyweinbergpp(12,4,4) <br>\n",
    "Out: 0.48999999999999994"
   ]
  },
  {
   "cell_type": "code",
   "execution_count": 76,
   "metadata": {},
   "outputs": [
    {
     "data": {
      "text/plain": [
       "0.5527864045000421"
      ]
     },
     "execution_count": 76,
     "metadata": {},
     "output_type": "execute_result"
    }
   ],
   "source": [
    "def equilibrioDeHardyweinber (ent1,ent2,ent3):\n",
    "    \n",
    "    suma=ent1+ent2+ent3\n",
    "    frecuenciaDom=ent1/suma\n",
    "    frecuenciaRes=ent3/suma\n",
    "    frecuenciaHet=ent2/suma\n",
    "    resta=1-(frecuenciaDom+frecuenciaRes)\n",
    "    raiz=(resta)**(1/2)\n",
    "    resta2=1-raiz\n",
    "    \n",
    "    return resta2\n",
    "\n",
    "equilibrioDeHardyweinber(12,4,4)"
   ]
  },
  {
   "cell_type": "markdown",
   "metadata": {},
   "source": [
    "5. Dada una cadena de DNA retornar una de RNA <br>\n",
    "Ejemplo: DNA_to_RNA(\"TCTCTACTCATGTCTGCA\")<br>\n",
    "Out: UCUCUACUCAUGUCUGCA"
   ]
  },
  {
   "cell_type": "code",
   "execution_count": 72,
   "metadata": {},
   "outputs": [
    {
     "data": {
      "text/plain": [
       "' UCUCUACUCAUGUCUGCA'"
      ]
     },
     "execution_count": 72,
     "metadata": {},
     "output_type": "execute_result"
    }
   ],
   "source": [
    "listaDNA = \"TCTCTACTCATGTCTGCA\"\n",
    "\n",
    "def DNAtoRNA (listaDNA):\n",
    "    i=0\n",
    "    RNA= \" \"\n",
    "    while i<len(listaDNA):\n",
    "        if listaDNA[i]==\"T\":\n",
    "            RNA=RNA+\"U\"\n",
    "        else:\n",
    "            RNA=RNA+listaDNA[i]\n",
    "        i=i+1\n",
    "    return (RNA)\n",
    "\n",
    "DNAtoRNA (listaDNA)\n",
    "\n"
   ]
  },
  {
   "cell_type": "markdown",
   "metadata": {},
   "source": [
    "6. Realizar una función que calcule la Temperatura de Melting de un primer de DNA en grados Celcius. Teniendo en cuenta que; en un oligonucleótido < de 14 nucleótidos, la Tm se calcula multiplicando la cantidad de G+C por 4 y las A+T por 2. Mientras que, si es >= de 14 nt, se debe aplicar la siguiente fórmula (64.9 + 41 * (totalG+C -16.4) / Tamaño sel oligo). <br>\n",
    "Ejemplo: tempmelt(TCTCTACTCATGTCTGCA)<br>\n",
    "Out: 57.2"
   ]
  },
  {
   "cell_type": "code",
   "execution_count": 56,
   "metadata": {},
   "outputs": [
    {
     "data": {
      "text/plain": [
       "45.76666666666668"
      ]
     },
     "execution_count": 56,
     "metadata": {},
     "output_type": "execute_result"
    }
   ],
   "source": [
    "Oligonucleótico = [\"T\",\"C\",\"T\",\"C\",\"T\",\"A\",\"C\",\"T\",\"C\",\"A\",\"T\",\"G\",\"T\",\"C\",\"T\",\"G\",\"C\",\"A\"]\n",
    "\n",
    "def tempDeMelting(Oligonucleótico):\n",
    "    i=0\n",
    "    tamaño=len(Oligonucleótico)\n",
    "    ct=0\n",
    "    ca=0\n",
    "    cc=0\n",
    "    cg=0\n",
    "    while i<len(Oligonucleótico):\n",
    "                if Oligonucleótico[i]==\"T\":\n",
    "                    ct=ct+1\n",
    "                elif Oligonucleótico[i]==\"C\":\n",
    "                    cc=cc+1\n",
    "                elif Oligonucleótico[i]==\"A\":\n",
    "                    ca=ca+1\n",
    "                elif Oligonucleótico[i]==\"G\":\n",
    "                    cg=cg+1\n",
    "                i=i+1\n",
    "    if tamaño<14:\n",
    "        tm=(cg+cc)*4 + (ca+ct)*2\n",
    "    else: \n",
    "        tm=(64.9 + 41 * (cg+cc -16.4) / tamaño)\n",
    "                \n",
    "    return tm\n",
    "\n",
    "tempDeMelting(Oligonucleótico)\n",
    "\n",
    "    \n",
    "            \n"
   ]
  },
  {
   "cell_type": "code",
   "execution_count": 29,
   "metadata": {},
   "outputs": [
    {
     "data": {
      "text/plain": [
       "(0, 0, 0, 0)"
      ]
     },
     "execution_count": 29,
     "metadata": {},
     "output_type": "execute_result"
    }
   ],
   "source": [
    "Oligonucleótico = [\"T\",\"C\",\"T\",\"C\",\"T\",\"A\",\"C\",\"T\",\"C\",\"A\",\"T\",\"G\",\"T\",\"C\",\"T\",\"G\",\"C\",\"A\"]\n",
    "\n",
    "def tempDeMelting(Oligonucleótico):\n",
    "    i=0\n",
    "    tamaño=len(Oligonucleótico)\n",
    "    ct=0\n",
    "    ca=0\n",
    "    cc=0\n",
    "    cg=0\n",
    "    while i<len(Oligonucleótico):\n",
    "            if tamaño<14:\n",
    "                if Oligonucleótico[i]==\"T\":\n",
    "                    ct=ct+1\n",
    "                elif Oligonucleótico[i]==\"C\":\n",
    "                    cc=cc+1\n",
    "                elif Oligonucleótico[i]==\"A\":\n",
    "                    ca=ca+1\n",
    "                elif Oligonucleótico[i]==\"G\":\n",
    "                    cg=cg+1\n",
    "             \n",
    "            i=i+1\n",
    "    return ct,ca,cc,cg\n",
    "\n",
    "tempDeMelting(Oligonucleótico)"
   ]
  },
  {
   "cell_type": "markdown",
   "metadata": {},
   "source": [
    "7. Hallar la distancia Hamming entre dos secuencias de polipéptidos. <br>\n",
    "link: https://es.wikipedia.org/wiki/Distancia_de_Hamming <br>\n",
    "Ejemplo: distancia_Hamming(\"SRSLLLRFLMSRSLLLRFLLFLLLLPPLPLFLLLLPPL\",\"SRSLLLRFLSSRSLLLRFLLFLLLLAALALFLLLLSML\")<br>\n",
    "Out:6"
   ]
  },
  {
   "cell_type": "code",
   "execution_count": 50,
   "metadata": {},
   "outputs": [
    {
     "data": {
      "text/plain": [
       "6"
      ]
     },
     "execution_count": 50,
     "metadata": {},
     "output_type": "execute_result"
    }
   ],
   "source": [
    "Sequ1 = [\"S\",\"R\",\"S\",\"L\",\"L\",\"L\",\"R\",\"F\",\"L\",\"M\",\"S\",\"R\",\"S\",\"L\",\"L\",\"L\",\"R\",\"F\",\"L\",\"L\",\"F\",\"L\",\"L\",\"L\",\"L\",\"P\",\"P\",\"L\",\"P\",\"L\",\"F\",\"L\",\"L\",\"L\",\"L\",\"P\",\"P\",\"L\"]\n",
    "Sequ2 = [\"S\",\"R\",\"S\",\"L\",\"L\",\"L\",\"R\",\"F\",\"L\",\"S\",\"S\",\"R\",\"S\",\"L\",\"L\",\"L\",\"R\",\"F\",\"L\",\"L\",\"F\",\"L\",\"L\",\"L\",\"L\",\"A\",\"A\",\"L\",\"A\",\"L\",\"F\",\"L\",\"L\",\"L\",\"L\",\"S\",\"M\",\"L\"]\n",
    "\n",
    "def distanciaHamming(Sequ1,Sequ2):\n",
    "    i=0\n",
    "    e=0\n",
    "    diferencias=0\n",
    "    tamaño1=len(Sequ1)\n",
    "    tamaño2=len(Sequ1)\n",
    "    while i<tamaño1 and e<tamaño2:\n",
    "        if Sequ1[i]!=Sequ2[e]:\n",
    "            diferencias=diferencias+1\n",
    "        i=i+1\n",
    "        e=e+1\n",
    "    return diferencias\n",
    "\n",
    "distanciaHamming(Sequ1,Sequ2)\n",
    "\n",
    "        \n",
    "            \n",
    "    "
   ]
  },
  {
   "cell_type": "markdown",
   "metadata": {},
   "source": [
    "8. Dada la tabla de codones estandar, hacer una función para traducir una cadena de DNA empezando desde la posición 1 <br>\n",
    "Ejemplo: traducir(\"ATGGCGCGTATGAATAGCAATCCGAGCGCATGCCATGTTTGCCATGCGGCTCTGGCGGTCATTGATGCGTGCAATAACAATACCCGTAATAGCAATATCAATAGCTAA\")<br>\n",
    "Out: Met A R Met N S N P S A C H V C H A A L A V I D A C N N N T R N S N I N S Stop"
   ]
  },
  {
   "cell_type": "code",
   "execution_count": 94,
   "metadata": {},
   "outputs": [
    {
     "data": {
      "text/plain": [
       "' M A R M N S N P S A C H V C H A A L A V I D A C N N N T R N S N I N S STOP '"
      ]
     },
     "execution_count": 94,
     "metadata": {},
     "output_type": "execute_result"
    }
   ],
   "source": [
    "listaaDNA = \"ATGGCGCGTATGAATAGCAATCCGAGCGCATGCCATGTTTGCCATGCGGCTCTGGCGGTCATTGATGCGTGCAATAACAATACCCGTAATAGCAATATCAATAGCTAA\"\n",
    "listaaRNA = \"AUGGCGCGUAUGAAUAGCAAUCCGAGCGCAUGCCAUGUUUGCCAUGCGGCUCUGGCGGUCAUUGAUGCGUGCAAUAACAAUACCCGUAAUAGCAAUAUCAAUAGCUAA\"\n",
    "\n",
    "dicciocodones={\"UUU\":\"F\", \"UUC\":\"F\", \"UUA\":\"L\", \"UUG\":\"L\",\n",
    "    \"UCU\":\"S\", \"UCC\":\"s\", \"UCA\":\"S\", \"UCG\":\"S\",\n",
    "    \"UAU\":\"Y\", \"UAC\":\"Y\", \"UAA\":\"STOP\", \"UAG\":\"STOP\",\n",
    "    \"UGU\":\"C\", \"UGC\":\"C\", \"UGA\":\"STOP\", \"UGG\":\"W\",\n",
    "    \"CUU\":\"L\", \"CUC\":\"L\", \"CUA\":\"L\", \"CUG\":\"L\",\n",
    "    \"CCU\":\"P\", \"CCC\":\"P\", \"CCA\":\"P\", \"CCG\":\"P\",\n",
    "    \"CAU\":\"H\", \"CAC\":\"H\", \"CAA\":\"Q\", \"CAG\":\"Q\",\n",
    "    \"CGU\":\"R\", \"CGC\":\"R\", \"CGA\":\"R\", \"CGG\":\"R\",\n",
    "    \"AUU\":\"I\", \"AUC\":\"I\", \"AUA\":\"I\", \"AUG\":\"M\",\n",
    "    \"ACU\":\"T\", \"ACC\":\"T\", \"ACA\":\"T\", \"ACG\":\"T\",\n",
    "    \"AAU\":\"N\", \"AAC\":\"N\", \"AAA\":\"K\", \"AAG\":\"K\",\n",
    "    \"AGU\":\"S\", \"AGC\":\"S\", \"AGA\":\"R\", \"AGG\":\"R\",\n",
    "    \"GUU\":\"V\", \"GUC\":\"V\", \"GUA\":\"V\", \"GUG\":\"V\",\n",
    "    \"GCU\":\"A\", \"GCC\":\"A\", \"GCA\":\"A\", \"GCG\":\"A\",\n",
    "    \"GAU\":\"D\", \"GAC\":\"D\", \"GAA\":\"E\", \"GAG\":\"E\",\n",
    "    \"GGU\":\"G\", \"GGC\":\"G\", \"GGA\":\"G\", \"GGG\":\"G\",}\n",
    "\n",
    "def traducDNA(listaaDNA):\n",
    "    i=0\n",
    "    polipeptido=\" \"\n",
    "    while i<len(listaaDNA)-2:\n",
    "        aminoacido=dicciocodones[listaaDNA[i:i+3]]\n",
    "        polipeptido=polipeptido+aminoacido + \" \"\n",
    "        i=i+3\n",
    "\n",
    "    return polipeptido\n",
    "\n",
    "\n",
    "traducDNA(listaaRNA)\n",
    "\n",
    "    "
   ]
  },
  {
   "cell_type": "markdown",
   "metadata": {},
   "source": [
    "#### 9. Usando la función anterior, traducir en los 6 frames una cadena de DNA dada.\n",
    "Ejemplo: traducirALL(\"ATGGCGCGTATGAATAGCAATCCGAGCGCATGCCATGTTTGCCATGCGGCTCTGGCGGTCATTGATGCGTGCAATAACAATACCCGTAATAGCAATATCAATAGCTAA\")<br>\n",
    "Out: (1:Met A R Met N S N P S A C H V C H A A L A V I D A C N N N T R N S N I N S Stop, 2:W R V Stop I A I R A H A Met F A Met R L W R S L Met R A I T I P V I A I S I A, 3:G A Y E Stop Q S E R Met P C L P C G S G G H Stop C V Q Stop Q Y P Stop Stop Q Y Q Stop L, 4:L A I D I A I T G I V I A R I N D R Q S R Met A N Met A C A R I A I H T R H, 5:Stop L L I L L L R V L L L H A S Met T A R A A W Q T W H A L G L L F I R A, 6:S Y Stop Y C Y Y G Y C Y C T H Q Stop P P E P H G K H G Met R S D C Y S Y A P)"
   ]
  },
  {
   "cell_type": "code",
   "execution_count": null,
   "metadata": {},
   "outputs": [],
   "source": []
  },
  {
   "cell_type": "markdown",
   "metadata": {},
   "source": [
    "10. Un investigador realizó un experiemento donde trató células cancerígeneas con un antimitótico y luego de un tiempo cuantificó la expresión de varios oncogenes usando RNAseq. (Figura adjunta).<br>\n",
    "![texte](image.png)\n",
    "En la imagen se muestra en la primera columna los IDs de los oncogenes. Las tres columnas siguientes (Son réplicas del tratamiento control con células no tratadas, Exp1, Exp2 y Exp3). Las tres últimas columnas son las tres réplicas del tratamiento con el antimitótico. <br>\n",
    "a. Utilizando la librería numpy, creár una matríz y cargar los datos de la tabla e imprimirla. <br>\n",
    "b. Realizar una función que promedie, usando las tres réplicas, la expresión de cada gen por tratamiento. <br>\n",
    "c. Realizar una función donde a partir de los promedio de cada gen, compare el tratamiento versus el control y si la relación es < 0.5 ó > 1.5 retornar el ID del gen expresado diferencialmente."
   ]
  },
  {
   "cell_type": "code",
   "execution_count": null,
   "metadata": {},
   "outputs": [],
   "source": []
  }
 ],
 "metadata": {
  "kernelspec": {
   "display_name": "Python 3",
   "language": "python",
   "name": "python3"
  },
  "language_info": {
   "codemirror_mode": {
    "name": "ipython",
    "version": 3
   },
   "file_extension": ".py",
   "mimetype": "text/x-python",
   "name": "python",
   "nbconvert_exporter": "python",
   "pygments_lexer": "ipython3",
   "version": "3.6.5"
  }
 },
 "nbformat": 4,
 "nbformat_minor": 2
}
