{
 "cells": [
  {
   "cell_type": "markdown",
   "metadata": {},
   "source": [
    "# Taller 2 - Python \n",
    "# Fundamentos en Biología Computacional\n",
    "# 2018-2, Prof. Javier Correa    "
   ]
  },
  {
   "cell_type": "markdown",
   "metadata": {},
   "source": [
    "### Punto 1\n",
    "#### Realice un función para expresar cualquier número entero en su conotación factorial. \n",
    "#### Ejemplo: factorial(4)\n",
    "#### Out: 24\n"
   ]
  },
  {
   "cell_type": "code",
   "execution_count": 23,
   "metadata": {},
   "outputs": [
    {
     "data": {
      "text/plain": [
       "720"
      ]
     },
     "execution_count": 23,
     "metadata": {},
     "output_type": "execute_result"
    }
   ],
   "source": [
    "def factorial(x):\n",
    "    prod= 1\n",
    "    i= 1\n",
    "    while i<= x:\n",
    "        prod= prod*i\n",
    "        i= i+1\n",
    "    return prod\n",
    "factorial(6)\n",
    "    \n",
    "    \n",
    "    "
   ]
  },
  {
   "cell_type": "markdown",
   "metadata": {},
   "source": [
    "**Punto 2**"
   ]
  },
  {
   "cell_type": "code",
   "execution_count": 8,
   "metadata": {},
   "outputs": [
    {
     "data": {
      "text/plain": [
       "27"
      ]
     },
     "execution_count": 8,
     "metadata": {},
     "output_type": "execute_result"
    }
   ],
   "source": [
    "def potencia(x,y):\n",
    "    base= x\n",
    "    exp= y\n",
    "    pot= x**y\n",
    "    return pot\n",
    "potencia (3,3)\n"
   ]
  },
  {
   "cell_type": "markdown",
   "metadata": {},
   "source": [
    "**Punto 3**"
   ]
  },
  {
   "cell_type": "code",
   "execution_count": 11,
   "metadata": {},
   "outputs": [
    {
     "data": {
      "text/plain": [
       "-0.9589242746631386"
      ]
     },
     "execution_count": 11,
     "metadata": {},
     "output_type": "execute_result"
    }
   ],
   "source": [
    "def seno(x, order):\n",
    "    a = x\n",
    "    m = a\n",
    "    for i in range(1, order):\n",
    "        a *= -1 * potencia(x,2) / ((2 * i) * (2 * i + 1))\n",
    "        m += a\n",
    "    return m\n",
    "\n",
    "seno(5,20)"
   ]
  },
  {
   "cell_type": "markdown",
   "metadata": {},
   "source": [
    "**Punto 4**"
   ]
  },
  {
   "cell_type": "code",
   "execution_count": 13,
   "metadata": {},
   "outputs": [
    {
     "data": {
      "text/plain": [
       "0.48"
      ]
     },
     "execution_count": 13,
     "metadata": {},
     "output_type": "execute_result"
    }
   ],
   "source": [
    "def Genot(Geno1,Geno2,Geno3):\n",
    "    AA= Geno1 \n",
    "    AB= Geno2\n",
    "    BB= Geno3 \n",
    "    Totalp= AA+AB+BB\n",
    "    FAA= (AA/Totalp)\n",
    "    FAB= (AB/Totalp)\n",
    "    FBB= (BB/Totalp)\n",
    "    FrecaleAA= FAA*FAA + ((2*FAA*FBB)/2)  \n",
    "    return FrecaleAA\n",
    "    \n",
    "Genot(12,4,4)\n"
   ]
  },
  {
   "cell_type": "markdown",
   "metadata": {},
   "source": [
    "**Punto 5**"
   ]
  },
  {
   "cell_type": "code",
   "execution_count": 17,
   "metadata": {},
   "outputs": [
    {
     "name": "stdout",
     "output_type": "stream",
     "text": [
      "AUUCUAGCUACCUGAGUCGA\n"
     ]
    }
   ],
   "source": [
    "SecDNA= \"ATTCTAGCTACCTGAGTCGA\"\n",
    "TranscribeaRNA= SecDNA.replace(\"T\",\"U\")\n",
    "print(TranscribeaRNA)"
   ]
  },
  {
   "cell_type": "code",
   "execution_count": 18,
   "metadata": {},
   "outputs": [
    {
     "name": "stdout",
     "output_type": "stream",
     "text": [
      "UCUCUACUCAUGUCUGCA\n"
     ]
    }
   ],
   "source": [
    "SecDNA= \"TCTCTACTCATGTCTGCA\"\n",
    "TranscribeaRNA= SecDNA.replace(\"T\",\"U\")\n",
    "print(TranscribeaRNA)"
   ]
  },
  {
   "cell_type": "markdown",
   "metadata": {},
   "source": [
    "**Punto 6**"
   ]
  },
  {
   "cell_type": "code",
   "execution_count": null,
   "metadata": {},
   "outputs": [],
   "source": []
  },
  {
   "cell_type": "code",
   "execution_count": 6,
   "metadata": {},
   "outputs": [
    {
     "data": {
      "text/plain": [
       "45.76666666666668"
      ]
     },
     "execution_count": 6,
     "metadata": {},
     "output_type": "execute_result"
    }
   ],
   "source": [
    "def MeltingTemperature(DNAsec):\n",
    "    Seq=DNAsec\n",
    "    LongSeq=len(Seq)\n",
    "    ContG=0\n",
    "    ContA=0\n",
    "    ContT=0\n",
    "    ContC=0\n",
    "    for i in Seq:\n",
    "        if i=='G':\n",
    "            ContG += 1.0\n",
    "        if i=='A':\n",
    "            ContA += 1.0\n",
    "        if i=='T':\n",
    "            ContT += 1.0\n",
    "        if i=='C':\n",
    "            ContC +=1.0\n",
    "    if len(Seq) <= 14.0:\n",
    "        Tm=((ContA+ContT)*2.0)+((ContG+ContC)*4.0)\n",
    "    else:\n",
    "        Tm=(64.9 + 41.0 * (ContG+ContC-16.4) / LongSeq)\n",
    "\n",
    "    return Tm\n",
    "MeltingTemperature(\"TCTCTACTCATGTCTGCA\")"
   ]
  },
  {
   "cell_type": "markdown",
   "metadata": {},
   "source": [
    "**Punto 7**"
   ]
  },
  {
   "cell_type": "code",
   "execution_count": 81,
   "metadata": {},
   "outputs": [
    {
     "name": "stdout",
     "output_type": "stream",
     "text": [
      "6\n"
     ]
    }
   ],
   "source": [
    "def Distancia_Hamming(sec1,sec2):  #defino la función\n",
    "    distancia = 0 # Supongo que la distancia al inicio es cero \n",
    "    Long= len(sec1) # la longitud de ambas es iguales\n",
    "    for i in range (Long):  #con range puedo recorrer los valores desde el inicio a fin de la variable, en este caso la longitud de la secuencia\n",
    "        if sec1[i] != sec2[i]: \n",
    "            distancia= distancia + 1 #si se encuentra una diferencia en la secuencia se le suma 1 a la distancia\n",
    "    return (distancia)\n",
    "\n",
    "print(Distancia_Hamming(\"SRSLLLRFLMSRSLLLRFLLFLLLLPPLPLFLLLLPPL\",\"SRSLLLRFLSSRSLLLRFLLFLLLLAALALFLLLLSML\"))"
   ]
  },
  {
   "cell_type": "code",
   "execution_count": 80,
   "metadata": {},
   "outputs": [
    {
     "name": "stdout",
     "output_type": "stream",
     "text": [
      "9\n"
     ]
    }
   ],
   "source": [
    "def Distancia_Hamming(sec1,sec2): #defino la función.... Ahora con DNA\n",
    "    distancia = 0 # Supongo que la distancia al inicio es cero \n",
    "    L= len(sec1)  # la longitud de ambas es iguales\n",
    "    for i in range (L): #con range puedo recorrer los valores desde el inicio a fin de la variable, en este caso la longitud de la secuencia \n",
    "        if sec1[i] != sec2[i]: \n",
    "            distancia= distancia + 1 #si se encuentra una diferencia en la secuencia se le suma 1 a la distancia\n",
    "    return (distancia)\n",
    "\n",
    "print(Distancia_Hamming(\"TTACTGGAATCAGCTGTGGGTGCTACGTGCAC\",\"ATCCTGCAATTAGCTGTGCGTCCTACGTGGTT\"))"
   ]
  },
  {
   "cell_type": "markdown",
   "metadata": {},
   "source": [
    "**Punto 8** /n\n",
    "Dada la tabla de codones estandar, hacer una función para traducir una cadena de DNA empezando desde la posición 1 \n",
    "Ejemplo: traducir(\"ATGGCGCGTATGAATAGCAATCCGAGCGCATGCCATGTTTGCCATGCGGCTCTGGCGGTCATTGATGCGTGCAATAACAATACCCGTAATAGCAATATCAATAGCTAA\")\n",
    "Out: Met A R Met N S N P S A C H V C H A A L A V I D A C N N N T R N S N I N S Stop"
   ]
  },
  {
   "cell_type": "code",
   "execution_count": 31,
   "metadata": {},
   "outputs": [
    {
     "data": {
      "text/plain": [
       "'MARMNSNPSACHVCHAALAVIDACNNNTRNSNINSStop'"
      ]
     },
     "execution_count": 31,
     "metadata": {},
     "output_type": "execute_result"
    }
   ],
   "source": [
    "def Traducir(RNA):\n",
    "     \n",
    "    CodigoGenetico = {\n",
    "        \n",
    "        'AAC':'N', 'AAT':'N', 'AAA':'K', 'AAG':'K',\n",
    "        'AGC':'S', 'AGT':'S', 'AGA':'R', 'AGG':'R',\n",
    "        'ATA':'I', 'ATC':'I', 'ATT':'I', 'ATG':'M',\n",
    "        'ACA':'T', 'ACC':'T', 'ACG':'T', 'ACT':'T',                 \n",
    "        'CTA':'L', 'CTC':'L', 'CTG':'L', 'CTT':'L',\n",
    "        'CCA':'P', 'CCC':'P', 'CCG':'P', 'CCT':'P',\n",
    "        'CAC':'H', 'CAT':'H', 'CAA':'Q', 'CAG':'Q',\n",
    "        'CGA':'R', 'CGC':'R', 'CGG':'R', 'CGT':'R',\n",
    "        'GAC':'D', 'GAT':'D', 'GAA':'E', 'GAG':'E',\n",
    "        'GTA':'V', 'GTC':'V', 'GTG':'V', 'GTT':'V',\n",
    "        'GCA':'A', 'GCC':'A', 'GCG':'A', 'GCT':'A',\n",
    "        'GGA':'G', 'GGC':'G', 'GGG':'G', 'GGT':'G',\n",
    "        'TCA':'S', 'TCC':'S', 'TCG':'S', 'TCT':'S',\n",
    "        'TTC':'F', 'TTT':'F', 'TTA':'L', 'TTG':'L',\n",
    "        'TAC':'Y', 'TAT':'Y', 'TAA':'', 'TGC':'C', \n",
    "        'TGT':'C', 'TGA':'Stop','TGG':'W', \n",
    "        'TAG': 'Stop', 'TAA':'Stop'\n",
    "    }\n",
    "    proteinSeq =\"\"\n",
    "    if len(RNA)%3 == 0:\n",
    "        for i in range(0, len(RNA), 3):\n",
    "            codon = RNA[i:i + 3]\n",
    "            proteinSeq+= CodigoGenetico[codon]\n",
    "    return proteinSeq\n",
    "Traducir(\"ATGGCGCGTATGAATAGCAATCCGAGCGCATGCCATGTTTGCCATGCGGCTCTGGCGGTCATTGATGCGTGCAATAACAATACCCGTAATAGCAATATCAATAGCTAA\")"
   ]
  },
  {
   "cell_type": "code",
   "execution_count": null,
   "metadata": {},
   "outputs": [],
   "source": []
  },
  {
   "cell_type": "code",
   "execution_count": null,
   "metadata": {},
   "outputs": [],
   "source": []
  }
 ],
 "metadata": {
  "kernelspec": {
   "display_name": "Python 3",
   "language": "python",
   "name": "python3"
  },
  "language_info": {
   "codemirror_mode": {
    "name": "ipython",
    "version": 3
   },
   "file_extension": ".py",
   "mimetype": "text/x-python",
   "name": "python",
   "nbconvert_exporter": "python",
   "pygments_lexer": "ipython3",
   "version": "3.6.4"
  }
 },
 "nbformat": 4,
 "nbformat_minor": 2
}
