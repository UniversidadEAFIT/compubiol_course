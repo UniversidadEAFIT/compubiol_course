{
 "cells": [
  {
   "cell_type": "markdown",
   "id": "44dd24ea",
   "metadata": {},
   "source": [
    "# __Linux__\n",
    "\n",
    "Podemos clasificar las utilidades por consola de linux acorde a su función, y analizarlas de forma sistematica. Aprovecharemos las capacidades de ejecución de notebooks de bash para ilustrar los comandos, pero debe tenerse en cuenta que la linea inicial de cada bloque %%bash no esta asociada con su ejecución en una consola linux al igual que el uso de ! al inicio de linea. Ambos casos son la forma de indicarle al notebook que debe ejecutar en modo bash en la consola linux.\n",
    "Comentarios y escritura en consola\n",
    "Podemos imprimir mensajes en la consola (e incluso a archivos) con ayuda de echo y printf, teniendo mayor control este último.\n",
    "La indicación de comentarios en bash (texto que no posee efecto en ejecución) se logra indicando el simbolo # a partir de la parte de la linea que se desee interpretar como un comentario.\n",
    "\n",
    "[Para conocer más sobre edición en Jupyter](https://github.com/adam-p/markdown-here/wiki/Markdown-Cheatsheet)"
   ]
  },
  {
   "cell_type": "code",
   "execution_count": 3,
   "id": "fa10e73e",
   "metadata": {},
   "outputs": [
    {
     "name": "stdout",
     "output_type": "stream",
     "text": [
      "Hello world!\n"
     ]
    }
   ],
   "source": [
    "%%bash\n",
    "echo \"Hello world!\" # Hola Mundo Bash"
   ]
  },
  {
   "cell_type": "markdown",
   "id": "f606d311",
   "metadata": {},
   "source": [
    "## Scripting in Bash"
   ]
  },
  {
   "cell_type": "code",
   "execution_count": null,
   "id": "ce71b9de",
   "metadata": {},
   "outputs": [],
   "source": [
    "#! /bin/bash\n",
    "echo \"echo hola\" > ejecutar_prueba.sh # Creamos un archivo para ejecución\n",
    "echo \"Propiedades del archivo\"\n",
    "ls -oh *sh # Validamos permisos de ejecución. Por defecto los permisos son solo lectura.\n",
    "echo \"Se ejecuta el archivo\"\n",
    "./ejecutar_prueba.sh # Ejecutamos y se genera error de permisos.\n",
    "echo \"Se puede obviar el error por parte del propietario mediante sh (bash/dash/zsh/..)\"\n",
    "bash ejecutar_prueba.sh\n",
    "echo \"Se cambian permisos y ejecuta nuevamente\"\n",
    "chmod 755 ejecutar_prueba.sh # Se otorga permiso de ejecución\n",
    "./ejecutar_prueba.sh # Al ejecutar nuevamente se genera la salida esperada\n",
    "rm ./ejecutar_prueba.sh"
   ]
  },
  {
   "cell_type": "code",
   "execution_count": 4,
   "id": "1fcb8d53",
   "metadata": {},
   "outputs": [
    {
     "name": "stdout",
     "output_type": "stream",
     "text": [
      "total 16\n",
      "drwxr-xr-x  4 oficina_prof_Javier  staff   128 Feb  7 13:47 .\n",
      "drwxr-xr-x  9 oficina_prof_Javier  staff   288 Jan 24 11:21 ..\n",
      "drwxr-xr-x  3 oficina_prof_Javier  staff    96 Feb  7 13:47 .ipynb_checkpoints\n",
      "-rw-r--r--  1 oficina_prof_Javier  staff  4461 Feb  7 13:47 LinuxII_Ejercicios.ipynb\n",
      "Arriba están los directorios de este folder\n",
      "/Users/oficina_prof_Javier/Downloads/github_folders/compubiol_course/20221/LinuxII\n",
      "Hoy es:\n",
      "Tue Feb  7 13:48:50 -05 2023\n"
     ]
    }
   ],
   "source": [
    "%%bash\n",
    "ls -la\n",
    "echo \"Arriba están los directorios de este folder\"\n",
    "pwd\n",
    "echo \"Hoy es:\"\n",
    "date"
   ]
  },
  {
   "cell_type": "markdown",
   "id": "4b3c4049",
   "metadata": {},
   "source": [
    "## Turning a text file into software"
   ]
  },
  {
   "cell_type": "markdown",
   "id": "7be86ed0",
   "metadata": {},
   "source": [
    "## _Permisos_ (chmod)\n",
    "Los permisos permiten no solo el acceso a los archivos por parte de los usuarios, sino la posibilidad de restringir el tipo de operaciones sobre los archivos.\n",
    "\n",
    "|Permiso|\tValor|\tLetra|\n",
    "|---:|:---:|:---:\n",
    "|Lectura|\t4|\tr|\n",
    "|Escritura|\t2|\tw|\n",
    "|Ejecución|\t1|\tx|\n",
    "\n",
    "\n",
    "Los permisos se pueden habilitar mediante + seguido de la letra asociada al permiso y el nombre del archivo, o mediante la indicación de la suma de valores de los permisos y en orden acorde a usuario propietario, usuarios del grupo y resto de usuarios."
   ]
  },
  {
   "cell_type": "markdown",
   "id": "cd4d4dd5",
   "metadata": {},
   "source": [
    "# Comandos básicos Linux II"
   ]
  },
  {
   "cell_type": "markdown",
   "id": "f027c680",
   "metadata": {},
   "source": [
    "The 4 magic words\n",
    "\n",
    "There are 4 special words in the syntax of a For Loop in Unix languages: for, in, do, and done.\n",
    "\n",
    "\n",
    "| Magic word | Purpose |\n",
    "| :--- | :--- |\n",
    "| for | set the loop variable name |\n",
    "| in | specify whatever it is we are looping over|\n",
    "| do | specify what we want to do with each item|\n",
    "| done | tell the computer we are done telling it what to do with each item|\n"
   ]
  },
  {
   "cell_type": "code",
   "execution_count": 3,
   "id": "8e93b93f",
   "metadata": {},
   "outputs": [],
   "source": [
    "%%bash\n",
    "echo \"DNA\" > words.txt"
   ]
  },
  {
   "cell_type": "code",
   "execution_count": 5,
   "id": "ba2e4a5f",
   "metadata": {},
   "outputs": [],
   "source": [
    "%%bash\n",
    "echo \"RNA\" >> words.txt"
   ]
  },
  {
   "cell_type": "code",
   "execution_count": 7,
   "id": "07a0abdb",
   "metadata": {},
   "outputs": [],
   "source": [
    "%%bash\n",
    "echo \"PROTEINS\" >> words.txt\n",
    "echo \"LIPIDS\" >> words.txt"
   ]
  },
  {
   "cell_type": "code",
   "execution_count": 9,
   "id": "62acfa13",
   "metadata": {},
   "outputs": [
    {
     "name": "stdout",
     "output_type": "stream",
     "text": [
      "DNA\n",
      "RNA\n",
      "PROTEINS\n",
      "LIPIDS\n"
     ]
    }
   ],
   "source": [
    "%%bash\n",
    "for item in $(cat words.txt)\n",
    "do\n",
    "  echo $item\n",
    "done"
   ]
  },
  {
   "cell_type": "code",
   "execution_count": 5,
   "id": "b45ee4c6",
   "metadata": {},
   "outputs": [
    {
     "name": "stdout",
     "output_type": "stream",
     "text": [
      "Vamos a multiplicar por: 9\n",
      "9*1 = 9\n",
      "9*2 = 18\n",
      "9*3 = 27\n",
      "9*4 = 36\n",
      "9*5 = 45\n",
      "9*6 = 54\n",
      "9*7 = 63\n",
      "9*8 = 72\n",
      "9*9 = 81\n",
      "9*10 = 90\n"
     ]
    }
   ],
   "source": [
    "%%bash\n",
    "num=9\n",
    "echo \"Vamos a multiplicar por:\" $num\n",
    "for i in `seq 1 10`; do\n",
    "    echo $num*$i = $(($num*$i))\n",
    "done"
   ]
  },
  {
   "cell_type": "code",
   "execution_count": 6,
   "id": "a13a4b36",
   "metadata": {},
   "outputs": [
    {
     "name": "stdout",
     "output_type": "stream",
     "text": [
      "expression evaluated as true\n"
     ]
    }
   ],
   "source": [
    "%%bash\n",
    "T1=\"bioinfo\"\n",
    "T2=\"bioinfo\"\n",
    "if [ \"$T1\" = \"$T2\" ]; then\n",
    "    echo expression evaluated as true\n",
    "else\n",
    "    echo expression evaluated as false\n",
    "fi"
   ]
  },
  {
   "cell_type": "markdown",
   "id": "9d349651",
   "metadata": {},
   "source": [
    "## Ejercicio para casa"
   ]
  },
  {
   "cell_type": "markdown",
   "id": "0eb9ab3b",
   "metadata": {},
   "source": [
    "1. Crea una nueva carpeta que se llame biocomp y dentro de esta una que se llame Ejercicios_linux\n",
    "2. Crear un nuevo archivo de texto llamado \"Task1_yourname.sh\"\n",
    "3. Editar el archivo y adicionar la siguiente información en la primera línea\n",
    "#!/bin/bash\n",
    "#fecha/autor \n",
    "4. Adicione las líneas necesarias para calcular el tamaño de nucleótidos de una secuencia fasta dada.\n",
    "5. Cambie los permisos del archivo para volverlo ejecutable\n",
    "6. Ejecute el script ./Task1_yourname.sh secuencia.fasta\n",
    "7. Ejecute el comando: cat Task1_yourname.sh > reporte.txt\n",
    "8. Ejecute el comando: history >> reporte.txt\n",
    "9. Suba por la asignación de tarea de Teams el archivo reporte.txt"
   ]
  },
  {
   "cell_type": "markdown",
   "id": "a67a5108",
   "metadata": {},
   "source": [
    "Comandos que debe haber usado:\n",
    "mkdir\n",
    "cd\n",
    "vi/vim/nano\n",
    "chmod\n",
    "for\n",
    "wc\n"
   ]
  }
 ],
 "metadata": {
  "kernelspec": {
   "display_name": "Python 3",
   "language": "python",
   "name": "python3"
  },
  "language_info": {
   "codemirror_mode": {
    "name": "ipython",
    "version": 3
   },
   "file_extension": ".py",
   "mimetype": "text/x-python",
   "name": "python",
   "nbconvert_exporter": "python",
   "pygments_lexer": "ipython3",
   "version": "3.8.8"
  }
 },
 "nbformat": 4,
 "nbformat_minor": 5
}
