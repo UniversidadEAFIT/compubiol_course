{
 "cells": [
  {
   "cell_type": "markdown",
   "id": "7f6772bf",
   "metadata": {},
   "source": [
    "# Blasting\n",
    "\n",
    "## ¿cómo hacer una blast local?\n",
    "\n",
    "## Ejercicio práctico"
   ]
  },
  {
   "cell_type": "markdown",
   "id": "0e4fe822",
   "metadata": {},
   "source": [
    "0. Si están en Apolo cargar el modulo de Miniconda"
   ]
  },
  {
   "cell_type": "code",
   "execution_count": null,
   "id": "0416c14c",
   "metadata": {},
   "outputs": [],
   "source": [
    "%%bash\n",
    "module load miniconda3-4.10.3-gcc-11.2.0-vcglj27"
   ]
  },
  {
   "cell_type": "markdown",
   "id": "6e411776",
   "metadata": {},
   "source": [
    "1. Habilitar el ambiente conda y crear un ambiente llamado miblast"
   ]
  },
  {
   "cell_type": "code",
   "execution_count": 1,
   "id": "a4e63c32",
   "metadata": {},
   "outputs": [
    {
     "name": "stdout",
     "output_type": "stream",
     "text": [
      "Collecting package metadata (current_repodata.json): ...working... done\n",
      "Solving environment: ...working... done\n",
      "\n",
      "## Package Plan ##\n",
      "\n",
      "  environment location: /Users/oficina_prof_Javier/opt/anaconda3/envs/Localblast\n",
      "\n",
      "\n",
      "\n",
      "Proceed ([y]/n)? \n",
      "Preparing transaction: ...working... done\n",
      "Verifying transaction: ...working... done\n",
      "Executing transaction: ...working... done\n",
      "#\n",
      "# To activate this environment, use\n",
      "#\n",
      "#     $ conda activate Localblast\n",
      "#\n",
      "# To deactivate an active environment, use\n",
      "#\n",
      "#     $ conda deactivate\n",
      "\n"
     ]
    }
   ],
   "source": [
    "%%bash\n",
    "conda create --name Localblast"
   ]
  },
  {
   "cell_type": "markdown",
   "id": "5cc13563",
   "metadata": {},
   "source": [
    "2. Listar los paquetes creados"
   ]
  },
  {
   "cell_type": "code",
   "execution_count": 2,
   "id": "eb10d832",
   "metadata": {},
   "outputs": [
    {
     "name": "stdout",
     "output_type": "stream",
     "text": [
      "# conda environments:\n",
      "#\n",
      "base                  *  /Users/oficina_prof_Javier/opt/anaconda3\n",
      "Localblast               /Users/oficina_prof_Javier/opt/anaconda3/envs/Localblast\n",
      "\n"
     ]
    }
   ],
   "source": [
    "%%bash\n",
    "conda env list"
   ]
  },
  {
   "cell_type": "markdown",
   "id": "3d5b25a6",
   "metadata": {},
   "source": [
    "3. Activar el ambiente creado"
   ]
  },
  {
   "cell_type": "code",
   "execution_count": null,
   "id": "3a244593",
   "metadata": {},
   "outputs": [],
   "source": [
    "%%bash\n",
    "conda activate Localblast"
   ]
  },
  {
   "cell_type": "markdown",
   "id": "4faedccc",
   "metadata": {},
   "source": [
    "4. Instalar blast local desde repositorio de conda https://anaconda.org/bioconda/blast"
   ]
  },
  {
   "cell_type": "markdown",
   "id": "c0afb7d4",
   "metadata": {},
   "source": [
    "5. Ejercicio en clase:\n",
    "\n",
    "Un investigador desea localizar el número de copias del gen de la beta-tubulina de un nuevo hongo Basidiomycete.\n",
    "Para ello, cuenta con un genoma drfat ensamblado del nuevo hongo (https://www.ncbi.nlm.nih.gov/assembly/GCA_001466705.1/) y una secuencia referencia de un hongo cercano (Amanita muscaria strain GAL4302 beta-tubulin gene, partial cds GenBank: DQ060923.1).\n",
    "\n",
    "a. Descarge las secuencias fasta en su carpeta de trabajo.\n",
    "\n",
    "b. En un Slurm relice un Blast local de nuecleótidos contra el genoma del nuevo hongo usando la secuencia referencia del gen de interés.\n",
    "\n",
    "c. Genere un archivo de salida en formato de lista.\n",
    "\n",
    "d. Usando comandos de bash o alguna función creada en python, filtre los hits por valor de identidad mayor a 90%.\n",
    "\n",
    "c. ¿Cuantos genes parálogos hay en el genoma? cumplirán la misma función? con cual trabajaría para hacer filogenética? ¿cómo extraer las secuencias de estos genes?.\n",
    "\n",
    "d. Adjunte \n",
    "\n"
   ]
  },
  {
   "cell_type": "code",
   "execution_count": null,
   "id": "fd900658",
   "metadata": {},
   "outputs": [],
   "source": []
  }
 ],
 "metadata": {
  "kernelspec": {
   "display_name": "Python 3",
   "language": "python",
   "name": "python3"
  },
  "language_info": {
   "codemirror_mode": {
    "name": "ipython",
    "version": 3
   },
   "file_extension": ".py",
   "mimetype": "text/x-python",
   "name": "python",
   "nbconvert_exporter": "python",
   "pygments_lexer": "ipython3",
   "version": "3.8.8"
  }
 },
 "nbformat": 4,
 "nbformat_minor": 5
}
