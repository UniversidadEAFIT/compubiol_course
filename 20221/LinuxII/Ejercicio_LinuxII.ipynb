{
 "cells": [
  {
   "cell_type": "markdown",
   "id": "cd4d4dd5",
   "metadata": {},
   "source": [
    "# Comandos básicos Linux II"
   ]
  },
  {
   "cell_type": "markdown",
   "id": "f027c680",
   "metadata": {},
   "source": [
    "The 4 magic words\n",
    "\n",
    "There are 4 special words in the syntax of a For Loop in Unix languages: for, in, do, and done.\n",
    "\n",
    "\n",
    "| Magic word | Purpose |\n",
    "| :--- | :--- |\n",
    "| for | set the loop variable name |\n",
    "| in | specify whatever it is we are looping over|\n",
    "| do | specify what we want to do with each item|\n",
    "| done | tell the computer we are done telling it what to do with each item|\n"
   ]
  },
  {
   "cell_type": "code",
   "execution_count": 3,
   "id": "8e93b93f",
   "metadata": {},
   "outputs": [],
   "source": [
    "%%bash\n",
    "echo \"DNA\" > words.txt"
   ]
  },
  {
   "cell_type": "code",
   "execution_count": 5,
   "id": "ba2e4a5f",
   "metadata": {},
   "outputs": [],
   "source": [
    "%%bash\n",
    "echo \"RNA\" >> words.txt"
   ]
  },
  {
   "cell_type": "code",
   "execution_count": 7,
   "id": "07a0abdb",
   "metadata": {},
   "outputs": [],
   "source": [
    "%%bash\n",
    "echo \"PROTEINS\" >> words.txt\n",
    "echo \"LIPIDS\" >> words.txt"
   ]
  },
  {
   "cell_type": "code",
   "execution_count": 9,
   "id": "62acfa13",
   "metadata": {},
   "outputs": [
    {
     "name": "stdout",
     "output_type": "stream",
     "text": [
      "DNA\n",
      "RNA\n",
      "PROTEINS\n",
      "LIPIDS\n"
     ]
    }
   ],
   "source": [
    "%%bash\n",
    "for item in $(cat words.txt)\n",
    "do\n",
    "  echo $item\n",
    "done"
   ]
  },
  {
   "cell_type": "markdown",
   "id": "9d349651",
   "metadata": {},
   "source": [
    "## Ejercicio para casa"
   ]
  },
  {
   "cell_type": "markdown",
   "id": "0eb9ab3b",
   "metadata": {},
   "source": [
    "1. Crea una nueva carpeta que se llame biocomp y dentro de esta una que se llame Ejercicios_linux\n",
    "2. Crear un nuevo archivo de texto llamado \"Task1_yourname.sh\"\n",
    "3. Editar el archivo y adicionar la siguiente información en la primera línea\n",
    "#!/bin/bash\n",
    "#fecha/autor \n",
    "4. Adicione las líneas necesarias para calcular el tamaño de nucleótidos de una secuencia fasta dada.\n",
    "5. Cambie los permisos del archivo para volverlo ejecutable\n",
    "6. Ejecute el script ./Task1_yourname.sh secuencia.fasta\n",
    "7. Ejecute el comando: cat Task1_yourname.sh > reporte.txt\n",
    "8. Ejecute el comando: history >> reporte.txt\n",
    "9. Suba por la asignación de tarea de Teams el archivo reporte.txt"
   ]
  },
  {
   "cell_type": "markdown",
   "id": "a67a5108",
   "metadata": {},
   "source": [
    "Comandos que debe haber usado:\n",
    "mkdir\n",
    "cd\n",
    "vi/vim/nano\n",
    "chmod\n",
    "for\n",
    "wc\n"
   ]
  }
 ],
 "metadata": {
  "kernelspec": {
   "display_name": "Python 3",
   "language": "python",
   "name": "python3"
  },
  "language_info": {
   "codemirror_mode": {
    "name": "ipython",
    "version": 3
   },
   "file_extension": ".py",
   "mimetype": "text/x-python",
   "name": "python",
   "nbconvert_exporter": "python",
   "pygments_lexer": "ipython3",
   "version": "3.8.8"
  }
 },
 "nbformat": 4,
 "nbformat_minor": 5
}
