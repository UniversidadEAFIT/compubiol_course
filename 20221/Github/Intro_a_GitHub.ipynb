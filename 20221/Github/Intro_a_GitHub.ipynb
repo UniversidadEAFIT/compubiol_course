{
 "cells": [
  {
   "cell_type": "markdown",
   "id": "78eebafe",
   "metadata": {},
   "source": [
    "# Introducción a GitHub\n",
    "Por: Javier C Alvarez\n",
    "\n",
    "Github es una plataforma de desarrollo de código donde podemos albergar y revisar código, gerenciar proyectos y construir software en general. GitHub a la fecha tiene más de 75 millones de proyectos incluyendo paquetes como pandas y muchos otros que cotidianamente usamos en bioinformática."
   ]
  },
  {
   "cell_type": "markdown",
   "id": "e63349ee",
   "metadata": {},
   "source": [
    "![git](git_logo.png)\n",
    "![tutorial](git_tutorial.png)"
   ]
  },
  {
   "cell_type": "markdown",
   "id": "ab9560a3",
   "metadata": {},
   "source": [
    "## Compartiendo archivos en GitHub desde el explorador web"
   ]
  },
  {
   "cell_type": "markdown",
   "id": "ecb8275d",
   "metadata": {},
   "source": [
    "1. Accediendo a [GitHub Homepage](https://github.com)\n",
    "\n",
    "Para usar GitHub se necesita registrar en una cuenta (es gratis). Para registrarse se requiere:\n",
    "- Abrir una nueva ventana del navegador de preferencia\n",
    "- Entrar a [github.com]((https://github.com)\n",
    "- Click en la parte superior en Sign Up\n",
    "- Suministar correo electrónico y nuevo password\n",
    "\n",
    "Nota: Si ya tiene cuenta en GitHub, tan solo click en Sign in y acceda con su correo y contraseña"
   ]
  },
  {
   "cell_type": "markdown",
   "id": "2f4f6d6f",
   "metadata": {},
   "source": [
    "2. Crear un nuevo repositorio\n",
    "\n",
    "Luego de logearse con su cuenta, hacer click en Start a project\n",
    " \n",
    " - Colocar un nombre al repositorio. P.e. CompuBiol-repo\n",
    " - Las cuentas personales en GitHub requieren que los proyectos sean públicos. Seleccionar Public\n",
    " - Chequee Initialize el repositorio con la opción README\n",
    " - Click en el botón verde Create Repository"
   ]
  },
  {
   "cell_type": "markdown",
   "id": "5829259e",
   "metadata": {},
   "source": [
    "![create](create.png)"
   ]
  },
  {
   "cell_type": "markdown",
   "id": "d4003eb2",
   "metadata": {},
   "source": [
    "3. Cargar un archivo ejemplo (notebook, etc) a mi repositorio\n",
    "\n",
    "Para cargar el nuevo archivo a nuestro repositorio usaremos por ahira la interfase web del GitHub.\n",
    "\n",
    "Tener listo un archivo, podría ser un notebook de jupyter, un archivo PDF o para el ejercicio de clase anterior file.sh \n",
    "\n",
    "Para conocer como hacer un archivo Notebook Jupyter hacer click [aquí](https://facundoq.github.io/courses/aa2018/res/02_python.html)\n",
    "\n",
    " - Ir a GitHub en su explorador\n",
    " - Click en repositorio creado. p.e CompuBiol-repo\n",
    " - Click en el botón de Upload file\n",
    " - Arrastrar el archivo o carpeta hasta el cuadro de entrega para actualizar. Esperar a que cargen los archivos\n",
    " - Escribir un mensaje describiendo el contenido de la carga en el campo de comentarios\n",
    " - Click en el botón de Commit changes para completar la carga.\n",
    "\n",
    "Nota: observe que cuando se cargan Notebooks se pueden abrir y recorrer el contenido tal como se vería en Jupyter. Sin embargo no es posible editarse. Para interactuar con el Notebook se puede usar [MyBinder.com](https://mybinder.org)\n"
   ]
  },
  {
   "cell_type": "markdown",
   "id": "5686f9fa",
   "metadata": {},
   "source": [
    "## Cómo bifurcar (Fork) un repositorio"
   ]
  },
  {
   "cell_type": "markdown",
   "id": "3a23ce17",
   "metadata": {},
   "source": [
    "4. En gitHub puedes seguir o contribuir a repositorios de ususrios exitentes.\n",
    "\n",
    " - Para iniciar debes logearte con tu cuenta\n",
    " - Buscar el repositorio de interés. P.e. https://github.com/UniversidadEAFIT/compubiol_course\n",
    " - Localizar un botón en la parte superior izquierda del cuadro interno que dice Fork y dar click\n",
    " - Aceptar bifurcación\n",
    " - Desde este momento, este repositorio aparecerá en el Dashboard de tu seción y puedes empezar a contribuir mejorando el código!"
   ]
  },
  {
   "cell_type": "markdown",
   "id": "1a6302b6",
   "metadata": {},
   "source": [
    "## Cómo usar GitHub con Notebooks de Jupyter desde la consola"
   ]
  },
  {
   "cell_type": "markdown",
   "id": "43016521",
   "metadata": {},
   "source": [
    "![flujo](git-flujo.png)"
   ]
  },
  {
   "cell_type": "markdown",
   "id": "4a355e95",
   "metadata": {},
   "source": [
    "1. Set up Github\n",
    " - [Bajar y instalar](https://git-scm.com/downloads) la última versión de GitHub \n",
    " - Configurar el usuario y correo para correrlo desde la terminal"
   ]
  },
  {
   "cell_type": "code",
   "execution_count": null,
   "id": "599d1e48",
   "metadata": {},
   "outputs": [],
   "source": [
    "%%bash\n",
    "git config --global user.name \"Mona Lisa\"\n",
    "git config --global user.email \"email@example.com\""
   ]
  },
  {
   "cell_type": "markdown",
   "id": "3acdbe38",
   "metadata": {},
   "source": [
    " - Conectar el Git local con GitHub sonde se petirá el password https://docs.github.com/en/get-started/getting-started-with-git/caching-your-github-credentials-in-git"
   ]
  },
  {
   "cell_type": "markdown",
   "id": "9e3ec237",
   "metadata": {},
   "source": [
    "2. Clonar repositorios\n",
    "\n",
    "Esta función le permitirá bajar al computador locar la totalidad del repositorio de interés. Tener presente descargarlo en una carpeta conocida ya que luego debemos volver a acceder a ella."
   ]
  },
  {
   "cell_type": "code",
   "execution_count": null,
   "id": "a5034c08",
   "metadata": {},
   "outputs": [],
   "source": [
    "%%bash\n",
    "git clone https://github.com/UniversidadEAFIT/compubiol_course.git"
   ]
  },
  {
   "cell_type": "markdown",
   "id": "df9f5f76",
   "metadata": {},
   "source": [
    "3. Push archivos al repositorio\n",
    "\n",
    "Esta función le permitirá subir archivos a un repositorio clonado en el computador local.\n",
    "Primero copie el archivo o carpeta que desea subir. ej:"
   ]
  },
  {
   "cell_type": "code",
   "execution_count": null,
   "id": "562fd2b9",
   "metadata": {},
   "outputs": [],
   "source": [
    "%%bash\n",
    "cp /some/path/report.sh /path/of/compubiol_course/20221/name/\n",
    "git add /path/of/compubiol_course/20221/name/report.sh\n",
    "git commit -m \"adicionar algún mensaje\"\n",
    "git push origin master"
   ]
  },
  {
   "cell_type": "markdown",
   "id": "aa6e7245",
   "metadata": {},
   "source": [
    "4. Crear un Pull request\n",
    "\n",
    "Esta función puede hacerse desde el explorador en Go to your Project page -> Pull requests tab -> click “New pull request”."
   ]
  },
  {
   "cell_type": "code",
   "execution_count": null,
   "id": "a712f8d2",
   "metadata": {},
   "outputs": [],
   "source": []
  }
 ],
 "metadata": {
  "kernelspec": {
   "display_name": "Python 3",
   "language": "python",
   "name": "python3"
  },
  "language_info": {
   "codemirror_mode": {
    "name": "ipython",
    "version": 3
   },
   "file_extension": ".py",
   "mimetype": "text/x-python",
   "name": "python",
   "nbconvert_exporter": "python",
   "pygments_lexer": "ipython3",
   "version": "3.8.8"
  }
 },
 "nbformat": 4,
 "nbformat_minor": 5
}
