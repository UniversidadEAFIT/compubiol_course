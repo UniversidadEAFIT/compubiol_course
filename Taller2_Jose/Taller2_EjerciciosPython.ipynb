{
 "cells": [
  {
   "cell_type": "markdown",
   "metadata": {},
   "source": [
    "# Taller 2 - Python\n",
    "## Fundamentos en Biología Computacional\n",
    "## 2019-1, Prof. Javier Correa\n",
    "Jose Miguel Londoño Lopera\n",
    "\n",
    "Nota: Se calificará que el código sea lo más simple, claro, original y eficiente. No usar funciones no realizadas por ustedes mismos."
   ]
  },
  {
   "cell_type": "markdown",
   "metadata": {},
   "source": [
    "1. Realice un función para expresar cualquier número entero en su conotación factorial. <br>\n",
    "Ejemplo: factorial(4)<br>\n",
    "Out: 24"
   ]
  },
  {
   "cell_type": "code",
   "execution_count": 17,
   "metadata": {},
   "outputs": [
    {
     "data": {
      "text/plain": [
       "24"
      ]
     },
     "execution_count": 17,
     "metadata": {},
     "output_type": "execute_result"
    }
   ],
   "source": [
    "def fac(num):\n",
    "    i = 1\n",
    "    x = 1\n",
    "    while  i <= num:\n",
    "        x = i * x\n",
    "        i = i + 1\n",
    "    return x\n",
    "    \n",
    "fac(4)"
   ]
  },
  {
   "cell_type": "markdown",
   "metadata": {},
   "source": [
    "2. Realice un función para expresar la potencia de cualquier número. La función recibe como parámetros la base y el exponencial. <br>\n",
    "Ejemplo: potencia(4,2)<br>\n",
    "Out: 16"
   ]
  },
  {
   "cell_type": "code",
   "execution_count": 18,
   "metadata": {},
   "outputs": [
    {
     "data": {
      "text/plain": [
       "27"
      ]
     },
     "execution_count": 18,
     "metadata": {},
     "output_type": "execute_result"
    }
   ],
   "source": [
    "def pot(x,y):\n",
    "    z = x**y\n",
    "    return z\n",
    "\n",
    "num(3,3)"
   ]
  },
  {
   "cell_type": "markdown",
   "metadata": {},
   "source": [
    "3. Utilizando las dos funciones anteriormente definidas (factorial y potencia), realice un función para expresar el Coseno de un entero. <br>\n",
    "Ejemplo: coseno(5)<br>\n",
    "Out: 0.996194698"
   ]
  },
  {
   "cell_type": "code",
   "execution_count": 117,
   "metadata": {},
   "outputs": [
    {
     "data": {
      "text/plain": [
       "0.9961946803061181"
      ]
     },
     "execution_count": 117,
     "metadata": {},
     "output_type": "execute_result"
    }
   ],
   "source": [
    "def fac(num):\n",
    "    i = 1\n",
    "    f = 1\n",
    "    while  i <= num:\n",
    "        f = i * f\n",
    "        i = i + 1\n",
    "    return f\n",
    "def pot(x,y):\n",
    "    z = x**y\n",
    "    return z\n",
    "def cos(num):\n",
    "    num = num * (3.1416/180)\n",
    "    num = float(num)\n",
    "    c = 0.0\n",
    "    n = 0\n",
    "    while  n <= 10:\n",
    "        c = c + (pot(-1,n) * (pot(num,(2*n)) / fac(2*n))) \n",
    "        n = n + 1 \n",
    "    return c\n",
    "\n",
    "cos(-5)"
   ]
  },
  {
   "cell_type": "markdown",
   "metadata": {},
   "source": [
    "4. Dadas las cantidades de individuos con los genótipos AA, AB y BB. Calcular la frecuencia de los alelos A y B <br>\n",
    "Ejemplo: FrecuenciaAlelos(12,4,4) <br>\n",
    "Out: (0.7, 0.3)"
   ]
  },
  {
   "cell_type": "code",
   "execution_count": 21,
   "metadata": {},
   "outputs": [
    {
     "data": {
      "text/plain": [
       "(0.6666666666666666, 0.8)"
      ]
     },
     "execution_count": 21,
     "metadata": {},
     "output_type": "execute_result"
    }
   ],
   "source": [
    "def sng(a,b,c):\n",
    "    x = a + c\n",
    "    y = b + c\n",
    "    z = a + b + c\n",
    "    q = x / z\n",
    "    p = y / z\n",
    "    return q,p\n",
    "\n",
    "sng(3,5,7)\n"
   ]
  },
  {
   "cell_type": "markdown",
   "metadata": {},
   "source": [
    "5. Dada una cadena de DNA retornar una de (-) RNA en sentido 5'-> 3' <br>\n",
    "Ejemplo: DNA_to_RNA(\"TCTCTACTCATGTCTGCA\")<br>\n",
    "Out: GUACUCACGUCUGCUCUC"
   ]
  },
  {
   "cell_type": "code",
   "execution_count": 113,
   "metadata": {},
   "outputs": [
    {
     "data": {
      "text/plain": [
       "'GUACUCACGUCUGCUCUC'"
      ]
     },
     "execution_count": 113,
     "metadata": {},
     "output_type": "execute_result"
    }
   ],
   "source": [
    "def DNA_to_RNA(d):\n",
    "    x = len(d)\n",
    "    i = 0\n",
    "    r = \"\"\n",
    "    y = x - 1\n",
    "    while i < x:\n",
    "        if d[y] == \"A\" or d[y] == \"T\":\n",
    "            if d[y] == \"A\":\n",
    "                r = r + \"G\"\n",
    "            else:\n",
    "                r = r + \"C\"\n",
    "        else:\n",
    "            if d[y] == \"G\":\n",
    "                r = r + \"A\"\n",
    "            else:\n",
    "                r = r + \"U\"\n",
    "        i = i + 1\n",
    "        y = y - 1\n",
    "    return r\n",
    "\n",
    "d = \"TCTCTACTCATGTCTGCA\"\n",
    "DNA_to_RNA(d) "
   ]
  },
  {
   "cell_type": "markdown",
   "metadata": {},
   "source": [
    "6. Realizar una función que calcule la Temperatura de Melting Promedio de un par de primers de DNA en grados Celcius. Teniendo en cuenta que; en un oligonucleótido < de 14 nucleótidos, la Tm se calcula multiplicando la cantidad de G+C por 4 y las A+T por 2. Mientras que, si es >= de 14 nt, se debe aplicar la siguiente fórmula (64.9 + 41 * (totalG+C -16.4) / Tamaño sel oligo). <br>\n",
    "Ejemplo: tempromelt(TCTCTACTCATGTCTGCA, TCGCGTGCACGTG)<br>\n",
    "Out: 44.88333333333334"
   ]
  },
  {
   "cell_type": "code",
   "execution_count": 135,
   "metadata": {},
   "outputs": [
    {
     "data": {
      "text/plain": [
       "44.88333333333334"
      ]
     },
     "execution_count": 135,
     "metadata": {},
     "output_type": "execute_result"
    }
   ],
   "source": [
    "def Tm(a,b):\n",
    "    GC = 0\n",
    "    AT = 0\n",
    "    CG = 0\n",
    "    TA = 0\n",
    "    x = len(a)\n",
    "    y = len(b)\n",
    "    if x < 14:\n",
    "        i = 0\n",
    "        while i < x:\n",
    "            if a[i] == \"A\" or a[i] == \"T\":\n",
    "                AT = AT + 1\n",
    "            else:\n",
    "                GC = GC + 1\n",
    "            i = i + 1\n",
    "        e = (GC*4) + (AT*2)\n",
    "    else:\n",
    "        i = 0\n",
    "        while i < x:\n",
    "            if a[i] == \"G\" or a[i] == \"C\":\n",
    "                GC = GC + 1\n",
    "            i = i + 1\n",
    "        e = 64.9 + 41 * (GC -16.4) / x\n",
    "    if y < 14:\n",
    "        i = 0\n",
    "        while i < y:\n",
    "            if b[i] == \"A\" or b[i] == \"T\":\n",
    "                TA = TA + 1\n",
    "            else:\n",
    "                CG = CG + 1\n",
    "            i = i + 1\n",
    "        o = (CG*4) + (TA*2) \n",
    "    else:\n",
    "        i = 0\n",
    "        while i < x:\n",
    "            if b[i] == \"G\" or b[i] == \"C\":\n",
    "                CG = CG + 1\n",
    "            i = i + 1\n",
    "        o = 64.9 + 41 * (CG - 16.4) / y\n",
    "    w = (e + o) / 2\n",
    "    return w\n",
    "\n",
    "a = \"TCTCTACTCATGTCTGCA\"\n",
    "b = \"TCGCGTGCACGTG\"\n",
    "Tm(a,b)"
   ]
  },
  {
   "cell_type": "markdown",
   "metadata": {},
   "source": [
    "7. Hallar la distancia Hamming entre dos secuencias dadas de polipéptidos. <br>\n",
    "link: https://es.wikipedia.org/wiki/Distancia_de_Hamming <br>\n",
    "Ejemplo: distancia_Hamming(\"SRSLLLRFLMSRSLLLRFLLFLLLLPPLPLFLLLLPPL\",\"SRSLLLRFLSSRSLLLRFLLFLLLLAALALFLLLLSML\")<br>\n",
    "Out:6"
   ]
  },
  {
   "cell_type": "code",
   "execution_count": 136,
   "metadata": {},
   "outputs": [
    {
     "data": {
      "text/plain": [
       "6"
      ]
     },
     "execution_count": 136,
     "metadata": {},
     "output_type": "execute_result"
    }
   ],
   "source": [
    "def d_H(a,b):\n",
    "    i = 0\n",
    "    x = len(a) \n",
    "    y = len(b)\n",
    "    z = 0\n",
    "    while i < x:\n",
    "        if not a[i] == b[i]:\n",
    "            z = z + 1\n",
    "        i = i + 1\n",
    "    return z\n",
    "\n",
    "a = \"SRSLLLRFLMSRSLLLRFLLFLLLLPPLPLFLLLLPPL\"\n",
    "b = \"SRSLLLRFLSSRSLLLRFLLFLLLLAALALFLLLLSML\"\n",
    "d_H(a,b)"
   ]
  },
  {
   "cell_type": "markdown",
   "metadata": {},
   "source": [
    "8. Dada la tabla de codones estandar, hacer una función para traducir una cadena de DNA empezando desde la posición 1 <br>\n",
    "Ejemplo: traducir(\"ATGGCGCGTATGAATAGCAATCCGAGCGCATGCCATGTTTGCCATGCGGCTCTGGCGGTCATTGATGCGTGCAATAACAATACCCGTAATAGCAATATCAATAGCTAA\")<br>\n",
    "Out: Met A R Met N S N P S A C H V C H A A L A V I D A C N N N T R N S N I N S Stop"
   ]
  },
  {
   "cell_type": "code",
   "execution_count": 208,
   "metadata": {},
   "outputs": [
    {
     "data": {
      "text/plain": [
       "'Met A R R Met N S N P S A C H V C H A A L A V I D A C N N N T R R N S N I N S Stop '"
      ]
     },
     "execution_count": 208,
     "metadata": {},
     "output_type": "execute_result"
    }
   ],
   "source": [
    "def Trd(a):\n",
    "    i = 0\n",
    "    p = 0\n",
    "    q = 3\n",
    "    x = len(a)\n",
    "    e = \"\"\n",
    "    while i < x:\n",
    "        if a[p:q]==\"ATG\":\n",
    "            e = e + \"Met \"\n",
    "        if a[p:q]==\"AGA\" or a[p:q]==\"AGG\" or a[p:q]==\"CGG\" or a[p:q]==\"CGA\" or a[p:q]==\"CGC\" or a[p:q]==\"CGT\":\n",
    "            e = e + \"R \"\n",
    "        if a[p:q]==\"AGC\" or a[p:q]==\"AGT\" or a[p:q]==\"TCG\" or a[p:q]==\"TCA\" or a[p:q]==\"TCC\" or a[p:q]==\"TCT\":\n",
    "            e = e + \"S \"\n",
    "        if a[p:q]==\"TTG\" or a[p:q]==\"TTA\" or a[p:q]==\"CTG\" or a[p:q]==\"CTA\" or a[p:q]==\"CTC\" or a[p:q]==\"CTT\":\n",
    "             e = e + \"L \"\n",
    "        if a[p:q]==\"ACG\" or a[p:q]==\"ACA\" or a[p:q]==\"ACC\" or a[p:q]==\"ACT\":\n",
    "            e = e + \"T \"\n",
    "        if a[p:q]==\"GTG\" or a[p:q]==\"GTA\" or a[p:q]==\"GTC\" or a[p:q]==\"GTT\":\n",
    "             e = e + \"V \"\n",
    "        if a[p:q]==\"GGG\" or a[p:q]==\"GGA\" or a[p:q]==\"GGC\" or a[p:q]==\"GGT\":\n",
    "            e = e + \"G \"\n",
    "        if a[p:q]==\"GCG\" or a[p:q]==\"GCA\" or a[p:q]==\"GCC\" or a[p:q]==\"GCT\":\n",
    "            e = e + \"A \"\n",
    "        if a[p:q]==\"CGG\" or a[p:q]==\"CGA\" or a[p:q]==\"CGC\" or a[p:q]==\"CGT\":\n",
    "            e = e + \"R \"\n",
    "        if a[p:q]==\"CCG\" or a[p:q]==\"CCA\" or a[p:q]==\"CCC\" or a[p:q]==\"CCT\":\n",
    "            e = e + \"P \"\n",
    "        if a[p:q]==\"ATA\" or a[p:q]==\"ATT\" or a[p:q]==\"ATC\":\n",
    "            e = e + \"I \"\n",
    "        if a[p:q]==\"AAA\" or a[p:q]==\"AAG\":\n",
    "            e = e + \"K \"\n",
    "        if a[p:q]==\"AAC\" or a[p:q]==\"AAT\":\n",
    "            e = e + \"N \"\n",
    "        if a[p:q]==\"TTC\" or a[p:q]==\"TTT\":\n",
    "             e = e + \"F \"\n",
    "        if a[p:q]==\"TGC\" or a[p:q]==\"TGT\":\n",
    "             e = e + \"C \"\n",
    "        if a[p:q]==\"TAT\" or a[p:q]==\"TAC\":\n",
    "             e = e + \"Y \"\n",
    "        if a[p:q]==\"GAG\" or a[p:q]==\"GAA\":\n",
    "            e = e + \"E \"\n",
    "        if a[p:q]==\"GAT\" or a[p:q]==\"GAC\":\n",
    "            e = e + \"D \"\n",
    "        if a[p:q]==\"CAG\" or a[p:q]==\"CAA\":\n",
    "            e = e + \"Q \"\n",
    "        if a[p:q]==\"CAT\" or a[p:q]==\"CAC\":\n",
    "            e = e + \"H \"\n",
    "        if a[p:q]==\"TGG\":\n",
    "             e = e + \"W \"\n",
    "        if a[p:q]==\"TGA\" or a[p:q]==\"TAA\" or a[p:q]==\"TAG\":\n",
    "             e = e + \"Stop \"\n",
    "        i = i + 1\n",
    "        p = p + 3\n",
    "        q = q + 3\n",
    "    return e\n",
    "\n",
    "a = \"ATGGCGCGTATGAATAGCAATCCGAGCGCATGCCATGTTTGCCATGCGGCTCTGGCGGTCATTGATGCGTGCAATAACAATACCCGTAATAGCAATATCAATAGCTAA\"\n",
    "Trd(a)"
   ]
  },
  {
   "cell_type": "markdown",
   "metadata": {},
   "source": [
    "9. Usando la función anterior, traducir la secuencia de DNA dada en los 6 frames posibles para producir un polipéptido.\n",
    "Ejemplo: traducirALL(\"ATGGCGCGTATGAATAGCAATCCGAGCGCATGCCATGTTTGCCATGCGGCTCTGGCGGTCATTGATGCGTGCAATAACAATACCCGTAATAGCAATATCAATAGCTAA\")<br>\n",
    "Out: (Frame1:Met A R Met N S N P S A C H V C H A A L A V I D A C N N N T R N S N I N S Stop, Frame2:W R V Stop I A I R A H A Met F A Met R L W R S L Met R A I T I P V I A I S I A, Frame3:G A Y E Stop Q S E R Met P C L P C G S G G H Stop C V Q Stop Q Y P Stop Stop Q Y Q Stop L, Frame4:L A I D I A I T G I V I A R I N D R Q S R Met A N Met A C A R I A I H T R H, Frame5:Stop L L I L L L R V L L L H A S Met T A R A A W Q T W H A L G L L F I R A, Frame6:S Y Stop Y C Y Y G Y C Y C T H Q Stop P P E P H G K H G Met R S D C Y S Y A P)"
   ]
  },
  {
   "cell_type": "code",
   "execution_count": 219,
   "metadata": {},
   "outputs": [
    {
     "data": {
      "text/plain": [
       "'Frame1:Met A R R Met N S N P S A C H V C H A A L A V I D A C N N N T R R N S N I N S Stop , Frame2:W R R V Stop I A I R R A H A Met F A Met R R L W R R S L Met R R A I T I P V I A I S I A , Frame3:G A Y E Stop Q S E R R Met P C L P C G S G G H Stop C V Q Stop Q Y P Stop Stop Q Y Q Stop L , Frame4:L A I D I A I T G I V I A R R I N D R R Q S R R Met A N Met A C A R R I A I H T R R H , Frame5:Stop L L I L L L R R V L L L H A S Met T A R A A W Q T W H A L G L L F I R R A , Frame6:S Y Stop Y C Y Y G Y C Y C T H Q Stop P P E P H G K H G Met R R S D C Y S Y A P '"
      ]
     },
     "execution_count": 219,
     "metadata": {},
     "output_type": "execute_result"
    }
   ],
   "source": [
    "def Tr(a,b):\n",
    "    i = 0\n",
    "    p = 0 + b\n",
    "    q = 3 + b\n",
    "    x = len(a)\n",
    "    e = \"\"\n",
    "    while i < x:\n",
    "        if a[p:q]==\"ATG\":\n",
    "            e = e + \"Met \"\n",
    "        if a[p:q]==\"AGA\" or a[p:q]==\"AGG\" or a[p:q]==\"CGG\" or a[p:q]==\"CGA\" or a[p:q]==\"CGC\" or a[p:q]==\"CGT\":\n",
    "            e = e + \"R \"\n",
    "        if a[p:q]==\"AGC\" or a[p:q]==\"AGT\" or a[p:q]==\"TCG\" or a[p:q]==\"TCA\" or a[p:q]==\"TCC\" or a[p:q]==\"TCT\":\n",
    "            e = e + \"S \"\n",
    "        if a[p:q]==\"TTG\" or a[p:q]==\"TTA\" or a[p:q]==\"CTG\" or a[p:q]==\"CTA\" or a[p:q]==\"CTC\" or a[p:q]==\"CTT\":\n",
    "             e = e + \"L \"\n",
    "        if a[p:q]==\"ACG\" or a[p:q]==\"ACA\" or a[p:q]==\"ACC\" or a[p:q]==\"ACT\":\n",
    "            e = e + \"T \"\n",
    "        if a[p:q]==\"GTG\" or a[p:q]==\"GTA\" or a[p:q]==\"GTC\" or a[p:q]==\"GTT\":\n",
    "             e = e + \"V \"\n",
    "        if a[p:q]==\"GGG\" or a[p:q]==\"GGA\" or a[p:q]==\"GGC\" or a[p:q]==\"GGT\":\n",
    "            e = e + \"G \"\n",
    "        if a[p:q]==\"GCG\" or a[p:q]==\"GCA\" or a[p:q]==\"GCC\" or a[p:q]==\"GCT\":\n",
    "            e = e + \"A \"\n",
    "        if a[p:q]==\"CGG\" or a[p:q]==\"CGA\" or a[p:q]==\"CGC\" or a[p:q]==\"CGT\":\n",
    "            e = e + \"R \"\n",
    "        if a[p:q]==\"CCG\" or a[p:q]==\"CCA\" or a[p:q]==\"CCC\" or a[p:q]==\"CCT\":\n",
    "            e = e + \"P \"\n",
    "        if a[p:q]==\"ATA\" or a[p:q]==\"ATT\" or a[p:q]==\"ATC\":\n",
    "            e = e + \"I \"\n",
    "        if a[p:q]==\"AAA\" or a[p:q]==\"AAG\":\n",
    "            e = e + \"K \"\n",
    "        if a[p:q]==\"AAC\" or a[p:q]==\"AAT\":\n",
    "            e = e + \"N \"\n",
    "        if a[p:q]==\"TTC\" or a[p:q]==\"TTT\":\n",
    "             e = e + \"F \"\n",
    "        if a[p:q]==\"TGC\" or a[p:q]==\"TGT\":\n",
    "             e = e + \"C \"\n",
    "        if a[p:q]==\"TAT\" or a[p:q]==\"TAC\":\n",
    "             e = e + \"Y \"\n",
    "        if a[p:q]==\"GAG\" or a[p:q]==\"GAA\":\n",
    "            e = e + \"E \"\n",
    "        if a[p:q]==\"GAT\" or a[p:q]==\"GAC\":\n",
    "            e = e + \"D \"\n",
    "        if a[p:q]==\"CAG\" or a[p:q]==\"CAA\":\n",
    "            e = e + \"Q \"\n",
    "        if a[p:q]==\"CAT\" or a[p:q]==\"CAC\":\n",
    "            e = e + \"H \"\n",
    "        if a[p:q]==\"TGG\":\n",
    "             e = e + \"W \"\n",
    "        if a[p:q]==\"TGA\" or a[p:q]==\"TAA\" or a[p:q]==\"TAG\":\n",
    "             e = e + \"Stop \"\n",
    "        i = i + 1\n",
    "        p = p + 3\n",
    "        q = q + 3\n",
    "    return e\n",
    "def RNA(d):\n",
    "    x = len(d)\n",
    "    i = 0\n",
    "    r = \"\"\n",
    "    f = \"\"\n",
    "    y = x - 1\n",
    "    while i < x:\n",
    "        if d[y] == \"A\" or d[y] == \"T\":\n",
    "            if d[y] == \"A\":\n",
    "                r = r + \"T\"\n",
    "            else:\n",
    "                r = r + \"A\"\n",
    "        else:\n",
    "            if d[y] == \"G\":\n",
    "                r = r + \"C\"\n",
    "            else:\n",
    "                r = r + \"G\"\n",
    "        i = i + 1\n",
    "        y = y - 1\n",
    "    return r\n",
    "def Trn_6(j):\n",
    "    m = \"Frame1:\"+Tr(j,0)+\", \" + \"Frame2:\"+Tr(j,1)+\", \" + \"Frame3:\"+Tr(j,2)+\", \" + \"Frame4:\"+Tr(RNA(j),0)+\", \" + \"Frame5:\"+Tr(RNA(j),1)+\", \" + \"Frame6:\"+Tr(RNA(j),2)\n",
    "    return m\n",
    " \n",
    "j = \"ATGGCGCGTATGAATAGCAATCCGAGCGCATGCCATGTTTGCCATGCGGCTCTGGCGGTCATTGATGCGTGCAATAACAATACCCGTAATAGCAATATCAATAGCTAA\"\n",
    "Trn_6(j)\n",
    "\n"
   ]
  },
  {
   "cell_type": "markdown",
   "metadata": {},
   "source": [
    "Type Markdown and LaTeX:  𝛼2\n",
    " $$'Frame1:Met A R R Met N S N P S A C H V C H A A L A V I D A C N N N T R R N S N I N S Stop , Frame2:W R R V Stop I A I R R A H A Met F A Met R R L W R R S L Met R R A I T I P V I A I S I A , Frame3:G A Y E Stop Q S E R R Met P C L P C G S G G H Stop C V Q Stop Q Y P Stop Stop Q Y Q Stop L , Frame4:L A I D I A I T G I V I A R R I N D R R Q S R R Met A N Met A C A R R I A I H T R R H , Frame5:Stop L L I L L L R R V L L L H A S Met T A R A A W Q T W H A L G L L F I R R A , Frame6:S Y Stop Y C Y Y G Y C Y C T H Q Stop P P E P H G K H G Met R R S D C Y S Y A P '$$"
   ]
  },
  {
   "cell_type": "markdown",
   "metadata": {},
   "source": [
    "10. Su código genético es esencialmente el mismo desde que nace hasta que muere, y el mismo en su sangre y su cerebro. Los genes que se activan y desactivan marcan la diferencia entre las células. Esta regulación de los genes está orquestada por un mecanismo inmensamente complejo, que solo hemos empezado a comprender. Una parte central de este mecanismo consiste en moléculas llamadas factores de transcripción que se adhieren al ADN, y al hacerlo, activan o desactivan los genes cercanos. Estas moléculas se unen preferentemente a secuencias específicas de ADN, y este patrón de preferencia de unión puede representarse mediante una tabla de frecuencias de símbolos dados en cada posición del patrón. Más precisamente, cada fila en la tabla corresponde a las bases A, C, G y T, mientras que la columna j refleja cuántas veces aparece la base en la posición j en la secuencia del ADN.\n",
    "\n",
    "    Por ejemplo; si nuestro conjunto de secuencias de ADN son TAG, GGT y GGG, la tabla se convierte en\n",
    "\n",
    "\n",
    "|base|\t0|\t1|\t2|\n",
    "|----|---|---|---|\n",
    "|A\t|0\t|1\t|0  |\n",
    "|C\t|0\t|0\t|0  |\n",
    "|G \t|2\t|2\t|2  |\n",
    "|T\t|1\t|0\t|1  |\n",
    "\n",
    "De esta tabla podemos leer que la base A aparece una vez en el índice 1 en las cadenas de ADN, la base C no aparece en absoluto, la base G aparece dos veces en todas las posiciones y la base T aparece una vez al principio y al final de las cadenas.\n",
    "\n",
    "a. Dada una lista de Strings con motivos de 4 nucleótidos, construir una matriz de frecuencias para las posiciones de los 4 nucleótidos. \n",
    "\n",
    "Ejemplo:<br>\n",
    "listamotivos =[\"ACTG\", \"CCAG\", \"AGAG\", \"CGTA\"]<br>\n",
    "MatrizFrecuencia(listamotivos)<br>\n",
    "Out: [[2, 0, 2, 1]<br>\n",
    " [2, 2, 0, 0]<br>\n",
    " [0, 2, 0, 3]<br>\n",
    " [0, 0, 2, 0]]<br>\n",
    " \n",
    "b. Realizar una función que retorne el nucleótido que más frecuencia obtuvo por posición. Si tienen la misma frecuecia retornar los valores iguales. <br>\n",
    "Ejemplo:<br>\n",
    "FrecuenciaMayorNt(MatrizFrecuencia(listamotivos))<br>\n",
    "Out: [[A:0.5, C:0.5],<br>\n",
    "[C:0.5,G:0.5],<br>\n",
    "[A:0.5,T:0.5],<br>\n",
    "[G:0.75]]<br>"
   ]
  },
  {
   "cell_type": "code",
   "execution_count": 239,
   "metadata": {},
   "outputs": [
    {
     "data": {
      "text/plain": [
       "[[2, 0, 2, 1], [2, 2, 0, 0], [0, 2, 0, 3], [0, 0, 2, 0]]"
      ]
     },
     "execution_count": 239,
     "metadata": {},
     "output_type": "execute_result"
    }
   ],
   "source": [
    "#a.\n",
    "def Mtx(l):\n",
    "    x:0\n",
    "    m = [[0,0,0,0],[0,0,0,0],[0,0,0,0],[0,0,0,0]]\n",
    "    for f in (l):\n",
    "        for x in range (0,4):\n",
    "            if f[x]==\"A\" or f[x]==\"C\":\n",
    "                if f[x]==\"A\":\n",
    "                    m[0][x] = m[0][x] + 1\n",
    "                else:\n",
    "                    m[1][x] = m[1][x] + 1\n",
    "            else:\n",
    "                if f[x]==\"G\":\n",
    "                    m[2][x] = m[2][x] + 1\n",
    "                else:\n",
    "                    m[3][x] = m[3][x] + 1\n",
    "    return m\n",
    "\n",
    "l = \"ACTG\", \"CCAG\", \"AGAG\", \"CGTA\"\n",
    "Mtx(l)\n",
    "    "
   ]
  },
  {
   "cell_type": "code",
   "execution_count": 245,
   "metadata": {},
   "outputs": [
    {
     "data": {
      "text/plain": [
       "[['A:0.5 G:0.5 '], ['G:0.5 C:0.5 '], ['A:0.5 T:0.5 '], ['C:0.0 ']]"
      ]
     },
     "execution_count": 245,
     "metadata": {},
     "output_type": "execute_result"
    }
   ],
   "source": [
    "#b.\n",
    "def Mtx(l):\n",
    "    x:0\n",
    "    y = \"\"\n",
    "    y1 = \"\"\n",
    "    y2 = \"\"\n",
    "    y3 = \"\"\n",
    "    m = [[0,0,0,0],[0,0,0,0],[0,0,0,0],[0,0,0,0]]\n",
    "    n = [[\"\"],[\"\"],[\"\"],[\"\"]]\n",
    "    i = 0\n",
    "    for f in (l):\n",
    "        for x in range (0,4):\n",
    "            if f[x]==\"A\" or f[x]==\"C\":\n",
    "                if f[x]==\"A\":\n",
    "                    m[0][x] = m[0][x] + 1\n",
    "                else:\n",
    "                    m[1][x] = m[1][x] + 1\n",
    "            else:\n",
    "                if f[x]==\"G\":\n",
    "                    m[2][x] = m[2][x] + 1\n",
    "                else:\n",
    "                    m[3][x] = m[3][x] + 1\n",
    "    Aa = m[0][0] / 4\n",
    "    Ab = m[0][1] / 4\n",
    "    Ac = m[0][2] / 4\n",
    "    Ad = m[0][3] / 4\n",
    "    Ga = m[1][0] / 4\n",
    "    Gb = m[1][1] / 4\n",
    "    Gc = m[1][2] / 4\n",
    "    Gd = m[1][3] / 4\n",
    "    Ca = m[2][0] / 4\n",
    "    Cb = m[2][1] / 4\n",
    "    Cc = m[2][2] / 4\n",
    "    Cd = m[2][3] / 4\n",
    "    Ta = m[3][0] / 4\n",
    "    Tb = m[3][1] / 4\n",
    "    Tc = m[3][2] / 4\n",
    "    Td = m[3][3] / 4\n",
    "    if Ga<=Aa and Ca<=Aa and Ta<=Aa:\n",
    "        y = y + \"A:\" + str(Aa) + \" \"\n",
    "    if Aa<=Ga and Ca<=Ga and Ta<=Ga:\n",
    "        y = y + \"G:\" + str(Ga) + \" \"\n",
    "    if Aa<=Ca and Ga<=Ca and Ta<=Ca:\n",
    "        y = y + \"C:\" + str(Ca) + \" \"\n",
    "    if Aa<=Ta and Ga<=Ta and Ca<=Ta:\n",
    "        y = y + \"T:\" + str(Ta) + \" \"\n",
    "    if Gb<=Ab and Cb<=Ab and Tb<=Ab:\n",
    "        y1 = y1 + \"A:\" + str(Ab) + \" \"\n",
    "    if Ab<=Gb and Cb<=Gb and Ta<=Gb:\n",
    "        y1 = y1 + \"G:\" + str(Gb) + \" \"\n",
    "    if Ab<=Cb and Gb<=Cb and Tb<=Cb:\n",
    "        y1 = y1 + \"C:\" + str(Gb) + \" \"\n",
    "    if Ab<=Tb and Gb<=Tb and Cb<=Tb:\n",
    "        y1 = y1 + \"T:\" + str(Gb) + \" \"\n",
    "    if Gc<=Ac and Cc<=Ac and Tc<=Ac:\n",
    "        y2 = y2 + \"A:\" + str(Ac) + \" \"\n",
    "    if Ac<=Gc and Cc<=Gc and Tc<=Gc:\n",
    "        y2 = y2 + \"G:\" + str(Gc) + \" \"\n",
    "    if Ac<=Cc and Gc<=Cc and Tc<=Cc:\n",
    "        y2 = y2 + \"C:\" + str(Cc) + \" \"\n",
    "    if Ac<=Tc and Gc<=Tc and Cc<=Tc:\n",
    "        y2 = y2 + \"T:\" + str(Tc) + \" \"\n",
    "    if Gd<=Ad and Cd<=Ad and Td<=Ad:\n",
    "        y3 = y3 + \"A:\" + str(Ad) + \" \"\n",
    "    if Ad<=Gd and Cd<=Gd and Td<=Gd:\n",
    "        y3 = y3 + \"G:\" + str(Gd) + \" \"\n",
    "    if Ad<=Cd and Gd<=Cd and Td<=Cd:\n",
    "        y3 = y3 + \"C:\" + str(Gd) + \" \"\n",
    "    if Ad<=Td and Gd<=Td and Cd<=Td:\n",
    "        y3 = y3 + \"T:\" + str(Gd) + \" \"\n",
    "    n = [[y],[y1],[y2],[y3]]\n",
    "    return n\n",
    "            \n",
    "\n",
    "l = \"ACTG\", \"CCAG\", \"AGAG\", \"CGTA\"\n",
    "Mtx(l)"
   ]
  }
 ],
 "metadata": {
  "kernelspec": {
   "display_name": "Python 3",
   "language": "python",
   "name": "python3"
  },
  "language_info": {
   "codemirror_mode": {
    "name": "ipython",
    "version": 3
   },
   "file_extension": ".py",
   "mimetype": "text/x-python",
   "name": "python",
   "nbconvert_exporter": "python",
   "pygments_lexer": "ipython3",
   "version": "3.7.1"
  }
 },
 "nbformat": 4,
 "nbformat_minor": 2
}
