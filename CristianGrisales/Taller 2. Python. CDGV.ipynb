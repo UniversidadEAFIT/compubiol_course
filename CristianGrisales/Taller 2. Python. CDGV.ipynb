{
 "cells": [
  {
   "cell_type": "markdown",
   "metadata": {},
   "source": [
    "# Taller 2.Python\n",
    "# Cristian David Grisales Vargas c.c:1152208435"
   ]
  },
  {
   "cell_type": "markdown",
   "metadata": {},
   "source": [
    "1. Realice una función para expresar cualquier número entero en su connotación factorial. \n"
   ]
  },
  {
   "cell_type": "code",
   "execution_count": 9,
   "metadata": {},
   "outputs": [
    {
     "data": {
      "text/plain": [
       "24"
      ]
     },
     "execution_count": 9,
     "metadata": {},
     "output_type": "execute_result"
    }
   ],
   "source": [
    "def esEntero(x):   #función para comprobar sí un número es entero o no\n",
    "    if x-round(x)==0:  #sí el numero menos su enterización es igual 0, el número es entero (True), de lo contrario es falso (False)\n",
    "        return True\n",
    "    else:\n",
    "        return False\n",
    "    \n",
    "def calfactorial(x): #la función toma cualquier numero entero debido a las propiedades de los factoriales.\n",
    "    prod=1                #esta variable significa la productoria para realizar un factorial\n",
    "    i=1                   #i representa el contador\n",
    "    if (esEntero(x))==True and x>0: #antes de entrar el ciclo se debe cumplir que el numero sea Natural.\n",
    "        while i<x+1:                #aquí comienza el ciclo mientras que i sea menor que x más una unidad, para poder tener en cuenta al extremo.\n",
    "            prod=prod*i             #se actualiza prod por la multiplicación con i, ya que el factorial no es más que una productoria.\n",
    "            i=i+1                   #se actualiza i\n",
    "        return (prod)               #cuando i supere a x+1, se cierra el ciclo y el algoritmo devuelve el prod, que es el factorial.\n",
    "    return 'no es posible'          # sí la primera condición no se cumple antes de entrar al ciclo, el algoritmo devuelve 'no es posible'\n",
    "calfactorial(4)"
   ]
  },
  {
   "cell_type": "markdown",
   "metadata": {},
   "source": [
    "2. Realice una función para expresar la potencia de cualquier número. La función recibe como parámetros la base y el exponencial. \n"
   ]
  },
  {
   "cell_type": "code",
   "execution_count": 7,
   "metadata": {},
   "outputs": [
    {
     "data": {
      "text/plain": [
       "16"
      ]
     },
     "execution_count": 7,
     "metadata": {},
     "output_type": "execute_result"
    }
   ],
   "source": [
    "def calPotencia(a,b): #función para calcular potencia de cualquier numero, siendo a la base y b el exponente.\n",
    "    return a**b       #se eleva a al valor de b.\n",
    "calPotencia(4,2)"
   ]
  },
  {
   "cell_type": "markdown",
   "metadata": {},
   "source": [
    "3. Utilizando las dos funciones anteriormente definidas (factorial y potencia), realice un función para expresar el Seno de un entero."
   ]
  },
  {
   "cell_type": "code",
   "execution_count": 4,
   "metadata": {},
   "outputs": [
    {
     "data": {
      "text/plain": [
       "-16"
      ]
     },
     "execution_count": 4,
     "metadata": {},
     "output_type": "execute_result"
    }
   ],
   "source": [
    "def esEntero(x):   #función para comprobar sí un número es entero o no\n",
    "    if x-round(x)==0:  #sí el numero menos su enterización es igual 0, el número es entero (True), de lo contrario es falso (False)\n",
    "        return True\n",
    "    else:\n",
    "        return False\n",
    "    \n",
    "def calfactorial(x): #la función toma cualquier numero entero debido a las propiedades de los factoriales.\n",
    "    prod=1                #esta variable significa la productoria para realizar un factorial\n",
    "    i=1                   #i representa el contador\n",
    "    if (esEntero(x))==True and x>0: #antes de entrar el ciclo se debe cumplir que el numero sea Natural.\n",
    "        while i<x+1:                #aquí comienza el ciclo mientras que i sea menor que x más una unidad, para poder tener en cuenta al extremo.\n",
    "            prod=prod*i             #se actualiza prod por la multiplicación con i, ya que el factorial no es más que una productoria.\n",
    "            i=i+1                   #se actualiza i\n",
    "        return (prod)               #cuando i supere a x+1, se cierra el ciclo y el algoritmo devuelve el prod, que es el factorial.\n",
    "    return 'no es posible'          # sí la primera condición no se cumple antes de entrar al ciclo, el algoritmo devuelve 'no es posible'\n",
    "\n",
    "def calPotencia(a,b): #función para calcular potencia de cualquier numero, siendo a la base y b el exponente.\n",
    "    return a**b      #se eleva a al valor de b.\n",
    "\n",
    "def calSen(x):\n",
    "    suma=x\n",
    "    backsuma=0\n",
    "    n=1\n",
    "    signo = (+1)\n",
    "    while (suma-backsuma)>0.0000000000000001:\n",
    "        backsuma=suma\n",
    "        signo=(-1)*(signo)\n",
    "        n=n+2\n",
    "        suma=suma+signo*((calPotencia(x,n)))/(calfactorial(n))\n",
    "    return suma\n",
    "                                \n",
    "calSen(5) "
   ]
  },
  {
   "cell_type": "markdown",
   "metadata": {},
   "source": [
    "4. Dadas las cantidades de individuos con los genótipos AA, AB y BB. Calcular la frecuencia del alelo A esperada en equilibrio de Hardyweinber. "
   ]
  },
  {
   "cell_type": "code",
   "execution_count": 11,
   "metadata": {},
   "outputs": [
    {
     "name": "stdout",
     "output_type": "stream",
     "text": [
      "0.7\n"
     ]
    }
   ],
   "source": [
    "def hardyweinbergpp(AA,AB,BB):\n",
    "    \n",
    "    total = float(AA+BB+BB) #el  total de individuos con los 3 genotipos\n",
    "    freqobsA= (AA+AB/2)/total #la frecuencia observada de a\n",
    "    NespAA=round((freqobsA**2)*total) #el numero esperado de individuos con  la frecuencia genotipica de AA\n",
    "    NespAB=round((1-freqobsA)*(freqobsA)*total*2) #el numero esperado de individuos con la frecuencia genotípica de AB\n",
    "    freqespA=(NespAA+NespAB/2)/20 #la frecuencia esperada del alelo A\n",
    "    \n",
    "    print (freqespA)\n",
    "    \n",
    "              \n",
    "hardyweinbergpp(12,4,4)"
   ]
  },
  {
   "cell_type": "markdown",
   "metadata": {},
   "source": [
    " 5. Dada una cadena de DNA retornar una de RNA "
   ]
  },
  {
   "cell_type": "code",
   "execution_count": 6,
   "metadata": {},
   "outputs": [
    {
     "data": {
      "text/plain": [
       "'UCUCUACUCAUGUCUGCA'"
      ]
     },
     "execution_count": 6,
     "metadata": {},
     "output_type": "execute_result"
    }
   ],
   "source": [
    "def transcribir(seq): # función para el proceso biológico de la transcripción\n",
    "    lseq=list(seq)    #la variable seq se transforma en una lista para poder ser evaluada\n",
    "    rna=''            #rna es la variable respuesta que empieza con ningún nucleótido\n",
    "    tam=len(lseq)     #tam indica el tamaño de la lista\n",
    "    i=0               #i es la posición dentro de la lista\n",
    "    while i<tam:      #comienza el ciclo, siempre y cuando, se cumpla que i sea menor al tamaño de la lista\n",
    "        if lseq[i]=='T':  #sí en la posición i de la lista, se encuentra una T, se actualiza la variable rna con U.\n",
    "            rna=rna+'U'\n",
    "        else:             #sí lo anterior no se cumple, se actualiza con la letra que aparece en la lista.\n",
    "            rna=rna+lseq[i]\n",
    "        i=i+1             # se actualiza i.\n",
    "    return rna          \n",
    "transcri('TCTCTACTCATGTCTGCA')\n",
    "        "
   ]
  },
  {
   "cell_type": "markdown",
   "metadata": {},
   "source": [
    "6. Realizar una función que calcule la Temperatura de Melting de un primer de DNA en grados Celcius. Teniendo en cuenta que; en un oligonucleótido < de 14 nucleótidos, la Tm se calcula multiplicando la cantidad de G+C por 4 y las A+T por 2. Mientras que, si es >= de 14 nt, se debe aplicar la siguiente fórmula (64.9 + 41 * (totalG+C -16.4) / Tamaño sel oligo). "
   ]
  },
  {
   "cell_type": "code",
   "execution_count": 7,
   "metadata": {},
   "outputs": [
    {
     "data": {
      "text/plain": [
       "27.54444444444445"
      ]
     },
     "execution_count": 7,
     "metadata": {},
     "output_type": "execute_result"
    }
   ],
   "source": [
    "def tempmelting(seq):\n",
    "    nGC=0   #contador para la cantidad de G+C\n",
    "    nAT=0   #contador para la cantidad de A+T\n",
    "    lseq=list(seq)  #convertir la secuencia en una lista\n",
    "    tam=len(seq)  #el tamaño de la lista\n",
    "    i=0          #el contador\n",
    "    v1=64.9      #variable 1 necesaria para calcular la Tmelting.\n",
    "    v2=41        #variable 2 necesaria para calcular la Tmelting.\n",
    "    v3=16.4      #variable 3 necesaria para calcular la Tmelting.\n",
    "    lim=14       #valor límite para escoger cuál camino elegir.\n",
    "    if tam<lim:  #si el tamaño es menor al valor limite.\n",
    "        while i<tam: #comienza el ciclo hasta que el contador sea mayor al tamaño de la lista\n",
    "            if lseq[i]== 'G' or 'C':  #si la secuencia en la posición i es igual a G o C, sumar el contador nGC\n",
    "                nGC==nGC+1\n",
    "                i==i+1\n",
    "            else:\n",
    "                nAT==nAT+1   #de lo contrario, sumar al contador nAT\n",
    "                i==i+1\n",
    "        return (nGC*4)+(nAT*2) #devolver la multiplicación para calcular la Tmelting cuando es menor a 14 nucleótidos.\n",
    "    else:               #cuando el tamaño es mayor a el limite(14)\n",
    "        while i<tam:   #comienza el ciclo hasta que el contador sea mayor al tamaño de la lista\n",
    "            if lseq[i]== 'G' or 'C': #si la secuencia en la posición i es igual a G o C, sumar el contador nGC\n",
    "                nGC==nGC+1\n",
    "                i=i+1  #actualizar el contador\n",
    "            else:\n",
    "                i=i+1# de lo contrario, solo actualizar el contador\n",
    "        return (v1+v2*(nGC-v3)/tam) #devolver la formula para cuando la secuencia tiene más de 14 nucleótidos.\n",
    "tempmelting('TCTCTACTCATGTCTGCA')"
   ]
  },
  {
   "cell_type": "code",
   "execution_count": 3,
   "metadata": {},
   "outputs": [
    {
     "data": {
      "text/plain": [
       "6"
      ]
     },
     "execution_count": 3,
     "metadata": {},
     "output_type": "execute_result"
    }
   ],
   "source": [
    "def distancia_Hamming(pol1,pol2):\n",
    "    lpol1=list(pol1)  #lista del polipéptido 1\n",
    "    lpol2=list(pol2)  #lista del polipéptido 2\n",
    "    cont=0     #contador\n",
    "    i=0   #contador para el ciclo  \n",
    "    tam=len(lpol1)  #tamaño del polipéptido\n",
    "    while i<tam: #entramos al ciclo mientras i sea menor que el tamaño\n",
    "        if lpol1[i]!=lpol2[i]:  #sí la posición i en el polipéptido 1, es diferente a la del 2, sumar 1 al contador\n",
    "            cont=cont+1\n",
    "            i=i+1  #actualizar el contador del ciclo\n",
    "        else:\n",
    "            i=i+1  #de lo contrario, solo actualizar el contador del ciclo\n",
    "    return (cont)\n",
    "distancia_Hamming('SRSLLLRFLMSRSLLLRFLLFLLLLPPLPLFLLLLPPL','SRSLLLRFLSSRSLLLRFLLFLLLLAALALFLLLLSML')"
   ]
  },
  {
   "cell_type": "markdown",
   "metadata": {},
   "source": [
    "7.Dada la tabla de codones estandar, hacer una función para traducir una cadena de DNA empezando desde la posición 1"
   ]
  },
  {
   "cell_type": "code",
   "execution_count": 36,
   "metadata": {},
   "outputs": [
    {
     "name": "stdout",
     "output_type": "stream",
     "text": [
      "['CTT', 'ACC', 'ACA', 'ACG', 'ATC', 'AAC', 'ATA', 'AGG', 'CCT', 'ACT', 'AGC', 'AAG', 'AGA', 'CAT', 'AAT', 'ATT', 'CTG', 'CTA', 'CTC', 'CAC', 'AAA', 'CCG', 'AGT', 'CCA', 'CAA', 'CCC', 'TAG', 'TAT', 'GGT', 'TGT', 'CGA', 'CAG', 'TCT', 'GAT', 'CGG', 'TTT', 'TGC', 'GGG', 'TGA', 'GGA', 'TGG', 'GGC', 'TAC', 'TTC', 'TCG', 'TTA', 'TTG', 'TCC', 'GAA', 'TCA', 'GCA', 'GTA', 'GCC', 'GTC', 'GCG', 'GTG', 'GAG', 'GTT', 'GCT', 'GAC', 'CGT', 'TAA', 'ATG', 'CGC']\n",
      "['Leu', 'Thr', 'Thr', 'Thr', 'Ile', 'Asn', 'Ile', 'Arg', 'Pro', 'Thr', 'Ser', 'Lys', 'Arg', 'His', 'Asn', 'Ile', 'Leu', 'Leu', 'Leu', 'His', 'Lys', 'Pro', 'Ser', 'Pro', 'Gln', 'Pro', 'Stop', 'Tyr', 'Gly', 'Cys', 'Arg', 'Gln', 'Ser', 'Asp', 'Arg', 'Phe', 'Cys', 'Gly', 'Stop', 'Gly', 'Trp', 'Gly', 'Tyr', 'Phe', 'Ser', 'Leu', 'Leu', 'Ser', 'Glu', 'Ser', 'Ala', 'Val', 'Ala', 'Val', 'Ala', 'Val', 'Glu', 'Val', 'Ala', 'Asp', 'Arg', 'Stop', 'Met', 'Arg']\n"
     ]
    }
   ],
   "source": [
    "tabla_codones = {\n",
    "    'TTT':'Phe', 'TTC':'Phe', 'TTA':'Leu','TGA':'Stop',\n",
    "    'TTG':'Leu', 'CTT':'Leu', 'CTC':'Leu', 'CTA':'Leu',\n",
    "    'CTG':'Leu', 'ATT':'Ile', 'ATC':'Ile', 'ATA':'Ile',\n",
    "    'GTT':'Val', 'GTC':'Val', 'GTA':'Val', 'GTG':'Val',\n",
    "    'TCT':'Ser', 'TCC':'Ser', 'TCA':'Ser', 'TCG':'Ser',\n",
    "    'AGT':'Ser', 'AGC':'Ser', 'CCT':'Pro', 'CCC':'Pro',\n",
    "    'CCA':'Pro', 'CCG':'Pro', 'ACT':'Thr', 'ACC':'Thr',\n",
    "    'ACA':'Thr', 'ACG':'Thr', 'GCT':'Ala', 'GCC':'Ala',\n",
    "    'GCA':'Ala', 'GCG':'Ala', 'TAT':'Tyr', 'TAC':'Tyr',\n",
    "    'ATG':'Met', 'CAT':'His', 'CAC':'His', 'CAA':'Gln',\n",
    "    'CAG':'Gln', 'AAT':'Asn', 'AAC':'Asn', 'AAA':'Lys',\n",
    "    'AAG':'Lys', 'GAT':'Asp', 'GAC':'Asp', 'GAA':'Glu',\n",
    "    'GAG':'Glu', 'TGT':'Cys', 'TGC':'Cys', 'TGG':'Trp',\n",
    "    'CGT':'Arg', 'CGC':'Arg', 'CGA':'Arg', 'CGG':'Arg',\n",
    "    'AGA':'Arg', 'AGG':'Arg', 'GGT':'Gly', 'GGC':'Gly',\n",
    "    'GGA':'Gly', 'GGG':'Gly', 'TAA':'Stop', 'TAG':'Stop',\n",
    "    }\n",
    "    \n",
    "print dict.keys(tabla_codones)\n",
    "print dict.values(tabla_codones)\n"
   ]
  },
  {
   "cell_type": "code",
   "execution_count": 37,
   "metadata": {},
   "outputs": [
    {
     "data": {
      "text/plain": [
       "'MetAlaArgMetAsnSerAsnProSerAlaCysHisValCysHisAlaAlaLeuAlaValIleAspAlaCysAsnAsnAsnThrArgAsnSerAsnIleAsnSerStop'"
      ]
     },
     "execution_count": 37,
     "metadata": {},
     "output_type": "execute_result"
    }
   ],
   "source": [
    "def traducir(seq,tabla_codones):\n",
    "    seq=seq    #secuencia problema\n",
    "    protein=''  #contador de aminoácidos\n",
    "    for i in range(0, len(seq),3):  #mientras i se encuentre en el rango de la secuencia, y que va sumando de a 3\n",
    "        key=seq[i:i+3] #sí la clave es igual a la secuencia desde la posición i hasta la i+3, se actualiza la proteina\n",
    "        protein = protein + tabla_codones[key] #se actualiza la proteina con el valor de la clave anterior.\n",
    "    return (protein)\n",
    "traducir('ATGGCGCGTATGAATAGCAATCCGAGCGCATGCCATGTTTGCCATGCGGCTCTGGCGGTCATTGATGCGTGCAATAACAATACCCGTAATAGCAATATCAATAGCTAA',tabla_codones)"
   ]
  },
  {
   "cell_type": "markdown",
   "metadata": {},
   "source": [
    "8. Usando la función anterior, traducir en los 6 frames una cadena de DNA dada. \n"
   ]
  },
  {
   "cell_type": "code",
   "execution_count": 2,
   "metadata": {},
   "outputs": [
    {
     "ename": "TypeError",
     "evalue": "'NoneType' object has no attribute '__getitem__'",
     "output_type": "error",
     "traceback": [
      "\u001b[0;31m---------------------------------------------------------------------------\u001b[0m",
      "\u001b[0;31mTypeError\u001b[0m                                 Traceback (most recent call last)",
      "\u001b[0;32m<ipython-input-2-62332ed40548>\u001b[0m in \u001b[0;36m<module>\u001b[0;34m()\u001b[0m\n\u001b[1;32m     10\u001b[0m \u001b[0;34m\u001b[0m\u001b[0m\n\u001b[1;32m     11\u001b[0m \u001b[0;34m\u001b[0m\u001b[0m\n\u001b[0;32m---> 12\u001b[0;31m \u001b[0mtraducirALL\u001b[0m\u001b[0;34m(\u001b[0m\u001b[0;34m\"ATGGCGCGTATGAATAGCAATCCGAGCGCATGCCATGTTTGCCATGCGGCTCTGGCGGTCATTGATGCGTGCAATAACAATACCCGTAATAGCAATATCAATAGCTAA\"\u001b[0m\u001b[0;34m)\u001b[0m\u001b[0;34m\u001b[0m\u001b[0m\n\u001b[0m\u001b[1;32m     13\u001b[0m \u001b[0;34m\u001b[0m\u001b[0m\n",
      "\u001b[0;32m<ipython-input-2-62332ed40548>\u001b[0m in \u001b[0;36mtraducirALL\u001b[0;34m(seq)\u001b[0m\n\u001b[1;32m      4\u001b[0m     \u001b[0mseq3\u001b[0m\u001b[0;34m=\u001b[0m \u001b[0mlseq\u001b[0m\u001b[0;34m[\u001b[0m\u001b[0;36m2\u001b[0m\u001b[0;34m:\u001b[0m\u001b[0;34m]\u001b[0m\u001b[0;34m\u001b[0m\u001b[0m\n\u001b[1;32m      5\u001b[0m     \u001b[0mseq4\u001b[0m\u001b[0;34m=\u001b[0m \u001b[0mlseq\u001b[0m\u001b[0;34m.\u001b[0m\u001b[0mreverse\u001b[0m\u001b[0;34m(\u001b[0m\u001b[0;34m)\u001b[0m\u001b[0;34m\u001b[0m\u001b[0m\n\u001b[0;32m----> 6\u001b[0;31m     \u001b[0mseq5\u001b[0m\u001b[0;34m=\u001b[0m \u001b[0mseq4\u001b[0m\u001b[0;34m[\u001b[0m\u001b[0;36m1\u001b[0m\u001b[0;34m:\u001b[0m\u001b[0;34m]\u001b[0m\u001b[0;34m\u001b[0m\u001b[0m\n\u001b[0m\u001b[1;32m      7\u001b[0m     \u001b[0mseq6\u001b[0m\u001b[0;34m=\u001b[0m \u001b[0mseq4\u001b[0m\u001b[0;34m[\u001b[0m\u001b[0;36m2\u001b[0m\u001b[0;34m:\u001b[0m\u001b[0;34m]\u001b[0m\u001b[0;34m\u001b[0m\u001b[0m\n\u001b[1;32m      8\u001b[0m     \u001b[0mFrame\u001b[0m\u001b[0;34m=\u001b[0m\u001b[0;34m'1'\u001b[0m\u001b[0;34m+\u001b[0m \u001b[0mtraducir\u001b[0m\u001b[0;34m(\u001b[0m\u001b[0mseq\u001b[0m\u001b[0;34m,\u001b[0m\u001b[0mtabla_codones\u001b[0m\u001b[0;34m)\u001b[0m\u001b[0;34m+\u001b[0m\u001b[0;34m'2'\u001b[0m\u001b[0;34m+\u001b[0m \u001b[0mtraducir\u001b[0m\u001b[0;34m(\u001b[0m\u001b[0mseq2\u001b[0m\u001b[0;34m,\u001b[0m\u001b[0mtabla_codones\u001b[0m\u001b[0;34m)\u001b[0m\u001b[0;34m+\u001b[0m\u001b[0;34m'3'\u001b[0m\u001b[0;34m+\u001b[0m \u001b[0mtraducir\u001b[0m\u001b[0;34m(\u001b[0m\u001b[0mseq3\u001b[0m\u001b[0;34m,\u001b[0m\u001b[0mtabla_codones\u001b[0m\u001b[0;34m)\u001b[0m\u001b[0;34m+\u001b[0m \u001b[0;34m'4'\u001b[0m\u001b[0;34m+\u001b[0m \u001b[0mtraducir\u001b[0m\u001b[0;34m(\u001b[0m\u001b[0mseq4\u001b[0m\u001b[0;34m,\u001b[0m\u001b[0mtabla_codones\u001b[0m\u001b[0;34m)\u001b[0m\u001b[0;34m+\u001b[0m\u001b[0;34m'5'\u001b[0m\u001b[0;34m+\u001b[0m \u001b[0mtraducir\u001b[0m\u001b[0;34m(\u001b[0m\u001b[0mseq5\u001b[0m\u001b[0;34m,\u001b[0m\u001b[0mtabla_codones\u001b[0m\u001b[0;34m)\u001b[0m\u001b[0;34m+\u001b[0m\u001b[0;34m'6'\u001b[0m\u001b[0;34m+\u001b[0m \u001b[0mtraducir\u001b[0m\u001b[0;34m(\u001b[0m\u001b[0mseq6\u001b[0m\u001b[0;34m,\u001b[0m\u001b[0mtabla_codones\u001b[0m\u001b[0;34m)\u001b[0m\u001b[0;34m\u001b[0m\u001b[0m\n",
      "\u001b[0;31mTypeError\u001b[0m: 'NoneType' object has no attribute '__getitem__'"
     ]
    }
   ],
   "source": [
    "def traducirALL(seq):\n",
    "    lseq=list(seq)\n",
    "    seq2= lseq[1:]\n",
    "    seq3= lseq[2:]\n",
    "    seq4= lseq.reverse()\n",
    "    seq5= seq4[1:]\n",
    "    seq6= seq4[2:]\n",
    "    Frame='1'+ traducir(seq,tabla_codones)+'2'+ traducir(seq2,tabla_codones)+'3'+ traducir(seq3,tabla_codones)+ '4'+ traducir(seq4,tabla_codones)+'5'+ traducir(seq5,tabla_codones)+'6'+ traducir(seq6,tabla_codones)\n",
    "    return Frame\n",
    "\n",
    "traducirALL(\"ATGGCGCGTATGAATAGCAATCCGAGCGCATGCCATGTTTGCCATGCGGCTCTGGCGGTCATTGATGCGTGCAATAACAATACCCGTAATAGCAATATCAATAGCTAA\")\n",
    "\n"
   ]
  },
  {
   "cell_type": "markdown",
   "metadata": {},
   "source": [
    "9a. Utilizando la librería numpy, creár una matríz y cargar los datos de la tabla e imprimirla. "
   ]
  },
  {
   "cell_type": "code",
   "execution_count": 6,
   "metadata": {},
   "outputs": [
    {
     "name": "stdout",
     "output_type": "stream",
     "text": [
      "<type 'numpy.ndarray'>\n",
      "(15, 6)\n",
      "[[6.754049e+04 7.092409e+04 8.024376e+04 3.501200e+03 5.697470e+03\n",
      "  2.426720e+03]\n",
      " [8.119300e+02 8.013600e+02 7.407100e+02 1.286700e+02 1.044200e+02\n",
      "  1.013300e+02]\n",
      " [1.904100e+02 2.110600e+02 2.361900e+02 9.050000e+00 2.333000e+01\n",
      "  8.440000e+00]\n",
      " [6.677000e+01 5.756000e+01 1.010900e+02 7.509000e+02 6.598400e+02\n",
      "  4.918900e+02]\n",
      " [3.300000e+00 1.129000e+01 1.890000e+00 7.358200e+02 8.164600e+02\n",
      "  1.182200e+02]\n",
      " [4.534000e+01 3.612000e+01 5.102000e+01 2.452700e+02 3.721300e+02\n",
      "  3.356700e+02]\n",
      " [1.030400e+02 3.702100e+02 2.002900e+02 1.709000e+01 1.333000e+01\n",
      "  8.440000e+00]\n",
      " [7.708780e+03 6.976380e+03 6.569040e+03 1.731000e+03 1.641810e+03\n",
      "  1.853550e+03]\n",
      " [3.132000e+01 1.016000e+01 2.456000e+01 2.683900e+02 1.866200e+02\n",
      "  1.351100e+02]\n",
      " [3.132000e+01 2.483000e+01 1.984000e+01 3.236800e+02 4.287800e+02\n",
      "  1.161100e+02]\n",
      " [4.781000e+01 8.917000e+01 7.086000e+01 3.709300e+02 3.787900e+02\n",
      "  2.799200e+02]\n",
      " [7.039500e+02 6.896200e+02 6.622900e+02 2.141100e+02 1.688500e+02\n",
      "  1.446100e+02]\n",
      " [2.225600e+02 3.397300e+02 2.267500e+02 3.016000e+01 6.332000e+01\n",
      "  2.639000e+01]\n",
      " [1.236000e+01 1.129000e+01 8.500000e+00 9.751000e+01 7.776000e+01\n",
      "  7.178000e+01]\n",
      " [2.061309e+04 2.521813e+04 3.154046e+04 5.209070e+03 7.680300e+03\n",
      "  6.312200e+03]]\n"
     ]
    }
   ],
   "source": [
    "import numpy as np\n",
    "from numpy import matrix\n",
    "\n",
    "expression=np.array([[67540.49, 70924.09, 80243.76, 3501.2 , 5697.47, 2426.72],\n",
    "                   [811.93  , 801.36  , 740.71  , 128.67 , 104.42 , 101.33 ],\n",
    "                   [190.41  , 211.06  , 236.19  , 9.05   , 23.33  , 8.44   ],\n",
    "                   [66.77   , 57.56   , 101.09  , 750.9  , 659.84 , 491.89 ],\n",
    "                   [3.3     , 11.29   , 1.89    , 735.82 , 816.46 , 118.22 ],\n",
    "                   [45.34   , 36.12   , 51.02   , 245.27 , 372.13 , 335.67 ],\n",
    "                   [103.04  , 370.21  , 200.29  , 17.09  , 13.33  , 8.44   ],\n",
    "                   [7708.78 , 6976.38 , 6569.04 , 1731.0 , 1641.81, 1853.55],\n",
    "                   [31.32   , 10.16   , 24.56   , 268.39 , 186.62 , 135.11 ],\n",
    "                   [31.32   , 24.83   , 19.84   , 323.68 , 428.78 , 116.11 ],\n",
    "                   [47.81   , 89.17   , 70.86   , 370.93 , 378.79 , 279.92 ],\n",
    "                   [703.95  , 689.62  , 662.29  , 214.11 , 168.85 , 144.61 ],\n",
    "                   [222.56  , 339.73  , 226.75  , 30.16  , 63.32  , 26.39  ],\n",
    "                   [12.36   , 11.29   , 8.5     , 97.51  , 77.76  , 71.78  ],\n",
    "                   [20613.09, 25218.13, 31540.46, 5209.07, 7680.3 , 6312.2 ]])\n",
    "\n",
    "\n",
    "print (type(expression))\n",
    "print (expression.shape)\n",
    "print expression         "
   ]
  },
  {
   "cell_type": "markdown",
   "metadata": {},
   "source": [
    "9b. Realizar una función que promedie, usando las tres réplicas, la expresión de cada gen por tratamiento. "
   ]
  },
  {
   "cell_type": "code",
   "execution_count": 6,
   "metadata": {},
   "outputs": [
    {
     "ename": "SyntaxError",
     "evalue": "invalid syntax (<ipython-input-6-2fe0d8cedb38>, line 24)",
     "output_type": "error",
     "traceback": [
      "\u001b[0;36m  File \u001b[0;32m\"<ipython-input-6-2fe0d8cedb38>\"\u001b[0;36m, line \u001b[0;32m24\u001b[0m\n\u001b[0;31m    expresiongenT(expression)\u001b[0m\n\u001b[0m                ^\u001b[0m\n\u001b[0;31mSyntaxError\u001b[0m\u001b[0;31m:\u001b[0m invalid syntax\n"
     ]
    }
   ],
   "source": [
    "import numpy as np\n",
    "\n",
    "def expresiongenT(expression):\n",
    "    mediasexpNM_007818=np.mean(expression[0][3:6])\n",
    "    mediasexpNM_001105160=np.mean(expression[1][3:6])\n",
    "    mediasexpNM_028089=np.mean(expression[2][3:6])\n",
    "    mediasexpNM_016696=np.mean(expression[3][3:6])\n",
    "    mediasexpNM_013459=np.mean(expression[4][3:6])\n",
    "    mediasexpNM_0007809=np.mean(expression[5][3:6])\n",
    "    mediasexpNM_009999=np.mean(expression[6][3:6])\n",
    "    mediasexpNM_133960=np.mean(expression[7][3:6])\n",
    "    mediasexpNM_027881=np.mean(expression[8][3:6])\n",
    "    mediasexpNM_054053=np.mean(expression[9][3:6])\n",
    "    mediasexpNM_007377=np.mean(expression[10][3:6])\n",
    "    mediasexpNM_028064=np.mean(expression[11][3:6])\n",
    "    mediasexpNM_008182=np.mean(expression[12][3:6])\n",
    "    mediasexpNM_013661=np.mean(expression[13][3:6])\n",
    "    mediasexpNM_007815=np.mean(expression[14][3:6])\n",
    "    \n",
    "    return ( (mediasexpNM_007818),(mediasexpNM_001105160), (mediasexpNM_028089), (mediasexpNM_016696) , (mediasexpNM_013459) , (mediasexpNM_0007809), (mediasexpNM_009999)\n",
    "     (mediasexpNM_133960), (mediasexpNM_027881), (mediasexpNM_054053), (mediasexpNM_007377), (mediasexpNM_028064) , (mediasexpNM_008182), (mediasexpNM_013661), (mediasexpNM_007815) \n",
    "    \n",
    "    \n",
    "expresiongenT(expression)\n",
    "\n"
   ]
  }
 ],
 "metadata": {
  "kernelspec": {
   "display_name": "Python 2",
   "language": "python",
   "name": "python2"
  },
  "language_info": {
   "codemirror_mode": {
    "name": "ipython",
    "version": 2
   },
   "file_extension": ".py",
   "mimetype": "text/x-python",
   "name": "python",
   "nbconvert_exporter": "python",
   "pygments_lexer": "ipython2",
   "version": "2.7.15"
  }
 },
 "nbformat": 4,
 "nbformat_minor": 2
}
