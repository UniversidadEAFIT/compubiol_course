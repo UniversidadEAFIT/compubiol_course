{
 "cells": [
  {
   "cell_type": "markdown",
   "metadata": {},
   "source": [
    "# Taller 2 - Python\n",
    "## Fundamentos en Biología Computacional\n",
    "## 2019-1, Prof. Javier Correa\n",
    "Nota: Se calificará que el código sea lo más simple, claro, original y eficiente. No usar funciones no realizadas por ustedes mismos."
   ]
  },
  {
   "cell_type": "markdown",
   "metadata": {},
   "source": [
    "1. Realice un función para expresar cualquier número entero en su conotación factorial. <br>\n",
    "Ejemplo: factorial(4)<br>\n",
    "Out: 24"
   ]
  },
  {
   "cell_type": "code",
   "execution_count": 9,
   "metadata": {},
   "outputs": [
    {
     "data": {
      "text/plain": [
       "3628800"
      ]
     },
     "execution_count": 9,
     "metadata": {},
     "output_type": "execute_result"
    }
   ],
   "source": [
    "def Factorial(n): \n",
    "    i = 1\n",
    "    factorial = n\n",
    "    while i < n:\n",
    "        factorial = factorial * i\n",
    "        i = i + 1\n",
    "    return factorial\n",
    "Factorial(10)"
   ]
  },
  {
   "cell_type": "code",
   "execution_count": null,
   "metadata": {},
   "outputs": [],
   "source": []
  },
  {
   "cell_type": "markdown",
   "metadata": {},
   "source": [
    "2. Realice un función para expresar la potencia de cualquier número. La función recibe como parámetros la base y el exponencial. <br>\n",
    "Ejemplo: potencia(4,2)<br>\n",
    "Out: 16"
   ]
  },
  {
   "cell_type": "code",
   "execution_count": 26,
   "metadata": {},
   "outputs": [
    {
     "data": {
      "text/plain": [
       "10000000000"
      ]
     },
     "execution_count": 26,
     "metadata": {},
     "output_type": "execute_result"
    }
   ],
   "source": [
    "def Pot(bas,exp):\n",
    "    x=bas\n",
    "    y=exp\n",
    "    return bas**exp\n",
    "Pot(10,10)"
   ]
  },
  {
   "cell_type": "code",
   "execution_count": null,
   "metadata": {},
   "outputs": [],
   "source": []
  },
  {
   "cell_type": "markdown",
   "metadata": {},
   "source": [
    "3. Utilizando las dos funciones anteriormente definidas (factorial y potencia), realice un función para expresar el Coseno de un entero. <br>\n",
    "Ejemplo: coseno(5)<br>\n",
    "Out: 0.996194698"
   ]
  },
  {
   "cell_type": "code",
   "execution_count": 66,
   "metadata": {},
   "outputs": [
    {
     "data": {
      "text/plain": [
       "0.9912733576063522"
      ]
     },
     "execution_count": 66,
     "metadata": {},
     "output_type": "execute_result"
    }
   ],
   "source": [
    "import math\n",
    "def Factorial(n): \n",
    "    i = 1\n",
    "    factorial = n\n",
    "    while i < n:\n",
    "        factorial = factorial * i\n",
    "        i = i + 1\n",
    "    return factorial\n",
    "def Pot(bas,exp):\n",
    "    x=bas\n",
    "    y=exp\n",
    "    return bas**exp\n",
    "\n",
    "def coseno(x):\n",
    "    x= x*(math.pi/180)\n",
    "    i=2\n",
    "    neg=0\n",
    "    j=4\n",
    "    pos=0\n",
    "    result=0\n",
    "    while i<150:\n",
    "        neg=neg-(Pot(x,1)/Factorial(i))\n",
    "        i+=4\n",
    "        while j<150:\n",
    "            pos=pos+(Pot(x,j)/Factorial(j))\n",
    "            j+=4\n",
    "            result= 1+neg+pos\n",
    "            return result \n",
    "coseno(1)"
   ]
  },
  {
   "cell_type": "code",
   "execution_count": null,
   "metadata": {},
   "outputs": [],
   "source": []
  },
  {
   "cell_type": "markdown",
   "metadata": {},
   "source": [
    "4. Dadas las cantidades de individuos con los genótipos AA, AB y BB. Calcular la frecuencia de los alelos A y B <br>\n",
    "Ejemplo: FrecuenciaAlelos(12,4,4) <br>\n",
    "Out: (0.7, 0.3)"
   ]
  },
  {
   "cell_type": "code",
   "execution_count": 67,
   "metadata": {},
   "outputs": [
    {
     "data": {
      "text/plain": [
       "[0.7, 0.30000000000000004]"
      ]
     },
     "execution_count": 67,
     "metadata": {},
     "output_type": "execute_result"
    }
   ],
   "source": [
    "def Alelos(A,B,C):\n",
    "    D=A+B+C\n",
    "    X=(A/D)+(B/D)*1/2\n",
    "    Y=(B/D)+(B/D)*1/2\n",
    "    P=[X,Y]\n",
    "    return P\n",
    "Alelos(12,4,4)"
   ]
  },
  {
   "cell_type": "code",
   "execution_count": null,
   "metadata": {},
   "outputs": [],
   "source": []
  },
  {
   "cell_type": "markdown",
   "metadata": {},
   "source": [
    "5. Dada una cadena de DNA retornar una de (-) RNA en sentido 5'-> 3' <br>\n",
    "Ejemplo: DNA_to_RNA(\"TCTCTACTCATGTCTGCA\")<br>\n",
    "Out: GUACUCACGUCUGCUCUC"
   ]
  },
  {
   "cell_type": "code",
   "execution_count": 75,
   "metadata": {},
   "outputs": [
    {
     "data": {
      "text/plain": [
       "'GUACUCACGUCUGCUCUC'"
      ]
     },
     "execution_count": 75,
     "metadata": {},
     "output_type": "execute_result"
    }
   ],
   "source": [
    "def Trans(Seq):\n",
    "    sustitución = \"\"\n",
    "    for X in Seq:\n",
    "        if(X == \"T\"):\n",
    "            sustitución += \"C\"\n",
    "        if(X ==\"A\"):\n",
    "            sustitución +=\"G\"\n",
    "        if(X == \"C\"):\n",
    "            sustitución +=\"U\"\n",
    "        if(X == \"G\"):\n",
    "            sustitución +=\"A\"\n",
    "\n",
    "    return sustitución [::-1]\n",
    "Trans(\"TCTCTACTCATGTCTGCA\")"
   ]
  },
  {
   "cell_type": "code",
   "execution_count": null,
   "metadata": {},
   "outputs": [],
   "source": []
  },
  {
   "cell_type": "markdown",
   "metadata": {},
   "source": [
    "6. Realizar una función que calcule la Temperatura de Melting Promedio de un par de primers de DNA en grados Celcius. Teniendo en cuenta que; en un oligonucleótido < de 14 nucleótidos, la Tm se calcula multiplicando la cantidad de G+C por 4 y las A+T por 2. Mientras que, si es >= de 14 nt, se debe aplicar la siguiente fórmula (64.9 + 41 * (totalG+C -16.4) / Tamaño sel oligo). <br>\n",
    "Ejemplo: tempromelt(TCTCTACTCATGTCTGCA, TCGCGTGCACGTG)<br>\n",
    "Out: 44.88333333333334"
   ]
  },
  {
   "cell_type": "code",
   "execution_count": 78,
   "metadata": {},
   "outputs": [],
   "source": [
    "def Tfusión(secuencia):\n",
    "    sumaAT=0  \n",
    "    sumaGC=0   \n",
    "    lsecuencia=list(secuencia)  \n",
    "    tem=len(secuencia)  \n",
    "    X=0          \n",
    "    cond1=64.9      \n",
    "    cond2=41        \n",
    "    cond3=16.4      \n",
    "    cond=14       \n",
    "    if tem<cond:  \n",
    "        while X<tem: \n",
    "            if lsecuencia[X]== 'G' or 'C':  \n",
    "                sumaGC==sumaGC+1\n",
    "                X==X+1\n",
    "            else:\n",
    "                sumaAT==sumaAT+1   \n",
    "                X==X+1\n",
    "        return (sumaGC*4)+(sumaAT*2) \n",
    "    else:               \n",
    "        while X<tem:   \n",
    "            if lsecuencia[X]== 'G' or 'C': \n",
    "                sumaGC==sumaGC+1\n",
    "                X=X+1  \n",
    "            else:\n",
    "                X=X+1\n",
    "        return (cond1+cond2*(sumaGC-cond3)/tem)\n",
    "    \n",
    "    Tfusión(\"TCTCTACTCATGTCTGCA, TCGCGTGCACGTG\")"
   ]
  },
  {
   "cell_type": "code",
   "execution_count": 46,
   "metadata": {},
   "outputs": [
    {
     "data": {
      "text/plain": [
       "44.52424242424243"
      ]
     },
     "execution_count": 46,
     "metadata": {},
     "output_type": "execute_result"
    }
   ],
   "source": []
  },
  {
   "cell_type": "code",
   "execution_count": null,
   "metadata": {},
   "outputs": [],
   "source": []
  },
  {
   "cell_type": "markdown",
   "metadata": {},
   "source": [
    "7. Hallar la distancia Hamming entre dos secuencias dadas de polipéptidos. <br>\n",
    "link: https://es.wikipedia.org/wiki/Distancia_de_Hamming <br>\n",
    "Ejemplo: distancia_Hamming(\"SRSLLLRFLMSRSLLLRFLLFLLLLPPLPLFLLLLPPL\",\"SRSLLLRFLSSRSLLLRFLLFLLLLAALALFLLLLSML\")<br>\n",
    "Out:6"
   ]
  },
  {
   "cell_type": "code",
   "execution_count": 79,
   "metadata": {},
   "outputs": [],
   "source": [
    "def compararpolipéptidos (seq1, seq2):\n",
    "    X = 0\n",
    "    longitud = len (seq1)\n",
    "    for i in range (longitud):\n",
    "        if seq1 [i] != seq2[i]:\n",
    "            X =X + 1\n",
    "    return X"
   ]
  },
  {
   "cell_type": "code",
   "execution_count": 19,
   "metadata": {},
   "outputs": [
    {
     "data": {
      "text/plain": [
       "6"
      ]
     },
     "execution_count": 19,
     "metadata": {},
     "output_type": "execute_result"
    }
   ],
   "source": [
    "compararpolipéptidos(\"SRSLLLRFLMSRSLLLRFLLFLLLLPPLPLFLLLLPPL\",\"SRSLLLRFLSSRSLLLRFLLFLLLLAALALFLLLLSML\")"
   ]
  },
  {
   "cell_type": "markdown",
   "metadata": {},
   "source": [
    "8. Dada la tabla de codones estandar, hacer una función para traducir una cadena de DNA empezando desde la posición 1 <br>\n",
    "Ejemplo: traducir(\"ATGGCGCGTATGAATAGCAATCCGAGCGCATGCCATGTTTGCCATGCGGCTCTGGCGGTCATTGATGCGTGCAATAACAATACCCGTAATAGCAATATCAATAGCTAA\")<br>\n",
    "Out: Met A R Met N S N P S A C H V C H A A L A V I D A C N N N T R N S N I N S Stop"
   ]
  },
  {
   "cell_type": "code",
   "execution_count": 80,
   "metadata": {},
   "outputs": [],
   "source": [
    "def traducir(seq):\n",
    "    codonesamino= {\n",
    "    'ATA':'I', 'ATC':'I', 'ATT':'I', 'CTT':'L',#Tomada de https://es.scribd.com/document/72871951/Tabla-de-Codones\n",
    "    'ACA':'T', 'ACC':'T', 'ACG':'T', 'ACT':'T',\n",
    "    'AAC':'N', 'AAT':'N', 'AAA':'K', 'AAG':'K',\n",
    "    'AGC':'S', 'AGT':'S', 'AGA':'R', 'AGG':'R',\n",
    "    'CTA':'L', 'CTC':'L', 'CTG':'L', 'ATG':'Met',\n",
    "    'CCA':'P', 'CCC':'P', 'CCG':'P', 'CCT':'P',\n",
    "    'CAC':'H', 'CAT':'H', 'CAA':'Q', 'CAG':'Q',\n",
    "    'CGA':'R', 'CGC':'R', 'CGG':'R', 'CGT':'R',\n",
    "    'GTA':'V', 'GTC':'V', 'GTG':'V', 'GTT':'V',\n",
    "    'GCA':'A', 'GCC':'A', 'GCG':'A', 'GCT':'A',\n",
    "    'GAC':'D', 'GAT':'D', 'GAA':'E', 'GAG':'E',\n",
    "    'GGA':'G', 'GGC':'G', 'GGG':'G', 'GGT':'G',\n",
    "    'TCA':'S', 'TCC':'S', 'TCG':'S', 'TCT':'S',\n",
    "    'TTC':'F', 'TTT':'F', 'TTA':'L', 'TTG':'L',\n",
    "    'TAC':'Y', 'TAT':'Y', 'TAA':'Stop', 'TAG':'Stop',\n",
    "    'TGC':'C', 'TGT':'C', 'TGA':'Stop', 'TGG':'W',}\n",
    "    \n",
    "   \n",
    "    aminoacido = \"\"\n",
    "    if len(seq)%3 == 0:\n",
    "        for i in range(0, len(seq), 3):\n",
    "            codon = seq[i : i+3]\n",
    "            aminoacido += codonesamino[codon]\n",
    "    return aminoacido\n",
    "\n"
   ]
  },
  {
   "cell_type": "code",
   "execution_count": 81,
   "metadata": {},
   "outputs": [
    {
     "data": {
      "text/plain": [
       "'MetARMetNSNPSACHVCHAALAVIDACNNNTRNSNINSStop'"
      ]
     },
     "execution_count": 81,
     "metadata": {},
     "output_type": "execute_result"
    }
   ],
   "source": [
    "traducir(\"ATGGCGCGTATGAATAGCAATCCGAGCGCATGCCATGTTTGCCATGCGGCTCTGGCGGTCATTGATGCGTGCAATAACAATACCCGTAATAGCAATATCAATAGCTAA\")"
   ]
  },
  {
   "cell_type": "markdown",
   "metadata": {},
   "source": [
    "9. Usando la función anterior, traducir la secuencia de DNA dada en los 6 frames posibles para producir un polipéptido.\n",
    "Ejemplo: traducirALL(\"ATGGCGCGTATGAATAGCAATCCGAGCGCATGCCATGTTTGCCATGCGGCTCTGGCGGTCATTGATGCGTGCAATAACAATACCCGTAATAGCAATATCAATAGCTAA\")<br>\n",
    "Out: (Frame1:Met A R Met N S N P S A C H V C H A A L A V I D A C N N N T R N S N I N S Stop, Frame2:W R V Stop I A I R A H A Met F A Met R L W R S L Met R A I T I P V I A I S I A, Frame3:G A Y E Stop Q S E R Met P C L P C G S G G H Stop C V Q Stop Q Y P Stop Stop Q Y Q Stop L, Frame4:L A I D I A I T G I V I A R I N D R Q S R Met A N Met A C A R I A I H T R H, Frame5:Stop L L I L L L R V L L L H A S Met T A R A A W Q T W H A L G L L F I R A, Frame6:S Y Stop Y C Y Y G Y C Y C T H Q Stop P P E P H G K H G Met R S D C Y S Y A P)"
   ]
  },
  {
   "cell_type": "code",
   "execution_count": 115,
   "metadata": {},
   "outputs": [],
   "source": [
    "def DNAtocmDNA (cadenaDNA):\n",
    "    o = 0\n",
    "    ARN = ''\n",
    "    for o in range (0,len(cadenaDNA)):\n",
    "        S=cadenaDNA[o]\n",
    "        if S=='A':\n",
    "            ARN=ARN+'T'\n",
    "        if S=='C':\n",
    "            ARN=ARN+'G'\n",
    "        if S=='G':\n",
    "            ARN=ARN+'C'\n",
    "        if S=='T':\n",
    "            ARN=ARN+'A'\n",
    "    return ARN"
   ]
  },
  {
   "cell_type": "markdown",
   "metadata": {},
   "source": [
    "DNAtocmDNA(\"ATGGCGCGTATGAATAGCAATCCGAGCGCATGCCATGTTTGCCATGCGGCTCTGGCGGTCATTGATGCGTGCAATAACAATACCCGTAATAGCAATATCAATAGCTAA\")"
   ]
  },
  {
   "cell_type": "code",
   "execution_count": null,
   "metadata": {},
   "outputs": [],
   "source": []
  },
  {
   "cell_type": "code",
   "execution_count": 119,
   "metadata": {},
   "outputs": [
    {
     "data": {
      "text/plain": [
       "'1:MetARMetNSNPSACHVCHAALAVIDACNNNTRNSNINSStop2:3:4:LAIDIAITGIVIARINDRQSRMetANMetACARIAIHTRH5:6:'"
      ]
     },
     "execution_count": 119,
     "metadata": {},
     "output_type": "execute_result"
    }
   ],
   "source": [
    "def frames (sec): \n",
    "    ADNv = sec[::-1]\n",
    "    return ((\"1:\" + traducir(sec)) + (\"2:\" + traducir(sec[1:])) + (\"3:\" + traducir(sec[2:]))) + ((\"4:\"+ traducir(DNAtocmDNA(ADNv)))) + (\"5:\" + traducir(DNAtocmDNA(ADNv[1:]))) + (\"6:\" + traducir(DNAtocmDNA(ADNv[2:])))\n",
    "frames (\"ATGGCGCGTATGAATAGCAATCCGAGCGCATGCCATGTTTGCCATGCGGCTCTGGCGGTCATTGATGCGTGCAATAACAATACCCGTAATAGCAATATCAATAGCTAA\")"
   ]
  },
  {
   "cell_type": "markdown",
   "metadata": {},
   "source": [
    "10. Su código genético es esencialmente el mismo desde que nace hasta que muere, y el mismo en su sangre y su cerebro. Los genes que se activan y desactivan marcan la diferencia entre las células. Esta regulación de los genes está orquestada por un mecanismo inmensamente complejo, que solo hemos empezado a comprender. Una parte central de este mecanismo consiste en moléculas llamadas factores de transcripción que se adhieren al ADN, y al hacerlo, activan o desactivan los genes cercanos. Estas moléculas se unen preferentemente a secuencias específicas de ADN, y este patrón de preferencia de unión puede representarse mediante una tabla de frecuencias de símbolos dados en cada posición del patrón. Más precisamente, cada fila en la tabla corresponde a las bases A, C, G y T, mientras que la columna j refleja cuántas veces aparece la base en la posición j en la secuencia del ADN.\n",
    "\n",
    "    Por ejemplo; si nuestro conjunto de secuencias de ADN son TAG, GGT y GGG, la tabla se convierte en\n",
    "\n",
    "\n",
    "|base|\t0|\t1|\t2|\n",
    "|----|---|---|---|\n",
    "|A\t|0\t|1\t|0  |\n",
    "|C\t|0\t|0\t|0  |\n",
    "|G \t|2\t|2\t|2  |\n",
    "|T\t|1\t|0\t|1  |\n",
    "\n",
    "De esta tabla podemos leer que la base A aparece una vez en el índice 1 en las cadenas de ADN, la base C no aparece en absoluto, la base G aparece dos veces en todas las posiciones y la base T aparece una vez al principio y al final de las cadenas.\n",
    "\n",
    "a. Dada una lista de Strings con motivos de 4 nucleótidos, construir una matriz de frecuencias para las posiciones de los 4 nucleótidos. \n",
    "\n",
    "Ejemplo:<br>\n",
    "listamotivos =[\"ACTG\", \"CCAG\", \"AGAG\", \"CGTA\"]<br>\n",
    "MatrizFrecuencia(listamotivos)<br>\n",
    "Out: [[2, 0, 2, 1]<br>\n",
    " [2, 2, 0, 0]<br>\n",
    " [0, 2, 0, 3]<br>\n",
    " [0, 0, 2, 0]]<br>\n",
    " \n",
    "b. Realizar una función que retorne el nucleótido que más frecuencia obtuvo por posición. Si tienen la misma frecuecia retornar los valores iguales. <br>\n",
    "Ejemplo:<br>\n",
    "FrecuenciaMayorNt(MatrizFrecuencia(listamotivos))<br>\n",
    "Out: [[A:0.5, C:0.5],<br>\n",
    "[C:0.5,G:0.5],<br>\n",
    "[A:0.5,T:0.5],<br>\n",
    "[G:0.75]]<br>"
   ]
  },
  {
   "cell_type": "code",
   "execution_count": 104,
   "metadata": {},
   "outputs": [
    {
     "data": {
      "text/plain": [
       "[[2, 0, 2, 1], [2, 2, 0, 0], [0, 2, 0, 3], [0, 0, 2, 0]]"
      ]
     },
     "execution_count": 104,
     "metadata": {},
     "output_type": "execute_result"
    }
   ],
   "source": [
    "def numerodebases (lista):\n",
    "    A = [0]*len(lista[0])\n",
    "    T = [0]*len(lista[0])\n",
    "    C = [0]*len(lista[0])\n",
    "    G = [0]*len(lista[0])\n",
    "    for j in range (len(lista[0])):\n",
    "        As = 0\n",
    "        Ts = 0\n",
    "        Gs = 0\n",
    "        Cs = 0\n",
    "        for i in range (len(lista)):\n",
    "            if lista[i][j] == 'A':\n",
    "                As = As + 1\n",
    "            elif lista[i][j] == 'T':\n",
    "                Ts = Ts + 1\n",
    "            elif lista[i][j] == 'G':\n",
    "                Gs = Gs + 1\n",
    "            elif lista[i][j] == 'C':\n",
    "                Cs = Cs + 1\n",
    "        A[j] = As\n",
    "        C[j] = Cs\n",
    "        G[j] = Gs\n",
    "        T[j] = Ts\n",
    "\n",
    "    resultado = [A, C, G, T]\n",
    "    return(resultado)\n",
    "\n",
    "numerodebases([\"ACTG\", \"CCAG\", \"AGAG\", \"CGTA\"])\n"
   ]
  },
  {
   "cell_type": "code",
   "execution_count": 105,
   "metadata": {},
   "outputs": [
    {
     "name": "stdout",
     "output_type": "stream",
     "text": [
      "(['A', 'C', '0', '0'], [0.5, 0.5])\n",
      "(['0', 'C', 'G', '0'], [0.5, 0.5])\n",
      "(['A', '0', '0', 'T'], [0.5, 0.5])\n",
      "(['0', '0', 'G', '0'], [0.75])\n"
     ]
    }
   ],
   "source": [
    "def freqxpos (lista, posicion):\n",
    "    numerobases = numerodebases([\"ACTG\", \"CCAG\", \"AGAG\", \"CGTA\"])\n",
    "    freq = [0]*len(numerobases[0])\n",
    "    for i in range (len(numerobases[0])):\n",
    "        freq[i] = numerobases[i][posicion]/len(numerobases[0])\n",
    "        \n",
    "    return(freq)\n",
    "\n",
    "def freqrelmayor (lista, posicion):\n",
    "    freqpos = freqxpos(lista,posicion) \n",
    "    mayor  = max(freqpos)\n",
    "    tamano = 0\n",
    "    for i in range (len(freqpos)):\n",
    "        if freqpos[i] == mayor:\n",
    "            tamano = tamano+1\n",
    "    posmayores = [0]*len(freqpos)\n",
    "    lista = [0]*tamano\n",
    "    for i in range (len(freqpos)):\n",
    "        if freqpos[i] == mayor:\n",
    "            for j in range (tamano):\n",
    "                posmayores[i] = i+1\n",
    "                lista[j] = freqpos[i]\n",
    "                \n",
    "                \n",
    "    return(posmayores,lista)\n",
    "        \n",
    "\n",
    "def final (lista, posicion):\n",
    "    x = freqrelmayor(lista, posicion)\n",
    "    for w in range (4):\n",
    "        if x[0][w] == 1:\n",
    "            x[0][w] = 'A'\n",
    "        elif x[0][w] == 2:\n",
    "            x[0][w] = 'C'\n",
    "        elif x[0][w] == 3:\n",
    "            x[0][w] = 'G'\n",
    "        elif x[0][w] == 4:\n",
    "            x[0][w] = 'T'\n",
    "    for w in range (4):\n",
    "        x[0][w] = str(x[0][w])\n",
    "    return(x)\n",
    "\n",
    "final([\"ACTG\", \"CCAG\", \"AGAG\", \"CGTA\"],0)\n",
    "\n",
    "for m in range (4):\n",
    "    print(final([\"ACTG\", \"CCAG\", \"AGAG\", \"CGTA\"],m))"
   ]
  },
  {
   "cell_type": "code",
   "execution_count": null,
   "metadata": {},
   "outputs": [],
   "source": []
  }
 ],
 "metadata": {
  "kernelspec": {
   "display_name": "Python 3",
   "language": "python",
   "name": "python3"
  },
  "language_info": {
   "codemirror_mode": {
    "name": "ipython",
    "version": 3
   },
   "file_extension": ".py",
   "mimetype": "text/x-python",
   "name": "python",
   "nbconvert_exporter": "python",
   "pygments_lexer": "ipython3",
   "version": "3.7.1"
  }
 },
 "nbformat": 4,
 "nbformat_minor": 2
}
