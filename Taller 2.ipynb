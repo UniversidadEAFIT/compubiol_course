{
 "cells": [
  {
   "cell_type": "markdown",
   "metadata": {},
   "source": [
    "## Tarea 2 Fundamentos en Biología Computacional\n",
    "## Por: Laura Pulido\n",
    "### 2018-02-20"
   ]
  },
  {
   "cell_type": "code",
   "execution_count": 1,
   "metadata": {},
   "outputs": [],
   "source": [
    "import os\n",
    "import Bio\n",
    "from Bio import SeqIO"
   ]
  },
  {
   "cell_type": "markdown",
   "metadata": {},
   "source": [
    "### Creación de una carpeta con el nombre Tarea2\n",
    "Con el comando pwd se verifica el path abosoluto del directorio actual. Posteriormete, con el comando ls se demuestra que en la ubicación actual no existe ningun folder con el nombre Tarea2. De esta manera, el comando mkdir permite crear una nueva carpeta con el nombre Tarea 2.\n",
    "\n",
    "Con en fin de ubicar las secuencias fasta en esta nueva carpeta, se utiliza en comando cd para cambiar de directorio y nuevamente se verifica la nueva ubicacion con el comando pwd."
   ]
  },
  {
   "cell_type": "code",
   "execution_count": 2,
   "metadata": {
    "scrolled": true
   },
   "outputs": [
    {
     "name": "stdout",
     "output_type": "stream",
     "text": [
      "/c/Users/lauramaria/Biologia_computacional/Talleres\n",
      "Taller 2.ipynb\n",
      "/c/Users/lauramaria/Biologia_computacional/Talleres/Tarea2\n"
     ]
    }
   ],
   "source": [
    "%%bash\n",
    "pwd\n",
    "ls\n",
    "mkdir Tarea2\n",
    "cd Tarea2\n",
    "pwd"
   ]
  },
  {
   "cell_type": "markdown",
   "metadata": {},
   "source": [
    "### bajar los archivos .fasta con códigos GenBank EU862232, EU862233,EU856393, EU856392 y EU856394\n",
    "\n",
    "En la siguiente celda, se utiliza el modulo biopython para descargar las secuencias fasta del genbank con los codigos de identificación especificados. Para este propósito, se creó una lista de strings que contiene los codigos, y mediante un ciclo for, se itera cada elemento de la lista para descargar cada archivo en formato fasta, y luego se guarda en un archivo del mismo formato."
   ]
  },
  {
   "cell_type": "code",
   "execution_count": 3,
   "metadata": {},
   "outputs": [],
   "source": [
    "os.chdir('C:/Users/lauramaria/Biologia_computacional/Talleres/Tarea2')\n",
    "from Bio import Entrez\n",
    "from Bio import SeqIO\n",
    "\n",
    "lista_id = ['EU862232','EU856393','EU856392','EU856394','EU862233']\n",
    "Entrez.email = \"laurispulido96@gmail.com\"\n",
    "for item in lista_id:\n",
    "    with Entrez.efetch(db=\"nucleotide\", rettype=\"fasta\", retmode=\"text\", id=item) as handle:\n",
    "        out_file = item+'.fasta'\n",
    "        seq_record = SeqIO.read(handle, \"fasta\")\n",
    "        SeqIO.write(seq_record, out_file, \"fasta\")\n",
    "    "
   ]
  },
  {
   "cell_type": "markdown",
   "metadata": {},
   "source": [
    "### Examinar el tamaño de los archivos de la carpeta (en Kbytes)."
   ]
  },
  {
   "cell_type": "code",
   "execution_count": 4,
   "metadata": {
    "scrolled": true
   },
   "outputs": [
    {
     "name": "stdout",
     "output_type": "stream",
     "text": [
      "-rw-r--r-- 1 lauramaria 197609 3.0K Feb 20 21:33 EU856392.fasta\n",
      "-rw-r--r-- 1 lauramaria 197609 3.1K Feb 20 21:33 EU856393.fasta\n",
      "-rw-r--r-- 1 lauramaria 197609 4.1K Feb 20 21:33 EU856394.fasta\n",
      "-rw-r--r-- 1 lauramaria 197609 2.1K Feb 20 21:33 EU862232.fasta\n",
      "-rw-r--r-- 1 lauramaria 197609 2.1K Feb 20 21:33 EU862233.fasta\n"
     ]
    }
   ],
   "source": [
    "%%bash\n",
    "ls -lh EU856392.fasta\n",
    "ls -lh EU856393.fasta\n",
    "ls -lh EU856394.fasta\n",
    "ls -lh EU862232.fasta\n",
    "ls -lh EU862233.fasta"
   ]
  },
  {
   "cell_type": "markdown",
   "metadata": {},
   "source": [
    "### Concatenar todos los fastas en un solo archivo llamado secuencias_banano.fasta\n",
    "En la siguiente celda se utiliza el comando cat para concatenar los archivos que terminan en .fasta, y mediante el simbolo > se indica que dichas secuencias se deben guardar en un archivo de nombre secuencias_banano.fasta.\n",
    "\n",
    "Posteriormente, se usa el comando ls -lh para verificar que el tamaño del archivo es kilobytes es igual a la suma de los tamaños (en la misma unidad de medida) de cada archivo fasta antes de ser concatenados."
   ]
  },
  {
   "cell_type": "code",
   "execution_count": 5,
   "metadata": {},
   "outputs": [
    {
     "name": "stdout",
     "output_type": "stream",
     "text": [
      "-rw-r--r-- 1 lauramaria 197609 15K Feb 20 21:33 secuencias_banano.fasta\n"
     ]
    }
   ],
   "source": [
    "%%bash\n",
    "cat *.fasta > secuencias_banano.fasta\n",
    "ls -lh secuencias_banano.fasta"
   ]
  },
  {
   "cell_type": "markdown",
   "metadata": {},
   "source": [
    "### Remover los archivos individuales y solo quedarse con el concatenado\n",
    "\n",
    "En la siguiente celda, se encuentra un pipeline que permite listar todos los archivos en la carpeta actual, seleccionar aquellos que empiezan por la letra E y eliminarlos."
   ]
  },
  {
   "cell_type": "code",
   "execution_count": 6,
   "metadata": {},
   "outputs": [
    {
     "name": "stdout",
     "output_type": "stream",
     "text": [
      "EU856392.fasta\n",
      "EU856393.fasta\n",
      "EU856394.fasta\n",
      "EU862232.fasta\n",
      "EU862233.fasta\n",
      "secuencias_banano.fasta\n",
      "secuencias_banano.fasta\n"
     ]
    }
   ],
   "source": [
    "%%bash\n",
    "ls\n",
    "ls | grep -P \"^E\" | xargs -d\"\\n\" rm\n",
    "ls"
   ]
  },
  {
   "cell_type": "markdown",
   "metadata": {},
   "source": [
    "### Extraer la información referente a la anotación de cada una de las secuencias y crear un nuevo archivo llamado anotación.txt donde se guarde sólo esta información\n",
    "\n",
    "Mediante el comando grep se seleccionan las líneas del archivo secuencias_banano.fasta que comienzan con el simbolo >, las cuales proporcionan información sobre la secuencia. Luego, estas líneas se escriben en una nuevo archivo con el nombre anotacion.txt, y con el comando less se verifica que el archivo creado contiene las líneas de anotación y no las secuencias."
   ]
  },
  {
   "cell_type": "code",
   "execution_count": 7,
   "metadata": {},
   "outputs": [
    {
     "name": "stdout",
     "output_type": "stream",
     "text": [
      ">EU856392.1 Musa acuminata cultivar Calcutta 4 phenylalanine ammonia lyase (PAL) mRNA, complete cds\n",
      ">EU856393.1 Musa acuminata AAA Group cultivar Gran Enano phenylalanine ammonia lyase (PAL) mRNA, complete cds\n",
      ">EU856394.1 Musa acuminata cultivar Calcutta 4 phenylalanine ammonia lyase (PAL) gene, complete cds\n",
      ">EU862232.1 Musa acuminata AAA Group cultivar Yangambi KM5 phenylalanine ammonia lyase (PAL) mRNA, partial cds\n",
      ">EU862233.1 Musa acuminata AAA Group cultivar Williams phenylalanine ammonia lyase (PAL) mRNA, partial cds\n"
     ]
    }
   ],
   "source": [
    "%%bash\n",
    "grep \">\" secuencias_banano.fasta > anotacion.txt\n",
    "less anotacion.txt"
   ]
  },
  {
   "cell_type": "markdown",
   "metadata": {},
   "source": [
    "### Editar el archivo creado (anotación.txt) e introcucir en la primera linea iniciando con un # el nombre de la especie a la cual pertenecen las secuencias, el número de secuencias y el tipo de información (DNA, RNA ó amino ácido). Guardar el archivo\n",
    "\n",
    "En la siguiente celda, mediante un script escrito en python 3, se itera y lee cada descriptor de la secuencias concatenadas en el archivo secuencias_banano.fasta, y mediante el comando split se obtiene la información sobre la especie y tipo de molécula(DNA,RNA o aminoácido)\n"
   ]
  },
  {
   "cell_type": "code",
   "execution_count": 8,
   "metadata": {
    "scrolled": false
   },
   "outputs": [],
   "source": [
    "import re\n",
    "new_file = open(os.getcwd()+'/anotacion2.txt','w')\n",
    "for record in SeqIO.parse('secuencias_banano.fasta','fasta'):\n",
    "    number_A = str(record.seq).count(\"AATAA\")\n",
    "    especie= str(record.description).split('.1')[1].split('phe')[0]\n",
    "    tipo = str(record.description).split(',')[0].split()[-1]\n",
    "    output = '# especie:%s,numero de secuencias AATAA = %s,tipo de molecula:%s'%(especie,number_A,tipo)\n",
    "    new_file.write(output+ '\\n')\n",
    "new_file.close()"
   ]
  },
  {
   "cell_type": "code",
   "execution_count": 9,
   "metadata": {},
   "outputs": [
    {
     "name": "stdout",
     "output_type": "stream",
     "text": [
      "# especie: Musa acuminata cultivar Calcutta 4 ,numero de secuencias AATAA = 1,tipo de molecula:mRNA\r\n",
      "# especie: Musa acuminata AAA Group cultivar Gran Enano ,numero de secuencias AATAA = 1,tipo de molecula:mRNA\r\n",
      "# especie: Musa acuminata cultivar Calcutta 4 ,numero de secuencias AATAA = 5,tipo de molecula:gene\r\n",
      "# especie: Musa acuminata AAA Group cultivar Yangambi KM5 ,numero de secuencias AATAA = 1,tipo de molecula:mRNA\r\n",
      "# especie: Musa acuminata AAA Group cultivar Williams ,numero de secuencias AATAA = 1,tipo de molecula:mRNA\r\n"
     ]
    }
   ],
   "source": [
    "%%bash\n",
    "less anotacion2.txt"
   ]
  },
  {
   "cell_type": "code",
   "execution_count": 10,
   "metadata": {},
   "outputs": [
    {
     "name": "stdout",
     "output_type": "stream",
     "text": [
      "import os\n",
      "import Bio\n",
      "from Bio import SeqIO\n",
      "%%bash\n",
      "pwd\n",
      "ls\n",
      "mkdir Tarea2\n",
      "cd Tarea2\n",
      "pwd\n",
      "os.chdir('C:/Users/lauramaria/Biologia_computacional/Talleres/Tarea2')\n",
      "from Bio import Entrez\n",
      "from Bio import SeqIO\n",
      "\n",
      "lista_id = ['EU862232','EU856393','EU856392','EU856394','EU862233']\n",
      "Entrez.email = \"laurispulido96@gmail.com\"\n",
      "for item in lista_id:\n",
      "    with Entrez.efetch(db=\"nucleotide\", rettype=\"fasta\", retmode=\"text\", id=item) as handle:\n",
      "        out_file = item+'.fasta'\n",
      "        seq_record = SeqIO.read(handle, \"fasta\")\n",
      "        SeqIO.write(seq_record, out_file, \"fasta\")\n",
      "%%bash\n",
      "ls -lh EU856392.fasta\n",
      "ls -lh EU856393.fasta\n",
      "ls -lh EU856394.fasta\n",
      "ls -lh EU862232.fasta\n",
      "ls -lh EU862233.fasta\n",
      "%%bash\n",
      "cat *.fasta > secuencias_banano.fasta\n",
      "ls -lh secuencias_banano.fasta\n",
      "%%bash\n",
      "ls\n",
      "ls | grep -P \"^E\" | xargs -d\"\\n\" rm\n",
      "ls\n",
      "%%bash\n",
      "grep \">\" secuencias_banano.fasta > anotacion.txt\n",
      "less anotacion.txt\n",
      "import re\n",
      "new_file = open(os.getcwd()+'/anotacion2.txt','w')\n",
      "for record in SeqIO.parse('secuencias_banano.fasta','fasta'):\n",
      "    number_A = str(record.seq).count(\"AATAA\")\n",
      "    especie= str(record.description).split('.1')[1].split('phe')[0]\n",
      "    tipo = str(record.description).split(',')[0].split()[-1]\n",
      "    output = '# especie:%s,numero de secuencias AATAA = %s,tipo de molecula:%s'%(especie,number_A,tipo)\n",
      "    new_file.write(output+ '\\n')\n",
      "new_file.close()\n",
      "%%bash\n",
      "less anotacion2.txt\n",
      "%history\n"
     ]
    }
   ],
   "source": [
    "%history"
   ]
  }
 ],
 "metadata": {
  "kernelspec": {
   "display_name": "Python 3",
   "language": "python",
   "name": "python3"
  },
  "language_info": {
   "codemirror_mode": {
    "name": "ipython",
    "version": 3
   },
   "file_extension": ".py",
   "mimetype": "text/x-python",
   "name": "python",
   "nbconvert_exporter": "python",
   "pygments_lexer": "ipython3",
   "version": "3.6.5"
  }
 },
 "nbformat": 4,
 "nbformat_minor": 2
}
