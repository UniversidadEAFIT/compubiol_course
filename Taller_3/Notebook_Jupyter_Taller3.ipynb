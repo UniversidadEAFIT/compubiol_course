{
 "cells": [
  {
   "cell_type": "markdown",
   "metadata": {},
   "source": [
    "# Taller 3 - PYTHON\n",
    "\n",
    "MAURICIO SERNA\n",
    "\n",
    "Biología Computacional"
   ]
  },
  {
   "cell_type": "markdown",
   "metadata": {},
   "source": [
    "**Suscripción a DataCamp**"
   ]
  },
  {
   "cell_type": "markdown",
   "metadata": {},
   "source": [
    "![y](Imagenes/Suscripcion.png)"
   ]
  },
  {
   "cell_type": "markdown",
   "metadata": {},
   "source": [
    "**Curso de Python Completado**"
   ]
  },
  {
   "cell_type": "markdown",
   "metadata": {},
   "source": [
    "![X](Imagenes/Curso_Completado.png)"
   ]
  },
  {
   "cell_type": "markdown",
   "metadata": {},
   "source": [
    "# Rosalind"
   ]
  },
  {
   "cell_type": "markdown",
   "metadata": {},
   "source": [
    "Ejercicio 1.\n",
    "**Installing Python**"
   ]
  },
  {
   "cell_type": "markdown",
   "metadata": {},
   "source": [
    "![x](Imagenes/Insatlling_Python.png)"
   ]
  },
  {
   "cell_type": "markdown",
   "metadata": {},
   "source": [
    "CÓDIGO"
   ]
  },
  {
   "cell_type": "code",
   "execution_count": 37,
   "metadata": {},
   "outputs": [
    {
     "name": "stdout",
     "output_type": "stream",
     "text": [
      "The Zen of Python, by Tim Peters\n",
      "\n",
      "Beautiful is better than ugly.\n",
      "Explicit is better than implicit.\n",
      "Simple is better than complex.\n",
      "Complex is better than complicated.\n",
      "Flat is better than nested.\n",
      "Sparse is better than dense.\n",
      "Readability counts.\n",
      "Special cases aren't special enough to break the rules.\n",
      "Although practicality beats purity.\n",
      "Errors should never pass silently.\n",
      "Unless explicitly silenced.\n",
      "In the face of ambiguity, refuse the temptation to guess.\n",
      "There should be one-- and preferably only one --obvious way to do it.\n",
      "Although that way may not be obvious at first unless you're Dutch.\n",
      "Now is better than never.\n",
      "Although never is often better than *right* now.\n",
      "If the implementation is hard to explain, it's a bad idea.\n",
      "If the implementation is easy to explain, it may be a good idea.\n",
      "Namespaces are one honking great idea -- let's do more of those!\n"
     ]
    }
   ],
   "source": [
    "import this"
   ]
  },
  {
   "cell_type": "markdown",
   "metadata": {},
   "source": [
    "Ejercicio 2. **Variables and Some Arithmetic**\n"
   ]
  },
  {
   "cell_type": "markdown",
   "metadata": {},
   "source": [
    "![x](Imagenes/Variables and Some Arithmetic.png)"
   ]
  },
  {
   "attachments": {},
   "cell_type": "markdown",
   "metadata": {},
   "source": [
    "CÓDIGO"
   ]
  },
  {
   "cell_type": "code",
   "execution_count": 38,
   "metadata": {},
   "outputs": [
    {
     "name": "stdout",
     "output_type": "stream",
     "text": [
      "34\n",
      "1626490\n"
     ]
    }
   ],
   "source": [
    "def hipo(a,b): # Definición de la función hipotenusa, recibe dos valores a y b\n",
    "    if(a>=1000 or b>=1000):   # La función no acepta valores mayores o iguales a 1000\n",
    "        return \"False\"\n",
    "    else: \n",
    "        c=a**2+b**2\n",
    "    print(c)\n",
    "\n",
    "#Ejemplo    \n",
    "hipo(3,5)         # Ensayo de la función, debe ser igual a 34\n",
    "\n",
    "#Ejemplo 1\n",
    "hipo(863,939)     # Ejercicio arrojado por Rosalind"
   ]
  },
  {
   "cell_type": "markdown",
   "metadata": {},
   "source": [
    "Ejercicio 3. **Lists and strings**"
   ]
  },
  {
   "cell_type": "markdown",
   "metadata": {},
   "source": [
    "![x](Imagenes/Strings_lists.png)"
   ]
  },
  {
   "cell_type": "markdown",
   "metadata": {},
   "source": [
    "CÓDIGO"
   ]
  },
  {
   "cell_type": "code",
   "execution_count": 39,
   "metadata": {},
   "outputs": [
    {
     "name": "stdout",
     "output_type": "stream",
     "text": [
      "Humpty Dumpty\n",
      "Haliaetus carnifex\n",
      "Scaphiophryne indicus\n"
     ]
    }
   ],
   "source": [
    "def letras(x,a,b,c,d):   # Definir función letras con input 5 valores, el primero siendo un string\n",
    "    y=list(x)            # el string lo convierto en una lista\n",
    "    pal1=y[a:b+1]        # busco las posiciones que me piden en forma de lista\n",
    "    pal2=y[c:d+1]  \n",
    "    print(\"\".join(pal1),\"\".join(pal2))  # retorno las posiciones en forma de string separados por un espacio\n",
    "\n",
    "#Ejemplo\n",
    "letras(\"HumptyDumptysatonawallHumptyDumptyhadagreatfallAlltheKingshorsesandalltheKingsmenCouldntputHumptyDumptyinhisplaceagain\"\n",
    "      ,22,27,97,102)\n",
    "\n",
    "#Ensayo 1\n",
    "letras(\"Cwz7FHNECFHaliaetus5FbJYo2lp4cszrzNxeloyrKoM7fb4uuhmWOlFSaSbcvNxCiCJCuHf2zxK6wmK8carnifexwYN3WNx9oWBr93iTG8VSRd5lvsGeX1M8E2Ikw3CTE8ov28POwEpCIpeYU0SCTJnrcwJVpQjCzkTUgY.\",\n",
    "10,18,81,88)\n",
    "\n",
    "#Ensayo 2\n",
    "letras(\"VqZIfYtUDoona7IoWTOCQ0UHyLzq4stcm9pA5Fvu5bLPupoLmQyZwp8nsScaphiophrynerVztcsN7u23qK57MhE7hE9Kw876WtsiUL0MKLPggO9yRkx72JwZpVIsIindicusj17jBThYfzG7uZ7gmnohHl2hUQ.\",\n",
    "57,69,126,132)\n"
   ]
  },
  {
   "cell_type": "markdown",
   "metadata": {},
   "source": [
    "Ejercicio 4. **Conditions and Loops**"
   ]
  },
  {
   "cell_type": "markdown",
   "metadata": {},
   "source": [
    "![x](Imagenes/Conditions_Loops.png) "
   ]
  },
  {
   "cell_type": "markdown",
   "metadata": {},
   "source": [
    "CÓDIGO"
   ]
  },
  {
   "cell_type": "code",
   "execution_count": 50,
   "metadata": {},
   "outputs": [
    {
     "name": "stdout",
     "output_type": "stream",
     "text": [
      "7500\n",
      "14817984\n"
     ]
    }
   ],
   "source": [
    "import math  # importar el paquete math\n",
    "\n",
    "def partedecimal(x):  # función que calcula la parte decimal de un número\n",
    "    y = math.modf(x)  #  math.modf me devuele un tuple (un arreglo de números que no se pueden modificar) = [parte decimal, parte entera]\n",
    "    return(y[0])      # me devuelve un solamente el número de la parte decimal, la posición 0 del arreglo\n",
    "\n",
    "def sumaarreglo(a,b):  # suma todos los números impares de un arreglo desde a hasta b incluyendo a a y b\n",
    "    rang = list(range(a,b+1))  # hace un arreglo desde a hasta b +1, para que incluya b\n",
    "    i = 0  # índice para hacer recorrer el arreglo\n",
    "    suma= 0  # colector para hacer la suma\n",
    "    tam = len(rang)   # encontrar el tamaño del arreglo\n",
    "    while (i < tam):   # ciclo para recorrer el arreglo\n",
    "        if (partedecimal(rang[i]/2) != 0):   # condición de que solo sumo los números impares, son aquellos número que la parte decimal es diferente de 0\n",
    "            suma = suma + rang[i]  \n",
    "        i = i +1\n",
    "    return(suma)\n",
    "\n",
    "comprobacion=sumaarreglo(100,200)  # comprobación con el ejemplo de rosalind\n",
    "print(comprobacion)\n",
    " \n",
    "ejercicio=sumaarreglo(4250,8794)   # ejercicio de Rosalind\n",
    "print(ejercicio)\n",
    "    "
   ]
  }
 ],
 "metadata": {
  "kernelspec": {
   "display_name": "Python 3",
   "language": "python",
   "name": "python3"
  }
 },
 "nbformat": 4,
 "nbformat_minor": 2
}
