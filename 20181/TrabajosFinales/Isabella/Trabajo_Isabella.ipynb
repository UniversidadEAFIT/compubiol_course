{
 "cells": [
  {
   "cell_type": "markdown",
   "metadata": {},
   "source": [
    "# Trabajo Final de Biología Computacional\n",
    "## Generación lineas de comando con Biopython para alineamientos de secuencias de ADN con Muscle, Clustalw"
   ]
  },
  {
   "cell_type": "markdown",
   "metadata": {},
   "source": [
    "### Introducción"
   ]
  },
  {
   "cell_type": "markdown",
   "metadata": {},
   "source": [
    "La clase Polychaeta, fue descrita por Grube (1950), pertenece al phylum annelida, y sus individuos son comunmente conocidos como Polyquetos. esta clase representa el mayor grupo de invertebrados marinos, pues conforman gran parte del componente biotico de la infauna en este ambiente, tanto cerca de la costa como en las grandes profundidades (alrededor del 70% de todas las especies) (Blake & Hilbig, 1994). Los Poliquetos se encuentran en casi todos los habitat marinos desde zonas intermareales hasta el mar profundo, aunque tambien pueden encontrarse en menor medida en agua dulce, o incluso en zonas continentales (Rouse & Pleijel, 2001). Sin embargo, a pesar de la magnitud del taxòn, su distribucion y diversidad taxonomica aun es muy poco conocida (Carr et al., 2011; Nigren, 2014). Como soporte de esta diversidad  varios ivestigadores han optado por obtener la secuencia del gen citocromo oxidasaI (COI), pues la velocidad de mutacion de este es lo suficientemente rapida para distinguir entre especies cercanamente relacionadas, y por que su secucencia se conserva entre taxones conespecíficos.\n",
    "\n",
    "Un alineamiento de secuencias es una forma de representar y comparar, dos o mas secuencias o cadenas de ADN, ARN o estructuras primarias proteicas para resaltar sus zonas de simulitud, que podrian indicar relaciones funcionales o evolutivas entre los genes o proteinas consultados. la serie de programas Clustal y  MUSCLE (MUltiple Sequence Comparison by Log-Expectation) se usan  ampliamente en biologia molecular para la alineacion multiple de secuencias de acidos nucleicos y proteinas, y para la preparacion de arboles filogeneticos; Usando estos alineamientos, los biologos pueden estudiar los patrones de secuencia conservados atraves de la evolucion y las relaciones ancestrales entre diferentes organismos (Chenna, 2003; Edgar, 2004).\n",
    "\n",
    "El objetivo de este trabajo es generar líneas de comando para realizar el alineamiento de secuencias de ADN en Clustalw y MUSCLE."
   ]
  },
  {
   "cell_type": "markdown",
   "metadata": {},
   "source": [
    "### Metodología"
   ]
  },
  {
   "cell_type": "markdown",
   "metadata": {},
   "source": [
    "Se descargaron de BOLD (Barcode Of Life Data System) en formato .fasta, las secuencias del gen COI de 10 individuos de la clase Polychaeta, estas fueron guardadas en un solo documento .fasta, el cual fue alineado en BioPython usando los códigos mostrados a continuación. "
   ]
  },
  {
   "cell_type": "markdown",
   "metadata": {},
   "source": [
    "### Resultados"
   ]
  },
  {
   "cell_type": "markdown",
   "metadata": {},
   "source": [
    "#### Generación línea de comando Clustalw"
   ]
  },
  {
   "cell_type": "code",
   "execution_count": 1,
   "metadata": {},
   "outputs": [],
   "source": [
    "from Bio.Align.Applications import ClustalwCommandline"
   ]
  },
  {
   "cell_type": "code",
   "execution_count": 2,
   "metadata": {},
   "outputs": [],
   "source": [
    "from Bio import AlignIO"
   ]
  },
  {
   "cell_type": "code",
   "execution_count": 2,
   "metadata": {},
   "outputs": [],
   "source": [
    "cline = ClustalwCommandline(\"clustalw2\", infile=\"Todasseq.fasta\")"
   ]
  },
  {
   "cell_type": "code",
   "execution_count": 3,
   "metadata": {},
   "outputs": [
    {
     "name": "stdout",
     "output_type": "stream",
     "text": [
      "clustalw2 -infile=Todasseq.fasta\n"
     ]
    }
   ],
   "source": [
    "print(cline)"
   ]
  },
  {
   "cell_type": "code",
   "execution_count": 8,
   "metadata": {
    "scrolled": true
   },
   "outputs": [
    {
     "name": "stdout",
     "output_type": "stream",
     "text": [
      "\n",
      "\n",
      "\n",
      " CLUSTAL 2.1 Multiple Sequence Alignments\n",
      "\n",
      "\n",
      "Sequence format is Pearson\n",
      "Sequence 1: ABMBS089-10|Nothria       664 bp\n",
      "Sequence 2: ARCMI367-14|Harmothoe     673 bp\n",
      "Sequence 3: ARCMI380-14|Chone         673 bp\n",
      "Sequence 4: ARCMI638-14|Nereis        673 bp\n",
      "Sequence 5: ARSPR087-14|Pomatoceros   658 bp\n",
      "Sequence 6: ABMBS115-10|Gattyana      664 bp\n",
      "Sequence 7: BBAY083-13|Nephtys        661 bp\n",
      "Sequence 8: BBAY097-13|Laonice        661 bp\n",
      "Sequence 9: BCPOL225-08|Halosydna     660 bp\n",
      "Sequence 10: GBAN2572-10|Marphysa     1000 bp\n",
      "Start of Pairwise alignments\n",
      "Aligning...\n",
      "\n",
      "Sequences (1:2) Aligned. Score:  74\n",
      "Sequences (1:3) Aligned. Score:  68\n",
      "Sequences (1:4) Aligned. Score:  75\n",
      "Sequences (1:5) Aligned. Score:  36\n",
      "Sequences (1:6) Aligned. Score:  71\n",
      "Sequences (1:7) Aligned. Score:  73\n",
      "Sequences (1:8) Aligned. Score:  76\n",
      "Sequences (1:9) Aligned. Score:  74\n",
      "Sequences (1:10) Aligned. Score:  70\n",
      "Sequences (2:3) Aligned. Score:  71\n",
      "Sequences (2:4) Aligned. Score:  73\n",
      "Sequences (2:5) Aligned. Score:  58\n",
      "Sequences (2:6) Aligned. Score:  86\n",
      "Sequences (2:7) Aligned. Score:  75\n",
      "Sequences (2:8) Aligned. Score:  78\n",
      "Sequences (2:9) Aligned. Score:  81\n",
      "Sequences (2:10) Aligned. Score:  70\n",
      "Sequences (3:4) Aligned. Score:  70\n",
      "Sequences (3:5) Aligned. Score:  48\n",
      "Sequences (3:6) Aligned. Score:  70\n",
      "Sequences (3:7) Aligned. Score:  69\n",
      "Sequences (3:8) Aligned. Score:  72\n",
      "Sequences (3:9) Aligned. Score:  71\n",
      "Sequences (3:10) Aligned. Score:  64\n",
      "Sequences (4:5) Aligned. Score:  47\n",
      "Sequences (4:6) Aligned. Score:  73\n",
      "Sequences (4:7) Aligned. Score:  74\n",
      "Sequences (4:8) Aligned. Score:  73\n",
      "Sequences (4:9) Aligned. Score:  75\n",
      "Sequences (4:10) Aligned. Score:  66\n",
      "Sequences (5:6) Aligned. Score:  47\n",
      "Sequences (5:7) Aligned. Score:  57\n",
      "Sequences (5:8) Aligned. Score:  48\n",
      "Sequences (5:9) Aligned. Score:  47\n",
      "Sequences (5:10) Aligned. Score:  45\n",
      "Sequences (6:7) Aligned. Score:  75\n",
      "Sequences (6:8) Aligned. Score:  76\n",
      "Sequences (6:9) Aligned. Score:  80\n",
      "Sequences (6:10) Aligned. Score:  67\n",
      "Sequences (7:8) Aligned. Score:  73\n",
      "Sequences (7:9) Aligned. Score:  76\n",
      "Sequences (7:10) Aligned. Score:  64\n",
      "Sequences (8:9) Aligned. Score:  77\n",
      "Sequences (8:10) Aligned. Score:  68\n",
      "Sequences (9:10) Aligned. Score:  68\n",
      "Guide tree file created:   [Todasseq.dnd]\n",
      "\n",
      "There are 9 groups\n",
      "Start of Multiple Alignment\n",
      "\n",
      "Aligning...\n",
      "Group 1: Sequences:   2      Score:11207\n",
      "Group 2: Sequences:   3      Score:10551\n",
      "Group 3: Sequences:   2      Score:9388\n",
      "Group 4: Sequences:   3      Score:8774\n",
      "Group 5: Sequences:   6      Score:9111\n",
      "Group 6: Sequences:   7      Score:9568\n",
      "Group 7: Sequences:   8      Score:9246\n",
      "Group 8: Sequences:   9      Score:8677\n",
      "Group 9: Sequences:  10      Score:6564\n",
      "Alignment Score 127408\n",
      "\n",
      "CLUSTAL-Alignment file created  [Todasseq.aln]\n",
      "\n"
     ]
    }
   ],
   "source": [
    "!./clustalw2 -infile=Todasseq.fasta"
   ]
  },
  {
   "cell_type": "code",
   "execution_count": 4,
   "metadata": {},
   "outputs": [],
   "source": [
    "align = AlignIO.read(\"Todasseq.aln\", \"clustal\")"
   ]
  },
  {
   "cell_type": "markdown",
   "metadata": {},
   "source": [
    "#### Grafico de alineamiento con Biopython"
   ]
  },
  {
   "cell_type": "code",
   "execution_count": 10,
   "metadata": {
    "scrolled": true
   },
   "outputs": [
    {
     "name": "stdout",
     "output_type": "stream",
     "text": [
      "SingleLetterAlphabet() alignment with 10 rows and 1024 columns\n",
      "-----------------------------------------CAC...--- ARCMI367-14|Harmothoe\n",
      "-----------------------------------------CAC...--- ABMBS115-10|Gattyana\n",
      "---------------------------------------GGTAC...--- BCPOL225-08|Halosydna\n",
      "-----------------------------------------AAC...--- ABMBS089-10|Nothria\n",
      "--------------------------------------------...GCT GBAN2572-10|Marphysa\n",
      "-----------------------------------------CAC...--- BBAY097-13|Laonice\n",
      "-----------------------------------------TAC...--- ARCMI638-14|Nereis\n",
      "-----------------------------------------AAC...--- ARCMI380-14|Chone\n",
      "-----------------------------------------AAC...--- BBAY083-13|Nephtys\n",
      "-----------------------------------------ATC...--- ARSPR087-14|Pomatoceros\n"
     ]
    }
   ],
   "source": [
    "print(align)"
   ]
  },
  {
   "cell_type": "markdown",
   "metadata": {},
   "source": [
    "#### Grafico de arbol generado por ClustalX con Biopython"
   ]
  },
  {
   "cell_type": "code",
   "execution_count": 12,
   "metadata": {},
   "outputs": [],
   "source": [
    "from Bio import Phylo"
   ]
  },
  {
   "cell_type": "code",
   "execution_count": 13,
   "metadata": {},
   "outputs": [],
   "source": [
    "tree = Phylo.read(\"Todasseq.dnd\", \"newick\")"
   ]
  },
  {
   "cell_type": "code",
   "execution_count": 14,
   "metadata": {
    "scrolled": true
   },
   "outputs": [
    {
     "name": "stdout",
     "output_type": "stream",
     "text": [
      "   _______________ ABMBS089-10|Nothria\n",
      " ,|\n",
      " ||______________________ GBAN2572-10|Marphysa\n",
      " |\n",
      " |      _______ ARCMI367-14|Harmothoe\n",
      " |   __|\n",
      " |__|  |__________ ABMBS115-10|Gattyana\n",
      " |  |\n",
      " |  |___________ BCPOL225-08|Halosydna\n",
      "_|\n",
      " |  ___________________ ARCMI380-14|Chone\n",
      " |,|\n",
      " |||      ___________________________________________ ARSPR087-14|Pomatoceros\n",
      " |||_____|\n",
      " ||      |__________ BBAY083-13|Nephtys\n",
      " ||\n",
      " ||________________ ARCMI638-14|Nereis\n",
      " |\n",
      " |_____________ BBAY097-13|Laonice\n",
      "\n"
     ]
    }
   ],
   "source": [
    "Phylo.draw_ascii(tree)"
   ]
  },
  {
   "cell_type": "code",
   "execution_count": 17,
   "metadata": {},
   "outputs": [
    {
     "data": {
      "image/png": "[encoded data removed]",
      "text/plain": [
       "<matplotlib.figure.Figure at 0x7fe5acd12128>"
      ]
     },
     "metadata": {},
     "output_type": "display_data"
    },
    {
     "name": "stdout",
     "output_type": "stream",
     "text": [
      "None\n"
     ]
    }
   ],
   "source": [
    "tree.rooted = False\n",
    "Fig = Phylo.draw(tree)\n",
    "print(Fig)"
   ]
  },
  {
   "cell_type": "markdown",
   "metadata": {},
   "source": [
    "#### Generacion de linea de comando con MUSCLE"
   ]
  },
  {
   "cell_type": "code",
   "execution_count": 18,
   "metadata": {},
   "outputs": [],
   "source": [
    "from Bio.Align.Applications import MuscleCommandline"
   ]
  },
  {
   "cell_type": "code",
   "execution_count": 19,
   "metadata": {},
   "outputs": [],
   "source": [
    "cline2 = MuscleCommandline(input=\"Todasseq.fasta\", out=\"Todasseq.txt\")"
   ]
  },
  {
   "cell_type": "code",
   "execution_count": 20,
   "metadata": {},
   "outputs": [
    {
     "name": "stdout",
     "output_type": "stream",
     "text": [
      "muscle -in Todasseq.fasta -out Todasseq.txt\n"
     ]
    }
   ],
   "source": [
    "print(cline2)"
   ]
  },
  {
   "cell_type": "code",
   "execution_count": 21,
   "metadata": {},
   "outputs": [
    {
     "name": "stdout",
     "output_type": "stream",
     "text": [
      "\n",
      "MUSCLE v3.8.1551 by Robert C. Edgar\n",
      "\n",
      "http://www.drive5.com/muscle\n",
      "This software is donated to the public domain.\n",
      "Please cite: Edgar, R.C. Nucleic Acids Res 32(5), 1792-97.\n",
      "\n",
      "Todasseq 10 seqs, lengths min 580, max 892, avg 662\n",
      "00:00:00    23 MB(-5%)  Iter   1  100.00%  K-mer dist pass 1\n",
      "00:00:00    23 MB(-5%)  Iter   1  100.00%  K-mer dist pass 2\n",
      "00:00:00    30 MB(-6%)  Iter   1  100.00%  Align node       \n",
      "00:00:00    30 MB(-6%)  Iter   1  100.00%  Root alignment\n",
      "00:00:00    30 MB(-6%)  Iter   2  100.00%  Refine tree   \n",
      "00:00:00    30 MB(-6%)  Iter   2  100.00%  Root alignment\n",
      "00:00:00    30 MB(-6%)  Iter   2  100.00%  Root alignment\n",
      "00:00:00    30 MB(-6%)  Iter   3  100.00%  Refine biparts\n"
     ]
    }
   ],
   "source": [
    "!muscle -in Todasseq.fasta -out Todasseq.txt"
   ]
  },
  {
   "cell_type": "code",
   "execution_count": 22,
   "metadata": {},
   "outputs": [],
   "source": [
    "align2 = AlignIO.read(\"Todasseq.txt\", \"fasta\")"
   ]
  },
  {
   "cell_type": "markdown",
   "metadata": {},
   "source": [
    "#### Gráfico de alineamiento con BioPython"
   ]
  },
  {
   "cell_type": "code",
   "execution_count": 23,
   "metadata": {
    "scrolled": true
   },
   "outputs": [
    {
     "name": "stdout",
     "output_type": "stream",
     "text": [
      "SingleLetterAlphabet() alignment with 10 rows and 954 columns\n",
      "--ATCTATATATTTTTATTTGGGAGCTTGAGCCGGAACCTGCGG...--- ARSPR087-14|Pomatoceros\n",
      "--AACACTATACTTTATTCTAGGAGTCTGATCCGGCC-------...--- ARCMI380-14|Chone\n",
      "--TACTTTATACTTCATTTTCGGCATGTGATCCGGCC-------...--- ARCMI638-14|Nereis\n",
      "--------------------------------------------...GCT GBAN2572-10|Marphysa\n",
      "--AACTCTTTATTTTATTTTTGGAACATGAGCGGGCC-------...--- BBAY083-13|Nephtys\n",
      "--AACTCTTTACTTTATTTTTGGCACTTGGGGGGGCC-------...--- ABMBS089-10|Nothria\n",
      "--CACACTATATTTTATTCTAGGTGTGTGGTCAGGAC-------...--- BBAY097-13|Laonice\n",
      "GGTACTCTATATTTTATTTTTGGAACTTGATCAGGCT-------...--- BCPOL225-08|Halosydna\n",
      "--CACCTTATATTTTATTTTTGGAACTTGGTCAGGTC-------...--- ARCMI367-14|Harmothoe\n",
      "--CACCTTATATTTTATTTTTGGTACTTGATCAGGTC-------...--- ABMBS115-10|Gattyana\n"
     ]
    }
   ],
   "source": [
    "print(align2)"
   ]
  },
  {
   "cell_type": "markdown",
   "metadata": {},
   "source": [
    "#### Gráfico de arbol generado por Clustalx con BioPython"
   ]
  },
  {
   "cell_type": "code",
   "execution_count": 25,
   "metadata": {},
   "outputs": [
    {
     "name": "stdout",
     "output_type": "stream",
     "text": [
      "                                 ___ ABMBS089_10_Nothria_conchylega_CMC02_...\n",
      "                                |\n",
      "                                |___ GBAN2572_10_Marphysa_brevitentaculata...\n",
      "                                |\n",
      "                                |___ BBAY097_13_Laonice_cirrata_COI_5P_MG4...\n",
      "                                |\n",
      "                               _|  , ABMBS115_10_Gattyana_cirrhosa_COI_5P_...\n",
      "                              | | _|\n",
      "                              | ,| | ARCMI367_14_Harmothoe_rarispina_COI_5...\n",
      "                              | ||\n",
      "                              | ||__ BCPOL225-08_Halosydna_brevisetosa_COI...\n",
      "  ____________________________| |\n",
      " |                            | |___ ARCMI638_14_Nereis_pelagica_CMC03_COI...\n",
      " |                            | |\n",
      "_|                            | |___ BBAY083_13_Nephtys_caeca_COI_5P_MG421078\n",
      " |                            |\n",
      " |                            |_____ ARCMI380_14_Chone_mollis_COI_5P_MG421022\n",
      " |\n",
      " |__________________________________ ARSPR087_14_Pomatoceros_triqueter_COI_5P\n",
      "\n"
     ]
    }
   ],
   "source": [
    "tree2 = Phylo.read(\"tre.newick\", \"newick\")\n",
    "Phylo.draw_ascii(tree2)"
   ]
  },
  {
   "cell_type": "code",
   "execution_count": 26,
   "metadata": {
    "scrolled": true
   },
   "outputs": [
    {
     "data": {
      "image/png": "[encoded data removed]",
      "text/plain": [
       "<matplotlib.figure.Figure at 0x7fe5acc57828>"
      ]
     },
     "metadata": {},
     "output_type": "display_data"
    },
    {
     "name": "stdout",
     "output_type": "stream",
     "text": [
      "None\n"
     ]
    }
   ],
   "source": [
    "tree2.rooted = True\n",
    "Fig2 = Phylo.draw(tree2)\n",
    "print(Fig2)"
   ]
  },
  {
   "cell_type": "markdown",
   "metadata": {},
   "source": [
    "### Análisis y Conclusiones"
   ]
  },
  {
   "cell_type": "markdown",
   "metadata": {},
   "source": [
    "En términos de velocidad, ambos programas funcionan de manera equiparable, pero el resultado arrojado por cada uno si puede ser distinguible. En términos de precisión, el mejor alineamiento fue el generado por MUSCLE, pues el número de columnas, filas y gaps es menor al generado por Clustalw. Al revisar un poco en la literatura, es evidente que muchos de los investigadores prefieren usar MUSCLE en sus alineamientos, pues el algoritmo interno de Clustalw es un algoritmo iterativo, en el que los errores producidos en el paso anterior, son bastante improbables de corregir en un paso siguiente, mientras que MUSCLE implementa un algoritmo progresivo que permite re-optimizaciones de columnas durante todo el proceso de alineamiento.\n",
    "\n",
    "La precisión demostrada por MUSCLE se ve también reflejada en la construcción del árbol filogenético. De ante mano, se conoce que las relaciones filogenéticas realizadas con un solo gen no representan completamente la relación evolutiva de las taxas en cuestión; sin embargo, para este caso vale la pena graficar el árbol resultante tras el alineamiento para comparar por ejemplo las diferencias en las distancias evolutivas entre cada especie. Como se puede apreciar en ambos árboles, tanto la distribución (taxones hermanos), como la distancia genética son muy diferentes en ambos árboles, por ejemplo la distancia generada por Clustalw es mucho menos (más de un orden de magnitud) con respecto a MUSCLE; estas diferencias como reflejo y consecuencia de la disparidad en los alineamientos per cada método.\n",
    "\n",
    "Por las razones demostradas enteriormente, en este caso, y para estos datos, el mejor algoritmo de alineamiento de secuencia de ADN es MUSCLE."
   ]
  },
  {
   "cell_type": "markdown",
   "metadata": {},
   "source": [
    "### Referencias"
   ]
  },
  {
   "cell_type": "markdown",
   "metadata": {},
   "source": [
    "Blake, J.A. y Hilbig, B. 1994. Taxonomic Atlas of the Santa Maria Basin and Western Santa Barbara Channel. Vol. 4. Annelida Part 1. Oligochaeta and Polychaeta (Phyllodocidae to Paralacydoniidae). Santa Barbara Museum of Natural History. 369 pp. \n",
    "\n",
    "Carr, C., Hardy, S., Brown, T., Macdonald, T., & Hebert, P. (2011). A Tri-Oceanic Perspective: DNA Barcoding Reveals Geographic Structure and Cryptic Diversity in Canadian Polychaetes. Plos ONE, 6(7), e22232.\n",
    "\n",
    "Chenna, R., Sugawara, H., Koike, T., Lopez, R., Gibson, T. J., Higgins, D. G., & Thompson, J. D. (2003). Multiple sequence alignment with the Clustal series of programs. Nucleic acids research, 31(13), 3497-3500.\n",
    "\n",
    "Grube, A.E. 1850. Die Familien der Anneliden. Archiv für Naturgeschichte, Berlin, 16(1): 249-364. \n",
    "\n",
    "Nygren, A. (2014). Cryptic polychaete diversity: a review. Zoologica Scripta,43(2), 172-183.\n",
    "\n",
    "Edgar, R. C. (2004). MUSCLE: multiple sequence alignment with high accuracy and high throughput. Nucleic acids research, 32(5), 1792-1797.\n",
    "\n",
    "Rouse G.W., Pleijel, F. 2001. Polychaetes. Oxford University Press Inc Oxford xii + 354 pp. "
   ]
  }
 ],
 "metadata": {
  "kernelspec": {
   "display_name": "Python 3",
   "language": "python",
   "name": "python3"
  },
  "language_info": {
   "codemirror_mode": {
    "name": "ipython",
    "version": 3
   },
   "file_extension": ".py",
   "mimetype": "text/x-python",
   "name": "python",
   "nbconvert_exporter": "python",
   "pygments_lexer": "ipython3",
   "version": "3.6.4"
  }
 },
 "nbformat": 4,
 "nbformat_minor": 2
}
