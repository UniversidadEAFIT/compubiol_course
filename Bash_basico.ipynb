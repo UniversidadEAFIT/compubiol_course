{
 "cells": [
  {
   "cell_type": "markdown",
   "metadata": {},
   "source": [
    "# __Linux__\n",
    "\n",
    "Podemos clasificar las utilidades por consola de linux acorde a su función, y analizarlas de forma sistematica. Aprovecharemos las capacidades de ejecución de notebooks de bash para ilustrar los comandos, pero debe tenerse en cuenta que la linea inicial de cada bloque %%bash no esta asociada con su ejecución en una consola linux al igual que el uso de ! al inicio de linea. Ambos casos son la forma de indicarle al notebook que debe ejecutar en modo bash en la consola linux.\n",
    "Comentarios y escritura en consola\n",
    "Podemos imprimir mensajes en la consola (e incluso a archivos) con ayuda de echo y printf, teniendo mayor control este último.\n",
    "La indicación de comentarios en bash (texto que no posee efecto en ejecución) se logra indicando el simbolo # a partir de la parte de la linea que se desee interpretar como un comentario.\n",
    "\n",
    "[Para conocer más sobre edición en Jupyter](https://github.com/adam-p/markdown-here/wiki/Markdown-Cheatsheet)"
   ]
  },
  {
   "cell_type": "code",
   "execution_count": 3,
   "metadata": {},
   "outputs": [
    {
     "name": "stdout",
     "output_type": "stream",
     "text": [
      "Hello world\n"
     ]
    }
   ],
   "source": [
    "echo \"Hello world!\" # Hola Mundo Bash"
   ]
  },
  {
   "cell_type": "markdown",
   "metadata": {},
   "source": [
    "Scripting in Bash"
   ]
  },
  {
   "cell_type": "code",
   "execution_count": 7,
   "metadata": {},
   "outputs": [
    {
     "name": "stdout",
     "output_type": "stream",
     "text": [
      "Hoy es:\n",
      "Tue Feb 20 12:11:42 -05 2018\n"
     ]
    }
   ],
   "source": [
    "ls -la\n",
    "echo \"Arriba están los directorios de este folder\"\n",
    "pwd\n",
    "echo \"Hoy es:\"\n",
    "date"
   ]
  },
  {
   "cell_type": "markdown",
   "metadata": {},
   "source": [
    "Turning a text file into software"
   ]
  },
  {
   "cell_type": "code",
   "execution_count": 9,
   "metadata": {},
   "outputs": [
    {
     "name": "stdout",
     "output_type": "stream",
     "text": [
      "Propiedades del archivo\n",
      "-rwxr-xr-x  1 admin    10B Feb 20 12:17 ejecutar_prueba.sh\n",
      "Se ejecuta el archivo\n",
      "hola\n",
      "Se puede obviar el error por parte del propietario mediante sh (bash/dash/zsh/..)\n",
      "hola\n",
      "Se cambian permisos y ejecuta nuevamente\n",
      "hola\n"
     ]
    }
   ],
   "source": [
    "#! /bin/bash\n",
    "echo \"echo hola\" > ejecutar_prueba.sh # Creamos un archivo para ejecución\n",
    "echo \"Propiedades del archivo\"\n",
    "ls -oh *sh # Validamos permisos de ejecución. Por defecto los permisos son solo lectura.\n",
    "echo \"Se ejecuta el archivo\"\n",
    "./ejecutar_prueba.sh # Ejecutamos y se genera error de permisos.\n",
    "echo \"Se puede obviar el error por parte del propietario mediante sh (bash/dash/zsh/..)\"\n",
    "bash ejecutar_prueba.sh\n",
    "echo \"Se cambian permisos y ejecuta nuevamente\"\n",
    "chmod 755 ejecutar_prueba.sh # Se otorga permiso de ejecución\n",
    "./ejecutar_prueba.sh # Al ejecutar nuevamente se genera la salida esperada\n",
    "rm ./ejecutar_prueba.sh"
   ]
  },
  {
   "cell_type": "markdown",
   "metadata": {},
   "source": [
    "## _Permisos_ (chmod)\n",
    "Los permisos permiten no solo el acceso a los archivos por parte de los usuarios, sino la posibilidad de restringir el tipo de operaciones sobre los archivos.\n",
    "\n",
    "|Permiso|\tValor|\tLetra|\n",
    "|---:|:---:|:---:\n",
    "|Lectura|\t4|\tr|\n",
    "|Escritura|\t2|\tw|\n",
    "|Ejecución|\t1|\tx|\n",
    "\n",
    "\n",
    "Los permisos se pueden habilitar mediante + seguido de la letra asociada al permiso y el nombre del archivo, o mediante la indicación de la suma de valores de los permisos y en orden acorde a usuario propietario, usuarios del grupo y resto de usuarios."
   ]
  },
  {
   "cell_type": "code",
   "execution_count": 10,
   "metadata": {
    "scrolled": false
   },
   "outputs": [
    {
     "name": "stdout",
     "output_type": "stream",
     "text": [
      "bash: fg: %bash: no such job\n",
      "Vamos a multiplicar por: 7\n",
      "7*1 = 7\n",
      "7*2 = 14\n",
      "7*3 = 21\n",
      "7*4 = 28\n",
      "7*5 = 35\n",
      "7*6 = 42\n",
      "7*7 = 49\n",
      "7*8 = 56\n",
      "7*9 = 63\n",
      "7*10 = 70\n"
     ]
    }
   ],
   "source": [
    "%%bash\n",
    "num=7\n",
    "echo \"Vamos a multiplicar por:\" $num\n",
    "for i in `seq 1 10`; do\n",
    "    echo $num*$i = $(($num*$i))\n",
    "done"
   ]
  },
  {
   "cell_type": "code",
   "execution_count": 7,
   "metadata": {},
   "outputs": [
    {
     "name": "stdout",
     "output_type": "stream",
     "text": [
      "expression evaluated as false\n"
     ]
    }
   ],
   "source": [
    "T1=\"foo\"\n",
    "T2=\"bar\"\n",
    "if [ \"$T1\" = \"$T2\" ]; then\n",
    "    echo expression evaluated as true\n",
    "else\n",
    "    echo expression evaluated as false\n",
    "fi"
   ]
  },
  {
   "cell_type": "code",
   "execution_count": null,
   "metadata": {},
   "outputs": [],
   "source": [
    "#!/bin/bash\n",
    "for i in $(seq 1 9); do\n",
    "    mv 00${i}_R1.fastq.gz ${i}_R1.fastq.gz \n",
    "    mv 00${i}_R2.fastq.gz ${i}_R2.fastq.gz \n",
    "done\n",
    "\n",
    "for i in $(seq 10 14); do\n",
    "    mv 0${i}_R1.fastq.gz ${i}_R1.fastq.gz \n",
    "    mv 0${i}_R2.fastq.gz ${i}_R2.fastq.gz \n",
    "done"
   ]
  }
 ],
 "metadata": {
  "kernelspec": {
   "display_name": "Bash",
   "language": "bash",
   "name": "bash"
  },
  "language_info": {
   "codemirror_mode": "shell",
   "file_extension": ".sh",
   "mimetype": "text/x-sh",
   "name": "bash"
  }
 },
 "nbformat": 4,
 "nbformat_minor": 2
}
