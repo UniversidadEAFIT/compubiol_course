{
 "cells": [
  {
   "cell_type": "markdown",
   "metadata": {},
   "source": [
    "# __Linux__\n",
    "\n",
    "Podemos clasificar las utilidades por consola de linux acorde a su función, y analizarlas de forma sistematica. Aprovecharemos las capacidades de ejecución de notebooks de bash para ilustrar los comandos, pero debe tenerse en cuenta que la linea inicial de cada bloque %%bash no esta asociada con su ejecución en una consola linux al igual que el uso de ! al inicio de linea. Ambos casos son la forma de indicarle al notebook que debe ejecutar en modo bash en la consola linux.\n",
    "Comentarios y escritura en consola\n",
    "Podemos imprimir mensajes en la consola (e incluso a archivos) con ayuda de echo y printf, teniendo mayor control este último.\n",
    "La indicación de comentarios en bash (texto que no posee efecto en ejecución) se logra indicando el simbolo # a partir de la parte de la linea que se desee interpretar como un comentario.\n",
    "\n",
    "[Para conocer más sobre edición en Jupyter](https://github.com/adam-p/markdown-here/wiki/Markdown-Cheatsheet)"
   ]
  },
  {
   "cell_type": "code",
   "execution_count": 3,
   "metadata": {},
   "outputs": [
    {
     "name": "stdout",
     "output_type": "stream",
     "text": [
      "Hello world\n"
     ]
    }
   ],
   "source": [
    "echo \"Hello world!\" # Hola Mundo Bash"
   ]
  },
  {
   "cell_type": "markdown",
   "metadata": {},
   "source": [
    "Scripting in Bash"
   ]
  },
  {
   "cell_type": "code",
   "execution_count": 7,
   "metadata": {},
   "outputs": [
    {
     "name": "stdout",
     "output_type": "stream",
     "text": [
      "Hoy es:\n",
      "Tue Feb 20 12:11:42 -05 2018\n"
     ]
    }
   ],
   "source": [
    "ls -la\n",
    "echo \"Arriba están los directorios de este folder\"\n",
    "pwd\n",
    "echo \"Hoy es:\"\n",
    "date"
   ]
  },
  {
   "cell_type": "markdown",
   "metadata": {},
   "source": [
    "Turning a text file into software"
   ]
  },
  {
   "cell_type": "code",
   "execution_count": 9,
   "metadata": {},
   "outputs": [
    {
     "name": "stdout",
     "output_type": "stream",
     "text": [
      "Propiedades del archivo\n",
      "-rwxr-xr-x  1 admin    10B Feb 20 12:17 ejecutar_prueba.sh\n",
      "Se ejecuta el archivo\n",
      "hola\n",
      "Se puede obviar el error por parte del propietario mediante sh (bash/dash/zsh/..)\n",
      "hola\n",
      "Se cambian permisos y ejecuta nuevamente\n",
      "hola\n"
     ]
    }
   ],
   "source": [
    "#! /bin/bash\n",
    "echo \"echo hola\" > ejecutar_prueba.sh # Creamos un archivo para ejecución\n",
    "echo \"Propiedades del archivo\"\n",
    "ls -oh *sh # Validamos permisos de ejecución. Por defecto los permisos son solo lectura.\n",
    "echo \"Se ejecuta el archivo\"\n",
    "./ejecutar_prueba.sh # Ejecutamos y se genera error de permisos.\n",
    "echo \"Se puede obviar el error por parte del propietario mediante sh (bash/dash/zsh/..)\"\n",
    "bash ejecutar_prueba.sh\n",
    "echo \"Se cambian permisos y ejecuta nuevamente\"\n",
    "chmod 755 ejecutar_prueba.sh # Se otorga permiso de ejecución\n",
    "./ejecutar_prueba.sh # Al ejecutar nuevamente se genera la salida esperada\n",
    "rm ./ejecutar_prueba.sh"
   ]
  },
  {
   "cell_type": "markdown",
   "metadata": {},
   "source": [
    "## _Permisos_ (chmod)\n",
    "Los permisos permiten no solo el acceso a los archivos por parte de los usuarios, sino la posibilidad de restringir el tipo de operaciones sobre los archivos.\n",
    "\n",
    "|Permiso|\tValor|\tLetra|\n",
    "|---:|:---:|:---:\n",
    "|Lectura|\t4|\tr|\n",
    "|Escritura|\t2|\tw|\n",
    "|Ejecución|\t1|\tx|\n",
    "\n",
    "\n",
    "Los permisos se pueden habilitar mediante + seguido de la letra asociada al permiso y el nombre del archivo, o mediante la indicación de la suma de valores de los permisos y en orden acorde a usuario propietario, usuarios del grupo y resto de usuarios."
   ]
  },
  {
   "cell_type": "code",
   "execution_count": 1,
   "metadata": {
    "scrolled": false
   },
   "outputs": [
    {
     "name": "stdout",
     "output_type": "stream",
     "text": [
      "Vamos a multiplicar por: 9\n",
      "9*1 = 9\n",
      "9*2 = 18\n",
      "9*3 = 27\n",
      "9*4 = 36\n",
      "9*5 = 45\n",
      "9*6 = 54\n",
      "9*7 = 63\n",
      "9*8 = 72\n",
      "9*9 = 81\n",
      "9*10 = 90\n"
     ]
    }
   ],
   "source": [
    "%%bash\n",
    "num=9\n",
    "echo \"Vamos a multiplicar por:\" $num\n",
    "for i in `seq 1 10`; do\n",
    "    echo $num*$i = $(($num*$i))\n",
    "done"
   ]
  },
  {
   "cell_type": "code",
   "execution_count": 8,
   "metadata": {},
   "outputs": [
    {
     "name": "stdout",
     "output_type": "stream",
     "text": [
      "expression evaluated as true\n"
     ]
    }
   ],
   "source": [
    "%%bash\n",
    "T1=\"bioinfo\"\n",
    "T2=\"bioinfo\"\n",
    "if [ \"$T1\" = \"$T2\" ]; then\n",
    "    echo expression evaluated as true\n",
    "else\n",
    "    echo expression evaluated as false\n",
    "fi"
   ]
  },
  {
   "cell_type": "code",
   "execution_count": null,
   "metadata": {},
   "outputs": [],
   "source": [
    "#!/bin/bash\n",
    "for i in $(seq 1 9); do\n",
    "    mv 00${i}_R1.fastq.gz ${i}_R1.fastq.gz \n",
    "    mv 00${i}_R2.fastq.gz ${i}_R2.fastq.gz \n",
    "done\n",
    "\n",
    "for i in $(seq 10 14); do\n",
    "    mv 0${i}_R1.fastq.gz ${i}_R1.fastq.gz \n",
    "    mv 0${i}_R2.fastq.gz ${i}_R2.fastq.gz \n",
    "done"
   ]
  }
 ],
 "metadata": {
  "kernelspec": {
   "display_name": "Python 3",
   "language": "python",
   "name": "python3"
  },
  "language_info": {
   "codemirror_mode": {
    "name": "ipython",
    "version": 3
   },
   "file_extension": ".py",
   "mimetype": "text/x-python",
   "name": "python",
   "nbconvert_exporter": "python",
   "pygments_lexer": "ipython3",
   "version": "3.7.3"
  }
 },
 "nbformat": 4,
 "nbformat_minor": 2
}
