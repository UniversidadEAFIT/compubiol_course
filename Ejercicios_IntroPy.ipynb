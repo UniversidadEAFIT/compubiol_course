{
 "cells": [
  {
   "cell_type": "markdown",
   "metadata": {},
   "source": [
    "## Introducción a Python - Ejecicios de clase"
   ]
  },
  {
   "cell_type": "code",
   "execution_count": 3,
   "metadata": {},
   "outputs": [
    {
     "data": {
      "text/plain": [
       "24"
      ]
     },
     "execution_count": 3,
     "metadata": {},
     "output_type": "execute_result"
    }
   ],
   "source": [
    "def factorial(n):\n",
    "    fact = 1\n",
    "    for i in range(2,n+1):\n",
    "        fact = fact * i\n",
    "    \n",
    "    return fact\n",
    "factorial(4)"
   ]
  },
  {
   "cell_type": "code",
   "execution_count": 5,
   "metadata": {},
   "outputs": [
    {
     "data": {
      "text/plain": [
       "16"
      ]
     },
     "execution_count": 5,
     "metadata": {},
     "output_type": "execute_result"
    }
   ],
   "source": [
    "def potencia(base, exp):\n",
    "    pot=1\n",
    "    for i in range(0,exp):\n",
    "        pot = pot*base\n",
    "    \n",
    "    return pot\n",
    "potencia(4, 2)"
   ]
  },
  {
   "cell_type": "code",
   "execution_count": 8,
   "metadata": {},
   "outputs": [
    {
     "name": "stdout",
     "output_type": "stream",
     "text": [
      "-0.016736580176564594\n"
     ]
    }
   ],
   "source": [
    "def seno(x):\n",
    "    serie = 0\n",
    "    signo = 1\n",
    "    for n in range(1,21,2):\n",
    "        numerador = potencia(x, n)\n",
    "        denominador = factorial(n)\n",
    "        termino = signo * numerador / denominador \n",
    "        serie = serie + termino\n",
    "        signo = -signo\n",
    "    return serie\n",
    "    \n",
    "print(seno(5) * 3.1416 / 180)"
   ]
  },
  {
   "cell_type": "code",
   "execution_count": 9,
   "metadata": {},
   "outputs": [
    {
     "name": "stdout",
     "output_type": "stream",
     "text": [
      "0.48999999999999994\n"
     ]
    }
   ],
   "source": [
    "#Funcion para determinar frecuencia genotipica\n",
    "def hardyweinbergpp (aa,ab,bb):\n",
    "    AA = aa*2\n",
    "    BB = bb*2\n",
    "    AB = ab+ab\n",
    "    A_total = AA+ab\n",
    "    alelostotal= AA+BB+AB\n",
    "    frec_aleli_A = float((A_total))/float(alelostotal)\n",
    "    frec_genop_A = frec_aleli_A*frec_aleli_A\n",
    "    return frec_genop_A\n",
    "\n",
    "print(hardyweinbergpp(12,4,4))"
   ]
  },
  {
   "cell_type": "code",
   "execution_count": 10,
   "metadata": {},
   "outputs": [
    {
     "name": "stdout",
     "output_type": "stream",
     "text": [
      "[0.11703601108033242, 0.1111111111111111, 0.18646694214876033]\n"
     ]
    }
   ],
   "source": [
    "def frecuencia (aa,ab,bb):\n",
    "    frec_lis = []\n",
    "    n = len(aa)\n",
    "    for i in range (n):\n",
    "        Pdef = frec_lis.append(hardyweinbergpp(aa[i],ab[i],bb[i]))\n",
    "    return frec_lis\n",
    "print (frecuencia([3,8,2],[7,20,15],[9,26,5]))"
   ]
  },
  {
   "cell_type": "code",
   "execution_count": 2,
   "metadata": {},
   "outputs": [
    {
     "name": "stdout",
     "output_type": "stream",
     "text": [
      "UCUCUACUCAUGUCUGCA\n",
      "UCUCUCGCGACGUGCAGCU\n"
     ]
    }
   ],
   "source": [
    "# lee una cadena de DNA.\n",
    "# retorna una cadena de RNA.\n",
    "\n",
    "cadena1 = input(\"Por favor ingrese una cadena 1 en DNA\\n\")\n",
    "cadena2 = input(\"Por favor ingrese una cadena 2 en DNA\\n\")\n",
    "\n",
    "def DNA_to_RNA(cadena):\n",
    "    respuesta = \"\"\n",
    "    for i in cadena:\n",
    "        if(i == \"T\"):\n",
    "            respuesta += \"U\"\n",
    "        else:\n",
    "            respuesta = respuesta + i\n",
    "    return respuesta\n",
    "\n",
    "print(DNA_to_RNA(cadena1))\n",
    "print(DNA_to_RNA(cadena2))\n"
   ]
  },
  {
   "cell_type": "code",
   "execution_count": null,
   "metadata": {
    "collapsed": true
   },
   "outputs": [],
   "source": []
  }
 ],
 "metadata": {
  "kernelspec": {
   "display_name": "Python 3",
   "language": "python",
   "name": "python3"
  },
  "language_info": {
   "codemirror_mode": {
    "name": "ipython",
    "version": 3
   },
   "file_extension": ".py",
   "mimetype": "text/x-python",
   "name": "python",
   "nbconvert_exporter": "python",
   "pygments_lexer": "ipython3",
   "version": "3.6.3"
  }
 },
 "nbformat": 4,
 "nbformat_minor": 2
}
