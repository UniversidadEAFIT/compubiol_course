{
 "cells": [
  {
   "cell_type": "markdown",
   "metadata": {},
   "source": [
    "# Taller 3 -Manejo de Archivos y BioPython\n",
    "## Fundamentos en Biología Computacional\n",
    "## 2019-1, Prof. Javier Correa\n",
    "\n",
    "Nota: Se calificará que el código sea lo más simple, claro, original y eficiente. No usar funciones no realizadas por ustedes mismos."
   ]
  },
  {
   "cell_type": "markdown",
   "metadata": {},
   "source": [
    "Competencias: 1. Resuelve problemas de ciencias de los datos utilizando razonamiento lógico y programación en python. 2. Manipula archivos con formatos utilizados en bioinformática para extaeer información relevante. 3. Utiliza efectivamente módulos y paquetes de python especializados para biología.\n",
    "\n",
    "Tener en cuenta: a. desarrollar y aplicar funciones en python, b. manipular archivos (entrada y salida), c. utilizar librerias especializadas (Biopython).<br>\n",
    "Ejercicio:<br>\n",
    "\n",
    "1. Un investigador desea desarrollar un Script en python, que le permita encontrar el grupo monifilético en común entre una lista de especies de plantas (archivo adjunto: lista_mercado.tsv). La información sobre la taxonomía de cada una de las especies fue descargada de la base de datos del GenBank, luego concatenada y se encuentra en formato .gb anexo <br> "
   ]
  },
  {
   "cell_type": "code",
   "execution_count": 1,
   "metadata": {},
   "outputs": [
    {
     "name": "stdout",
     "output_type": "stream",
     "text": [
      "Especie\tid\n",
      "Quinua\t63459\n",
      "Tomate\t4081\n",
      "Oliva\t4146\n",
      "Yuca\t3983\n",
      "Papa\t4113\n",
      "Repollo\t3712\n",
      "Lechuga\t4236\n",
      "Durazno\t3760\n",
      "Piña\t4615\n",
      "Coco\t13894\n",
      "Lenteja\t3864\n",
      "Arveja\t3888\n",
      "Berenjena\t4111\n",
      "Garbanzo\t3827\n"
     ]
    }
   ],
   "source": [
    "%%bash\n",
    "cat lista_mercado.tsv"
   ]
  },
  {
   "cell_type": "code",
   "execution_count": 1,
   "metadata": {},
   "outputs": [
    {
     "name": "stdout",
     "output_type": "stream",
     "text": [
      "LOCUS       MG859922              122198 bp    DNA     circular PLN 30-APR-2018\n",
      "DEFINITION  Pisum sativum subsp. elatius isolate CE1 chloroplast, complete\n",
      "            genome.\n",
      "ACCESSION   MG859922\n",
      "VERSION     MG859922.1\n",
      "KEYWORDS    .\n",
      "SOURCE      chloroplast Pisum sativum subsp. elatius\n",
      "  ORGANISM  Pisum sativum subsp. elatius\n",
      "            Eukaryota; Viridiplantae; Streptophyta; Embryophyta; Tracheophyta;\n",
      "            Spermatophyta; Magnoliophyta; eudicotyledons; Gunneridae;\n",
      "            Pentapetalae; rosids; fabids; Fabales; Fabaceae; Papilionoideae;\n",
      "            Fabeae; Pisum.\n",
      "REFERENCE   1  (bases 1 to 122198)\n",
      "  AUTHORS   Bogdanova,V.S., Mglinets,A.V., Shatskaya,N.V., Kosterin,O.E. and\n",
      "            Vasiliev,G.V.\n",
      "  TITLE     Cryptic divergences in the genus Pisum L., as revealed by\n",
      "            comparative analysis of complete plastid genomes\n",
      "  JOURNAL   Unpublished\n",
      "REFERENCE   2  (bases 1 to 122198)\n",
      "  AUTHORS   Bogdanova,V.S., Mglinets,A.V., Shatskaya,N.V., Kosterin,O.E. and\n"
     ]
    }
   ],
   "source": [
    "%%bash\n",
    "head -20 Mercado.gb"
   ]
  },
  {
   "cell_type": "markdown",
   "metadata": {},
   "source": [
    "#### $\\rightarrow$ Con el archivo \"Mercado.gb\";<br>\n",
    "- A. Desarrolle un script con el cual pueda extrer la información relacionada con la taxonomía de cada especie.<br>\n",
    "- B. Organice esta información en una objeto tipo lista o diccionario.<br>\n",
    "- C. Cree una función que reciba el objeto anterior y compare las clasificaciones entre las diferentes especies para retornar el ancestro monofilético común más reciente a todas ellas. <br> Ejemplo: Embryophyta"
   ]
  },
  {
   "cell_type": "code",
   "execution_count": 148,
   "metadata": {},
   "outputs": [
    {
     "data": {
      "text/plain": [
       "[['Eukaryota',\n",
       "  'Viridiplantae',\n",
       "  'Streptophyta',\n",
       "  'Embryophyta',\n",
       "  'Tracheophyta',\n",
       "  'Spermatophyta',\n",
       "  'Magnoliophyta',\n",
       "  'eudicotyledons',\n",
       "  'Gunneridae',\n",
       "  'Pentapetalae',\n",
       "  'rosids',\n",
       "  'fabids',\n",
       "  'Fabales',\n",
       "  'Fabaceae',\n",
       "  'Papilionoideae',\n",
       "  'Fabeae',\n",
       "  'Pisum'],\n",
       " ['Eukaryota',\n",
       "  'Viridiplantae',\n",
       "  'Streptophyta',\n",
       "  'Embryophyta',\n",
       "  'Tracheophyta',\n",
       "  'Spermatophyta',\n",
       "  'Magnoliophyta',\n",
       "  'eudicotyledons',\n",
       "  'Gunneridae',\n",
       "  'Pentapetalae',\n",
       "  'asterids',\n",
       "  'lamiids',\n",
       "  'Solanales',\n",
       "  'Solanaceae',\n",
       "  'Solanoideae',\n",
       "  'Solaneae',\n",
       "  'Solanum'],\n",
       " ['Eukaryota',\n",
       "  'Viridiplantae',\n",
       "  'Streptophyta',\n",
       "  'Embryophyta',\n",
       "  'Tracheophyta',\n",
       "  'Spermatophyta',\n",
       "  'Magnoliophyta',\n",
       "  'Liliopsida',\n",
       "  'Arecaceae',\n",
       "  'Arecoideae',\n",
       "  'Cocoseae',\n",
       "  'Attaleinae',\n",
       "  'Cocos'],\n",
       " ['Eukaryota',\n",
       "  'Viridiplantae',\n",
       "  'Streptophyta',\n",
       "  'Embryophyta',\n",
       "  'Tracheophyta',\n",
       "  'Spermatophyta',\n",
       "  'Magnoliophyta',\n",
       "  'eudicotyledons',\n",
       "  'Gunneridae',\n",
       "  'Pentapetalae',\n",
       "  'rosids',\n",
       "  'fabids',\n",
       "  'Rosales',\n",
       "  'Rosaceae',\n",
       "  'Maloideae',\n",
       "  'Amygdaleae',\n",
       "  'Prunus'],\n",
       " ['Eukaryota',\n",
       "  'Viridiplantae',\n",
       "  'Streptophyta',\n",
       "  'Embryophyta',\n",
       "  'Tracheophyta',\n",
       "  'Spermatophyta',\n",
       "  'Magnoliophyta',\n",
       "  'eudicotyledons',\n",
       "  'Gunneridae',\n",
       "  'Pentapetalae',\n",
       "  'rosids',\n",
       "  'fabids',\n",
       "  'Fabales',\n",
       "  'Fabaceae',\n",
       "  'Papilionoideae',\n",
       "  'Cicereae',\n",
       "  'Cicer'],\n",
       " ['Eukaryota',\n",
       "  'Viridiplantae',\n",
       "  'Streptophyta',\n",
       "  'Embryophyta',\n",
       "  'Tracheophyta',\n",
       "  'Spermatophyta',\n",
       "  'Magnoliophyta',\n",
       "  'eudicotyledons',\n",
       "  'Gunneridae',\n",
       "  'Pentapetalae',\n",
       "  'asterids',\n",
       "  'campanulids',\n",
       "  'Asterales',\n",
       "  'Asteraceae',\n",
       "  'Cichorioideae',\n",
       "  'Cichorieae',\n",
       "  'Lactucinae',\n",
       "  'Lactuca'],\n",
       " ['Eukaryota',\n",
       "  'Viridiplantae',\n",
       "  'Streptophyta',\n",
       "  'Embryophyta',\n",
       "  'Tracheophyta',\n",
       "  'Spermatophyta',\n",
       "  'Magnoliophyta',\n",
       "  'eudicotyledons',\n",
       "  'Gunneridae',\n",
       "  'Pentapetalae',\n",
       "  'rosids',\n",
       "  'fabids',\n",
       "  'Fabales',\n",
       "  'Fabaceae',\n",
       "  'Papilionoideae',\n",
       "  'Fabeae',\n",
       "  'Lens'],\n",
       " ['Eukaryota',\n",
       "  'Viridiplantae',\n",
       "  'Streptophyta',\n",
       "  'Embryophyta',\n",
       "  'Tracheophyta',\n",
       "  'Spermatophyta',\n",
       "  'Magnoliophyta',\n",
       "  'eudicotyledons',\n",
       "  'Gunneridae',\n",
       "  'Pentapetalae',\n",
       "  'asterids',\n",
       "  'lamiids',\n",
       "  'Lamiales',\n",
       "  'Oleaceae',\n",
       "  'Oleeae',\n",
       "  'Olea'],\n",
       " ['Eukaryota',\n",
       "  'Viridiplantae',\n",
       "  'Streptophyta',\n",
       "  'Embryophyta',\n",
       "  'Tracheophyta',\n",
       "  'Spermatophyta',\n",
       "  'Magnoliophyta',\n",
       "  'eudicotyledons',\n",
       "  'Gunneridae',\n",
       "  'Pentapetalae',\n",
       "  'asterids',\n",
       "  'lamiids',\n",
       "  'Solanales',\n",
       "  'Solanaceae',\n",
       "  'Solanoideae',\n",
       "  'Solaneae',\n",
       "  'Solanum'],\n",
       " ['Eukaryota',\n",
       "  'Viridiplantae',\n",
       "  'Streptophyta',\n",
       "  'Embryophyta',\n",
       "  'Tracheophyta',\n",
       "  'Spermatophyta',\n",
       "  'Magnoliophyta',\n",
       "  'Liliopsida',\n",
       "  'Poales',\n",
       "  'Bromeliaceae',\n",
       "  'Bromelioideae',\n",
       "  'Ananas'],\n",
       " ['Eukaryota',\n",
       "  'Viridiplantae',\n",
       "  'Streptophyta',\n",
       "  'Embryophyta',\n",
       "  'Tracheophyta',\n",
       "  'Spermatophyta',\n",
       "  'Magnoliophyta',\n",
       "  'eudicotyledons',\n",
       "  'Gunneridae',\n",
       "  'Pentapetalae',\n",
       "  'Caryophyllales',\n",
       "  'Chenopodiaceae',\n",
       "  'Chenopodioideae',\n",
       "  'Atripliceae',\n",
       "  'Chenopodium'],\n",
       " ['Eukaryota',\n",
       "  'Viridiplantae',\n",
       "  'Streptophyta',\n",
       "  'Embryophyta',\n",
       "  'Tracheophyta',\n",
       "  'Spermatophyta',\n",
       "  'Magnoliophyta',\n",
       "  'eudicotyledons',\n",
       "  'Gunneridae',\n",
       "  'Pentapetalae',\n",
       "  'rosids',\n",
       "  'malvids',\n",
       "  'Brassicales',\n",
       "  'Brassicaceae',\n",
       "  'Brassiceae',\n",
       "  'Brassica'],\n",
       " ['Eukaryota',\n",
       "  'Viridiplantae',\n",
       "  'Streptophyta',\n",
       "  'Embryophyta',\n",
       "  'Tracheophyta',\n",
       "  'Spermatophyta',\n",
       "  'Magnoliophyta',\n",
       "  'eudicotyledons',\n",
       "  'Gunneridae',\n",
       "  'Pentapetalae',\n",
       "  'asterids',\n",
       "  'lamiids',\n",
       "  'Solanales',\n",
       "  'Solanaceae',\n",
       "  'Solanoideae',\n",
       "  'Solaneae',\n",
       "  'Solanum',\n",
       "  'Lycopersicon'],\n",
       " ['Eukaryota',\n",
       "  'Viridiplantae',\n",
       "  'Streptophyta',\n",
       "  'Embryophyta',\n",
       "  'Tracheophyta',\n",
       "  'Spermatophyta',\n",
       "  'Magnoliophyta',\n",
       "  'eudicotyledons',\n",
       "  'Gunneridae',\n",
       "  'Pentapetalae',\n",
       "  'rosids',\n",
       "  'fabids',\n",
       "  'Malpighiales',\n",
       "  'Euphorbiaceae',\n",
       "  'Crotonoideae',\n",
       "  'Manihoteae',\n",
       "  'Manihot']]"
      ]
     },
     "execution_count": 148,
     "metadata": {},
     "output_type": "execute_result"
    }
   ],
   "source": [
    "from Bio import SeqIO\n",
    "mercado = list(SeqIO.parse(\"Mercado.gb\",\"gb\"))\n",
    "reads=[]\n",
    "for read in mercado:\n",
    "    reads.append(read.annotations['taxonomy'])\n",
    "reads\n"
   ]
  },
  {
   "cell_type": "code",
   "execution_count": 152,
   "metadata": {},
   "outputs": [],
   "source": [
    "def ancestroinmediato (ind): \n",
    "    a=0; b=0; c=0\n",
    "    while a<12: \n",
    "        if c==1: \n",
    "            break\n",
    "        compare=ind[0][a] \n",
    "        b=0\n",
    "        while b<14:  \n",
    "            if compare!=ind[b][a]: \n",
    "                ancestro=str(ind[0][a-1])\n",
    "                c=1\n",
    "            b+=1\n",
    "        a+=1\n",
    "    return ancestro\n",
    "\n"
   ]
  },
  {
   "cell_type": "code",
   "execution_count": 154,
   "metadata": {},
   "outputs": [
    {
     "data": {
      "text/plain": [
       "'Magnoliophyta'"
      ]
     },
     "execution_count": 154,
     "metadata": {},
     "output_type": "execute_result"
    }
   ],
   "source": [
    "ancestroinmediato (reads)"
   ]
  },
  {
   "cell_type": "markdown",
   "metadata": {},
   "source": [
    "2 . El mismo investigador está ahora interesado en hacer una caracterización funcional de los genomas de los cloroplastos que poseen estas especies. Para esto y continuando con el archivo del punto anterior (Mercado.gb), resuelva las siguientes preguntas:\n",
    "\n",
    "- A. Una forma de diferenciar una especie de otra es a través de la estimación del contenido de Guaninas y Citosinas en los genomas. Utilizando funciones de biopython responder; ¿Cuales son los valores de %GC para cada especie? retorne un diccionario con las especies como llave y su respectivo valor de %GC. Consulte el diccionario y muestre ¿Qué especie presenta el mayor %GC? ¿Y cual el más bajo? Represente los resultados en un dendograma donde se relacione las proximidades en los contenidos de %GC (puede usar Ploty, numpy, etc).\n",
    "\n",
    "- B. Otra forma de caracterizar los genomas es estimando la frecuencia con las que aparecen los codones en los genes codificantes. Usando biopython hacer una función que me extraiga los genes codificantes para cada genoma del cloroplasto del archivo .gb, definir una función que me permita estimar la frecuencia de cada uno de los codones usados por la célula. Con las herramientas anteriores y usando funciones accesorias grafique la frecuencia de estos codones versus el codón encontrado para cada una de las especies. Finalmente, responda: ¿Qué especie presenta el codón más inusual? ¿Qué aminoácido es el mas prevalente y menos prevalente?\n",
    "\n"
   ]
  },
  {
   "cell_type": "code",
   "execution_count": 184,
   "metadata": {},
   "outputs": [
    {
     "name": "stdout",
     "output_type": "stream",
     "text": [
      "Pisum sativum subsp. elatius   GC:34.83117563298908\n",
      "Solanum melongena var. insanum   GC:37.710355466992354\n",
      "Cocos nucifera   GC:37.4382835724441\n",
      "Prunus persica   GC:36.759617212751124\n",
      "Cicer arietinum   GC:33.90627119590804\n",
      "Lactuca sativa   GC:37.54942005079465\n",
      "Lens culinaris   GC:34.42549627135735\n",
      "Olea europaea subsp. laperrinei   GC:37.81224741156999\n",
      "Solanum tuberosum   GC:37.87344184609045\n",
      "Ananas comosus   GC:37.37314891377885\n",
      "Chenopodium quinoa   GC:37.243747064543655\n",
      "Brassica oleracea var. capitata   GC:36.36138387908663\n",
      "Solanum lycopersicum   GC:37.86184803026014\n",
      "Manihot esculenta   GC:35.87297851387091\n"
     ]
    }
   ],
   "source": [
    "from Bio import SeqIO\n",
    "from Bio.SeqUtils import GC\n",
    "import sys\n",
    "\n",
    "gb_file = sys.argv[1]\n",
    "\n",
    "for record in SeqIO.parse(\"Mercado.gb\", \"genbank\"):\n",
    "    print(record.annotations['organism'] + '   GC:' + str(GC(record.seq)))"
   ]
  },
  {
   "cell_type": "code",
   "execution_count": 100,
   "metadata": {},
   "outputs": [
    {
     "name": "stdout",
     "output_type": "stream",
     "text": [
      "{'Pisum sativum subsp. elatius': 'GC:34.83117563298908', 'Solanum melongena var. insanum': 'GC:37.710355466992354', 'Cocos nucifera': 'GC:37.4382835724441', 'Prunus persica': 'GC:36.759617212751124', 'Cicer arietinum': 'GC:33.90627119590804', 'Lactuca sativa': 'GC:37.54942005079465', 'Lens culinaris': 'GC:34.42549627135735', 'Olea europaea subsp. laperrinei': 'GC:37.81224741156999', 'Solanum tuberosum': 'GC:37.87344184609045', 'Ananas comosus': 'GC:37.37314891377885', 'Chenopodium quinoa': 'GC:37.243747064543655', 'Brassica oleracea var. capitata': 'GC:36.36138387908663', 'Solanum lycopersicum': 'GC:37.86184803026014', 'Manihot esculenta': 'GC:35.87297851387091'}\n"
     ]
    }
   ],
   "source": [
    "dic={\"Pisum sativum subsp. elatius\":\"GC:34.83117563298908\",\n",
    "     \"Solanum melongena var. insanum\":\"GC:37.710355466992354\",\n",
    "     \"Cocos nucifera\":\"GC:37.4382835724441\",\n",
    "     \"Prunus persica\":\"GC:36.759617212751124\",\n",
    "     \"Cicer arietinum\":\"GC:33.90627119590804\",\"Lactuca sativa\":\"GC:37.54942005079465\",\n",
    "     \"Lens culinaris\":\"GC:34.42549627135735\",\n",
    "     \"Olea europaea subsp. laperrinei\":\"GC:37.81224741156999\",\n",
    "     \"Solanum tuberosum\":\"GC:37.87344184609045\",\n",
    "     \"Ananas comosus\":\"GC:37.37314891377885\",\n",
    "     \"Chenopodium quinoa\":\"GC:37.243747064543655\",\n",
    "     \"Brassica oleracea var. capitata\":\"GC:36.36138387908663\",\n",
    "     \"Solanum lycopersicum\":\"GC:37.86184803026014\",\n",
    "     \"Manihot esculenta\":\"GC:35.87297851387091\"}\n",
    "print (dic)\n",
    "\n"
   ]
  },
  {
   "cell_type": "code",
   "execution_count": 108,
   "metadata": {},
   "outputs": [
    {
     "name": "stdout",
     "output_type": "stream",
     "text": [
      "GC:37.87344184609045\n",
      "GC:33.90627119590804\n"
     ]
    }
   ],
   "source": [
    "print (dic.get(\"Solanum tuberosum\"))#Devuelve el mayor del diccionario.\n",
    "print (dic.get(\"Cicer arietinum\"))#Devuelve el menor \n",
    "\n",
    "\n",
    "\n"
   ]
  },
  {
   "cell_type": "code",
   "execution_count": 156,
   "metadata": {},
   "outputs": [],
   "source": [
    "\n",
    "\n",
    "from Bio import SeqIO\n",
    "\n",
    "fname = 'lista_mercado.tsv'\n",
    "f = open(fname, 'r')\n",
    "f1 = f.readlines()\n",
    "lmerc = []\n",
    "for i in range(0, len(f1)):\n",
    "    lmerc.append(f1[i])\n",
    "\n",
    "lmerc = lmerc[1::]\n",
    "lmerc\n",
    "\n",
    "data = SeqIO.parse(\"Mercado.gb\", \"genbank\")\n",
    "reads = []\n",
    "for r in data:\n",
    "    reads.append(r)\n",
    "\n",
    "\n",
    "\n"
   ]
  },
  {
   "cell_type": "code",
   "execution_count": 157,
   "metadata": {},
   "outputs": [],
   "source": [
    "from Bio.Seq import Seq\n",
    "from Bio import SeqUtils\n",
    "\n"
   ]
  },
  {
   "cell_type": "code",
   "execution_count": 161,
   "metadata": {},
   "outputs": [
    {
     "name": "stdout",
     "output_type": "stream",
     "text": [
      "mayor: 37.87344184609045\n",
      "menor: 33.90627119590804\n"
     ]
    }
   ],
   "source": [
    "for r in range(0, len(reads)):\n",
    "    sec = reads[r].seq\n",
    "    conGC = SeqUtils.GC(sec)\n",
    "    porGC.append(conGC)\n",
    "    \n",
    "diccionario = dict(zip(lmerc, porGC))\n",
    "\n",
    "\n",
    "print('mayor: ' + str(max([i for i in diccionario.values()])))\n",
    "print('menor: ' + str(min([i for i in diccionario.values()])))"
   ]
  },
  {
   "cell_type": "code",
   "execution_count": 182,
   "metadata": {},
   "outputs": [
    {
     "data": {
      "image/png": "[encoded data removed]",
      "text/plain": [
       "<Figure size 432x288 with 1 Axes>"
      ]
     },
     "metadata": {
      "needs_background": "light"
     },
     "output_type": "display_data"
    }
   ],
   "source": [
    "import numpy as np      #Importo las librerías correspondientes\n",
    "import matplotlib.pyplot as plt\n",
    "import pandas as pd\n",
    "#Dar la base de datos luego de hacer en un archivo a parte de excel separado por comas\n",
    "dataset = pd.read_csv('datos.csv')\n",
    "X = dataset.iloc[:, [1]].values\n",
    "#importo y configuro los valores del dendograma\n",
    "import scipy.cluster.hierarchy as sch\n",
    "dendrogram = sch.dendrogram(sch.linkage(X, method = 'ward'))\n",
    "plt.title('dendograma %GC')\n",
    "plt.xlabel('porcentaje por especie numerada desde 0') #son 13 especies\n",
    "plt.ylabel('distancia')\n",
    "plt.show()\n",
    "\n",
    "\n",
    "\n",
    "\n",
    "\n",
    "\n",
    "\n",
    "\n",
    "\n",
    "\n",
    "\n",
    "\n",
    "\n",
    "\n",
    "\n"
   ]
  },
  {
   "cell_type": "code",
   "execution_count": 197,
   "metadata": {},
   "outputs": [
    {
     "ename": "NameError",
     "evalue": "name 'Bio' is not defined",
     "output_type": "error",
     "traceback": [
      "\u001b[0;31m---------------------------------------------------------------------------\u001b[0m",
      "\u001b[0;31mNameError\u001b[0m                                 Traceback (most recent call last)",
      "\u001b[0;32m<ipython-input-197-9e711fff3b1c>\u001b[0m in \u001b[0;36m<module>\u001b[0;34m\u001b[0m\n\u001b[1;32m      3\u001b[0m \u001b[0;32mimport\u001b[0m \u001b[0msys\u001b[0m\u001b[0;34m\u001b[0m\u001b[0;34m\u001b[0m\u001b[0m\n\u001b[1;32m      4\u001b[0m \u001b[0;34m\u001b[0m\u001b[0m\n\u001b[0;32m----> 5\u001b[0;31m \u001b[0mtype\u001b[0m\u001b[0;34m(\u001b[0m\u001b[0mBio\u001b[0m\u001b[0;34m.\u001b[0m\u001b[0mSeqUtils\u001b[0m\u001b[0;34m)\u001b[0m\u001b[0;34m\u001b[0m\u001b[0;34m\u001b[0m\u001b[0m\n\u001b[0m\u001b[1;32m      6\u001b[0m \u001b[0;34m\u001b[0m\u001b[0m\n",
      "\u001b[0;31mNameError\u001b[0m: name 'Bio' is not defined"
     ]
    }
   ],
   "source": [
    "\n"
   ]
  },
  {
   "cell_type": "code",
   "execution_count": null,
   "metadata": {},
   "outputs": [],
   "source": []
  },
  {
   "cell_type": "code",
   "execution_count": null,
   "metadata": {},
   "outputs": [],
   "source": []
  }
 ],
 "metadata": {
  "kernelspec": {
   "display_name": "Python 3",
   "language": "python",
   "name": "python3"
  },
  "language_info": {
   "codemirror_mode": {
    "name": "ipython",
    "version": 3
   },
   "file_extension": ".py",
   "mimetype": "text/x-python",
   "name": "python",
   "nbconvert_exporter": "python",
   "pygments_lexer": "ipython3",
   "version": "3.7.1"
  }
 },
 "nbformat": 4,
 "nbformat_minor": 2
}
