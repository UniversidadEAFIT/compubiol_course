{
 "cells": [
  {
   "cell_type": "markdown",
   "metadata": {},
   "source": [
    "# Taller 3 -Manejo de Archivos y BioPython\n",
    "## Andres Felipe Sanchez Aguirre\n",
    "## 2019-1, Prof. Javier Correa"
   ]
  },
  {
   "cell_type": "markdown",
   "metadata": {},
   "source": [
    "1. Un investigador desea desarrollar un Script en python, que le permita encontrar el grupo monifilético en común entre una lista de especies de plantas (archivo adjunto: lista_mercado.tsv). La información sobre la taxonomía de cada una de las especies fue descargada de la base de datos del GenBank, luego concatenada y se encuentra en formato .gb anexo <br> "
   ]
  },
  {
   "cell_type": "markdown",
   "metadata": {},
   "source": [
    "#### $\\rightarrow$ Con el archivo \"Mercado.gb\";<br>\n",
    "- A. Desarrolle un script con el cual pueda extrer la información relacionada con la taxonomía de cada especie.<br>\n",
    "- B. Organice esta información en una objeto tipo lista o diccionario.<br>\n",
    "- C. Cree una función que reciba el objeto anterior y compare las clasificaciones entre las diferentes especies para retornar el ancestro monofilético común más reciente a todas ellas. <br> Ejemplo: Embryophyta"
   ]
  },
  {
   "cell_type": "markdown",
   "metadata": {},
   "source": [
    "# A #"
   ]
  },
  {
   "cell_type": "code",
   "execution_count": 5,
   "metadata": {},
   "outputs": [
    {
     "name": "stdout",
     "output_type": "stream",
     "text": [
      "MG859922.1 Pisum sativum subsp. elatius ['Eukaryota', 'Viridiplantae', 'Streptophyta', 'Embryophyta', 'Tracheophyta', 'Spermatophyta', 'Magnoliophyta', 'eudicotyledons', 'Gunneridae', 'Pentapetalae', 'rosids', 'fabids', 'Fabales', 'Fabaceae', 'Papilionoideae', 'Fabeae', 'Pisum']\n",
      "MH283711.1 Solanum melongena var. insanum ['Eukaryota', 'Viridiplantae', 'Streptophyta', 'Embryophyta', 'Tracheophyta', 'Spermatophyta', 'Magnoliophyta', 'eudicotyledons', 'Gunneridae', 'Pentapetalae', 'asterids', 'lamiids', 'Solanales', 'Solanaceae', 'Solanoideae', 'Solaneae', 'Solanum']\n",
      "KX028884.1 Cocos nucifera ['Eukaryota', 'Viridiplantae', 'Streptophyta', 'Embryophyta', 'Tracheophyta', 'Spermatophyta', 'Magnoliophyta', 'Liliopsida', 'Arecaceae', 'Arecoideae', 'Cocoseae', 'Attaleinae', 'Cocos']\n",
      "HQ336405.1 Prunus persica ['Eukaryota', 'Viridiplantae', 'Streptophyta', 'Embryophyta', 'Tracheophyta', 'Spermatophyta', 'Magnoliophyta', 'eudicotyledons', 'Gunneridae', 'Pentapetalae', 'rosids', 'fabids', 'Rosales', 'Rosaceae', 'Maloideae', 'Amygdaleae', 'Prunus']\n",
      "EU835853.1 Cicer arietinum ['Eukaryota', 'Viridiplantae', 'Streptophyta', 'Embryophyta', 'Tracheophyta', 'Spermatophyta', 'Magnoliophyta', 'eudicotyledons', 'Gunneridae', 'Pentapetalae', 'rosids', 'fabids', 'Fabales', 'Fabaceae', 'Papilionoideae', 'Cicereae', 'Cicer']\n",
      "DQ383816.1 Lactuca sativa ['Eukaryota', 'Viridiplantae', 'Streptophyta', 'Embryophyta', 'Tracheophyta', 'Spermatophyta', 'Magnoliophyta', 'eudicotyledons', 'Gunneridae', 'Pentapetalae', 'asterids', 'campanulids', 'Asterales', 'Asteraceae', 'Cichorioideae', 'Cichorieae', 'Lactucinae', 'Lactuca']\n",
      "NC_027152.1 Lens culinaris ['Eukaryota', 'Viridiplantae', 'Streptophyta', 'Embryophyta', 'Tracheophyta', 'Spermatophyta', 'Magnoliophyta', 'eudicotyledons', 'Gunneridae', 'Pentapetalae', 'rosids', 'fabids', 'Fabales', 'Fabaceae', 'Papilionoideae', 'Fabeae', 'Lens']\n",
      "MG255765.1 Olea europaea subsp. laperrinei ['Eukaryota', 'Viridiplantae', 'Streptophyta', 'Embryophyta', 'Tracheophyta', 'Spermatophyta', 'Magnoliophyta', 'eudicotyledons', 'Gunneridae', 'Pentapetalae', 'asterids', 'lamiids', 'Lamiales', 'Oleaceae', 'Oleeae', 'Olea']\n",
      "DQ231562.1 Solanum tuberosum ['Eukaryota', 'Viridiplantae', 'Streptophyta', 'Embryophyta', 'Tracheophyta', 'Spermatophyta', 'Magnoliophyta', 'eudicotyledons', 'Gunneridae', 'Pentapetalae', 'asterids', 'lamiids', 'Solanales', 'Solanaceae', 'Solanoideae', 'Solaneae', 'Solanum']\n",
      "KR336549.1 Ananas comosus ['Eukaryota', 'Viridiplantae', 'Streptophyta', 'Embryophyta', 'Tracheophyta', 'Spermatophyta', 'Magnoliophyta', 'Liliopsida', 'Poales', 'Bromeliaceae', 'Bromelioideae', 'Ananas']\n",
      "MF805727.1 Chenopodium quinoa ['Eukaryota', 'Viridiplantae', 'Streptophyta', 'Embryophyta', 'Tracheophyta', 'Spermatophyta', 'Magnoliophyta', 'eudicotyledons', 'Gunneridae', 'Pentapetalae', 'Caryophyllales', 'Chenopodiaceae', 'Chenopodioideae', 'Atripliceae', 'Chenopodium']\n",
      "KR233156.1 Brassica oleracea var. capitata ['Eukaryota', 'Viridiplantae', 'Streptophyta', 'Embryophyta', 'Tracheophyta', 'Spermatophyta', 'Magnoliophyta', 'eudicotyledons', 'Gunneridae', 'Pentapetalae', 'rosids', 'malvids', 'Brassicales', 'Brassicaceae', 'Brassiceae', 'Brassica']\n",
      "KP117024.1 Solanum lycopersicum ['Eukaryota', 'Viridiplantae', 'Streptophyta', 'Embryophyta', 'Tracheophyta', 'Spermatophyta', 'Magnoliophyta', 'eudicotyledons', 'Gunneridae', 'Pentapetalae', 'asterids', 'lamiids', 'Solanales', 'Solanaceae', 'Solanoideae', 'Solaneae', 'Solanum', 'Lycopersicon']\n",
      "EU117376.1 Manihot esculenta ['Eukaryota', 'Viridiplantae', 'Streptophyta', 'Embryophyta', 'Tracheophyta', 'Spermatophyta', 'Magnoliophyta', 'eudicotyledons', 'Gunneridae', 'Pentapetalae', 'rosids', 'fabids', 'Malpighiales', 'Euphorbiaceae', 'Crotonoideae', 'Manihoteae', 'Manihot']\n"
     ]
    },
    {
     "data": {
      "text/plain": [
       "{'molecule_type': 'DNA',\n",
       " 'topology': 'circular',\n",
       " 'data_file_division': 'PLN',\n",
       " 'date': '01-SEP-2018',\n",
       " 'accessions': ['MH283711'],\n",
       " 'sequence_version': 1,\n",
       " 'keywords': [''],\n",
       " 'source': 'chloroplast Solanum melongena var. insanum',\n",
       " 'organism': 'Solanum melongena var. insanum',\n",
       " 'taxonomy': ['Eukaryota',\n",
       "  'Viridiplantae',\n",
       "  'Streptophyta',\n",
       "  'Embryophyta',\n",
       "  'Tracheophyta',\n",
       "  'Spermatophyta',\n",
       "  'Magnoliophyta',\n",
       "  'eudicotyledons',\n",
       "  'Gunneridae',\n",
       "  'Pentapetalae',\n",
       "  'asterids',\n",
       "  'lamiids',\n",
       "  'Solanales',\n",
       "  'Solanaceae',\n",
       "  'Solanoideae',\n",
       "  'Solaneae',\n",
       "  'Solanum'],\n",
       " 'references': [Reference(title='Shedding new light on the origin and spread of the brinjal eggplant (Solanum melongena L.) and its wild relatives', ...),\n",
       "  Reference(title='Direct Submission', ...)]}"
      ]
     },
     "execution_count": 5,
     "metadata": {},
     "output_type": "execute_result"
    }
   ],
   "source": [
    "from Bio import SeqIO\n",
    "from Bio.Seq import Seq\n",
    "from Bio.Alphabet import IUPAC\n",
    "handle = SeqIO.parse(\"Mercado.gb\", \"genbank\")\n",
    "reads = []\n",
    "for read in handle:\n",
    "    reads.append(read)\n",
    "for i in range(0,len(reads)):\n",
    "    print(reads[i].id, reads[i].annotations[\"organism\"] ,reads[i].annotations[\"taxonomy\"])\n",
    "    \n",
    "reads[1].annotations"
   ]
  },
  {
   "cell_type": "markdown",
   "metadata": {},
   "source": [
    "# B #"
   ]
  },
  {
   "cell_type": "code",
   "execution_count": 6,
   "metadata": {},
   "outputs": [
    {
     "name": "stdout",
     "output_type": "stream",
     "text": [
      "MG859922.1 Eukaryota\n"
     ]
    }
   ],
   "source": [
    "taxon=[]\n",
    "ids=[]\n",
    "for i in range(0,len(reads)):\n",
    "    aux = reads[i].annotations[\"taxonomy\"]\n",
    "    taxon.append(aux)\n",
    "for i in range(0,len(reads)):\n",
    "    aux = reads[i].id\n",
    "    ids.append(aux)\n",
    "print(ids[0],taxon[0][0])"
   ]
  },
  {
   "cell_type": "markdown",
   "metadata": {},
   "source": [
    "# C #"
   ]
  },
  {
   "cell_type": "code",
   "execution_count": 7,
   "metadata": {},
   "outputs": [
    {
     "name": "stdout",
     "output_type": "stream",
     "text": [
      "Magnoliophyta\n"
     ]
    }
   ],
   "source": [
    "Ancestro=0\n",
    "longar=len(taxon)\n",
    "for i in range(0,longar):\n",
    "    for j in range(0,len(taxon[i])):\n",
    "        try: \n",
    "            if taxon[i][j]==taxon[i+1][j]:\n",
    "                Ancestro=j\n",
    "            else:\n",
    "                for x in range(0,len(taxon[i])):\n",
    "                    if taxon[x][Ancestro]!= taxon[x+1][Ancestro]:\n",
    "                        for k in range(0,len(taxon[i])):\n",
    "                            if taxon[x][k]==taxon[x+1][k]:\n",
    "                                Ancestro=k\n",
    "                    else: \n",
    "                        continue\n",
    "        except:\n",
    "            continue\n",
    "\n",
    "print(taxon[0][Ancestro])"
   ]
  },
  {
   "cell_type": "code",
   "execution_count": 8,
   "metadata": {},
   "outputs": [
    {
     "name": "stdout",
     "output_type": "stream",
     "text": [
      "Pentapetalae\n"
     ]
    }
   ],
   "source": [
    "## otra forma pero no siempre da, ya que no tiene en cuenta los taxones que estan mas adelante del contador\n",
    "ance=0\n",
    "for i in range(0,len(taxon)):\n",
    "    for j in range(0,len(taxon[i])):\n",
    "        try: \n",
    "            if taxon[i][j]==taxon[i+1][j]:\n",
    "                ance=j\n",
    "            else:\n",
    "                continue\n",
    "        except:\n",
    "            continue\n",
    "print(taxon[0][ance])"
   ]
  },
  {
   "cell_type": "markdown",
   "metadata": {},
   "source": [
    "2 . El mismo investigador está ahora interesado en hacer una caracterización funcional de los genomas de los cloroplastos que poseen estas especies. Para esto y continuando con el archivo del punto anterior (Mercado.gb), resuelva las siguientes preguntas:\n",
    "\n",
    "- A. Una forma de diferenciar una especie de otra es a través de la estimación del contenido de Guaninas y Citosinas en los genomas. Utilizando funciones de biopython responder; ¿Cuales son los valores de %GC para cada especie? retorne un diccionario con las especies como llave y su respectivo valor de %GC. Consulte el diccionario y muestre ¿Qué especie presenta el mayor %GC? ¿Y cual el más bajo? Represente los resultados en un dendograma donde se relacione las proximidades en los contenidos de %GC (puede usar Ploty, numpy, etc).\n",
    "\n",
    "- B. Otra forma de caracterizar los genomas es estimando la frecuencia con las que aparecen los codones en los genes codificantes. Usando biopython hacer una función que me extraiga los genes codificantes para cada genoma del cloroplasto del archivo .gb, definir una función que me permita estimar la frecuencia de cada uno de los codones usados por la célula. Con las herramientas anteriores y usando funciones accesorias grafique la frecuencia de estos codones versus el codón encontrado para cada una de las especies. Finalmente, responda: ¿Qué especie presenta el codón más inusual? ¿Qué aminoácido es el mas prevalente y menos prevalente?\n",
    "\n"
   ]
  },
  {
   "cell_type": "markdown",
   "metadata": {},
   "source": [
    "# 2.A #"
   ]
  },
  {
   "cell_type": "code",
   "execution_count": 9,
   "metadata": {},
   "outputs": [],
   "source": [
    "from Bio import SeqIO\n",
    "from Bio.Seq import Seq\n",
    "from Bio.Alphabet import IUPAC\n",
    "handle = SeqIO.parse(\"Mercado.gb\", \"genbank\")\n",
    "reads = []\n",
    "secuencias=[]\n",
    "ids=[]\n",
    "for read in handle:\n",
    "    reads.append(read)\n",
    "for i in reads:\n",
    "    secuencias.append(i.seq)\n",
    "suma = (secuencias[1].count(\"G\") +secuencias[1].count(\"C\"))/len(secuencias[1])\n",
    "## ids de cada specie\n",
    "for i in range(0,len(reads)):\n",
    "    aux = reads[i].id\n",
    "    ids.append(aux)"
   ]
  },
  {
   "cell_type": "code",
   "execution_count": 10,
   "metadata": {},
   "outputs": [
    {
     "data": {
      "text/plain": [
       "{'MG859922.1': 0.3483117563298908,\n",
       " 'MH283711.1': 0.3771035546699235,\n",
       " 'KX028884.1': 0.374382835724441,\n",
       " 'HQ336405.1': 0.3675961721275112,\n",
       " 'EU835853.1': 0.33906271195908044,\n",
       " 'DQ383816.1': 0.37549420050794646,\n",
       " 'NC_027152.1': 0.3442549627135736,\n",
       " 'MG255765.1': 0.37812247411569994,\n",
       " 'DQ231562.1': 0.3787344184609045,\n",
       " 'KR336549.1': 0.3737314891377885,\n",
       " 'MF805727.1': 0.3724374706454366,\n",
       " 'KR233156.1': 0.3636138387908663,\n",
       " 'KP117024.1': 0.3786184803026014,\n",
       " 'EU117376.1': 0.3587297851387091}"
      ]
     },
     "execution_count": 10,
     "metadata": {},
     "output_type": "execute_result"
    }
   ],
   "source": [
    "dic={}\n",
    "for i in range(0,len(secuencias)):\n",
    "    dic[ids[i]]= (secuencias[i].count(\"G\") +secuencias[i].count(\"C\"))/len(secuencias[i])\n",
    "dic "
   ]
  },
  {
   "cell_type": "code",
   "execution_count": 8,
   "metadata": {},
   "outputs": [
    {
     "name": "stdout",
     "output_type": "stream",
     "text": [
      "DQ231562.1\n"
     ]
    }
   ],
   "source": [
    "mayor=\"\"\n",
    "num=0\n",
    "for i in range(0,len(ids)):\n",
    "    if dic[ids[i]] > num:\n",
    "        num=dic[ids[i]]\n",
    "        mayor=ids[i]\n",
    "print(mayor)"
   ]
  },
  {
   "cell_type": "code",
   "execution_count": 19,
   "metadata": {},
   "outputs": [
    {
     "name": "stdout",
     "output_type": "stream",
     "text": [
      "EU835853.1\n"
     ]
    }
   ],
   "source": [
    "menor=\"\"\n",
    "num1=1\n",
    "for i in range(0,len(ids)-1):\n",
    "    if dic[ids[i]] < num1:\n",
    "        num1=dic[ids[i]]\n",
    "        menor=ids[i]\n",
    "print(menor)"
   ]
  },
  {
   "cell_type": "code",
   "execution_count": 12,
   "metadata": {},
   "outputs": [
    {
     "data": {
      "image/png": "[encoded data removed]",
      "text/plain": [
       "<Figure size 1440x576 with 1 Axes>"
      ]
     },
     "metadata": {
      "needs_background": "light"
     },
     "output_type": "display_data"
    }
   ],
   "source": [
    "from scipy.cluster.hierarchy import dendrogram, linkage  \n",
    "from matplotlib import pyplot as plt\n",
    "import numpy as np\n",
    "X = np.array([[33.90627119590804],[34.42549627135735], [34.8311756329890],[35.87297851387091], [36.36138387908663],[36.759617212751124],\n",
    "    [37.243747064543655],[37.37314891377885],[37.4382835724441], [37.54942005079465], [37.71035546699235],[37.81224741156999]\n",
    "    ,[37.86184803026014],[37.87344184609045],])\n",
    "linked = linkage(X, 'single')\n",
    "labelList = ids\n",
    "plt.figure(figsize=(20, 8))  \n",
    "dendrogram(linked, orientation='top',labels=ids,distance_sort='ascending', show_leaf_counts=False)\n",
    "plt.show()"
   ]
  },
  {
   "cell_type": "markdown",
   "metadata": {},
   "source": [
    "# 2.B #"
   ]
  },
  {
   "cell_type": "markdown",
   "metadata": {},
   "source": [
    "B. Otra forma de caracterizar los genomas es estimando la frecuencia con las que aparecen los codones en los genes codificantes. Usando biopython hacer una función que me extraiga los genes codificantes para cada genoma del cloroplasto del archivo .gb, definir una función que me permita estimar la frecuencia de cada uno de los codones usados por la célula. Con las herramientas anteriores y usando funciones accesorias grafique la frecuencia de estos codones versus el codón encontrado para cada una de las especies. Finalmente, responda: ¿Qué especie presenta el codón más inusual? ¿Qué aminoácido es el mas prevalente y menos prevalente?"
   ]
  },
  {
   "cell_type": "code",
   "execution_count": 13,
   "metadata": {},
   "outputs": [],
   "source": [
    "from Bio import SeqIO\n",
    "from Bio.Seq import Seq\n",
    "from Bio.Alphabet import IUPAC\n",
    "handle = SeqIO.parse(\"Mercado.gb\", \"genbank\")\n",
    "reads = []\n",
    "fec=[]\n",
    "for read in handle:\n",
    "    reads.append(read)\n",
    "reads[0].features\n",
    "for ft in range(0,len(reads)):\n",
    "    f=reads[ft].seq\n",
    "    fec.append(f)"
   ]
  },
  {
   "cell_type": "code",
   "execution_count": 14,
   "metadata": {},
   "outputs": [
    {
     "data": {
      "text/plain": [
       "[Seq('GGCGAACGACGGGAATTGAACCCGCGCATGGTGGATTCACAATCCACTGCCTTG...GCG', IUPACAmbiguousDNA()),\n",
       " Seq('AAAAAATTGATAAGCTTAACACAAAAGTTATGGGCGAACGACGGGAATTGAACC...TAA', IUPACAmbiguousDNA()),\n",
       " Seq('AAATTTTCCTTTCCATTATGAATAGCGATTGTATGGCCAATCATTGTGGGTATA...TAC', IUPACAmbiguousDNA()),\n",
       " Seq('TGGGCGAACGACGGGAATTGAACCCGCGCATGGTGGATTCACAATCCACTGCCT...TTA', IUPACAmbiguousDNA()),\n",
       " Seq('TGGGCGAACGACGGGAATTGAACCCGCGCATGGTGGATTCACAATCCACTGCCT...TTA', IUPACAmbiguousDNA()),\n",
       " Seq('TAAATTCAATTTGGGCGAACGACGGGAATTGAACCCGCGCATGGTGGATTCACA...AAT', IUPACAmbiguousDNA()),\n",
       " Seq('ATCCACTTGGCTACATCCGCCCTATAACTATGTCTAAATTATACAACTTTTTAT...TTG', IUPACAmbiguousDNA()),\n",
       " Seq('TGATGATATCATTTTAGTTATGGGCGAACGACGGGAATTGAACCCGCGCATGGT...GGA', IUPACAmbiguousDNA()),\n",
       " Seq('CTGTCTAATATCTCATATTTATGAATTATGGGCGAACGACGGGAATTGAACCCG...AAC', IUPACAmbiguousDNA()),\n",
       " Seq('AAAAAATACCCAATATCTTGTTTAGCAAGATATTGGGTATTTTTCCTTCAGCAA...AAG', IUPACAmbiguousDNA()),\n",
       " Seq('GCGAACGACGGGAATTGAACCCGCGCATGGTGGATTCACAATCCACTGCCTTGA...CGG', IUPACAmbiguousDNA()),\n",
       " Seq('ACGGGCGAACGACGGGAATTGAACCCGCGATGGTGAATTCACAATCCACTGCCT...ATC', IUPACAmbiguousDNA()),\n",
       " Seq('GGGCGAACGACGGGAATTGAACCCGCGCATGGTGGATTCACAATCCACTGCCTT...AAT', IUPACAmbiguousDNA()),\n",
       " Seq('TGGGCGAATGACGGGAATTGAACCCGCGCATGGTGGATTCACAATCCACTGCCT...AGG', IUPACAmbiguousDNA())]"
      ]
     },
     "execution_count": 14,
     "metadata": {},
     "output_type": "execute_result"
    }
   ],
   "source": [
    "fec\n",
    "##reads[0].features"
   ]
  },
  {
   "cell_type": "code",
   "execution_count": 15,
   "metadata": {},
   "outputs": [],
   "source": [
    "Codones={'ATG':'M','ACA':'T', 'ACC':'T', 'ACG':'T',\n",
    "         'ACT':'T','ATA':'I', 'ATC':'I', 'ATT':'I', \n",
    "         'AAC':'N', 'AAT':'N', 'AAA':'K', 'AAG':'K',\n",
    "         'AGC':'S', 'AGT':'S', 'CAA':'Q', 'CAG':'Q',\n",
    "         'GTA':'V', 'GTC':'V', 'GTG':'V', 'GTT':'V',\n",
    "         'CCA':'P', 'CCC':'P', 'CCG':'P', 'CCT':'P',\n",
    "         'CAC':'H', 'CAT':'H', 'AGA':'R', 'AGG':'R',\n",
    "         'CGA':'R', 'CGC':'R', 'CGG':'R', 'CGT':'R',\n",
    "         'CTA':'L', 'CTC':'L', 'CTG':'L', 'CTT':'L',\n",
    "         'GCA':'A', 'GCC':'A', 'GCG':'A', 'GCT':'A',\n",
    "         'GAC':'D', 'GAT':'D', 'GAA':'E', 'GAG':'E',\n",
    "         'GGA':'G', 'GGC':'G', 'GGG':'G', 'GGT':'G',\n",
    "         'TCA':'S', 'TCC':'S', 'TCG':'S', 'TCT':'S',\n",
    "         'TTC':'F', 'TTT':'F', 'TTA':'L', 'TTG':'L',\n",
    "         'TAC':'Y', 'TAT':'Y', 'TGC':'C', 'TGT':'C', \n",
    "         'TGA':'.', 'TGG':'W','TAA':'.', 'TAG':'.',}"
   ]
  },
  {
   "cell_type": "code",
   "execution_count": 16,
   "metadata": {},
   "outputs": [],
   "source": [
    "frec1={}\n",
    "for con in Codones:\n",
    "        frec1[con]=Codones[con]\n",
    "        suma =fec[0].count(con) \n",
    "        frec1[con]=(suma/len(fec[0]))"
   ]
  },
  {
   "cell_type": "code",
   "execution_count": 17,
   "metadata": {},
   "outputs": [
    {
     "name": "stdout",
     "output_type": "stream",
     "text": [
      "specie #0{('ATG', 'M'): 'M', 'ATG': 0.01722614118070672, ('ACA', 'T'): 'T', 'ACA': 0.01272524918574772, ('ACC', 'T'): 'T', 'ACC': 0.010319317828442365, ('ACG', 'T'): 'T', 'ACG': 0.006587669192621811, ('ACT', 'T'): 'T', 'ACT': 0.013690895104666197, ('ATA', 'I'): 'I', 'ATA': 0.029304898607178515, ('ATC', 'I'): 'I', 'ATC': 0.020180363017397993, ('ATT', 'I'): 'I', 'ATT': 0.03826576539714234, ('AAC', 'N'): 'N', 'AAC': 0.014803842943419696, ('AAT', 'N'): 'N', 'AAT': 0.03832304947707819, ('AAA', 'K'): 'K', 'AAA': 0.02836380300823254, ('AAG', 'K'): 'K', 'AAG': 0.01754529534034927, ('AGC', 'S'): 'S', 'AGC': 0.008608978870357943, ('AGT', 'S'): 'S', 'AGT': 0.012848000785610238, ('CAA', 'Q'): 'Q', 'CAA': 0.021015073896463118, ('CAG', 'Q'): 'Q', 'CAG': 0.008437126630550419, ('GTA', 'V'): 'V', 'GTA': 0.01328172310512447, ('GTC', 'V'): 'V', 'GTC': 0.007692433591384475, ('GTG', 'V'): 'V', 'GTG': 0.006260331592988428, ('GTT', 'V'): 'V', 'GTT': 0.015540352542594804, ('CCA', 'P'): 'P', 'CCA': 0.013658161344702859, ('CCC', 'P'): 'P', 'CCC': 0.007152326551989394, ('CCG', 'P'): 'P', 'CCG': 0.006432183832795954, ('CCT', 'P'): 'P', 'CCT': 0.011743236386847575, ('CAC', 'H'): 'H', 'CAC': 0.007029574952126876, ('CAT', 'H'): 'H', 'CAT': 0.016571465981439958, ('AGA', 'R'): 'R', 'AGA': 0.01826543805954271, ('AGG', 'R'): 'R', 'AGG': 0.010286584068479026, ('CGA', 'R'): 'R', 'CGA': 0.009967429908836478, ('CGC', 'R'): 'R', 'CGC': 0.004329039755151476, ('CGG', 'R'): 'R', 'CGG': 0.00586752647342837, ('CGT', 'R'): 'R', 'CGT': 0.006604036072603479, ('CTA', 'L'): 'L', 'CTA': 0.01628504558176075, ('CTC', 'L'): 'L', 'CTC': 0.010540270708194896, ('CTG', 'L'): 'L', 'CTG': 0.008813564870128807, ('CTT', 'L'): 'L', 'CTT': 0.02042586621712303, ('GCA', 'A'): 'A', 'GCA': 0.00822435719078872, ('GCC', 'A'): 'A', 'GCC': 0.005875709913419205, ('GCG', 'A'): 'A', 'GCG': 0.00370709831584805, ('GCT', 'A'): 'A', 'GCT': 0.008739913910211297, ('GAC', 'D'): 'D', 'GAC': 0.007831552071228662, ('GAT', 'D'): 'D', 'GAT': 0.019574788458076236, ('GAA', 'E'): 'E', 'GAA': 0.02519681173177957, ('GAG', 'E'): 'E', 'GAG': 0.00948460694937724, ('GGA', 'G'): 'G', 'GGA': 0.014321019983960457, ('GGC', 'G'): 'G', 'GGC': 0.005302869114060787, ('GGG', 'G'): 'G', 'GGG': 0.006399450072832616, ('GGT', 'G'): 'G', 'GGT': 0.009771027349056449, ('TCA', 'S'): 'S', 'TCA': 0.018257254619551876, ('TCC', 'S'): 'S', 'TCC': 0.01563855382248482, ('TCG', 'S'): 'S', 'TCG': 0.0101147318286715, ('TCT', 'S'): 'S', 'TCT': 0.021211476456243147, ('TTC', 'F'): 'F', 'TTC': 0.027488174929213245, ('TTT', 'F'): 'F', 'TTT': 0.03093340316535459, ('TTA', 'L'): 'L', 'TTA': 0.025131344211852893, ('TTG', 'L'): 'L', 'TTG': 0.021604281575803203, ('TAC', 'Y'): 'Y', 'TAC': 0.013846380464492054, ('TAT', 'Y'): 'Y', 'TAT': 0.030409663005941178, ('TGC', 'C'): 'C', 'TGC': 0.00824072407077039, ('TGT', 'C'): 'C', 'TGT': 0.013306273425096974, ('TGA', '.'): '.', 'TGA': 0.0188791960588553, ('TGG', 'W'): 'W', 'TGG': 0.013232622465179462, ('TAA', '.'): '.', 'TAA': 0.024460302132604462, ('TAG', '.'): '.', 'TAG': 0.015196648062979753}/n\n",
      "specie #1{('ATG', 'M'): 'M', 'ATG': 0.0162242077521373, ('ACA', 'T'): 'T', 'ACA': 0.01228385935591695, ('ACC', 'T'): 'T', 'ACC': 0.011178247734138972, ('ACG', 'T'): 'T', 'ACG': 0.007077199974288102, ('ACT', 'T'): 'T', 'ACT': 0.012772385421353732, ('ATA', 'I'): 'I', 'ATA': 0.02479269782091663, ('ATC', 'I'): 'I', 'ATC': 0.02096805296651025, ('ATT', 'I'): 'I', 'ATT': 0.0346403548241949, ('AAC', 'N'): 'N', 'AAC': 0.014790769428553063, ('AAT', 'N'): 'N', 'AAT': 0.03410040496239635, ('AAA', 'K'): 'K', 'AAA': 0.025891881468149386, ('AAG', 'K'): 'K', 'AAG': 0.019798161599280068, ('AGC', 'S'): 'S', 'AGC': 0.009481262454200681, ('AGT', 'S'): 'S', 'AGT': 0.01333161920678794, ('CAA', 'Q'): 'Q', 'CAA': 0.02046667095198303, ('CAG', 'Q'): 'Q', 'CAG': 0.009044160185125667, ('GTA', 'V'): 'V', 'GTA': 0.013383043003149707, ('GTC', 'V'): 'V', 'GTC': 0.008414218679694028, ('GTG', 'V'): 'V', 'GTG': 0.007495018319727454, ('GTT', 'V'): 'V', 'GTT': 0.015555698399434338, ('CCA', 'P'): 'P', 'CCA': 0.014822909301279167, ('CCC', 'P'): 'P', 'CCC': 0.008780613228771614, ('CCG', 'P'): 'P', 'CCG': 0.007816417046988494, ('CCT', 'P'): 'P', 'CCT': 0.013016648454072122, ('CAC', 'H'): 'H', 'CAC': 0.007263611236099505, ('CAT', 'H'): 'H', 'CAT': 0.017554798482998006, ('AGA', 'R'): 'R', 'AGA': 0.01966960210837565, ('AGG', 'R'): 'R', 'AGG': 0.011930320755929806, ('CGA', 'R'): 'R', 'CGA': 0.011666773799575753, ('CGC', 'R'): 'R', 'CGC': 0.0044802982580188985, ('CGG', 'R'): 'R', 'CGG': 0.007347174905187375, ('CGT', 'R'): 'R', 'CGT': 0.007713569454264961, ('CTA', 'L'): 'L', 'CTA': 0.015060744359452337, ('CTC', 'L'): 'L', 'CTC': 0.011904608857748923, ('CTG', 'L'): 'L', 'CTG': 0.009397698785112811, ('CTT', 'L'): 'L', 'CTT': 0.020807353602879733, ('GCA', 'A'): 'A', 'GCA': 0.00850421032332712, ('GCC', 'A'): 'A', 'GCC': 0.007019348203381115, ('GCG', 'A'): 'A', 'GCG': 0.004448158385292794, ('GCT', 'A'): 'A', 'GCT': 0.009635533843285981, ('GAC', 'D'): 'D', 'GAC': 0.00842707462878447, ('GAT', 'D'): 'D', 'GAT': 0.020659510188339655, ('GAA', 'E'): 'E', 'GAA': 0.026444687279038374, ('GAG', 'E'): 'E', 'GAG': 0.010927556726875362, ('GGA', 'G'): 'G', 'GGA': 0.015060744359452337, ('GGC', 'G'): 'G', 'GGC': 0.006974352381564569, ('GGG', 'G'): 'G', 'GGG': 0.00793854856334769, ('GGT', 'G'): 'G', 'GGT': 0.010876132930513595, ('TCA', 'S'): 'S', 'TCA': 0.018583274410233337, ('TCC', 'S'): 'S', 'TCC': 0.017458378864819695, ('TCG', 'S'): 'S', 'TCG': 0.011891752908658482, ('TCT', 'S'): 'S', 'TCT': 0.021070900559233784, ('TTC', 'F'): 'F', 'TTC': 0.028392363566240277, ('TTT', 'F'): 'F', 'TTT': 0.027357459664459727, ('TTA', 'L'): 'L', 'TTA': 0.021186604101047758, ('TTG', 'L'): 'L', 'TTG': 0.021424439159220928, ('TAC', 'Y'): 'Y', 'TAC': 0.012965224657710356, ('TAT', 'Y'): 'Y', 'TAT': 0.02447772706820081, ('TGC', 'C'): 'C', 'TGC': 0.008645625763321977, ('TGT', 'C'): 'C', 'TGT': 0.012708105675901523, ('TGA', '.'): '.', 'TGA': 0.01933534743202417, ('TGG', 'W'): 'W', 'TGG': 0.01363373401041332, ('TAA', '.'): '.', 'TAA': 0.021777977759208072, ('TAG', '.'): '.', 'TAG': 0.015369287137622934}/n\n",
      "specie #2{('ATG', 'M'): 'M', 'ATG': 0.01872818922062815, ('ACA', 'T'): 'T', 'ACA': 0.013532376890267546, ('ACC', 'T'): 'T', 'ACC': 0.010843996381026238, ('ACG', 'T'): 'T', 'ACG': 0.007418896213002455, ('ACT', 'T'): 'T', 'ACT': 0.013112317435698592, ('ATA', 'I'): 'I', 'ATA': 0.02656714488819956, ('ATC', 'I'): 'I', 'ATC': 0.021616905777433113, ('ATT', 'I'): 'I', 'ATT': 0.03386971694455215, ('AAC', 'N'): 'N', 'AAC': 0.015147990177071215, ('AAT', 'N'): 'N', 'AAT': 0.033637068631252424, ('AAA', 'K'): 'K', 'AAA': 0.026024298823833527, ('AAG', 'K'): 'K', 'AAG': 0.019865580974537934, ('AGC', 'S'): 'S', 'AGC': 0.009073284218689415, ('AGT', 'S'): 'S', 'AGT': 0.013448364999353755, ('CAA', 'Q'): 'Q', 'CAA': 0.020311490241695748, ('CAG', 'Q'): 'Q', 'CAG': 0.009822928783766317, ('GTA', 'V'): 'V', 'GTA': 0.014275559002197234, ('GTC', 'V'): 'V', 'GTC': 0.008284864934729224, ('GTG', 'V'): 'V', 'GTG': 0.007399508853560811, ('GTT', 'V'): 'V', 'GTT': 0.015296626599457155, ('CCA', 'P'): 'P', 'CCA': 0.01385549954762828, ('CCC', 'P'): 'P', 'CCC': 0.0074964456507690316, ('CCG', 'P'): 'P', 'CCG': 0.007270259790616518, ('CCT', 'P'): 'P', 'CCT': 0.01182628925940287, ('CAC', 'H'): 'H', 'CAC': 0.0077161690577743315, ('CAT', 'H'): 'H', 'CAT': 0.01770712162336823, ('AGA', 'R'): 'R', 'AGA': 0.020847873852914565, ('AGG', 'R'): 'R', 'AGG': 0.012563008918185343, ('CGA', 'R'): 'R', 'CGA': 0.011684115290164146, ('CGC', 'R'): 'R', 'CGC': 0.004148894920511827, ('CGG', 'R'): 'R', 'CGG': 0.007638619620007755, ('CGT', 'R'): 'R', 'CGT': 0.0072185601654388, ('CTA', 'L'): 'L', 'CTA': 0.014385420705699883, ('CTC', 'L'): 'L', 'CTC': 0.010934470725087244, ('CTG', 'L'): 'L', 'CTG': 0.009409331782344578, ('CTT', 'L'): 'L', 'CTT': 0.01885097583042523, ('GCA', 'A'): 'A', 'GCA': 0.008498125888587308, ('GCC', 'A'): 'A', 'GCC': 0.0062556546465038125, ('GCG', 'A'): 'A', 'GCG': 0.004355693421222696, ('GCT', 'A'): 'A', 'GCT': 0.009073284218689415, ('GAC', 'D'): 'D', 'GAC': 0.008291327387876439, ('GAT', 'D'): 'D', 'GAT': 0.02186247899702727, ('GAA', 'E'): 'E', 'GAA': 0.02753651286028176, ('GAG', 'E'): 'E', 'GAG': 0.011903838697169445, ('GGA', 'G'): 'G', 'GGA': 0.017448623497479644, ('GGC', 'G'): 'G', 'GGC': 0.006436603334625824, ('GGG', 'G'): 'G', 'GGG': 0.00856921287320667, ('GGT', 'G'): 'G', 'GGT': 0.011309293007625695, ('TCA', 'S'): 'S', 'TCA': 0.019535995864029987, ('TCC', 'S'): 'S', 'TCC': 0.015852397570117617, ('TCG', 'S'): 'S', 'TCG': 0.011664727930722502, ('TCT', 'S'): 'S', 'TCT': 0.01890913790875016, ('TTC', 'F'): 'F', 'TTC': 0.025785188057386586, ('TTT', 'F'): 'F', 'TTT': 0.025119555383223472, ('TTA', 'L'): 'L', 'TTA': 0.022146826935504717, ('TTG', 'L'): 'L', 'TTG': 0.020085304381543233, ('TAC', 'Y'): 'Y', 'TAC': 0.013894274266511568, ('TAT', 'Y'): 'Y', 'TAT': 0.02735556417215975, ('TGC', 'C'): 'C', 'TGC': 0.008504588341734523, ('TGT', 'C'): 'C', 'TGT': 0.013021843091637586, ('TGA', '.'): '.', 'TGA': 0.018844513377278015, ('TGG', 'W'): 'W', 'TGG': 0.014992891301538063, ('TAA', '.'): '.', 'TAA': 0.020796174227736847, ('TAG', '.'): '.', 'TAG': 0.015109215458187927}/n\n",
      "specie #3{('ATG', 'M'): 'M', 'ATG': 0.016426896508016986, ('ACA', 'T'): 'T', 'ACA': 0.012649724317130363, ('ACC', 'T'): 'T', 'ACC': 0.011325179035426833, ('ACG', 'T'): 'T', 'ACG': 0.007389568413714431, ('ACT', 'T'): 'T', 'ACT': 0.012833512896888269, ('ATA', 'I'): 'I', 'ATA': 0.028385829266746942, ('ATC', 'I'): 'I', 'ATC': 0.020457570188224857, ('ATT', 'I'): 'I', 'ATT': 0.035540908802839215, ('AAC', 'N'): 'N', 'AAC': 0.015412890550731986, ('AAT', 'N'): 'N', 'AAT': 0.035331770074149185, ('AAA', 'K'): 'K', 'AAA': 0.0264909056340706, ('AAG', 'K'): 'K', 'AAG': 0.018359845364091514, ('AGC', 'S'): 'S', 'AGC': 0.008986627796438305, ('AGT', 'S'): 'S', 'AGT': 0.012871538120286456, ('CAA', 'Q'): 'Q', 'CAA': 0.019487926991571074, ('CAG', 'Q'): 'Q', 'CAG': 0.008695101083718867, ('GTA', 'V'): 'V', 'GTA': 0.014284808923252424, ('GTC', 'V'): 'V', 'GTC': 0.007826858482793587, ('GTG', 'V'): 'V', 'GTG': 0.007484631472209899, ('GTT', 'V'): 'V', 'GTT': 0.015419228087965017, ('CCA', 'P'): 'P', 'CCA': 0.014348184295582737, ('CCC', 'P'): 'P', 'CCC': 0.008815514291146461, ('CCG', 'P'): 'P', 'CCG': 0.007921921541289055, ('CCT', 'P'): 'P', 'CCT': 0.012580011407567019, ('CAC', 'H'): 'H', 'CAC': 0.00712972938716015, ('CAT', 'H'): 'H', 'CAT': 0.018004943279041764, ('AGA', 'R'): 'R', 'AGA': 0.01778312947588567, ('AGG', 'R'): 'R', 'AGG': 0.011445592242854427, ('CGA', 'R'): 'R', 'CGA': 0.01090056404081374, ('CGC', 'R'): 'R', 'CGC': 0.004898916281133152, ('CGG', 'R'): 'R', 'CGG': 0.007700107738132961, ('CGT', 'R'): 'R', 'CGT': 0.007567019456239305, ('CTA', 'L'): 'L', 'CTA': 0.014703086380632486, ('CTC', 'L'): 'L', 'CTC': 0.011578680524748083, ('CTG', 'L'): 'L', 'CTG': 0.009075353317700742, ('CTT', 'L'): 'L', 'CTT': 0.020197731161670576, ('GCA', 'A'): 'A', 'GCA': 0.008321186386970023, ('GCC', 'A'): 'A', 'GCC': 0.0068065149882755565, ('GCG', 'A'): 'A', 'GCG': 0.004563026807782496, ('GCT', 'A'): 'A', 'GCT': 0.009265479434691679, ('GAC', 'D'): 'D', 'GAC': 0.007750808035997212, ('GAT', 'D'): 'D', 'GAT': 0.020051967805310857, ('GAA', 'E'): 'E', 'GAA': 0.024158691932315103, ('GAG', 'E'): 'E', 'GAG': 0.010228785094112429, ('GGA', 'G'): 'G', 'GGA': 0.014544647949806705, ('GGC', 'G'): 'G', 'GGC': 0.006705114392547056, ('GGG', 'G'): 'G', 'GGG': 0.007864883706191773, ('GGT', 'G'): 'G', 'GGT': 0.010824513594017366, ('TCA', 'S'): 'S', 'TCA': 0.017757779326953545, ('TCC', 'S'): 'S', 'TCC': 0.016718423220736422, ('TCG', 'S'): 'S', 'TCG': 0.011211103365232272, ('TCT', 'S'): 'S', 'TCT': 0.020242093922301793, ('TTC', 'F'): 'F', 'TTC': 0.02670004436276063, ('TTT', 'F'): 'F', 'TTT': 0.027999239495532038, ('TTA', 'L'): 'L', 'TTA': 0.024025603650421445, ('TTG', 'L'): 'L', 'TTG': 0.02043222003929273, ('TAC', 'Y'): 'Y', 'TAC': 0.014145383104125737, ('TAT', 'Y'): 'Y', 'TAT': 0.02761264972431713, ('TGC', 'C'): 'C', 'TGC': 0.008346536535902149, ('TGT', 'C'): 'C', 'TGT': 0.013530641992521707, ('TGA', '.'): '.', 'TGA': 0.018397870587489703, ('TGG', 'W'): 'W', 'TGG': 0.012928575955383739, ('TAA', '.'): '.', 'TAA': 0.025457887065086508, ('TAG', '.'): '.', 'TAG': 0.01436719690728183}/n\n",
      "specie #4{('ATG', 'M'): 'M', 'ATG': 0.017283891508869366, ('ACA', 'T'): 'T', 'ACA': 0.013134480804985676, ('ACC', 'T'): 'T', 'ACC': 0.009352133355676313, ('ACG', 'T'): 'T', 'ACG': 0.006575220038461845, ('ACT', 'T'): 'T', 'ACT': 0.012543987743279151, ('ATA', 'I'): 'I', 'ATA': 0.03056200576129717, ('ATC', 'I'): 'I', 'ATC': 0.018847900158794756, ('ATT', 'I'): 'I', 'ATT': 0.04018544673991972, ('AAC', 'N'): 'N', 'AAC': 0.014953837805919294, ('AAT', 'N'): 'N', 'AAT': 0.03926778860348391, ('AAA', 'K'): 'K', 'AAA': 0.030976946831685538, ('AAG', 'K'): 'K', 'AAG': 0.018688307439414614, ('AGC', 'S'): 'S', 'AGC': 0.008139228688387236, ('AGT', 'S'): 'S', 'AGT': 0.013589320055219081, ('CAA', 'Q'): 'Q', 'CAA': 0.020228377181432982, ('CAG', 'Q'): 'Q', 'CAG': 0.008657905026372696, ('GTA', 'V'): 'V', 'GTA': 0.013804770226382273, ('GTC', 'V'): 'V', 'GTC': 0.007532776354742697, ('GTG', 'V'): 'V', 'GTG': 0.006694914577996952, ('GTT', 'V'): 'V', 'GTT': 0.015217165792896527, ('CCA', 'P'): 'P', 'CCA': 0.01150663506730823, ('CCC', 'P'): 'P', 'CCC': 0.005833113893344186, ('CCG', 'P'): 'P', 'CCG': 0.0060565437004763845, ('CCT', 'P'): 'P', 'CCT': 0.009926667145444825, ('CAC', 'H'): 'H', 'CAC': 0.005920889889003264, ('CAT', 'H'): 'H', 'CAT': 0.015991190481890218, ('AGA', 'R'): 'R', 'AGA': 0.019534148852129365, ('AGG', 'R'): 'R', 'AGG': 0.011171490356609932, ('CGA', 'R'): 'R', 'CGA': 0.010317669307926172, ('CGC', 'R'): 'R', 'CGC': 0.0036147750939602135, ('CGG', 'R'): 'R', 'CGG': 0.006311892051484611, ('CGT', 'R'): 'R', 'CGT': 0.00653532185861681, ('CTA', 'L'): 'L', 'CTA': 0.015480493779873762, ('CTC', 'L'): 'L', 'CTC': 0.008849416289628867, ('CTG', 'L'): 'L', 'CTG': 0.0076524708942778035, ('CTT', 'L'): 'L', 'CTT': 0.018592551807786527, ('GCA', 'A'): 'A', 'GCA': 0.008051452692728158, ('GCC', 'A'): 'A', 'GCC': 0.004851618669156313, ('GCG', 'A'): 'A', 'GCG': 0.004053655072255604, ('GCT', 'A'): 'A', 'GCT': 0.008625986482496668, ('GAC', 'D'): 'D', 'GAC': 0.0072534890958274485, ('GAT', 'D'): 'D', 'GAT': 0.019941110286548727, ('GAA', 'E'): 'E', 'GAA': 0.026356737605630433, ('GAG', 'E'): 'E', 'GAG': 0.00999848386916589, ('GGA', 'G'): 'G', 'GGA': 0.015145349069175465, ('GGC', 'G'): 'G', 'GGC': 0.005928869524972271, ('GGG', 'G'): 'G', 'GGG': 0.007397122543269576, ('GGT', 'G'): 'G', 'GGT': 0.010684732562500498, ('TCA', 'S'): 'S', 'TCA': 0.017866404934606884, ('TCC', 'S'): 'S', 'TCC': 0.013286093888396812, ('TCG', 'S'): 'S', 'TCG': 0.01007828022885596, ('TCT', 'S'): 'S', 'TCT': 0.01888779833863979, ('TTC', 'F'): 'F', 'TTC': 0.025478977649039652, ('TTT', 'F'): 'F', 'TTT': 0.03136794899416689, ('TTA', 'L'): 'L', 'TTA': 0.027689336812454616, ('TTG', 'L'): 'L', 'TTG': 0.020826849879108517, ('TAC', 'Y'): 'Y', 'TAC': 0.013716994230723194, ('TAT', 'Y'): 'Y', 'TAT': 0.031918543876028375, ('TGC', 'C'): 'C', 'TGC': 0.007915798881255038, ('TGT', 'C'): 'C', 'TGT': 0.01221682266854986, ('TGA', '.'): '.', 'TGA': 0.017834486390730854, ('TGG', 'W'): 'W', 'TGG': 0.01427556874855369, ('TAA', '.'): '.', 'TAA': 0.026324819061754403, ('TAG', '.'): '.', 'TAG': 0.015807658854603054}/n\n"
     ]
    },
    {
     "name": "stdout",
     "output_type": "stream",
     "text": [
      "specie #5{('ATG', 'M'): 'M', 'ATG': 0.017607938627497186, ('ACA', 'T'): 'T', 'ACA': 0.012436833974812139, ('ACC', 'T'): 'T', 'ACC': 0.010689131516246432, ('ACG', 'T'): 'T', 'ACG': 0.007062812557274894, ('ACT', 'T'): 'T', 'ACT': 0.013137224098656822, ('ATA', 'I'): 'I', 'ATA': 0.02546278113790485, ('ATC', 'I'): 'I', 'ATC': 0.02053386746262404, ('ATT', 'I'): 'I', 'ATT': 0.03450894142905768, ('AAC', 'N'): 'N', 'AAC': 0.015048569109522687, ('AAT', 'N'): 'N', 'AAT': 0.03382164270939701, ('AAA', 'K'): 'K', 'AAA': 0.026222082580577594, ('AAG', 'K'): 'K', 'AAG': 0.019997119891079516, ('AGC', 'S'): 'S', 'AGC': 0.009393082502029167, ('AGT', 'S'): 'S', 'AGT': 0.013359777969785038, ('CAA', 'Q'): 'Q', 'CAA': 0.020317859293587832, ('CAG', 'Q'): 'Q', 'CAG': 0.00917052863090095, ('GTA', 'V'): 'V', 'GTA': 0.013287775246772968, ('GTC', 'V'): 'V', 'GTC': 0.008502867017516298, ('GTG', 'V'): 'V', 'GTG': 0.007671562851831487, ('GTT', 'V'): 'V', 'GTT': 0.015192574555546828, ('CCA', 'P'): 'P', 'CCA': 0.013582331840913257, ('CCC', 'P'): 'P', 'CCC': 0.008064304977351871, ('CCG', 'P'): 'P', 'CCG': 0.0075864687246354045, ('CCT', 'P'): 'P', 'CCT': 0.012332102741340036, ('CAC', 'H'): 'H', 'CAC': 0.007003901238446836, ('CAT', 'H'): 'H', 'CAT': 0.01716937658733276, ('AGA', 'R'): 'R', 'AGA': 0.02026549367685178, ('AGG', 'R'): 'R', 'AGG': 0.012364831251800068, ('CGA', 'R'): 'R', 'CGA': 0.010996779514570733, ('CGC', 'R'): 'R', 'CGC': 0.0047979996334406826, ('CGG', 'R'): 'R', 'CGG': 0.007547194512083366, ('CGT', 'R'): 'R', 'CGT': 0.0072526379179430785, ('CTA', 'L'): 'L', 'CTA': 0.015094389024166733, ('CTC', 'L'): 'L', 'CTC': 0.011173513471054905, ('CTG', 'L'): 'L', 'CTG': 0.00935380828947713, ('CTT', 'L'): 'L', 'CTT': 0.020056031209907576, ('GCA', 'A'): 'A', 'GCA': 0.008594506846804389, ('GCC', 'A'): 'A', 'GCC': 0.007128269578194957, ('GCG', 'A'): 'A', 'GCG': 0.004745634016704632, ('GCT', 'A'): 'A', 'GCT': 0.00968109339407745, ('GAC', 'D'): 'D', 'GAC': 0.008201764721284005, ('GAT', 'D'): 'D', 'GAT': 0.020978975204880474, ('GAA', 'E'): 'E', 'GAA': 0.026765375854214124, ('GAG', 'E'): 'E', 'GAG': 0.01169062393632341, ('GGA', 'G'): 'G', 'GGA': 0.01637080093210798, ('GGC', 'G'): 'G', 'GGC': 0.007180635194931008, ('GGG', 'G'): 'G', 'GGG': 0.008561778336344356, ('GGT', 'G'): 'G', 'GGT': 0.011278244704527008, ('TCA', 'S'): 'S', 'TCA': 0.018858167727070406, ('TCC', 'S'): 'S', 'TCC': 0.015683502212447308, ('TCG', 'S'): 'S', 'TCG': 0.011199696279422931, ('TCT', 'S'): 'S', 'TCT': 0.019872751551331395, ('TTC', 'F'): 'F', 'TTC': 0.026058440028277435, ('TTT', 'F'): 'F', 'TTT': 0.026942109810698295, ('TTA', 'L'): 'L', 'TTA': 0.022621946429974078, ('TTG', 'L'): 'L', 'TTG': 0.02107716073626057, ('TAC', 'Y'): 'Y', 'TAC': 0.013261592438404943, ('TAT', 'Y'): 'Y', 'TAT': 0.026097714240829472, ('TGC', 'C'): 'C', 'TGC': 0.008777786505380566, ('TGT', 'C'): 'C', 'TGT': 0.012593930825020291, ('TGA', '.'): '.', 'TGA': 0.01925090985259079, ('TGG', 'W'): 'W', 'TGG': 0.01491765506768256, ('TAA', '.'): '.', 'TAA': 0.02178409656219726, ('TAG', '.'): '.', 'TAG': 0.01527766868274291}/n\n",
      "specie #6{('ATG', 'M'): 'M', 'ATG': 0.0172403978303122, ('ACA', 'T'): 'T', 'ACA': 0.013361308318491954, ('ACC', 'T'): 'T', 'ACC': 0.009417160701651663, ('ACG', 'T'): 'T', 'ACG': 0.006619662185789683, ('ACT', 'T'): 'T', 'ACT': 0.012930298372734149, ('ATA', 'I'): 'I', 'ATA': 0.027796075369814665, ('ATC', 'I'): 'I', 'ATC': 0.019086421560256004, ('ATT', 'I'): 'I', 'ATT': 0.0388722177494775, ('AAC', 'N'): 'N', 'AAC': 0.015402506363495896, ('AAT', 'N'): 'N', 'AAT': 0.037937007489814344, ('AAA', 'K'): 'K', 'AAA': 0.03021948978181138, ('AAG', 'K'): 'K', 'AAG': 0.020005367293664155, ('AGC', 'S'): 'S', 'AGC': 0.008563273073263558, ('AGT', 'S'): 'S', 'AGT': 0.013621540738572137, ('CAA', 'Q'): 'Q', 'CAA': 0.021436645604105166, ('CAG', 'Q'): 'Q', 'CAG': 0.00905934112404141, ('GTA', 'V'): 'V', 'GTA': 0.01390616994803484, ('GTC', 'V'): 'V', 'GTC': 0.007750046760512983, ('GTG', 'V'): 'V', 'GTG': 0.006831101027104833, ('GTT', 'V'): 'V', 'GTT': 0.015028422259630633, ('CCA', 'P'): 'P', 'CCA': 0.011474623272910617, ('CCC', 'P'): 'P', 'CCC': 0.005757642294274073, ('CCG', 'P'): 'P', 'CCG': 0.005619393821106476, ('CCT', 'P'): 'P', 'CCT': 0.010506883960737434, ('CAC', 'H'): 'H', 'CAC': 0.006391958818219522, ('CAT', 'H'): 'H', 'CAT': 0.015004025470248115, ('AGA', 'R'): 'R', 'AGA': 0.021013767921474868, ('AGG', 'R'): 'R', 'AGG': 0.01181617832426586, ('CGA', 'R'): 'R', 'CGA': 0.009213854123464019, ('CGC', 'R'): 'R', 'CGC': 0.0035537989867200142, ('CGG', 'R'): 'R', 'CGG': 0.006221181292541901, ('CGT', 'R'): 'R', 'CGT': 0.00653020729138712, ('CTA', 'L'): 'L', 'CTA': 0.015825384046126198, ('CTC', 'L'): 'L', 'CTC': 0.009352102596631617, ('CTG', 'L'): 'L', 'CTG': 0.00827051160067335, ('CTT', 'L'): 'L', 'CTT': 0.01972887034732896, ('GCA', 'A'): 'A', 'GCA': 0.007880162970553075, ('GCC', 'A'): 'A', 'GCC': 0.005220912927858694, ('GCG', 'A'): 'A', 'GCG': 0.0042613058788130145, ('GCT', 'A'): 'A', 'GCT': 0.008742182862068685, ('GAC', 'D'): 'D', 'GAC': 0.007546740182325339, ('GAT', 'D'): 'D', 'GAT': 0.019785796189221497, ('GAA', 'E'): 'E', 'GAA': 0.027153626582741713, ('GAG', 'E'): 'E', 'GAG': 0.010433693592589883, ('GGA', 'G'): 'G', 'GGA': 0.015500093521025967, ('GGC', 'G'): 'G', 'GGC': 0.0060097424512267515, ('GGG', 'G'): 'G', 'GGG': 0.00766059186611042, ('GGT', 'G'): 'G', 'GGT': 0.010637000170777526, ('TCA', 'S'): 'S', 'TCA': 0.018850585929558336, ('TCC', 'S'): 'S', 'TCC': 0.012962827425244171, ('TCG', 'S'): 'S', 'TCG': 0.008969886229638846, ('TCT', 'S'): 'S', 'TCT': 0.020233070661234316, ('TTC', 'F'): 'F', 'TTC': 0.025592232062260606, ('TTT', 'F'): 'F', 'TTT': 0.031097774199582002, ('TTA', 'L'): 'L', 'TTA': 0.02688526189953402, ('TTG', 'L'): 'L', 'TTG': 0.021152016394642464, ('TAC', 'Y'): 'Y', 'TAC': 0.013312514739726918, ('TAT', 'Y'): 'Y', 'TAT': 0.030341473728723967, ('TGC', 'C'): 'C', 'TGC': 0.00802654370684818, ('TGT', 'C'): 'C', 'TGT': 0.012523685216358861, ('TGA', '.'): '.', 'TGA': 0.018622882561988175, ('TGG', 'W'): 'W', 'TGG': 0.014109476526222483, ('TAA', '.'): '.', 'TAA': 0.024754608960127513, ('TAG', '.'): '.', 'TAG': 0.01608561646620638}/n\n",
      "specie #7{('ATG', 'M'): 'M', 'ATG': 0.016582630896937504, ('ACA', 'T'): 'T', 'ACA': 0.012554045905341083, ('ACC', 'T'): 'T', 'ACC': 0.011206907611972851, ('ACG', 'T'): 'T', 'ACG': 0.006896065073194514, ('ACT', 'T'): 'T', 'ACT': 0.012894037950810207, ('ATA', 'I'): 'I', 'ATA': 0.024889983706041594, ('ATC', 'I'): 'I', 'ATC': 0.021644021913449572, ('ATT', 'I'): 'I', 'ATT': 0.03382600105205086, ('AAC', 'N'): 'N', 'AAC': 0.014978894833403898, ('AAT', 'N'): 'N', 'AAT': 0.033832415996304994, ('AAA', 'K'): 'K', 'AAA': 0.025961279396482045, ('AAG', 'K'): 'K', 'AAG': 0.01977085819124232, ('AGC', 'S'): 'S', 'AGC': 0.009224689837445312, ('AGT', 'S'): 'S', 'AGT': 0.013336669104345483, ('CAA', 'Q'): 'Q', 'CAA': 0.02054065150173845, ('CAG', 'Q'): 'Q', 'CAG': 0.009109220840870893, ('GTA', 'V'): 'V', 'GTA': 0.013362328881362021, ('GTC', 'V'): 'V', 'GTC': 0.008320182697612357, ('GTG', 'V'): 'V', 'GTG': 0.007511899721591419, ('GTT', 'V'): 'V', 'GTT': 0.015017384498928704, ('CCA', 'P'): 'P', 'CCA': 0.015023799443182839, ('CCC', 'P'): 'P', 'CCC': 0.008948847234517531, ('CCG', 'P'): 'P', 'CCG': 0.007627368718165839, ('CCT', 'P'): 'P', 'CCT': 0.013221200107771064, ('CAC', 'H'): 'H', 'CAC': 0.007390015780762866, ('CAT', 'H'): 'H', 'CAT': 0.018141462350692174, ('AGA', 'R'): 'R', 'AGA': 0.020059530682678368, ('AGG', 'R'): 'R', 'AGG': 0.011983115866723118, ('CGA', 'R'): 'R', 'CGA': 0.01145067549362996, ('CGC', 'R'): 'R', 'CGC': 0.004516120754910639, ('CGG', 'R'): 'R', 'CGG': 0.007293791616950849, ('CGT', 'R'): 'R', 'CGT': 0.00722322723015537, ('CTA', 'L'): 'L', 'CTA': 0.015164928216773796, ('CTC', 'L'): 'L', 'CTC': 0.011809912371861488, ('CTG', 'L'): 'L', 'CTG': 0.009776375043300874, ('CTT', 'L'): 'L', 'CTT': 0.02087422860295344, ('GCA', 'A'): 'A', 'GCA': 0.008365087307391298, ('GCC', 'A'): 'A', 'GCC': 0.0068319156306531695, ('GCG', 'A'): 'A', 'GCG': 0.004317257483032472, ('GCT', 'A'): 'A', 'GCT': 0.00930808411274906, ('GAC', 'D'): 'D', 'GAC': 0.008243203366562745, ('GAT', 'D'): 'D', 'GAT': 0.02150930808411275, ('GAA', 'E'): 'E', 'GAA': 0.026775977316757116, ('GAG', 'E'): 'E', 'GAG': 0.011168417946448045, ('GGA', 'G'): 'G', 'GGA': 0.015665293868596282, ('GGC', 'G'): 'G', 'GGC': 0.006620222470266734, ('GGG', 'G'): 'G', 'GGG': 0.007877551544077082, ('GGT', 'G'): 'G', 'GGT': 0.010873330510757862, ('TCA', 'S'): 'S', 'TCA': 0.019052384434779263, ('TCC', 'S'): 'S', 'TCC': 0.01783354502649372, ('TCG', 'S'): 'S', 'TCG': 0.011662368654016396, ('TCT', 'S'): 'S', 'TCT': 0.02150930808411275, ('TTC', 'F'): 'F', 'TTC': 0.028976303195925226, ('TTT', 'F'): 'F', 'TTT': 0.026949180811618748, ('TTA', 'L'): 'L', 'TTA': 0.01971312369295511, ('TTG', 'L'): 'L', 'TTG': 0.021028187265052668, ('TAC', 'Y'): 'Y', 'TAC': 0.013124975943959047, ('TAT', 'Y'): 'Y', 'TAT': 0.02368397418626432, ('TGC', 'C'): 'C', 'TGC': 0.008442066638440913, ('TGT', 'C'): 'C', 'TGT': 0.012611780403628292, ('TGA', '.'): '.', 'TGA': 0.01980293291251299, ('TGG', 'W'): 'W', 'TGG': 0.01388193936594691, ('TAA', '.'): '.', 'TAA': 0.021265540202455642, ('TAG', '.'): '.', 'TAG': 0.015280397213348215}/n\n",
      "specie #8{('ATG', 'M'): 'M', 'ATG': 0.016270474915009787, ('ACA', 'T'): 'T', 'ACA': 0.012175491913052436, ('ACC', 'T'): 'T', 'ACC': 0.011241887297826311, ('ACG', 'T'): 'T', 'ACG': 0.0070696404656433506, ('ACT', 'T'): 'T', 'ACT': 0.012890182342639332, ('ATA', 'I'): 'I', 'ATA': 0.02484676007005254, ('ATC', 'I'): 'I', 'ATC': 0.021015761821366025, ('ATT', 'I'): 'I', 'ATT': 0.034208560832389, ('AAC', 'N'): 'N', 'AAC': 0.014931235191099207, ('AAT', 'N'): 'N', 'AAT': 0.03398320799423097, ('AAA', 'K'): 'K', 'AAA': 0.02590269908313588, ('AAG', 'K'): 'K', 'AAG': 0.01994050685072628, ('AGC', 'S'): 'S', 'AGC': 0.00943906459256207, ('AGT', 'S'): 'S', 'AGT': 0.013373081281549397, ('CAA', 'Q'): 'Q', 'CAA': 0.020552178840012363, ('CAG', 'Q'): 'Q', 'CAG': 0.009039868136396415, ('GTA', 'V'): 'V', 'GTA': 0.013385958586587, ('GTC', 'V'): 'V', 'GTC': 0.008389564231997527, ('GTG', 'V'): 'V', 'GTG': 0.007604048624703822, ('GTT', 'V'): 'V', 'GTT': 0.015459204697640878, ('CCA', 'P'): 'P', 'CCA': 0.014892603275986401, ('CCC', 'P'): 'P', 'CCC': 0.009014113526321211, ('CCG', 'P'): 'P', 'CCG': 0.007797208200267848, ('CCT', 'P'): 'P', 'CCT': 0.013128412485834965, ('CAC', 'H'): 'H', 'CAC': 0.007198413516019368, ('CAT', 'H'): 'H', 'CAT': 0.017526012156175955, ('AGA', 'R'): 'R', 'AGA': 0.019612135572267438, ('AGG', 'R'): 'R', 'AGG': 0.011930823117338004, ('CGA', 'R'): 'R', 'CGA': 0.011538065313691151, ('CGC', 'R'): 'R', 'CGC': 0.004558565983311013, ('CGG', 'R'): 'R', 'CGG': 0.007533223446997013, ('CGT', 'R'): 'R', 'CGT': 0.007629803234779025, ('CTA', 'L'): 'L', 'CTA': 0.015060008241475223, ('CTC', 'L'): 'L', 'CTC': 0.011930823117338004, ('CTG', 'L'): 'L', 'CTG': 0.009612908210569692, ('CTT', 'L'): 'L', 'CTT': 0.020861234160914805, ('GCA', 'A'): 'A', 'GCA': 0.008582723807561553, ('GCC', 'A'): 'A', 'GCC': 0.00721772947357577, ('GCG', 'A'): 'A', 'GCG': 0.004468424848047801, ('GCT', 'A'): 'A', 'GCT': 0.00952920572782528, ('GAC', 'D'): 'D', 'GAC': 0.008428196147110333, ('GAT', 'D'): 'D', 'GAT': 0.02068095189038838, ('GAA', 'E'): 'E', 'GAA': 0.02648861646234676, ('GAG', 'E'): 'E', 'GAG': 0.010952147934480272, ('GGA', 'G'): 'G', 'GGA': 0.015163026681776038, ('GGC', 'G'): 'G', 'GGC': 0.0071082723807561555, ('GGG', 'G'): 'G', 'GGG': 0.008086947563613887, ('GGT', 'G'): 'G', 'GGT': 0.010887761409292263, ('TCA', 'S'): 'S', 'TCA': 0.01852400329659009, ('TCC', 'S'): 'S', 'TCC': 0.017358607190687134, ('TCG', 'S'): 'S', 'TCG': 0.011937261769856804, ('TCT', 'S'): 'S', 'TCT': 0.02128618522715566, ('TTC', 'F'): 'F', 'TTC': 0.028394457607911816, ('TTT', 'F'): 'F', 'TTT': 0.02702946327392603, ('TTA', 'L'): 'L', 'TTA': 0.020783970330689194, ('TTG', 'L'): 'L', 'TTG': 0.02135057175234367, ('TAC', 'Y'): 'Y', 'TAC': 0.012967446172864943, ('TAT', 'Y'): 'Y', 'TAT': 0.024273719995879264, ('TGC', 'C'): 'C', 'TGC': 0.008679303595343567, ('TGT', 'C'): 'C', 'TGT': 0.01272277737715051, ('TGA', '.'): '.', 'TGA': 0.01951555578448542, ('TGG', 'W'): 'W', 'TGG': 0.01369501390748944, ('TAA', '.'): '.', 'TAA': 0.02181415473369733, ('TAG', '.'): '.', 'TAG': 0.015143710724219635}/n\n",
      "specie #9{('ATG', 'M'): 'M', 'ATG': 0.017464732265904934, ('ACA', 'T'): 'T', 'ACA': 0.012904357413114836, ('ACC', 'T'): 'T', 'ACC': 0.011100253075747326, ('ACG', 'T'): 'T', 'ACG': 0.00712245358189882, ('ACT', 'T'): 'T', 'ACT': 0.013129870455285774, ('ATA', 'I'): 'I', 'ATA': 0.02753138389836879, ('ATC', 'I'): 'I', 'ATC': 0.02206269262572352, ('ATT', 'I'): 'I', 'ATT': 0.03349495101355584, ('AAC', 'N'): 'N', 'AAC': 0.01504046706256734, ('AAT', 'N'): 'N', 'AAT': 0.03412137613069734, ('AAA', 'K'): 'K', 'AAA': 0.025445388258287606, ('AAG', 'K'): 'K', 'AAG': 0.019268836603272443, ('AGC', 'S'): 'S', 'AGC': 0.00915207096143727, ('AGT', 'S'): 'S', 'AGT': 0.013217569971685585, ('CAA', 'Q'): 'Q', 'CAA': 0.020527951088726855, ('CAG', 'Q'): 'Q', 'CAG': 0.00912701395675161, ('GTA', 'V'): 'V', 'GTA': 0.014176000400912075, ('GTC', 'V'): 'V', 'GTC': 0.00829386855095342, ('GTG', 'V'): 'V', 'GTG': 0.007548422661555038, ('GTT', 'V'): 'V', 'GTT': 0.015096845323110076, ('CCA', 'P'): 'P', 'CCA': 0.014984088802024606, ('CCC', 'P'): 'P', 'CCC': 0.008500588839610112, ('CCG', 'P'): 'P', 'CCG': 0.007542158410383623, ('CCT', 'P'): 'P', 'CCT': 0.012666315868601067, ('CAC', 'H'): 'H', 'CAC': 0.007379287879926834, ('CAT', 'H'): 'H', 'CAT': 0.018773960760730662, ('AGA', 'R'): 'R', 'AGA': 0.019218722593901127, ('AGG', 'R'): 'R', 'AGG': 0.01191460572803127, ('CGA', 'R'): 'R', 'CGA': 0.01115663133629006, ('CGC', 'R'): 'R', 'CGC': 0.004516525094590193, ('CGG', 'R'): 'R', 'CGG': 0.00705981107018467, ('CGT', 'R'): 'R', 'CGT': 0.007441930391640983, ('CTA', 'L'): 'L', 'CTA': 0.01504046706256734, ('CTC', 'L'): 'L', 'CTC': 0.011945926983888347, ('CTG', 'L'): 'L', 'CTG': 0.009527926031722167, ('CTT', 'L'): 'L', 'CTT': 0.020515422586384023, ('GCA', 'A'): 'A', 'GCA': 0.008675987872409733, ('GCC', 'A'): 'A', 'GCC': 0.006207872910872234, ('GCG', 'A'): 'A', 'GCG': 0.004153198526648125, ('GCT', 'A'): 'A', 'GCT': 0.009327469994236889, ('GAC', 'D'): 'D', 'GAC': 0.008062091257611065, ('GAT', 'D'): 'D', 'GAT': 0.02174948006715277, ('GAA', 'E'): 'E', 'GAA': 0.02556440903054449, ('GAG', 'E'): 'E', 'GAG': 0.011000025057004686, ('GGA', 'G'): 'G', 'GGA': 0.015597985416823274, ('GGC', 'G'): 'G', 'GGC': 0.006214137162043649, ('GGG', 'G'): 'G', 'GGG': 0.007379287879926834, ('GGT', 'G'): 'G', 'GGT': 0.010962439549976196, ('TCA', 'S'): 'S', 'TCA': 0.01898694530055877, ('TCC', 'S'): 'S', 'TCC': 0.017884437094389735, ('TCG', 'S'): 'S', 'TCG': 0.011363351624946753, ('TCT', 'S'): 'S', 'TCT': 0.021148111954696937, ('TTC', 'F'): 'F', 'TTC': 0.02783833220576812, ('TTT', 'F'): 'F', 'TTT': 0.026034227868400612, ('TTA', 'L'): 'L', 'TTA': 0.020415194567641383, ('TTG', 'L'): 'L', 'TTG': 0.020853692149640432, ('TAC', 'Y'): 'Y', 'TAC': 0.014031922623969531, ('TAT', 'Y'): 'Y', 'TAT': 0.026190834147685985, ('TGC', 'C'): 'C', 'TGC': 0.008475531834924454, ('TGT', 'C'): 'C', 'TGT': 0.013349119246285299, ('TGA', '.'): '.', 'TGA': 0.019625898920043097, ('TGG', 'W'): 'W', 'TGG': 0.013800145330627176, ('TAA', '.'): '.', 'TAA': 0.022332055426094365, ('TAG', '.'): '.', 'TAG': 0.014890125034453382}/n\n",
      "specie #10{('ATG', 'M'): 'M', 'ATG': 0.015962267396093115, ('ACA', 'T'): 'T', 'ACA': 0.012648095839755506, ('ACC', 'T'): 'T', 'ACC': 0.011106774537107476, ('ACG', 'T'): 'T', 'ACG': 0.007309699740026063, ('ACT', 'T'): 'T', 'ACT': 0.012965621258326773, ('ATA', 'I'): 'I', 'ATA': 0.0257129437913858, ('ATC', 'I'): 'I', 'ATC': 0.020354702352995652, ('ATT', 'I'): 'I', 'ATT': 0.0341339824964113, ('AAC', 'N'): 'N', 'AAC': 0.01571089310639086, ('AAT', 'N'): 'N', 'AAT': 0.03557607710575581, ('AAA', 'K'): 'K', 'AAA': 0.027988542624479886, ('AAG', 'K'): 'K', 'AAG': 0.019441816774603257, ('AGC', 'S'): 'S', 'AGC': 0.009538992782911841, ('AGT', 'S'): 'S', 'AGT': 0.013349297805767055, ('CAA', 'Q'): 'Q', 'CAA': 0.021095594996328612, ('CAG', 'Q'): 'Q', 'CAG': 0.008434268930799304, ('GTA', 'V'): 'V', 'GTA': 0.013223610660915928, ('GTC', 'V'): 'V', 'GTC': 0.008169664415323248, ('GTG', 'V'): 'V', 'GTG': 0.007263393949817754, ('GTT', 'V'): 'V', 'GTT': 0.015651357090408748, ('CCA', 'P'): 'P', 'CCA': 0.01434817985168917, ('CCC', 'P'): 'P', 'CCC': 0.008645952543180149, ('CCG', 'P'): 'P', 'CCG': 0.008050592383359022, ('CCT', 'P'): 'P', 'CCT': 0.012396721550053252, ('CAC', 'H'): 'H', 'CAC': 0.007071555676097613, ('CAT', 'H'): 'H', 'CAT': 0.01715298771573537, ('AGA', 'R'): 'R', 'AGA': 0.018257711567847907, ('AGG', 'R'): 'R', 'AGG': 0.011523526648982265, ('CGA', 'R'): 'R', 'CGA': 0.01211227169591649, ('CGC', 'R'): 'R', 'CGC': 0.004848877746098737, ('CGG', 'R'): 'R', 'CGG': 0.008063822609132824, ('CGT', 'R'): 'R', 'CGT': 0.007878599448299585, ('CTA', 'L'): 'L', 'CTA': 0.015095687607909029, ('CTC', 'L'): 'L', 'CTC': 0.011192771004637194, ('CTG', 'L'): 'L', 'CTG': 0.008665797881840853, ('CTT', 'L'): 'L', 'CTT': 0.02061930686847171, ('GCA', 'A'): 'A', 'GCA': 0.008612876978745642, ('GCC', 'A'): 'A', 'GCC': 0.006926023192585781, ('GCG', 'A'): 'A', 'GCG': 0.004895183536307047, ('GCT', 'A'): 'A', 'GCT': 0.00963160436332846, ('GAC', 'D'): 'D', 'GAC': 0.008335042237495783, ('GAT', 'D'): 'D', 'GAT': 0.01911106113025819, ('GAA', 'E'): 'E', 'GAA': 0.026420760870284252, ('GAG', 'E'): 'E', 'GAG': 0.010531259715947053, ('GGA', 'G'): 'G', 'GGA': 0.015089072495022128, ('GGC', 'G'): 'G', 'GGC': 0.006939253418359584, ('GGG', 'G'): 'G', 'GGG': 0.007739682077674655, ('GGT', 'G'): 'G', 'GGT': 0.01061725618347677, ('TCA', 'S'): 'S', 'TCA': 0.017926955923502835, ('TCC', 'S'): 'S', 'TCC': 0.016762696055408186, ('TCG', 'S'): 'S', 'TCG': 0.012654710952642407, ('TCT', 'S'): 'S', 'TCT': 0.019990871144216077, ('TTC', 'F'): 'F', 'TTC': 0.028206841349747633, ('TTT', 'F'): 'F', 'TTT': 0.028458215639449887, ('TTA', 'L'): 'L', 'TTA': 0.021393275076239174, ('TTG', 'L'): 'L', 'TTG': 0.02080453002930495, ('TAC', 'Y'): 'Y', 'TAC': 0.01313099908049931, ('TAT', 'Y'): 'Y', 'TAT': 0.024568529261951855, ('TGC', 'C'): 'C', 'TGC': 0.008725333897822967, ('TGT', 'C'): 'C', 'TGT': 0.012323955308297337, ('TGA', '.'): '.', 'TGA': 0.018442934728681144, ('TGG', 'W'): 'W', 'TGG': 0.013064847951630295, ('TAA', '.'): '.', 'TAA': 0.023212431120137066, ('TAG', '.'): '.', 'TAG': 0.014758316850677057}/n\n"
     ]
    },
    {
     "name": "stdout",
     "output_type": "stream",
     "text": [
      "specie #11{('ATG', 'M'): 'M', 'ATG': 0.015896613330203566, ('ACA', 'T'): 'T', 'ACA': 0.012049606822894254, ('ACC', 'T'): 'T', 'ACC': 0.010967228720837734, ('ACG', 'T'): 'T', 'ACG': 0.007015896613330203, ('ACT', 'T'): 'T', 'ACT': 0.013275432625223321, ('ATA', 'I'): 'I', 'ATA': 0.026792118200905025, ('ATC', 'I'): 'I', 'ATC': 0.019913148937834982, ('ATT', 'I'): 'I', 'ATT': 0.03474042486600681, ('AAC', 'N'): 'N', 'AAC': 0.015257619028989476, ('AAT', 'N'): 'N', 'AAT': 0.035040360966576686, ('AAA', 'K'): 'K', 'AAA': 0.028298319053766806, ('AAG', 'K'): 'K', 'AAG': 0.019371959886806723, ('AGC', 'S'): 'S', 'AGC': 0.009395824367852067, ('AGT', 'S'): 'S', 'AGT': 0.013542766975731257, ('CAA', 'Q'): 'Q', 'CAA': 0.019671895987376602, ('CAG', 'Q'): 'Q', 'CAG': 0.008652504466439758, ('GTA', 'V'): 'V', 'GTA': 0.013458002425570204, ('GTC', 'V'): 'V', 'GTC': 0.007935265965077005, ('GTG', 'V'): 'V', 'GTG': 0.007341914113949637, ('GTT', 'V'): 'V', 'GTT': 0.015844450530104456, ('CCA', 'P'): 'P', 'CCA': 0.013797060626214415, ('CCC', 'P'): 'P', 'CCC': 0.00820912066559733, ('CCG', 'P'): 'P', 'CCG': 0.007446239714147856, ('CCT', 'P'): 'P', 'CCT': 0.012545153423835791, ('CAC', 'H'): 'H', 'CAC': 0.007270190263813361, ('CAT', 'H'): 'H', 'CAT': 0.01690074723211142, ('AGA', 'R'): 'R', 'AGA': 0.018772087685666967, ('AGG', 'R'): 'R', 'AGG': 0.011436693921729718, ('CGA', 'R'): 'R', 'CGA': 0.01075205717042891, ('CGC', 'R'): 'R', 'CGC': 0.004727253758981782, ('CGG', 'R'): 'R', 'CGG': 0.00703545766336737, ('CGT', 'R'): 'R', 'CGT': 0.00762228916448235, ('CTA', 'L'): 'L', 'CTA': 0.015472790579398302, ('CTC', 'L'): 'L', 'CTC': 0.011188920621258949, ('CTG', 'L'): 'L', 'CTG': 0.009011123717121134, ('CTT', 'L'): 'L', 'CTT': 0.020597785689135794, ('GCA', 'A'): 'A', 'GCA': 0.008098274715386721, ('GCC', 'A'): 'A', 'GCC': 0.006650757012636438, ('GCG', 'A'): 'A', 'GCG': 0.00459032640872162, ('GCT', 'A'): 'A', 'GCT': 0.00952623136809984, ('GAC', 'D'): 'D', 'GAC': 0.007948306665101783, ('GAT', 'D'): 'D', 'GAT': 0.019665375637364212, ('GAA', 'E'): 'E', 'GAA': 0.024933818447374256, ('GAG', 'E'): 'E', 'GAG': 0.010458641419871418, ('GGA', 'G'): 'G', 'GGA': 0.014566461927676277, ('GGC', 'G'): 'G', 'GGC': 0.0062725767119178955, ('GGG', 'G'): 'G', 'GGG': 0.007394076914048746, ('GGT', 'G'): 'G', 'GGT': 0.01039995826975992, ('TCA', 'S'): 'S', 'TCA': 0.01830262248477498, ('TCC', 'S'): 'S', 'TCC': 0.01617046803072389, ('TCG', 'S'): 'S', 'TCG': 0.011045472920986399, ('TCT', 'S'): 'S', 'TCT': 0.020389134488739354, ('TTC', 'F'): 'F', 'TTC': 0.027411551452081948, ('TTT', 'F'): 'F', 'TTT': 0.029928406556863973, ('TTA', 'L'): 'L', 'TTA': 0.023245047794165592, ('TTG', 'L'): 'L', 'TTG': 0.020526061838999517, ('TAC', 'Y'): 'Y', 'TAC': 0.013073301774839273, ('TAT', 'Y'): 'Y', 'TAT': 0.02593795234928211, ('TGC', 'C'): 'C', 'TGC': 0.008509056766167207, ('TGT', 'C'): 'C', 'TGT': 0.012805967424331339, ('TGA', '.'): '.', 'TGA': 0.018485192285121865, ('TGG', 'W'): 'W', 'TGG': 0.012766845324257006, ('TAA', '.'): '.', 'TAA': 0.02506422544762203, ('TAG', '.'): '.', 'TAG': 0.01509461027867976}/n\n",
      "specie #12{('ATG', 'M'): 'M', 'ATG': 0.016197926047911895, ('ACA', 'T'): 'T', 'ACA': 0.012306049455780562, ('ACC', 'T'): 'T', 'ACC': 0.011173867174433265, ('ACG', 'T'): 'T', 'ACG': 0.007153333504876103, ('ACT', 'T'): 'T', 'ACT': 0.012923603427424542, ('ATA', 'I'): 'I', 'ATA': 0.02468929315801662, ('ATC', 'I'): 'I', 'ATC': 0.02088747652008337, ('ATT', 'I'): 'I', 'ATT': 0.034132722641072484, ('AAC', 'N'): 'N', 'AAC': 0.015078609474307182, ('AAT', 'N'): 'N', 'AAT': 0.033894707047834705, ('AAA', 'K'): 'K', 'AAA': 0.025679952654195506, ('AAG', 'K'): 'K', 'AAG': 0.019909682731647067, ('AGC', 'S'): 'S', 'AGC': 0.00952062372951136, ('AGT', 'S'): 'S', 'AGT': 0.013444664590999151, ('CAA', 'Q'): 'Q', 'CAA': 0.02048220672619201, ('CAG', 'Q'): 'Q', 'CAG': 0.009076756812392249, ('GTA', 'V'): 'V', 'GTA': 0.013425366029385277, ('GTC', 'V'): 'V', 'GTC': 0.008343411471065024, ('GTG', 'V'): 'V', 'GTG': 0.007603633275866505, ('GTT', 'V'): 'V', 'GTT': 0.015541774953040167, ('CCA', 'P'): 'P', 'CCA': 0.014859892442683272, ('CCC', 'P'): 'P', 'CCC': 0.008890204050124797, ('CCG', 'P'): 'P', 'CCG': 0.007751588914906209, ('CCT', 'P'): 'P', 'CCT': 0.013238813267117825, ('CAC', 'H'): 'H', 'CAC': 0.007249826312945475, ('CAT', 'H'): 'H', 'CAT': 0.017478063968298894, ('AGA', 'R'): 'R', 'AGA': 0.019639502869052826, ('AGG', 'R'): 'R', 'AGG': 0.011965108200602115, ('CGA', 'R'): 'R', 'CGA': 0.011514808429611712, ('CGC', 'R'): 'R', 'CGC': 0.004522296271517896, ('CGG', 'R'): 'R', 'CGG': 0.0074685433445693845, ('CGT', 'R'): 'R', 'CGT': 0.007706558937807168, ('CTA', 'L'): 'L', 'CTA': 0.015213699405604303, ('CTC', 'L'): 'L', 'CTC': 0.012042302447057613, ('CTG', 'L'): 'L', 'CTG': 0.009584952268224275, ('CTT', 'L'): 'L', 'CTT': 0.020951805058796284, ('GCA', 'A'): 'A', 'GCA': 0.008671487018500887, ('GCC', 'A'): 'A', 'GCC': 0.007211229189717726, ('GCG', 'A'): 'A', 'GCG': 0.004419370609577233, ('GCT', 'A'): 'A', 'GCT': 0.0095656537066104, ('GAC', 'D'): 'D', 'GAC': 0.008401307155906647, ('GAT', 'D'): 'D', 'GAT': 0.020546535264904922, ('GAA', 'E'): 'E', 'GAA': 0.02647762653423565, ('GAG', 'E'): 'E', 'GAG': 0.01101947868152227, ('GGA', 'G'): 'G', 'GGA': 0.015059310912693307, ('GGC', 'G'): 'G', 'GGC': 0.007114736381648354, ('GGG', 'G'): 'G', 'GGG': 0.008047500192985616, ('GGT', 'G'): 'G', 'GGT': 0.010813627357640944, ('TCA', 'S'): 'S', 'TCA': 0.018320767825438077, ('TCC', 'S'): 'S', 'TCC': 0.017465198260556314, ('TCG', 'S'): 'S', 'TCG': 0.0119007796618892, ('TCT', 'S'): 'S', 'TCT': 0.021395671975915395, ('TTC', 'F'): 'F', 'TTC': 0.028478244088207292, ('TTT', 'F'): 'F', 'TTT': 0.02697295628232509, ('TTA', 'L'): 'L', 'TTA': 0.020848879396855622, ('TTG', 'L'): 'L', 'TTG': 0.021299179167846023, ('TAC', 'Y'): 'Y', 'TAC': 0.012955767696781, ('TAT', 'Y'): 'Y', 'TAT': 0.0241039034557291, ('TGC', 'C'): 'C', 'TGC': 0.008697218433986053, ('TGT', 'C'): 'C', 'TGT': 0.012730617811285799, ('TGA', '.'): '.', 'TGA': 0.019491547230013125, ('TGG', 'W'): 'W', 'TGG': 0.013547590252939815, ('TAA', '.'): '.', 'TAA': 0.021923165993361294, ('TAG', '.'): '.', 'TAG': 0.015303759359802382}/n\n",
      "specie #13{('ATG', 'M'): 'M', 'ATG': 0.016388670387047624, ('ACA', 'T'): 'T', 'ACA': 0.012170724607161218, ('ACC', 'T'): 'T', 'ACC': 0.010386923748707054, ('ACG', 'T'): 'T', 'ACG': 0.006422921841031136, ('ACT', 'T'): 'T', 'ACT': 0.012672418598601451, ('ATA', 'I'): 'I', 'ATA': 0.029389357893628485, ('ATC', 'I'): 'I', 'ATC': 0.02042080357751172, ('ATT', 'I'): 'I', 'ATT': 0.03652456132744514, ('AAC', 'N'): 'N', 'AAC': 0.014239438102729587, ('AAT', 'N'): 'N', 'AAT': 0.03659269261023332, ('AAA', 'K'): 'K', 'AAA': 0.028051507249787864, ('AAG', 'K'): 'K', 'AAG': 0.019231603005208948, ('AGC', 'S'): 'S', 'AGC': 0.008888035527367097, ('AGT', 'S'): 'S', 'AGT': 0.013130756319176479, ('CAA', 'Q'): 'Q', 'CAA': 0.019312121793958612, ('CAG', 'Q'): 'Q', 'CAG': 0.008473054077657275, ('GTA', 'V'): 'V', 'GTA': 0.013136950072157223, ('GTC', 'V'): 'V', 'GTC': 0.007698834955064322, ('GTG', 'V'): 'V', 'GTG': 0.007184753457662602, ('GTT', 'V'): 'V', 'GTT': 0.014988882213399566, ('CCA', 'P'): 'P', 'CCA': 0.013762519123212328, ('CCC', 'P'): 'P', 'CCC': 0.008262466476311991, ('CCG', 'P'): 'P', 'CCG': 0.007531603624584244, ('CCT', 'P'): 'P', 'CCT': 0.012009687029661884, ('CAC', 'H'): 'H', 'CAC': 0.0067945470198757536, ('CAT', 'H'): 'H', 'CAT': 0.017404445875889577, ('AGA', 'R'): 'R', 'AGA': 0.018866171579345073, ('AGG', 'R'): 'R', 'AGG': 0.011334567954760828, ('CGA', 'R'): 'R', 'CGA': 0.01060370510303308, ('CGC', 'R'): 'R', 'CGC': 0.004837321077960768, ('CGG', 'R'): 'R', 'CGG': 0.00707945965698996, ('CGT', 'R'): 'R', 'CGT': 0.006986553362278805, ('CTA', 'L'): 'L', 'CTA': 0.015162307296860387, ('CTC', 'L'): 'L', 'CTC': 0.010993911540819929, ('CTG', 'L'): 'L', 'CTG': 0.008646479161118097, ('CTT', 'L'): 'L', 'CTT': 0.02038364105962726, ('GCA', 'A'): 'A', 'GCA': 0.008219110205446786, ('GCC', 'A'): 'A', 'GCC': 0.006602540677472701, ('GCG', 'A'): 'A', 'GCG': 0.004570989699788793, ('GCT', 'A'): 'A', 'GCT': 0.008912810539290073, ('GAC', 'D'): 'D', 'GAC': 0.007915616309390349, ('GAT', 'D'): 'D', 'GAT': 0.020408416071550233, ('GAA', 'E'): 'E', 'GAA': 0.024991793277300514, ('GAG', 'E'): 'E', 'GAG': 0.010256854936111438, ('GGA', 'G'): 'G', 'GGA': 0.014338538150421486, ('GGC', 'G'): 'G', 'GGC': 0.006367178064204443, ('GGG', 'G'): 'G', 'GGG': 0.00723430348150855, ('GGT', 'G'): 'G', 'GGT': 0.010015298569862437, ('TCA', 'S'): 'S', 'TCA': 0.0175778709593504, ('TCC', 'S'): 'S', 'TCC': 0.0163143453512787, ('TCG', 'S'): 'S', 'TCG': 0.010987717787839186, ('TCT', 'S'): 'S', 'TCT': 0.020978241345778647, ('TTC', 'F'): 'F', 'TTC': 0.02735780691594458, ('TTT', 'F'): 'F', 'TTT': 0.02920354530420618, ('TTA', 'L'): 'L', 'TTA': 0.024260930425572768, ('TTG', 'L'): 'L', 'TTG': 0.020278347258954617, ('TAC', 'Y'): 'Y', 'TAC': 0.012957331235715658, ('TAT', 'Y'): 'Y', 'TAT': 0.02852223247632438, ('TGC', 'C'): 'C', 'TGC': 0.0082067226994853, ('TGT', 'C'): 'C', 'TGT': 0.0126228685747555, ('TGA', '.'): '.', 'TGA': 0.019107727945594073, ('TGG', 'W'): 'W', 'TGG': 0.01231318092571832, ('TAA', '.'): '.', 'TAA': 0.025759818646912725, ('TAG', '.'): '.', 'TAG': 0.014914557177630641}/n\n"
     ]
    }
   ],
   "source": [
    "def frecuencias_codones(fec,i,Codones):\n",
    "    frec={}\n",
    "    for con in Codones:\n",
    "        frec[con,Codones[con]]=Codones[con]\n",
    "        suma =fec[i].count(con) \n",
    "        frec[con]=(suma/len(fec[i]))\n",
    "    return frec\n",
    "frecuencias_codones(fec,3,Codones)\n",
    "\n",
    "for i in range(0,len(fec)):\n",
    "    print(\"specie #\"+ str(i) + str(frecuencias_codones(fec,i,Codones))+'/n') "
   ]
  },
  {
   "cell_type": "code",
   "execution_count": 91,
   "metadata": {},
   "outputs": [],
   "source": [
    "frec1=[]\n",
    "file = open('datos1.csv','w') \n",
    "for con in Codones: \n",
    "    suma =fec[0].count(con) \n",
    "    file.write(str(con)+\",\"+str(suma/len(fec[0]))+ '\\n') \n",
    "file.close()    "
   ]
  },
  {
   "cell_type": "code",
   "execution_count": 99,
   "metadata": {},
   "outputs": [
    {
     "data": {
      "image/png": "[encoded data removed]",
      "text/plain": [
       "<Figure size 432x288 with 1 Axes>"
      ]
     },
     "metadata": {
      "needs_background": "light"
     },
     "output_type": "display_data"
    }
   ],
   "source": [
    "#file = open('datos1.csv', 'r') \n",
    "#file.read()\n",
    "file = pd.read_csv('datos1.csv')\n",
    "Codon = file['cod']\n",
    "fresc = file['fer']\n",
    "plt.hist([Codon, fresc], color=['orange', 'green'])\n",
    "plt.xlabel(\"codones\")\n",
    "plt.ylabel(\"frecuencia\")\n",
    "plt.xticks(range(0, len(file)))\n",
    "plt.yticks(range(0, 1))\n",
    "plt.title('frecuencia de codones especie 1')\n",
    "plt.show()"
   ]
  },
  {
   "cell_type": "code",
   "execution_count": 105,
   "metadata": {},
   "outputs": [
    {
     "data": {
      "image/png": "[encoded data removed]",
      "text/plain": [
       "<Figure size 432x288 with 1 Axes>"
      ]
     },
     "metadata": {
      "needs_background": "light"
     },
     "output_type": "display_data"
    }
   ],
   "source": [
    "file = pd.read_csv('datos1.csv')\n",
    "fresc=file['fer']\n",
    "plt.hist( fresc )\n",
    "color= ['green']\n",
    "plt.xlabel(\"codones\")\n",
    "plt.ylabel(\"frecuencia\")\n",
    "plt.xticks(range(1,20))\n",
    "plt.yticks(range(0, 4))\n",
    "plt.title('frecuencia de codones especie 1')\n",
    "plt.show()"
   ]
  },
  {
   "cell_type": "code",
   "execution_count": null,
   "metadata": {},
   "outputs": [],
   "source": []
  }
 ],
 "metadata": {
  "kernelspec": {
   "display_name": "Python 3",
   "language": "python",
   "name": "python3"
  },
  "language_info": {
   "codemirror_mode": {
    "name": "ipython",
    "version": 3
   },
   "file_extension": ".py",
   "mimetype": "text/x-python",
   "name": "python",
   "nbconvert_exporter": "python",
   "pygments_lexer": "ipython3",
   "version": "3.7.1"
  }
 },
 "nbformat": 4,
 "nbformat_minor": 2
}
