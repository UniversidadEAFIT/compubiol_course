{
 "cells": [
  {
   "cell_type": "markdown",
   "metadata": {},
   "source": [
    "# Taller 3 -Manejo de Archivos y BioPython\n",
    "## Fundamentos en Biología Computacional\n",
    "## 2019-1, Prof. Javier Correa\n",
    "\n",
    "Nota: Se calificará que el código sea lo más simple, claro, original y eficiente. No usar funciones no realizadas por ustedes mismos."
   ]
  },
  {
   "cell_type": "markdown",
   "metadata": {},
   "source": [
    "Competencias: 1. Resuelve problemas de ciencias de los datos utilizando razonamiento lógico y programación en python. 2. Manipula archivos con formatos utilizados en bioinformática para extaeer información relevante. 3. Utiliza efectivamente módulos y paquetes de python especializados para biología.\n",
    "\n",
    "Tener en cuenta: a. desarrollar y aplicar funciones en python, b. manipular archivos (entrada y salida), c. utilizar librerias especializadas (Biopython).<br>\n",
    "Ejercicio:<br>\n",
    "\n",
    "1. Un investigador desea desarrollar un Script en python, que le permita encontrar el grupo monifilético en común entre una lista de especies de plantas (archivo adjunto: lista_mercado.tsv). La información sobre la taxonomía de cada una de las especies fue descargada de la base de datos del GenBank, luego concatenada y se encuentra en formato .gb anexo <br> "
   ]
  },
  {
   "cell_type": "code",
   "execution_count": 1,
   "metadata": {},
   "outputs": [
    {
     "name": "stdout",
     "output_type": "stream",
     "text": [
      "Especie\tid\n",
      "Quinua\t63459\n",
      "Tomate\t4081\n",
      "Oliva\t4146\n",
      "Yuca\t3983\n",
      "Papa\t4113\n",
      "Repollo\t3712\n",
      "Lechuga\t4236\n",
      "Durazno\t3760\n",
      "Piña\t4615\n",
      "Coco\t13894\n",
      "Lenteja\t3864\n",
      "Arveja\t3888\n",
      "Berenjena\t4111\n",
      "Garbanzo\t3827\n"
     ]
    }
   ],
   "source": [
    "\n",
    "\n",
    "\n"
   ]
  },
  {
   "cell_type": "code",
   "execution_count": 1,
   "metadata": {},
   "outputs": [
    {
     "name": "stdout",
     "output_type": "stream",
     "text": [
      "LOCUS       MG859922              122198 bp    DNA     circular PLN 30-APR-2018\n",
      "DEFINITION  Pisum sativum subsp. elatius isolate CE1 chloroplast, complete\n",
      "            genome.\n",
      "ACCESSION   MG859922\n",
      "VERSION     MG859922.1\n",
      "KEYWORDS    .\n",
      "SOURCE      chloroplast Pisum sativum subsp. elatius\n",
      "  ORGANISM  Pisum sativum subsp. elatius\n",
      "            Eukaryota; Viridiplantae; Streptophyta; Embryophyta; Tracheophyta;\n",
      "            Spermatophyta; Magnoliophyta; eudicotyledons; Gunneridae;\n",
      "            Pentapetalae; rosids; fabids; Fabales; Fabaceae; Papilionoideae;\n",
      "            Fabeae; Pisum.\n",
      "REFERENCE   1  (bases 1 to 122198)\n",
      "  AUTHORS   Bogdanova,V.S., Mglinets,A.V., Shatskaya,N.V., Kosterin,O.E. and\n",
      "            Vasiliev,G.V.\n",
      "  TITLE     Cryptic divergences in the genus Pisum L., as revealed by\n",
      "            comparative analysis of complete plastid genomes\n",
      "  JOURNAL   Unpublished\n",
      "REFERENCE   2  (bases 1 to 122198)\n",
      "  AUTHORS   Bogdanova,V.S., Mglinets,A.V., Shatskaya,N.V., Kosterin,O.E. and\n"
     ]
    }
   ],
   "source": [
    "\n"
   ]
  },
  {
   "cell_type": "markdown",
   "metadata": {},
   "source": [
    "#### $\\rightarrow$ Con el archivo \"Mercado.gb\";<br>\n",
    "- A. Desarrolle un script con el cual pueda extrer la información relacionada con la taxonomía de cada especie.<br>\n",
    "- B. Organice esta información en una objeto tipo lista o diccionario.<br>\n",
    "- C. Cree una función que reciba el objeto anterior y compare las clasificaciones entre las diferentes especies para retornar el ancestro monofilético común más reciente a todas ellas. <br> Ejemplo: Embryophyta"
   ]
  },
  {
   "cell_type": "code",
   "execution_count": 1,
   "metadata": {},
   "outputs": [
    {
     "name": "stdout",
     "output_type": "stream",
     "text": [
      "['Eukaryota', 'Viridiplantae', 'Streptophyta', 'Embryophyta', 'Tracheophyta', 'Spermatophyta', 'Magnoliophyta', 'eudicotyledons', 'Gunneridae', 'Pentapetalae', 'rosids', 'fabids', 'Fabales', 'Fabaceae', 'Papilionoideae', 'Fabeae', 'Pisum']\n",
      "['Eukaryota', 'Viridiplantae', 'Streptophyta', 'Embryophyta', 'Tracheophyta', 'Spermatophyta', 'Magnoliophyta', 'eudicotyledons', 'Gunneridae', 'Pentapetalae', 'asterids', 'lamiids', 'Solanales', 'Solanaceae', 'Solanoideae', 'Solaneae', 'Solanum']\n",
      "['Eukaryota', 'Viridiplantae', 'Streptophyta', 'Embryophyta', 'Tracheophyta', 'Spermatophyta', 'Magnoliophyta', 'Liliopsida', 'Arecaceae', 'Arecoideae', 'Cocoseae', 'Attaleinae', 'Cocos']\n",
      "['Eukaryota', 'Viridiplantae', 'Streptophyta', 'Embryophyta', 'Tracheophyta', 'Spermatophyta', 'Magnoliophyta', 'eudicotyledons', 'Gunneridae', 'Pentapetalae', 'rosids', 'fabids', 'Rosales', 'Rosaceae', 'Maloideae', 'Amygdaleae', 'Prunus']\n",
      "['Eukaryota', 'Viridiplantae', 'Streptophyta', 'Embryophyta', 'Tracheophyta', 'Spermatophyta', 'Magnoliophyta', 'eudicotyledons', 'Gunneridae', 'Pentapetalae', 'rosids', 'fabids', 'Fabales', 'Fabaceae', 'Papilionoideae', 'Cicereae', 'Cicer']\n",
      "['Eukaryota', 'Viridiplantae', 'Streptophyta', 'Embryophyta', 'Tracheophyta', 'Spermatophyta', 'Magnoliophyta', 'eudicotyledons', 'Gunneridae', 'Pentapetalae', 'asterids', 'campanulids', 'Asterales', 'Asteraceae', 'Cichorioideae', 'Cichorieae', 'Lactucinae', 'Lactuca']\n",
      "['Eukaryota', 'Viridiplantae', 'Streptophyta', 'Embryophyta', 'Tracheophyta', 'Spermatophyta', 'Magnoliophyta', 'eudicotyledons', 'Gunneridae', 'Pentapetalae', 'rosids', 'fabids', 'Fabales', 'Fabaceae', 'Papilionoideae', 'Fabeae', 'Lens']\n",
      "['Eukaryota', 'Viridiplantae', 'Streptophyta', 'Embryophyta', 'Tracheophyta', 'Spermatophyta', 'Magnoliophyta', 'eudicotyledons', 'Gunneridae', 'Pentapetalae', 'asterids', 'lamiids', 'Lamiales', 'Oleaceae', 'Oleeae', 'Olea']\n",
      "['Eukaryota', 'Viridiplantae', 'Streptophyta', 'Embryophyta', 'Tracheophyta', 'Spermatophyta', 'Magnoliophyta', 'eudicotyledons', 'Gunneridae', 'Pentapetalae', 'asterids', 'lamiids', 'Solanales', 'Solanaceae', 'Solanoideae', 'Solaneae', 'Solanum']\n",
      "['Eukaryota', 'Viridiplantae', 'Streptophyta', 'Embryophyta', 'Tracheophyta', 'Spermatophyta', 'Magnoliophyta', 'Liliopsida', 'Poales', 'Bromeliaceae', 'Bromelioideae', 'Ananas']\n",
      "['Eukaryota', 'Viridiplantae', 'Streptophyta', 'Embryophyta', 'Tracheophyta', 'Spermatophyta', 'Magnoliophyta', 'eudicotyledons', 'Gunneridae', 'Pentapetalae', 'Caryophyllales', 'Chenopodiaceae', 'Chenopodioideae', 'Atripliceae', 'Chenopodium']\n",
      "['Eukaryota', 'Viridiplantae', 'Streptophyta', 'Embryophyta', 'Tracheophyta', 'Spermatophyta', 'Magnoliophyta', 'eudicotyledons', 'Gunneridae', 'Pentapetalae', 'rosids', 'malvids', 'Brassicales', 'Brassicaceae', 'Brassiceae', 'Brassica']\n",
      "['Eukaryota', 'Viridiplantae', 'Streptophyta', 'Embryophyta', 'Tracheophyta', 'Spermatophyta', 'Magnoliophyta', 'eudicotyledons', 'Gunneridae', 'Pentapetalae', 'asterids', 'lamiids', 'Solanales', 'Solanaceae', 'Solanoideae', 'Solaneae', 'Solanum', 'Lycopersicon']\n",
      "['Eukaryota', 'Viridiplantae', 'Streptophyta', 'Embryophyta', 'Tracheophyta', 'Spermatophyta', 'Magnoliophyta', 'eudicotyledons', 'Gunneridae', 'Pentapetalae', 'rosids', 'fabids', 'Malpighiales', 'Euphorbiaceae', 'Crotonoideae', 'Manihoteae', 'Manihot']\n"
     ]
    }
   ],
   "source": [
    "#A\n",
    "import Bio\n",
    "from Bio import SeqIO\n",
    "tax=SeqIO.parse(\"Mercado.gb\",\"gb\")\n",
    "datos=[]\n",
    "\n",
    "for read in tax:\n",
    "    datos.append(read)\n",
    "for i in range(0,len(datos)):\n",
    "    print(datos[i].annotations[\"taxonomy\"])\n",
    "    "
   ]
  },
  {
   "cell_type": "code",
   "execution_count": 2,
   "metadata": {},
   "outputs": [
    {
     "name": "stdout",
     "output_type": "stream",
     "text": [
      "['Eukaryota', 'Viridiplantae', 'Streptophyta', 'Embryophyta', 'Tracheophyta', 'Spermatophyta', 'Magnoliophyta', 'eudicotyledons', 'Gunneridae', 'Pentapetalae', 'rosids', 'fabids', 'Fabales', 'Fabaceae', 'Papilionoideae', 'Fabeae', 'Pisum']\n"
     ]
    }
   ],
   "source": [
    "#B\n",
    "taxonomia=[]\n",
    "for i in range(0,len(datos)):\n",
    "    d=datos[i].annotations[\"taxonomy\"]\n",
    "    taxonomia.append(d)\n",
    "print(taxonomia[0])"
   ]
  },
  {
   "cell_type": "code",
   "execution_count": 3,
   "metadata": {},
   "outputs": [
    {
     "name": "stdout",
     "output_type": "stream",
     "text": [
      "Magnoliophyta\n"
     ]
    }
   ],
   "source": [
    "#C\n",
    "for i in range(0,len(datos)):\n",
    "    taxonomia=datos[i].annotations[\"taxonomy\"]\n",
    "ancestro=0\n",
    "x=len(taxonomia)\n",
    "for i in range (0,x):\n",
    "    y=len(taxonomia[i])\n",
    "    for j in range (0,y):\n",
    "        try:\n",
    "            if taxonomia[i][j]==taxonomia[i+1][j]:\n",
    "                ancestro=j\n",
    "        except: \n",
    "            continue\n",
    "print(taxonomia[ancestro])\n",
    "            \n",
    "                \n",
    "       "
   ]
  },
  {
   "cell_type": "markdown",
   "metadata": {},
   "source": [
    "2 . El mismo investigador está ahora interesado en hacer una caracterización funcional de los genomas de los cloroplastos que poseen estas especies. Para esto y continuando con el archivo del punto anterior (Mercado.gb), resuelva las siguientes preguntas:\n",
    "\n",
    "- A. Una forma de diferenciar una especie de otra es a través de la estimación del contenido de Guaninas y Citosinas en los genomas. Utilizando funciones de biopython responder; ¿Cuales son los valores de %GC para cada especie? retorne un diccionario con las especies como llave y su respectivo valor de %GC. Consulte el diccionario y muestre ¿Qué especie presenta el mayor %GC? ¿Y cual el más bajo? Represente los resultados en un dendograma donde se relacione las proximidades en los contenidos de %GC (puede usar Ploty, numpy, etc).\n",
    "\n",
    "- B. Otra forma de caracterizar los genomas es estimando la frecuencia con las que aparecen los codones en los genes codificantes. Usando biopython hacer una función que me extraiga los genes codificantes para cada genoma del cloroplasto del archivo .gb, definir una función que me permita estimar la frecuencia de cada uno de los codones usados por la célula. Con las herramientas anteriores y usando funciones accesorias grafique la frecuencia de estos codones versus el codón encontrado para cada una de las especies. Finalmente, responda: ¿Qué especie presenta el codón más inusual? ¿Qué aminoácido es el mas prevalente y menos prevalente?\n",
    "\n"
   ]
  },
  {
   "cell_type": "code",
   "execution_count": 4,
   "metadata": {},
   "outputs": [
    {
     "data": {
      "text/plain": [
       "{'Pisum sativum subsp. elatius': 34.83117563298908,\n",
       " 'Solanum melongena var. insanum': 37.710355466992354,\n",
       " 'Cocos nucifera': 37.4382835724441,\n",
       " 'Prunus persica': 36.759617212751124,\n",
       " 'Cicer arietinum': 33.90627119590804,\n",
       " 'Lactuca sativa': 37.54942005079465,\n",
       " 'Lens culinaris': 34.42549627135735,\n",
       " 'Olea europaea subsp. laperrinei': 37.81224741156999,\n",
       " 'Solanum tuberosum': 37.87344184609045,\n",
       " 'Ananas comosus': 37.37314891377885,\n",
       " 'Chenopodium quinoa': 37.243747064543655,\n",
       " 'Brassica oleracea var. capitata': 36.36138387908663,\n",
       " 'Solanum lycopersicum': 37.86184803026014,\n",
       " 'Manihot esculenta': 35.87297851387091}"
      ]
     },
     "execution_count": 4,
     "metadata": {},
     "output_type": "execute_result"
    }
   ],
   "source": [
    "#2.A\n",
    "# print (datos[0].seq)\n",
    "\n",
    "from Bio import SeqIO\n",
    "from Bio.SeqUtils import GC\n",
    "\n",
    "diccionario={}\n",
    "\n",
    "gc_values=[GC(rec.seq) for rec in SeqIO.parse(\"mercado.gb\",\"genbank\")] \n",
    "especies=[]\n",
    "\n",
    "for i in range(0,len(datos)):\n",
    "    a=datos[i].annotations[\"organism\"]\n",
    "    especies.append(a)\n",
    "    \n",
    "gc_values[0] \n",
    "\n",
    "for i in range(0,len(gc_values)): \n",
    "    diccionario[especies[i]]=gc_values[i]\n",
    "diccionario     \n",
    "    \n",
    "# la especie con menor % cg es Cicer arietinum con 33.90627119590804% y la especie con el mayor porcentaje es Solanum tuberosum' con 37.87344184609045%\n"
   ]
  },
  {
   "cell_type": "code",
   "execution_count": 10,
   "metadata": {},
   "outputs": [
    {
     "data": {
      "image/png": "[encoded data removed]",
      "text/plain": [
       "<Figure size 1080x648 with 1 Axes>"
      ]
     },
     "metadata": {
      "needs_background": "light"
     },
     "output_type": "display_data"
    }
   ],
   "source": [
    "# cluster-dendograma \n",
    "\n",
    "from scipy.cluster.hierarchy import dendrogram, linkage  \n",
    "from matplotlib import pyplot as plt\n",
    "PorcentajeGC=([[33.90627119590804],  \n",
    "    [34.42549627135735],\n",
    "    [34.8311756329890],\n",
    "    [35.87297851387091],\n",
    "    [36.36138387908663],\n",
    "    [36.759617212751124],\n",
    "    [37.243747064543655],\n",
    "    [37.37314891377885],\n",
    "    [37.4382835724441],\n",
    "    [37.54942005079465],\n",
    "    [37.71035546699235],\n",
    "    [37.81224741156999],\n",
    "    [37.86184803026014],\n",
    "    [37.87344184609045],])\n",
    "\n",
    "dendrograma = linkage(PorcentajeGC, 'single')\n",
    "\n",
    "lista = range(0, 15)\n",
    "\n",
    "plt.figure(figsize=(15, 9))  \n",
    "dendrogram(dendrograma, orientation='left', labels=lista, distance_sort='descending', show_leaf_counts=True)\n",
    "\n",
    "plt.show()"
   ]
  },
  {
   "cell_type": "code",
   "execution_count": null,
   "metadata": {},
   "outputs": [],
   "source": []
  }
 ],
 "metadata": {
  "kernelspec": {
   "display_name": "Python 3",
   "language": "python",
   "name": "python3"
  },
  "language_info": {
   "codemirror_mode": {
    "name": "ipython",
    "version": 3
   },
   "file_extension": ".py",
   "mimetype": "text/x-python",
   "name": "python",
   "nbconvert_exporter": "python",
   "pygments_lexer": "ipython3",
   "version": "3.7.1"
  }
 },
 "nbformat": 4,
 "nbformat_minor": 2
}
