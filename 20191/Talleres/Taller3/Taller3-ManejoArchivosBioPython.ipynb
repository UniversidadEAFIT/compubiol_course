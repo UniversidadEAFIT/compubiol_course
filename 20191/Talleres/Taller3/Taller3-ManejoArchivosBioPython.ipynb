{
 "cells": [
  {
   "cell_type": "markdown",
   "metadata": {},
   "source": [
    "# Taller 3 -Manejo de Archivos y BioPython\n",
    "## Fundamentos en Biología Computacional\n",
    "## 2019-1, Prof. Javier Correa\n",
    "\n",
    "Nota: Se calificará que el código sea lo más simple, claro, original y eficiente. No usar funciones no realizadas por ustedes mismos."
   ]
  },
  {
   "cell_type": "markdown",
   "metadata": {},
   "source": [
    "##### David Jiménez Londoño - 201610013183"
   ]
  },
  {
   "cell_type": "markdown",
   "metadata": {},
   "source": [
    "Competencias: 1. Resuelve problemas de ciencias de los datos utilizando razonamiento lógico y programación en python. 2. Manipula archivos con formatos utilizados en bioinformática para extaeer información relevante. 3. Utiliza efectivamente módulos y paquetes de python especializados para biología.\n",
    "\n",
    "Tener en cuenta: a. desarrollar y aplicar funciones en python, b. manipular archivos (entrada y salida), c. utilizar librerias especializadas (Biopython).<br>\n",
    "Ejercicio:<br>\n",
    "\n",
    "1. Un investigador desea desarrollar un Script en python, que le permita encontrar el grupo monifilético en común entre una lista de especies de plantas (archivo adjunto: lista_mercado.tsv). La información sobre la taxonomía de cada una de las especies fue descargada de la base de datos del GenBank, luego concatenada y se encuentra en formato .gb anexo <br> "
   ]
  },
  {
   "cell_type": "code",
   "execution_count": 1,
   "metadata": {},
   "outputs": [
    {
     "name": "stdout",
     "output_type": "stream",
     "text": [
      "Couldn't find program: 'bash'\n"
     ]
    }
   ],
   "source": [
    "%%bash\n",
    "cat lista_mercado.tsv"
   ]
  },
  {
   "cell_type": "code",
   "execution_count": 2,
   "metadata": {},
   "outputs": [
    {
     "name": "stdout",
     "output_type": "stream",
     "text": [
      "Couldn't find program: 'bash'\n"
     ]
    }
   ],
   "source": [
    "%%bash\n",
    "head -20 Mercado.gb"
   ]
  },
  {
   "cell_type": "markdown",
   "metadata": {},
   "source": [
    "#### $\\rightarrow$ Con el archivo \"Mercado.gb\";<br>\n",
    "- A. Desarrolle un script con el cual pueda extrer la información relacionada con la taxonomía de cada especie.<br>\n",
    "- B. Organice esta información en una objeto tipo lista o diccionario.<br>\n",
    "- C. Cree una función que reciba el objeto anterior y compare las clasificaciones entre las diferentes especies para retornar el ancestro monofilético común más reciente a todas ellas. <br> Ejemplo: Embryophyta"
   ]
  },
  {
   "cell_type": "markdown",
   "metadata": {},
   "source": [
    "### Punto A y Punto B"
   ]
  },
  {
   "cell_type": "code",
   "execution_count": 3,
   "metadata": {},
   "outputs": [],
   "source": [
    "from Bio import SeqIO\n",
    "record =list(SeqIO.parse('Mercado.gb','gb'))\n",
    "Especies = [] \n",
    "i = 0\n",
    "while i < len(record):\n",
    "    l=record[i]\n",
    "    T = l.annotations\n",
    "    Taxon = T[\"taxonomy\"]\n",
    "    Org = T[\"organism\"]\n",
    "    Especies.append([T[(\"organism\")],T[(\"taxonomy\")]])\n",
    "    i = i+1       \n",
    "    #print(Especies[i-1])"
   ]
  },
  {
   "cell_type": "markdown",
   "metadata": {},
   "source": [
    "### Punto C"
   ]
  },
  {
   "cell_type": "code",
   "execution_count": 4,
   "metadata": {},
   "outputs": [],
   "source": [
    "def monofiletico(Especies):\n",
    "    d = 0\n",
    "    while d < len(Especies[0][0]):\n",
    "        h = 0\n",
    "        monof = Especies[h][1][d]\n",
    "        while(h < len(Especies)):\n",
    "            if(monof == Especies[h][1][d]):\n",
    "                h = h + 1\n",
    "            else:\n",
    "                return Especies[h][1][d-1]\n",
    "        d = d + 1"
   ]
  },
  {
   "cell_type": "code",
   "execution_count": 5,
   "metadata": {},
   "outputs": [],
   "source": [
    "#monofiletico(Especies)"
   ]
  },
  {
   "cell_type": "markdown",
   "metadata": {},
   "source": [
    "2 . El mismo investigador está ahora interesado en hacer una caracterización funcional de los genomas de los cloroplastos que poseen estas especies. Para esto y continuando con el archivo del punto anterior (Mercado.gb), resuelva las siguientes preguntas:\n",
    "\n",
    "- A. Una forma de diferenciar una especie de otra es a través de la estimación del contenido de Guaninas y Citosinas en los genomas. Utilizando funciones de biopython responder; ¿Cuales son los valores de %GC para cada especie? retorne un diccionario con las especies como llave y su respectivo valor de %GC. Consulte el diccionario y muestre ¿Qué especie presenta el mayor %GC? ¿Y cual el más bajo? Represente los resultados en un dendograma donde se relacione las proximidades en los contenidos de %GC (puede usar Ploty, numpy, etc).\n",
    "\n",
    "- B. Otra forma de caracterizar los genomas es estimando la frecuencia con las que aparecen los codones en los genes codificantes. Usando biopython hacer una función que me extraiga los genes codificantes para cada genoma del cloroplasto del archivo .gb, definir una función que me permita estimar la frecuencia de cada uno de los codones usados por la célula. Con las herramientas anteriores y usando funciones accesorias grafique la frecuencia de estos codones versus el codón encontrado para cada una de las especies. Finalmente, responda: ¿Qué especie presenta el codón más inusual? ¿Qué aminoácido es el mas prevalente y menos prevalente?\n",
    "\n"
   ]
  },
  {
   "cell_type": "markdown",
   "metadata": {},
   "source": [
    "### Punto A"
   ]
  },
  {
   "cell_type": "code",
   "execution_count": 6,
   "metadata": {},
   "outputs": [],
   "source": [
    "from Bio.Seq import Seq\n",
    "from Bio.Alphabet import IUPAC"
   ]
  },
  {
   "cell_type": "code",
   "execution_count": 97,
   "metadata": {},
   "outputs": [
    {
     "name": "stdout",
     "output_type": "stream",
     "text": [
      "{'Pisum sativum subsp. elatius': 34.8377327603847, 'Solanum melongena var. insanum': 37.710355466992354, 'Cocos nucifera': 37.4382835724441, 'Prunus persica': 36.759617212751124, 'Cicer arietinum': 33.90627119590805, 'Lactuca sativa': 37.549420050794645, 'Lens culinaris': 34.42549627135736, 'Olea europaea subsp. laperrinei': 37.81224741156999, 'Solanum tuberosum': 37.87344184609045, 'Ananas comosus': 37.37314891377885, 'Chenopodium quinoa': 37.24374706454366, 'Brassica oleracea var. capitata': 36.36138387908663, 'Solanum lycopersicum': 37.86184803026014, 'Manihot esculenta': 35.87297851387091}\n"
     ]
    }
   ],
   "source": [
    "record = list(SeqIO.parse(\"Mercado.gb\",\"gb\"))\n",
    "Dicci = {}\n",
    "i = 0 \n",
    "while i < len(record):  \n",
    "    S=  record[i].seq.count(\"G\")\n",
    "    S1 =record[i].seq.count(\"C\")\n",
    "    S2= record[i].seq.count(\"A\")\n",
    "    S3= record[i].seq.count(\"T\")\n",
    "    GC =((S+S1)/(S+S1+S2+S3))*100\n",
    "    l=record[i].annotations\n",
    "    Org = l[\"organism\"]  \n",
    "    Dicci[Org]= GC\n",
    "    i = i+1\n",
    "     \n",
    "print(Dicci)\n",
    "    #print(Dicci.keys())\n",
    " "
   ]
  },
  {
   "cell_type": "code",
   "execution_count": 105,
   "metadata": {},
   "outputs": [
    {
     "name": "stdout",
     "output_type": "stream",
     "text": [
      "37.87344184609045 33.90627119590805\n"
     ]
    }
   ],
   "source": [
    "rango = list(Dicci.values())\n",
    "Mayor = max(rango)\n",
    "Menor = min(rango)\n",
    "print(Mayor, Menor)"
   ]
  }
 ],
 "metadata": {
  "kernelspec": {
   "display_name": "Python 3",
   "language": "python",
   "name": "python3"
  },
  "language_info": {
   "codemirror_mode": {
    "name": "ipython",
    "version": 3
   },
   "file_extension": ".py",
   "mimetype": "text/x-python",
   "name": "python",
   "nbconvert_exporter": "python",
   "pygments_lexer": "ipython3",
   "version": "3.7.1"
  }
 },
 "nbformat": 4,
 "nbformat_minor": 2
}
