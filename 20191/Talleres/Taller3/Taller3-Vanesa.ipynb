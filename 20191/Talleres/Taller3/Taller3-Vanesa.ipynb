{
 "cells": [
  {
   "cell_type": "markdown",
   "metadata": {},
   "source": [
    "# Taller 3 -Manejo de Archivos y BioPython\n",
    "## Fundamentos en Biología Computacional\n",
    "## 2019-1, Prof. Javier Correa\n",
    "\n",
    "Nota: Se calificará que el código sea lo más simple, claro, original y eficiente. No usar funciones no realizadas por ustedes mismos."
   ]
  },
  {
   "cell_type": "markdown",
   "metadata": {},
   "source": [
    "Competencias: 1. Resuelve problemas de ciencias de los datos utilizando razonamiento lógico y programación en python. 2. Manipula archivos con formatos utilizados en bioinformática para extaeer información relevante. 3. Utiliza efectivamente módulos y paquetes de python especializados para biología.\n",
    "\n",
    "Tener en cuenta: a. desarrollar y aplicar funciones en python, b. manipular archivos (entrada y salida), c. utilizar librerias especializadas (Biopython).<br>\n",
    "Ejercicio:<br>\n",
    "\n",
    "1. Un investigador desea desarrollar un Script en python, que le permita encontrar el grupo monifilético en común entre una lista de especies de plantas (archivo adjunto: lista_mercado.tsv). La información sobre la taxonomía de cada una de las especies fue descargada de la base de datos del GenBank, luego concatenada y se encuentra en formato .gb anexo <br> "
   ]
  },
  {
   "cell_type": "code",
   "execution_count": 1,
   "metadata": {},
   "outputs": [
    {
     "name": "stdout",
     "output_type": "stream",
     "text": [
      "Couldn't find program: 'bash'\n"
     ]
    }
   ],
   "source": [
    "%%bash\n",
    "cat lista_mercado.tsv"
   ]
  },
  {
   "cell_type": "code",
   "execution_count": 2,
   "metadata": {},
   "outputs": [
    {
     "name": "stdout",
     "output_type": "stream",
     "text": [
      "Couldn't find program: 'bash'\n"
     ]
    }
   ],
   "source": [
    "%%bash\n",
    "head -20 Mercado.gb"
   ]
  },
  {
   "cell_type": "markdown",
   "metadata": {},
   "source": [
    "#### $\\rightarrow$ Con el archivo \"Mercado.gb\";<br>\n",
    "- A. Desarrolle un script con el cual pueda extrer la información relacionada con la taxonomía de cada especie.<br>\n",
    "- B. Organice esta información en una objeto tipo lista o diccionario.<br>\n",
    "- C. Cree una función que reciba el objeto anterior y compare las clasificaciones entre las diferentes especies para retornar el ancestro monofilético común más reciente a todas ellas. <br> Ejemplo: Embryophyta"
   ]
  },
  {
   "cell_type": "markdown",
   "metadata": {},
   "source": [
    "# a. Desarrolle un script con el cual pueda extrer la información relacionada con la taxonomía de cada especie."
   ]
  },
  {
   "cell_type": "code",
   "execution_count": 53,
   "metadata": {},
   "outputs": [],
   "source": [
    "from Bio import SeqIO\n",
    "mercado = list(SeqIO.parse(\"Mercado.gb\",\"gb\"))\n",
    "\n",
    "\n",
    "Tax = []\n",
    "#t = {}\n",
    "for i in range (0, len(mercado)):\n",
    "    #k+= 1 \n",
    "    lista = mercado[i]\n",
    "    V1 = lista.annotations\n",
    "    t = V1[\"taxonomy\"]\n",
    "    #NumSps.append (k)\n",
    "    Tax.append (t)\n"
   ]
  },
  {
   "cell_type": "code",
   "execution_count": 54,
   "metadata": {},
   "outputs": [
    {
     "name": "stdout",
     "output_type": "stream",
     "text": [
      "['Eukaryota', 'Viridiplantae', 'Streptophyta', 'Embryophyta', 'Tracheophyta', 'Spermatophyta', 'Magnoliophyta', 'eudicotyledons', 'Gunneridae', 'Pentapetalae', 'rosids', 'fabids', 'Fabales', 'Fabaceae', 'Papilionoideae', 'Fabeae', 'Pisum']\n",
      "['Eukaryota', 'Viridiplantae', 'Streptophyta', 'Embryophyta', 'Tracheophyta', 'Spermatophyta', 'Magnoliophyta', 'eudicotyledons', 'Gunneridae', 'Pentapetalae', 'asterids', 'lamiids', 'Solanales', 'Solanaceae', 'Solanoideae', 'Solaneae', 'Solanum']\n",
      "['Eukaryota', 'Viridiplantae', 'Streptophyta', 'Embryophyta', 'Tracheophyta', 'Spermatophyta', 'Magnoliophyta', 'Liliopsida', 'Arecaceae', 'Arecoideae', 'Cocoseae', 'Attaleinae', 'Cocos']\n",
      "['Eukaryota', 'Viridiplantae', 'Streptophyta', 'Embryophyta', 'Tracheophyta', 'Spermatophyta', 'Magnoliophyta', 'eudicotyledons', 'Gunneridae', 'Pentapetalae', 'rosids', 'fabids', 'Rosales', 'Rosaceae', 'Maloideae', 'Amygdaleae', 'Prunus']\n",
      "['Eukaryota', 'Viridiplantae', 'Streptophyta', 'Embryophyta', 'Tracheophyta', 'Spermatophyta', 'Magnoliophyta', 'eudicotyledons', 'Gunneridae', 'Pentapetalae', 'rosids', 'fabids', 'Fabales', 'Fabaceae', 'Papilionoideae', 'Cicereae', 'Cicer']\n",
      "['Eukaryota', 'Viridiplantae', 'Streptophyta', 'Embryophyta', 'Tracheophyta', 'Spermatophyta', 'Magnoliophyta', 'eudicotyledons', 'Gunneridae', 'Pentapetalae', 'asterids', 'campanulids', 'Asterales', 'Asteraceae', 'Cichorioideae', 'Cichorieae', 'Lactucinae', 'Lactuca']\n",
      "['Eukaryota', 'Viridiplantae', 'Streptophyta', 'Embryophyta', 'Tracheophyta', 'Spermatophyta', 'Magnoliophyta', 'eudicotyledons', 'Gunneridae', 'Pentapetalae', 'rosids', 'fabids', 'Fabales', 'Fabaceae', 'Papilionoideae', 'Fabeae', 'Lens']\n",
      "['Eukaryota', 'Viridiplantae', 'Streptophyta', 'Embryophyta', 'Tracheophyta', 'Spermatophyta', 'Magnoliophyta', 'eudicotyledons', 'Gunneridae', 'Pentapetalae', 'asterids', 'lamiids', 'Lamiales', 'Oleaceae', 'Oleeae', 'Olea']\n",
      "['Eukaryota', 'Viridiplantae', 'Streptophyta', 'Embryophyta', 'Tracheophyta', 'Spermatophyta', 'Magnoliophyta', 'eudicotyledons', 'Gunneridae', 'Pentapetalae', 'asterids', 'lamiids', 'Solanales', 'Solanaceae', 'Solanoideae', 'Solaneae', 'Solanum']\n",
      "['Eukaryota', 'Viridiplantae', 'Streptophyta', 'Embryophyta', 'Tracheophyta', 'Spermatophyta', 'Magnoliophyta', 'Liliopsida', 'Poales', 'Bromeliaceae', 'Bromelioideae', 'Ananas']\n",
      "['Eukaryota', 'Viridiplantae', 'Streptophyta', 'Embryophyta', 'Tracheophyta', 'Spermatophyta', 'Magnoliophyta', 'eudicotyledons', 'Gunneridae', 'Pentapetalae', 'Caryophyllales', 'Chenopodiaceae', 'Chenopodioideae', 'Atripliceae', 'Chenopodium']\n",
      "['Eukaryota', 'Viridiplantae', 'Streptophyta', 'Embryophyta', 'Tracheophyta', 'Spermatophyta', 'Magnoliophyta', 'eudicotyledons', 'Gunneridae', 'Pentapetalae', 'rosids', 'malvids', 'Brassicales', 'Brassicaceae', 'Brassiceae', 'Brassica']\n",
      "['Eukaryota', 'Viridiplantae', 'Streptophyta', 'Embryophyta', 'Tracheophyta', 'Spermatophyta', 'Magnoliophyta', 'eudicotyledons', 'Gunneridae', 'Pentapetalae', 'asterids', 'lamiids', 'Solanales', 'Solanaceae', 'Solanoideae', 'Solaneae', 'Solanum', 'Lycopersicon']\n",
      "['Eukaryota', 'Viridiplantae', 'Streptophyta', 'Embryophyta', 'Tracheophyta', 'Spermatophyta', 'Magnoliophyta', 'eudicotyledons', 'Gunneridae', 'Pentapetalae', 'rosids', 'fabids', 'Malpighiales', 'Euphorbiaceae', 'Crotonoideae', 'Manihoteae', 'Manihot']\n"
     ]
    }
   ],
   "source": [
    "    print (*Tax, sep = \"\\n\")"
   ]
  },
  {
   "cell_type": "markdown",
   "metadata": {},
   "source": [
    "# b. Organice esta información en un objeto tipo lista o diccionario"
   ]
  },
  {
   "cell_type": "code",
   "execution_count": 55,
   "metadata": {},
   "outputs": [],
   "source": [
    "Esp = []\n",
    "#t = {}\n",
    "for i in range (0, len(mercado)):\n",
    "    #k+= 1 \n",
    "    listas = mercado[i]\n",
    "    V2 = listas.annotations\n",
    "    to = V2[\"organism\"]\n",
    "    #NumSps.append (k)\n",
    "    Esp.append (to)\n"
   ]
  },
  {
   "cell_type": "code",
   "execution_count": 56,
   "metadata": {},
   "outputs": [
    {
     "name": "stdout",
     "output_type": "stream",
     "text": [
      "Pisum sativum subsp. elatius\n",
      "Solanum melongena var. insanum\n",
      "Cocos nucifera\n",
      "Prunus persica\n",
      "Cicer arietinum\n",
      "Lactuca sativa\n",
      "Lens culinaris\n",
      "Olea europaea subsp. laperrinei\n",
      "Solanum tuberosum\n",
      "Ananas comosus\n",
      "Chenopodium quinoa\n",
      "Brassica oleracea var. capitata\n",
      "Solanum lycopersicum\n",
      "Manihot esculenta\n"
     ]
    }
   ],
   "source": [
    "    print (*Esp, sep = \"\\n\")"
   ]
  },
  {
   "cell_type": "code",
   "execution_count": 57,
   "metadata": {},
   "outputs": [
    {
     "name": "stdout",
     "output_type": "stream",
     "text": [
      "('Pisum sativum subsp. elatius', ['Eukaryota', 'Viridiplantae', 'Streptophyta', 'Embryophyta', 'Tracheophyta', 'Spermatophyta', 'Magnoliophyta', 'eudicotyledons', 'Gunneridae', 'Pentapetalae', 'rosids', 'fabids', 'Fabales', 'Fabaceae', 'Papilionoideae', 'Fabeae', 'Pisum'])\n",
      "('Solanum melongena var. insanum', ['Eukaryota', 'Viridiplantae', 'Streptophyta', 'Embryophyta', 'Tracheophyta', 'Spermatophyta', 'Magnoliophyta', 'eudicotyledons', 'Gunneridae', 'Pentapetalae', 'asterids', 'lamiids', 'Solanales', 'Solanaceae', 'Solanoideae', 'Solaneae', 'Solanum'])\n",
      "('Cocos nucifera', ['Eukaryota', 'Viridiplantae', 'Streptophyta', 'Embryophyta', 'Tracheophyta', 'Spermatophyta', 'Magnoliophyta', 'Liliopsida', 'Arecaceae', 'Arecoideae', 'Cocoseae', 'Attaleinae', 'Cocos'])\n",
      "('Prunus persica', ['Eukaryota', 'Viridiplantae', 'Streptophyta', 'Embryophyta', 'Tracheophyta', 'Spermatophyta', 'Magnoliophyta', 'eudicotyledons', 'Gunneridae', 'Pentapetalae', 'rosids', 'fabids', 'Rosales', 'Rosaceae', 'Maloideae', 'Amygdaleae', 'Prunus'])\n",
      "('Cicer arietinum', ['Eukaryota', 'Viridiplantae', 'Streptophyta', 'Embryophyta', 'Tracheophyta', 'Spermatophyta', 'Magnoliophyta', 'eudicotyledons', 'Gunneridae', 'Pentapetalae', 'rosids', 'fabids', 'Fabales', 'Fabaceae', 'Papilionoideae', 'Cicereae', 'Cicer'])\n",
      "('Lactuca sativa', ['Eukaryota', 'Viridiplantae', 'Streptophyta', 'Embryophyta', 'Tracheophyta', 'Spermatophyta', 'Magnoliophyta', 'eudicotyledons', 'Gunneridae', 'Pentapetalae', 'asterids', 'campanulids', 'Asterales', 'Asteraceae', 'Cichorioideae', 'Cichorieae', 'Lactucinae', 'Lactuca'])\n",
      "('Lens culinaris', ['Eukaryota', 'Viridiplantae', 'Streptophyta', 'Embryophyta', 'Tracheophyta', 'Spermatophyta', 'Magnoliophyta', 'eudicotyledons', 'Gunneridae', 'Pentapetalae', 'rosids', 'fabids', 'Fabales', 'Fabaceae', 'Papilionoideae', 'Fabeae', 'Lens'])\n",
      "('Olea europaea subsp. laperrinei', ['Eukaryota', 'Viridiplantae', 'Streptophyta', 'Embryophyta', 'Tracheophyta', 'Spermatophyta', 'Magnoliophyta', 'eudicotyledons', 'Gunneridae', 'Pentapetalae', 'asterids', 'lamiids', 'Lamiales', 'Oleaceae', 'Oleeae', 'Olea'])\n",
      "('Solanum tuberosum', ['Eukaryota', 'Viridiplantae', 'Streptophyta', 'Embryophyta', 'Tracheophyta', 'Spermatophyta', 'Magnoliophyta', 'eudicotyledons', 'Gunneridae', 'Pentapetalae', 'asterids', 'lamiids', 'Solanales', 'Solanaceae', 'Solanoideae', 'Solaneae', 'Solanum'])\n",
      "('Ananas comosus', ['Eukaryota', 'Viridiplantae', 'Streptophyta', 'Embryophyta', 'Tracheophyta', 'Spermatophyta', 'Magnoliophyta', 'Liliopsida', 'Poales', 'Bromeliaceae', 'Bromelioideae', 'Ananas'])\n",
      "('Chenopodium quinoa', ['Eukaryota', 'Viridiplantae', 'Streptophyta', 'Embryophyta', 'Tracheophyta', 'Spermatophyta', 'Magnoliophyta', 'eudicotyledons', 'Gunneridae', 'Pentapetalae', 'Caryophyllales', 'Chenopodiaceae', 'Chenopodioideae', 'Atripliceae', 'Chenopodium'])\n",
      "('Brassica oleracea var. capitata', ['Eukaryota', 'Viridiplantae', 'Streptophyta', 'Embryophyta', 'Tracheophyta', 'Spermatophyta', 'Magnoliophyta', 'eudicotyledons', 'Gunneridae', 'Pentapetalae', 'rosids', 'malvids', 'Brassicales', 'Brassicaceae', 'Brassiceae', 'Brassica'])\n",
      "('Solanum lycopersicum', ['Eukaryota', 'Viridiplantae', 'Streptophyta', 'Embryophyta', 'Tracheophyta', 'Spermatophyta', 'Magnoliophyta', 'eudicotyledons', 'Gunneridae', 'Pentapetalae', 'asterids', 'lamiids', 'Solanales', 'Solanaceae', 'Solanoideae', 'Solaneae', 'Solanum', 'Lycopersicon'])\n",
      "('Manihot esculenta', ['Eukaryota', 'Viridiplantae', 'Streptophyta', 'Embryophyta', 'Tracheophyta', 'Spermatophyta', 'Magnoliophyta', 'eudicotyledons', 'Gunneridae', 'Pentapetalae', 'rosids', 'fabids', 'Malpighiales', 'Euphorbiaceae', 'Crotonoideae', 'Manihoteae', 'Manihot'])\n"
     ]
    }
   ],
   "source": [
    "TaxYEsp = list(zip(Esp,Tax))\n",
    "\n",
    "print(*TaxYEsp, sep = \"\\n\")"
   ]
  },
  {
   "cell_type": "markdown",
   "metadata": {},
   "source": [
    "# c. Cree una función que reciba el objeto anterior y compare las clasificaciones entre las diferentes especies para retornar el ancestro monofilético común más reciente a todas ellas. "
   ]
  },
  {
   "cell_type": "code",
   "execution_count": 41,
   "metadata": {},
   "outputs": [
    {
     "name": "stdout",
     "output_type": "stream",
     "text": [
      "El ancestro común más reciente de las especies es el grupo: Magnoliophyta\n"
     ]
    }
   ],
   "source": [
    "def CommonA(Tax):\n",
    "    i=0\n",
    "    while(i < len(Tax[0][1])):\n",
    "        j=0\n",
    "        CommonA = Tax[j][i]\n",
    "        while(j < len(Tax)):\n",
    "            if(CommonA == Tax[j][i]):\n",
    "                j = j + 1\n",
    "            else:\n",
    "                return Tax[j][i-1]\n",
    "        i = i + 1\n",
    "    return CommonA\n",
    "\n",
    "a = CommonA(Tax)\n",
    "\n",
    "print(\"El ancestro común más reciente de las especies es el grupo:\",a)\n"
   ]
  },
  {
   "cell_type": "markdown",
   "metadata": {},
   "source": [
    "2 . El mismo investigador está ahora interesado en hacer una caracterización funcional de los genomas de los cloroplastos que poseen estas especies. Para esto y continuando con el archivo del punto anterior (Mercado.gb), resuelva las siguientes preguntas:\n",
    "\n",
    "- A. Una forma de diferenciar una especie de otra es a través de la estimación del contenido de Guaninas y Citosinas en los genomas. Utilizando funciones de biopython responder; ¿Cuales son los valores de %GC para cada especie? retorne un diccionario con las especies como llave y su respectivo valor de %GC. Consulte el diccionario y muestre ¿Qué especie presenta el mayor %GC? ¿Y cual el más bajo? Represente los resultados en un dendograma donde se relacione las proximidades en los contenidos de %GC (puede usar Ploty, numpy, etc).\n",
    "\n",
    "- B. Otra forma de caracterizar los genomas es estimando la frecuencia con las que aparecen los codones en los genes codificantes. Usando biopython hacer una función que me extraiga los genes codificantes para cada genoma del cloroplasto del archivo .gb, definir una función que me permita estimar la frecuencia de cada uno de los codones usados por la célula. Con las herramientas anteriores y usando funciones accesorias grafique la frecuencia de estos codones versus el codón encontrado para cada una de las especies. Finalmente, responda: ¿Qué especie presenta el codón más inusual? ¿Qué aminoácido es el mas prevalente y menos prevalente?\n",
    "\n"
   ]
  },
  {
   "cell_type": "markdown",
   "metadata": {},
   "source": [
    "# ¿Cuales son los valores de %GC para cada especie?"
   ]
  },
  {
   "cell_type": "code",
   "execution_count": 44,
   "metadata": {},
   "outputs": [],
   "source": [
    "listasps= []\n",
    "mercad2 = list(SeqIO.parse(\"Mercado.gb\",\"gb\"))\n",
    "for i in range (0, len(mercad2)):\n",
    "    #k+= 1 \n",
    "    lista1 = mercad2[i]\n",
    "    Sps = lista1.annotations\n",
    "    Vo = Sps['organism']\n",
    "    V1 = lista1.seq\n",
    "    listasps.append (Vo)\n",
    "    #listasps= V2[i]"
   ]
  },
  {
   "cell_type": "code",
   "execution_count": 45,
   "metadata": {},
   "outputs": [
    {
     "name": "stdout",
     "output_type": "stream",
     "text": [
      "['Pisum sativum subsp. elatius', 'Solanum melongena var. insanum', 'Cocos nucifera', 'Prunus persica', 'Cicer arietinum', 'Lactuca sativa', 'Lens culinaris', 'Olea europaea subsp. laperrinei', 'Solanum tuberosum', 'Ananas comosus', 'Chenopodium quinoa', 'Brassica oleracea var. capitata', 'Solanum lycopersicum', 'Manihot esculenta']\n"
     ]
    }
   ],
   "source": [
    "print (listasps)"
   ]
  },
  {
   "cell_type": "code",
   "execution_count": 46,
   "metadata": {},
   "outputs": [],
   "source": [
    "listaseq= []\n",
    "mercad2 = list(SeqIO.parse(\"Mercado.gb\",\"gb\"))\n",
    "for i in range (0, len(mercad2)): \n",
    "    lista2 = mercad2[i]\n",
    "    Secu = lista2.annotations\n",
    "    Va2 = Secu['organism']\n",
    "    Va1 = lista2.seq\n",
    "    listaseq.append (Va1)"
   ]
  },
  {
   "cell_type": "code",
   "execution_count": 47,
   "metadata": {},
   "outputs": [
    {
     "name": "stdout",
     "output_type": "stream",
     "text": [
      "[Seq('GGCGAACGACGGGAATTGAACCCGCGCATGGTGGATTCACAATCCACTGCCTTG...GCG', IUPACAmbiguousDNA()), Seq('AAAAAATTGATAAGCTTAACACAAAAGTTATGGGCGAACGACGGGAATTGAACC...TAA', IUPACAmbiguousDNA()), Seq('AAATTTTCCTTTCCATTATGAATAGCGATTGTATGGCCAATCATTGTGGGTATA...TAC', IUPACAmbiguousDNA()), Seq('TGGGCGAACGACGGGAATTGAACCCGCGCATGGTGGATTCACAATCCACTGCCT...TTA', IUPACAmbiguousDNA()), Seq('TGGGCGAACGACGGGAATTGAACCCGCGCATGGTGGATTCACAATCCACTGCCT...TTA', IUPACAmbiguousDNA()), Seq('TAAATTCAATTTGGGCGAACGACGGGAATTGAACCCGCGCATGGTGGATTCACA...AAT', IUPACAmbiguousDNA()), Seq('ATCCACTTGGCTACATCCGCCCTATAACTATGTCTAAATTATACAACTTTTTAT...TTG', IUPACAmbiguousDNA()), Seq('TGATGATATCATTTTAGTTATGGGCGAACGACGGGAATTGAACCCGCGCATGGT...GGA', IUPACAmbiguousDNA()), Seq('CTGTCTAATATCTCATATTTATGAATTATGGGCGAACGACGGGAATTGAACCCG...AAC', IUPACAmbiguousDNA()), Seq('AAAAAATACCCAATATCTTGTTTAGCAAGATATTGGGTATTTTTCCTTCAGCAA...AAG', IUPACAmbiguousDNA()), Seq('GCGAACGACGGGAATTGAACCCGCGCATGGTGGATTCACAATCCACTGCCTTGA...CGG', IUPACAmbiguousDNA()), Seq('ACGGGCGAACGACGGGAATTGAACCCGCGATGGTGAATTCACAATCCACTGCCT...ATC', IUPACAmbiguousDNA()), Seq('GGGCGAACGACGGGAATTGAACCCGCGCATGGTGGATTCACAATCCACTGCCTT...AAT', IUPACAmbiguousDNA()), Seq('TGGGCGAATGACGGGAATTGAACCCGCGCATGGTGGATTCACAATCCACTGCCT...AGG', IUPACAmbiguousDNA())]\n"
     ]
    }
   ],
   "source": [
    "print (listaseq)"
   ]
  },
  {
   "cell_type": "code",
   "execution_count": 70,
   "metadata": {},
   "outputs": [
    {
     "data": {
      "text/plain": [
       "(34.8377327603847,\n",
       " 37.710355466992354,\n",
       " 37.4382835724441,\n",
       " 36.759617212751124,\n",
       " 33.90627119590805,\n",
       " 37.549420050794645,\n",
       " 34.42549627135736,\n",
       " 37.81224741156999,\n",
       " 37.87344184609045,\n",
       " 37.37314891377885,\n",
       " 37.24374706454366,\n",
       " 36.36138387908663,\n",
       " 37.86184803026014,\n",
       " 35.87297851387091)"
      ]
     },
     "execution_count": 70,
     "metadata": {},
     "output_type": "execute_result"
    }
   ],
   "source": [
    "lista_de_per= []\n",
    "\n",
    "def pergc (listaseq):\n",
    "    a=0\n",
    "    b=0\n",
    "    c=0\n",
    "    d=0\n",
    "    e=0\n",
    "    f=0\n",
    "    g=0\n",
    "    h=0\n",
    "    i=0\n",
    "    j=0\n",
    "    k=0\n",
    "    l=0\n",
    "    m=0\n",
    "    n=0\n",
    "    sumag=0\n",
    "    sumat=0\n",
    "    sumac=0\n",
    "    sumaa=0 \n",
    "    sumag1=0\n",
    "    sumat1=0\n",
    "    sumac1=0\n",
    "    sumaa1=0\n",
    "    sumag2=0\n",
    "    sumat2=0\n",
    "    sumac2=0\n",
    "    sumaa2=0\n",
    "    sumag3=0\n",
    "    sumat3=0\n",
    "    sumac3=0\n",
    "    sumaa3=0\n",
    "    sumag4=0\n",
    "    sumat4=0\n",
    "    sumac4=0\n",
    "    sumaa4=0\n",
    "    sumag5=0\n",
    "    sumat5=0\n",
    "    sumac5=0\n",
    "    sumaa5=0\n",
    "    sumag6=0\n",
    "    sumat6=0\n",
    "    sumac6=0\n",
    "    sumaa6=0\n",
    "    sumag7=0\n",
    "    sumat7=0\n",
    "    sumac7=0\n",
    "    sumaa7=0\n",
    "    sumag8=0\n",
    "    sumat8=0\n",
    "    sumac8=0\n",
    "    sumaa8=0\n",
    "    sumag9=0\n",
    "    sumat9=0\n",
    "    sumac9=0\n",
    "    sumaa9=0\n",
    "    sumag10=0\n",
    "    sumat10=0\n",
    "    sumac10=0\n",
    "    sumaa10=0\n",
    "    sumag11=0\n",
    "    sumat11=0\n",
    "    sumac11=0\n",
    "    sumaa11=0\n",
    "    sumag12=0\n",
    "    sumat12=0\n",
    "    sumac12=0\n",
    "    sumaa12=0\n",
    "    sumag13=0\n",
    "    sumat13=0\n",
    "    sumac13=0\n",
    "    sumaa13=0 \n",
    "    \n",
    "    while(a < len(listaseq[0])):\n",
    "        psc0 = listaseq[0][a]\n",
    "        if psc0 == 'G':\n",
    "            sumag += 1\n",
    "        if psc0 == 'C':\n",
    "            sumac += 1\n",
    "        if psc0 == 'T':\n",
    "            sumat += 1\n",
    "        if psc0 == 'A':\n",
    "            sumaa += 1\n",
    "           \n",
    "        a = a + 1\n",
    "        gc0 = (sumag+sumac)/(sumag+sumac+sumaa+sumat) * 100\n",
    "    \n",
    "    while(b < len(listaseq[1])):\n",
    "        psc1 = listaseq[1][b]\n",
    "        if psc1 == 'G':\n",
    "            sumag1 += 1\n",
    "        if psc1 == 'C':\n",
    "            sumac1 += 1\n",
    "        if psc1 == 'T':\n",
    "            sumat1 += 1\n",
    "        if psc1 == 'A':\n",
    "            sumaa1 += 1\n",
    "           \n",
    "        b = b + 1\n",
    "        gc1 = (sumag1+sumac1)/(sumag1+sumac1+sumaa1+sumat1) * 100\n",
    "\n",
    "    while(c < len(listaseq[2])):\n",
    "        psc2 = listaseq[2][c]\n",
    "        if psc2 == 'G':\n",
    "            sumag2 += 1\n",
    "        if psc2 == 'C':\n",
    "            sumac2 += 1\n",
    "        if psc2 == 'T':\n",
    "            sumat2 += 1\n",
    "        if psc2 == 'A':\n",
    "            sumaa2 += 1\n",
    "           \n",
    "        c = c + 1\n",
    "        gc2 = (sumag2+sumac2)/(sumag2+sumac2+sumaa2+sumat2) * 100\n",
    "        \n",
    "    while(d < len(listaseq[3])):\n",
    "        psc3 = listaseq[3][d]\n",
    "        if psc3 == 'G':\n",
    "            sumag3 += 1\n",
    "        if psc3 == 'C':\n",
    "            sumac3 += 1\n",
    "        if psc3 == 'T':\n",
    "            sumat3 += 1\n",
    "        if psc3 == 'A':\n",
    "            sumaa3 += 1\n",
    "           \n",
    "        d = d + 1\n",
    "        gc3 = (sumag3+sumac3)/(sumag3+sumac3+sumaa3+sumat3) * 100\n",
    "        \n",
    "    while(e < len(listaseq[4])):\n",
    "        psc4 = listaseq[4][e]\n",
    "        if psc4 == 'G':\n",
    "            sumag4 += 1\n",
    "        if psc4 == 'C':\n",
    "            sumac4 += 1\n",
    "        if psc4 == 'T':\n",
    "            sumat4 += 1\n",
    "        if psc4 == 'A':\n",
    "            sumaa4 += 1\n",
    "           \n",
    "        e = e + 1\n",
    "        gc4 = (sumag4+sumac4)/(sumag4+sumac4+sumaa4+sumat4) * 100\n",
    "\n",
    "        \n",
    "    while(f < len(listaseq[5])):\n",
    "        psc5 = listaseq[5][f]\n",
    "        if psc5 == 'G':\n",
    "            sumag5 += 1\n",
    "        if psc5 == 'C':\n",
    "            sumac5 += 1\n",
    "        if psc5 == 'T':\n",
    "            sumat5 += 1\n",
    "        if psc5 == 'A':\n",
    "            sumaa5 += 1\n",
    "           \n",
    "        f = f + 1\n",
    "        gc5 = (sumag5+sumac5)/(sumag5+sumac5+sumaa5+sumat5) * 100        \n",
    "        \n",
    "    while(g < len(listaseq[6])):\n",
    "        psc6 = listaseq[6][g]\n",
    "        if psc6 == 'G':\n",
    "            sumag6 += 1\n",
    "        if psc6 == 'C':\n",
    "            sumac6 += 1\n",
    "        if psc6 == 'T':\n",
    "            sumat6 += 1\n",
    "        if psc6 == 'A':\n",
    "            sumaa6 += 1\n",
    "           \n",
    "        g = g + 1\n",
    "        gc6 = (sumag6+sumac6)/(sumag6+sumac6+sumaa6+sumat6) * 100        \n",
    "\n",
    "\n",
    "    while(h < len(listaseq[7])):\n",
    "        psc7 = listaseq[7][h]\n",
    "        if psc7 == 'G':\n",
    "            sumag7 += 1\n",
    "        if psc7 == 'C':\n",
    "            sumac7 += 1\n",
    "        if psc7 == 'T':\n",
    "            sumat7 += 1\n",
    "        if psc7 == 'A':\n",
    "            sumaa7 += 1\n",
    "           \n",
    "        h = h + 1\n",
    "        gc7 = (sumag7+sumac7)/(sumag7+sumac7+sumaa7+sumat7) * 100\n",
    "        \n",
    "    while(i < len(listaseq[8])):\n",
    "        psc8 = listaseq[8][i]\n",
    "        if psc8 == 'G':\n",
    "            sumag8 += 1\n",
    "        if psc8 == 'C':\n",
    "            sumac8 += 1\n",
    "        if psc8 == 'T':\n",
    "            sumat8 += 1\n",
    "        if psc8 == 'A':\n",
    "            sumaa8 += 1\n",
    "           \n",
    "        i = i + 1\n",
    "        gc8 = (sumag8+sumac8)/(sumag8+sumac8+sumaa8+sumat8) * 100 \n",
    "        \n",
    "    while(j < len(listaseq[9])):\n",
    "        psc9 = listaseq[9][j]\n",
    "        if psc9 == 'G':\n",
    "            sumag9 += 1\n",
    "        if psc9 == 'C':\n",
    "            sumac9 += 1\n",
    "        if psc9 == 'T':\n",
    "            sumat9 += 1\n",
    "        if psc9 == 'A':\n",
    "            sumaa9 += 1\n",
    "           \n",
    "        j = j + 1\n",
    "        gc9 = (sumag9+sumac9)/(sumag9+sumac9+sumaa9+sumat9) * 100\n",
    "        \n",
    "    while(k < len(listaseq[10])):\n",
    "        psc10 = listaseq[10][k]\n",
    "        if psc10 == 'G':\n",
    "            sumag10 += 1\n",
    "        if psc10 == 'C':\n",
    "            sumac10 += 1\n",
    "        if psc10 == 'T':\n",
    "            sumat10 += 1\n",
    "        if psc10 == 'A':\n",
    "            sumaa10 += 1\n",
    "           \n",
    "        k = k + 1\n",
    "        gc10 = (sumag10+sumac10)/(sumag10+sumac10+sumaa10+sumat10) * 100        \n",
    "        \n",
    "    while(l < len(listaseq[11])):\n",
    "        psc11 = listaseq[11][l]\n",
    "        if psc11 == 'G':\n",
    "            sumag11 += 1\n",
    "        if psc11 == 'C':\n",
    "            sumac11 += 1\n",
    "        if psc11 == 'T':\n",
    "            sumat11 += 1\n",
    "        if psc11 == 'A':\n",
    "            sumaa11 += 1\n",
    "           \n",
    "        l = l + 1\n",
    "        gc11 = (sumag11+sumac11)/(sumag11+sumac11+sumaa11+sumat11) * 100           \n",
    "        \n",
    "    while(m < len(listaseq[12])):\n",
    "        psc12 = listaseq[12][m]\n",
    "        if psc12 == 'G':\n",
    "            sumag12 += 1\n",
    "        if psc12 == 'C':\n",
    "            sumac12 += 1\n",
    "        if psc12 == 'T':\n",
    "            sumat12 += 1\n",
    "        if psc12 == 'A':\n",
    "            sumaa12 += 1\n",
    "           \n",
    "        m = m + 1\n",
    "        gc12 = (sumag12+sumac12)/(sumag12+sumac12+sumaa12+sumat12) * 100        \n",
    "        \n",
    "    while(n < len(listaseq[13])):\n",
    "        psc13 = listaseq[13][n]\n",
    "        if psc13 == 'G':\n",
    "            sumag13 += 1\n",
    "        if psc13 == 'C':\n",
    "            sumac13 += 1\n",
    "        if psc13 == 'T':\n",
    "            sumat13 += 1\n",
    "        if psc13 == 'A':\n",
    "            sumaa13 += 1\n",
    "           \n",
    "        n = n + 1\n",
    "        gc13 = (sumag13+sumac13)/(sumag13+sumac13+sumaa13+sumat13) * 100       \n",
    "    lista_de_per.append(gc0)\n",
    "    lista_de_per.append(gc1)\n",
    "    lista_de_per.append(gc2)\n",
    "    lista_de_per.append(gc3)\n",
    "    lista_de_per.append(gc4)\n",
    "    lista_de_per.append(gc5)\n",
    "    lista_de_per.append(gc6)\n",
    "    lista_de_per.append(gc7)\n",
    "    lista_de_per.append(gc8)\n",
    "    lista_de_per.append(gc9)\n",
    "    lista_de_per.append(gc10)\n",
    "    lista_de_per.append(gc11)\n",
    "    lista_de_per.append(gc12)\n",
    "    lista_de_per.append(gc13)\n",
    "    return gc0, gc1, gc2, gc3, gc4, gc5, gc6, gc7, gc8, gc9, gc10, gc11, gc12, gc13\n",
    "    \n",
    "pergc(listaseq) \n",
    "\n"
   ]
  },
  {
   "cell_type": "markdown",
   "metadata": {},
   "source": [
    "# Los valores de GC para cada especie son los que se observan arriba"
   ]
  },
  {
   "cell_type": "markdown",
   "metadata": {},
   "source": [
    "# Retorne un diccionario con las especies como llave y su respectivo valor de %GC"
   ]
  },
  {
   "cell_type": "code",
   "execution_count": 71,
   "metadata": {
    "scrolled": true
   },
   "outputs": [
    {
     "name": "stdout",
     "output_type": "stream",
     "text": [
      "{'Pisum sativum subsp. elatius': 34.8377327603847, 'Solanum melongena var. insanum': 37.710355466992354, 'Cocos nucifera': 37.4382835724441, 'Prunus persica': 36.759617212751124, 'Cicer arietinum': 33.90627119590805, 'Lactuca sativa': 37.549420050794645, 'Lens culinaris': 34.42549627135736, 'Olea europaea subsp. laperrinei': 37.81224741156999, 'Solanum tuberosum': 37.87344184609045, 'Ananas comosus': 37.37314891377885, 'Chenopodium quinoa': 37.24374706454366, 'Brassica oleracea var. capitata': 36.36138387908663, 'Solanum lycopersicum': 37.86184803026014, 'Manihot esculenta': 35.87297851387091}\n"
     ]
    }
   ],
   "source": [
    "dictionary = dict(zip(listasps, lista_de_per))\n",
    "print(dictionary)"
   ]
  },
  {
   "cell_type": "code",
   "execution_count": 72,
   "metadata": {},
   "outputs": [
    {
     "name": "stdout",
     "output_type": "stream",
     "text": [
      "Pisum sativum subsp. elatius 34.8377327603847\n",
      "Solanum melongena var. insanum 37.710355466992354\n",
      "Cocos nucifera 37.4382835724441\n",
      "Prunus persica 36.759617212751124\n",
      "Cicer arietinum 33.90627119590805\n",
      "Lactuca sativa 37.549420050794645\n",
      "Lens culinaris 34.42549627135736\n",
      "Olea europaea subsp. laperrinei 37.81224741156999\n",
      "Solanum tuberosum 37.87344184609045\n",
      "Ananas comosus 37.37314891377885\n",
      "Chenopodium quinoa 37.24374706454366\n",
      "Brassica oleracea var. capitata 36.36138387908663\n",
      "Solanum lycopersicum 37.86184803026014\n",
      "Manihot esculenta 35.87297851387091\n"
     ]
    }
   ],
   "source": [
    "for k,v in dictionary.items():\n",
    "    print(k,v)\n"
   ]
  },
  {
   "cell_type": "markdown",
   "metadata": {},
   "source": [
    "# Consulte el diccionario y muestre ¿Qué especie presenta el mayor %GC? ¿Y cual el más bajo?"
   ]
  },
  {
   "cell_type": "code",
   "execution_count": 73,
   "metadata": {
    "scrolled": true
   },
   "outputs": [
    {
     "name": "stdout",
     "output_type": "stream",
     "text": [
      "La especie con mayor porcentaje de GC es: Solanum tuberosum con un valor de: 37.87344184609045\n"
     ]
    }
   ],
   "source": [
    "valor = max([i for i in dictionary.values()])\n",
    "maximum = max(dictionary, key=dictionary.get) \n",
    "\n",
    "print('La especie con mayor porcentaje de GC es:', maximum,'con un valor de:', valor)"
   ]
  },
  {
   "cell_type": "code",
   "execution_count": 74,
   "metadata": {},
   "outputs": [
    {
     "name": "stdout",
     "output_type": "stream",
     "text": [
      "La especie con menor porcentaje de GC es: Cicer arietinum con un valor de: 33.90627119590805\n"
     ]
    }
   ],
   "source": [
    "valorm = min([i for i in dictionary.values()])\n",
    "minimum = min(dictionary, key=dictionary.get) \n",
    "\n",
    "print('La especie con menor porcentaje de GC es:', minimum,'con un valor de:', valorm)"
   ]
  },
  {
   "cell_type": "markdown",
   "metadata": {},
   "source": [
    "# Represente los resultados en un dendograma donde se relacione las proximidades en los contenidos de %GC (puede usar Ploty, numpy, etc)"
   ]
  },
  {
   "cell_type": "code",
   "execution_count": 17,
   "metadata": {},
   "outputs": [
    {
     "data": {
      "text/plain": [
       "'3.7.0'"
      ]
     },
     "execution_count": 17,
     "metadata": {},
     "output_type": "execute_result"
    }
   ],
   "source": [
    "import plotly\n",
    "plotly.__version__\n",
    "\n",
    "#Profe, no sé :'c"
   ]
  },
  {
   "cell_type": "code",
   "execution_count": null,
   "metadata": {},
   "outputs": [],
   "source": []
  },
  {
   "cell_type": "markdown",
   "metadata": {},
   "source": [
    "B. Otra forma de caracterizar los genomas es estimando la frecuencia con las que aparecen los codones en los genes codificantes. Usando biopython hacer una función que me extraiga los genes codificantes para cada genoma del cloroplasto del archivo .gb, definir una función que me permita estimar la frecuencia de cada uno de los codones usados por la célula. Con las herramientas anteriores y usando funciones accesorias grafique la frecuencia de estos codones versus el codón encontrado para cada una de las especies. Finalmente, responda: ¿Qué especie presenta el codón más inusual? ¿Qué aminoácido es el mas prevalente y menos prevalente?"
   ]
  },
  {
   "cell_type": "code",
   "execution_count": 19,
   "metadata": {},
   "outputs": [],
   "source": [
    "#for i in range (0, 13):\n",
    "trans= listaseq[0].transcribe()\n",
    "    \n"
   ]
  },
  {
   "cell_type": "code",
   "execution_count": 58,
   "metadata": {},
   "outputs": [],
   "source": [
    "trad= listaseq[0].translate()\n",
    "\n",
    "# :'c"
   ]
  },
  {
   "cell_type": "code",
   "execution_count": 59,
   "metadata": {},
   "outputs": [
    {
     "name": "stdout",
     "output_type": "stream",
     "text": [
      "GERRELNPRMVDSQSTALIHLATSAL*LCLNYITFYTFSLFFSSNLLKY*KIRKHLFLYMYTEKEY*QKVRE*YPQC*YYSFTKIRIFKPKYYPFIDGASTAARSRGKL*ALRSCITSIPRLARLIISAQVLITRP*LSTTDWLKLKPFKLKAIVLIPNAVNQIPTTGQAARKKCKERELLKLAYWKINRPK*P*AATIL*VSSS*PNR*PSLADSFSVVSLIKLEVTKEPCIALNREPPNTPATPNM*NGCIRILCSA*NTIIKLKVPEIPRGIPSEKLP*PIG*IKKTAVAAATGAEYATAIQGRIPRRKLSSHSRPM*QATPSKKCRTISS*GPPLYNHSSTDAASHIG*KCKPIAAEVGIMAPEIILFP*SRDPETGSRIPSISTGGAAMKAIINTEVAVNKVGIIKTPNHPM*RRFSVLVIQLQKRPHRFSLSRLSKIAVMVKSWVY*N*IIRDSQAHEFSITIELRACYKTV*HDLYTGVNQYQYPPYPVIDLDSDIFSFFTSFHHPFKKKEKRFSIFSRYDFAMICNSDLFILSLY*L*YIIYLLIRMGCPGLEPGTSRME*KIPCLIK*NNKKPLPKPCMHFSLHTAFPMYTSKPELLFQKRNLETQLLTFHNPFYIDIYNI*VS*PIIHHGPDRY*KEYPNTKYDFYVTSAK*RNLLEKSKK*FLLPL*RILAIILLNLIFSKKRVQYFCVYKPKF*YKKAEVYILFDTNFFFLRIHYNNEKDFCIFAKIDQ*YQNRMNRPRPAY*WAPLIHYKISL*PRI*LEE*LELLYPIF**QFRLEMYFAAFDSVPLNDLVAHLKNSLKAEMNVRIMGLY*SFLVETKHQKNIAING*NSVSIYSSKKAHSLKPECIFLDIEHNEC*DP*RMLKDTKNL*QKLFQDALFFHKKKFAQKKC*KI*ILNERIYYVEKRGYIHIHIHKNYGGTKIILDYFLKKSKSIFW***NYSNYKNDKETAVINEKKGHLSPSIEGFELRFPDG*DRVFVYLTHNLNM*IYLPKRGKWNELISNF*KI*GFLPPRRKSLIVGKMEFPRRWQNPLILFDNPNSYYTPKMDFWENH*PK*LNDSVDTFE*LTVLQLVNYIYCHNLHFPKKWIYENDDYKQVHKYTP*KEVGIGSPVGEI*IVLNILDIPSFSKFDLVKGSEIHWILK*YIVRYSQNKVFYIYIRIEIKNKYE*IPRKRVKTD*WTISPRLFLLILTS*LEILYFLDQSLF*FWKKISLSIYSFFYIFLATP*HNGV*LIIRTHNKNP*SIRGKKFFHSKH*SFFNV*LDVVIIQIKNESSLLFVSL*LEQLSSIPLLIQPNVIHLFRVNNSKKNIGRIQYE*KIFRIHR*YDMLLFPFIPFWISRGLTNPTDGRDEPISS*KCVKNGVALKSRVLYH*VSNPNQITNKDVYSQSQ*KKKMQFYK**NQMLHITLNYNEKKQKKN*NQNDRPLI*DSSYLCITIVLNYYYFLHIFSYFYFTLNKKKLLVCIKQNTTNPPLRLSKKPI*HESIDPFIHDQIIFV*YTVVNISVDKIYIYRSFGSIGFIIDTNNKYCVQYSAQSF**KIGPSLMEINRIERMIITGLQSIHCWEFKFDFLPDFTSSS*FRTPFASFTDNCITLASKITSLIPSLYTCFQSYSIRYGTRCISPRVS*SSSTELEYRIISKYLGQSRHMPNVNTP*SNRDNTW*RNPILSEINTATSIFFNIIIT**INKT*SNLPFSFKFTYYSTSVNMISTRQT*GFS*YTKVHTMIFLSIDNCMHCTVDMKK*TIIPAIVRQGSICSESTC*VVMHYDRNAQFSSKYSSF*HFFTCTRSSIQIMSFDFTCFGL*FINCFGTK*ETVSPTHKWLGVHIFIIFGKIKSPAETFINCSTIILSG*TQFWFNSTSQ*GTSILVQFISLNLDSVRRTLESFNISIRDSQIFQT*STQGLEPKYITYNGGKHVSNRTFFKKV*GISYISNKLIIFSRNRLDLVAASFITIEARKSIGPHSCPCTSGRFCSYRCTCFFRRNSRLRSYSECCQDISIFGLIVRSIISQFIIFNTSFEPNLCFRFCLW*HKSPPTTHELRIIATTTRSTRHNLGVNKTFLQMIHQLILSMNPNGSLLNFTMIFDLGNTSLFYTLSYVWRNPTVFFLSLLFFFLFWNIIF*SK**KRYS*P*Q*SMLYM*ILDVKIGRIFPIKRKIGKNDMLSINPMLRK*KRRTNEIEKRNHKQSSGSNSIDNIVLSII*MTGLTLKIQSLKF*NN*IDWMVPRKSIINLHLLFNIINHLLCYRTFFFFFKKKNRYFAI*Q*LLPLLILRFLYLKTKIWGVSRK*SVRYSM*FFHQGRCLIFTTL**FKVEIRLANKLT*LVKYSNY*EIIELEL*L*VLQMV*REEWK*LTRELL*VFQSAEQP*VEFSTCLESLLIIWVL*ILAQHLLFIDLRLLLYS*IHNYPFLKQELK*SIF*LLIAVAEK*DFSVELG*VKQYSLWN*SITLPKLMEVYPYLAE*VSVLVREMIFIWK*KNPE*LMKKILRNQK*L*STVK*MNPPELV*ELV*LP*LWQNISEMSMSRTSFYLSTISSVLSKPDPKYPPYWAECLPLWVINLPWVLKWVLYKKELLLPKKGL*LLFKQFMYLQTI*PILLLPRHLHIWMQLLYYQED*LPKVSIQQ*IL*IQRQPCSNLVSSVKNIMKLRKELNKRYSVTKNFRT**LFLGWTKYPKRIA*P*QEHEKLNVSSHNLFS*QKYLPVLQGNMLV*QKQLEDFN*FFLEN*IVFLNKPFIWWVISMKLLRRLRT*LRNGEQIQEMTFNLCVLTPNRIVWDSEVKEIILSTNSGQIGVLQNHAPIATALDIGILRIRLKDRWLTMALMGGFARIGNNEITILVTDAESASDINPQEAQQTLQIAEANLNKAEGKRETIEANLSLRRAKTRVEAIVETIKRIS*QVGARKKMENYNKKMVSRKTY*IPESMVSNKFSQYLTYYWI*TNDSCRMKAIL*PLS*VGHLSS*IKKVAVYQINGF*MLYYL*TIQTQYKSKRLDDVM*YLS*QEFIYRISSNMYVSKAQGL*LS*VEHLVYTCANVFS*ESIM*LKELILIDKSMSYSRNKIREQ*PDKGFRRQMESIMDLRY**GEYLIYSMLGNESRDLKKILFSYYLMNFKVYEVSFPILYFYLSRLIESPFNLS*SRPEADLRQDNLLL*KTLVVLLDFHLNKKSEHRESFPFSLWKEKRW*TN*YFYQLMKKPNAKKNARWVFKTIQIILIRIV*SVLPRRSTVRVRIALILLPILLRFLFIISYLSLQIDF**YYIYYISTILNTKY**YYTSSINILEILFGIERMIE*Y*YTQILISILLEIM*T**NTKHFDLD*INESKNLKISIQID*ELI*IQYIFHIHRSTFMFLLYEYDIFWTFLIISILIPILAFLISGILAPIRKGPEKLSSYESGIEPMGDAWLQFQIRYYMFALVFVVFDVETVFLYPWAMSFDVLGVSVFLEAFIFVLILIVGLVYAWRKGALEWS*FLNI*TIKQNIETVMNSIEFPLLDQKTKNSVISTTLNDLSNWSRLSSLWPLLYGTSCCFIEFASLIGSRFDFDRYGLVPRSSPRQADLILTAGTVTMKMAPSLVRLYEQMPEPKYVIAMGACTITGGMFSTDSYSTVRGVDKLIPVDVYLPGCPPKPEAVIDAITKLRKKISREIDEDPISYQRENRSFTTNHKFYVGRSTHTGNSNQGLFYQPSSISEMTSDTFLKYKKVQYPATNEKVN*IASFCTKYNKK*QASQS*KISL*CK*MVNTYTNLIKNSGEVKKCKVICLLR*SNTE*FIDLWVLITKE*RLYK*SPRIGIRLLLFYMYLVTIIYVPNVPMM*HQEDY*RVSIILRE*SIV*INPKRYA*KYLPQGKIREFLLFSGFGKVQIFKKGNLMIC*ESIMIIIRV*NVF*CPKVG*DGLCVKIISPPIFMKYKMLTK**K*ESNQNFDNPRYSRNICMDIFFFL*IRQNNRGFIPILILDYDK*EN**IKKTII*GFIEIQKWDGAILISDVG*TEKVLHH*LCKMHISIN*ISG*EKEKVRLNTKKWTRFLNNVSQINFDYSHL*TPLDSTFWSFNQLI*PFEYCFN*NINIRYCSAQKIETNLNHSFSDFLLIPRIYIYSFFI*KEHISVHLHKLCRMIKTTNKYLSIPPIFEKKYGNRYSYIMSRREPDLNW*HEDFQSSALPAELSRPFLTHHPNFKKLLESMSTKSKKGHQNEGI*LAFGDRGT*TLTISKVDGFSSY*KFH*CRY*HVEWDSIFILV*LISYSKDPSDYGGVTDLSNEYSVIFSSSCN*F*CFHCDRIKIVTNRS*KSSLIN*MLSTPFVRTASIESLHLSFFDFHFLNFYLFSERRIWLRIAHFEFQGFSEFESFHLVSFHTKAQSN*VRSVYQFRHIPRFFFEIDIISH*AVFFICLYYEYYENNMLELLNLFETYTHIGWGKISFYLFFLD*FSFIDIRYP*FSRIRNDSIISVFAIQYTEIYTTYISILDVSPSILF**NLEYSNVRFFFSFEQTDTDLIITKRKLLKSIY*FIIRHLFRNSIERSNF*LLIQSNFF**SIQFFRIRMDMYKSIWIYYMYKIKDILHISS*CIIITEYK*L*SN*SLFKFKLNDNRILNIS*NRYFYFYFY*R*YSIYSLLFSISILSIFI*IE*NIRYSRTLKNI*RIYT*K*YSYIILLLIIKMIYNR*NYIK*IYLNNKDRDKYI**I*IFNNRNR*NIINNRNLKNLKYSKMGLKTKKKKENLTI*MKILVYQIIFLWIKKYWING**RVFEVTGN*NNFDSYFKMIPIFIICYILEYQINIGYSIFFCMFVFIGLCYDIVIVF*RANMK*LITRKDPSSLGKNSEK*TICVLRARLAQRLEHRICNAMVIGSIPIAGFFLYFFFFSHKG*SGIISYYFRKIIGSSFSVEQSNKITAFFYLYRNIIEFNSDTDRIFPIVLCTTLFLIQYFNSTIL*VDFTSFIIFVI*FSFNFSL*NFPFKKGVFMSRYRGPRFKKIRRLGALPGLTRKELPVGSEQSRSSKKSQYRIRLEEKQKLRFHYGLTERQLLKYVRIAGKAKGSTGEVLLQLLEMRLDNILFRLGMAATIPQARQLVNHRHVLVNGRIVDIPSYRCKPEDIITAKDDKKSRTLIQNSLESAPRKQLPTHLILPFQYKGLVKQIIDSKWVGLEINELLVVEYYSRQT*TSLK*QEF*SEYFSPFVYRSGCRKSVIPYPLDPQFSILITETN*E*RMHIKVAIMLSIIISNIEVSNIDEFGKGAEREGFEPSVNKKPT*QFQCYALNHSAISPT**LCP*TE*IVSHLYPICVGAHNQLKLKKMEKICFFF*KKKKQIYFKAYRRIK*FD*EVHFYVISYCIVQFLCLGNFFITR*KMKL*NGYL*LDLG*MEILLIRPLPL*PISYYE*FRQLLEKKRHSLITEMVRFDYFFLPTSETNKKKMEKKNLRLLKVKFGNKKND*SLLSCIPD*CSLNMLQF*VVLSERLYLYIPMGLGESYSTSTNRGHGGRSTTLGNQQQEKTL*KNPSFLLIGIGTN*NGWDNKHPSRSYFGYPYNHRRLLK*LIPGN*AALRTKKLLKLLFIQ**LTKC**KILYRKVG*RFRVKTLVPLS***EYCNLF*FHGCLSLST*RRSRMR*QSHVRFWNGDSLNRVTTVTDVGSIGRKLCGSFTELL*GYATGN*SL*SKLYTL*HRPYPHK*RRTYKSFGILFSGTRTKPFLTSSF*QYGRDLSLRATISTIERKKKRTSTNSNKY*TKKIEIGFLHRYRSKQRFL*AV*KKLHRSKNMKK*NIYA*ILFSMDKRSN**RKHRKDQLTRFLADTTRTAYLYDDRLEINLCNKVDPLRF*AAV*YQIPKIVSLFL*RKVFLKDSIEIDILYMK*YMKSR*LPFRK*E*ER*C*YRCFILQKVGEKIKLKTND*IELLIQRQV*NSCN*PLFLLLTPWKIKRIDC*AV*VRKLSSTVLREGFYSPIPTAENRPFDREILKLQNLGLIKLLNIGNKL*PLPLVIILRHKIG*RSQGVLNKNSLFIIFLFFFSILSHSFLSNSM*SERVLSRFFFLLPIYLLMNPNL*GVGQ*CSNMYLF*VPIYFLLVSMD*SRAEIWLEPLCVLNLY*MQLI*I**LFLIFLIIAN*KEIFFQFLL*LLQPLKRLSDWLLFLQLLVTENQPVSINRIC*INSINPIIINNKVEFHIVKY*SIHLSIYSTQLMIISCLDCLNHKKSKYPGPLLFPLLNLSRHLFLLTVNNIITNH*FIWYINIRFIYEFTRSIIFIFEHQQLL*I*CHIQ*RFMIHV*DVLNVSEPVPQMY*K*YLGVDVKLSK*LLPQEQRTVLVVRGVSPLVRRIS*VFEFIYGMKQLEVWV*LIDSFQTTPHEYVFYWQKLVLQIK*KIFFFYFEHGLFWPKCILFLSRIIFLG*QSLLFCQ*PQVP*FSYFLIGEIR*LGGIAFVYA*SISF*QPMHFLIISNWMIH*FN*RRIINGSIFLILTGD*E*MDSL*DPFY*QDL*LL*PL*RLSRLLENTNYSIS*C*QCIAVK*DHFLLETFYFFSSCGNWN*SPFIYFYPSGGERNVSTLLLSLFCTLQELLFFY*WEFWVSVYMALINQHLILKH*LIDRIPWH*K*YSIRHF*FLLLSNRQLYPYIHGYQIPTERHITALVCF*PAYY*NWEHMGWFELIWNWFPTLIPYFAPG**Y*VLFK*SMPLQHLLVNVI*KKE*LILRYLIWVF*L*ELVP*VILVSTGPFYKSYLMDLLALHFFSWQELVMIECIFFILTKWAEWLSQCQKYSQFLLSYQWLLLHCLA*AVLLQN**FFLE*LVVKNIFS**KY*LLL*QQLE*Y*LRFIYYQSYGRCSMDISF*IHQTLIFLILGPENYLFLFLSLYP**VLVFTPISFSHFRLTRLKLFYLIFDGLKKKHIVNTFSSFILFIMFMHIYN*FKIDHNRRIEWTTLSRRYEESK*KQ*EQ*EESEEN*TKFRIL*VLLNSRDSIFFGSLLSYFFIFVCKLYLCCY*FCIIFFSFFLTG*D**EQLESFSFRF*FPF*FQFSFQFIIF*ELKAKTFIIF*QLKSKKLRIF*EFKSKKFRRF*EESEK**KYFFILCVLFTSGNSIFFGSSLRHSSIVFS*NLNMACSCFVIFFLSLFWNYTLFLHYILVCYLAIFFVLIVSYFVSK*GHGIL*IYSYLIFFSAVRFVFSFSKVLIL*R*SIELRLVNASHLTNRNS*DSI*IYSGIRKIHLTKSCMYI*IIR*MEIKGNKILC*WKIHLTKSCMYI*MIR*MEIKGNKIFC*Y*QNAFKKIMYI*MIRSIEIKGNKILC*KTFVSG*EESEEN*TKF*ILLILLDSSDSCDPMFFGCSLS**CFVLQNHL*TPAPECFI*NIILCF*ITIII*FFMNWPFFF*FVYVCVFTFFSEFFLLTSLKIKT*SSRIRYN*YVMKILF*FFNQNRVCSWGRFLLACIQ*ELNLRLLQL*VGRFNHSAMDASREPSDFITNQISIEVKSFG*ININTLIYINKYRKKRNRKKKKK*INL*KWSILSYEEE*SRHLDFRIERNF*REQEFCLFLRFLDPIQFSDICDSHFFPSREFDKTLRLQNLEYPSFTRFNKIFHDQESSTFCSSDPYISY*QSKDDRKKKYLFDRASSDPNEFHWIHIGRLKRFQ*VGSEWVYCSAPVWSKRKKYL*ER*LLFFGGHMVRTSSAGFESY*EVRSRS*IISERRCFFCSFEAIGK*RNSQYREYNHVFTK*CLNSSYFIRSRM**DCKG*TFYSSKSYFILEPKSSFRREISRNGKSSQSLNN*AGSGVS*WILFFY*FF*M***TIRK*GIQLQG*IKKEIFIGSASGFLRSE*ICFSKDPKKMGPDLLWELFSR*SIQSQLRICNSKV*K*YYESYTYKETNDQSTFLKFEKESEEML*SSYFNLSNREICEEGSK*I*IQMVQGEQEFPGTFGPFHL*AE*PFSSSVRSITYEYRFD*LV*GYRQKRFF*VTLFVFVQASSPFVELTSFFLCEFRKYAHS*VPDPYG*IETDE*CTRESVIRINRSANSSFEKKETPIIG*LLYFSKI*IMDQ*DSKSRQLAESCEMFSWKFIDFFFL*SQSTSILE*SI*LLFRL*QKILFLWGKVL*L*FSV*TIPQCLVQWKENIFFVRREKKTCFFGQRYYFTKRVRGL*HIDSKYFSAKW**RI*VVQIFPFSNSRS*SYLLDRGHFWNTSNRGRNSEF*KNFLSTSFRY*SL*SKMEEVA*IFGFRFKHRFA*H*FA*HSIYSIL**NFTIRKEKKTSKKIL*KRADV*KLSKKELFFNFSIQIEAIVPVYNTVAPYLDRATNSTFTIYRDFLGSSCNTKEES*MEKICIYFFS**FFTWSQGNSSGNCTTEPYK*DFE*VFT*FCCRRVRRSFSHK**VTIPSEITKY*GVPVFNPFTSSYYWIFSLCTSCLCFWIL*RVTDRVRTGQIFDDSILHH*IAKTSG*VSYIRTKFFLVKVYF*SCSRTIRKFSRRKRRFAFWRKHPKG*RF*SHGSQKYYTKSHQSNRVFEKYETFKSYK*SNLFIDKEKKKDE*W*LD***NRILDLE**VDC**RTRILTSVLYLNDRKKDGSNFSESD****VIKE*LWLSND*ATGNNILKIFN*HSSKGSNEL*VQSILLSRKTGIPRSLSDNHLFRNPVWA*LFGFPISWETLFATLSPIPCWGYFSDRFTSNWTILFAQISSDNLLCSFHYSICKQGPGELS*GF*YRL**GGSF**KRGYHLQSFT*YRG*LL*SP*L*KG***RFRP*T**AIEVSKYEGSDI*RYHTGRRTRPVLFKTSIRISKSNVSLHNLDSKHS*SR*E*VG*LIAGYISELSFQRF*KRFY*Q*SCYCFYSCSKKSGPFFNSAE*IKQMH*DTKASYSTTKKALFYSFIY*GISLGKANIQY*SIGVSNSGF*CTRSCSTY*RGAIN*YYTKEIYYRH*YN*ICSS*TNLGF*ISDNRDSGSWDPCLSARKGCFTKSTSK*LLYRSYIYLYEEDIVSGGGFLFVQMVRRTWNKHEEINYTSLSFELFCRIGRSRLFVSTRT**KQ*WDHFL*TP*E*F*SSSWAIRNRRCSAGTLRDRKSVG**WSAIASSVRTKKSLKYDSKWVFFYR*S*ISL*NL*IGVRRRGRSPRHATARGGFIQFHTLGS*TVAPLGLSL*RRVQ*IEICLLGRVISGQR***FGGLAGWNHAGPDTSEIFQRTRVFSNKPIHLEPPRSTLFAIPTGSCVFTSRIFSR*RDVKDTFDFPNQEKGLEISK*KMVYEEYARTEFEILE*SGEMV*NQ*FSIK*IFSF*YSIRKLSIFIKSVPI*RNPIGSTYKDIVEQKMAFPRRDDCYYLFQ*RTIGFTE**NKIDTFFLVVSS*Y*GIFSIERSPNIDNPYCG*PSLLVLKQIKRSTGLFFLFRYS*PISTEFYFFSDRS*KEKEGWHANRRLLWNSPDPRVQYRFF*MSSAKVIECVSHQSPKSNIESTLSVGLRGLQAIDIP*SILSILYRFLLLLITPTRYQTQLCTVQIELI*YIKYKVQ*KEKCGYS*MV*FLFAKEKTRVQFPLSAVTSVLNSIFQYIFFNIKK*IPIFIKNGAETGFEPVTSRL*ALRATKLLYSAIN*MCPSTIWVQIE*TIYTEWSRDRTMIADYPSKRIKK*REFFILTNSILLHRATNIGEPFLELRVEIIQSVDNYPVVFRSQNNVDEDV*VHYYAVVLLTFPEFPSSHLTTELCSFLLLDIVESNKIFLPIFSSSSPWQSNFSLP**FISYYYP*FFPILIPRNQTFLCHDD*FPITINARSRILDVEIEEFFIQRD*IFADTITNQINQIYLM*RQSRKLHK*IYNLPKSGLIQPILLGQSKEPQVYLSIESNSPKVCVHEPMLKFQSIPANIRAMRLRT*IQ*PKQDVQIRTSTPRLINYSYQRGYTH**VVKNLTIDNLLTIPSNRLKIH*IVKHYPAIM*CASNANKK*PIQWYLTSRKLPNKMRPKQKYHKYHLVPDHRKENYNQNPFYPALTWNHVHLKHLLLRSM*LYVNQEQ*HDEPRSLQALLLRIENYYSH**HLTNPATICFAPHSAPDYSLKIKVHRNHMKFYHEQIVSIGQI*VRSRFVSLECQKQA*HHYGHKVPKYGTPEIGWPNLNGI**LLCALTFLPIHYPRSVRDCNLE*KR*LHEQKPLS**ILQCIDDEYITQLE**SLVL*THKQVTNTCVELPKK**PLTRLEQGLIENELNY*LCHKDPYVHAPIYPPEEYVLLKYILYCAQYRN*FYTYDHQ*EKELQ*LNDDGPYR*AINFAFEDGIPREVLEWQFPRLAKY*INDY*NRGFEHKDSTDL*KVALILEGEAIHLRNYSIEHILLWILE*PHGLNALPKLRN*LQIVLTNDD*GGIRHF*TRKRSVSISVVGVTSPLIRI*KKEIIEK*LQYKDPH*YVNQLYTTTDKHRNRQYSLGQEHPLE*KLLQPVDQNGDPKLHEQ*VLHVKDPVPMPQNFLAKLHGRDSRKSTEKLLLIVRNEKQKYSDKDVPQ*YHHDSRSHVR*QYQTKYDE*WGPELSLG*TLEILMP*CFSNPPSHYPTAIILAKKNAHVVAIPPRR*CVTPTARPCTMLKALG*VAGATFNLL*AQTMDSISSCQ*PRPLNRNIKLKAHTKWAPKKKRPYADNEEP*D*ITWDACAHKKSRSHPLMVIELCAKFPPVI*VTTP*SFILPQTSDCIFQLKWNITTEIALYIQNNPRKT*SQADTWHVPPLPGPSQGNRKPRFALSGINRELRANRTPFRSINTVT*IVNA*I*CTKKSAVPNGIGNKATLPPTDTKSPPPQVKLVLVVAPGAVVPGAKAWVFCIH*AKTGCNCIAVSENIS*GRPKALMVSL*IYNPKL*KPKNIHTQLRCDMIASRCLRTRSNRSLYRVVGS*SLTIKMAACAAAPTMRKPPIHM*CVNNDSCVP*SVARYG*GGIAYIW*ATIMVKEPNIARLIDN*ACHDVVRISYRPL*PWPVNGPLWASKISFIP*PIPQLVLYI*PAMRKRIAIAK**CAISVSHRPPVSGSNPPRKVRKSAYFDQFKVKNGVAPSAKLG*S*AKRSRFKINS*GSGISLGSTPAFRNWLIGKDTCT*CPAQERDPSPSRPAKW*FNMDSTS*NQTNFGAAL***NQPAKSIKAAKTNAPIAVQ*SCNSLVIPDARQI*KKPEVICIPRKPPPTSPFNISWPTIGQTTWALGRM*VGSFSHAS*LEKRAPWKYMPLSQRKIMESWPK*ALNTFREISSKSLVWLSKS*ASACRFQIQVVVSGPLAIVLEK*PGFAHCSKDVFMGSLSTKILTSGSAKIWTFGSGERIIIESSSFRTTHTKRPANIKHN**TYEKCLY*ISFSHLSILYFLELFTRTIRIRK*IRGKCSDLL*HSS*ALNGPFYLTDGDNKLSKIQYSIYIMDSLYILFSIRE*NIDNNIRIRIKKKKRKLRIN*NVNRMNWFLII*FMKEIRIFLEFNSIGNIEIYFFGGCRRSFLLCSLIILFKTKIQTKTRNTNPFFIFFFNHCIDKK*EVMFH*N*SL*LTVFT*IISKKAVGTRMKSAVAINARIFTSIISMFSFSLISNKYFGI*SHRNEKSFVTKFNGINRISMISK*ENDFMMQSKSAFSFFVRTFPLNKLKKKEKRGYPLEMIFYFYLYSLSYTKSIDILFF*LDLYPSGLTGLEPAASALTGRCSDQLNYNPREKVV*YTYIFLQLHPNSLFFYLRFEPL*KRLTSIYIPILMGLHFIDTDDSHRNPFVIANFI*K*MNQEMNQGNKTKKTLFCFLTLTLSLDFKLTDPDRNFGKSEFVEKICK*YGKKT*DSRF*SSVSEPIGDFKRTPNGFYHFMVDPEIFLGRAGFEPA*TYCQRIYSPSPLTARASTQEESNLVFIDNP*SISFRSTLPPGEVESPLPP*KRDVLNR*TMGASFPDLHSTMFIV*TVF*NCQYNDSIRRIFSSFRIPYNFLINPFDFEIVHSNHQSIIQQNTK*NEVMRNKPK*T*NPFWK*LICWNRGALTPYFFHFHSVLRRLN*VYFYFTLSREIKKRE*IWKLSKKG*RSIRIQLRDRIESIYQRFRNI*IRGTCINEINFVL**R*LQFESVLKN*IPVIFIKSNMNKFFFHYTRQSNFLFINELVQKIDLCTYI*I*FIYIFRIYIISICSNK*MY*THIHIGLFCIRELTQTAPF*LSGRVTPW*GVSRRFKSDKGLFFIKK**Q*YSYLKEHIQIFLIFVRSFCL**NKKNEGIVEFH*KIEFRIETLLSYCYHSNRVNSF*LEREMAFFSIYIISFFRM*YFLELSDTPIFDYSNQIKGEILKKVSGPNLLNHNYIHYSDIQIG*K*NSNSGSFFLFNTFLVLTLQESVDISDKILLFLGINCYSSPPVEGLF*VPTDKSFDFKISFFRIQEKIQIDFYYFLKICL*K*SKNPSNHDFEYPNLVFISMHTRHTRF*RQLMDETCT*RKIFQFLTSIRTKGYTSEFD*SE*NKNRTKKTIKEINVK*KVKYRIL**FSRHTNSNHTNSNNIENDFF*FHEQDSRIILFDKSRVVCLGIC**RE**KRSIICLWNSSLKNLFIGFMSHKTLFES*LREFF*NRKE*AN*VNGFDLD*ISIDKKIIFLFETQSKTRESLREIISYIK*KKPRRFHP*KC*EVFGNGLK*LNRRITMTIALGKFTKDQNDLFDIMDDWLRRDRFVFVGWSGLLLFPCAYFAVGGWFTGTTFVTSWYTHGLASSYLEGCNFLTAAVSTPANSLAHSLLLLWGPEAQGDLTRWCQLGGLWTFVALHGAFGLIGFMLRQFELARSVQLRPYNAIAFSGPIAVFVSVFLIYPLGQSGWFFAPSFGVAAIFRFILFFQGFHNWTLNPFHMMGVAGVLGAALLCAIHGATVENTLFEDGDGANTFRAFNPTQAEETYSMVTANRFWSQIFGVAFSNKRWLHFFMLFVPVTGLWMSALGVVGLALNLRAYDFVSQEIRAAEDPEFETFYTKNILLNEGIRAWMATQDQPHENLIFPEEVLPRGNAL*WNFSFNWS*PRNYWFCLVGRECPTYQFIR*TTGGPCSPCRINSILGRSNEPI*SCSFRTREAHV*TRLNFTSPSSNSRLGGRSWRGSYRHLSILCVWSTSLNFLCSIGLWRYLSCTSGT*DS*RIFSILWLCMER*K*NDYYFRYSLNFVRYRVFSSSI*GFLFWRYI*YLGSRRGRCKKNYQLHP*SKHSIWLFTKIPFWGRRLDC*CGRFGRYNWGTCMVGFHLYTWWNLAYLNQTLCMGSACTSMVWRSLLIL*FRCFSRFWFYSLLLCLV**YCLS**VLWSHWTGSFSSSSIYFSS*RPTSWS*CRLRSRAYRFR*ISNAFSDRRSHFWRRNYAFLGSACSLVRTSKRS*WFGLE*TEKRYTALARTSFRGIYDSCSFRFFKFRGWRSYRD*CSQLCLS*KLVSYFSFCSRILPIRRSFMARGKSSRSCRRI*KRN**RF*ACSFHDSS*LRHEIQCLT*ESL*F*YTYWVESRRSY*KKGFVFQFIYI*SFFGLG*VVI*PSPKKRSQPKSIKKIHSPRKRREGDSNPR*FFVSNYTGFQDRSYQPLSHLSKR*FLFYLYSTQENMTIQINTLFSMIKISLYDKDIQCESIGLVLYPYILYMHDPALL*NKKNYPSIHASIRSVI*NQWIHDKTLHKENVFFISFWKGSIRGWGIKWYSSFVGKLEDSKHDYCVSISCFCINCYFIHFIN*CTCCICFS*WLVK*QKCCLFWYIIMDWISISSGYSEFSHLLKLFILDQKTK*PLPPNSFGLCVRHMKMEYIRPHK*RKLKHY*WEGSNSFYWKKLISYT*YDI*IYSKTKNLNIKIFIFFSEFHIIF*I*NNNLYLLYI*YISIY**EFLIETNINRKSSISNRKI*ISKWTLHSFH*IDKITKTS*SAGELIPIQ**ISILCLEEDSNLHAV*HEILSLACLPFHHQGINHIL*I*YLSYGIYYKYIV*DIIRYLII**YRWDRICRCSPVAQW*SGRLLTDWS*VQILFGEILFISN*RIWNQKEV*SLFLLHSISSYTILLYWGLPVNTYV*IIDIPLFYSLGLFYYLYYI*I*YL*EIKNVRLFCFNLNHSLFSYPQGPSPFSRLWARRDSNPRHRGS*PRALIL*ATGPTLSPLDLFPGVPYKKHLLFPAIF*LRRCESDSLLIRIQIE*GLCVPRCEVG*I**LGFRIRRPFHSDFLLLLKKRIRMKSVKLFIILAPSYFSAGPPLQYRHRSRV*PPSSGWIGVVPLRQGHQNIEP*TKERHEIKIYLLFIVSVRS*FLTGEDTKGLRPSIPIY*RGGDRGFGFFMLSKR*TIKIDGECLIELTRSCRNKVQVYRSVRMPQLHTLLYFHLTPIVNEKRLVSP*PSILKTSFAPSP*GQRICPPGRLWGSWNRRALILGWAYYLDAFSSYPLRTWLPSVYRWHDNWHTRGASFPVLSY*GKVLSML*RPHRIWTELSHDVLNPAHVPL*WANSPTLGTYYSSRWRRADIEVPNLPVDVSSWGRSACYP*SNFYPLSDGPSTRHRRITKADFRPCSTGGSCSQAPFCLCTRGPISVWPEETFARLRYLLGGLRPIETVYLRLSLGLSWHKVRILALPEWYLTDGSSPPGRGPSLPST*AAQEKPKANPREQ*SFIGSFCPGAGSPHLHRHVYFTESLSETVPRSLRLSCGSELTRQGISLP*DRYSYGRRSPGLRSPASLSSGHQLP*PSGTGQASAPIHGLTTLRRPVFLVNSRPGLVTATPFVRRHPFSRSYGAILPSSLERVVSRP*VFSTYPPVSVSGTGTLLL*VVRTFPGSMASITLAPECAPRTRTRILARGIFSTPYLP*KNRESPYVLEPITIFRLT*PPPSLGTNKGQYRNINLLSIDYAFRPDLRS*LTLRGRTLRRNP*VFGALDSHQCFRYSSRHSRFRFVQPCSRGYFFLRRNAPLPIHFYIPQLRQIA*PRSSSAQERSISELLRTL*RVAASRQTSWLSLHSYLLYH*AII*GP*LVIWAVSLSTMKLIPHRLTGRP*PVGVISSIQSLPRFGTALAARAETVLYP*MSSQLLRLNAFRGEPASSGFDWHFTANHNSSADFSTSVGSDLHLVSPKLHPGHG*ITQVRVHKQ*Q*PYEDSLSLRLRWFPLTKPLPMSRRLILQQARGQSPSSSHCLGAYGFMFYFTPRQGFFSPFPHGTTSLSVTQEYLALQGGPC*FTRDFTCPMLLGSEHKLVMLSATGLSPSRVQHSTASPSSTTLVLLSHNPVFTV*AAPISLAATTGIAFAFFSSGY*DVSVRQVVSCLLVNSAAVRKVDLFGNPRIYAYFQLPEAFRRLLRPSSSLGA*VSTISLSSFEPRPSTLCHPKVLLDGRILSTSINNKS*HS*NKKMNELEISGLEPLTSATG*ITASQAPTDSTIEANDRQ*PSEHSLQLSSYCALQRATLLKISKGAELESHSNKDSCGCGRSSYRRTENEKLLPPFIRPTLCS*ECRFEVKNE*LHFSDP*LFNLRYGELRRFQVEQGSMVGPRPLDAKGVLGVIS*FLRGGDDGVGPWIFFPFVFPHFAQRVEGR*CIKLFARASLILFPRISDEETLGEPPTLTTVHV*SILDLTNFPSYLLYGQPIFVSVESFSGMFRSSFPLLRKSEPPVQVQDTIITAWTIRHPTRNRNDPIARAELYQLSYIPPSQVGACMKESNPSFSLFLGAAGPSWT*TRDLAREVNHRTYGPSNWERINRFLFGSDSSFPNAAYNYPLYCALQVCLFPLLSYHDKSLWNNSDEKKKENVKGHSKILFQTCSHFESREWYDPAVTSE*KG*SRSSWSVKIRC*VLRFSFSIEAKPKPVLER*LSIY**GMYEFSRGEEP*WSPLDRPDPTSE*KVGSTLDLT*IAPSIFLRRSLVSNPGSNRRSTPC*CALDGPHLRVRR**TH*TIYVADSPHSPGTTTQLSGARSTTELIARCVGPPKGPTMSKVRETPSLSFPFVCLMSPHGATWVKKEELLSSCSDLG**AHEISVTDILITHRKRKETSTY*LCLDNPFASAV*NSVKPNHPKSVLCSP*IG**ASS*ARCDFTVEKRNITEIYLLVRCSFSLL*RGVSDAV*NLITQKALVLPEKEVIQSHLPVRLPCYDFTPVTSPAFGIPLLAVKVMTSGMASSHSVTGGVYKARERIHRRMADRRLLAIPASCRRVAAYNPN*GQVFEVSSPSRGRDPLSGPL*HVCSPGHKGHDDLTSSSPSSGLSPAVCSEFQTKRWQLNTRVALVAGLNPTPHGTS*RQPCTTCVAFPKALLSFKRIRACQALVRFFALHRIKPHAPPLVRAPVNSFEFHSCERTPQAGYLTR*LQRCTGRYAQPLSIHRLRLGLLGSLIPFAPLAFVSQCQCRPSRVLSPLVFLPISTHFIAPPEIPSAPTVL*LSSFHHLSRVEPWYLTANLKSHLQTLYAQSFRITLASSVLPRLLAQS*PMLIPRIPSFFLLREKKFMTQGPLPPRGIAPSGFRPLRKIPHCCLP*ESGPCLSPSVADHPLGPATDHRLGKLLPHQLANQTRAPPWADSSFRSSAYGVLAAVSSCCPPPKGRFLRVTHPFATGNTTSRPTCMCKACRQRSS*ARIKLSMSFLVALLIASLFLDKADSEFDFIY*T*I*FQLLN*EDIT*LVSMGLLFARSCLP*ILYGLTPPCVNSLSSYLLRLDLVLKMEKLILGLGIIRFELMTSTTSR*HSTAELYPFPCP*SRKKTD*S*VKRSRNSTRLFFFLT*TGLRGTLLAEWAKLDLIVNCSDRK*D*LWICAISYDFIKP*DFPDLNKEDLAQCSIQYG*EPDSVFLKIEINQNEGKIKWMNPFFLVTKIFSFTK*LELHLCFHFSPRP*KRYKFFLGTHIRFIITKQKTEG*SDH*HRILNLLSSCLAGNYFSEKDDLFGWT*EPNHIALPKPMLYIGKTLIYLLL*CYNPLVAFLLGPQRQNVGSSSRKKGLAEPRSLTNINI***NSIQ*NCLFHIFSLVPLLLHALHNSSSYHK*IDIFLT*VIERISKTHQSTKAGIFHKIDSYSKSA*PHG*AHTNPSI*DPIPYFLWEILARNWNGIILIHTEKKVFY*Y*FKQYTYNIGRKRKNQQFHIVLLIKKSIFFIPYLTFR*IRKWVRSYRMKRRNNGKKEKK*VKRIIFSFENKKKCSIQT*KRD*LN*FS*FWVWGKKWRLSNEDKGSNYVERIERGAVCGENLMYGSVEWQ*GLLICQLFHY*P*KTKLCVT*SCQSTLNLWI*NHCLYTWYWP*FTRTFCSLSKRGKG*GFTWCEISHCSRNPGCCRSKGSSTRAFKIWSQKAKINYFSPHKL*KNGLLRSCHDEVLQKKKK*QNPIQFIVIE*LTCWLTVL*NTEKNHWLI*LSIEL*KGFNKRQKQIHYPFYVKQYVG*LPI*Q*KQDA*ADRLIKFPLK*NRHKEKNLPFVGY*RHPENVLVEIWLSN*VPN*WMLPKGVVMPYAKRKRLIEWRRQIELLHIFVNP*TGSMELLIHDLTCTE*KYHSRVYENFYESLSFAYFRWKFSFSGIDPNFGPNSSSDDRFNFGSKRDILVLFYLFNKFRNEHNGAVVPMERRTHD*FFGKFPNKQFQRNLSISYFTIFNSMYSSIRRVH*MYRNGYNRVSIIHINRYSRRNGFMQR*RFNNDLCSSRMFQFMLLSTIWIYQERCTV**GYYEIFTHEWRKLFYSGSWFLLAIWFIRGRDRASRNSEWSYQYTNV*LSGNFNCAYIHHCRNWVQAFPSPFSSMDS*RI*RSVVRSRNSDRPLYLFLRCLDFSKLYGHAEEICYSHLDQDITLLVKITIKVKQSQEQRIPL*MINRFFLQVGY*G**FLQRIRLMTYTILELSM*ILHSWFSSFRDYEYNRSIRQQKDHPKMIISWLLRTN*IRWFHFSIFST*VPSVGASHKD*EKYVIHNH**RIPRKVQDY*SFPNRMDSVLYIREEGNTKRRNNLLLSFIT*EPCEMKVSCTVLNERKK*GILFSTLTLPLQSLLFFLLLRK*LLQLQPLEFWIFLFISHQTNGIFFWKS*LFLA*Y*GISLLLPKQA*NVCLPIRP*VKLDMSLLE*LLETQMVDMQA**LICCSISP*I*ELLLALCYLVYVPELITFEIMQDYTRKILFWLSL*PYVSYP*EVFLH*LVFSENFLYSGVDGKQADISWFQ*DFLQALFLSTII*K**SY**LDETKK*LLTCEIIEDFL*DQTIPSN*V*LYV**HLLY*EYP*TPLLKLLRIPFFSFSLYN*FLR*PLILLTQMKELVDLFHPKWEWAKVMNL*SII**SNRFHDYKFIPFRIN*ELGVCFLHIDHYL*PYINIE**KLAKNQMIYYNRL**DNRIIG**ERIIQTSYRFLPGIITTSYQRKKKKN*IKMFSI*FASILYEILLEVSAFKY*IQPL*SDSIMDF*LQSP*DRLMSCLFEPGLWKKKGPRRK*QQQLGLLRDA**SSYPSIIRLCIWH*IDLIRYHSY*YLIFSFIFYTTMTIISIGRLGYPTCLLDTRIRFWWILDTRIQTQYVI*GFTKYSSIIFCFNCFIPLLFQVQSY*E**TFICFDPTINCSS**VVLLGG*LVTSF**NVLDWY*SG*SKKIRSNLR*L*DLINTLSYNCEIIRRKCLELLHFSSLHSI*ATHRPRIIMVPKWETTTKTGRRKSKLQ*IRTKLTKKILLFIFLRMRKKRRLPTT*ILTKIKNWPRWKNLL*RLFSIIIDGVGLCDI*KIISLTGLKKMKIHNFSFKHAKVMEKNEYLSRIHLIYLLFRNSWKKKWISSEAIAIKPPIIIMNCLIIGARLIKKN*IN*AMNYFKRQKL*IGKIRRKLILRMYLTFEGDCRMISRNENTYLKYMILS*MEAFVQKSKTTFHFDPLLQMKLTQQTPFW*IRFMVSLFLIIVILQNLTRK*INLIENYY*LKLGFLLS*SVNFRKNQYQVWILTHFTYFQNMNKEKFIPKKKKKKETFFSTQFRLLIPTIQFSLQVYRVK*TK*VKKFLDGNTN*STTSR*G*ILPYTQRILRFVADCRASKLFSVVRHCSLRRMRLTIGIFRGSIHQ*TQVRTFVSRIFYGKWISTERLSEDPCTVKGVK*PF*NSFKQMSIPQFLSTTTRLVVFSMISSNM*KNISGNQVLIIRNFCSFRKCKKRDGKRTRKTRLKTDLKKSKRPGRAFYMV**SEIL*YYSNQYLENIFYYLH**SLKI*FVSYYFKIRNGQKILGIGEKKSMLNAPIKAFQQVATHCQSTGSGAVFR*GSYTLLF*NLGTINLRYDLLKKKKDTLQKAYLKQPPLKKTSCF*QVMEH*SKRTLMSMSQTHLHFWVLFSIK*QNN*KKI*KSLFENWIIKKKEKTGLQSWEKN*NK*KTN*VKSKKIHQLIQ*LRNRPI*FNLLIQ*LRNRPI*FNLLIGQIQKKG*KILMLKQRRS*NK*KK*QKKKTRGL*LMLKD*N*KKIVSKFYKEETFD*SVNPIVFFKFSWKGYTYISLLLTM*KVSLLRALYNVILIIFNLFVIYLN*QIKL*RNPVTIKKKMNKKFIK*IKV*FPLCRL*RNLGI*IQRILVMYLLCHKPMYCLNYLKAKLVMDIS*DLFLNLMEDLFL*TMK*RSIY*EYKEED*IQN*EIRTVPIL**INGQIG*RFIINMLYLRGHGRD*YHKSGGIESMNSGWLKIRI*MNMVHLKKPY*FFPKKNKWTS*N*KTEQKST**K*KKK*KNNMDMIFSPINI*IMWIRKNPIFMDINHSLITHLKISKNYLI*WVIALSKII*EKMV*IWKKIWIESIFIGWEKEKRIP*RIRKY*PQDLVFFQK*VHIRRILGSYH*ISFLCRFIQTVTLLIKRS*S*KRKNTRLQKI*IYISQSIIRSVPLVPIVAVVVLR*LQKGRLYLKNVII**TNIWVIMGTVGVASKRICFSILTYKVTCLS*KS*KNSLLWL*KRGI*I*KIWCVSPTRTFVMETLGT*QNCRTT*CFLLNPIVFL*KIMNKSLYIKS*A*H*STSEKFRKETQKIVVLRIMISLFPKIFYPLDAVEN*EF*FL*TLGIERLWIETQ*RRKK*IILLKF*LKIRILIAIQKN*RI*NSFFGQIIDSKI*LV*TAIGLIRIMEAVSVY*EYICILD*KFD*KSRFWFYLSLS*YFL*HIHLISDM*TFIYIYK*IFXXXXXXXXIYINIIYIYFLNKINAHTHCGIDTNSMMSPLDRIDRKKSIEKFKKKKCHYYY*SIKISTKKEGGKLLFYDKKFCYFKKRRRKPGIR*ISSIQLH**DTKTYFTF*ITPKRLFISKRFTSNSGKTATTIVVFVKEKQNTL*KYNKSVGYSGFTN*VISRIIFNYSIY*ILNFDELFFERFMEE*IEEKPMNIPATRKDLMIVNMGPQHPSMHGVLRLIVTLDGEDVIDCEPILGYLHRGMEKIAENRTIIQYLPYVTRWDYLATMFTEAITVNGPEQLGNIQVPKRASYIRVIMLELSRIASHLLWLGPFMADIGAQTPFFYIFRERELIYDLFEAATGMRMMHNFFRIGGVAADLPYGWIDKCFDFCNYFLTRVIEYQKLITRNPIFLERVEGVGVVGREEVINWGLSGPMLRASGIQWDLREVDNYECYEEFDWEVQWQKEGDSLARYLVRIGEMVESIKIIQQALEGIPGGPYENFEIRCFDREKEPEWNDFEYRFIGKKSSPTFDLPKQELYVRIEAPKGELGIFLIGDQNGFPWRWKIRPPGFINLQILPQLVKRMKLADIMTILGSIDIIMGEVDR*NDN*YNESPRYKLLFRIGIFQRGLWNSMDTCTNFDSCLGNHTKCTSNCMVRKRNICRGTTAYWT*ICWSFWNSSSSSRRNKTTIQRESYSI*GRYSFIQYRTIPISHIHSNKLFSNSLWL*LCFI*FQYRCFFMDCYFEYCSHWTSYVRIWLK**IFLFGWSTSCCSID*L*NTINSMCLINISTCDSLKPKKLFDAITMLLSL*YYISI*YYIGKEANKLNRNLHYPYFLFHNSD*RTKLDSYMSEIKQLRFNLISEYSITSS**IV**FE*KGSKNMESHFLCIRMK*NDKQKRPFNPRLDNLSSCFEAVSKDQPY*VLVTIFMNSHRYIKIRGINKKEWMVRNTKIHKGLVTQIL*IIQKKIYAEYKKNTNWGFKLVEKRKQYSPQLRSRVCFHPLTK*ITIRNGKIL*NFCKSLFHSTKKKNRKKNNKKSKRKNRFLFRF*FLISIFMEIKFKN*ETNV*LFFVIQNHEDY*EL*KSILLKNSVITQQSFIFFFLRDEINSEVP*LDLLLK*ISLSYFVICRTDRIELV*FRTVR*IFIFYILGIYQEINNRPGP*IYLRLSRSRMR*KSHVRFCNRDGNSNVITD*DYLTV*VQLI*LMRNQNMVFGVGICGVNLWVSSFF*FLR*QNVKDYLLIYQKQKKN**LVIKQNIQVFDLVYFTLLPI*TF*FLHYL*QFFTWAVQIFLFRTYLFLNFLK*IKHTEFLELQVISLLH*LKAIFSYSFLS*QDGLCLG*EWINY*ILDGNFFYRFL*VIYY*QLRLNCFRCKTKMDLLYSLLVSNKRKKSNKTILFIDIYDMFLMVTGFMNYGQQTLRAARYIGQSFMIILSHANRLPVTIQYPYEKLITSERFRGRIHFEFDKCIACEVCVRVCPIDLPVVDWKMETDIRKKRLLNYSIDFGICIFCGNCIEYCPTNCLSMTEEYELSTYDRHELNYNQIALGRLPMSIIDDYTIRTIQIKKDNFL*LNTILKKKEYSIYKSIIYRIYK*NNRNKIFSKIV*KMNNIVDIRLEIFYNY*RTIFLNRIYQYILSKLKILLNFNKIFNVIYVLSTFIL*F*YRFKLLFRIKKRVE*H*LYNPNYINLNYLGFSMQRKIEVYKNFFLVISIRS*NLYFFVFFFFTYNGSA*NDARFSFSLSGIGSSIRKFRSSITYQPHFFCFFVGTGSGLYIFIIYFSKLSFCSCITATYLRGSY*HFNHICCDVHE*FRILPRFESLDRRGWNDFDSLYKYFCFTNNYYFRYIMVRNYLDYKTKSDY*ARFDKY*STNWNSFINRFFSSI*TNFNNSFSFFDRCNCRSSPVRNLYRTSNRNQDSVRS**SMERTLILL*S*TWRNFRFSTSKQTTSKKRNFIL*YLIWSLIVKFRCCVPRRIAILIASTRKRPLVLH*RS*HKNSISVNFYLLI*SFMESIPL*LYKNMWSSACLEAQENVLLLILLPVFDTGLFIALLYPPYSLRVGYLSARV*LTMYLEAPVQTSILQKPDKEFL**LAVLILWNNSMNLVDLFRRLQ*P*IGPIPFLQYDGWLFTD*RYPPFLFWDQYQQCSSSNDKPNPNYRTMTQSNPNEQNVELNRTSLYWGLLLIFVLAVLFSNYFFN*LIN**KKRE*YIYIRNSLILFGRISFHNYV*LFRSLV*LTT*SNVEESGINGQYYWKNSSLDNRYCSWYCCDRFNWYFLLWFIFRIGIIPVIIA*ISFSK*KHKNSTGIHSFFDEFEWVPLSSS*SEYFCKSVNR*LYSMFQKIPDPVFRI*MKTESY*KYISNIDS*FNCFFFFEVN*ETCIW*IQFPLFFVCPFLHYVSIST*TIRNRTLGKDNLSILESCFPLFYFYFT*YSVPTYFLGLVSS*FYYNRNSKISILEHENLKTAT*SYGSN*FYSLLHNIHTITD*LYGTRNSLNIV*KN*KEPMVFTEFINKNGVLFTSLIC**IHIPKNSFRTIEPSQIVSF*EPKRFVPK**MPRRARDLGHVMDLEALFLHPPDQIHPH*DYSLMVDQV**IHPLKQEVLVLAV*YQSLHVHLMHLLSLFHIHLFLFVLFCLLHLLL*H*KHYYYSCFRRDKSDPFPCSRLRIEDILRSKHLS**QDPEKE*ER*FHYIFSQERGL*QEYFFLWDDSFEKTNYLSFL*SGAKDDEEGPIQNPLVK*EQLLHSKPPFSH*QELVSLAYHKEFEQLLQIQYREVPLVEPQYLRAY*LNGN*HIQSGR*LLEDFHNLVGQKWDMHLKWVLELLYRS*AIRK*IE*SLSLSKKKHF*FAWYNP*S*KFLQ*D*VGYSVPYP*FCYLLVFFLYYRKNTSKTNK*NLECLAFI*KKTNFRIGSVGRFFSHSWNGIES*INTSDGDTRFK*RKIQYLKIVSKMAGKIETRKDII*SFGINPKSLYTDPIISSQPPVEWYPTQNSIKKRIEKALIVSLKLYRNS*TQELRIMSS*LPLIE*TLRIRKHIIFVQKCKIVWI*SWLFVWINWMVSL*ISIRRFCKRVSGYSFSISSKRNSSSNSRNFFKILFS*IVFKKISDSFVLYQ*VIQDSRLFLNVKEMHQGKKTIDVRHRRGMNAFFFAIFRPQFHLIFQLYI***SISSITSKYK**SSLAYNISIFHFFI*IDIL*TILAFLFVLRWNIFYSSTQ*SGQLHTFFRRLRGGLALTELKGMVPFSLSLVFIERTRTSLLSGLVFCMRH*LAFIGTLGIIQRSLPEKPERQLNLIRYNVRKIFTIAYKSSLTLSSRGTLDNFI*M*AKNFLPNECKNLKEPHKIVKLFWDPATKAIHESSKRYAGRPSAQQINFLAKTSDKTVTIIPSTVPSYKNWTTIYIIYYSNPSNILSYLFHIFS*FFLWKIKVFSQHEEIKKPLQLPEIVGLLKEQKGMVSLS*NGIPQFHIFFIPIIFYSYLITLLLCVLILFLYHSHSLLSTRIGSRHQI*KT*IKCLH*FSFSVQF*VKGTKPWN*NNSVKNSFKR*RGTTASNKPLSNKRSADWEPSGTSLFNNCSITLLPANAMVALGSAIMISPNIPKLAVTPPVVGDVSIAT*NNF*LI**LYKAEEILAICIKLKLPSCIRAPPDAHTIIRGKSRLVAYSINRVIFSPTTHPILPAINSESITASAKGIPFS*PVPV*TASGNPVFS**ESRRSI*DWSFSSSESTRFFAVCKYKSS*FIISSNNGWISSR*SVPV*TVSGNPVFS**ESRRSI*DWSFSSSESTRSFEDSSSESNSMGSGESMSSSRRSFEDSSSEPNSLIESNLMGSTETMSSSIGFQVSRSIERSILSELLIFKCSPQCSQIFILGRKNCLKFSP*QVSH*THKRANFSIQLGSL*SIGTKVLFSLFLGYISLYLSHISFILVSYISSGSYIPYISFVSFVSFISNIKNGSYISFVSFVSDISNGSYIAFVSFVSFVSFVSDISFVSDISFVSFVSFVLLIKIIIVLWTLSQMSLLKSISSQI*ERR*LSMQRLMLLVHLYLVILVSLVS*A*YMSYILLLLSLIEKIL*DSKLSMLLTSAKESA*L*LEFSLLFFQLSMLLSISVKLDGYSFIIYHLIYTVIFNRTKTLY*FT*TTPVF*TPIKDH*IEPLSLHRSFFFSSIYMKI**MNENIIDE*NSIIIVRFSISIFSKYTN*K*VKKLIGSTVFMDKLYLLTFS*YVG*ATLDEQYIP*KRIRSLFMPS*RKPVISSPGDGRIRTYY*RDPIARPPLYKKPFYAFMKKTGDIINRFPLGRKDSNLRITGSKPGALPLGHAPFSILYIIYCNINRK*NKPLFFVLYFYISL*I*KYNTKKVDNNKLYIYNKSYHIYNNIYNKKIIKKIKIQFIFLKNNIFVMLNIFSLVCICINSALYSSSFFLGKLPEAYAFLNPIVDFMPVIPLLFFLLAFVWQAAVSFR*DI*FE*CPKKSQNLLENSNLNIFKDQISLTV*IRDYKSCNFWIDNKNMDHLIISFFSIKK*KFYYSI*VYHQYVDLDCRYEIQFLVMVKKAQLLLQTNFLSFFEITSFLIN*VSKET*YEIEENLFSFSVVFFNYLGDFVMLTLKLFVYTIVIFFVSLFIFGFLSNDPGRNPGREE*ENLFSFPYLSWILKYFSFFYLFFKNN*LKMKETGNNNKKKKEIP*VQKKKMPNHQ*TEREGFEPSVQKCVQRISNPTL*STQPSLPNSKNGMIMLMIPRINKKNKK*GSKKAFYISYLILIFI*YILSIFFFFLFDYNFISLLFIILY*LINIDSNIYSFYIY*IDNLNL*F*IFFFSLFFYPTRVQLGTGTALFSHESWITMIYFSVSDLKLVINSNI*I*SNKNKNHFVIVYPTNESGNVSKKRNRTMDSCLHNVFLCYEFSLVILSRSICQNTFNKIQK*DLPPFLNFIRGPFTKHGNTLFLIKLCTYFIIMTDSLVGQKIVLYTIMVL*RV*FSGKSAIRSIDPE*LRGPLRDSYHDQKLYFLLKGI*SFIPLNEQFEE*YTLS*FVYNLELILKL*NISFCNWIKNPYF*I*VKDPGRKISKICFQS*LNLPIFVFVLYRRE*SKIAIKRFF*FTRNINIFF*LDGNFILFLKILSNRNRERSN*KKRDCSNPRFL*GSSKKQH*LYSYRKADIDVMGDFL*CIPSISKIIL*RS*MKQKFHVRF*IRDVHS*TSTITLSLPS**CGFDSRYPLIFDFSIYILFFSKFLYLVMNIQFELFSLILVRIIIISIFG*IEYFIEFFFFFPLKFS*KGKEKKKSVHCLMDRTEVF*TFGIGSNPIGRKFITY*IYCIYIT*IRIFLKLYCKFLILIILI*ILNIETD*LSKL*RYEIWNPFFFYLFLKSKEFHLFLNSFLQNGFCFPSECLGRRYDFVEFRFLRF*ISP*LNDKFPYLCNFY*IKITIRSSINSYYLFFHSKRS*LGLFKQLAQSLTSCQLILRSFIEIGRELCKSF*FCELC*FQF*FTSYLFHGFYLSRRSNSGNGNTHINCGSDPSIE*IGR*EYLTICNGNDISRNIS*NISGLGLNYW*SSHTSFT*LRT*FSGSFQKTRM*IKNISGISFATWWSS**KRHLAISLCVFGGIIINN*SVTFTVHKIFSQSCSCIRREVL*CSWGICCFSHYNSVFHCSSFL*SSYYLSHRRCFLTNSYINTYYILSLLIENRICSYCCFTCLSVPNNQFSLATPYRDHRINSNKSCLKRLIHGTSGNNTGSGRFN*PRFRS*NFSSTVNRFS*GIYNTTQITLTYWYLSNSSCCFYGTSLLYHQTITH*YNTNIF*FQIQSNAYGTLFKFY*FTCHYVIKTINTSNAIAYLKYGTCIYNFYFGIILLNTFTDNLTNFICTTGYHEYF*I*FFFEEKQK*VFPILSIIVEQLISSIVEQLISYFLLSSTQTYQ**HRSYVNVTRCLSNY*EFPELLVMLVVKHFVGLD*SPFVVQNEWFYFCHFRIVPNLYKLN*LNSIFLVLSRHNHSLETDLLPFLLSLNGPGLFPAVQWLFPGVLLNFE*FSRFSVFDYLINHLMKVDSLSIHFKMSMISSRTKHESFNSFGSHTQFLIGNFPIFIME*AYPLFSISKNIENDYQYKTQILGGLF*PNK*LSAKLFFFLKSKEFLLIYT*VINSAL*KSRNGGVKQNTFFPIFHHKENSSHFIDMSVLYRKNSNFPINIVVERILDCVETSNSLALTIVMFQNSWLIENQSRFTNESRNAMVLNYFFRYLVRSHSPDHAHFSSYNKKSAVGWIQSIL*NKQLAHTPFPKKINTPSTALRFIRFVAKISVSNPKLPSVIFCI*SHLLLWID*FSFYDSKFFLFVFVYDSLFYNRIIEYEYIDLFYFYSY***IVVRIKIY*EDYSIF*IG*SIERFPIRIILLRSKYLVVFNTF*IKKGVIGLKKGTEEGKSIC*SE*KKNCRSQIEIELARAATKIHGKKNNMYFFYKY*TKGLANKSANATTSP*IVKASIKAKLSNKVPRILSSASGCLAIPSTACPAAVP*PTPGPIEASPTANPAAITEAAAISGFMISFSYSK*N*EIVNNIINKKYMT*LFHSS*LSFSSRSVIQNFKRNNFD*IISIISIFTFFVSTLVVFCEYRQFLVLSYIYFKPSFFFYFILYSIHNYKRWKWSFFFESLPKFRVVAGQI*IDSHL*LMNIYYDIYMCLFHTVNQFVVSSIQSYSRIILGNPPAVL*RLDYIYA*FDPLTLF*IESLFFV*FPGNCFNFIYTF*LL*KLFQISLDFYLSVP*VDYREPYILCRGLKSYFHN*SMMPFHGFTYIRRS*SSENKSLNTACK*SKEHNRDRNY*RY*RNKNNNY*FIR*YISEKSKTK**GFCEIF*DVNR*KDWRWLDVFTKIGQSFF*NTRIEIGY*RK*S*CNSSIYIICGCS*LSMR*LYNFPRQKGP*PIRNKNK*KQSSNKRNPWTIFFSNLSFAHVSNEFKDIFKEILTRRGNSLRISNN*NG*N**DSNYNPRGNKYLSMHLKIPYLPIEMLTYFHSRYIIESV*CVDVT**NIHIALSSKIKKYNLKGNYFDSTISLFYFDFLF*IPTNHKIFLFTQFCNVIIPNSKNL*PPNQI*KWIYLIINQ*FRIELERPSQIAKTNLLRINRMEAIASSLAGIDISARSGSQFVSIKQIVGIPKVIHS*RAVYSFC*STIITISGNPVIYLIPPRYVSK*DNCLFNIAASLFGREFSFPVFCSVLKSLNLPSLVSVVYQFVNIPRSHFLLT**HRALIAARVTESAAFFFVPTIKNCFPLLAASKAKSQASDKKRAVLVRFVI*IPLRFADIKGAIRGFHFLVSWPK*TPASIISSKVMFQYLLVIYPHTLFKKKKKERDPVS*NSNK*LFRWNLLFYRRSAVNIESGHSLISIYYYFLLYFNYQIK*LHLKI*GDESRF*EAFNPIFVMYHINSLKLEKSNNFL*WNKRFLISTSNNFFFRVILLCCLDRERCIILLNPVPTGIIPPKTTFSLRPFNQSIRPRRAAFAKTLAVS*KLASDMKL*VFRDVFVTPNNKAL*QIASSKARPVRSARNNPISSPGKNILDIPSSETKTLDVI*RTIISICLLWMCTPWDR*TFWILLTKEIRLCAIVSSAPIKNPQGMPIIFVIHSFQASILFSRFMDIESIERISNICSTFGRPCVISPDLDFSYMNVTKISP*ERISP*WP*MVAPGVAK*GLADLIITESI*TIIT*PDFSFRCGLFFI*AIHIFSQINCPRLILVNVFSQ*K*WRKNQFKWNGFKMILLYRSGLQI*SFSSIK*YLIT*KISVNLSSCKFLIIEI*L*VIK**SE*KFAT*RAIPKGPLLLIEIIGSFFIPL*DFSLLNGLI*KQLDDDKIIQDRHSLFLFNNIRIVP*FWLSDC*ILPLE*IEKNGLIRSDLLSPINPKPDGSFLFLIYEVFDFTKSILRKYSIKPFVRTSIKEAGASSIEELFLPSSQLKTKQVRTN*ILVSEIPRMDFPFP*RI*LTTFSSRLSFSWNRSWGKSFTKLLLSGISYKMTGRTKTKYFFLVVAIHWT*IQFLIFFDLLHFFFFTVPGGIKMALCRDILSISPGKWIFPENIFNSIFFFFLSNRTNPPTRLLILKVIGVPIPTRLLFRTIREEDLGKICTSSGIKKNRST*I*DFGFNSLIPRYSMKSSF*KME*IPIVLYLVIPELCRLY*GSSK*AKILFL*KIPLIGISMETPEGDIRSFFRS*IDWNGNGIRNRFLRLFAKK*KVS*KIAGYE*SVHMISLNIE*SLIPFSFVPKVLKRNNLCFT*SFLSKRFEILVFPFESESMVI*S*SLRSKKWIVLDRHDFPDNIHK*LVFGKICTLLYINSDAWYTSVLQCISPSESE*ICFRTLSFKLKVYVPARISAITCSDFTY*SF*TNRKLFGGIMTLCIISSLSIVTYKSILHIKAGYP*RVRVG*TKSSFNFIFPFEGARTYSAVPPVNTPPV*KVLNVS*VPGSPID*PAIIPTASPNSTRSP*IGLRP*HNRQIQDVFLQVKGVLINIGCV*KVMNRLISPIPIS*FLTTMHREPIYIFSATTRPINVCIKIISGIIPFRVFTEIPRMVPQSVRRTTMC*TTSTSRRVRYPASDVRTAVSTTPLRAP*QEIIYSVKDSPSRKLL*MGKSIICPCGSDINPLIPTNWCT*DAFPLAPEKDIIWTGLKGSVIRKLGFICCRKYSLVAYHISMDWRNFSTAWTFP**LCFSKTELCCSASWTSHPLEGIVKRSSIPNEIDVAVA*WNPRVFT*SRMCDVYAIPK*SINLLISRLMAVPPITLL*KTRLARSAISTSQWYSVRRQWI*VNDWKTPFSLCLFT*KMEKMLVDLNLHQYHKS*IDLAWIPTLTIYMIRYRMNRLEKNLV*LLRFLDKKKYDQ*WFECIYNEFLFLYLLLLNNPHKSHNRYQKIHSELR*ELLLKT*CIDLFATGAKKDYRN*FFSVYKLQLHHRNCKKRVLFFSYTSSS*SSYCSFFHFENFCN*TNYTYLHKYLDDFR*LIHKVQ*AYLELVHKWDPQ*PETRDWYEKT*VNELLLEPPKIKAHEQPFDPHQSLR*IPYTPMDVNK*HVLLLKWVEMPVCPIYAK*ALYSAILDAPA*LLEVFPIQLVLFPGFYS*QLLCSKQNGFELNHELEMSEIALLLFRGAIHIDVMKVMDLRQ*QNAPNNQLVFQEESLEIFPLCPQLYRKTICKLYYDGPSLVVRGFHYQEVYPRLLVPIFLDTLLIPLV*IHLLLIDQ*EYCSDR*LFYRVH*YPNSLVYRHLFE*LVSIREEELVIDIKPSILVVYLFGENA*LIPCVEPKNSFFFQLFDLPICQWTPLLLILSILATKNP**FLNPDQLIVRV*HPLH*KFLYFEMYRNLE*QKRGGYCISRIGFHI*MNLVIVRKLVF*LRA*QKKNLDRIQ*DGSPPLKIGHEGFLSSG*SIYTQLKIKKGVSAFQFLKTSNLK*KRFTLYSSYQ*RPSNISLIHSSFFLNLLSNSKLRQK*NVKFLSSLPPFERGIL*NEILNNKGISSNS*EISLSMYHTV*SFRSRRHLDGYATMS*SLYAIDKLLQS*YILFFEHNFRSFQIKKRWNNSFHKKVFFTRYIQYK*LFVTELTIDQFPY*LGSIQYTHEF*ASCYSSQETCQI*DIPI*LNGMTVYNSKSVQ**FLSNHTSQYTRSSNSLRGLSKRLAI*LGRRFKYHTWVTGHANLIYPI*YLRIRESTNSTPHCSQNFGWSFLSPITR*FPQAQIPLFIGPKILSQNNPSFSGLLVL**RV*GFVTSPTVSPLGRIFFAQALICSGETDPIRRC*CLY*SIIK*NFRLSPIKLPSFESESLSQIQGNDSVPEPKIVVRERAIERILEHPQVSVLFLQ*L*FQVLLDEL*YDQIYK*ASLVKYEQHRIPRGPKPPFRLPVVLLVWPFL*GVVV*QVHNVHWNVHVFYHQLDELISRYKAFLL*RAVQKHSLFFHQIFCSFPDTRVQISMDSMFVYWPHIIQKTQVFWKPLVHISHQKVLFDNVYLAYSRLTRVNIPISVLHSFEKGPLMD*RPYQRVFHLANKAYPV*TKSLKRYLYFHVSRPLYHLL*FHVSVKYIYESFLDYS*NPLFCGSISHQ*LGPYHL*VVLDKFPLRWIPESQV*LVIIYLPGHMRILLPFEALIYPLKYHPFLPKIPELQFHFCLNFGVNGLLDVEFD**FFQDHGLSHESEFHISVCEKKYKYLHRPDAH**VQHLQNCNLPMAYKLLIRFFPKRVHHQL*QHHLLKFVPFLRIYLSEPGIFDACKYFCWNVDI*LMEYLEHSHFQIKESYEYHYKRSFPRVRL*RELPNLRPLGVPIQFQQCTFRTEKEELLDVAY*NSLKLYSHHYAR*KE*GKLQ*KNIGREKYFEDEPVPMQ*SEILDGIELEQSAPPEYLDSVLKNFPSLPYSIHLYLVINKAFVFFLISQKFHKMDFL*TPNDQSLRELPRIQ*VRH*FLRRCQ*DKCVHSD*DGYPASEN*QFAPSILQDPKNSISFHELFGSMDWLDLKLEIMDVIQKKIHKWLLMALKSLNSEESVSI*I*LLHI*FL*LYVLNEREPIQIDLVRDLLRNEYVYFSNDSYRQVYPFQISFESNDLQLSIYLAVTKMYCSQVY*YLAFGSYFADQFLLIHIFVEKILFVIPYIKIQEIWDLRLHKQIVDKTPKWHFLLTLFFFPPFH*GKTRKFRGNKRYQEFRLNSNP*LMIELE*IFSVSYLHEPISLLFYQFLTLIFLPNLILLCHYRLKFRYGPILTDNRYRGFAIFD*LLFCIFHLL*KFPGNSLEECFQ*K*FVLGYPDCFSKLIPRIYIIQRNM*VIHIQHLFLLLRVLPIDMFPQITEIHFLDLYLQFLETSKVLLLSPDQ*IYKILQIVFDSIRVV*TFLHSQPQAFFISPFFFFENIPLFAVILHRIT*IDLSIMEFLFFLLY*IT*NFT*LRL*NTYYEKRKLDTPIRVCNKTNRIELVISMETNG*LSRRLRVGVFFTI*KK*ILFILLV*YSMIFHIPIRLISKK*IQYLLGSMRERYKK*NNQKKIYYFFEPFTISSVQKRMRIHKEERYFDPLF*NWRIAVHKKTGIY*TFIDLTSAIDIYICLLRYCSPICSGLHMLC*FVFSIHQCI**KIGKKMKVREFMENSL*SIIT*KIPD*IMCNNKNGYSGVDIY*QFLL*WK*RRILKKDIIILICYVSIYIFFSH*EKMKIP*FFRNL*LTVAICPEIFTFLL*LKRYTLVFLYSNLFFCIIWAAWPSGKAGDCKSFFPSSNPGVA*STR*SKKKNSIRFPVYEKENSFFWVIHSKRIY*PVFQLF*RTNRDGIQ*GLDPRELTDANKSMQRNLS*FFLFYLMKGEIKHRSLYSYLLV*FITLLLLSIFFIYASNLSILLQI**ELARCSNWMFRQWC*EGMESFFDSVPAIPLLL*DILQFLVKKKNKKNTRKMSKQ*KKN**KN*FILI*IGDIIDMDIVSLAWAALMVVFTFSLSLVVWGRSGL*R*Y*LS*GIKLSQFFSSWGSSSFELFY*Y*LMK*IFI*I*KFYCIPVV*YIYNLEKKKSYLNQTNIEIVAILISRESR*LETDYYSKLNYFEYLYSI*SN*ILEY*KDSFFLFISYRDSEKNRKSQNENKKNKNCVAFSLFQIDWNQYKENRFR*NVDAMELTFHLYP*IDIHISI*KENDRLVPPYSLFFFLVKHSIFILPTVIDNIVETN*FYFFLLYGFNRILLVVTFFHFILKNKIH*SSNNT*Q**Q*RHIQE*LTYS*KRSFIHYSFSLLFFILSGWGVEHNFTPKHNLVDRQLPT*LFFYASRCSKGRL*SSWR**SFLD*LIPSTFFRQTTFFRSRG*E*NIKSSLWYDDISQFREQVQKFVSVYKFSRRRGSIWIGHF*YYAICGSRSTDSMRRISRFNGIFDFARRRNYQTSSIPSRLAPMILICRKKKRRLCLRQYEVKKAWHSEFDMQK*FFFFKTIRLYIERVVGKRGI*DFI*SIRASV*CHDFFYLFEKKKETLGLLNQKLDEIREQRNHHSL*NLKNILKKRKLVIGFFPDLGLIDPVYIFFYFFNENEKLKVEPYAI*QIACLYGFKLKFFWIALF*VKIQKNLIILSG**SINLLVLLMMDNRENVCWKHTNYCQFDKR*QIFIAKEHANLPGRYLKTWTGIFLCQQKKPKPTELLIQ*QILVLGK*KICLCPIY*KYFY*EYFCPVYS**TPNLLSNNFISVPNIFLLFPIHVFISNI*FIPKPLCCLFLINT*IDVVFYLFNCLNNQI**SRINSKLKLLG*D*SKPAHYVYDSPCQLENNLLETQDSQSGL*QNLPLFGDALNAEEHVLGCMCDSFRSYTQIKKSILLIRIVYI*FYCV*NLWFLNWCKPNHLNL*FKMKSIFPLVIK*LSIKREKSYLKERQIMP*I*Q*RTKRVNYPANIHT*IPLLYS*ISL*KTYY*IFHG*SPEV*TVQVHNNID*IKIQ*RKGLRCIERTSPFNK*S*KRWNPPFLCLFLIYYGFWNT*YQ*KLLFRVEILRLRKNKKIVVGKVIVAKAIGIFILYIGRIHVVSNILERIKE*LKEKNQNSYSSKSHLSNDQN*TRIHRSKTEDKKYIKLSWSSFKPYSNYFATENKSFGFVSAG*R*EKKGLSQFVDQSNKCNNWPE*TKNLL**FNV*SVHESIAS*S*NRFTNSYIKGELSFYYFQRYHSFF**KFPGD*TPGRW*NKRDLYDKIEFI*IIKINNQPRSKKKMILLFFTYYRFS*NETISIGLSDFSKKKIPIRINFEFRFN**SNVTLFFFFF*NRSSSSSN*LSFFIFFFCIINKR*RIYKR*QR*NTSLFYSNRNQSLLF*GQFINTSR*NFPLSTDKFEK*TQVFIINSIPRLD*GRTPTN*LLRFNKQSLRFIHGLFTPIPKIPFVIKKGFVLVIFFFFFLIYLLDKKIDAI**YIFIISCLR*FLWYLYNSF*CYL*FFFFFQFTS*G*HTSNPFSLFLDLCVNHMFATKGTEFSQFQSTRRIVSILFSNISRNPSRFLINTLFITTSTF*NNSYSDIFTLSHEPPLVFFIHLTLRF*DSKGRRKKE*KKI*VDN*KSNSEIFCSNEFYIVQ**FTTTMLSK*ISNHSIVFQF**KYLV*YYCPYLP*QDHFWSDY***LLIAMESKY*FNSIETKPGKNSKFH*GQIHLFNFLFLILV*LEKTNEEGLNHRYFIGSLIVGTLSRANN*NQKKGNVNASGNKRLISIKRPARAANHKVLATGATERYVFRSRISNPPSFFLVICNT**YRI*EYYSMFFY**NHLDLSGEVRIQIELYNN*LDIFL*STILIFKYYYFISFIQRIIL*LNIKIIFLIILFFIYKFYYIYLIIICIFFVLVIRLFVS*YL*MLLCF*LIDYKYSIRIFVLYTIDIRK*KNKREKMAGYILYIMEECGKQDKNFLE*HWKLM*RDVAQLGSAFVLGTKCHRFKSCHPYP*LLVIVSAVTRDQL*AIQIGHTYSI*IVI*IVLHIEFVCMQKMYCHHRT*ND*RKRS*FSSVERGSPKPDVVGSNPTERDTILLKLRLK*WDNSLIQSVNLISCQLGLKQKNRRSINKRDSNKSNIQLIATSVL*IGRYK*SSQSNRN*T*HDSK*KNFNHLSLVESKKGGDNSDP*I*IYIDHESQ*PRIGHMIRRISKIF*NFQSISKLQIK*VVSYSD**KYLRL*LKLLVENRNNWLEWA*GN*MKYILSIHMFIKHFPKFPFFF*DKNRKISKKYHLKDTIENN*FMNQLLRTNKKKNRVT*VRNQFIICDIYPACDSKSTSTHDMKSSIFVIQPRKTRT*TFCV*YKNNESSF*RKKDFLFLY*YPLSAFTDINTHIKKSKPPPPLRIVTYRI*NRSASFCSYE*NVPLFLKN*NKYQFY*NKYKFFNAR*FTKRGRSIA*FFTVQ*SYIVSIFC*Y*GVFSWVCLGIVFIPLY*MIPAVYFLSI*CIQLWLLVGPVRWLYMN*QFLIPLTLFLTQCGDRVCSLYPS*LV*E*PIRGVVGILQEAL*RIRVFGVTKVWPRHILCFRACAFWRLFGIGSIGISKSFVMNVLENLLWICQKYLEFIYFLQGSRVLVLAPFM*QDCLVLEYGYPILMD*QEGYNL*IPPGVWMVLILLFRGE*PLIILQQGHWAY*RVFSILVCVHLNVYTKDCVWEILKRSFPVVSLLYFLQLLLLLELCGMVQQLPRLNYLVLLVINGIRDTSSKKYIEELVVG*SKIKVYQKLGLKFLKN*LFMITSVIIRQKGVCLERAQWTMEME*RLVG*GILSLETKRGVNFLYVVCLLFLKHFRLFW*TETELFEQMFLFEGQNRSIVSNK*V*LLNSMVANSMESVIVILLL*KNMLGVLNWVKFLN*IVLL*NRMVFFVAVQGVGLLLDMLRLLCSSFSGTFGMVLEPCSEMFLLVLIQIWMRK*NLEHSKNWEILLQKNRESDRNRFVPFRFDFFCCYLNLI*GTRQILISIIPFCFTLVLSFSLSRR*SPHPKTGMKVIIVNHDQIYGSIGLYISLSLDFRNYFFRYFF*RTP*SSN*KHEMILNYLN*SNEPPIS*YGGLITSTSPHVLRMDLLVVERVAQKQYIRHTQ*NLQLNRI*RWQLGLLFP*LYNIKTTMDL*GKILYLQRNGIQSQQISIKKIGFMATQTVEGSSRSGPRRTVVGDLLKPLNSEYGKVAPGWGTTPLMGIAMALFAVFLSIILEIYNSSLLLDQISMN*RIRFTRTN*LAFQ*KSKVYHLDRSFLAHSILIYLVVRPRNFFVSVFPEYECVTCYNGSY**YRT*NGYVILS**MTLPRQIFILVSGARNIENK*ILKC*NYDSYLIFIFRPRNRTKKMKDLEEFI*KTKWNFIL*NYRRLSISLYFFFFIISIS*N*ISDDPAVLTQGILGLRLKVFFGNHRGSGMNLRFLIDSYRVLTRKFLSIIIIKKKTAVKSYYRHNTKKMK*IIEDSRGR*GSREKTSEPT*NFGIINTKNIFWISIFFLSSKKTGIIGLS*EV*NFLLHISVFQITSI*VFLFEPYEMKFSYTVLRGVPWFTYLNKVYDWFEERLEIQAIADDITSKYVPPHVNIFYCLGGITLTCFLVQVATGFAMTFYYRPTVTEAFASVQYIMTEANFGWLIRSVHRWSASMMVLMMILHVFRVYLTGGFKKPRELTWVTGVVLGVLTASFGVTGYSLPWDQIGYWAVKIVTGVPDAIPVIGSSVVELLRGSASVGQSTLTRFYSLHTFVLPLLTAVFMLMHFPMIRKQGISGPL*RI*IIDICNQSFWGGVIVFHCYKYALFFLNKTCIWIFPFNLTKSIGFFI*HTRIVEGNSRKKEWIMGVCDLNY*LGHADI*LNLICHI*IHN*MCLCSNHRASPLQRIVRFA*R*SFL*SDSIISCMNRLRNIQ*NK*DDII*IMSYVFH*T**YGNAFISYALTQFMILSELNK*I*RKRGVVLY**QVNPFYVKNSEILFLRYNRRKV*DHPERTFFFENLLG*KAFT*KYELNFLHLQWIVVISKKKRIQSILLHIIT*NHDI*VTNIERISMSAFSSFDSCSSRMMKNYHVRFFRRMHL*EFTYPNNKKT*LD*SCIKS*IGQRDGS*LLWRTRMA*RSFIYFSSSDSGDYCL*RGLSGSRTINDWGTRGSVCNSFGNITRMVFFSRISNTSYRTQ*IIGRSFNGFSTRGIINSTLFGEC**VPKPISASSSNNCLFDWYRRGSLVGYWSNITY*KIPNVRSFLN*FYCEIKYHDRCIVYLGKIHFEMTNP*IHLFHLRPILNRFICAKDSKKSNVFKIYTK*FSICKMFNINFKSSTRKCSIFIRSS*LLFKSSNTVCILDFLRQL*IRGGNSNWSIKMDFNVISF*FFLSLSLTNLS*S*KVKRGKVILC*LFSKFKFSSSACKKGINKSIKFREAS*SASLGVKLPFVHISRNSISCF*FPFT*EWIL*FAFLTGMNTASIV*LPS*MLFSVFIRYPRFLSICNSIHKLIGSVRLAICCVLSMTSTEGGKMMS*AVTYPGPLKQIDASRVPYRLLLNTISFKFIKISCIDS*IPTMVEYSCGIFSDFARVIHVPSISPSKILRIVMPIVSA*PFISGDRIKRP**RRLLSTLDSTHFHCSV*VDTFSFSRIIVIYFYETLDLIVYFS*NIFL*CLLLVLHTSFFRSPTSIMWQRGYIPYNL**YPTSINSS*CRISS*TRTLYPYFCSLHALLDYCLNSISRCGLSGKWCPPSCTLEST*TGGGPRNHPTSYICNSHNGIVETSLNINNPLWYFTRMLTRTNTSSFP*TNFWYRFCHFFYLKKNISPKYMDISISSQKGFFTIFYLVILYLFDNSIHIEYLF*NIKQ*AILCY*NTYNYRLDSNY*VFKKMEY**DFVFE*NSNTKSY**KALFSLNIILVFVYVLDWNKLLEVDLAYGSIDIFHKFYEQRPPLSYF*LLRNSIEFRIYILEENRVSLHFELQIVTPKKYVQVQKLIGLSQLYFHFFLYRSYPVSLFGNIA*NLI*ILFL*STLQHTLVVDEFNLHPRIMLQDMFSLLPYLFPLVPYLFPLVPYSP***CLCQVFPRIQISIFDSIEKSQKVIF*YILLSYILLVSYISGLFSSSNF*EVE*NNTMIIRLW**SYVVDEFNL**NNIRFIYFAHHRQNFFAKFL*R*LRYPVFI*FRYGQNYDDYHI*QKISPPIFSNRASRSVIIPLEVERITIPIPPKTFGILG*LE*IRRPGVLILFKFKKLLYDPFLFLLYRRVKTKKYLLLSRCFLTFSTKPSRKRIFTMFSVILVSGI*TVLFLFMSALRIKVSISAIVSLPTIDFYSFLSI*STCSRFLIFYFLIQ*NI*Y*I*E*NNTFYMYRKFDCHYDNLNIEYRIF*N*KKR*KENERMTYSKLYK*SYIEFEFYFFFLYK*NSNFYFEYIEYRIYISFLF*SISFLFIQVIDNISIS*SLIIIPRVLMKLFS*NLTVSILGLLRKKFEFLLDFLLYQ*EPLHYHHTLLLYHYDVLVLYKYVQLQL**LEIFLKMNLALLF*LQQQQCHQYKHTVDY*LL*FEYTSIRALHYYRLHLNRFEVESYPFFLSLSQKVEVKKILCVQKKKRNGELPFFILKTSFVLMIIWKE*IEFV*AFWMPLLKLPF*RYFLGPLPFHKVFCRV*RQLPNIRAILFPNPYAFR*VLL*QVCLEICVPIFVHPGEHFVTLPVDPLLVV*M*SKRAQVPEEHIFRSKFYYRERLFLSFFLYDVCGISFFLGYS*WLFLNSISITEPYMRFSPHTAPRK*IN*KILNRSKNNNN*NNIQ*DTYV**NRK*NRI*SRDFLT*NLWID*KFLNLALIYNEICILIDHFFYLYLN*LIFLDIKVLTNPYLSFFFLLLSYWIGKNF*IPKNPHFRGRILTL*L*IEDVMLS*STTPPKTMNS*FLPPSHLMNQ*VRFLILIESFVFTGSVVPIAFLFMVRSKFYNGAS*ILIR*FFIF*HFLI*FFFVESTFSVFLIRGS*FVYSRNIFNHIWMNFEY*CFITLPFYEMTHRPLHSRILYH*YPFSIFLSPLHLSVYSYCFTTNNLIFLFQLL*LYDHILILILDFRRFFISR*WEAMSRFFIIINSTNFCRNLTTIKKKPTSHTLSIATPSF*ND*LIFFFYSIF*IFFFENKNVVRIRHFLFYQKMERYKEKLISRCLEISKF*FQIPPK*LQLDRNNNQF*LEWFVEEPYLL*SIRHVQFLFRRYVPQFVFELLLYLPVQLIQYLFALLYETKFYSVIVGL*IVQEYEDLYKYLQFL*FQA*FFGSHNLLFFVHESLILRFFEPSPLLLISLEVPYRLSL*SDRFFFESLFVQFHSQRYRHRIPRIHLSCLVYNARYNIGSFYLLLYSWNKLLVVQTK*NHDFELHQV*NQADVFFVP*PLTTLYQMIRLICLLFYFIYLFFLFINLYLYISFFFFCCRIKQFKKNRIRCPTP*NISSIFPFLNIININYHSRFVCVVTRHKLINFLINHH***ILIVASNEC*GNIGQHSCC*LRTTKSATQ*MVTVGKYKS*ARYVLSFFILRLKNDEYEFCNFK*MW*VNRNLNDEIYYHFSQILRSLE*VKILPIYGLPYDLLYKQVNALFHYG*QWYAQSL*V*W*IFWTKFLLLPFLLLC*ASLFFLINDSLQKGFFFVNVS*LLIIPLIICKKVNFFSYILYFKFFKIKYRISKKRKSYNVIVNCSFLL*RRRNKFYFLYAPLTIYYGDEESNYHYIYCFF*FFFQVQDNPKELRVFFYQLAPSLHHPHVDGLQGS*LPLLLQDACLANV*LRLCPNFSGLPQHSLLVRLLLSSFLISNGPLQKVILMLLIYPLLQSVSLQHPLL*LIVHPFQVLFLCYVWPCLTAYRLK*ILLFDQSKPLPKLYKLLPKHTAFWM*IIISIQMHLIYRLFRRLYMT*RSTIPHEWIYNLRIKIFRMNDSCYDLLHPRSFCSVPSSGLCSSCSIQTE*LYEITLLLTPSTGNVGDISIFSRRNP*NYHCFAFNLPLTIK*NVNNPCLPVS*NEERFVFCRCLKQFCLLHITISLGSIIVYWELLNSITCCRYSSVFC*SLSTPIGSVIDF*VSP*T*LVTSNYVNQ*FKPHSKVGHFPFL*ELLYHKQWYLQL*PLWGVKYIFSHHPHSV*DKCVHFD*GHILWL*FYHICLFHCV*NQFYGIDAYDLPLYALR**FLWHYALYHNDAVQKSNDFVNWISLDCLRLHCVCSG*KFWINVSPCY*VYFY*SSFLSKRWNRITRLKRNDHTLLMNLIFIPE*YYKICLPYFLIHPNNNVFVKFFREFRYPFLIQFRNIQK*YYHISPDS*LVLISIE*HG*SVMIIRL*CIVCPIIGRILLLLPFLGSR*LFIAITLTPKKSSIQCLISVLVDPDSTSKVY*FFPHNRILFSVNTAYLIPFINLFYSFFPMSSSLNKNTSFFTVHIL*YKLNIPHQFVMYG**DSIDRDPTALVSRTHGQNFVSIILLNLEMMNY*SLYH*LFYFYIINDDFCE*MNQKDKKNIFPLDFIFT*KIEIIIEYVCCL*EPLESLHYLIERVLDDLWKVYMLSIFCFLRFF*SIRCK*TITM*SYS**IDPKITYPNYKKSYRGHY*RIYTF*FFLFSSM*INCEYGPSNKGPSFLWIPIPIGTPCLVSPYCS*KNTYR*KEKTQTNNTITPTIQLLNKLTPVIISRTRR*KRNSS*NIVSFIPIHVFDFNKINFFF*RIQILAKRKNLDDFLKRND*NSH****ST*KSCIAQYHHTYVHH*PMGL*SGY*YYGLMHFG*KTRSRKALGKNNTWCNYCT*KVFILFKKRNHMKNGKTP*KKD**FI*ITKW*MSRKKPTSN*QSRYTEKSYYHGFFGQII*SYNFID**GYQMN*NNN*YQGKRYMS*YML*S*KYHIYNENKNIYNENKKGMNTRNRNRELNSL*DL*FF*FKIKYSMPCRYSDSNRDALALLPKSSVSTNFTIAAAYSKS**PILYSIVEIE*SKVLYLLSTFLY*TFII*IHNKKKVISFFLNIEKI*I*KYILYGIILYLSKTTF*FLYLFLLLL*FSILTFSN*KKSTVETRTISF*LQSSNEKEIFFCSCL*LIQKN*IIDIFRIYYILFYNI*YILNRCLLFYI*Y**ILLV*NDY*RILFKSS*FIVF*SNIFFLTKKTF*VTLKKTF*VKTF*VT*TKTF*VT*TKTF*VKTF*VTCENGFS**KGFQSCRISFFFPKILTNFFF*YRSAFFWNWHTISIVFSLL*FDVKDICSVNENELFRMSYLSELTLSFFFDPKVK*KH*IF*TFSKFFIDNRYIWISFYCNVK*SISSKRN*CF*IKKILFYIIFIISIKINKCC*LMNILLLIIFCFTRNFLIGRFSLCTFQYWDHCAKIQNN*EYPILFLYPLFY*PNPFTKEIKQTNKKQNSSRI*IFFILYLFFLYGIYTSIFMDHTFHPSSSSYFNRGRTSTFSHGNKKYSPYVGFS*YFIVNRSYDFFDRFIYSSNRE*FYLSICMVLDYK**SFFRVWLLDRFTYFYYVNINHYCWYSGSHL***LYGS*SRLFEIFYLYEFF*YFNVRISY*FKFDTSLYFLGIGWNVFLSINRFLVHTSYCGKCLSKSVCNESCRGLWFIIRNFRFLLDNR*FGI*RFI*NIQ*LNL*E*GEYYFCYFVCPLVILRISCKICPIPSSCMVTRCYGRSYSYFCSYTCCDYGSSGNFSCSSTSSSFHSYTLHNDWNSFDRYNNSSIRSYFSYCSKRY*EKFSLFYNVSIGLYDVSFRYGLLSRRFISFDYSCLFKSIVVFRIWIYYSFNGSYCWIFSRSKSKYGSYGRFNKTCANYKNGFFNRYTFSLWYPTFCLFLVQG*DS***LVVFTNFRNNSLFHRRINSILYVSNLFTCF*RIFKRSFSKFQWKEK*FILFNIFMGQRRKKNIKKENSFISFINNE***KDFFFSGEDIFTSKKSKCQKHKTSFS**YPFWY*KHSFFLSS*IRQYYDIFYAYISTIYFLRWVHWNFFQPRRNRFGYII*IVNSIYRSFTSKFKEFCGLV*IFYKFNFFGEYSFFRNSYSVFFL*TYFFFFTKFELI*FFSKKCS*KNDS**NNQYYI*LVI*SWFYRCFF*NIFNCECKKVS*IQFFF**TGN*WNSKWSWYFQFFYRRGYQICGSGANFFVYFLFCIYLFSNLLLYISFYIYIIKLWNIIKSTVL*YSTKIGVIR*ELW*SCL*MSHLKSVG*ITKAAVAAATGV*IIFSFLFEFEEIHG\n"
     ]
    }
   ],
   "source": [
    "print(trad)"
   ]
  },
  {
   "cell_type": "code",
   "execution_count": null,
   "metadata": {},
   "outputs": [],
   "source": []
  },
  {
   "cell_type": "code",
   "execution_count": null,
   "metadata": {},
   "outputs": [],
   "source": []
  }
 ],
 "metadata": {
  "kernelspec": {
   "display_name": "Python 3",
   "language": "python",
   "name": "python3"
  },
  "language_info": {
   "codemirror_mode": {
    "name": "ipython",
    "version": 3
   },
   "file_extension": ".py",
   "mimetype": "text/x-python",
   "name": "python",
   "nbconvert_exporter": "python",
   "pygments_lexer": "ipython3",
   "version": "3.7.1"
  }
 },
 "nbformat": 4,
 "nbformat_minor": 2
}
