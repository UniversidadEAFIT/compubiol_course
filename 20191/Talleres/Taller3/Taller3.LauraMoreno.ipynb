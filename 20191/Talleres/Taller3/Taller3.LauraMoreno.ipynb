{
 "cells": [
  {
   "cell_type": "markdown",
   "metadata": {},
   "source": [
    "# Taller 3 -Manejo de Archivos y BioPython\n",
    "## Fundamentos en Biología Computacional\n",
    "## 2019-1, Prof. Javier Correa\n",
    "LAURA CRISTINA MORENO JIMÉNEZ\n",
    "\n",
    "Nota: Se calificará que el código sea lo más simple, claro, original y eficiente. No usar funciones no realizadas por ustedes mismos."
   ]
  },
  {
   "cell_type": "markdown",
   "metadata": {},
   "source": [
    "Competencias: 1. Resuelve problemas de ciencias de los datos utilizando razonamiento lógico y programación en python. 2. Manipula archivos con formatos utilizados en bioinformática para extaeer información relevante. 3. Utiliza efectivamente módulos y paquetes de python especializados para biología.\n",
    "\n",
    "Tener en cuenta: a. desarrollar y aplicar funciones en python, b. manipular archivos (entrada y salida), c. utilizar librerias especializadas (Biopython).<br>\n",
    "Ejercicio:<br>\n",
    "\n",
    "1. Un investigador desea desarrollar un Script en python, que le permita encontrar el grupo monifilético en común entre una lista de especies de plantas (archivo adjunto: lista_mercado.tsv). La información sobre la taxonomía de cada una de las especies fue descargada de la base de datos del GenBank, luego concatenada y se encuentra en formato .gb anexo <br> "
   ]
  },
  {
   "cell_type": "code",
   "execution_count": 1,
   "metadata": {},
   "outputs": [
    {
     "name": "stdout",
     "output_type": "stream",
     "text": [
      "Especie\tid\n",
      "Quinua\t63459\n",
      "Tomate\t4081\n",
      "Oliva\t4146\n",
      "Yuca\t3983\n",
      "Papa\t4113\n",
      "Repollo\t3712\n",
      "Lechuga\t4236\n",
      "Durazno\t3760\n",
      "Piña\t4615\n",
      "Coco\t13894\n",
      "Lenteja\t3864\n",
      "Arveja\t3888\n",
      "Berenjena\t4111\n",
      "Garbanzo\t3827\n"
     ]
    }
   ],
   "source": [
    "%%bash\n",
    "cat lista_mercado.tsv"
   ]
  },
  {
   "cell_type": "code",
   "execution_count": 1,
   "metadata": {},
   "outputs": [
    {
     "name": "stdout",
     "output_type": "stream",
     "text": [
      "LOCUS       MG859922              122198 bp    DNA     circular PLN 30-APR-2018\n",
      "DEFINITION  Pisum sativum subsp. elatius isolate CE1 chloroplast, complete\n",
      "            genome.\n",
      "ACCESSION   MG859922\n",
      "VERSION     MG859922.1\n",
      "KEYWORDS    .\n",
      "SOURCE      chloroplast Pisum sativum subsp. elatius\n",
      "  ORGANISM  Pisum sativum subsp. elatius\n",
      "            Eukaryota; Viridiplantae; Streptophyta; Embryophyta; Tracheophyta;\n",
      "            Spermatophyta; Magnoliophyta; eudicotyledons; Gunneridae;\n",
      "            Pentapetalae; rosids; fabids; Fabales; Fabaceae; Papilionoideae;\n",
      "            Fabeae; Pisum.\n",
      "REFERENCE   1  (bases 1 to 122198)\n",
      "  AUTHORS   Bogdanova,V.S., Mglinets,A.V., Shatskaya,N.V., Kosterin,O.E. and\n",
      "            Vasiliev,G.V.\n",
      "  TITLE     Cryptic divergences in the genus Pisum L., as revealed by\n",
      "            comparative analysis of complete plastid genomes\n",
      "  JOURNAL   Unpublished\n",
      "REFERENCE   2  (bases 1 to 122198)\n",
      "  AUTHORS   Bogdanova,V.S., Mglinets,A.V., Shatskaya,N.V., Kosterin,O.E. and\n"
     ]
    }
   ],
   "source": [
    "%%bash\n",
    "head -20 Mercado.gb"
   ]
  },
  {
   "cell_type": "markdown",
   "metadata": {},
   "source": [
    "#### $\\rightarrow$ Con el archivo \"Mercado.gb\";<br>\n",
    "- A. Desarrolle un script con el cual pueda extrer la información relacionada con la taxonomía de cada especie.<br>\n",
    "- B. Organice esta información en una objeto tipo lista o diccionario.<br>\n",
    "- C. Cree una función que reciba el objeto anterior y compare las clasificaciones entre las diferentes especies para retornar el ancestro monofilético común más reciente a todas ellas. <br> Ejemplo: Embryophyta"
   ]
  },
  {
   "cell_type": "code",
   "execution_count": 75,
   "metadata": {},
   "outputs": [
    {
     "name": "stdout",
     "output_type": "stream",
     "text": [
      "Magnoliophyta\n"
     ]
    }
   ],
   "source": [
    "from Bio import SeqIO\n",
    "\n",
    "taxo=SeqIO.parse('Mercado.gb','gb')\n",
    "puntoa=[]\n",
    "\n",
    "for read in taxo:\n",
    "    puntoa.append(read)\n",
    "    \n",
    "for i in range (0,len(puntoa)):\n",
    "    puntoa[i].annotations[\"taxonomy\"]\n",
    "\n",
    "puntob=[]\n",
    "for i in range (0,len(puntoa)):\n",
    "    puntob.append(puntoa[i].annotations[\"taxonomy\"])\n",
    "\n",
    "for i in range (0,len(puntoa)):\n",
    "    puntob=puntoa[i].annotations[\"taxonomy\"]\n",
    "    \n",
    "punto=0\n",
    "z=len(puntob)\n",
    "for i in range (0,z):\n",
    "    y=len(puntob[i])\n",
    "    \n",
    "    for w in range (0,y):\n",
    "        try:\n",
    "            if puntob[i][w]==puntob[i+1][w]:\n",
    "                punto=w\n",
    "        except:\n",
    "            continue \n",
    "            \n",
    "puntoc=puntob[punto]\n",
    "print(puntoc)"
   ]
  },
  {
   "cell_type": "markdown",
   "metadata": {},
   "source": [
    "2 . El mismo investigador está ahora interesado en hacer una caracterización funcional de los genomas de los cloroplastos que poseen estas especies. Para esto y continuando con el archivo del punto anterior (Mercado.gb), resuelva las siguientes preguntas:\n",
    "\n",
    "- A. Una forma de diferenciar una especie de otra es a través de la estimación del contenido de Guaninas y Citosinas en los genomas. Utilizando funciones de biopython responder; ¿Cuales son los valores de %GC para cada especie? retorne un diccionario con las especies como llave y su respectivo valor de %GC. Consulte el diccionario y muestre ¿Qué especie presenta el mayor %GC? ¿Y cual el más bajo? Represente los resultados en un dendograma donde se relacione las proximidades en los contenidos de %GC (puede usar Ploty, numpy, etc).\n",
    "\n",
    "- B. Otra forma de caracterizar los genomas es estimando la frecuencia con las que aparecen los codones en los genes codificantes. Usando biopython hacer una función que me extraiga los genes codificantes para cada genoma del cloroplasto del archivo .gb, definir una función que me permita estimar la frecuencia de cada uno de los codones usados por la célula. Con las herramientas anteriores y usando funciones accesorias grafique la frecuencia de estos codones versus el codón encontrado para cada una de las especies. Finalmente, responda: ¿Qué especie presenta el codón más inusual? ¿Qué aminoácido es el mas prevalente y menos prevalente?\n",
    "\n"
   ]
  },
  {
   "cell_type": "code",
   "execution_count": 70,
   "metadata": {},
   "outputs": [
    {
     "name": "stdout",
     "output_type": "stream",
     "text": [
      "37.87344184609045 33.90627119590805\n"
     ]
    }
   ],
   "source": [
    "from Bio import SeqIO\n",
    "from Bio.Alphabet import IUPAC\n",
    "\n",
    "taxo=list(SeqIO.parse('Mercado.gb','gb'))\n",
    "\n",
    "contenidoGC={}\n",
    "\n",
    "for i in range (0,len(taxo)):\n",
    "    G=taxo[i].seq.count(\"G\")\n",
    "    C=taxo[i].seq.count(\"C\")\n",
    "    A=taxo[i].seq.count(\"A\")\n",
    "    T=taxo[i].seq.count(\"T\")\n",
    "    GC=((G+C)/(G+C+A+T))*100\n",
    "    h=taxo[i]\n",
    "    especie=h.annotations\n",
    "    esp=especie[\"organism\"]\n",
    "    contenidoGC[esp]=GC\n",
    "\n",
    "mayormenor=list(contenidoGC.values())\n",
    "\n",
    "mayor=max(mayormenor)\n",
    "menor=min(mayormenor)\n",
    "\n",
    "print(mayor,menor)"
   ]
  },
  {
   "cell_type": "code",
   "execution_count": 64,
   "metadata": {},
   "outputs": [
    {
     "name": "stdout",
     "output_type": "stream",
     "text": [
      "[34.8377327603847, 37.710355466992354, 37.4382835724441, 36.759617212751124, 33.90627119590805, 37.549420050794645, 34.42549627135736, 37.81224741156999, 37.87344184609045, 37.37314891377885, 37.24374706454366, 36.36138387908663, 37.86184803026014, 35.87297851387091]\n"
     ]
    }
   ],
   "source": [
    "print(mayormenor)"
   ]
  },
  {
   "cell_type": "code",
   "execution_count": 69,
   "metadata": {},
   "outputs": [
    {
     "name": "stdout",
     "output_type": "stream",
     "text": [
      "Solanum tuberosum Ananas comosus\n"
     ]
    }
   ],
   "source": [
    "mayormenor=list(contenidoGC)\n",
    "\n",
    "mayor=max(mayormenor)\n",
    "menor=min(mayormenor)\n",
    "\n",
    "print(mayor,menor)"
   ]
  },
  {
   "cell_type": "code",
   "execution_count": null,
   "metadata": {},
   "outputs": [],
   "source": []
  }
 ],
 "metadata": {
  "kernelspec": {
   "display_name": "Python 3",
   "language": "python",
   "name": "python3"
  },
  "language_info": {
   "codemirror_mode": {
    "name": "ipython",
    "version": 3
   },
   "file_extension": ".py",
   "mimetype": "text/x-python",
   "name": "python",
   "nbconvert_exporter": "python",
   "pygments_lexer": "ipython3",
   "version": "3.7.1"
  }
 },
 "nbformat": 4,
 "nbformat_minor": 2
}
