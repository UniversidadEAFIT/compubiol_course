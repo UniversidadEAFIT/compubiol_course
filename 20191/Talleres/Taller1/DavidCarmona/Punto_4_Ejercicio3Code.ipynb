string='PD2mPICapreolusTCAWdug6AAX39UIZHL22tutjI3ycVZA5mpbhnHSeoK60SQCNqFXwZIrbfybYhub6BMZqrfYM7P95piceusaIK8GMeXtvyibIY8S0WzDYHFTyl5UcUtW3WP0dtSea9nTJIXqz70ElNNRZql9jKol.'

print (string[6:15] + ' ' + string[91:97])