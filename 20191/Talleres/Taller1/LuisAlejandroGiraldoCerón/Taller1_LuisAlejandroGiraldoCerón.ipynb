{
 "cells": [
  {
   "cell_type": "markdown",
   "metadata": {},
   "source": [
    "# 1.Cuenta en DataCamp y suscripción al curso de Python"
   ]
  },
  {
   "attachments": {},
   "cell_type": "markdown",
   "metadata": {},
   "source": [
    "![title](img/CodeCamp.png)"
   ]
  },
  {
   "cell_type": "markdown",
   "metadata": {},
   "source": [
    "# 2. Usuario y registro de actividad en DataCamp"
   ]
  },
  {
   "attachments": {},
   "cell_type": "markdown",
   "metadata": {},
   "source": [
    "![title](img/Basic python progress.png)"
   ]
  },
  {
   "cell_type": "raw",
   "metadata": {},
   "source": [
    "Sin embargo, no se pudo completar el curso en su totalidad debido a que ahora requiere un pago para ver los contenidos posteriores al módulo 1. Así, reporto en la imagen anterior los ejercicios que sí se pueden completar."
   ]
  },
  {
   "cell_type": "markdown",
   "metadata": {},
   "source": [
    "# 3. Ejercicios de CodingBat en la categoría de List-1 y String-1"
   ]
  },
  {
   "attachments": {},
   "cell_type": "markdown",
   "metadata": {},
   "source": [
    "![title](img/List1.png)"
   ]
  },
  {
   "cell_type": "code",
   "execution_count": null,
   "metadata": {},
   "outputs": [],
   "source": [
    "#first_last6\n",
    "def first_last6(nums):\n",
    " if nums[0]==6 or nums[len(nums)-1]==6:\n",
    "   return True\n",
    " else:\n",
    "  return False"
   ]
  },
  {
   "cell_type": "code",
   "execution_count": null,
   "metadata": {},
   "outputs": [],
   "source": [
    "#same_first_last \n",
    "def same_first_last(nums):\n",
    "  if len(nums)>=1:\n",
    "    if nums[0]==nums[len(nums)-1]:\n",
    "      return True\n",
    "    else:\n",
    "      return False\n",
    "  else:\n",
    "   return False"
   ]
  },
  {
   "cell_type": "code",
   "execution_count": null,
   "metadata": {},
   "outputs": [],
   "source": [
    "#make_pi \n",
    "def make_pi():\n",
    " array=[3,1,4]\n",
    " return array"
   ]
  },
  {
   "cell_type": "code",
   "execution_count": null,
   "metadata": {},
   "outputs": [],
   "source": [
    "#common_end \n",
    "def common_end(a, b):\n",
    " if (a[0]==b[0]) or (a[len(a)-1]==b[len(b)-1]):\n",
    "   return True\n",
    " else:\n",
    "  return False"
   ]
  },
  {
   "cell_type": "code",
   "execution_count": null,
   "metadata": {},
   "outputs": [],
   "source": [
    "#sum3 \n",
    "def sum3(nums):\n",
    "  return nums[0]+nums[1]+nums[2]\n"
   ]
  },
  {
   "cell_type": "code",
   "execution_count": null,
   "metadata": {},
   "outputs": [],
   "source": [
    "#rotate_left3 \n",
    "def rotate_left3(nums):\n",
    " rotated=[nums[1],nums[2],nums[0]]\n",
    " return rotated"
   ]
  },
  {
   "cell_type": "code",
   "execution_count": null,
   "metadata": {},
   "outputs": [],
   "source": [
    "#reverse3 \n",
    "def reverse3(nums):\n",
    "  reverse=[nums[2],nums[1],nums[0]]\n",
    "  return reverse"
   ]
  },
  {
   "cell_type": "code",
   "execution_count": null,
   "metadata": {},
   "outputs": [],
   "source": [
    "#max_end3 \n",
    "def max_end3(nums):\n",
    " array=[]\n",
    " if nums[0]>nums[len(nums)-1]:\n",
    "  array=[nums[0],nums[0],nums[0]]\n",
    "  return array\n",
    " else:\n",
    "  array=[nums[len(nums)-1],nums[len(nums)-1],nums[len(nums)-1]]\n",
    "  return array"
   ]
  },
  {
   "cell_type": "code",
   "execution_count": null,
   "metadata": {},
   "outputs": [],
   "source": [
    "#sum2 \n",
    "def sum2(nums):\n",
    " return sum(nums[:2])"
   ]
  },
  {
   "cell_type": "code",
   "execution_count": null,
   "metadata": {},
   "outputs": [],
   "source": [
    "#middle_way \n",
    "def middle_way(a, b):\n",
    " new=[a[1],b[1]]\n",
    " return new"
   ]
  },
  {
   "cell_type": "code",
   "execution_count": null,
   "metadata": {},
   "outputs": [],
   "source": [
    "#make_ends \n",
    "def make_ends(nums):\n",
    " new=[nums[0], nums[len(nums)-1]]\n",
    " return new"
   ]
  },
  {
   "cell_type": "code",
   "execution_count": null,
   "metadata": {},
   "outputs": [],
   "source": [
    "#has23 \n",
    "def has23(nums):\n",
    " if nums[0]==2 or nums[0]==3 or nums[1]==2 or nums[1]==3:\n",
    "   return True\n",
    " else:\n",
    "  return False"
   ]
  },
  {
   "attachments": {},
   "cell_type": "markdown",
   "metadata": {},
   "source": [
    "![title](img/String1.png)"
   ]
  },
  {
   "cell_type": "code",
   "execution_count": null,
   "metadata": {},
   "outputs": [],
   "source": [
    "#hello_name \n",
    "def hello_name(name):\n",
    " return 'Hello '+ name+ '!'"
   ]
  },
  {
   "cell_type": "code",
   "execution_count": null,
   "metadata": {},
   "outputs": [],
   "source": [
    "# make_abba \n",
    "def make_abba(a, b):\n",
    " return a+b+b+a"
   ]
  },
  {
   "cell_type": "code",
   "execution_count": null,
   "metadata": {},
   "outputs": [],
   "source": [
    "#make_tags \n",
    "def make_tags(tag, word):\n",
    " return '<'+tag+'>'+word+'</'+tag+'>'"
   ]
  },
  {
   "cell_type": "code",
   "execution_count": null,
   "metadata": {},
   "outputs": [],
   "source": [
    "#make_out_word \n",
    "def make_out_word(out, word):\n",
    " return out[:2]+word+out[2:4]"
   ]
  },
  {
   "cell_type": "code",
   "execution_count": null,
   "metadata": {},
   "outputs": [],
   "source": [
    "#extra_end\n",
    "def extra_end(str):\n",
    " if len(str)>=2:\n",
    "   return str[len(str)-2]+str[len(str)-1]+str[len(str)-2]+str[len(str)-1]+str[len(str)-2]+str[len(str)-1]"
   ]
  },
  {
   "cell_type": "code",
   "execution_count": null,
   "metadata": {},
   "outputs": [],
   "source": [
    "#first_two\n",
    "def first_two(str):\n",
    " empty=''\n",
    " if len(str)==0:\n",
    "    return empty\n",
    " elif len(str)<2:\n",
    "    return str\n",
    " else:\n",
    "    return str[:2]"
   ]
  },
  {
   "cell_type": "code",
   "execution_count": null,
   "metadata": {},
   "outputs": [],
   "source": [
    "#first_half \n",
    "def first_half(str):\n",
    " return str[:len(str)/2]"
   ]
  },
  {
   "cell_type": "code",
   "execution_count": null,
   "metadata": {},
   "outputs": [],
   "source": [
    "#without_end \n",
    "def without_end(str):\n",
    " return str[1:len(str)-1]"
   ]
  },
  {
   "cell_type": "code",
   "execution_count": null,
   "metadata": {},
   "outputs": [],
   "source": [
    "#combo_string \n",
    "def combo_string(a, b):\n",
    " if len(a)<len(b):\n",
    "   return a+b+a\n",
    " else:\n",
    "   return b+a+b"
   ]
  },
  {
   "cell_type": "code",
   "execution_count": null,
   "metadata": {},
   "outputs": [],
   "source": [
    "#non_start \n",
    "def non_start(a, b):\n",
    " return a[1:len(a)]+b[1:len(b)]"
   ]
  },
  {
   "cell_type": "code",
   "execution_count": null,
   "metadata": {},
   "outputs": [],
   "source": [
    "# left2 \n",
    "def left2(str):\n",
    " end=str[0:2]\n",
    " start= str[2:len(str)]\n",
    " return start+end"
   ]
  },
  {
   "cell_type": "markdown",
   "metadata": {},
   "source": [
    "# 4. Ejercicios de Rosalind"
   ]
  },
  {
   "attachments": {},
   "cell_type": "markdown",
   "metadata": {},
   "source": [
    "![title](img/Rosalind2.png)"
   ]
  },
  {
   "attachments": {},
   "cell_type": "markdown",
   "metadata": {},
   "source": [
    "![title](img/Rosalind3.png)"
   ]
  },
  {
   "attachments": {},
   "cell_type": "markdown",
   "metadata": {},
   "source": [
    "![title](img/Rosalind4.png)"
   ]
  },
  {
   "attachments": {},
   "cell_type": "markdown",
   "metadata": {},
   "source": [
    "![title](img/Rosalind5.png)"
   ]
  },
  {
   "cell_type": "markdown",
   "metadata": {},
   "source": [
    "# 5. Ejercicios de CodingBat en la categoría de Warmup1 y Logic1"
   ]
  },
  {
   "attachments": {},
   "cell_type": "markdown",
   "metadata": {},
   "source": [
    "![title](img/Warmup-1.png)"
   ]
  },
  {
   "cell_type": "code",
   "execution_count": null,
   "metadata": {},
   "outputs": [],
   "source": [
    "#sleep_in \n",
    "def sleep_in(weekday, vacation):\n",
    " if weekday == False or vacation == True:\n",
    "   return True\n",
    " else:\n",
    "  return False"
   ]
  },
  {
   "cell_type": "code",
   "execution_count": null,
   "metadata": {},
   "outputs": [],
   "source": [
    "#monkey_trouble \n",
    "def monkey_trouble(a_smile, b_smile):\n",
    "  if a_smile == b_smile:\n",
    "    return True\n",
    "  else:\n",
    "   return False"
   ]
  },
  {
   "cell_type": "code",
   "execution_count": null,
   "metadata": {},
   "outputs": [],
   "source": [
    "#sum_double \n",
    "def sum_double(a, b):\n",
    "  if a==b:\n",
    "    return 2*(a+b)\n",
    "  else:\n",
    "    return a+b"
   ]
  },
  {
   "cell_type": "code",
   "execution_count": null,
   "metadata": {},
   "outputs": [],
   "source": [
    "#diff21 \n",
    "def diff21(n):\n",
    "  if n > 21:\n",
    "    return 2*(n-21)\n",
    "  else:\n",
    "    return 21-n"
   ]
  },
  {
   "cell_type": "code",
   "execution_count": null,
   "metadata": {},
   "outputs": [],
   "source": [
    "#parrot_trouble \n",
    "def parrot_trouble(talking, hour):\n",
    "  if talking == True and (hour <7 or hour >20):\n",
    "    return True\n",
    "  else:\n",
    "   return False"
   ]
  },
  {
   "cell_type": "code",
   "execution_count": null,
   "metadata": {},
   "outputs": [],
   "source": [
    "# makes10\n",
    "def makes10(a, b):\n",
    "  if a == 10 or b == 10:\n",
    "    return True\n",
    "  else:\n",
    "    if a+b == 10:\n",
    "      return True\n",
    "    else:\n",
    "      return False"
   ]
  },
  {
   "cell_type": "code",
   "execution_count": null,
   "metadata": {},
   "outputs": [],
   "source": [
    "#near_hundred \n",
    "def near_hundred(n):\n",
    "  if abs(100-n) <= 10 or abs (200-n) <= 10:\n",
    "    return True\n",
    "  else:\n",
    "    return False"
   ]
  },
  {
   "cell_type": "code",
   "execution_count": null,
   "metadata": {},
   "outputs": [],
   "source": [
    "#pos_neg \n",
    "def pos_neg(a, b, negative):\n",
    " if negative == False:\n",
    "   if (a<0 and b>0) or (a>0 and b<0):\n",
    "    return True\n",
    "   else:\n",
    "     return False\n",
    " if negative==True:\n",
    "   if a<0 and b<0:\n",
    "    return True\n",
    "   else:\n",
    "    return False"
   ]
  },
  {
   "cell_type": "code",
   "execution_count": null,
   "metadata": {},
   "outputs": [],
   "source": [
    "#not_string \n",
    "def not_string(str):\n",
    "  if str[:3]=='not':\n",
    "    return str\n",
    "  else:\n",
    "    return 'not ' + str"
   ]
  },
  {
   "cell_type": "code",
   "execution_count": null,
   "metadata": {},
   "outputs": [],
   "source": [
    "#missing_char\n",
    "def missing_char(str, n):\n",
    " if n <= len(str)-1:\n",
    "   str= str[0:n]+str[n+1:len(str)]\n",
    "   return str"
   ]
  },
  {
   "cell_type": "code",
   "execution_count": null,
   "metadata": {},
   "outputs": [],
   "source": [
    "#front_back \n",
    "def front_back(str):\n",
    " if len(str) <= 1:\n",
    "    return str\n",
    " start= str[len(str)-1]\n",
    " mid= str[1:len(str)-1]\n",
    " end=str[0]\n",
    " return start+mid+end"
   ]
  },
  {
   "cell_type": "code",
   "execution_count": 98,
   "metadata": {},
   "outputs": [],
   "source": [
    "#front3 \n",
    "def front3(str):\n",
    "   start=str[:3]\n",
    "   return start+start+start"
   ]
  },
  {
   "attachments": {},
   "cell_type": "markdown",
   "metadata": {},
   "source": [
    "![title](img/Logic1.png)"
   ]
  },
  {
   "cell_type": "code",
   "execution_count": null,
   "metadata": {},
   "outputs": [],
   "source": [
    "#cigar_party \n",
    "def cigar_party(cigars, is_weekend):\n",
    " if is_weekend==True:\n",
    "   if cigars>=40:\n",
    "     return True\n",
    "   else:\n",
    "     return False\n",
    " elif cigars>=40 and cigars<=60:\n",
    "     return True\n",
    " else:\n",
    "     return False"
   ]
  },
  {
   "cell_type": "code",
   "execution_count": null,
   "metadata": {},
   "outputs": [],
   "source": [
    "#date_fashion \n",
    "def date_fashion(you, date):\n",
    " if you<=2 or date<=2:\n",
    "     return 0\n",
    " elif you>=8 or date>=8:\n",
    "  return 2\n",
    " else:\n",
    "  return 1"
   ]
  },
  {
   "cell_type": "code",
   "execution_count": null,
   "metadata": {},
   "outputs": [],
   "source": [
    "#squirrel_play \n",
    "def squirrel_play(temp, is_summer):\n",
    "  if is_summer==True:\n",
    "    if temp>=60 and temp<=100:\n",
    "       return True\n",
    "    else:\n",
    "       return False\n",
    "  elif temp>=60 and temp<=90:\n",
    "       return True\n",
    "  else:\n",
    "    return False"
   ]
  },
  {
   "cell_type": "code",
   "execution_count": null,
   "metadata": {},
   "outputs": [],
   "source": [
    "#caught_speeding \n",
    "def caught_speeding(speed, is_birthday):\n",
    " if is_birthday==True:\n",
    "   speed=speed-5\n",
    " if speed<=60:\n",
    "   return 0\n",
    " elif speed>=61 and speed<=80:\n",
    "   return 1\n",
    " else:\n",
    "  return 2"
   ]
  },
  {
   "cell_type": "code",
   "execution_count": null,
   "metadata": {},
   "outputs": [],
   "source": [
    "#sorta_sum \n",
    "def sorta_sum(a, b):\n",
    " if a+b>=10 and a+b<=19:\n",
    "   return 20\n",
    " else:\n",
    "   return a+b"
   ]
  },
  {
   "cell_type": "code",
   "execution_count": null,
   "metadata": {},
   "outputs": [],
   "source": [
    "#alarm_clock \n",
    "def alarm_clock(day, vacation):\n",
    " alarm1='7:00'\n",
    " alarm2='10:00'\n",
    " noalarm='off'\n",
    " if vacation==True:\n",
    "   if day>=1 and day<=5:\n",
    "     return alarm2\n",
    "   else:\n",
    "     return noalarm\n",
    " else:\n",
    "   if day>=1 and day<=5:\n",
    "     return alarm1\n",
    "   else:\n",
    "     return alarm2"
   ]
  },
  {
   "cell_type": "code",
   "execution_count": null,
   "metadata": {},
   "outputs": [],
   "source": [
    "#love6 \n",
    "def love6(a, b):\n",
    " if (a==6 or b==6) or (a+b==6) or (abs(a-b)==6):\n",
    "   return True\n",
    " else:\n",
    "   return False"
   ]
  },
  {
   "cell_type": "code",
   "execution_count": null,
   "metadata": {},
   "outputs": [],
   "source": [
    "#in1to10\n",
    "def in1to10(n, outside_mode):\n",
    " if outside_mode==True:\n",
    "   if n<=1 or n>=10:\n",
    "     return True\n",
    "   else:\n",
    "     return False\n",
    " elif n>=1 and n<=10:\n",
    "    return True\n",
    " else:\n",
    "   return False"
   ]
  },
  {
   "cell_type": "code",
   "execution_count": null,
   "metadata": {},
   "outputs": [],
   "source": [
    "#near_ten \n",
    "def near_ten(num):\n",
    " if num%10<=2 or (num+2)%10<=2:\n",
    "   return True\n",
    " else:\n",
    "  return False"
   ]
  }
 ],
 "metadata": {
  "kernelspec": {
   "display_name": "Python 3",
   "language": "python",
   "name": "python3"
  },
  "language_info": {
   "codemirror_mode": {
    "name": "ipython",
    "version": 3
   },
   "file_extension": ".py",
   "mimetype": "text/x-python",
   "name": "python",
   "nbconvert_exporter": "python",
   "pygments_lexer": "ipython3",
   "version": "3.7.1"
  }
 },
 "nbformat": 4,
 "nbformat_minor": 2
}
