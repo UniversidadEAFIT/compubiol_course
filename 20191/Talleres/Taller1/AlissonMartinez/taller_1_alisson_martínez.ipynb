{
 "cells": [
  {
   "cell_type": "markdown",
   "metadata": {},
   "source": [
    "# Taller número 1 phyton\n",
    "## Alisson Juliana Martínez Acevedo\n",
    "## Código: 201610009183\n",
    "\n",
    "\n",
    "\n",
    "\n",
    "\n"
   ]
  },
  {
   "cell_type": "markdown",
   "metadata": {},
   "source": [
    "### Punto 2\n",
    "### Cuenta  Data Camp https://www.datacamp.com\n",
    "![cap](cap.PNG)\n",
    "\n"
   ]
  },
  {
   "cell_type": "markdown",
   "metadata": {},
   "source": [
    "### Punto 3\n",
    "### Ejercicos de https://codingbat.com/python modalidad \"String-1\" y \"List-1\"\n",
    "\n",
    "### \"String-1\" \n",
    "\n",
    "#### a.\n",
    "\n",
    "![name](name.PNG)\n",
    "\n",
    "#### b.\n",
    "\n",
    "![abba](abba.PNG)\n",
    "\n",
    "\n",
    "\n",
    "### \"List-1\"\n",
    "\n",
    "#### a.\n",
    "\n",
    "![6](6.PNG)\n",
    "\n",
    "### b.\n",
    "\n",
    "![iguales](iguales.PNG)\n",
    "\n"
   ]
  },
  {
   "cell_type": "markdown",
   "metadata": {},
   "source": [
    "### Punto 4 Ejercicios rosalind http://rosalind.info/problems/list-view/?location=python-village\n",
    "\n",
    "#### a.\n",
    "\n",
    "![ros1](ros1.PNG)\n",
    "\n",
    "#### b.\n",
    "\n",
    "![ros2](ros2.PNG)\n",
    "\n",
    "#### c.\n",
    "\n",
    "![ros3](ros3.PNG)\n",
    "\n"
   ]
  },
  {
   "cell_type": "markdown",
   "metadata": {},
   "source": [
    "### Punto 5\n",
    "### Códigos de los ejercicios de https://codingbat.com/python modalidad  \"Warmup-1\" \"y \"Logic-1\"\n",
    "\n",
    "### \"Warmup-1\"\n"
   ]
  },
  {
   "cell_type": "code",
   "execution_count": 2,
   "metadata": {},
   "outputs": [
    {
     "data": {
      "text/plain": [
       "False"
      ]
     },
     "execution_count": 2,
     "metadata": {},
     "output_type": "execute_result"
    }
   ],
   "source": [
    "def sleep_in(weekday, vacation):\n",
    "    if not weekday or vacation:\n",
    "        return True\n",
    "    else:\n",
    "        return False\n",
    "sleep_in(1,0)"
   ]
  },
  {
   "cell_type": "markdown",
   "metadata": {},
   "source": [
    "![sleep](sleep.PNG)"
   ]
  },
  {
   "cell_type": "markdown",
   "metadata": {},
   "source": [
    "\n",
    "### \"Logic-1\""
   ]
  },
  {
   "cell_type": "code",
   "execution_count": 1,
   "metadata": {},
   "outputs": [
    {
     "data": {
      "text/plain": [
       "0"
      ]
     },
     "execution_count": 1,
     "metadata": {},
     "output_type": "execute_result"
    }
   ],
   "source": [
    "def date_fashion(you, date):\n",
    "    if you <= 2 or date <= 2:\n",
    "        return 0\n",
    "    else:  \n",
    "        if you >= 8 or date >= 8:\n",
    "            return 2\n",
    "        else:\n",
    "            return 1\n",
    "\n",
    "date_fashion(5,2)"
   ]
  },
  {
   "cell_type": "markdown",
   "metadata": {},
   "source": [
    "![date](date.PNG)"
   ]
  },
  {
   "cell_type": "code",
   "execution_count": null,
   "metadata": {},
   "outputs": [],
   "source": []
  }
 ],
 "metadata": {
  "kernelspec": {
   "display_name": "Python 3",
   "language": "python",
   "name": "python3"
  },
  "language_info": {
   "codemirror_mode": {
    "name": "ipython",
    "version": 3
   },
   "file_extension": ".py",
   "mimetype": "text/x-python",
   "name": "python",
   "nbconvert_exporter": "python",
   "pygments_lexer": "ipython3",
   "version": "3.6.3"
  }
 },
 "nbformat": 4,
 "nbformat_minor": 2
}
