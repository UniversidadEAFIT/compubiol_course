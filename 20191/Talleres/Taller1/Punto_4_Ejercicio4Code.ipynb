a=4920
b=9905
suma=0

while a<=b:
    if a%2==1:
        suma=a+suma
        a=a+1
    else:
        a=a+1
    
print(suma)