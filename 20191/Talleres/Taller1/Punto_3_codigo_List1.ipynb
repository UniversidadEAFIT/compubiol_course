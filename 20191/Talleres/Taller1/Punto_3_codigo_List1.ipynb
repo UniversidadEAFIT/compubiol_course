def common_end(a, b):
  

if a[-1]==b[-1] or b[0]==a[0]:
    
return True
  else:
    return False