a=858
b=984

c=a*a
d=b*b

resultado = c+d

print (resultado)