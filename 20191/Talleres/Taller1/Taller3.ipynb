{
 "cells": [
  {
   "cell_type": "markdown",
   "metadata": {},
   "source": [
    "### Taller 1. Fundamentos en Biología Computacional -2019"
   ]
  },
  {
   "cell_type": "markdown",
   "metadata": {},
   "source": [
    "\"1.\" Abrir una cuenta en Data Camp https://www.datacamp.com , suscribirse en \"learning Python\""
   ]
  },
  {
   "cell_type": "markdown",
   "metadata": {},
   "source": [
    "\"2.\" Hacer un Notebook en Jupyter con el registro de actividad. Tómele un pantallazo al usuario que creo y subalo al notebook (1 punto)"
   ]
  },
  {
   "cell_type": "markdown",
   "metadata": {},
   "source": [
    "![title](perfil.PNG)"
   ]
  },
  {
   "cell_type": "markdown",
   "metadata": {},
   "source": [
    "\"3.\" Completar el curso de Python al 100% y suber pantallazo del progreso al notebook (2 Puntos)"
   ]
  },
  {
   "cell_type": "markdown",
   "metadata": {},
   "source": [
    "![title](./python2.PNG)"
   ]
  },
  {
   "cell_type": "markdown",
   "metadata": {},
   "source": [
    "\"4.\" Realizar 3 ejercicios de Rosalind y sibir el pantallazo de los tres ejercicios (1 Punto)"
   ]
  },
  {
   "cell_type": "markdown",
   "metadata": {},
   "source": [
    "![title](rosalind3.PNG)"
   ]
  },
  {
   "cell_type": "markdown",
   "metadata": {},
   "source": [
    "\"5.\" Realizar un ejercicio de cada nivel de \"Warmup-1 y Logic-1\" de https://codingbat.com/python y subir el código en el notebook."
   ]
  },
  {
   "cell_type": "code",
   "execution_count": null,
   "metadata": {},
   "outputs": [],
   "source": []
  },
  {
   "cell_type": "markdown",
   "metadata": {},
   "source": [
    "\"6.\" Enviar el notebook de jupyter completo a la carpeta del github del curso https://github.com/UniversidadEAFIT/compubiol_course/tree/master/20191/Talleres/Taller1\n",
    "o en su defecto envíarlo al correo de interactiva."
   ]
  },
  {
   "cell_type": "code",
   "execution_count": null,
   "metadata": {},
   "outputs": [],
   "source": []
  }
 ],
 "metadata": {
  "kernelspec": {
   "display_name": "Python 3",
   "language": "python",
   "name": "python3"
  },
  "language_info": {
   "codemirror_mode": {
    "name": "ipython",
    "version": 3
   },
   "file_extension": ".py",
   "mimetype": "text/x-python",
   "name": "python",
   "nbconvert_exporter": "python",
   "pygments_lexer": "ipython3",
   "version": "3.6.3"
  }
 },
 "nbformat": 4,
 "nbformat_minor": 2
}
