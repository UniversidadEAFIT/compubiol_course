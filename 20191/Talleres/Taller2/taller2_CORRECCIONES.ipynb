{
 "cells": [
  {
   "cell_type": "markdown",
   "metadata": {},
   "source": [
    "# Corrección/Taller 2 - Python\n",
    "## Fundamentos en Biología Computacional\n",
    "## 2019-1, Prof. Javier Correa\n",
    "## Presentado por Luis Alejandro Giraldo\n",
    "Nota: Se calificará que el código sea lo más simple, claro, original y eficiente. No usar funciones no realizadas por ustedes mismos."
   ]
  },
  {
   "cell_type": "markdown",
   "metadata": {},
   "source": [
    "1. Realice un función para expresar cualquier número entero en su conotación factorial. <br>\n",
    "Ejemplo: factorial(4)<br>\n",
    "Out: 24"
   ]
  },
  {
   "cell_type": "code",
   "execution_count": 1,
   "metadata": {},
   "outputs": [
    {
     "data": {
      "text/plain": [
       "24"
      ]
     },
     "execution_count": 1,
     "metadata": {},
     "output_type": "execute_result"
    }
   ],
   "source": [
    "def factorial (x):\n",
    "    i=1\n",
    "    fact=1\n",
    "    while i<=x:\n",
    "        fact=fact*i\n",
    "        i+=1\n",
    "    return fact   \n",
    "\n",
    "factorial(4)\n",
    "#Ojo con la identación\n",
    "# 1 Punto"
   ]
  },
  {
   "cell_type": "markdown",
   "metadata": {},
   "source": [
    "2. Realice un función para expresar la potencia de cualquier número. La función recibe como parámetros la base y el exponencial. <br>\n",
    "Ejemplo: potencia(4,2)<br>\n",
    "Out: 16"
   ]
  },
  {
   "cell_type": "code",
   "execution_count": 2,
   "metadata": {},
   "outputs": [
    {
     "data": {
      "text/plain": [
       "15625"
      ]
     },
     "execution_count": 2,
     "metadata": {},
     "output_type": "execute_result"
    }
   ],
   "source": [
    "def potencia(a,b):\n",
    "    i=1\n",
    "    pot=1\n",
    "    while i<=b:\n",
    "        pot=pot*a\n",
    "        i+=1\n",
    "    return pot \n",
    "\n",
    "potencia(5,6)\n",
    "#Ojo con la identación\n",
    "#1 Punto"
   ]
  },
  {
   "cell_type": "markdown",
   "metadata": {},
   "source": [
    "3. Utilizando las dos funciones anteriormente definidas (factorial y potencia), realice un función para expresar el Coseno de un entero. <br>\n",
    "Ejemplo: coseno(5)<br>\n",
    "Out: 0.996194698"
   ]
  },
  {
   "cell_type": "code",
   "execution_count": 3,
   "metadata": {},
   "outputs": [
    {
     "data": {
      "text/plain": [
       "0.2836621854632355"
      ]
     },
     "execution_count": 3,
     "metadata": {},
     "output_type": "execute_result"
    }
   ],
   "source": [
    "import math #Para usar pi\n",
    "#def potencia(a,b): #Potencia de un número\n",
    "#    i=1\n",
    "#    pot=1\n",
    "#    while i<=b:\n",
    "#        pot=pot*a\n",
    "#        i+=1\n",
    "#    return pot \n",
    "\n",
    "#def factorial (x): #Factorial de un número\n",
    "#    i=1\n",
    "#    fact=1\n",
    "#    while i<=x:\n",
    "#        fact=fact*i\n",
    "#        i+=1\n",
    "#    return fact   \n",
    "\n",
    "def coseno(x):\n",
    "    #x=x*(math.pi/180)  #Grados a radianes. La función coseno recibe valores de x en radianes\n",
    "    i=2\n",
    "    neg=0\n",
    "    j=4\n",
    "    pos=0\n",
    "    result=0\n",
    "    while i<100: #Valores negativos del coseno. Con 100 iteraciones se obtiene una buena resolución de la función coseno\n",
    "        neg=neg-(potencia(x,i)/factorial(i))\n",
    "        i+=4\n",
    "    while j<100: #Valores positivos del coseno\n",
    "        pos=pos+(potencia(x,j)/factorial(j))\n",
    "        j+=4\n",
    "    result= 1+neg+pos  \n",
    "    return result   \n",
    "   \n",
    "coseno(5)\n",
    "\n",
    "#Ojo con la identación\n",
    "#1 punto"
   ]
  },
  {
   "cell_type": "code",
   "execution_count": 8,
   "metadata": {},
   "outputs": [
    {
     "data": {
      "image/png": "[encoded data removed]",
      "text/plain": [
       "<matplotlib.figure.Figure at 0x1129b6e80>"
      ]
     },
     "metadata": {},
     "output_type": "display_data"
    }
   ],
   "source": [
    "#Graficar el coseno en el tiempo\n",
    "import matplotlib.pyplot as plt\n",
    "x = np.arange(0, 4*math.pi, 0.1)\n",
    "y = coseno(x)\n",
    "plt.plot(x,y)\n",
    "plt.show()"
   ]
  },
  {
   "cell_type": "code",
   "execution_count": 17,
   "metadata": {},
   "outputs": [],
   "source": [
    "#Graficando el coseno con ipywidgets\n",
    "from ipywidgets import interact, interactive, fixed, interact_manual\n",
    "import ipywidgets as widgets\n",
    "from IPython.display import display\n",
    "import matplotlib.pyplot as plt\n",
    "import numpy as np\n",
    "def func(Grados):\n",
    "    k = np.arange(0, Grados*math.pi, 0.1)\n",
    "    y = coseno(k)\n",
    "    plt.plot(k,y)\n",
    "    plt.show()\n",
    "    return (y)"
   ]
  },
  {
   "cell_type": "code",
   "execution_count": 18,
   "metadata": {},
   "outputs": [
    {
     "data": {
      "application/vnd.jupyter.widget-view+json": {
       "model_id": "c10a3deed55848edba787250a17db75d",
       "version_major": 2,
       "version_minor": 0
      },
      "text/plain": [
       "interactive(children=(Dropdown(description='Grados', options=(0.5, 1, 2, 4, 8, 12), value=0.5), Output()), _do…"
      ]
     },
     "metadata": {},
     "output_type": "display_data"
    }
   ],
   "source": [
    "R=interactive(func,Grados=[0.5,1,2,4,8,12])\n",
    "display(R)"
   ]
  },
  {
   "cell_type": "markdown",
   "metadata": {},
   "source": [
    "4. Dadas las cantidades de individuos con los genótipos AA, AB y BB. Calcular la frecuencia de los alelos A y B <br>\n",
    "Ejemplo: FrecuenciaAlelos(12,4,4) <br>\n",
    "Out: (0.7, 0.3)"
   ]
  },
  {
   "cell_type": "code",
   "execution_count": 19,
   "metadata": {},
   "outputs": [
    {
     "data": {
      "text/plain": [
       "[0.7, 0.3]"
      ]
     },
     "execution_count": 19,
     "metadata": {},
     "output_type": "execute_result"
    }
   ],
   "source": [
    "def alelos(a,b,c):\n",
    "    den=a+b+c  \n",
    "    frec=[(a+(b/2))/den,((b/2)+c)/den]\n",
    "    return frec\n",
    "\n",
    "alelos(12,4,4)\n",
    "#Ojo con la identación\n",
    "#1 punto"
   ]
  },
  {
   "cell_type": "markdown",
   "metadata": {},
   "source": [
    "5. Dada una cadena de DNA retornar una de (-) RNA en sentido 5'-> 3' <br>\n",
    "Ejemplo: DNA_to_RNA(\"TCTCTACTCATGTCTGCA\")<br>\n",
    "Out: GUACUCACGUCUGCUCUC"
   ]
  },
  {
   "cell_type": "code",
   "execution_count": 22,
   "metadata": {},
   "outputs": [
    {
     "data": {
      "text/plain": [
       "'GUACUCACGUCUGCUCUC'"
      ]
     },
     "execution_count": 22,
     "metadata": {},
     "output_type": "execute_result"
    }
   ],
   "source": [
    "def dnaArna(secuencia): #Me dan una secuencia de DNA en sentido 3'-5' . Se genera el -RNA en sentido 3'-5'; se reporta en 5'-3'\n",
    "    rna = \"\"\n",
    "    for i in secuencia: #En últimas, el cambio de la secuencia en 3'-5' a -RNA puede entender como cambiar las T por C, A por G, U por G y G por A\n",
    "        if(i == \"T\"):\n",
    "            rna += \"C\"\n",
    "        if(i ==\"A\"):\n",
    "            rna +=\"G\"\n",
    "        if(i == \"C\"):\n",
    "            rna +=\"U\"\n",
    "        if(i == \"G\"):\n",
    "            rna +=\"A\"\n",
    "    return rna [::-1]\n",
    "\n",
    "dnaArna('TCTCTACTCATGTCTGCA')\n",
    "#Muy buena la alternativa\n",
    "#Ojo con la identación\n",
    "#1 punto"
   ]
  },
  {
   "cell_type": "markdown",
   "metadata": {},
   "source": [
    "6. Realizar una función que calcule la Temperatura de Melting Promedio de un par de primers de DNA en grados Celcius. Teniendo en cuenta que; en un oligonucleótido < de 14 nucleótidos, la Tm se calcula multiplicando la cantidad de G+C por 4 y las A+T por 2. Mientras que, si es >= de 14 nt, se debe aplicar la siguiente fórmula (64.9 + 41 * (totalG+C -16.4) / Tamaño sel oligo). <br>\n",
    "Ejemplo: tempromelt(TCTCTACTCATGTCTGCA, TCGCGTGCACGTG)<br>\n",
    "Out: 44.88333333333334"
   ]
  },
  {
   "cell_type": "code",
   "execution_count": 23,
   "metadata": {},
   "outputs": [
    {
     "data": {
      "text/plain": [
       "44.88333333333334"
      ]
     },
     "execution_count": 23,
     "metadata": {},
     "output_type": "execute_result"
    }
   ],
   "source": [
    "def Tm(a,b):\n",
    "    Tma=0;Tmb=0;GCa=0;ATa=0;GCb=0;ATb=0;i=0;j=0\n",
    "    while i<len(a): #Conteo de GC y TA en secuencia a\n",
    "        if a[i]=='G' or a[i]=='C':\n",
    "            GCa+=1\n",
    "        else:\n",
    "            ATa+=1  \n",
    "        i+=1\n",
    "    while j<len(b):#Conteo de GC y TA en secuencia b\n",
    "        if b[j]=='G' or b[j]=='C':\n",
    "            GCb+=1\n",
    "        else:\n",
    "            ATb+=1  \n",
    "        j+=1\n",
    "    if GCa+ATa<14: #Tm según tamaño del primer\n",
    "        Tma=2*ATa+4*GCa\n",
    "    else:\n",
    "        Tma=64.9+41*(GCa-16.4)/18 \n",
    "    if GCb+ATb<14:\n",
    "        Tmb=2*ATb+4*GCb\n",
    "    else:\n",
    "        Tmb=64.9+41*(GCb-16.4)/18   \n",
    "    return (Tma+Tmb)/2\n",
    "\n",
    "Tm('TCTCTACTCATGTCTGCA','TCGCGTGCACGTG')\n",
    "#También hubieras podido hace solo una función para determinar el tm y luego usarla para las dos temperaturas y hacer un promedio\n",
    "#0.7 Puntos"
   ]
  },
  {
   "cell_type": "code",
   "execution_count": 26,
   "metadata": {},
   "outputs": [
    {
     "data": {
      "text/plain": [
       "43.57777777777778"
      ]
     },
     "execution_count": 26,
     "metadata": {},
     "output_type": "execute_result"
    }
   ],
   "source": [
    "#Propuesta de código orientado en funciones, usando métodis y sin tanto ciclos\n",
    "def temp_melt(seq):\n",
    "    seqlen = (len(seq))\n",
    "    TM = 0\n",
    "    nA = seq.count(\"A\")\n",
    "    nC = seq.count(\"C\")\n",
    "    nT = seq.count(\"G\")\n",
    "    nG = seq.count(\"T\")\n",
    "    totalstrong = nG + nC\n",
    "    totalweak = nA + nT\n",
    "    if seqlen >= 14:\n",
    "        TM = 64.9 + 41 * (totalstrong -16.4) / seqlen\n",
    "    else:\n",
    "        TM = (4 * totalstrong) + (2* totalweak)\n",
    "    return (TM)\n",
    "\n",
    "def optimal_tm(T1, T2):\n",
    "    To = ((T1 + T2)/ 2) -5.0\n",
    "    return (To)\n",
    "\n",
    "def tempromelt(seq1,seq2):\n",
    "    temps=[]\n",
    "    temps.append(temp_melt(seq1))\n",
    "    temps.append(temp_melt(seq2))\n",
    "    return (optimal_tm(temps[0], temps[1]))\n",
    "\n",
    "tempromelt('TCTCTACTCATGTCTGCA','TCGCGTGCACGTG')"
   ]
  },
  {
   "cell_type": "markdown",
   "metadata": {},
   "source": [
    "7. Hallar la distancia Hamming entre dos secuencias dadas de polipéptidos. <br>\n",
    "link: https://es.wikipedia.org/wiki/Distancia_de_Hamming <br>\n",
    "Ejemplo: distancia_Hamming(\"SRSLLLRFLMSRSLLLRFLLFLLLLPPLPLFLLLLPPL\",\"SRSLLLRFLSSRSLLLRFLLFLLLLAALALFLLLLSML\")<br>\n",
    "Out:6"
   ]
  },
  {
   "cell_type": "code",
   "execution_count": 1,
   "metadata": {},
   "outputs": [
    {
     "data": {
      "text/plain": [
       "'La distancia Hamming es: 6'"
      ]
     },
     "execution_count": 1,
     "metadata": {},
     "output_type": "execute_result"
    }
   ],
   "source": [
    "def distancia_Hamming(polipeptido1,polipeptido2):\n",
    "    i=1\n",
    "    suma=0\n",
    "    if len(polipeptido1)==len(polipeptido2):\n",
    "        while i<=len(polipeptido1)-1:\n",
    "            if polipeptido1[i]!=polipeptido2[i]:\n",
    "                suma=suma+1\n",
    "            i=i+1\n",
    "        return \"La distancia Hamming es: \"+str(suma)\n",
    "    else:\n",
    "        return \"Los polipéptidos no son iguales\"\n",
    "\n",
    "distancia_Hamming(\"SRSLLLRFLMSRSLLLRFLLFLLLLPPLPLFLLLLPPL\",\"SRSLLLRFLSSRSLLLRFLLFLLLLAALALFLLLLSML\")"
   ]
  },
  {
   "cell_type": "markdown",
   "metadata": {},
   "source": [
    "8. Dada la tabla de codones estandar, hacer una función para traducir una cadena de DNA empezando desde la posición 1 <br>\n",
    "Ejemplo: traducir(\"ATGGCGCGTATGAATAGCAATCCGAGCGCATGCCATGTTTGCCATGCGGCTCTGGCGGTCATTGATGCGTGCAATAACAATACCCGTAATAGCAATATCAATAGCTAA\")<br>\n",
    "Out: Met A R Met N S N P S A C H V C H A A L A V I D A C N N N T R N S N I N S Stop"
   ]
  },
  {
   "cell_type": "code",
   "execution_count": 49,
   "metadata": {},
   "outputs": [],
   "source": [
    "Codones={'ATG':'M','ACA':'T', 'ACC':'T', 'ACG':'T',\n",
    "         'ACT':'T','ATA':'I', 'ATC':'I', 'ATT':'I', \n",
    "         'AAC':'N', 'AAT':'N', 'AAA':'K', 'AAG':'K',\n",
    "         'AGC':'S', 'AGT':'S', 'CAA':'Q', 'CAG':'Q',\n",
    "         'GTA':'V', 'GTC':'V', 'GTG':'V', 'GTT':'V',\n",
    "         'CCA':'P', 'CCC':'P', 'CCG':'P', 'CCT':'P',\n",
    "         'CAC':'H', 'CAT':'H', 'AGA':'R', 'AGG':'R',\n",
    "         'CGA':'R', 'CGC':'R', 'CGG':'R', 'CGT':'R',\n",
    "         'CTA':'L', 'CTC':'L', 'CTG':'L', 'CTT':'L',\n",
    "         'GCA':'A', 'GCC':'A', 'GCG':'A', 'GCT':'A',\n",
    "         'GAC':'D', 'GAT':'D', 'GAA':'E', 'GAG':'E',\n",
    "         'GGA':'G', 'GGC':'G', 'GGG':'G', 'GGT':'G',\n",
    "         'TCA':'S', 'TCC':'S', 'TCG':'S', 'TCT':'S',\n",
    "         'TTC':'F', 'TTT':'F', 'TTA':'L', 'TTG':'L',\n",
    "         'TAC':'Y', 'TAT':'Y', 'TGC':'C', 'TGT':'C', \n",
    "         'TGA':'.', 'TGG':'W','TAA':'.', 'TAG':'.',}"
   ]
  },
  {
   "cell_type": "code",
   "execution_count": 50,
   "metadata": {},
   "outputs": [
    {
     "data": {
      "text/plain": [
       "'MARMNSNPSACHVCHAALAVIDACNNNTRNSNINS.'"
      ]
     },
     "execution_count": 50,
     "metadata": {},
     "output_type": "execute_result"
    }
   ],
   "source": [
    "def traducir(dna):\n",
    "    peptido=[]\n",
    "    fin = len(dna)-(len(dna)%3)-1\n",
    "    for i in range(0,fin,3):\n",
    "        codon = dna[i:i+3]\n",
    "        if codon in Codones:\n",
    "            aa = Codones[codon]\n",
    "            peptido.append(aa)\n",
    "    return \"\".join(peptido)\n",
    "\n",
    "\n",
    "traducir('ATGGCGCGTATGAATAGCAATCCGAGCGCATGCCATGTTTGCCATGCGGCTCTGGCGGTCATTGATGCGTGCAATAACAATACCCGTAATAGCAATATCAATAGCTAA')\n",
    "#Muy bien\n",
    "#Ojo a la identación"
   ]
  },
  {
   "cell_type": "markdown",
   "metadata": {},
   "source": [
    "9. Usando la función anterior, traducir la secuencia de DNA dada en los 6 frames posibles para producir un polipéptido.\n",
    "Ejemplo: traducirALL(\"ATGGCGCGTATGAATAGCAATCCGAGCGCATGCCATGTTTGCCATGCGGCTCTGGCGGTCATTGATGCGTGCAATAACAATACCCGTAATAGCAATATCAATAGCTAA\")<br>\n",
    "Out: (Frame1:Met A R Met N S N P S A C H V C H A A L A V I D A C N N N T R N S N I N S Stop, Frame2:W R V Stop I A I R A H A Met F A Met R L W R S L Met R A I T I P V I A I S I A, Frame3:G A Y E Stop Q S E R Met P C L P C G S G G H Stop C V Q Stop Q Y P Stop Stop Q Y Q Stop L, Frame4:L A I D I A I T G I V I A R I N D R Q S R Met A N Met A C A R I A I H T R H, Frame5:Stop L L I L L L R V L L L H A S Met T A R A A W Q T W H A L G L L F I R A, Frame6:S Y Stop Y C Y Y G Y C Y C T H Q Stop P P E P H G K H G Met R S D C Y S Y A P)"
   ]
  },
  {
   "cell_type": "code",
   "execution_count": 51,
   "metadata": {},
   "outputs": [
    {
     "name": "stdout",
     "output_type": "stream",
     "text": [
      "Frame 1:MARMNSNPSACHVCHAALAVIDACNNNTRNSNINS\n",
      "Frame 2:WRV.IAIRAHAMFAMRLWRSLMRAITIPVIAISIA\n",
      "Frame 3:GAYE.QSERMPCLPCGSGGH.CVQ.QYP..QYQ.L\n",
      "Frame 4:LAIDIAITGIVIARINDRQSRMANMACARIAIHTR\n",
      "Frame 5:.LLILLLRVLLLHASMTARAAWQTWHALGLLFIRA\n",
      "Frame 6:SY.YCYYGYCYCTHQ.PPEPHGKHGMRSDCYSYAP\n"
     ]
    }
   ],
   "source": [
    "def secvolteada(dna):\n",
    "    complemento = {'A': 'T', 'C': 'G', 'G': 'C', 'T': 'A'}\n",
    "    return ''.join([complemento[base] for base in dna[::-1]]) \n",
    "\n",
    "def frames (seq): \n",
    "    i=0;j=0; \n",
    "    while i<3:\n",
    "        contador=str(i+1)\n",
    "        print('Frame '+contador+':'+traducir(seq[i:len(seq)-1]))\n",
    "        i+=1\n",
    "    while j<3:\n",
    "        contador=str(j+4)\n",
    "        reversocomp=secvolteada(seq)\n",
    "        print('Frame '+contador+':'+traducir(reversocomp[j:len(seq)-1]))\n",
    "        j+=1\n",
    "   \n",
    "        \n",
    "frames (\"ATGGCGCGTATGAATAGCAATCCGAGCGCATGCCATGTTTGCCATGCGGCTCTGGCGGTCATTGATGCGTGCAATAACAATACCCGTAATAGCAATATCAATAGCTAA\")\n",
    "#Excelente!\n",
    "#1 Punto"
   ]
  },
  {
   "cell_type": "markdown",
   "metadata": {},
   "source": [
    "10. Su código genético es esencialmente el mismo desde que nace hasta que muere, y el mismo en su sangre y su cerebro. Los genes que se activan y desactivan marcan la diferencia entre las células. Esta regulación de los genes está orquestada por un mecanismo inmensamente complejo, que solo hemos empezado a comprender. Una parte central de este mecanismo consiste en moléculas llamadas factores de transcripción que se adhieren al ADN, y al hacerlo, activan o desactivan los genes cercanos. Estas moléculas se unen preferentemente a secuencias específicas de ADN, y este patrón de preferencia de unión puede representarse mediante una tabla de frecuencias de símbolos dados en cada posición del patrón. Más precisamente, cada fila en la tabla corresponde a las bases A, C, G y T, mientras que la columna j refleja cuántas veces aparece la base en la posición j en la secuencia del ADN.\n",
    "\n",
    "    Por ejemplo; si nuestro conjunto de secuencias de ADN son TAG, GGT y GGG, la tabla se convierte en\n",
    "\n",
    "\n",
    "|base|\t0|\t1|\t2|\n",
    "|----|---|---|---|\n",
    "|A\t|0\t|1\t|0  |\n",
    "|C\t|0\t|0\t|0  |\n",
    "|G \t|2\t|2\t|2  |\n",
    "|T\t|1\t|0\t|1  |\n",
    "\n",
    "De esta tabla podemos leer que la base A aparece una vez en el índice 1 en las cadenas de ADN, la base C no aparece en absoluto, la base G aparece dos veces en todas las posiciones y la base T aparece una vez al principio y al final de las cadenas.\n",
    "\n",
    "a. Dada una lista de Strings con motivos de 4 nucleótidos, construir una matriz de frecuencias para las posiciones de los 4 nucleótidos. \n",
    "\n",
    "Ejemplo:<br>\n",
    "listamotivos =[\"ACTG\", \"CCAG\", \"AGAG\", \"CGTA\"]<br>\n",
    "MatrizFrecuencia(listamotivos)<br>\n",
    "Out: [[2, 0, 2, 1]<br>\n",
    " [2, 2, 0, 0]<br>\n",
    " [0, 2, 0, 3]<br>\n",
    " [0, 0, 2, 0]]<br>\n",
    " \n",
    "b. Realizar una función que retorne el nucleótido que más frecuencia obtuvo por posición. Si tienen la misma frecuecia retornar los valores iguales. <br>\n",
    "Ejemplo:<br>\n",
    "FrecuenciaMayorNt(MatrizFrecuencia(listamotivos))<br>\n",
    "Out: [[A:0.5, C:0.5],<br>\n",
    "[C:0.5,G:0.5],<br>\n",
    "[A:0.5,T:0.5],<br>\n",
    "[G:0.75]]<br>"
   ]
  },
  {
   "cell_type": "code",
   "execution_count": 43,
   "metadata": {},
   "outputs": [
    {
     "data": {
      "text/plain": [
       "[[2, 0, 2, 1], [2, 2, 0, 0], [0, 2, 0, 3], [0, 0, 2, 0]]"
      ]
     },
     "execution_count": 43,
     "metadata": {},
     "output_type": "execute_result"
    }
   ],
   "source": [
    "def conteo(lista): #Inciso A\n",
    "    w=4;i=0;j=0\n",
    "    frec=[[0 for x in range(w)] for y in range(w)]#Defino mi matriz de tamaño 4x4\n",
    "    while i<4: #Ciclo externo\n",
    "        j=0 #Ciclo interno. Siempre recorro las posiciones externas primero. Es decir, me muevo entre filas, luego columnas\n",
    "        while j<4:\n",
    "            if lista[j][i]=='A': #Si encuentro un nucleótido, lo agrego a una posición fija. A a la fila 0, C a la 1, G a la 2, T a la 3\n",
    "                frec[0][i]+=1\n",
    "            elif lista[j][i]=='C':\n",
    "                frec[1][i]+=1\n",
    "            elif lista[j][i]=='G':\n",
    "                frec[2][i]+=1\n",
    "            elif lista[j][i]=='T':\n",
    "                frec[3][i]+=1\n",
    "            j+=1\n",
    "        i+=1    \n",
    "    return(frec)\n",
    "\n",
    "conteo([\"ACTG\", \"CCAG\", \"AGAG\", \"CGTA\"])\n",
    "#Excelente, También lo habrías podido hacer con numpy\n",
    "#Solo funcionaría para secuencias de 4 nt\n",
    "#0.5"
   ]
  },
  {
   "cell_type": "code",
   "execution_count": 46,
   "metadata": {},
   "outputs": [
    {
     "data": {
      "text/plain": [
       "[['A: 0.5', 'C: 0.5', 'G: 0.0', 'T: 0.0'],\n",
       " ['A: 0.0', 'C: 0.5', 'G: 0.5', 'T: 0.0'],\n",
       " ['A: 0.5', 'C: 0.0', 'G: 0.0', 'T: 0.5'],\n",
       " ['A: 0.25', 'C: 0.0', 'G: 0.75', 'T: 0.0']]"
      ]
     },
     "execution_count": 46,
     "metadata": {},
     "output_type": "execute_result"
    }
   ],
   "source": [
    "def frecletra(matriz):\n",
    "    matriz=conteo([\"ACTG\", \"CCAG\", \"AGAG\", \"CGTA\"])\n",
    "    w=4;i=0;j=0; \n",
    "    posición=[[0 for x in range(w)] for y in range(w)]\n",
    "    matrizf=[[0 for x in range(w)] for y in range(w)]\n",
    "    letras=[[0 for x in range(w)] for y in range(w)]\n",
    "    while i<4:\n",
    "        j=0\n",
    "        while j<4:\n",
    "            matrizf[i][j]=matriz[i][j]/4 #Primero debo llenar la matríz de frecuencias. Sólo sirve para los 4 nucleótidos, pero se puede modificar para que sirva con cualquier tamaño\n",
    "            j+=1\n",
    "        i+=1       \n",
    "    i=0; j=0\n",
    "    while i<4:\n",
    "        j=0\n",
    "        while j<4:\n",
    "            matrizf[i][j]=matriz[i][j]/4\n",
    "            posición[i][j]=matrizf[j][i] #Luego lleno la matriz de frecuencia por posición: cada dimensión [i] de la matríz corresponde  a una posición\n",
    "            if j==0:\n",
    "                letras[i][j]= 'A: '+ str(posición[i][j])\n",
    "            if j==1:\n",
    "                letras[i][j]= 'C: '+ str(posición[i][j])\n",
    "            if j==2:\n",
    "                letras[i][j]= 'G: '+ str(posición[i][j])\n",
    "            if j==3:\n",
    "                letras[i][j]= 'T: '+ str(posición[i][j])\n",
    "            j+=1\n",
    "        i+=1       \n",
    "    return(letras)  #Creo que es más informativo indicar la frecuencia relativa que tiene cada nucleótido por posición, no solamente el mayor. Estoy seguro de que este código \n",
    "#se puede optimizar mucho.\n",
    "\n",
    "frecletra(conteo([\"ACTG\", \"CCAG\", \"AGAG\", \"CGTA\"]))\n",
    "#Excelente, También lo habrías podido hacer con numpy\n",
    "#Solo funcionaría para secuencias de 4 nt\n",
    "#Faltó la parte de escojer el(los) valor(es) mas altos\n",
    "#0.5"
   ]
  },
  {
   "cell_type": "code",
   "execution_count": 52,
   "metadata": {},
   "outputs": [
    {
     "name": "stdout",
     "output_type": "stream",
     "text": [
      "(['A', 'C', '0', '0'], [0.5, 0.5])\n",
      "(['0', 'C', 'G', '0'], [0.5, 0.5])\n",
      "(['A', '0', '0', 'T'], [0.5, 0.5])\n",
      "(['0', '0', 'G', '0'], [0.75])\n"
     ]
    }
   ],
   "source": [
    "#Alternativa de David Carmona\n",
    "def numbases(lista):\n",
    "    A=[0]*len(lista[0])\n",
    "    T=[0]*len(lista[0])\n",
    "    C=[0]*len(lista[0])\n",
    "    G=[0]*len(lista[0])\n",
    "    for x in range(len(lista[0])):\n",
    "        Aa=0\n",
    "        Tt=0\n",
    "        Gg=0\n",
    "        Cc=0\n",
    "        for i in range(len(lista)):\n",
    "            if lista[i][x]=='A':\n",
    "                Aa=Aa+1\n",
    "            elif lista[i][x]=='T':\n",
    "                Tt=Tt+1\n",
    "            elif lista[i][x]=='G':\n",
    "                Gg=Gg+1\n",
    "            elif lista[i][x]=='C':\n",
    "                Cc=Cc+1\n",
    "        A[x]=Aa\n",
    "        C[x]=Cc\n",
    "        G[x]=Gg\n",
    "        T[x]=Tt\n",
    "\n",
    "    resultado=[A,C,G,T]\n",
    "    return(resultado)\n",
    "\n",
    "numbases([\"ACTG\",\"CCAG\",\"AGAG\",\"CGTA\"])\n",
    "\n",
    "# Aquí empieza el punto B\n",
    "\n",
    "def frecuencia(lista,posicion):\n",
    "    numerobases=numbases([\"ACTG\",\"CCAG\",\"AGAG\",\"CGTA\"])\n",
    "    freq=[0]*len(numerobases[0])\n",
    "    for i in range(len(numerobases[0])):\n",
    "        freq[i]=numerobases[i][posicion]/len(numerobases[0])\n",
    "    return(freq)\n",
    "\n",
    "def Elmayor(lista,posicion):\n",
    "    freq=frecuencia(lista,posicion) \n",
    "    mayor=max(freq)\n",
    "    size=0\n",
    "    for i in range(len(freq)):\n",
    "        if freq[i]==mayor:\n",
    "            size=size+1\n",
    "    posmayores=[0]*len(freq)\n",
    "    lista=[0]*size\n",
    "    for i in range(len(freq)):\n",
    "        if freq[i]==mayor:\n",
    "            for j in range(size):\n",
    "                posmayores[i]=i+1\n",
    "                lista[j]=freq[i]\n",
    "    return(posmayores,lista)\n",
    "        \n",
    "\n",
    "def end(lista,posicion):\n",
    "    xx=Elmayor(lista,posicion)\n",
    "    for ww in range(4):\n",
    "        if xx[0][ww]==1:\n",
    "            xx[0][ww]='A'\n",
    "        elif xx[0][ww]==2:\n",
    "            xx[0][ww]='C'\n",
    "        elif xx[0][ww]==3:\n",
    "            xx[0][ww]='G'\n",
    "        elif xx[0][ww]==4:\n",
    "            xx[0][ww]='T'\n",
    "    for ww in range(4):\n",
    "        xx[0][ww]=str(xx[0][ww])\n",
    "    return(xx)\n",
    "\n",
    "end([\"ACTG\", \"CCAG\", \"AGAG\", \"CGTA\"],0)\n",
    "\n",
    "for d in range (4):\n",
    "    print(end([\"ACTG\", \"CCAG\", \"AGAG\", \"CGTA\"],d))"
   ]
  },
  {
   "cell_type": "code",
   "execution_count": null,
   "metadata": {},
   "outputs": [],
   "source": []
  }
 ],
 "metadata": {
  "kernelspec": {
   "display_name": "Python 3",
   "language": "python",
   "name": "python3"
  },
  "language_info": {
   "codemirror_mode": {
    "name": "ipython",
    "version": 3
   },
   "file_extension": ".py",
   "mimetype": "text/x-python",
   "name": "python",
   "nbconvert_exporter": "python",
   "pygments_lexer": "ipython3",
   "version": "3.6.3"
  }
 },
 "nbformat": 4,
 "nbformat_minor": 2
}
