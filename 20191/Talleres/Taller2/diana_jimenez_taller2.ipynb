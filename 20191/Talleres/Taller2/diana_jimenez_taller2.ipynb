{
 "cells": [
  {
   "cell_type": "markdown",
   "metadata": {},
   "source": [
    "# Taller 2 - Python\n",
    "## Fundamentos en Biología Computacional\n",
    "## 2019-1, Prof. Javier Correa\n",
    "Nota: Se calificará que el código sea lo más simple, claro, original y eficiente. No usar funciones no realizadas por ustedes mismos."
   ]
  },
  {
   "cell_type": "markdown",
   "metadata": {},
   "source": [
    "1. Realice un función para expresar cualquier número entero en su conotación factorial. <br>\n",
    "Ejemplo: factorial(4)<br>\n",
    "Out: 24"
   ]
  },
  {
   "cell_type": "code",
   "execution_count": 14,
   "metadata": {},
   "outputs": [],
   "source": [
    "def factorial(numero):\n",
    "    f=1\n",
    "    n=1\n",
    "    while (n<=numero):\n",
    "        f=f*n\n",
    "        n=n+1\n",
    "    return f\n"
   ]
  },
  {
   "cell_type": "code",
   "execution_count": 2,
   "metadata": {},
   "outputs": [
    {
     "name": "stdout",
     "output_type": "stream",
     "text": [
      "24\n"
     ]
    }
   ],
   "source": [
    "print(factorial(4))"
   ]
  },
  {
   "cell_type": "markdown",
   "metadata": {},
   "source": [
    "2. Realice un función para expresar la potencia de cualquier número. La función recibe como parámetros la base y el exponencial. <br>\n",
    "Ejemplo: potencia(4,2)<br>\n",
    "Out: 16"
   ]
  },
  {
   "cell_type": "code",
   "execution_count": 9,
   "metadata": {},
   "outputs": [],
   "source": [
    "def potencia(n,p):\n",
    "    return n**p #donde n es la base y p el exponente \n",
    "\n",
    "    "
   ]
  },
  {
   "cell_type": "code",
   "execution_count": 10,
   "metadata": {},
   "outputs": [
    {
     "name": "stdout",
     "output_type": "stream",
     "text": [
      "81\n"
     ]
    }
   ],
   "source": [
    "print(potencia(3,4)) "
   ]
  },
  {
   "cell_type": "markdown",
   "metadata": {},
   "source": [
    "3. Utilizando las dos funciones anteriormente definidas (factorial y potencia), realice un función para expresar el Coseno de un entero. <br>\n",
    "Ejemplo: coseno(5)<br>\n",
    "Out: 0.996194698"
   ]
  },
  {
   "cell_type": "code",
   "execution_count": 15,
   "metadata": {},
   "outputs": [],
   "source": [
    "import math\n",
    "def coseno(numero):\n",
    "    cose=1\n",
    "    i=1\n",
    "    numero = (numero*math.pi)/180\n",
    "    while (i<=20):\n",
    "        cose = cose + ((potencia (-1, i)* potencia(numero,2*i))/ factorial(2*i))\n",
    "        i = i + 1\n",
    "    return cose"
   ]
  },
  {
   "cell_type": "code",
   "execution_count": 16,
   "metadata": {},
   "outputs": [
    {
     "name": "stdout",
     "output_type": "stream",
     "text": [
      "0.9961946980917454\n"
     ]
    }
   ],
   "source": [
    "print(coseno(5))"
   ]
  },
  {
   "cell_type": "markdown",
   "metadata": {},
   "source": [
    "4. Dadas las cantidades de individuos con los genótipos AA, AB y BB. Calcular la frecuencia de los alelos A y B <br>\n",
    "Ejemplo: FrecuenciaAlelos(12,4,4) <br>\n",
    "Out: (0.7, 0.3)"
   ]
  },
  {
   "cell_type": "code",
   "execution_count": 37,
   "metadata": {},
   "outputs": [],
   "source": [
    "def FrecuenciaAlelica(AA,AB,BB):\n",
    "    a1=AA/(AA+AB+BB)\n",
    "    b1=AB/(AA+AB+BB)\n",
    "    c1=BB/(AA+AB+BB)\n",
    "    alelo1=a1+b1/2\n",
    "    alelo2=c1+b1/2\n",
    "    return (alelo1,alelo2)"
   ]
  },
  {
   "cell_type": "code",
   "execution_count": 38,
   "metadata": {},
   "outputs": [
    {
     "name": "stdout",
     "output_type": "stream",
     "text": [
      "(0.6000000000000001, 0.4)\n"
     ]
    }
   ],
   "source": [
    "print(FrecuenciaAlelica(400,400,200))"
   ]
  },
  {
   "cell_type": "markdown",
   "metadata": {},
   "source": [
    "5. Dada una cadena de DNA retornar una de (-) RNA en sentido 5'-> 3' <br>\n",
    "Ejemplo: DNA_to_RNA(\"TCTCTACTCATGTCTGCA\")<br>\n",
    "Out: GUACUCACGUCUGCUCUC"
   ]
  },
  {
   "cell_type": "code",
   "execution_count": 39,
   "metadata": {},
   "outputs": [],
   "source": [
    "def DNA_to_RNA(cadena):\n",
    "    return (cadena.replace(\"T\",\"U\"))"
   ]
  },
  {
   "cell_type": "code",
   "execution_count": 40,
   "metadata": {},
   "outputs": [
    {
     "name": "stdout",
     "output_type": "stream",
     "text": [
      "UCUCUACUCAUGUCUGCA\n"
     ]
    }
   ],
   "source": [
    "print(DNA_to_RNA(\"TCTCTACTCATGTCTGCA\"))"
   ]
  },
  {
   "cell_type": "markdown",
   "metadata": {},
   "source": [
    "6. Realizar una función que calcule la Temperatura de Melting Promedio de un par de primers de DNA en grados Celcius. Teniendo en cuenta que; en un oligonucleótido < de 14 nucleótidos, la Tm se calcula multiplicando la cantidad de G+C por 4 y las A+T por 2. Mientras que, si es >= de 14 nt, se debe aplicar la siguiente fórmula (64.9 + 41 * (totalG+C -16.4) / Tamaño sel oligo). <br>\n",
    "Ejemplo: tempromelt(TCTCTACTCATGTCTGCA, TCGCGTGCACGTG)<br>\n",
    "Out: 44.88333333333334"
   ]
  },
  {
   "cell_type": "code",
   "execution_count": 2,
   "metadata": {},
   "outputs": [],
   "source": [
    "def tempromelt(cadena):\n",
    "    G=0\n",
    "    C=0\n",
    "    A=0\n",
    "    T=0\n",
    "    i=0\n",
    "    temperatura=0\n",
    "    while (i<len(cadena)):\n",
    "        if (cadena[i]=='G'):\n",
    "            G=G+1\n",
    "        elif (cadena[i]=='C'):\n",
    "            C=C+1\n",
    "        elif (cadena[i]=='A'):\n",
    "            A=A+1\n",
    "        elif (cadena[i]=='T'):\n",
    "            T=T+1\n",
    "        i=i+1\n",
    "    if (len(cadena)<14):\n",
    "        temperatura=(4*(G+C))+(2*(A+T))\n",
    "    elif (len(cadena)>=14):\n",
    "        temperatura= (64.9+41*((G+C)-16.4)/len(cadena))\n",
    "    return temperatura       \n",
    "        \n",
    "        "
   ]
  },
  {
   "cell_type": "code",
   "execution_count": 3,
   "metadata": {},
   "outputs": [],
   "source": [
    "def tempeoligo(oligo1,oligo2):\n",
    "    oligo1=tempromelt(oligo1)\n",
    "    oligo2=tempromelt(oligo2)\n",
    "    return((oligo1+oligo2)/2)"
   ]
  },
  {
   "cell_type": "code",
   "execution_count": 4,
   "metadata": {},
   "outputs": [
    {
     "name": "stdout",
     "output_type": "stream",
     "text": [
      "44.88333333333334\n"
     ]
    }
   ],
   "source": [
    "print(tempeoligo(\"TCTCTACTCATGTCTGCA\",\"TCGCGTGCACGTG\"))"
   ]
  },
  {
   "cell_type": "markdown",
   "metadata": {},
   "source": [
    "7. Hallar la distancia Hamming entre dos secuencias dadas de polipéptidos. <br>\n",
    "link: https://es.wikipedia.org/wiki/Distancia_de_Hamming <br>\n",
    "Ejemplo: distancia_Hamming(\"SRSLLLRFLMSRSLLLRFLLFLLLLPPLPLFLLLLPPL\",\"SRSLLLRFLSSRSLLLRFLLFLLLLAALALFLLLLSML\")<br>\n",
    "Out:6"
   ]
  },
  {
   "cell_type": "code",
   "execution_count": 36,
   "metadata": {},
   "outputs": [],
   "source": [
    "def distancia_Hamming(poliA,poliB):\n",
    "    if (len(poliA)==len(poliB)):\n",
    "        cont=0\n",
    "        i=0\n",
    "        while i<len(poliA):\n",
    "            if (poliA[i] != poliB[i]):\n",
    "                cont=cont+1\n",
    "            i=i+1\n",
    "    return cont\n"
   ]
  },
  {
   "cell_type": "code",
   "execution_count": 37,
   "metadata": {},
   "outputs": [
    {
     "name": "stdout",
     "output_type": "stream",
     "text": [
      "6\n"
     ]
    }
   ],
   "source": [
    "print(distancia_Hamming(\"SRSLLLRFLMSRSLLLRFLLFLLLLPPLPLFLLLLPPL\",\"SRSLLLRFLSSRSLLLRFLLFLLLLAALALFLLLLSML\"))"
   ]
  },
  {
   "cell_type": "markdown",
   "metadata": {},
   "source": [
    "8. Dada la tabla de codones estandar, hacer una función para traducir una cadena de DNA empezando desde la posición 1 <br>\n",
    "Ejemplo: traducir(\"ATGGCGCGTATGAATAGCAATCCGAGCGCATGCCATGTTTGCCATGCGGCTCTGGCGGTCATTGATGCGTGCAATAACAATACCCGTAATAGCAATATCAATAGCTAA\")<br>\n",
    "Out: Met A R Met N S N P S A C H V C H A A L A V I D A C N N N T R N S N I N S Stop"
   ]
  },
  {
   "cell_type": "code",
   "execution_count": 84,
   "metadata": {},
   "outputs": [],
   "source": [
    "diccionario = { \"AAA\":\"K\", \"AAC\":\"N\", \"AAG\":\"K\", \"AAU\":\"N\",\n",
    "                \"ACA\":\"T\", \"ACC\":\"T\", \"ACG\":\"T\", \"ACU\":\"T\",\n",
    "                \"AGA\":\"R\", \"AGC\":\"S\", \"AGG\":\"R\", \"AGU\":\"S\",\n",
    "                \"AUA\":\"I\", \"AUC\":\"I\", \"AUG\":\"Met\", \"AUU\":\"I\",\n",
    "\n",
    "                \"CAA\":\"Q\", \"CAC\":\"H\", \"CAG\":\"Q\", \"CAU\":\"H\",\n",
    "                \"CCA\":\"P\", \"CCC\":\"P\", \"CCG\":\"P\", \"CCU\":\"P\",\n",
    "                \"CGA\":\"R\", \"CGC\":\"R\", \"CGG\":\"R\", \"CGU\":\"R\",\n",
    "                \"CUA\":\"L\", \"CUC\":\"L\", \"CUG\":\"L\", \"CUU\":\"L\",\n",
    "\n",
    "                \"GAA\":\"E\", \"GAC\":\"D\", \"GAG\":\"E\", \"GAU\":\"D\",\n",
    "                \"GCA\":\"A\", \"GCC\":\"A\", \"GCG\":\"A\", \"GCU\":\"A\",  \n",
    "                \"GGA\":\"G\", \"GGC\":\"G\", \"GGG\":\"G\", \"GGU\":\"G\",  \n",
    "                \"GUA\":\"V\", \"GUC\":\"V\", \"GUG\":\"V\", \"GUU\":\"V\",  \n",
    "\n",
    "                \"UAA\":\"Stop\", \"UAC\":\"Y\", \"UAG\":\"Stop\", \"UAU\":\"Y\",   \n",
    "                \"UCA\":\"S\", \"UCC\":\"S\", \"UCG\":\"S\", \"UCU\":\"S\",         \n",
    "                \"UGA\":\"Stop\", \"UGC\":\"C\", \"UGG\":\"W\", \"UGU\":\"C\",      \n",
    "                \"UUA\":\"L\", \"UUC\":\"F\", \"UUG\":\"L\", \"UUU\":\"F\"}     \n",
    "def translate(cadena):\n",
    "    new_cadena= (cadena.replace(\"T\",\"U\"))\n",
    "    i=0\n",
    "    resultado=\"\"\n",
    "    while (i<len(new_cadena)):\n",
    "        if ((len(new_cadena) - i)< 3):\n",
    "            return resultado\n",
    "        new_cadena1=new_cadena[i]+new_cadena[i+1]+new_cadena[i+2]\n",
    "        resultado=resultado+diccionario[new_cadena1]+ \" \"\n",
    "        i=i+3\n",
    "    return resultado\n",
    "        \n",
    "            \n",
    "    "
   ]
  },
  {
   "cell_type": "code",
   "execution_count": null,
   "metadata": {},
   "outputs": [],
   "source": []
  },
  {
   "cell_type": "code",
   "execution_count": 85,
   "metadata": {},
   "outputs": [
    {
     "name": "stdout",
     "output_type": "stream",
     "text": [
      "Met A R Met N S N P S A C H V C H A A L A V I D A C N N N T R N S N I N S Stop \n"
     ]
    }
   ],
   "source": [
    "print(translate(\"ATGGCGCGTATGAATAGCAATCCGAGCGCATGCCATGTTTGCCATGCGGCTCTGGCGGTCATTGATGCGTGCAATAACAATACCCGTAATAGCAATATCAATAGCTAA\"))"
   ]
  },
  {
   "cell_type": "markdown",
   "metadata": {},
   "source": [
    "9. Usando la función anterior, traducir la secuencia de DNA dada en los 6 frames posibles para producir un polipéptido.\n",
    "Ejemplo: traducirALL(\"ATGGCGCGTATGAATAGCAATCCGAGCGCATGCCATGTTTGCCATGCGGCTCTGGCGGTCATTGATGCGTGCAATAACAATACCCGTAATAGCAATATCAATAGCTAA\")<br>\n",
    "Out: (Frame1:Met A R Met N S N P S A C H V C H A A L A V I D A C N N N T R N S N I N S Stop, Frame2:W R V Stop I A I R A H A Met F A Met R L W R S L Met R A I T I P V I A I S I A, Frame3:G A Y E Stop Q S E R Met P C L P C G S G G H Stop C V Q Stop Q Y P Stop Stop Q Y Q Stop L, Frame4:L A I D I A I T G I V I A R I N D R Q S R Met A N Met A C A R I A I H T R H, Frame5:Stop L L I L L L R V L L L H A S Met T A R A A W Q T W H A L G L L F I R A, Frame6:S Y Stop Y C Y Y G Y C Y C T H Q Stop P P E P H G K H G Met R S D C Y S Y A P)"
   ]
  },
  {
   "cell_type": "code",
   "execution_count": 106,
   "metadata": {},
   "outputs": [],
   "source": [
    "def traducirALL(cadena):\n",
    "    RNA=cadena.replace(\"A\",\"U\")\n",
    "    RNA=RNA.replace(\"T\",\"A\")\n",
    "    RNA=RNA.replace(\"C\",\"M\")\n",
    "    RNA=RNA.replace(\"G\",\"C\")\n",
    "    RNA=RNA.replace(\"M\",\"G\")\n",
    "    RNA = RNA[::-1]\n",
    "    i=0\n",
    "    resultado= \"\"\n",
    "    while (i<6):\n",
    "        if (i<3):\n",
    "            resultado=resultado+\"Frame\"+ str(i+1)+ \":\" + (translate(cadena))+ \",\"\n",
    "            cadena=cadena[1:]\n",
    "        else:\n",
    "            resultado=resultado+\"Frame\"+ str(i+1)+ \":\" + (translate(RNA)) + \",\"\n",
    "            RNA = RNA [1:]\n",
    "        i= i+1\n",
    "    return resultado \n"
   ]
  },
  {
   "cell_type": "code",
   "execution_count": 107,
   "metadata": {},
   "outputs": [
    {
     "name": "stdout",
     "output_type": "stream",
     "text": [
      "Frame1:Met A R Met N S N P S A C H V C H A A L A V I D A C N N N T R N S N I N S Stop ,Frame2:W R V Stop I A I R A H A Met F A Met R L W R S L Met R A I T I P V I A I S I A ,Frame3:G A Y E Stop Q S E R Met P C L P C G S G G H Stop C V Q Stop Q Y P Stop Stop Q Y Q Stop L ,Frame4:L A I D I A I T G I V I A R I N D R Q S R Met A N Met A C A R I A I H T R H ,Frame5:Stop L L I L L L R V L L L H A S Met T A R A A W Q T W H A L G L L F I R A ,Frame6:S Y Stop Y C Y Y G Y C Y C T H Q Stop P P E P H G K H G Met R S D C Y S Y A P ,\n"
     ]
    }
   ],
   "source": [
    "print(traducirALL(\"ATGGCGCGTATGAATAGCAATCCGAGCGCATGCCATGTTTGCCATGCGGCTCTGGCGGTCATTGATGCGTGCAATAACAATACCCGTAATAGCAATATCAATAGCTAA\"))"
   ]
  },
  {
   "cell_type": "raw",
   "metadata": {},
   "source": [
    "# 10. Su código genético es esencialmente el mismo desde que nace hasta que muere, y el mismo en su sangre y su cerebro. Los genes que se activan y desactivan marcan la diferencia entre las células. Esta regulación de los genes está orquestada por un mecanismo inmensamente complejo, que solo hemos empezado a comprender. Una parte central de este mecanismo consiste en moléculas llamadas factores de transcripción que se adhieren al ADN, y al hacerlo, activan o desactivan los genes cercanos. Estas moléculas se unen preferentemente a secuencias específicas de ADN, y este patrón de preferencia de unión puede representarse mediante una tabla de frecuencias de símbolos dados en cada posición del patrón. Más precisamente, cada fila en la tabla corresponde a las bases A, C, G y T, mientras que la columna j refleja cuántas veces aparece la base en la posición j en la secuencia del ADN.\n",
    "\n",
    "    Por ejemplo; si nuestro conjunto de secuencias de ADN son TAG, GGT y GGG, la tabla se convierte en\n",
    "\n",
    "\n",
    "|base|\t0|\t1|\t2|\n",
    "|----|---|---|---|\n",
    "|A\t|0\t|1\t|0  |\n",
    "|C\t|0\t|0\t|0  |\n",
    "|G \t|2\t|2\t|2  |\n",
    "|T\t|1\t|0\t|1  |\n",
    "\n",
    "De esta tabla podemos leer que la base A aparece una vez en el índice 1 en las cadenas de ADN, la base C no aparece en absoluto, la base G aparece dos veces en todas las posiciones y la base T aparece una vez al principio y al final de las cadenas.\n",
    "\n",
    "a. Dada una lista de Strings con motivos de 4 nucleótidos, construir una matriz de frecuencias para las posiciones de los 4 nucleótidos. \n",
    "\n",
    "Ejemplo:<br>\n",
    "listamotivos =[\"ACTG\", \"CCAG\", \"AGAG\", \"CGTA\"]<br>\n",
    "MatrizFrecuencia(listamotivos)<br>\n",
    "Out: [[2, 0, 2, 1]<br>\n",
    " [2, 2, 0, 0]<br>\n",
    " [0, 2, 0, 3]<br>\n",
    " [0, 0, 2, 0]]<br>\n",
    " \n",
    "b. Realizar una función que retorne el nucleótido que más frecuencia obtuvo por posición. Si tienen la misma frecuecia retornar los valores iguales. <br>\n",
    "Ejemplo:<br>\n",
    "FrecuenciaMayorNt(MatrizFrecuencia(listamotivos))<br>\n",
    "Out: [[A:0.5, C:0.5],\n",
    "[C:0.5,G:0.5],\n",
    "[A:0.5,T:0.5],\n",
    "[G:0.75]]"
   ]
  },
  {
   "cell_type": "code",
   "execution_count": 38,
   "metadata": {},
   "outputs": [],
   "source": [
    "import numpy as np\n",
    "def MatrizFrecuencia(lis=[]):\n",
    "    col = lis[0]\n",
    "    col = len(col)\n",
    "    i=0\n",
    "    pos=0\n",
    "    conA=0\n",
    "    conC=0\n",
    "    conG=0\n",
    "    conT=0\n",
    "    matriz = np.zeros((4,col))\n",
    "    while (i<col):\n",
    "        while (pos<len(lis)):\n",
    "            cadena = lis[pos]\n",
    "            if (cadena[i]=='A'):\n",
    "                conA = conA + 1\n",
    "            elif (cadena[i]=='C'):\n",
    "                conC = conC + 1\n",
    "            elif (cadena[i]=='G'):\n",
    "                conG = conG + 1\n",
    "            elif (cadena[i]=='T'): \n",
    "                conT = conT + 1\n",
    "            pos = pos +1\n",
    "        matriz[0][i]=conA\n",
    "        matriz[1][i]=conC\n",
    "        matriz[2][i]=conG\n",
    "        matriz[3][i]=conT\n",
    "        i = i +1\n",
    "        pos=0\n",
    "        conA=0\n",
    "        conC=0\n",
    "        conG=0\n",
    "        conT=0\n",
    "    return matriz\n",
    "            \n",
    "        "
   ]
  },
  {
   "cell_type": "code",
   "execution_count": 32,
   "metadata": {},
   "outputs": [
    {
     "name": "stdout",
     "output_type": "stream",
     "text": [
      "[[2. 0. 2. 1. 4.]\n",
      " [2. 2. 0. 0. 0.]\n",
      " [0. 2. 0. 3. 0.]\n",
      " [0. 0. 2. 0. 0.]]\n"
     ]
    }
   ],
   "source": [
    "print(MatrizFrecuencia([\"ACTGA\", \"CCAGA\", \"AGAGA\", \"CGTAA\"]))"
   ]
  },
  {
   "cell_type": "code",
   "execution_count": 42,
   "metadata": {},
   "outputs": [],
   "source": [
    "def mayor (matriz = []):\n",
    "    mayor0 =  (matriz[0][0])\n",
    "    mayor1 =  (matriz[0][1])\n",
    "    mayor2 =  (matriz[0][2])\n",
    "    mayor3 =  (matriz[0][3])\n",
    "    L0 = \"A\"\n",
    "    L1 = \"A\"\n",
    "    L2 = \"A\"\n",
    "    L3 = \"A\"\n",
    "    cont0 = 1\n",
    "    cont1 = 1\n",
    "    cont2 = 1\n",
    "    cont3 = 1\n",
    "    i = 0\n",
    "    j = 1\n",
    "    while (i < len(matriz)):\n",
    "        while (j < len (matriz[i])):\n",
    "            if (i == 0):\n",
    "                if (mayor0 < matriz[j][i]):\n",
    "                    mayor0 = matriz[j][i]\n",
    "                    cont0 = 1\n",
    "                    if (j==1):\n",
    "                        L0 = \"C\"\n",
    "                    elif (j == 2):\n",
    "                        L0 = \"G\"\n",
    "                    else:\n",
    "                        L0 = \"T\"\n",
    "                elif (mayor0 == matriz[j][i]):\n",
    "                    mayor0 = mayor0 + matriz[j][i]\n",
    "                    cont0 = cont0 +1\n",
    "                    if(j==1):\n",
    "                        L0 = L0 + \", C\"\n",
    "                    elif(j==2):\n",
    "                        L0 = L0 + \", G\"\n",
    "                    else:\n",
    "                        L0 = L0 + \", T\"\n",
    "            if (i == 1):\n",
    "                if (mayor1 < matriz[j][i]):\n",
    "                    mayor1 = matriz[j][i]\n",
    "                    cont1 = 1\n",
    "                    if (j==1):\n",
    "                        L1 = \"C\"\n",
    "                    elif (j == 2):\n",
    "                        L1= \"G\"\n",
    "                    else:\n",
    "                        L1 = \"T\"\n",
    "                elif (mayor1 == matriz[j][i]):\n",
    "                    mayor1 = mayor1 + matriz[j][i]\n",
    "                    cont1 = cont1 +1\n",
    "                    if(j==1):\n",
    "                        L1 = L1 + \", C\"\n",
    "                    elif(j==2):\n",
    "                        L1 = L1 + \", G\"\n",
    "                    else:\n",
    "                        L1 = L1 + \", T\"\n",
    "            if (i == 2):\n",
    "                if (mayor2 < matriz[j][i]):\n",
    "                    mayor2 = matriz[j][i]\n",
    "                    cont2 = 1\n",
    "                    if (j==1):\n",
    "                        L2 = \"C\"\n",
    "                    elif (j == 2):\n",
    "                        L2= \"G\"\n",
    "                    else:\n",
    "                        L2 = \"T\"\n",
    "                elif (mayor2 == matriz[j][i]):\n",
    "                    mayor2 = mayor2 + matriz[j][i]\n",
    "                    cont2 = cont2 +1\n",
    "                    if(j==1):\n",
    "                        L2 = L2 + \", C\"\n",
    "                    elif(j==2):\n",
    "                        L2 = L2 + \", G\"\n",
    "                    else:\n",
    "                        L2 = L2 + \", T\"\n",
    "            if (i == 3):\n",
    "                if (mayor3 < matriz[j][i]):\n",
    "                    mayor3 = matriz[j][i]\n",
    "                    cont3 = 1\n",
    "                    if (j==1):\n",
    "                        L3 = \"C\"\n",
    "                    elif (j == 2):\n",
    "                        L3= \"G\"\n",
    "                    else:\n",
    "                        L3 = \"T\"\n",
    "                elif (mayor3 == matriz[j][i]):\n",
    "                    mayor3 = mayor3 + matriz[j][i]\n",
    "                    cont3 = cont3 +1\n",
    "                    if(j==1):\n",
    "                        L3 = L3 + \", C\"\n",
    "                    elif(j==2):\n",
    "                        L3 = L3 + \", G\"\n",
    "                    else:\n",
    "                        L3 = L3 + \", T\"\n",
    "            j = j +1\n",
    "        j = 1\n",
    "        i = i+1\n",
    "    Rmayor0 = (str ((mayor0/cont0)/len(matriz))+ \"  \")*cont0 + \"En \" + L0\n",
    "    Rmayor1 = (str((mayor1/cont1)/len(matriz)) + \"  \")*cont1 + \"En \" + L1\n",
    "    Rmayor2 = (str((mayor2/cont2)/len(matriz))+ \"  \")*cont2  + \"En \"  + L2\n",
    "    Rmayor3 = (str((mayor3/cont3)/len(matriz))+ \"  \")*cont3  + \"En \"  + L3\n",
    "    matrizR = [Rmayor0, Rmayor1, Rmayor2, Rmayor3]\n",
    "    return matrizR"
   ]
  },
  {
   "cell_type": "code",
   "execution_count": 45,
   "metadata": {},
   "outputs": [
    {
     "name": "stdout",
     "output_type": "stream",
     "text": [
      "['0.5  0.5  En A, C', '0.5  0.5  En C, G', '0.5  0.5  En A, T', '0.75  En G']\n"
     ]
    }
   ],
   "source": [
    "print(mayor(MatrizFrecuencia([\"ACTG\", \"CCAG\", \"AGAG\", \"CGTA\"])))"
   ]
  }
 ],
 "metadata": {
  "kernelspec": {
   "display_name": "Python 3",
   "language": "python",
   "name": "python3"
  },
  "language_info": {
   "codemirror_mode": {
    "name": "ipython",
    "version": 3
   },
   "file_extension": ".py",
   "mimetype": "text/x-python",
   "name": "python",
   "nbconvert_exporter": "python",
   "pygments_lexer": "ipython3",
   "version": "3.6.5"
  }
 },
 "nbformat": 4,
 "nbformat_minor": 2
}
