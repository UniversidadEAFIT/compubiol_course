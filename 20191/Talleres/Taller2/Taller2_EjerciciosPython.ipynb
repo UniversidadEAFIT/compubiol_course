{
 "cells": [
  {
   "cell_type": "markdown",
   "metadata": {},
   "source": [
    "# Taller 2 - Python\n",
    "## Fundamentos en Biología Computacional\n",
    "## 2019-1, Prof. Javier Correa\n",
    "Nota: Se calificará que el código sea lo más simple, claro, original y eficiente. No usar funciones no realizadas por ustedes mismos."
   ]
  },
  {
   "cell_type": "markdown",
   "metadata": {},
   "source": [
    "1. Realice un función para expresar cualquier número entero en su conotación factorial. <br>\n",
    "Ejemplo: factorial(4)<br>\n",
    "Out: 24"
   ]
  },
  {
   "cell_type": "code",
   "execution_count": null,
   "metadata": {},
   "outputs": [],
   "source": []
  },
  {
   "cell_type": "markdown",
   "metadata": {},
   "source": [
    "2. Realice un función para expresar la potencia de cualquier número. La función recibe como parámetros la base y el exponencial. <br>\n",
    "Ejemplo: potencia(4,2)<br>\n",
    "Out: 16"
   ]
  },
  {
   "cell_type": "code",
   "execution_count": null,
   "metadata": {},
   "outputs": [],
   "source": []
  },
  {
   "cell_type": "markdown",
   "metadata": {},
   "source": [
    "3. Utilizando las dos funciones anteriormente definidas (factorial y potencia), realice un función para expresar el Coseno de un entero. <br>\n",
    "Ejemplo: coseno(5)<br>\n",
    "Out: 0.996194698"
   ]
  },
  {
   "cell_type": "code",
   "execution_count": null,
   "metadata": {},
   "outputs": [],
   "source": []
  },
  {
   "cell_type": "markdown",
   "metadata": {},
   "source": [
    "4. Dadas las cantidades de individuos con los genótipos AA, AB y BB. Calcular la frecuencia de los alelos A y B <br>\n",
    "Ejemplo: FrecuenciaAlelos(12,4,4) <br>\n",
    "Out: (0.7, 0.3)"
   ]
  },
  {
   "cell_type": "code",
   "execution_count": null,
   "metadata": {},
   "outputs": [],
   "source": []
  },
  {
   "cell_type": "markdown",
   "metadata": {},
   "source": [
    "5. Dada una cadena de DNA retornar una de (-) RNA en sentido 5'-> 3' <br>\n",
    "Ejemplo: DNA_to_RNA(\"TCTCTACTCATGTCTGCA\")<br>\n",
    "Out: GUACUCACGUCUGCUCUC"
   ]
  },
  {
   "cell_type": "code",
   "execution_count": null,
   "metadata": {},
   "outputs": [],
   "source": []
  },
  {
   "cell_type": "markdown",
   "metadata": {},
   "source": [
    "6. Realizar una función que calcule la Temperatura de Melting Promedio de un par de primers de DNA en grados Celcius. Teniendo en cuenta que; en un oligonucleótido < de 14 nucleótidos, la Tm se calcula multiplicando la cantidad de G+C por 4 y las A+T por 2. Mientras que, si es >= de 14 nt, se debe aplicar la siguiente fórmula (64.9 + 41 * (totalG+C -16.4) / Tamaño sel oligo). <br>\n",
    "Ejemplo: tempromelt(TCTCTACTCATGTCTGCA, TCGCGTGCACGTG)<br>\n",
    "Out: 44.88333333333334"
   ]
  },
  {
   "cell_type": "code",
   "execution_count": null,
   "metadata": {},
   "outputs": [],
   "source": []
  },
  {
   "cell_type": "markdown",
   "metadata": {},
   "source": [
    "7. Hallar la distancia Hamming entre dos secuencias dadas de polipéptidos. <br>\n",
    "link: https://es.wikipedia.org/wiki/Distancia_de_Hamming <br>\n",
    "Ejemplo: distancia_Hamming(\"SRSLLLRFLMSRSLLLRFLLFLLLLPPLPLFLLLLPPL\",\"SRSLLLRFLSSRSLLLRFLLFLLLLAALALFLLLLSML\")<br>\n",
    "Out:6"
   ]
  },
  {
   "cell_type": "code",
   "execution_count": null,
   "metadata": {},
   "outputs": [],
   "source": []
  },
  {
   "cell_type": "markdown",
   "metadata": {},
   "source": [
    "8. Dada la tabla de codones estandar, hacer una función para traducir una cadena de DNA empezando desde la posición 1 <br>\n",
    "Ejemplo: traducir(\"ATGGCGCGTATGAATAGCAATCCGAGCGCATGCCATGTTTGCCATGCGGCTCTGGCGGTCATTGATGCGTGCAATAACAATACCCGTAATAGCAATATCAATAGCTAA\")<br>\n",
    "Out: Met A R Met N S N P S A C H V C H A A L A V I D A C N N N T R N S N I N S Stop"
   ]
  },
  {
   "cell_type": "code",
   "execution_count": null,
   "metadata": {},
   "outputs": [],
   "source": []
  },
  {
   "cell_type": "markdown",
   "metadata": {},
   "source": [
    "9. Usando la función anterior, traducir la secuencia de DNA dada en los 6 frames posibles para producir un polipéptido.\n",
    "Ejemplo: traducirALL(\"ATGGCGCGTATGAATAGCAATCCGAGCGCATGCCATGTTTGCCATGCGGCTCTGGCGGTCATTGATGCGTGCAATAACAATACCCGTAATAGCAATATCAATAGCTAA\")<br>\n",
    "Out: (Frame1:Met A R Met N S N P S A C H V C H A A L A V I D A C N N N T R N S N I N S Stop, Frame2:W R V Stop I A I R A H A Met F A Met R L W R S L Met R A I T I P V I A I S I A, Frame3:G A Y E Stop Q S E R Met P C L P C G S G G H Stop C V Q Stop Q Y P Stop Stop Q Y Q Stop L, Frame4:L A I D I A I T G I V I A R I N D R Q S R Met A N Met A C A R I A I H T R H, Frame5:Stop L L I L L L R V L L L H A S Met T A R A A W Q T W H A L G L L F I R A, Frame6:S Y Stop Y C Y Y G Y C Y C T H Q Stop P P E P H G K H G Met R S D C Y S Y A P)"
   ]
  },
  {
   "cell_type": "markdown",
   "metadata": {},
   "source": []
  },
  {
   "cell_type": "markdown",
   "metadata": {},
   "source": [
    "10. Su código genético es esencialmente el mismo desde que nace hasta que muere, y el mismo en su sangre y su cerebro. Los genes que se activan y desactivan marcan la diferencia entre las células. Esta regulación de los genes está orquestada por un mecanismo inmensamente complejo, que solo hemos empezado a comprender. Una parte central de este mecanismo consiste en moléculas llamadas factores de transcripción que se adhieren al ADN, y al hacerlo, activan o desactivan los genes cercanos. Estas moléculas se unen preferentemente a secuencias específicas de ADN, y este patrón de preferencia de unión puede representarse mediante una tabla de frecuencias de símbolos dados en cada posición del patrón. Más precisamente, cada fila en la tabla corresponde a las bases A, C, G y T, mientras que la columna j refleja cuántas veces aparece la base en la posición j en la secuencia del ADN.\n",
    "\n",
    "    Por ejemplo; si nuestro conjunto de secuencias de ADN son TAG, GGT y GGG, la tabla se convierte en\n",
    "\n",
    "\n",
    "|base|\t0|\t1|\t2|\n",
    "|----|---|---|---|\n",
    "|A\t|0\t|1\t|0  |\n",
    "|C\t|0\t|0\t|0  |\n",
    "|G \t|2\t|2\t|2  |\n",
    "|T\t|1\t|0\t|1  |\n",
    "\n",
    "De esta tabla podemos leer que la base A aparece una vez en el índice 1 en las cadenas de ADN, la base C no aparece en absoluto, la base G aparece dos veces en todas las posiciones y la base T aparece una vez al principio y al final de las cadenas.\n",
    "\n",
    "a. Dada una lista de Strings con motivos de 4 nucleótidos, construir una matriz de frecuencias para las posiciones de los 4 nucleótidos. \n",
    "\n",
    "Ejemplo:<br>\n",
    "listamotivos =[\"ACTG\", \"CCAG\", \"AGAG\", \"CGTA\"]<br>\n",
    "MatrizFrecuencia(listamotivos)<br>\n",
    "Out: [[2, 0, 2, 1]<br>\n",
    " [2, 2, 0, 0]<br>\n",
    " [0, 2, 0, 3]<br>\n",
    " [0, 0, 2, 0]]<br>\n",
    " \n",
    "b. Realizar una función que retorne el nucleótido que más frecuencia obtuvo por posición. Si tienen la misma frecuecia retornar los valores iguales. <br>\n",
    "Ejemplo:<br>\n",
    "FrecuenciaMayorNt(MatrizFrecuencia(listamotivos))<br>\n",
    "Out: [[A:0.5, C:0.5],<br>\n",
    "[C:0.5,G:0.5],<br>\n",
    "[A:0.5,T:0.5],<br>\n",
    "[G:0.75]]<br>"
   ]
  },
  {
   "cell_type": "code",
   "execution_count": null,
   "metadata": {},
   "outputs": [],
   "source": []
  }
 ],
 "metadata": {
  "kernelspec": {
   "display_name": "Python 3",
   "language": "python",
   "name": "python3"
  },
  "language_info": {
   "codemirror_mode": {
    "name": "ipython",
    "version": 3
   },
   "file_extension": ".py",
   "mimetype": "text/x-python",
   "name": "python",
   "nbconvert_exporter": "python",
   "pygments_lexer": "ipython3",
   "version": "3.6.4"
  }
 },
 "nbformat": 4,
 "nbformat_minor": 2
}
