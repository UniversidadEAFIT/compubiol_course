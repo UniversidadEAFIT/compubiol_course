{
 "cells": [
  {
   "cell_type": "markdown",
   "metadata": {},
   "source": [
    "# Taller 2 - Python\n",
    "## Fundamentos en Biología Computacional\n",
    "## 2019-1, Prof. Javier Correa\n",
    "Nota: Se calificará que el código sea lo más simple, claro, original y eficiente. No usar funciones no realizadas por ustedes mismos."
   ]
  },
  {
   "cell_type": "markdown",
   "metadata": {},
   "source": [
    "1. Realice un función para expresar cualquier número entero en su conotación factorial. <br>\n",
    "Ejemplo: factorial(4)<br>\n",
    "Out: 24"
   ]
  },
  {
   "cell_type": "code",
   "execution_count": 32,
   "metadata": {},
   "outputs": [
    {
     "data": {
      "text/plain": [
       "6"
      ]
     },
     "execution_count": 32,
     "metadata": {},
     "output_type": "execute_result"
    }
   ],
   "source": [
    "def numero_factorial(numero):\n",
    "    i= 1\n",
    "    multi=1\n",
    "    while i <= numero:\n",
    "        multi=multi*i\n",
    "        i=i+1\n",
    "    \n",
    "    return multi\n",
    "    \n",
    "numero_factorial(3)"
   ]
  },
  {
   "cell_type": "markdown",
   "metadata": {},
   "source": [
    "2. Realice un función para expresar la potencia de cualquier número. La función recibe como parámetros la base y el exponencial. <br>\n",
    "Ejemplo: potencia(4,2)<br>\n",
    "Out: 16"
   ]
  },
  {
   "cell_type": "code",
   "execution_count": 33,
   "metadata": {},
   "outputs": [
    {
     "data": {
      "text/plain": [
       "8"
      ]
     },
     "execution_count": 33,
     "metadata": {},
     "output_type": "execute_result"
    }
   ],
   "source": [
    "def num_elevado(base, exponente):\n",
    "\n",
    "    result= base**exponente\n",
    "    return result\n",
    "num_elevado(2,3)\n"
   ]
  },
  {
   "cell_type": "markdown",
   "metadata": {},
   "source": [
    "3. Utilizando las dos funciones anteriormente definidas (factorial y potencia), realice un función para expresar el Coseno de un entero. <br>\n",
    "Ejemplo: coseno(5)<br>\n",
    "Out: 0.996194698"
   ]
  },
  {
   "cell_type": "code",
   "execution_count": 56,
   "metadata": {},
   "outputs": [
    {
     "data": {
      "text/plain": [
       "0.9961946803061181"
      ]
     },
     "execution_count": 56,
     "metadata": {},
     "output_type": "execute_result"
    }
   ],
   "source": [
    "def coseno(x):\n",
    "    xg=(3.1416/180)*x \n",
    "    sumatoria=0\n",
    "    i=0\n",
    "    total=0\n",
    "    while i <= 20:\n",
    "        sumatoria=((-1)**i)*(num_elevado(xg,2*i)/(numero_factorial(2*i)))\n",
    "        i=i+1\n",
    "        total=total+sumatoria\n",
    "    return total\n",
    "coseno(5)\n",
    "                       \n",
    "                       \n",
    "                       \n",
    "                                 "
   ]
  },
  {
   "cell_type": "markdown",
   "metadata": {},
   "source": [
    "4. Dadas las cantidades de individuos con los genótipos AA, AB y BB. Calcular la frecuencia de los alelos A y B <br>\n",
    "Ejemplo: FrecuenciaAlelos(12,4,4) <br>\n",
    "Out: (0.7, 0.3)"
   ]
  },
  {
   "cell_type": "code",
   "execution_count": 43,
   "metadata": {},
   "outputs": [
    {
     "data": {
      "text/plain": [
       "[0.7, 0.30000000000000004]"
      ]
     },
     "execution_count": 43,
     "metadata": {},
     "output_type": "execute_result"
    }
   ],
   "source": [
    "def f_alelica(AA, AB,BB):\n",
    "    \n",
    "    poblacion= AA+AB+BB\n",
    "    mitad= (AB/poblacion)/2\n",
    "    F_AA= AA/poblacion + mitad\n",
    "    F_BB= BB/poblacion + mitad\n",
    "    alelos= [F_AA,F_BB]\n",
    "    return alelos\n",
    "f_alelica(12,4,4)"
   ]
  },
  {
   "cell_type": "markdown",
   "metadata": {},
   "source": [
    "5. Dada una cadena de DNA retornar una de (-) RNA en sentido 5'-> 3' <br>\n",
    "Ejemplo: DNA_to_RNA(\"TCTCTACTCATGTCTGCA\")<br>\n",
    "Out: GUACUCACGUCUGCUCUC"
   ]
  },
  {
   "cell_type": "code",
   "execution_count": 213,
   "metadata": {},
   "outputs": [
    {
     "data": {
      "text/plain": [
       "'UGCAGACAUGAGUAGAGA'"
      ]
     },
     "execution_count": 213,
     "metadata": {},
     "output_type": "execute_result"
    }
   ],
   "source": [
    "def DNA_to_RNA(DNA):\n",
    "    RNA=DNA \n",
    "    RNA=RNA.replace('T','U') \n",
    "    invRNA=''\n",
    "    RNA_=''\n",
    "    x=0\n",
    "       \n",
    "    while x<=len(RNA)-1:\n",
    "        if RNA[x]=='U':\n",
    "            invRNA=invRNA+'A'\n",
    "        if RNA[x]=='C':\n",
    "            invRNA=invRNA+'G'\n",
    "        if RNA[x]=='A':\n",
    "            invRNA=invRNA+'U'\n",
    "        if RNA[x]=='G':\n",
    "            invRNA=invRNA+'C'\n",
    "        x=x+1\n",
    "        RNA_=invRNA[::-1]\n",
    "        \n",
    "    \n",
    "    return RNA_\n",
    "\n",
    "DNA_to_RNA('TCTCTACTCATGTCTGCA')\n",
    "    \n"
   ]
  },
  {
   "cell_type": "markdown",
   "metadata": {},
   "source": [
    "6. Realizar una función que calcule la Temperatura de Melting Promedio de un par de primers de DNA en grados Celcius. Teniendo en cuenta que; en un oligonucleótido < de 14 nucleótidos, la Tm se calcula multiplicando la cantidad de G+C por 4 y las A+T por 2. Mientras que, si es >= de 14 nt, se debe aplicar la siguiente fórmula (64.9 + 41 * (totalG+C -16.4) / Tamaño sel oligo). <br>\n",
    "Ejemplo: tempromelt(TCTCTACTCATGTCTGCA, TCGCGTGCACGTG)<br>\n",
    "Out: 44.88333333333334"
   ]
  },
  {
   "cell_type": "code",
   "execution_count": 6,
   "metadata": {},
   "outputs": [
    {
     "data": {
      "text/plain": [
       "44.88333333333334"
      ]
     },
     "execution_count": 6,
     "metadata": {},
     "output_type": "execute_result"
    }
   ],
   "source": [
    "def tm_promedio(primer1, primer2):\n",
    "   \n",
    "    G1=0 ; G2=0 ; i=0 ; x=0   \n",
    "    C1=0 ; C2=0 ; tm_primer1corto=0 ; tm_primer2largo=0\n",
    "    T1=0 ; T2=0 ; tm_primer1largo=0 ; tm_final_primer1=0\n",
    "    A1=0 ; A2=0 ; tm_primer2corto=0 ; tm_final_primer2=0\n",
    "    \n",
    "    while i<=len(primer1)-1:\n",
    "        if primer1[i]=='G':\n",
    "            G1= G1 + 1\n",
    "        if primer1[i]=='C':\n",
    "            C1= C1 + 1\n",
    "        if primer1[i]=='T':\n",
    "            T1= T1 + 1\n",
    "        if primer1[i]=='A':\n",
    "            A1= A1 + 1\n",
    "        i=i+1\n",
    "        \n",
    "    x=0\n",
    "    while x<=len(primer2)-1:\n",
    "        if primer2[x]=='G':\n",
    "            G2= G2 + 1\n",
    "        if primer2[x]=='C':\n",
    "            C2= C2 + 1\n",
    "        if primer2[x]=='T':\n",
    "            T2= T2 + 1\n",
    "        if primer2[x]=='A':\n",
    "            A2= A2 + 1\n",
    "        x=x+1\n",
    "    \n",
    "    if len(primer1)<14:\n",
    "        tm_primer1corto = ((C1+G1)*4)+((T1+A1)*2)\n",
    "        tm_final_primer1 = tm_primer1corto\n",
    "        \n",
    "    if len(primer1)>=14:\n",
    "        tm_primer1largo = (64.9 + 41 * ((G1+C1) -16.4) /len(primer1))\n",
    "        tm_final_primer1 = tm_primer1largo\n",
    "    \n",
    "    \n",
    "    if len(primer2)<14:\n",
    "        tm_primer2corto = ((C2+G2)*4)+((T2+A2)*2)\n",
    "        tm_final_primer2 = tm_primer2corto\n",
    "                          \n",
    "    if len(primer2)>=14:\n",
    "        tm_primer2largo = (64.9 + 41 * ((G2+C2) -16.4) /len(primer2))\n",
    "        tm_final_primer2 =tm_primer2largo\n",
    "    \n",
    "    return (tm_final_primer1 + tm_final_primer2)/2\n",
    "                          \n",
    "tm_promedio(\"TCTCTACTCATGTCTGCA\" , \"TCGCGTGCACGTG\")  "
   ]
  },
  {
   "cell_type": "markdown",
   "metadata": {},
   "source": [
    "7. Hallar la distancia Hamming entre dos secuencias dadas de polipéptidos. <br>\n",
    "link: https://es.wikipedia.org/wiki/Distancia_de_Hamming <br>\n",
    "Ejemplo: distancia_Hamming(\"SRSLLLRFLMSRSLLLRFLLFLLLLPPLPLFLLLLPPL\",\"SRSLLLRFLSSRSLLLRFLLFLLLLAALALFLLLLSML\")<br>\n",
    "Out:6"
   ]
  },
  {
   "cell_type": "code",
   "execution_count": 7,
   "metadata": {},
   "outputs": [
    {
     "data": {
      "text/plain": [
       "6"
      ]
     },
     "execution_count": 7,
     "metadata": {},
     "output_type": "execute_result"
    }
   ],
   "source": [
    "def distancia_hamming(poliA, poliB):\n",
    "    i=0 ; y=0\n",
    "    suma=0\n",
    "    while i <=len(poliA)-1 and y <=len(poliB)-1:\n",
    "        \n",
    "        if poliA[i]!=poliB[y]:\n",
    "            suma= suma + 1\n",
    "\n",
    "        if poliA[i]==poliB[y]:\n",
    "            suma=suma\n",
    "            \n",
    "        i=i+1\n",
    "        y=y+1\n",
    "        \n",
    "    return suma\n",
    "distancia_hamming(\"SRSLLLRFLMSRSLLLRFLLFLLLLPPLPLFLLLLPPL\",\"SRSLLLRFLSSRSLLLRFLLFLLLLAALALFLLLLSML\") "
   ]
  },
  {
   "cell_type": "markdown",
   "metadata": {},
   "source": [
    "8. Dada la tabla de codones estandar, hacer una función para traducir una cadena de DNA empezando desde la posición 1 <br>\n",
    "Ejemplo: traducir(\"ATGGCGCGTATGAATAGCAATCCGAGCGCATGCCATGTTTGCCATGCGGCTCTGGCGGTCATTGATGCGTGCAATAACAATACCCGTAATAGCAATATCAATAGCTAA\")<br>\n",
    "Out: Met A R Met N S N P S A C H V C H A A L A V I D A C N N N T R N S N I N S Stop"
   ]
  },
  {
   "cell_type": "code",
   "execution_count": 115,
   "metadata": {},
   "outputs": [],
   "source": [
    "codones={}\n",
    "codones['UUU']='phe'\n",
    "codones['UUC']='phe'\n",
    "    \n",
    "codones['UUA']='leu'\n",
    "codones['UUG']='leu'\n",
    "codones['CUU']='leu'\n",
    "codones['CUC']='leu'\n",
    "codones['CUA']='leu'\n",
    "codones['CUG']='leu'\n",
    "    \n",
    "codones['AUU']='ile'\n",
    "codones['AUC']='ile'\n",
    "codones['AUA']='ile'\n",
    "    \n",
    "codones['AUG']=\"met\"\n",
    "    \n",
    "codones['GUU']='val'\n",
    "codones['GUC']='val'\n",
    "codones['GUA']='val'\n",
    "codones['GUG']='val'\n",
    "    \n",
    "codones['AGC']='ser'\n",
    "codones['UCU']='ser'\n",
    "codones['UCC']='ser'\n",
    "codones['UCA']='ser'\n",
    "codones['UCG']='ser'\n",
    "codones['AGU']='ser'\n",
    "    \n",
    "codones['CCU']='pro'\n",
    "codones['CCC']='pro'\n",
    "codones['CCA']='pro'\n",
    "codones['CCG']='pro'\n",
    "      \n",
    "codones['ACU']='thr'\n",
    "codones['ACC']='thr'\n",
    "codones['ACA']='thr'\n",
    "codones['ACG']='thr'\n",
    "    \n",
    "codones['GCU']='ala'\n",
    "codones['GCC']='ala'\n",
    "codones['GCA']='ala'\n",
    "codones['GCG']='ala'\n",
    "\n",
    "codones['UAU']='tyr'\n",
    "codones['UAC']='tyr'\n",
    "    \n",
    "codones['UAA']='stop'\n",
    "codones['UAG']='stop'\n",
    "codones['UGA']='stop'\n",
    "    \n",
    "codones['CAU']='his'\n",
    "codones['CAC']='his'\n",
    "    \n",
    "codones['CAA']='gln'\n",
    "codones['CAG']='gln'\n",
    "    \n",
    "codones['AAU']='asn'\n",
    "codones['AAC']='asn'\n",
    "    \n",
    "codones['AAA']='lys'\n",
    "codones['AAG']='lys'\n",
    "    \n",
    "codones['GAU']='asp'\n",
    "codones['GAC']='asp'\n",
    "\n",
    "codones['GAA']='glu'\n",
    "codones['GAG']='glu'\n",
    "    \n",
    "codones['UGU']='cys'\n",
    "codones['UGC']='cys'\n",
    "    \n",
    "codones['UGG']='trp'\n",
    "    \n",
    "codones['CGU']='arg'\n",
    "codones['CGC']='arg'\n",
    "codones['CGA']='arg'\n",
    "codones['CGG']='arg'\n",
    "codones['AGA']='arg'\n",
    "codones['AGG']='arg'\n",
    "\n",
    "    \n",
    "codones['GGU']='gly'\n",
    "codones['GGC']='gly'\n",
    "codones['GGA']='gly'\n",
    "codones['GGG']='gly'\n"
   ]
  },
  {
   "cell_type": "code",
   "execution_count": 124,
   "metadata": {},
   "outputs": [
    {
     "data": {
      "text/plain": [
       "'met ala arg met asn ser asn pro ser ala cys his val cys his ala ala leu ala val ile asp ala cys asn asn asn thr arg asn ser asn ile asn ser stop '"
      ]
     },
     "execution_count": 124,
     "metadata": {},
     "output_type": "execute_result"
    }
   ],
   "source": [
    "def traducir(DNA):\n",
    "    RNA=DNA \n",
    "    RNA=RNA.replace('T','U') #lo más útil de la vida\n",
    "    a_a=\"\"; x=0\n",
    "    while x<=len(RNA)-2:\n",
    "        try: #la segunda mejor funcion\n",
    "            a_a+=str((codones[RNA[x:x+3]]))+\" \"\n",
    "            x=x+3\n",
    "        except:\n",
    "            pass\n",
    "    return a_a \n",
    " \n",
    "\n",
    "      \n",
    "traducir('ATGGCGCGTATGAATAGCAATCCGAGCGCATGCCATGTTTGCCATGCGGCTCTGGCGGTCATTGATGCGTGCAATAACAATACCCGTAATAGCAATATCAATAGCTAA')\n"
   ]
  },
  {
   "cell_type": "code",
   "execution_count": null,
   "metadata": {},
   "outputs": [],
   "source": []
  },
  {
   "cell_type": "markdown",
   "metadata": {},
   "source": [
    "9. Usando la función anterior, traducir la secuencia de DNA dada en los 6 frames posibles para producir un polipéptido.\n",
    "Ejemplo: traducirALL(\"ATGGCGCGTATGAATAGCAATCCGAGCGCATGCCATGTTTGCCATGCGGCTCTGGCGGTCATTGATGCGTGCAATAACAATACCCGTAATAGCAATATCAATAGCTAA\")<br>\n",
    "Out: (Frame1:Met A R Met N S N P S A C H V C H A A L A V I D A C N N N T R N S N I N S Stop, Frame2:W R V Stop I A I R A H A Met F A Met R L W R S L Met R A I T I P V I A I S I A, Frame3:G A Y E Stop Q S E R Met P C L P C G S G G H Stop C V Q Stop Q Y P Stop Stop Q Y Q Stop L, Frame4:L A I D I A I T G I V I A R I N D R Q S R Met A N Met A C A R I A I H T R H, Frame5:Stop L L I L L L R V L L L H A S Met T A R A A W Q T W H A L G L L F I R A, Frame6:S Y Stop Y C Y Y G Y C Y C T H Q Stop P P E P H G K H G Met R S D C Y S Y A P)"
   ]
  },
  {
   "cell_type": "code",
   "execution_count": 134,
   "metadata": {},
   "outputs": [
    {
     "data": {
      "text/plain": [
       "'Frame 1:   met ala arg met asn ser asn pro ser ala cys his val cys his ala ala leu ala val ile asp ala cys asn asn asn thr arg asn ser asn ile asn ser stop Frame2:   trp arg val stop ile ala ile arg ala his ala met phe ala met arg leu trp arg ser leu met arg ala ile thr ile pro val ile ala ile ser ile ala Frame3:   gly ala tyr glu stop gln ser glu arg met pro cys leu pro cys gly ser gly gly his stop cys val gln stop gln tyr pro stop stop gln tyr gln stop leu Frame4:   asn arg stop leu stop arg stop cys pro stop gln stop arg ala stop leu leu ala val ser ala tyr arg leu tyr arg thr arg ala stop arg stop val cys ala val Frame5:   ile asp asn tyr asn asp asn ala his asn asn asn val arg ser tyr trp arg ser arg arg thr val cys thr val arg glu pro asn asp lys tyr ala arg Frame6:   ser ile thr ile thr ile met pro ile thr ile thr cys val val thr gly gly leu gly val pro phe val pro tyr ala ser leu thr ile ser met arg gly '"
      ]
     },
     "execution_count": 134,
     "metadata": {},
     "output_type": "execute_result"
    }
   ],
   "source": [
    "def frames (DNA):\n",
    "    RNA=DNA \n",
    "    RNA=RNA.replace('T','U')\n",
    "    x=0\n",
    "    a_1='' ; a_2='' ; a_3='' ; a_4='' ; a_5='' ; a_6=''\n",
    "    a_total='Frame 1:   '    \n",
    "    while x<=len(RNA)-2:\n",
    "        try:\n",
    "            a_1=str((codones[RNA[x:x+3]]))+' '\n",
    "            a_total+=a_1\n",
    "            x=x+3\n",
    "        except:\n",
    "            pass\n",
    "    x=1\n",
    "    a_total+='Frame2:   '\n",
    "    while x<=len(RNA)-2:\n",
    "        try:\n",
    "            a_2=str((codones[RNA[x:x+3]]))+' '\n",
    "            a_total+=a_2\n",
    "            x=x+3\n",
    "        except:\n",
    "            x=x+3\n",
    "            pass\n",
    "    x=2\n",
    "    a_total+='Frame3:   '\n",
    "    while x<=len(RNA)-2:\n",
    "        try:\n",
    "            a_3=str((codones[RNA[x:x+3]]))+' '\n",
    "            a_total+=a_3\n",
    "            x=x+3\n",
    "        except:\n",
    "            x=x+3\n",
    "            pass\n",
    "        \n",
    "    RNA_=RNA[::-1]\n",
    "    x=0\n",
    "    a_total+='Frame4:   '\n",
    "    while x<=len(RNA_)-2:\n",
    "        try:\n",
    "            a_4=str((codones[RNA_[x:x+3]]))+' '\n",
    "            a_total+=a_4\n",
    "            x=x+3\n",
    "        except:\n",
    "            x=x+3\n",
    "            pass\n",
    "        \n",
    "    RNA_=RNA[::-1]\n",
    "    x=1\n",
    "    a_total+='Frame5:   '\n",
    "    while x<=len(RNA_)-2:\n",
    "        try:\n",
    "            a_5=str((codones[RNA_[x:x+3]]))+' '\n",
    "            a_total+=a_5\n",
    "            x=x+3\n",
    "        except:\n",
    "            x=x+3\n",
    "            pass\n",
    "        \n",
    "    RNA_=RNA[::-1]\n",
    "    x=2\n",
    "    a_total+='Frame6:   '\n",
    "    while x<=len(RNA_)-2:\n",
    "        try:\n",
    "            a_6=str((codones[RNA_[x:x+3]]))+' '\n",
    "            a_total+=a_6\n",
    "            x=x+3\n",
    "        except:\n",
    "            x=x+3\n",
    "            pass\n",
    "    \n",
    "    return a_total\n",
    "\n",
    "\n",
    "\n",
    "frames('ATGGCGCGTATGAATAGCAATCCGAGCGCATGCCATGTTTGCCATGCGGCTCTGGCGGTCATTGATGCGTGCAATAACAATACCCGTAATAGCAATATCAATAGCTAA')  "
   ]
  },
  {
   "cell_type": "markdown",
   "metadata": {},
   "source": []
  },
  {
   "cell_type": "markdown",
   "metadata": {},
   "source": [
    "10. Su código genético es esencialmente el mismo desde que nace hasta que muere, y el mismo en su sangre y su cerebro. Los genes que se activan y desactivan marcan la diferencia entre las células. Esta regulación de los genes está orquestada por un mecanismo inmensamente complejo, que solo hemos empezado a comprender. Una parte central de este mecanismo consiste en moléculas llamadas factores de transcripción que se adhieren al ADN, y al hacerlo, activan o desactivan los genes cercanos. Estas moléculas se unen preferentemente a secuencias específicas de ADN, y este patrón de preferencia de unión puede representarse mediante una tabla de frecuencias de símbolos dados en cada posición del patrón. Más precisamente, cada fila en la tabla corresponde a las bases A, C, G y T, mientras que la columna j refleja cuántas veces aparece la base en la posición j en la secuencia del ADN.\n",
    "\n",
    "    Por ejemplo; si nuestro conjunto de secuencias de ADN son TAG, GGT y GGG, la tabla se convierte en\n",
    "\n",
    "\n",
    "|base|\t0|\t1|\t2|\n",
    "|----|---|---|---|\n",
    "|A\t|0\t|1\t|0  |\n",
    "|C\t|0\t|0\t|0  |\n",
    "|G \t|2\t|2\t|2  |\n",
    "|T\t|1\t|0\t|1  |\n",
    "\n",
    "De esta tabla podemos leer que la base A aparece una vez en el índice 1 en las cadenas de ADN, la base C no aparece en absoluto, la base G aparece dos veces en todas las posiciones y la base T aparece una vez al principio y al final de las cadenas.\n",
    "\n",
    "a. Dada una lista de Strings con motivos de 4 nucleótidos, construir una matriz de frecuencias para las posiciones de los 4 nucleótidos. \n",
    "\n",
    "Ejemplo:<br>\n",
    "listamotivos =[\"ACTG\", \"CCAG\", \"AGAG\", \"CGTA\"]<br>\n",
    "MatrizFrecuencia(listamotivos)<br>\n",
    "Out: [[2, 0, 2, 1]<br>\n",
    " [2, 2, 0, 0]<br>\n",
    " [0, 2, 0, 3]<br>\n",
    " [0, 0, 2, 0]]<br>\n",
    " \n",
    "b. Realizar una función que retorne el nucleótido que más frecuencia obtuvo por posición. Si tienen la misma frecuecia retornar los valores iguales. <br>\n",
    "Ejemplo:<br>\n",
    "FrecuenciaMayorNt(MatrizFrecuencia(listamotivos))<br>\n",
    "Out: [[A:0.5, C:0.5],<br>\n",
    "[C:0.5,G:0.5],<br>\n",
    "[A:0.5,T:0.5],<br>\n",
    "[G:0.75]]<br>"
   ]
  },
  {
   "cell_type": "markdown",
   "metadata": {},
   "source": [
    "## Javi lo intente demasiado pero no fui capaz, podrías resolverlo en la proxima clase, gracias."
   ]
  },
  {
   "cell_type": "code",
   "execution_count": 273,
   "metadata": {},
   "outputs": [
    {
     "name": "stdout",
     "output_type": "stream",
     "text": [
      "[[1. 0. 1. 0.]\n",
      " [0. 0. 0. 0.]\n",
      " [0. 0. 0. 0.]\n",
      " [0. 0. 0. 0.]]\n"
     ]
    }
   ],
   "source": [
    "\n",
    "import numpy\n",
    "def datos(DNA):\n",
    "    results = numpy.zeros((len(DNA), len(DNA)))\n",
    "    i=0\n",
    "    j=0\n",
    "    C=[\"A\",\"C\",\"G\",\"T\"]\n",
    "    while i<len((DNA[0])[0]):\n",
    "        while j<len(DNA):\n",
    "            if((DNA[j])[i])==C[i]:\n",
    "                results[i][j]=results[i][j]+1\n",
    "            j=j+1\n",
    "        i=i+1\n",
    "        j=0    \n",
    "    print(results) \n",
    "datos([\"ACTG\", \"CCAG\", \"AGAG\", \"CGTA\"])"
   ]
  },
  {
   "cell_type": "code",
   "execution_count": 257,
   "metadata": {},
   "outputs": [
    {
     "ename": "NameError",
     "evalue": "name 'suma' is not defined",
     "output_type": "error",
     "traceback": [
      "\u001b[1;31m---------------------------------------------------------------------------\u001b[0m",
      "\u001b[1;31mNameError\u001b[0m                                 Traceback (most recent call last)",
      "\u001b[1;32m<ipython-input-257-b4240ed1f1bc>\u001b[0m in \u001b[0;36m<module>\u001b[1;34m\u001b[0m\n\u001b[0;32m     23\u001b[0m     \u001b[0mprint\u001b[0m\u001b[1;33m(\u001b[0m\u001b[0msuma\u001b[0m\u001b[1;33m)\u001b[0m\u001b[1;33m\u001b[0m\u001b[1;33m\u001b[0m\u001b[0m\n\u001b[0;32m     24\u001b[0m \u001b[1;33m\u001b[0m\u001b[0m\n\u001b[1;32m---> 25\u001b[1;33m \u001b[0mdatos\u001b[0m\u001b[1;33m(\u001b[0m\u001b[1;33m[\u001b[0m\u001b[1;34m\"ACTG\"\u001b[0m\u001b[1;33m,\u001b[0m \u001b[1;34m\"CCAG\"\u001b[0m\u001b[1;33m,\u001b[0m \u001b[1;34m\"AGAG\"\u001b[0m\u001b[1;33m,\u001b[0m \u001b[1;34m\"CGTA\"\u001b[0m\u001b[1;33m]\u001b[0m\u001b[1;33m)\u001b[0m\u001b[1;33m\u001b[0m\u001b[1;33m\u001b[0m\u001b[0m\n\u001b[0m",
      "\u001b[1;32m<ipython-input-257-b4240ed1f1bc>\u001b[0m in \u001b[0;36mdatos\u001b[1;34m(DNA)\u001b[0m\n\u001b[0;32m     21\u001b[0m     \u001b[1;31m#i=i+1\u001b[0m\u001b[1;33m\u001b[0m\u001b[1;33m\u001b[0m\u001b[1;33m\u001b[0m\u001b[0m\n\u001b[0;32m     22\u001b[0m     \u001b[1;31m#y=y+1\u001b[0m\u001b[1;33m\u001b[0m\u001b[1;33m\u001b[0m\u001b[1;33m\u001b[0m\u001b[0m\n\u001b[1;32m---> 23\u001b[1;33m     \u001b[0mprint\u001b[0m\u001b[1;33m(\u001b[0m\u001b[0msuma\u001b[0m\u001b[1;33m)\u001b[0m\u001b[1;33m\u001b[0m\u001b[1;33m\u001b[0m\u001b[0m\n\u001b[0m\u001b[0;32m     24\u001b[0m \u001b[1;33m\u001b[0m\u001b[0m\n\u001b[0;32m     25\u001b[0m \u001b[0mdatos\u001b[0m\u001b[1;33m(\u001b[0m\u001b[1;33m[\u001b[0m\u001b[1;34m\"ACTG\"\u001b[0m\u001b[1;33m,\u001b[0m \u001b[1;34m\"CCAG\"\u001b[0m\u001b[1;33m,\u001b[0m \u001b[1;34m\"AGAG\"\u001b[0m\u001b[1;33m,\u001b[0m \u001b[1;34m\"CGTA\"\u001b[0m\u001b[1;33m]\u001b[0m\u001b[1;33m)\u001b[0m\u001b[1;33m\u001b[0m\u001b[1;33m\u001b[0m\u001b[0m\n",
      "\u001b[1;31mNameError\u001b[0m: name 'suma' is not defined"
     ]
    }
   ],
   "source": [
    "import numpy\n",
    "def datos(DNA):\n",
    "    #i=0 ; y=0 ;\n",
    "    #results = numpy.zeros((len(datos), len(datos)))\n",
    "    sumaA=0\n",
    "    #sumaT=0\n",
    "    #sumaC=0\n",
    "    #sumag=0\n",
    "    \n",
    "    if len((DNA[0])[0]) or len((DNA[0])[1]) or len((DNA[0])[2]) or len((DNA[0])[3])== 'A':\n",
    "        sumaA+=1\n",
    "       # if results[i][y] == len((DNA[0])[0]) or len((DNA[0])[1]) or len((DNA[0])[2]) or len((DNA[0])[3])== 'A':\n",
    "        #results[i][y]=suma\n",
    "    #return results\n",
    "        \n",
    "    #if results[-1][-1] == 0:\n",
    "        \n",
    "\n",
    "    \n",
    "    \n",
    "    #i=i+1\n",
    "    #y=y+1\n",
    "    print(suma)         \n",
    "             \n",
    "datos([\"ACTG\", \"CCAG\", \"AGAG\", \"CGTA\"])"
   ]
  },
  {
   "cell_type": "code",
   "execution_count": 223,
   "metadata": {},
   "outputs": [
    {
     "name": "stdout",
     "output_type": "stream",
     "text": [
      "A\n"
     ]
    }
   ],
   "source": [
    "datos=[\"ACTG\", \"CCAG\", \"AGAG\", \"CGTA\"]\n",
    "type(datos)\n",
    "print ((datos[0])[0])\n",
    "\n"
   ]
  },
  {
   "cell_type": "code",
   "execution_count": 186,
   "metadata": {},
   "outputs": [
    {
     "name": "stdout",
     "output_type": "stream",
     "text": [
      "[[0. 0. 0. 0.]\n",
      " [0. 0. 0. 0.]\n",
      " [0. 0. 0. 0.]\n",
      " [0. 0. 0. 0.]]\n"
     ]
    }
   ],
   "source": [
    "datos=[\"ACTG\", \"CCAG\", \"AGAG\", \"CGTA\"]\n",
    "len(datos)\n",
    "jiji=numpy.zeros((len(datos), len(datos)))\n",
    "print(jiji)\n"
   ]
  },
  {
   "cell_type": "code",
   "execution_count": null,
   "metadata": {},
   "outputs": [],
   "source": []
  }
 ],
 "metadata": {
  "kernelspec": {
   "display_name": "Python 3",
   "language": "python",
   "name": "python3"
  },
  "language_info": {
   "codemirror_mode": {
    "name": "ipython",
    "version": 3
   },
   "file_extension": ".py",
   "mimetype": "text/x-python",
   "name": "python",
   "nbconvert_exporter": "python",
   "pygments_lexer": "ipython3",
   "version": "3.7.1"
  }
 },
 "nbformat": 4,
 "nbformat_minor": 2
}
