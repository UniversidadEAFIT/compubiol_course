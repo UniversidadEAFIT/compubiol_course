{
 "cells": [
  {
   "cell_type": "markdown",
   "metadata": {},
   "source": [
    "# Taller 2 - Python\n",
    "## Fundamentos en Biología Computacional\n",
    "## 2019-1, Prof. Javier Correa\n",
    "Nota: Se calificará que el código sea lo más simple, claro, original y eficiente. No usar funciones no realizadas por ustedes mismos."
   ]
  },
  {
   "cell_type": "markdown",
   "metadata": {},
   "source": [
    "1. Realice un función para expresar cualquier número entero en su conotación factorial. <br>\n",
    "Ejemplo: factorial(4)<br>\n",
    "Out: 24"
   ]
  },
  {
   "cell_type": "code",
   "execution_count": 1,
   "metadata": {},
   "outputs": [
    {
     "data": {
      "text/plain": [
       "24"
      ]
     },
     "execution_count": 1,
     "metadata": {},
     "output_type": "execute_result"
    }
   ],
   "source": [
    "def factorial (x):\n",
    " i=1\n",
    " fact=1\n",
    " while i<=x:\n",
    "   fact=fact*i\n",
    "   i+=1\n",
    " return fact   \n",
    "\n",
    "factorial(4)"
   ]
  },
  {
   "cell_type": "markdown",
   "metadata": {},
   "source": [
    "2. Realice un función para expresar la potencia de cualquier número. La función recibe como parámetros la base y el exponencial. <br>\n",
    "Ejemplo: potencia(4,2)<br>\n",
    "Out: 16"
   ]
  },
  {
   "cell_type": "code",
   "execution_count": 2,
   "metadata": {},
   "outputs": [
    {
     "data": {
      "text/plain": [
       "15625"
      ]
     },
     "execution_count": 2,
     "metadata": {},
     "output_type": "execute_result"
    }
   ],
   "source": [
    "def potencia(a,b):\n",
    " i=1\n",
    " pot=1\n",
    " while i<=b:\n",
    "    pot=pot*a\n",
    "    i+=1\n",
    " return pot \n",
    "\n",
    "potencia(5,6)"
   ]
  },
  {
   "cell_type": "markdown",
   "metadata": {},
   "source": [
    "3. Utilizando las dos funciones anteriormente definidas (factorial y potencia), realice un función para expresar el Coseno de un entero. <br>\n",
    "Ejemplo: coseno(5)<br>\n",
    "Out: 0.996194698"
   ]
  },
  {
   "cell_type": "code",
   "execution_count": 3,
   "metadata": {},
   "outputs": [
    {
     "data": {
      "text/plain": [
       "0.9961946980917455"
      ]
     },
     "execution_count": 3,
     "metadata": {},
     "output_type": "execute_result"
    }
   ],
   "source": [
    "import math #Para usar pi\n",
    "def potencia(a,b): #Potencia de un número\n",
    " i=1\n",
    " pot=1\n",
    " while i<=b:\n",
    "    pot=pot*a\n",
    "    i+=1\n",
    " return pot \n",
    "\n",
    "def factorial (x): #Factorial de un número\n",
    " i=1\n",
    " fact=1\n",
    " while i<=x:\n",
    "   fact=fact*i\n",
    "   i+=1\n",
    " return fact   \n",
    "\n",
    "def coseno(x):\n",
    " x=x*(math.pi/180)  #Grados a radianes. La función coseno recibe valores de x en radianes\n",
    " i=2\n",
    " neg=0\n",
    " j=4\n",
    " pos=0\n",
    " result=0\n",
    " while i<100: #Valores negativos del coseno. Con 100 iteraciones se obtiene una buena resolución de la función coseno\n",
    "    neg=neg-(potencia(x,i)/factorial(i))\n",
    "    i+=4\n",
    " while j<100: #Valores positivos del coseno\n",
    "    pos=pos+(potencia(x,j)/factorial(j))\n",
    "    j+=4\n",
    " result= 1+neg+pos  \n",
    " return result   \n",
    "   \n",
    "coseno(5)\n"
   ]
  },
  {
   "cell_type": "markdown",
   "metadata": {},
   "source": [
    "4. Dadas las cantidades de individuos con los genótipos AA, AB y BB. Calcular la frecuencia de los alelos A y B <br>\n",
    "Ejemplo: FrecuenciaAlelos(12,4,4) <br>\n",
    "Out: (0.7, 0.3)"
   ]
  },
  {
   "cell_type": "code",
   "execution_count": 4,
   "metadata": {},
   "outputs": [
    {
     "data": {
      "text/plain": [
       "[0.7, 0.3]"
      ]
     },
     "execution_count": 4,
     "metadata": {},
     "output_type": "execute_result"
    }
   ],
   "source": [
    "def alelos(a,b,c):\n",
    " den=a+b+c  \n",
    " frec=[(a+(b/2))/den,((b/2)+c)/den]\n",
    " return frec\n",
    "\n",
    "alelos(12,4,4)"
   ]
  },
  {
   "cell_type": "markdown",
   "metadata": {},
   "source": [
    "5. Dada una cadena de DNA retornar una de (-) RNA en sentido 5'-> 3' <br>\n",
    "Ejemplo: DNA_to_RNA(\"TCTCTACTCATGTCTGCA\")<br>\n",
    "Out: GUACUCACGUCUGCUCUC"
   ]
  },
  {
   "cell_type": "code",
   "execution_count": 5,
   "metadata": {},
   "outputs": [
    {
     "data": {
      "text/plain": [
       "'GUACUCACGUCUGCUCUC'"
      ]
     },
     "execution_count": 5,
     "metadata": {},
     "output_type": "execute_result"
    }
   ],
   "source": [
    "def dnaArna(secuencia): #Me dan una secuencia de DNA en sentido 3'-5' . Se genera el -RNA en sentido 3'-5'; se reporta en 5'-3'\n",
    " rna = \"\"\n",
    " for i in secuencia: #En últimas, el cambio de la secuencia en 3'-5' a -RNA puede entender como cambiar las T por C, A por G, U por G y G por A\n",
    "  if(i == \"T\"):\n",
    "    rna += \"C\"\n",
    "  if(i ==\"A\"):\n",
    "    rna +=\"G\"\n",
    "  if(i == \"C\"):\n",
    "    rna +=\"U\"\n",
    "  if(i == \"G\"):\n",
    "    rna +=\"A\"\n",
    "\n",
    " return rna [::-1]\n",
    "\n",
    "dnaArna('TCTCTACTCATGTCTGCA')    "
   ]
  },
  {
   "cell_type": "markdown",
   "metadata": {},
   "source": [
    "6. Realizar una función que calcule la Temperatura de Melting Promedio de un par de primers de DNA en grados Celcius. Teniendo en cuenta que; en un oligonucleótido < de 14 nucleótidos, la Tm se calcula multiplicando la cantidad de G+C por 4 y las A+T por 2. Mientras que, si es >= de 14 nt, se debe aplicar la siguiente fórmula (64.9 + 41 * (totalG+C -16.4) / Tamaño sel oligo). <br>\n",
    "Ejemplo: tempromelt(TCTCTACTCATGTCTGCA, TCGCGTGCACGTG)<br>\n",
    "Out: 44.88333333333334"
   ]
  },
  {
   "cell_type": "code",
   "execution_count": 6,
   "metadata": {},
   "outputs": [
    {
     "data": {
      "text/plain": [
       "44.88333333333334"
      ]
     },
     "execution_count": 6,
     "metadata": {},
     "output_type": "execute_result"
    }
   ],
   "source": [
    "def Tm(a,b):\n",
    " Tma=0;Tmb=0;GCa=0;ATa=0;GCb=0;ATb=0;i=0;j=0\n",
    " while i<len(a): #Conteo de GC y TA en secuencia a\n",
    "  if a[i]=='G' or a[i]=='C':\n",
    "    GCa+=1\n",
    "  else:\n",
    "    ATa+=1  \n",
    "  i+=1\n",
    " while j<len(b):#Conteo de GC y TA en secuencia b\n",
    "  if b[j]=='G' or b[j]=='C':\n",
    "    GCb+=1\n",
    "  else:\n",
    "    ATb+=1  \n",
    "  j+=1\n",
    " if GCa+ATa<14: #Tm según tamaño del primer\n",
    "   Tma=2*ATa+4*GCa\n",
    " else:\n",
    "   Tma=64.9+41*(GCa-16.4)/18 \n",
    " if GCb+ATb<14:\n",
    "   Tmb=2*ATb+4*GCb\n",
    " else:\n",
    "   Tmb=64.9+41*(GCb-16.4)/18   \n",
    " return (Tma+Tmb)/2\n",
    "Tm('TCTCTACTCATGTCTGCA','TCGCGTGCACGTG')\n"
   ]
  },
  {
   "cell_type": "markdown",
   "metadata": {},
   "source": [
    "7. Hallar la distancia Hamming entre dos secuencias dadas de polipéptidos. <br>\n",
    "link: https://es.wikipedia.org/wiki/Distancia_de_Hamming <br>\n",
    "Ejemplo: distancia_Hamming(\"SRSLLLRFLMSRSLLLRFLLFLLLLPPLPLFLLLLPPL\",\"SRSLLLRFLSSRSLLLRFLLFLLLLAALALFLLLLSML\")<br>\n",
    "Out:6"
   ]
  },
  {
   "cell_type": "code",
   "execution_count": 7,
   "metadata": {},
   "outputs": [
    {
     "data": {
      "text/plain": [
       "6"
      ]
     },
     "execution_count": 7,
     "metadata": {},
     "output_type": "execute_result"
    }
   ],
   "source": [
    "def distH (a,b):\n",
    " i=0\n",
    " diferencias=0\n",
    " while i<len(a): #Recorrer y contar diferencias\n",
    "   if a[i]!=b[i]:\n",
    "     diferencias+=1\n",
    "   i+=1   \n",
    " return diferencias\n",
    "distH('SRSLLLRFLMSRSLLLRFLLFLLLLPPLPLFLLLLPPL','SRSLLLRFLSSRSLLLRFLLFLLLLAALALFLLLLSML')      \n"
   ]
  },
  {
   "cell_type": "markdown",
   "metadata": {},
   "source": [
    "8. Dada la tabla de codones estandar, hacer una función para traducir una cadena de DNA empezando desde la posición 1 <br>\n",
    "Ejemplo: traducir(\"ATGGCGCGTATGAATAGCAATCCGAGCGCATGCCATGTTTGCCATGCGGCTCTGGCGGTCATTGATGCGTGCAATAACAATACCCGTAATAGCAATATCAATAGCTAA\")<br>\n",
    "Out: Met A R Met N S N P S A C H V C H A A L A V I D A C N N N T R N S N I N S Stop"
   ]
  },
  {
   "cell_type": "code",
   "execution_count": 8,
   "metadata": {},
   "outputs": [
    {
     "data": {
      "text/plain": [
       "'MARMNSNPSACHVCHAALAVIDACNNNTRNSNINSSTOP'"
      ]
     },
     "execution_count": 8,
     "metadata": {},
     "output_type": "execute_result"
    }
   ],
   "source": [
    "def traducir(dna):\n",
    " Codones={'ATT':'I','ATC':'I','ATA':'I','CTT':'L','CTC':'L','CTA':'L','CTG':'L','TTA':'L','TTG':'L','GTT':'V','GTC':'V','GTA':'V','GTG':'V','TTT':'F','TTC':'F','ATG':'M','TGT':'C',\n",
    "'TGC':'C','GCT':'A', 'GCC':'A','GCA':'A','GCG':'A','GGT':'G','GGC':'G',  'GGA':'G','GGG':'G','CCT':'P','CCC':'P','CCA':'P', 'CCG':'P','ACT':'T','ACC':'T','ACA':'T','ACG':'T',  \n",
    "'TCT':'S','TCC':'S','TCA':'S','TCG':'S','AGT':'S',  'AGC':'S','TAT':'Y','TAC':'Y','TGG':'W','CAA':'Q',  'CAG':'Q','AAT':'N','AAC':'N','CAT':'H','CAC':'H', 'GAA':'E','GAG':'E','GAT':\n",
    "'D','GAC':'D','AAA':'K', 'AAG':'K','CGT':'R','CGC':'R','CGA':'R','CGG':'R', 'AGA':'R','AGG':'R','TAA':'STOP','TAG':'STOP','TGA':'STOP'}\n",
    " peptido=[]\n",
    " fin = len(dna)-(len(dna)%3)-1\n",
    " for i in range(0,fin,3):\n",
    "  codon = dna[i:i+3]\n",
    "  if codon in Codones:\n",
    "    aa = Codones[codon]\n",
    "    peptido.append(aa)\n",
    " return \"\".join(peptido)\n",
    "\n",
    "\n",
    "traducir('ATGGCGCGTATGAATAGCAATCCGAGCGCATGCCATGTTTGCCATGCGGCTCTGGCGGTCATTGATGCGTGCAATAACAATACCCGTAATAGCAATATCAATAGCTAA')\n",
    "\n",
    " "
   ]
  },
  {
   "cell_type": "markdown",
   "metadata": {},
   "source": [
    "9. Usando la función anterior, traducir la secuencia de DNA dada en los 6 frames posibles para producir un polipéptido.\n",
    "Ejemplo: traducirALL(\"ATGGCGCGTATGAATAGCAATCCGAGCGCATGCCATGTTTGCCATGCGGCTCTGGCGGTCATTGATGCGTGCAATAACAATACCCGTAATAGCAATATCAATAGCTAA\")<br>\n",
    "Out: (Frame1:Met A R Met N S N P S A C H V C H A A L A V I D A C N N N T R N S N I N S Stop, Frame2:W R V Stop I A I R A H A Met F A Met R L W R S L Met R A I T I P V I A I S I A, Frame3:G A Y E Stop Q S E R Met P C L P C G S G G H Stop C V Q Stop Q Y P Stop Stop Q Y Q Stop L, Frame4:L A I D I A I T G I V I A R I N D R Q S R Met A N Met A C A R I A I H T R H, Frame5:Stop L L I L L L R V L L L H A S Met T A R A A W Q T W H A L G L L F I R A, Frame6:S Y Stop Y C Y Y G Y C Y C T H Q Stop P P E P H G K H G Met R S D C Y S Y A P)"
   ]
  },
  {
   "cell_type": "code",
   "execution_count": 9,
   "metadata": {},
   "outputs": [
    {
     "name": "stdout",
     "output_type": "stream",
     "text": [
      "Frame 1:MARMNSNPSACHVCHAALAVIDACNNNTRNSNINS\n",
      "Frame 2:WRVSTOPIAIRAHAMFAMRLWRSLMRAITIPVIAISIA\n",
      "Frame 3:GAYESTOPQSERMPCLPCGSGGHSTOPCVQSTOPQYPSTOPSTOPQYQSTOPL\n",
      "Frame 4:LAIDIAITGIVIARINDRQSRMANMACARIAIHTR\n",
      "Frame 5:STOPLLILLLRVLLLHASMTARAAWQTWHALGLLFIRA\n",
      "Frame 6:SYSTOPYCYYGYCYCTHQSTOPPPEPHGKHGMRSDCYSYAP\n"
     ]
    }
   ],
   "source": [
    "def secvolteada(dna):\n",
    "    complemento = {'A': 'T', 'C': 'G', 'G': 'C', 'T': 'A'}\n",
    "    return ''.join([complemento[base] for base in dna[::-1]]) \n",
    "\n",
    "def frames (seq): \n",
    "    i=0;j=0; \n",
    "    while i<3:\n",
    "        contador=str(i+1)\n",
    "        print('Frame '+contador+':'+traducir(seq[i:len(seq)-1]))\n",
    "        i+=1\n",
    "    while j<3:\n",
    "        contador=str(j+4)\n",
    "        reversocomp=secvolteada(seq)\n",
    "        print('Frame '+contador+':'+traducir(reversocomp[j:len(seq)-1]))\n",
    "        j+=1\n",
    "   \n",
    "        \n",
    "frames (\"ATGGCGCGTATGAATAGCAATCCGAGCGCATGCCATGTTTGCCATGCGGCTCTGGCGGTCATTGATGCGTGCAATAACAATACCCGTAATAGCAATATCAATAGCTAA\")"
   ]
  },
  {
   "cell_type": "markdown",
   "metadata": {},
   "source": [
    "10. Su código genético es esencialmente el mismo desde que nace hasta que muere, y el mismo en su sangre y su cerebro. Los genes que se activan y desactivan marcan la diferencia entre las células. Esta regulación de los genes está orquestada por un mecanismo inmensamente complejo, que solo hemos empezado a comprender. Una parte central de este mecanismo consiste en moléculas llamadas factores de transcripción que se adhieren al ADN, y al hacerlo, activan o desactivan los genes cercanos. Estas moléculas se unen preferentemente a secuencias específicas de ADN, y este patrón de preferencia de unión puede representarse mediante una tabla de frecuencias de símbolos dados en cada posición del patrón. Más precisamente, cada fila en la tabla corresponde a las bases A, C, G y T, mientras que la columna j refleja cuántas veces aparece la base en la posición j en la secuencia del ADN.\n",
    "\n",
    "    Por ejemplo; si nuestro conjunto de secuencias de ADN son TAG, GGT y GGG, la tabla se convierte en\n",
    "\n",
    "\n",
    "|base|\t0|\t1|\t2|\n",
    "|----|---|---|---|\n",
    "|A\t|0\t|1\t|0  |\n",
    "|C\t|0\t|0\t|0  |\n",
    "|G \t|2\t|2\t|2  |\n",
    "|T\t|1\t|0\t|1  |\n",
    "\n",
    "De esta tabla podemos leer que la base A aparece una vez en el índice 1 en las cadenas de ADN, la base C no aparece en absoluto, la base G aparece dos veces en todas las posiciones y la base T aparece una vez al principio y al final de las cadenas.\n",
    "\n",
    "a. Dada una lista de Strings con motivos de 4 nucleótidos, construir una matriz de frecuencias para las posiciones de los 4 nucleótidos. \n",
    "\n",
    "Ejemplo:<br>\n",
    "listamotivos =[\"ACTG\", \"CCAG\", \"AGAG\", \"CGTA\"]<br>\n",
    "MatrizFrecuencia(listamotivos)<br>\n",
    "Out: [[2, 0, 2, 1]<br>\n",
    " [2, 2, 0, 0]<br>\n",
    " [0, 2, 0, 3]<br>\n",
    " [0, 0, 2, 0]]<br>\n",
    " \n",
    "b. Realizar una función que retorne el nucleótido que más frecuencia obtuvo por posición. Si tienen la misma frecuecia retornar los valores iguales. <br>\n",
    "Ejemplo:<br>\n",
    "FrecuenciaMayorNt(MatrizFrecuencia(listamotivos))<br>\n",
    "Out: [[A:0.5, C:0.5],<br>\n",
    "[C:0.5,G:0.5],<br>\n",
    "[A:0.5,T:0.5],<br>\n",
    "[G:0.75]]<br>"
   ]
  },
  {
   "cell_type": "code",
   "execution_count": 10,
   "metadata": {},
   "outputs": [
    {
     "data": {
      "text/plain": [
       "[[2, 0, 2, 1], [2, 2, 0, 0], [0, 2, 0, 3], [0, 0, 2, 0]]"
      ]
     },
     "execution_count": 10,
     "metadata": {},
     "output_type": "execute_result"
    }
   ],
   "source": [
    "def conteo(lista): #Inciso A\n",
    " w=4;i=0;j=0\n",
    " frec=[[0 for x in range(w)] for y in range(w)]#Defino mi matriz de tamaño 4x4\n",
    " while i<4: #Ciclo externo\n",
    "   j=0 #Ciclo interno. Siempre recorro las posiciones externas primero. Es decir, me muevo entre filas, luego columnas\n",
    "   while j<4:\n",
    "    if lista[j][i]=='A': #Si encuentro un nucleótido, lo agrego a una posición fija. A a la fila 0, C a la 1, G a la 2, T a la 3\n",
    "      frec[0][i]+=1\n",
    "    elif lista[j][i]=='C':\n",
    "      frec[1][i]+=1\n",
    "    elif lista[j][i]=='G':\n",
    "      frec[2][i]+=1\n",
    "    elif lista[j][i]=='T':\n",
    "      frec[3][i]+=1\n",
    "    j+=1\n",
    "   i+=1    \n",
    " return(frec)\n",
    "\n",
    "conteo([\"ACTG\", \"CCAG\", \"AGAG\", \"CGTA\"])\n"
   ]
  },
  {
   "cell_type": "code",
   "execution_count": 11,
   "metadata": {},
   "outputs": [
    {
     "data": {
      "text/plain": [
       "[['A: 0.5', 'C: 0.5', 'G: 0.0', 'T: 0.0'],\n",
       " ['A: 0.0', 'C: 0.5', 'G: 0.5', 'T: 0.0'],\n",
       " ['A: 0.5', 'C: 0.0', 'G: 0.0', 'T: 0.5'],\n",
       " ['A: 0.25', 'C: 0.0', 'G: 0.75', 'T: 0.0']]"
      ]
     },
     "execution_count": 11,
     "metadata": {},
     "output_type": "execute_result"
    }
   ],
   "source": [
    "def frecletra(matriz):\n",
    "    matriz=conteo([\"ACTG\", \"CCAG\", \"AGAG\", \"CGTA\"])\n",
    "    w=4;i=0;j=0; \n",
    "    posición=[[0 for x in range(w)] for y in range(w)]\n",
    "    matrizf=[[0 for x in range(w)] for y in range(w)]\n",
    "    letras=[[0 for x in range(w)] for y in range(w)]\n",
    "    while i<4:\n",
    "        j=0\n",
    "        while j<4:\n",
    "            matrizf[i][j]=matriz[i][j]/4 #Primero debo llenar la matríz de frecuencias. Sólo sirve para los 4 nucleótidos, pero se puede modificar para que sirva con cualquier tamaño\n",
    "            j+=1\n",
    "        i+=1       \n",
    "    i=0; j=0\n",
    "    while i<4:\n",
    "        j=0\n",
    "        while j<4:\n",
    "            matrizf[i][j]=matriz[i][j]/4\n",
    "            posición[i][j]=matrizf[j][i] #Luego lleno la matriz de frecuencia por posición: cada dimensión [i] de la matríz corresponde  a una posición\n",
    "            if j==0:\n",
    "                letras[i][j]= 'A: '+ str(posición[i][j])\n",
    "            if j==1:\n",
    "                letras[i][j]= 'C: '+ str(posición[i][j])\n",
    "            if j==2:\n",
    "                letras[i][j]= 'G: '+ str(posición[i][j])\n",
    "            if j==3:\n",
    "                letras[i][j]= 'T: '+ str(posición[i][j])\n",
    "            j+=1\n",
    "        i+=1       \n",
    "    return(letras)  #Creo que es más informativo indicar la frecuencia relativa que tiene cada nucleótido por posición, no solamente el mayor. Estoy seguro de que este código \n",
    "#se puede optimizar mucho.\n",
    "\n",
    "frecletra(conteo([\"ACTG\", \"CCAG\", \"AGAG\", \"CGTA\"]))\n",
    "    \n",
    "    "
   ]
  },
  {
   "cell_type": "code",
   "execution_count": null,
   "metadata": {},
   "outputs": [],
   "source": []
  }
 ],
 "metadata": {
  "kernelspec": {
   "display_name": "Python 3",
   "language": "python",
   "name": "python3"
  },
  "language_info": {
   "codemirror_mode": {
    "name": "ipython",
    "version": 3
   },
   "file_extension": ".py",
   "mimetype": "text/x-python",
   "name": "python",
   "nbconvert_exporter": "python",
   "pygments_lexer": "ipython3",
   "version": "3.6.5"
  }
 },
 "nbformat": 4,
 "nbformat_minor": 2
}
