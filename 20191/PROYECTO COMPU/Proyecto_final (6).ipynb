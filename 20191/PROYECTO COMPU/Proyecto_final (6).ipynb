{
 "cells": [
  {
   "cell_type": "markdown",
   "metadata": {},
   "source": [
    "# Diseño de código para alinear una especie de felide desconocida con las secuencias de 5 especies del género panthera establecidas por medio del gen mitocondrial citocromo b\n",
    "\n",
    "\n"
   ]
  },
  {
   "cell_type": "markdown",
   "metadata": {},
   "source": [
    "Andrea Ramírez Villa\n",
    "Universidad Eafit 2019 "
   ]
  },
  {
   "cell_type": "markdown",
   "metadata": {},
   "source": [
    "### Resumen\n",
    "\n",
    "Este proyecto consiste en hacer alineamientos de secuencias por medio del gen mitocondrial citocromo b para comparar una especie desconocida de felido con 5 especies pertenecientes al género pantherinae, de esta manera se logrará determinar o asociar a nivel evolutivo o funcional esta especie con alguna de las otras. Es necesario aclarar que el código diseñado  e implementado en el presente trabajo es válido para evaluar diferentes muestras desconocidas, con el fin de encontrar una relación con otras secuencias ya establecidas. "
   ]
  },
  {
   "cell_type": "markdown",
   "metadata": {},
   "source": [
    "### Introducción\n",
    "\n",
    "A mediados de los años 50 el hombre comienza a cuestionarse acerca de su composición y conformación, de esta manera surge su ánimo por secuenciar pequeñas moléculas, de las cuales las proteínas ocuparon el primer lugar. La cantidad de secuencias fue tan amplia, que se diseño una base de datos para ubicar todas las encontradas hasta el momento (Benítez-Páez & Cárdenas-Brito, 2010) . Hoy en día no solo hay bases de datos para proteínas, también existen para las diferentes moléculas de ADN y ARN. La búsqueda de conocimiento por tratar de entender el significado a la diversidad biológica de nuestro ecosistema no se detiene, la primera matriz de sustitución de aminoácidos, la generación de algoritmos matemáticos, el algoritmo BLAST, el proyecto del genoma humano, entre otros acontecimientos han permitido forjar la comprensión de datos biológicos a través del tiempo (Benítez-Páez & Cárdenas-Brito, 2010). \n",
    "\n",
    "\n",
    "Es un hecho que la bioinformática es una ciencia integra muy reciente que promete el desarrollo de un vasto conocimiento científico, pues a pesar de tener sus inicios en los años 50 es en las últimas décadas que se obtienen las primeras bases de datos y el desarrollo de algoritmos computacionales planteados para el análisis de secuencias con el fin de encontrar verdaderas relaciones filogenéticas entre especies (Benítez-Páez & Cárdenas-Brito, 2010). Este último hallazgo ha permitido dilucidar diversas incertidumbres y plantear nuevas metodologías para abordar temáticas biológicas. Entonces para llevar a cabo estos análisis moleculares evolutivos son varias las secuencias de genes que se pueden seleccionar, una de ellas es la del citocromo b mitocondrial, implementado en numerosos estudios filogenéticos de mamíferos, debido a la variabilidad de la secuencia que se da en este gen suele utilizarse para la comparación de especies pertenecientes al mismo género o familia (Castresana, 2001). Otra alternativa para la identificación de especies pertenecientes a la clase mamalia se fundamenta en la morfología de los cráneos y las mandíbulas, sin embargo esta técnica puede no ser eficiente al comparar algunos géneros, ya que la morfología no permite diferenciar de forma significativa una especie de otra, es por esta razón que los genes mitocondriales se toman como una opción, además de las razones ya dadas, hay otras ventajas, tales como el ratio de sustitución nucleotídico entre genes es más rápido que el ADN nuclear. Así mismo, este material genético se hereda como una única unidad haploide que tiene una tasa de recombinación baja (Roca Couso, 2016).  \n",
    "\n",
    "\n",
    "En este proyecto se pretende evaluar por medio de un algoritmo, la alineación del citocromo b mitocondrial de una especie desconocida de felido con el citocromo b de 5 especies del género pantherinae ya conocidos. El algoritmo arrojará a cuál de todas las 5 secuencias de las diferentes especies se asemeja más. El código diseñado puede realizar los alineamientos de las especies que se quieran analizar, no es un algoritmo restringido, su uso puede darse para evaluar diferentes especies, genéros, organismos con la molécula que se quiera comparar. En este caso, es uno mitocondrial, pero puede abarcar diferentes genes.  \n",
    "\n"
   ]
  },
  {
   "cell_type": "markdown",
   "metadata": {},
   "source": [
    "### Metodología\n",
    "\n",
    "La realización del código se llevó a cabo por medio de la librería disponible biopython y con el manual de apoyo que se encuentra en internet. Para emplear el código se requiere de una muestra problema y unas muestras ya estipuladas que permitan comparar la secuencia y notar cuál de todas se parece más, es así como se espera determinar si existe un grado de relación o no entre estas.   \n",
    "El uso del algoritmo se hace de la siguiente manera:\n",
    "\n",
    "1) Se deben almacenar las secuencias que se desean comparar en formato fasta. En este caso, se descargaron 6 secuencias de la base de datos del NCBI. Cinco de ellas se utilizaron como muestras conocidas estas comprenden las 5 especies pertenecientes al género panthera y otra como muestra problema perteneciente perteneciente a la familia felidae.\n",
    "\n",
    "2) Antes de correr el código se debe aclarar en la variable salida=classifier(), dentro del paréntesis la cantidad de secuencias base con las que se quiere evaluar una secuencia desconocida. Depués aprecerán las etiquetas donde se debe poner el nombre de cómo se guardaron las secuencias en tipo fasta y el nombre para reconocer las secuencias que se van a comparar. Después se debe poner la secuencia desconocida. Una vez corrido el código se mostrará la secuencia de mayor similitud. \n",
    "\n",
    "3) La salida mostrará el puntaje de los alineamientos de la especie desconocida con las otras especies, reflejando así una relación.\n",
    "\n",
    "4) En caso de que existan puntajes muy similares se encuentran los otros códigos. "
   ]
  },
  {
   "cell_type": "code",
   "execution_count": 1,
   "metadata": {},
   "outputs": [],
   "source": [
    "from Bio import SeqIO\n",
    "from Bio import Align"
   ]
  },
  {
   "cell_type": "code",
   "execution_count": 2,
   "metadata": {},
   "outputs": [
    {
     "name": "stdout",
     "output_type": "stream",
     "text": [
      "Grupo 1\n",
      "Ingrese la etiqueta de la Secuencia: uncia\n",
      "Ingrese la dirección de la secuencia (Archivo FASTA): uncia.fasta\n",
      "\n",
      "\n",
      "Grupo 2\n",
      "Ingrese la etiqueta de la Secuencia: tigris\n",
      "Ingrese la dirección de la secuencia (Archivo FASTA): tigris.fasta\n",
      "\n",
      "\n",
      "Grupo 3\n",
      "Ingrese la etiqueta de la Secuencia: pardus\n",
      "Ingrese la dirección de la secuencia (Archivo FASTA): pardus.fasta\n",
      "\n",
      "\n",
      "Grupo 4\n",
      "Ingrese la etiqueta de la Secuencia: onca\n",
      "Ingrese la dirección de la secuencia (Archivo FASTA): onca.fasta\n",
      "\n",
      "\n",
      "Grupo 5\n",
      "Ingrese la etiqueta de la Secuencia: leo\n",
      "Ingrese la dirección de la secuencia (Archivo FASTA): leo.fasta\n",
      "\n",
      "\n",
      "Ingrese la dirección de la secuencia a clasificar (Archivo FASTA): \n",
      "aevaluar.fasta\n",
      "\n",
      "\n",
      "**La secuencia/s con mayor grado de homogeneidad es/son: \n",
      "\n",
      "tigris\n",
      "\n"
     ]
    }
   ],
   "source": [
    "def Classifier(nCluster):\n",
    "    \"\"\"Funcion para la clasificacion entre especies en base alineamientos \"\"\"\n",
    "    clusterName=[] #lista para guardar las etiquetas de las secuencias a comparar\n",
    "    seqBank=[] #Lista de secuencias asociadas por posicion a su etiqueta respectiva\n",
    "    contador=1\n",
    "    \n",
    "    #Ciclo para ingreso de secuencias de cada grupo\n",
    "    for cluster in range(nCluster):\n",
    "        print(\"Grupo \"+str(contador))\n",
    "        Name=input(\"Ingrese la etiqueta de la Secuencia: \")\n",
    "        seq=input(\"Ingrese la dirección de la secuencia (Archivo FASTA): \")\n",
    "        print(\"\\n\")\n",
    "        record = SeqIO.read(seq, \"fasta\")#metodo para la carga del archivo .fasta\n",
    "        seqBank.append(record.seq)#almacenamiento de la secuencia como tal (Atributo .seq de record)\n",
    "        clusterName.append(Name)#Almacenamiento de la etiqueta\n",
    "        contador=contador+1\n",
    "    \n",
    "    #Ingreso de la secuencia a clasificar\n",
    "    dirnewSeq=input(\"Ingrese la dirección de la secuencia a clasificar (Archivo FASTA): \\n\")\n",
    "    newSeq=SeqIO.read(dirnewSeq, \"fasta\")\n",
    "    newSeq=newSeq.seq\n",
    "    \n",
    "    #Alineamiento\n",
    "    Scores=[] #Lista para almacenar los mejores puntajes de cada alineamiento entre la secuencia a clasificar y los grupos dados\n",
    "    aligner = Align.PairwiseAligner()#Creacion del tipo de variable (Objeto) que permite alinear dos secuencias\n",
    "    for seq in seqBank:\n",
    "        score = aligner.score(newSeq,seq) #El metodo .score del objeto aligner retorna la puntuacion del mejor alineamiento entre las secuencias dadas\n",
    "        Scores.append(score) #Se almacena la puntuacion \n",
    "    \n",
    "    PositionmaxScore=[]\n",
    "    maxScore=max(Scores)\n",
    "    Position=Scores.index(maxScore)\n",
    "    PositionmaxScore.append(Position)\n",
    "    \n",
    "    #Ciclo para evaluar si hay una puntuacion mayor igual en mas de un grupo\n",
    "    while(maxScore in Scores[Position+1:]):\n",
    "        prePosition=Position #Se guarda la posicion anterior donde habia un dato maximo\n",
    "        newPosition=Scores[Position+1:].index(maxScore) #Se encuentra la nueva posicion dentro de la sublista generada al evaluar los posibles valores maximos luego de la primera posicion de valor maximo encontrada        Position=prePosition+newPosition+1\n",
    "        PositionmaxScore.append(Position) #Se almacena la posicion maxima\n",
    "    print(\"\\n\")\n",
    "    print(\"**La secuencia/s con mayor grado de homogeneidad es/son: \\n\")\n",
    "    for target in PositionmaxScore:\n",
    "        print(clusterName[target]+\"\\n\")\n",
    "    \n",
    "    return [Scores,clusterName]\n",
    "    \n",
    "salida=Classifier(5)\n"
   ]
  },
  {
   "cell_type": "code",
   "execution_count": 3,
   "metadata": {
    "scrolled": true
   },
   "outputs": [
    {
     "data": {
      "text/plain": [
       "[[987.0, 993.0, 984.0, 991.0, 986.0],\n",
       " ['uncia', 'tigris', 'pardus', 'onca', 'leo']]"
      ]
     },
     "execution_count": 3,
     "metadata": {},
     "output_type": "execute_result"
    }
   ],
   "source": [
    "salida\n"
   ]
  },
  {
   "cell_type": "code",
   "execution_count": 8,
   "metadata": {},
   "outputs": [],
   "source": [
    "Scores=[1,2,5,3,5,2,1,5,4,3,5]\n",
    "PositionmaxScore=[]\n",
    "maxScore=max(Scores)\n",
    "Position=Scores.index(maxScore)\n",
    "PositionmaxScore.append(Position)"
   ]
  },
  {
   "cell_type": "code",
   "execution_count": 9,
   "metadata": {},
   "outputs": [
    {
     "data": {
      "text/plain": [
       "[2, 1, 5, 4, 3, 5]"
      ]
     },
     "execution_count": 9,
     "metadata": {},
     "output_type": "execute_result"
    }
   ],
   "source": [
    "Scores[5:]"
   ]
  },
  {
   "cell_type": "code",
   "execution_count": 10,
   "metadata": {},
   "outputs": [
    {
     "name": "stdout",
     "output_type": "stream",
     "text": [
      "4\n",
      "7\n",
      "10\n"
     ]
    }
   ],
   "source": [
    "while(maxScore in Scores[Position+1:]):\n",
    "    prePosition=Position\n",
    "    newPosition=Scores[Position+1:].index(maxScore)\n",
    "    Position=prePosition+newPosition+1\n",
    "    PositionmaxScore.append(Position)\n",
    "    print(Position)"
   ]
  },
  {
   "cell_type": "code",
   "execution_count": 11,
   "metadata": {},
   "outputs": [
    {
     "data": {
      "text/plain": [
       "[2, 4, 7, 10]"
      ]
     },
     "execution_count": 11,
     "metadata": {},
     "output_type": "execute_result"
    }
   ],
   "source": [
    "PositionmaxScore"
   ]
  },
  {
   "cell_type": "markdown",
   "metadata": {},
   "source": [
    "### Resultados y discusión\n",
    "\n",
    "A partir de los resultados obtenidos del algoritmo, es posible afirmar que la especie evaluada está relacionada o posee una mayor similitud en su secuencia con la especie panthera tigris. El código implementado puede ser de ayuda, pero se requiere tal vez un poco más de información para poder realizar este tipo de afirmaciones, se podrían adicionar más secuencias de otras especies para arrojar mejores resultados. \n"
   ]
  },
  {
   "cell_type": "markdown",
   "metadata": {},
   "source": [
    "### Conclusiones\n",
    "\n",
    "La bionformática y la biología computacional son herramientas interdisciplinarias de gran apoyo para interpretar temáticas biológicas. Su aplicación ha generado un gran avance en la carrera del conocimiento y cada vez su uso se hace más necesario.\n",
    "Indudablemente el manejo de las técnicas propuestas por estas áreas, garantizarán el progreso y la resolución de innumerables cuestionamientos que abarcan las 4 problemáticas del siglo XXI a las que todo biólogo está dispuesto a resolver. Se pudo evidenciar y remarcar la importancia del citocromo b mitocondrial. "
   ]
  },
  {
   "cell_type": "markdown",
   "metadata": {},
   "source": [
    "### Bibliografía\n",
    "\n",
    "Benítez-Páez, A., & Cárdenas-Brito, S. (2010). Bioinformática en Colombia: presente y futuro de la investigación biocomputacional. Biomédica (Vol. 30). Retrieved from http://www.ensembl.org\n",
    "\n",
    "Castresana, J. (2001). Cytochrome b Phylogeny and the Taxonomy of Great Apes and Mammals. Mol. Biol. Evol, 18(4), 465–471. Retrieved from www.molbiolevol.org\n",
    "\n",
    "Roca Couso, R. (2016). Análisis filogenético de las especies del género Panthera. Retrieved from https://ruc.udc.es/dspace/bitstream/handle/2183/17200/RocaCouso_Rocio_TFG_2016.pdf?sequence=2&isAllowed=y\n",
    "\n",
    "\n",
    "\n"
   ]
  }
 ],
 "metadata": {
  "kernelspec": {
   "display_name": "Python 3",
   "language": "python",
   "name": "python3"
  },
  "language_info": {
   "codemirror_mode": {
    "name": "ipython",
    "version": 3
   },
   "file_extension": ".py",
   "mimetype": "text/x-python",
   "name": "python",
   "nbconvert_exporter": "python",
   "pygments_lexer": "ipython3",
   "version": "3.7.1"
  }
 },
 "nbformat": 4,
 "nbformat_minor": 2
}
