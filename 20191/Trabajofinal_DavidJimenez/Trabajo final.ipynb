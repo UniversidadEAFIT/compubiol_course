{
 "cells": [
  {
   "cell_type": "markdown",
   "metadata": {},
   "source": [
    "# PROYECTO FINAL FUNDAMENTOS EN BIOLOGÍA COMPUTACIONAL\n",
    "### Mayo 28 / 2019\n",
    "\n",
    "### David Jiménez Londoño - 201610013183\n",
    "\n",
    "\n"
   ]
  },
  {
   "cell_type": "markdown",
   "metadata": {},
   "source": [
    "EL GBIF (Global Biodiversity Information Facility por sus siglas en inglés) es una red internacional abierta que provee diferentes datos sobre gran cantidad de especies a cualquier persona en el planeta con acceso a internet. \n",
    "\n",
    "El GBIF permite a los usuarios descargar información sobre avistamientos de especies en diferentes países a lo largo del mundo. Sin embargo, al momento de obtener esta información, puede volverse complicado de interpretar, debido a que, generalmente, el número de datos es bastante considerable. Por esto, decidí, para el trabajo final de la saignatura Fundamentos en Biología COmputacional, estructurar un código que me permita observar cuál es el número de ocurrencias de una especie es particular por cada lugar que se desea examinar."
   ]
  },
  {
   "cell_type": "markdown",
   "metadata": {},
   "source": [
    "### Preparación del archivo .csv obtenido del GBIF"
   ]
  },
  {
   "cell_type": "markdown",
   "metadata": {},
   "source": [
    "Como mencioné anteriormente, el gran número de datos pueden volver la manipulación del archivo un poco compleja, por lo que agregaré cómo se debe organizarse el archivo correctamente para poder hacer uso del código.\n",
    "\n",
    "Lo primero que se debe hacer es ingresar a la página del GBIF *(https://www.gbif.org/)* y crear una cuenta. Luego, en la parte superior, encontrará una opción llamada **Get data**, en donde deberá hacer clic y luego en la opción **ocurrences**, desde donde podrá buscar la especie de interés y podrá filtrar los datos como los necesite, pero, para usar el presente código, necesita tener principalmente aquellos encontrados en la columna de **country or area**. Cuando ya haya seleccionado los datos, deberá ir a **Downloads** desde donde generará el archivo con su respectivo formato, el cuál deberá ser **.csv**. \n",
    "\n",
    "Cuando ya se encuentre en su ordenador, dirijase al archivo y ábralo. Al hacerlo, es posible que no encuentre sus datos organizados en columnas. Para solucionar esto, seleccione la columna **A**, luego dirijase a la pestaña **datos** y luego a la opción **Texto en columnas**, allí deberá seleccionar **Delimitados**, luego **Tabulación** y **Finalizar** para que su información sea organizada por columnas. \n",
    "\n",
    "Para el siguiente paso, se recomiendan dos acciones: \n",
    "1. Crear una copia del archivo y eliminar todas las columnas excepto **Countrycode**. \n",
    "2. Tomar la columa de **Countrycode** del archivo **.csv**, llevarla a un nuevo documento de excel y guardarlo con el mismo formato. \n",
    "\n",
    "Lo anterior es necesario hacerlo porque el archivo posee algunos datos erróneos que van a evitar que el archivo sea leído correctamente. Sin embargo, con los datos de los países aislados, no debería presentar problemas para generar el gráfico de nuestro interés. "
   ]
  },
  {
   "cell_type": "markdown",
   "metadata": {},
   "source": [
    "### Manual para usar el código"
   ]
  },
  {
   "cell_type": "markdown",
   "metadata": {},
   "source": [
    "Lo primero que debe hacerse es abrir el archivo .csv en python. Para ello, solo se debe definir donde se encuentra el archivo de interés y colocar su ubicación en **datos = open('C:/Users/David J/Desktop/GBIF3.csv', 'r')** encontrado en la celda de comando. Para el ejemplo, el archivo, llamado **GBIF3.csv** se encuentra en una carpeta llamada **Trabajofinal_DavidJimenez**, que a su vez se halla en el escritorio del computador en el usuario **David J**. \n",
    "\n",
    "Para que el gráfico nos muestre correctamente los países encontrados en el archivo, se deben agregar tantas variables como número de países hayan. En el ejemplo, tenemos seis países (Nicaragua, Colombia, Panamá, Costa Rica, México y Brasil) por lo cual se deben usar seis variables: \n",
    "\n",
    "+ a = M[1][0]\n",
    "+ b = M[2][0]\n",
    "+ c = M[3][0]\n",
    "+ d = M[4][0]\n",
    "+ e = M[5][0]\n",
    "+ f = M[6][0]\n",
    "\n",
    "Es necesario, que al momento de definir las variables, se vayan agregando igualmente el orden numérico entre corchetes ([ ]) seguido del número cero también entre corchetes ([ ]), debido a que, dentro de una lista, se encuentran los países apareados con el número de veces que se repiten dentro del archivo y, para generar la gráfica, es necesario tomar por aparte cada uno. Para ello se usan los corchetes anteriormente propuestos para sacar únicamente los países, y, para sacar solo los valores, usamos la misma estructura, con nombres de variables diferentes y, en el segundo corchete, colocamos el número uno. \n",
    "\n",
    "+ g = M[1][1]\n",
    "+ h = M[2][1]\n",
    "+ i = M[3][1]\n",
    "+ j = M[4][1]\n",
    "+ k = M[5][1]\n",
    "+ l = M[6][1]\n",
    "\n",
    "De igual forma, las nuevas variables deben agregarse a las listas que son tomadas para realizar la gráfica, por lo que es necesario continuar con la estructura propuesta: \n",
    "1. Para los países: \n",
    "    + ubicacion.append(a)\n",
    "    + ubicacion.append(b)\n",
    "    + ubicacion.append(c)\n",
    "    + ubicacion.append(d)\n",
    "    + ubicacion.append(e)\n",
    "    + ubicacion.append(f)\n",
    " \n",
    " \n",
    "2. Para el número de repeticiones:\n",
    "    + ocurrencias.append(g)\n",
    "    + ocurrencias.append(h)\n",
    "    + ocurrencias.append(i)\n",
    "    + ocurrencias.append(j)\n",
    "    + ocurrencias.append(k)\n",
    "    + ocurrencias.append(l)\n",
    "    \n",
    "Por último, se debe agregar el nombre del gráfico y de ambos ejes en los siguientes espacios: \n",
    "+ plt.title('Distribucion de Atta cephalotes en America')\n",
    "+ plt.xlabel('Países')\n",
    "+ plt.ylabel('Número de Ocurrencias')\n",
    "\n",
    "Luego de hacer esto, seleccionamos la casilla **Run** en la parte superior o tecleamos **ctrl + Enter** para obtener el gráfico de los países y el número de ocurrencias que deseamos.\n"
   ]
  },
  {
   "cell_type": "code",
   "execution_count": 11,
   "metadata": {},
   "outputs": [
    {
     "data": {
      "image/png": "[encoded data removed]",
      "text/plain": [
       "<Figure size 432x288 with 1 Axes>"
      ]
     },
     "metadata": {
      "needs_background": "light"
     },
     "output_type": "display_data"
    }
   ],
   "source": [
    "import csv\n",
    "import re\n",
    "import matplotlib.pyplot as plt\n",
    "import numpy as np\n",
    "import collections\n",
    "datos = open('C:/Users/David J/Desktop/Trabajofinal_DavidJimenez/GBIF3.csv', 'r')\n",
    "d = datos.readlines()\n",
    "# print(d)\n",
    "# print(len(d))\n",
    "pais = []\n",
    "for line in d: \n",
    "    if line.split(';')[0] not in pais: \n",
    "        aux = line.split(';')[0]\n",
    "        pais.append(aux)\n",
    "#         print(aux)\n",
    "# print(pais)   \n",
    "N = collections.Counter(d)\n",
    "ubicacion = []\n",
    "ocurrencias = []\n",
    "M = list(N.items())\n",
    "# print(M)\n",
    "a = M[1][0]\n",
    "b = M[2][0]\n",
    "c = M[3][0]\n",
    "d = M[4][0]\n",
    "e = M[5][0]\n",
    "f = M[6][0]\n",
    "# print(a)\n",
    "ubicacion.append(a)\n",
    "ubicacion.append(b)\n",
    "ubicacion.append(c)\n",
    "ubicacion.append(d)\n",
    "ubicacion.append(e)\n",
    "ubicacion.append(f)\n",
    "# print(ubicacion)\n",
    "\n",
    "g = M[1][1]\n",
    "h = M[2][1]\n",
    "i = M[3][1]\n",
    "j = M[4][1]\n",
    "k = M[5][1]\n",
    "l = M[6][1]\n",
    "\n",
    "ocurrencias.append(g)\n",
    "ocurrencias.append(h)\n",
    "ocurrencias.append(i)\n",
    "ocurrencias.append(j)\n",
    "ocurrencias.append(k)\n",
    "ocurrencias.append(l)\n",
    "# print(ocurrencias)\n",
    "\n",
    "plt.plot(ubicacion, ocurrencias)\n",
    "plt.title('Distribucion de Atta cephalotes en America')\n",
    "plt.xlabel('Países')\n",
    "plt.ylabel('Número de Ocurrencias')\n",
    "plt.show()\n"
   ]
  },
  {
   "cell_type": "markdown",
   "metadata": {},
   "source": [
    "### Conclusiones"
   ]
  },
  {
   "cell_type": "markdown",
   "metadata": {},
   "source": [
    "+ El presente código permite interpretar más fácilmente la información suministrada por el GBIF, sin embargo, los datos erróneos dentro del archivo conitnúan logrando que la manipulación de los datos requiera una preparación previa para su análisis. \n",
    "\n",
    " \n",
    "+ A pesar de que el código es útil, puede ser mejorado de tal forma que el número de variables y sus repeticiones sean agregados de forma automática en la lista de Ubicacion y Ocurrencias, para eliminar los punto y coma (;) observados en el eje X o para generar gráficas de los demás datos descargados desde el GBIF, por lo que quedan opciones para futuras proyectos de la materia. "
   ]
  }
 ],
 "metadata": {
  "kernelspec": {
   "display_name": "Python 3",
   "language": "python",
   "name": "python3"
  },
  "language_info": {
   "codemirror_mode": {
    "name": "ipython",
    "version": 3
   },
   "file_extension": ".py",
   "mimetype": "text/x-python",
   "name": "python",
   "nbconvert_exporter": "python",
   "pygments_lexer": "ipython3",
   "version": "3.7.1"
  }
 },
 "nbformat": 4,
 "nbformat_minor": 2
}
