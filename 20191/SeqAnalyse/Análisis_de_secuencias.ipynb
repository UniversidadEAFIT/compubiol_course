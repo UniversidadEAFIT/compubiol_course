{
 "cells": [
  {
   "cell_type": "markdown",
   "metadata": {},
   "source": [
    "# **Análisis de secuencias**\n",
    "## Fundamentos en Biología computacional\n",
    "## *by Prof. Javier C. Alvarez*\n",
    "\n",
    "![intro](ClusterHenry.gif)"
   ]
  },
  {
   "cell_type": "markdown",
   "metadata": {},
   "source": [
    "## **Index**\n",
    "1. [Introduction](#Introduction)\n",
    "2. [Sanger Sequencing method](#2.-Principio-del-Secuenciamiento-Sanger)\n",
    "    1. [Surfing in raw data](#A.-Tipología-de-datos-Sanger)\n",
    "    2. [Phred Phrap Score](#B.-Phred&Phrap-Score)\n",
    "    3. [Trimming software](#C.-Programas-para-manipular-secuencias-Sanger)\n",
    "    4. [Scripting](#D.-Scripting)\n",
    "    5. Excercise with Sanger sequences"
   ]
  },
  {
   "cell_type": "markdown",
   "metadata": {},
   "source": [
    "## Introduction\n",
    "Evolution of prices in sequencing\n",
    "![moore](moore.png)"
   ]
  },
  {
   "cell_type": "markdown",
   "metadata": {},
   "source": [
    "Amount of data in the Genbank\n",
    "![genbank](genbank.png)"
   ]
  },
  {
   "cell_type": "markdown",
   "metadata": {},
   "source": [
    "## 2. Principio del Secuenciamiento Sanger\n",
    "## Método de dideoxy\n",
    "![dideoxy](dideoxy.png)\n"
   ]
  },
  {
   "cell_type": "markdown",
   "metadata": {},
   "source": [
    "### Método de Sanger (1975)\n",
    "![sanger](sanger1975.png)"
   ]
  },
  {
   "cell_type": "markdown",
   "metadata": {},
   "source": [
    "### A. Tipología de datos Sanger\n",
    "Generalmente al contratar un servicio de secuenciamiento tipo Sanger, se envía un tubo con el amplicón y los dos cebadores usados (Forward y Reverse). De regreso el usuario recibe 4 archivos por cebador:<br>\n",
    "sample1_fw.txt -> Sequencia en formato fasta <br>\n",
    "sample1_fw.ab1 -> Archivo con raw data binaria, archivo de interés <br>\n",
    "sample1_fw.phd1 -> Archivo con cromatogramas <br>\n",
    "sample1_fw.pdf -> Archivo con resultados versión impresa <br>"
   ]
  },
  {
   "cell_type": "code",
   "execution_count": 13,
   "metadata": {},
   "outputs": [
    {
     "name": "stdout",
     "output_type": "stream",
     "text": [
      ">170407-040_A07_S6_27F.ab1\t1271\r\n",
      "CGACAAATTAAAAGCGTACTAGACATGCAGTCGAACGAACTCTGGTATTG\r\n",
      "ATTGGTGCTTGCATCATGATTTACATTTGAGAGAGTGGCGAACTGGTGAG\r\n",
      "TAACACGTGGGAAACCTGCCCAGAAGCGGGGGATAACACCTGGAAACAGA\r\n",
      "TGCTAATACCGCATAACAACTTGGACCGCATGGTCCGAGCTTGAAAGATG\r\n",
      "GCTTCGGCTATCACTTTTGGATGGTCCCGCGGCGTATTAGCTAGATGGTG\r\n",
      "GGGTAACGGCTCACCATGGCAATGATACGTAGCCGACCTGAGAGGGTAAT\r\n",
      "CGGCCACATTGGGACTGAGACACGGCCCAAACTCCTACGGGAGGCAGCAG\r\n",
      "TAGGGAATCTTCCACAATGGACGAAAGTCTGATGGAGCAACGCCGCGTGA\r\n",
      "GTGAAGAAGGGTTTCGGCTCGTAAAACTCTGTTGTTAAAGAAGAACATAT\r\n",
      "CTGAGAGTAACTGTTCAGGTATTGACGGTATTTAACCAGAAAGCCACGGC\r\n",
      "TAACTACGTGCCAGCAGCCGCGGTAATACGTAGGTGGCAAGCGTTGTCCG\r\n",
      "GATTTATTGGGCGTAAAGCGAGCGCAGGCGGTTTTTTAAGTCTGATGTGA\r\n",
      "AAGCCTTCGGCTCAACCGAAGAAGTGCATCGGAAACTGGGAAACTTGAGT\r\n",
      "GCAGAAGAGGACAGTGGAACTCCATGTGTAGCGGTGAAATGCGTAGATAT\r\n",
      "ATGGAAGAACACCAGTGGCGAAGGCGGCTGTCTGGTCTGTAACTGACGCT\r\n",
      "GAGGCTCGAAAGTATGGGTAGCAAACAGGATTAGATACCCTGGTAGTCCA\r\n",
      "TACCGTAAACGATGAATGCTAAGTGTTGGAGGGTTTCCGCCCTTCAGTGC\r\n",
      "TGCAGCTAACGCATTAAGCATTCCGCCTGGGGAGTACGGCCGCAAGGCTG\r\n",
      "AAACTCAAAGGAATTGACGGGGGCCCGCACAAGCGGTGGAGCATGTGGTT\r\n",
      "TAATTCGAAGCTACGCGAAGAACCTTACCAGGTCTTGACATACTATGCAA\r\n",
      "ATCTAGAGATTAGACGTTCCCTTCGGGGACATGGATACAGGTGGTGCATG\r\n",
      "GTTGTCGTCAGCTCGTGTCGTGAGATGTTGGGGTTAGTCCCGCACGAGCG\r\n",
      "CACCCTTATTATCAGTTGCAGCATAGTGGGCACCTCTGATGGAGACTGCG\r\n",
      "TGACAACGAGAGGTGGGGATGACGGTCATCATCATGCCTTATGACTGGGC\r\n",
      "CTAACACGTGCTCAATTGAATGGCATACAACGATTGCGACTCCGCCGAAA\r\n",
      "GAGATAAGCTAATCTCCCGTA"
     ]
    }
   ],
   "source": [
    "%%bash\n",
    "cat raw_data/Sanger/S6_27F.txt"
   ]
  },
  {
   "cell_type": "code",
   "execution_count": 5,
   "metadata": {},
   "outputs": [
    {
     "name": "stderr",
     "output_type": "stream",
     "text": [
      "\"raw_data/Sanger/S6_27F.ab1\" may be a binary file.  See it anyway? "
     ]
    }
   ],
   "source": [
    "%%bash\n",
    "less raw_data/Sanger/S6_27F.ab1"
   ]
  },
  {
   "cell_type": "markdown",
   "metadata": {
    "collapsed": true
   },
   "source": [
    "### B. Phred&Phrap Score\n",
    "The phred software reads DNA sequencing trace files, calls bases, and assigns a quality value to each called base.\n",
    "\n",
    "The quality value is a log-transformed error probability, specifically\n",
    "\n",
    "Q = -10 log10( Pe )\n",
    "\n",
    "where Q and Pe are respectively the quality value and error probability of a particular base call.\n",
    "\n",
    "The phred quality values have been thoroughly tested for both accuracy and power to discriminate between correct and incorrect base-calls.\n",
    "\n",
    "Phred can use the quality values to perform sequence trimming.<br>\n",
    "\n",
    "![phred](./phred.png)\n",
    "\n",
    "Donde q es la valor phred y P es la probabilidad de encontrar una base errada:<br>\n",
    "valor phred = 20 => 1 base errada a cada 100 (99%)<br>\n",
    "valor pherd = 30 => 1 base errada a cada 1000 (99.9%)<br>\n",
    "\n",
    "More info:<br>\n",
    "http://www.phrap.org/phredphrapconsed.html\n",
    "\n",
    "![chroma](chroma_sanger.png)"
   ]
  },
  {
   "cell_type": "markdown",
   "metadata": {},
   "source": [
    "## C. Programas para manipular secuencias Sanger\n",
    "* Bioedit. GUI. Licencia abierta. Funciona bien en Windows (http://www.mbio.ncsu.edu/BioEdit/page2.html)\n",
    "* Geneious. GUI. Pago, Trial por 15 dias. (https://www.geneious.com)\n",
    "* Artemis. GUI. Open. Java. (https://www.sanger.ac.uk/science/tools/artemis)\n",
    "* Phred/Phrap. Console, automatizable. Open. Díficil instalar en linux (http://www.phrap.org/phredphrapconsed.html)\n",
    "* Home Scripts ([BioPerl](http://bioperl.org/howtos/SeqIO_HOWTO.html), [BioPython](http://biopython.org/wiki/SeqIO), [SangerseqR](https://bioconductor.org/packages/release/bioc/html/sangerseqR.html))"
   ]
  },
  {
   "cell_type": "markdown",
   "metadata": {},
   "source": [
    "## D. Scripting"
   ]
  },
  {
   "cell_type": "code",
   "execution_count": 6,
   "metadata": {},
   "outputs": [
    {
     "name": "stdout",
     "output_type": "stream",
     "text": [
      "Number of datapoints: 16196\n",
      "Number of basecalls: 1271\n",
      "\n",
      "Primary Basecalls: CGACAAATTAAAAGCGTACTAGACATGCAGTCGAACGAACTCTGGTATTGATTGGTGCTTGCATCATGATTTACATTTGAGAGAGTGGCGAACTGGTGAGTAACACGTGGGAAACCTGCCCAGAAGCGGGGGATAACACCTGGAAACAGATGCTAATACCGCATAACAACTTGGACCGCATGGTCCGAGCTTGAAAGATGGCTTCGGCTATCACTTTTGGATGGTCCCGCGGCGTATTAGCTAGATGGTGGGGTAACGGCTCACCATGGCAATGATACGTAGCCGACCTGAGAGGGTAATCGGCCACATTGGGACTGAGACACGGCCCAAACTCCTACGGGAGGCAGCAGTAGGGAATCTTCCACAATGGACGAAAGTCTGATGGAGCAACGCCGCGTGAGTGAAGAAGGGTTTCGGCTCGTAAAACTCTGTTGTTAAAGAAGAACATATCTGAGAGTAACTGTTCAGGTATTGACGGTATTTAACCAGAAAGCCACGGCTAACTACGTGCCAGCAGCCGCGGTAATACGTAGGTGGCAAGCGTTGTCCGGATTTATTGGGCGTAAAGCGAGCGCAGGCGGTTTTTTAAGTCTGATGTGAAAGCCTTCGGCTCAACCGAAGAAGTGCATCGGAAACTGGGAAACTTGAGTGCAGAAGAGGACAGTGGAACTCCATGTGTAGCGGTGAAATGCGTAGATATATGGAAGAACACCAGTGGCGAAGGCGGCTGTCTGGTCTGTAACTGACGCTGAGGCTCGAAAGTATGGGTAGCAAACAGGATTAGATACCCTGGTAGTCCATACCGTAAACGATGAATGCTAAGTGTTGGAGGGTTTCCGCCCTTCAGTGCTGCAGCTAACGCATTAAGCATTCCGCCTGGGGAGTACGGCCGCAAGGCTGAAACTCAAAGGAATTGACGGGGGCCCGCACAAGCGGTGGAGCATGTGGTTTAATTCGAAGCTACGCGAAGAACCTTACCAGGTCTTGACATACTATGCAAATCTAGAGATTAGACGTTCCCTTCGGGGACATGGATACAGGTGGTGCATGGTTGTCGTCAGCTCGTGTCGTGAGATGTTGGGGTTAGTCCCGCACGAGCGCACCCTTATTATCAGTTGCAGCATAGTGGGCACCTCTGATGGAGACTGCGTGACAACGAGAGGTGGGGATGACGGTCATCATCATGCCTTATGACTGGGCCTAACACGTGCTCAATTGAATGGCATACAACGATTGCGACTCCGCCGAAAGAGATAAGCTAATCTCCCGTA\n",
      "\n",
      "Secondary Basecalls: GCGGGGGAGGCGGAGCGGGCCTTACAAAGTATATCAAGCTCTCTTGTAGATAAATGCGCCCATCTCCTTACATACCCCCTTTTTAAAAGCCCACTTGTGAATCACATGTAAGCCATCCTTTCTTTTAAAAAATATCACGGCTAGGCACCGGTTCTTATATCGGATTACCTGGAAGAAAGCCCAGTTCGATCCTGGTATCCCGCCTCTTCCATTTCAGATTGGCCCTTTCGCAGAGGAATATCTTGATCGAAACGCCAATGCTTATCAAAGTGATTACTACTTGACGGTCTTAGAAAGTCCTCCGTCTTGCTTCGTCTGACGGGACTAACCTTCAACTTCCAGAAGCATCAGGAACGGATCCTTCATGAAAGAAGGTAGTCTGAAAGAACCACGTCTAGTGAGTGGAGGAAAGGATCTTCTCATTCGACTCCGCTGATTTTTTTTTACAGATCTGAGAAGGACAGGTGAAGGAGAGACAGTACATTTTCCGTGATTCTCCGCTTACTTAGTTTCAGCCGTAGAAATTATTAATAAGAAGCGAGCGCTGTTCTGAAGTACTTTGAGTGGCGAGAGCGGATGCTGGCCCATGAGTCTGAAGAGGCAGTCCTCCGCTCCAAAGGAGGTGCGTATAAGGCACTAAGTCACCTGAGCGCAGGAGAACACAGTAGCACTTCGTGTATAGCTGTGGTACGCAGATATATAAAGGAGCACAACAGTCGAGGACGCCGCTGTGTTGTGTGTCAGTCACGCTGACGCTAGCGAGTATATGTAACCCACAATAATATACATTGTTGTACTACACAGCGTCCACTAAGTACGATGAGTGGTAGAATGGCTGCGTTCCTCAGTGGTGCCTCTCACGTAATGAACACTGCGTGTAAAGAACAACGGCGCGACGGTGTCACTCGGAAGTAGTCACTCCCGTGCGCACGCGCTGTAGAACGTGTTGGATTACTCGGATCCACGCGGAGCATCATAACATGTCGAGACATAATGTGCGTATAGAGATAATACATGCTTTCCTCACACATGTATATACTTGTTGCGCGTTGGTCTCCTCATCTCGTCTCGTGATATGGTAATGATACTTGCGCGCGAGCGCATTCATAATCTCAGGTACCACAGAGTCCACATCTGTGGTAGACAGTGCGTCACCGCGAGATGTTTATATCACCCTCCTTCTCGTGTCATGTCAGTCCGTATCACATGTTCACCGGTTTGTTGTACACCAAGGGTGCCACTTCTGAGGGAGAGATTCGATCCTCTTTTAT\n"
     ]
    }
   ],
   "source": [
    "library(\"sangerseqR\")\n",
    "#Para bajar la Libreria con las herramientas para analisis de secuencias sanger\n",
    "#source(\"https://bioconductor.org/biocLite.R\")\n",
    "#biocLite(\"sangerseqR\")\n",
    "#biocLite(\"seqinr\")\n",
    "secuenciaF <- readsangerseq(\"raw_data/Sanger/S6_27F.ab1\")\n",
    "print(secuenciaF)"
   ]
  },
  {
   "cell_type": "code",
   "execution_count": 7,
   "metadata": {},
   "outputs": [
    {
     "name": "stdout",
     "output_type": "stream",
     "text": [
      "Chromatogram saved to seqF.pdf in the current working directory"
     ]
    }
   ],
   "source": [
    "#BaseCalling\n",
    "seqcalls <- makeBaseCalls(secuenciaF, ratio = 0.33)\n",
    "chromatogram(seqcalls, width = 100, height = 2, trim5 = 70, trim3 = 100,\n",
    "             showcalls = \"both\", showtrim = TRUE, filename = \"seqF.pdf\")"
   ]
  },
  {
   "cell_type": "code",
   "execution_count": 2,
   "metadata": {},
   "outputs": [
    {
     "data": {
      "text/html": [
       "\n",
       "        <iframe\n",
       "            width=\"600\"\n",
       "            height=\"300\"\n",
       "            src=\"seqF.pdf\"\n",
       "            frameborder=\"0\"\n",
       "            allowfullscreen\n",
       "        ></iframe>\n",
       "        "
      ],
      "text/plain": [
       "<IPython.lib.display.IFrame at 0x10330c6d8>"
      ]
     },
     "execution_count": 2,
     "metadata": {},
     "output_type": "execute_result"
    }
   ],
   "source": [
    "from IPython.display import IFrame\n",
    "IFrame(\"seqF.pdf\", width=600, height=300)"
   ]
  },
  {
   "cell_type": "code",
   "execution_count": 13,
   "metadata": {},
   "outputs": [
    {
     "name": "stdout",
     "output_type": "stream",
     "text": [
      "[1] \"TGAGGGGCAGCGGACTAGTCATGCAGTCGTACGATCTCTGGTATTGATTGGTGCTTGCATCATGATTTACATTTCAGTGAGTGGCGAACTGGTGAGTAACACGTGGGAAACCTGCCCAGTAGCGGGGGATAACACCTGGAAACAGATGCTAATACCGCATAACAACTTGGACCGCATGGTCCGAGCTTGAAAGATGGCTTCGGCTATCACTTTTGGATGGTCCCGCGGCGTATTAGCTAGATGGTGGGGTAACGGCTCACCATGGCAATGATACGTAGCCGACCTGAGAGGGTAATCGGCCACATTGGGACTGAGACACGGCCCAAACTCCTACGGGAGGCAGCAGTAGGGAATCTTCCACAATGGACGAAAGTCTGATGGAGCAACGCCGCGTGAGTGAAGAAGGGTTTCGGCTCGTAAAACTCTGTTGTTAAAGAAGAACATATCTGAGAGTAACTGTTCAGGTATTGACGGTATTTAACCAGAAAGCCACGGCTAACTACGTGCCAGCAGCCGCGGTAATACGTAGGTGGCAAGCGTTGTCCGGATTTATTGGGCGTAAAGCGAGCGCAGGCGGTTTTTTAAGTCTGATGTGAAAGCCTTCGGCTCAACCGAAGAAGTGCATCGGAAACTGGGAAACTTGAGTGCAGAAGAGGACAGTGGAACTCCATGTGTAGCGGTGAAATGCGTAGATATATGGAAGAACACCAGTGGCGAATGCGGCTGTCTGGTCTGTCACTGACGCTGACGCTCGAAAGTATGGGTAGCAAACAGATTAGATACCCTGATAGTCCATACCGTACACGATGAGTGCTGAGTGTTGCACGGATCCGCCATTCAGTGCTGCAGCTCACGCAGTAAGCACTCCGTCTGAGGAGTACAGTCGCACCGCTGAAACTCAGAAGAGGTGACAGCGGTTCGCACTAGCAGTAGAGCATGTGGCTCCACTCGTAGCTACGCGTAGTATCGTAGCATGTCATGACATACTATGCGTATCTAGAGATGAGACGTACTCTCGGGCACGTGGATACAGTGTTGCATGAATGTCGTCAGCTCGTGTCGTGAGATGATAGGGATAGTCCTGCACGAGCCCACCAGTATCATCAGTCGCAGCATAATGGTCCCCTCTGAGGGCAACTGCGTGAAAACGAGAGGTAGGGATAAACGTCATCATCTTGCCTCTTTACCGGGGCNACCCCGGGCTAAAGGGGGGGGGGAAAAACAATTTGAAACCCCCCGGAAAAAGAAANNTATTCTTTTTTA\"\n"
     ]
    }
   ],
   "source": [
    "#Formatear secuencias en string\n",
    "Forward <- primarySeq(seqcalls, string=TRUE)\n",
    "print(Forward[1])"
   ]
  },
  {
   "cell_type": "code",
   "execution_count": 1,
   "metadata": {},
   "outputs": [
    {
     "name": "stdout",
     "output_type": "stream",
     "text": [
      "S6_27F procesada!\n",
      "S6_907R procesada!\n"
     ]
    },
    {
     "data": {
      "text/plain": [
       "2"
      ]
     },
     "execution_count": 1,
     "metadata": {},
     "output_type": "execute_result"
    }
   ],
   "source": [
    "#Libreria necesaria\n",
    "import sys\n",
    "from Bio import SeqIO\n",
    "#to install Biopython %pip install biopython\n",
    "#Variables\n",
    "seqF = \"\"\n",
    "seqR = \"\"\n",
    "#maipulacion de los ab1\n",
    "handle = open(\"raw_data/Sanger/S6_27F.ab1\", \"rb\")\n",
    "for record in SeqIO.parse(handle, \"abi\"):\n",
    "    print(record.id + \" procesada!\")\n",
    "    seqF = record\n",
    "\n",
    "handle = open(\"raw_data/Sanger/S6_907R.ab1\", \"rb\")\n",
    "for record2 in SeqIO.parse(handle, \"abi\"):\n",
    "    print(record2.id + \" procesada!\")\n",
    "    seqR = record2\n",
    "    rc = seqR.reverse_complement(id=record2.id) #Reversar y complementa la reversa\n",
    "\n",
    "sequences = [seqF, seqR]\n",
    "#Escribir el archivo de salida. Puede ser multifasta\n",
    "SeqIO.write(sequences, \"S6.fasta\", \"fasta\")\n",
    "#Si desea leer un fasta use el siguiente método\n",
    "#SeqIO.read(\"S6.fasta\", \"fasta\")"
   ]
  },
  {
   "cell_type": "code",
   "execution_count": 34,
   "metadata": {},
   "outputs": [
    {
     "name": "stdout",
     "output_type": "stream",
     "text": [
      ">S6_27F\n",
      "CGACAAATTAAAAGCGTACTAGACATGCAGTCGAACGAACTCTGGTATTGATTGGTGCTT\n",
      "GCATCATGATTTACATTTGAGAGAGTGGCGAACTGGTGAGTAACACGTGGGAAACCTGCC\n",
      "CAGAAGCGGGGGATAACACCTGGAAACAGATGCTAATACCGCATAACAACTTGGACCGCA\n",
      "TGGTCCGAGCTTGAAAGATGGCTTCGGCTATCACTTTTGGATGGTCCCGCGGCGTATTAG\n",
      "CTAGATGGTGGGGTAACGGCTCACCATGGCAATGATACGTAGCCGACCTGAGAGGGTAAT\n",
      "CGGCCACATTGGGACTGAGACACGGCCCAAACTCCTACGGGAGGCAGCAGTAGGGAATCT\n",
      "TCCACAATGGACGAAAGTCTGATGGAGCAACGCCGCGTGAGTGAAGAAGGGTTTCGGCTC\n",
      "GTAAAACTCTGTTGTTAAAGAAGAACATATCTGAGAGTAACTGTTCAGGTATTGACGGTA\n",
      "TTTAACCAGAAAGCCACGGCTAACTACGTGCCAGCAGCCGCGGTAATACGTAGGTGGCAA\n",
      "GCGTTGTCCGGATTTATTGGGCGTAAAGCGAGCGCAGGCGGTTTTTTAAGTCTGATGTGA\n",
      "AAGCCTTCGGCTCAACCGAAGAAGTGCATCGGAAACTGGGAAACTTGAGTGCAGAAGAGG\n",
      "ACAGTGGAACTCCATGTGTAGCGGTGAAATGCGTAGATATATGGAAGAACACCAGTGGCG\n",
      "AAGGCGGCTGTCTGGTCTGTAACTGACGCTGAGGCTCGAAAGTATGGGTAGCAAACAGGA\n",
      "TTAGATACCCTGGTAGTCCATACCGTAAACGATGAATGCTAAGTGTTGGAGGGTTTCCGC\n",
      "CCTTCAGTGCTGCAGCTAACGCATTAAGCATTCCGCCTGGGGAGTACGGCCGCAAGGCTG\n",
      "AAACTCAAAGGAATTGACGGGGGCCCGCACAAGCGGTGGAGCATGTGGTTTAATTCGAAG\n",
      "CTACGCGAAGAACCTTACCAGGTCTTGACATACTATGCAAATCTAGAGATTAGACGTTCC\n",
      "CTTCGGGGACATGGATACAGGTGGTGCATGGTTGTCGTCAGCTCGTGTCGTGAGATGTTG\n",
      "GGGTTAGTCCCGCACGAGCGCACCCTTATTATCAGTTGCAGCATAGTGGGCACCTCTGAT\n",
      "GGAGACTGCGTGACAACGAGAGGTGGGGATGACGGTCATCATCATGCCTTATGACTGGGC\n",
      "CTAACACGTGCTCAATTGAATGGCATACAACGATTGCGACTCCGCCGAAAGAGATAAGCT\n",
      "AATCTCCCGTA\n",
      ">S6_907R\n",
      "CCCCTTGGGCGTCTCCAGGCGGATGCTTAATGCGTTAGCTGCAGCACTGAAGGGCGGAAA\n",
      "CCCTCCAACACTTAGCAACAACGTTTACGGTATGGACTACCAGGGTATCTAATCCTGTTT\n",
      "GCTACCCATACTTTCGAGCCTCAGCGTCAGTTACAGACCAGACAGCCGCCTTCGCCACTG\n",
      "GTGTTCTTCCATATATCTACGCATTTCACCGCTACACATGGAGTTCCACTGTCCTCTTCT\n",
      "GCACTCAAGTTTCCCAGTTTCCGATGCACTTCTTCGGTTGAGCCGAAGGCTTTCACATCA\n",
      "GACTTAAAAAACCGCCTGCGCTCGCTTTACGCCCAATAAATCCGGACAACGCTTGCCACC\n",
      "TACGTATTACCGCGGCTGCTGGCACGTAGTTAGCCGTGGCTTTCTGGTTAAATACCGTCA\n",
      "ATACCTGAACAGTTACTCTCAGATATGTTCTTCTTTAACAACAGAGTTTTACGAGCCGAA\n",
      "ACCCTTCTTCACTCACGCGGCGTTGCTCCATCAGACTTTCGTCCATTGTGGAAGATTCCC\n",
      "TACTGCTGCCTCCCGTAGGAGTTTGGGCCGTGTCTCAGTCCCAATGTGGCCGATTACCCT\n",
      "CTCAGGTCGGCTACGTATCATTGCCATGGTGAGCCGTTACCCCACCATCTAGCTAATACG\n",
      "CCGCGGGACCATCCAAAAGTGATAGCCGAAGCCATCTTTCAAGCTCGGACCATGCGGTCC\n",
      "AAGTT\n"
     ]
    }
   ],
   "source": [
    "%%bash\n",
    "cat S6.fasta"
   ]
  },
  {
   "cell_type": "raw",
   "metadata": {
    "collapsed": true
   },
   "source": [
    "#!/usr/bin/env perl\n",
    "\n",
    "use strict;\n",
    "use Bio::SeqIO;\n",
    "\n",
    "$in = shift or die;\n",
    "$out = shift or die;\n",
    "\n",
    "$seq_in = Bio::SeqIO->new('-file' => \"<$in\", '-format' => \"abi\");\n",
    "$seq_out = Bio::SeqIO->new('-file' => \">$out\", '-format' => \"fasta\");\n",
    "\n",
    "while ($seq = $seq_in->next_seq) {\n",
    "\n",
    "       $seq_out->write_seq($seq);\n",
    "\n",
    " }"
   ]
  }
 ],
 "metadata": {
  "kernelspec": {
   "display_name": "Python 3",
   "language": "python",
   "name": "python3"
  },
  "language_info": {
   "codemirror_mode": {
    "name": "ipython",
    "version": 3
   },
   "file_extension": ".py",
   "mimetype": "text/x-python",
   "name": "python",
   "nbconvert_exporter": "python",
   "pygments_lexer": "ipython3",
   "version": "3.6.3"
  }
 },
 "nbformat": 4,
 "nbformat_minor": 2
}
