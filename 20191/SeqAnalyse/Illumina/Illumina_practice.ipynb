{
 "cells": [
  {
   "cell_type": "markdown",
   "metadata": {},
   "source": [
    "# Analisis de secuencias Illumina\n",
    "### by Javier C. Alvarez\n",
    "\n",
    "\n"
   ]
  },
  {
   "cell_type": "markdown",
   "metadata": {},
   "source": [
    "Repositorios de información:\n",
    "### SRA Genbank\n",
    "https://www.ncbi.nlm.nih.gov/sra\n",
    "### EBI SRA\n",
    "https://www.ebi.ac.uk/training/online/course/ebi-next-generation-sequencing-practical-course/sequence-read-archive-sra/sra-browsing-and-da"
   ]
  },
  {
   "cell_type": "markdown",
   "metadata": {},
   "source": [
    "Con un código de acceso pueden bajar los datos (e.j. SRX403444) ó buscar experimentos por palabra clave"
   ]
  },
  {
   "cell_type": "markdown",
   "metadata": {},
   "source": [
    "## Tipología de datos Illumina"
   ]
  },
  {
   "cell_type": "code",
   "execution_count": 1,
   "metadata": {},
   "outputs": [
    {
     "name": "stdout",
     "output_type": "stream",
     "text": [
      "@EAS54_6_R1_2_1_413_324\r\n",
      "CCCTTCTTGTCTTCAGCGTTTCTCC\r\n",
      "+\r\n",
      ";;3;;;;;;;;;;;;7;;;;;;;88\r\n",
      "@EAS54_6_R1_2_1_540_792\r\n",
      "TTGGCAGGCCAAGGCCGATGGATCA\r\n",
      "+\r\n",
      ";;;;;;;;;;;7;;;;;-;;;3;83\r\n",
      "@EAS54_6_R1_2_1_443_348\r\n",
      "GTTGCTTCTGGCGTGGGTGGGGGGG\r\n",
      "+\r\n",
      ";;;;;;;;;;;9;7;;.7;393333\r\n"
     ]
    }
   ],
   "source": [
    "%%bash \n",
    "head -20 example_dos.fastq"
   ]
  },
  {
   "cell_type": "markdown",
   "metadata": {},
   "source": [
    "## ¿Cómo depuramos los datos generados por calidad de secuencias?\n",
    "Solución inicial: Home Script"
   ]
  },
  {
   "cell_type": "code",
   "execution_count": 2,
   "metadata": {},
   "outputs": [
    {
     "name": "stdout",
     "output_type": "stream",
     "text": [
      "#!/usr/bin/perl \r\n",
      "#===============================================================================\r\n",
      "#         FILE:  clean_solexa_se.pl\r\n",
      "#  DESCRIPTION: run clean_solexa_se.pl -h or perldoc\r\n",
      "#\r\n",
      "#      OPTIONS: run clean_solexa_se.pl -h or perldoc\r\n",
      "#       AUTHOR:  Gustavo Gilson Lacerda Costa, glacerda@lge.ibi.unicamp.br\r\n",
      "#      COMPANY:  State University of Campinas, Institute of Biology, Laboratory of Genomics and Expression\r\n",
      "#      VERSION:  1.0\r\n",
      "#      CREATED:  02/19/2010 15:28:52 AM\r\n",
      "#===============================================================================\r\n",
      "use strict;\r\n",
      "use warnings;\r\n",
      "use Getopt::Long qw(:config no_ignore_case bundling);\r\n",
      "use Pod::Usage;\r\n",
      "\r\n",
      "\r\n",
      "my $file=\"\";\r\n",
      "my $nfilter=1;\r\n",
      "my $minqual=0;\r\n",
      "my $trimbegin=0;\r\n",
      "my $trimend=0;\r\n",
      "my $prefix = \"out\";\r\n",
      "my $verbose=1;\r\n",
      "my $help=0;\r\n",
      "\r\n",
      "my $result = GetOptions(\r\n",
      "\t\"file|f=s\" => \\$file, #file containing both mates interleaved (if used, file1 and file2 are ignored)\r\n",
      "\t\"nfilter|n!\" => \\$nfilter, #Discard both mates when one (or both) of them have at least one N in the sequence\r\n",
      "\t\"minqualitythreshold|q:f\" => \\$minqual, #Discard both mates when one (or both) of them have average quality less than minqualthreshold\r\n",
      "\t\"trimbegin|b:i\" => \\$trimbegin, #if used, all reads are trimmed starting at trimbegin position\r\n",
      "\t\"trimend|e:i\" => \\$trimend, #if used, all reads are trimmed ending at trimend position\r\n",
      "        \"prefix|p:s\" => \\$prefix, #prefix to output files (Default: out)\r\n",
      "\t\"verbose|v!\"   => \\$verbose,   #toggles verbosity\r\n",
      "        \"help|h!\"      => \\$help       #displays help\r\n",
      ")  or pod2usage( -verbose => 2, -output => \">&STDOUT\" ) && exit;\r\n",
      "\r\n",
      "if ($help) {\r\n",
      "\tpod2usage( -verbose => 2, -output => \">&STDOUT\" ) && exit;\r\n",
      "}\r\n",
      "\r\n",
      "my $mode=paramOk();\r\n",
      "\r\n",
      "if ( !$mode ) {\r\n",
      "\tpod2usage( -verbose => 2, -output => \">&STDOUT\" ) && exit;\r\n",
      "} else {\r\n",
      "\topen(F,\"<$file\") || die \"Could not open $file\\n\";\r\n",
      "}\r\n",
      "\r\n",
      "open(S,\">$prefix.single\");\r\n",
      "open(D,\">$prefix.discarded\");\r\n",
      "my $count=0;\r\n",
      "\r\n",
      "while (my ($hs1,$s1,$hq1,$q1) = getRead($mode)) {\r\n",
      "\tif ($verbose) {\r\n",
      "\t\t$count++;\r\n",
      "\t\tif (($count%1000000)==0) {\r\n",
      "\t\t\tprint STDERR \"Processed $count reads...\\n\";\r\n",
      "\t\t}\r\n",
      "\t}\r\n",
      "        if (($trimbegin)||($trimend)) {\r\n",
      "                chomp $s1; \r\n",
      "                chomp $q1;\r\n",
      "                my $len=length $s1;\r\n",
      "\r\n",
      "                if ($trimbegin<1) { $trimbegin = 1 }\r\n",
      "                if ($trimend > $len) { $trimend = $len }\r\n",
      "\r\n",
      "                my $start = $trimbegin - 1;\r\n",
      "                my $end = $trimend - $trimbegin + 1;\r\n",
      "                $s1 = substr($s1, $start, $end) . \"\\n\";\r\n",
      "                $q1 = substr($q1, $start, $end) . \"\\n\";\r\n",
      "        }\r\n",
      "\r\n",
      "\tmy ($mate1_nfilter_ok,$mate1_qualfilter_ok,$mate1_ok)=(1,1,1);\r\n",
      "\tif ($nfilter) {\r\n",
      "\t\tif ($s1 =~ /N/) {\r\n",
      "\t\t\t$mate1_nfilter_ok=0;\r\n",
      "\t\t}\r\n",
      "\t}\r\n",
      "\r\n",
      "\tif ($minqual) {\r\n",
      "\t\tif (avgqual($q1)<$minqual) {\r\n",
      "\t\t\t$mate1_qualfilter_ok=0;\r\n",
      "\t\t}\r\n",
      "\t}\r\n",
      "\tif (!($mate1_nfilter_ok && $mate1_qualfilter_ok)) {\r\n",
      "\t\t$mate1_ok=0;\r\n",
      "\t}\r\n",
      "\r\n",
      "\tif ($mate1_ok) {\r\n",
      "\t\tprint S $hs1,$s1,$hq1,$q1;\r\n",
      "\t} else {\r\n",
      "\t\tprint D $hs1,$s1,$hq1,$q1;\r\n",
      "\t}\r\n",
      "}\r\n",
      "\r\n",
      "\r\n",
      "if ($verbose) {\r\n",
      "\tprint STDERR \"Processed $count reads...\\n\";\r\n",
      "\tprint STDERR \"Finished.\\n\";\r\n",
      "}\r\n",
      "\r\n",
      "close(S);\r\n",
      "close(D);\r\n",
      "close(F) if (-f $file);\r\n",
      "\r\n",
      "\r\n",
      "sub avgqual {\r\n",
      "\tmy $q = shift;\r\n",
      "\tchomp $q;\r\n",
      "        my @phred= map {ord($_)-64} split //,$q;\r\n",
      "\tmy $sum=0;\r\n",
      "        for (my $i=0;$i<=$#phred;$i++) {\r\n",
      "                $sum +=$phred[$i];\r\n",
      "        }\r\n",
      "\tmy $avg=$sum/($#phred+1);\r\n",
      "\treturn $avg;\r\n",
      "}\r\n",
      "\r\n",
      "\r\n",
      "sub getRead {\r\n",
      "\tmy $hs1=<F> || return;\r\n",
      "\tmy $s1=<F> || return;\r\n",
      "\tmy $hq1=<F> || return;\r\n",
      "\tmy $q1=<F> || return;\r\n",
      "\treturn ($hs1,$s1,$hq1,$q1);\r\n",
      "}\r\n",
      "\r\n",
      "sub paramOk {\r\n",
      "    #Checks if all required parameters were provided and if the files exist. OK=2 => 2 input files OK=1 => 1 interleaved input file\r\n",
      "    my $ok = 0;\r\n",
      "    if (-f $file) {\r\n",
      "\r\n",
      "\t$ok=1;\r\n",
      "\treturn $ok;\r\n",
      "    } else {    \r\n",
      "\treturn $ok;\r\n",
      "    }\r\n",
      "}\r\n",
      "\r\n",
      "\r\n",
      "\r\n",
      "=head1 NAME\r\n",
      "\r\n",
      " clean_solexa_se.pl\r\n",
      "\r\n",
      "=head1 SYNOPSIS\r\n",
      "\r\n",
      " Use:\r\n",
      " clean_solexa_se.pl [--file path] [--[no]nfilter] [--minqualthreshold int]  [--trimbegin int] [--trimend int] [--prefix string] [--[no]verbose]]\r\n",
      "\r\n",
      " Examples:\r\n",
      " clean_solexa.pl\r\n",
      " \t--file s_1_1_sequences.fastq\r\n",
      "\t--nfilter\r\n",
      " \t--minqualthreshold 20\r\n",
      "\t--prefix myrun\r\n",
      "\r\n",
      "=head1 DESCRIPTION\r\n",
      "\r\n",
      " clean_solexa_se.pl is a script to automate the sequencing cleaning of Illumina sequencing data. Some sequencing runs benefit from agressively trimming reads prior to de novo assem bly (or  mapping). clean_solexa.pl can discard reads containing uncalled bases (Ns) and low quality reads. It can also be configured to trim all reads at a a fixed psoition. This script works with single end sequencing runs.\r\n",
      "\r\n",
      "=head1 OPTIONS\r\n",
      "\r\n",
      " Arguments:\r\n",
      " --file             | -f  fastafile Path to fastq file containing both mates interleaved\r\n",
      " --minqualthreshold | -q  int       Minimum quality for a read to be kept\r\n",
      " --trimbegin        | -b  int       Trim all reads starting at trimbegin (Default: no trim)\r\n",
      " --trimend          | -e  int       Trim all reads ending at trimend (Default: no trim)\r\n",
      " --prefix           | -p string     Prefix to output files (Default: out)\r\n",
      " Switches:\r\n",
      " --[no]nfilter      | -n  string    Discard both mates when at least one of them have uncalled bases (Default: on)\r\n",
      " --[no]verbose      | -v  Enables or disables verbosity\r\n",
      " --help             | -h  Displays help message\r\n",
      "\r\n",
      "=head1 AUTHOR\r\n",
      "\r\n",
      " Gustavo Gilson Lacerda Costa, < glacerda@lge.ibi.unicamp.br >.\r\n",
      "\r\n",
      "=head1 BUGS\r\n",
      "\r\n",
      " Probable many.\r\n",
      "\r\n",
      "=cut"
     ]
    }
   ],
   "source": [
    "%%bash\n",
    "less clean_solexa.pl"
   ]
  },
  {
   "cell_type": "markdown",
   "metadata": {},
   "source": [
    "Otras soluciones vinieron con el tiempo y ahora son programas robustos para el análisis inicial de los datos<br>\n",
    "Ejemplo: FastQC https://www.bioinformatics.babraham.ac.uk/projects/fastqc/ <br>\n",
    "Usage: %fastqc file.fastq"
   ]
  },
  {
   "cell_type": "markdown",
   "metadata": {},
   "source": [
    "<a href=\"1A_fastqc.html\">FastQC_1A_report</a>"
   ]
  },
  {
   "cell_type": "markdown",
   "metadata": {},
   "source": [
    "Para Trimar (depurar las secuencias), se desarrollaron software con gran versitilidad, presición y fácil uso <br>\n",
    "Ejemplo: Trimmomatic http://www.usadellab.org/cms/?page=trimmomatic <br>\n",
    "Usage: %java -jar trimmomatic-0.35.jar PE -phred33 input_forward.fq.gz input_reverse.fq.gz output_forward_paired.fq.gz output_forward_unpaired.fq.gz output_reverse_paired.fq.gz output_reverse_unpaired.fq.gz ILLUMINACLIP:TruSeq3-PE.fa:2:30:10 LEADING:3 TRAILING:3 SLIDINGWINDOW:4:15 MINLEN:36 <br>\n",
    "\n",
    "Después del \"trimado\" se hace una verificación de cómo quedaron las secuencias"
   ]
  },
  {
   "cell_type": "markdown",
   "metadata": {},
   "source": [
    "<a href=\"1A.trimmed_fastqc.html\">FastQC_1A_report_Trimmado</a>"
   ]
  },
  {
   "cell_type": "markdown",
   "metadata": {},
   "source": [
    "## ¿Con qué algoritmos-software se ensamblan los datos de illumina?"
   ]
  },
  {
   "cell_type": "markdown",
   "metadata": {},
   "source": [
    "### Alineamientos usando teoría de grafos\n",
    "\n",
    "* Opción 1: Galaxy Community Hub https://galaxyproject.org\n",
    "* Opción 2: Local Analysis (Velvet, SOAP, BWA)\n",
    "* Opción 3: Server Analysis (Bowtie2, Trinity, Canu)"
   ]
  },
  {
   "cell_type": "code",
   "execution_count": null,
   "metadata": {},
   "outputs": [],
   "source": []
  }
 ],
 "metadata": {
  "kernelspec": {
   "display_name": "Python 3",
   "language": "python",
   "name": "python3"
  },
  "language_info": {
   "codemirror_mode": {
    "name": "ipython",
    "version": 3
   },
   "file_extension": ".py",
   "mimetype": "text/x-python",
   "name": "python",
   "nbconvert_exporter": "python",
   "pygments_lexer": "ipython3",
   "version": "3.6.4"
  }
 },
 "nbformat": 4,
 "nbformat_minor": 2
}
