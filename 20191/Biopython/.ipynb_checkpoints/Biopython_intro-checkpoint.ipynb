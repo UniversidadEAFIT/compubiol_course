{
 "cells": [
  {
   "cell_type": "markdown",
   "metadata": {},
   "source": [
    "# **Introducción a Biopython**"
   ]
  },
  {
   "cell_type": "markdown",
   "metadata": {},
   "source": [
    "## **Simón Villanueva**"
   ]
  },
  {
   "cell_type": "markdown",
   "metadata": {},
   "source": [
    "<img src=\"https://upload.wikimedia.org/wikipedia/commons/7/7d/Biopython_logo.svg\" alt=\"Drawing\" width=\"400px\"/>"
   ]
  },
  {
   "cell_type": "markdown",
   "metadata": {},
   "source": [
    "[Biopython](https://biopython.org/) es una serie de modulos de Python diseñados para facilitar la computación con datos biológicos. Cuenta con un [manual](http://biopython.org/DIST/docs/tutorial/Tutorial.pdf), en el que se encuentran los principales módulos y cómo utilizarlos y una [wiki](https://biopython.org/wiki/Category%3AWiki_Documentation) en la que hay suficiente información acerca de su uso."
   ]
  },
  {
   "cell_type": "markdown",
   "metadata": {},
   "source": [
    "Tal y como lo dice Biopython, es difícil concebir un objeto más importante para la bioinformática que las **secuencias** motivo por el cual el manejo de las mismas es lo primero que debemos abordar."
   ]
  },
  {
   "cell_type": "markdown",
   "metadata": {},
   "source": [
    "Biopython cuenta con 2 objetos muy importantes para el manejo de secuencias: El objeto **Seq** y el objeto **SeqRecord**"
   ]
  },
  {
   "cell_type": "markdown",
   "metadata": {},
   "source": [
    "### **Objeto Seq (Capítulo 3 del [manual](http://biopython.org/DIST/docs/tutorial/Tutorial.pdf))**"
   ]
  },
  {
   "cell_type": "markdown",
   "metadata": {},
   "source": [
    "El objeto **Seq** es esencialmente igual al objeto **String**, salvo por dos cosas: tienen métodos diferentes (veremos algunos más adelante); y tienen un atributo asociado, un alfabeto. La función del alfabeto es darle significado a la secuencia, y determina cómo esta debe ser interpretada:\n",
    "\n",
    "Por ejemplo: ¿Es la secuencia \"ATCTATGCTGAC\" una secuencia de ADN o una secuencia proteica muy rica en alaninas, glicinas, cisteinas y treoninas?"
   ]
  },
  {
   "cell_type": "code",
   "execution_count": 16,
   "metadata": {},
   "outputs": [],
   "source": [
    "from Bio.Seq import Seq #como llamar librerias\n",
    "from Bio.Alphabet import IUPAC#IUPAC alfabeto de mis nuecleotidos(ambiguo,no ambiguo,generico,DNA,RNA, proteinas)"
   ]
  },
  {
   "cell_type": "code",
   "execution_count": 17,
   "metadata": {},
   "outputs": [
    {
     "data": {
      "text/plain": [
       "Seq('AGTACACTGGT', IUPACUnambiguousDNA())"
      ]
     },
     "execution_count": 17,
     "metadata": {},
     "output_type": "execute_result"
    }
   ],
   "source": [
    "my_seq = Seq(\"AGTACACTGGT\", IUPAC.unambiguous_dna)\n",
    "my_seq"
   ]
  },
  {
   "cell_type": "code",
   "execution_count": 18,
   "metadata": {},
   "outputs": [
    {
     "data": {
      "text/plain": [
       "IUPACUnambiguousDNA()"
      ]
     },
     "execution_count": 18,
     "metadata": {},
     "output_type": "execute_result"
    }
   ],
   "source": [
    "my_seq.alphabet"
   ]
  },
  {
   "cell_type": "markdown",
   "metadata": {},
   "source": [
    "Como dijimos, las secuencias actuan tal y como los strings\n",
    "\n",
    "Están divididos en índices y por tanto pueden ser recorridos"
   ]
  },
  {
   "cell_type": "code",
   "execution_count": 19,
   "metadata": {},
   "outputs": [
    {
     "name": "stdout",
     "output_type": "stream",
     "text": [
      "0 \t A\n",
      "1 \t G\n",
      "2 \t T\n",
      "3 \t A\n",
      "4 \t C\n",
      "5 \t A\n",
      "6 \t C\n",
      "7 \t T\n",
      "8 \t G\n",
      "9 \t G\n",
      "10 \t T\n"
     ]
    }
   ],
   "source": [
    "for index,letter in enumerate(my_seq):\n",
    "    print(\"%i \\t %s\" % (index,letter))"
   ]
  },
  {
   "cell_type": "code",
   "execution_count": 20,
   "metadata": {},
   "outputs": [
    {
     "data": {
      "text/plain": [
       "11"
      ]
     },
     "execution_count": 20,
     "metadata": {},
     "output_type": "execute_result"
    }
   ],
   "source": [
    "len(my_seq)"
   ]
  },
  {
   "cell_type": "markdown",
   "metadata": {},
   "source": [
    "#### **Conteo**"
   ]
  },
  {
   "cell_type": "markdown",
   "metadata": {},
   "source": [
    "También podemos contar la cantidad de substrings que haya"
   ]
  },
  {
   "cell_type": "code",
   "execution_count": 21,
   "metadata": {},
   "outputs": [
    {
     "data": {
      "text/plain": [
       "3"
      ]
     },
     "execution_count": 21,
     "metadata": {},
     "output_type": "execute_result"
    }
   ],
   "source": [
    "my_seq.count(\"G\")"
   ]
  },
  {
   "cell_type": "code",
   "execution_count": 22,
   "metadata": {},
   "outputs": [
    {
     "data": {
      "text/plain": [
       "2"
      ]
     },
     "execution_count": 22,
     "metadata": {},
     "output_type": "execute_result"
    }
   ],
   "source": [
    "my_seq.count(\"AC\")"
   ]
  },
  {
   "cell_type": "markdown",
   "metadata": {},
   "source": [
    "Aunque hay que tener en cuenta que el conteo es exclusivo:"
   ]
  },
  {
   "cell_type": "code",
   "execution_count": 23,
   "metadata": {},
   "outputs": [
    {
     "data": {
      "text/plain": [
       "2"
      ]
     },
     "execution_count": 23,
     "metadata": {},
     "output_type": "execute_result"
    }
   ],
   "source": [
    "\"AAAA\".count(\"AA\")"
   ]
  },
  {
   "cell_type": "markdown",
   "metadata": {},
   "source": [
    "#### **Slicing**"
   ]
  },
  {
   "cell_type": "markdown",
   "metadata": {},
   "source": [
    "También podemos sacar porciones de las secuencias"
   ]
  },
  {
   "cell_type": "code",
   "execution_count": 24,
   "metadata": {},
   "outputs": [
    {
     "data": {
      "text/plain": [
       "Seq('CACTG', IUPACUnambiguousDNA())"
      ]
     },
     "execution_count": 24,
     "metadata": {},
     "output_type": "execute_result"
    }
   ],
   "source": [
    "my_seq[4:9]"
   ]
  },
  {
   "cell_type": "markdown",
   "metadata": {},
   "source": [
    "Notese que además de sacar una subsecuencia, también se conserva el alfabeto de la secuencia original."
   ]
  },
  {
   "cell_type": "markdown",
   "metadata": {},
   "source": [
    "#### **Concatenando Secuencias**"
   ]
  },
  {
   "cell_type": "markdown",
   "metadata": {},
   "source": [
    "También podemos concatenar secuencias"
   ]
  },
  {
   "cell_type": "code",
   "execution_count": 25,
   "metadata": {},
   "outputs": [],
   "source": [
    "protein_seq = Seq(\"EVRNAK\", IUPAC.protein)\n",
    "dna_seq = Seq(\"ACGT\", IUPAC.unambiguous_dna)"
   ]
  },
  {
   "cell_type": "code",
   "execution_count": 26,
   "metadata": {},
   "outputs": [
    {
     "name": "stdout",
     "output_type": "stream",
     "text": [
      "¡Oops! BioPython no puede hacer esto porque el siguiente error emerge:\n",
      "\n",
      " Incompatible alphabets IUPACProtein() and IUPACUnambiguousDNA()\n"
     ]
    }
   ],
   "source": [
    "try:\n",
    "    protein_seq + dna_seq\n",
    "except TypeError as message:\n",
    "    print(\"¡Oops! BioPython no puede hacer esto porque el siguiente error emerge:\\n\\n %s\" % message)"
   ]
  },
  {
   "cell_type": "markdown",
   "metadata": {},
   "source": [
    "Los alfabetos evitan que hagamos locuras como concatenar una secuencia de nucleotidos con una secuencia proteica.\n",
    "\n",
    "Pero si de verdad queremos hacer una locura de estas:"
   ]
  },
  {
   "cell_type": "code",
   "execution_count": 27,
   "metadata": {},
   "outputs": [],
   "source": [
    "from Bio.Alphabet import generic_alphabet"
   ]
  },
  {
   "cell_type": "code",
   "execution_count": 28,
   "metadata": {},
   "outputs": [
    {
     "data": {
      "text/plain": [
       "Seq('EVRNAKACGT')"
      ]
     },
     "execution_count": 28,
     "metadata": {},
     "output_type": "execute_result"
    }
   ],
   "source": [
    "protein_seq.alphabet = generic_alphabet\n",
    "dna_seq.alphabet = generic_alphabet\n",
    "protein_seq + dna_seq"
   ]
  },
  {
   "cell_type": "markdown",
   "metadata": {},
   "source": [
    "***"
   ]
  },
  {
   "cell_type": "markdown",
   "metadata": {},
   "source": [
    "Veamos otro ejemplo:"
   ]
  },
  {
   "cell_type": "code",
   "execution_count": 29,
   "metadata": {},
   "outputs": [],
   "source": [
    "from Bio.Alphabet import generic_nucleotide"
   ]
  },
  {
   "cell_type": "code",
   "execution_count": 30,
   "metadata": {},
   "outputs": [],
   "source": [
    "nuc_seq = Seq(\"GATCGATGC\", generic_nucleotide)\n",
    "dna_seq = Seq(\"ACGT\", IUPAC.unambiguous_dna)"
   ]
  },
  {
   "cell_type": "code",
   "execution_count": 31,
   "metadata": {},
   "outputs": [
    {
     "data": {
      "text/plain": [
       "Seq('GATCGATGC', NucleotideAlphabet())"
      ]
     },
     "execution_count": 31,
     "metadata": {},
     "output_type": "execute_result"
    }
   ],
   "source": [
    "nuc_seq"
   ]
  },
  {
   "cell_type": "code",
   "execution_count": 32,
   "metadata": {},
   "outputs": [
    {
     "data": {
      "text/plain": [
       "Seq('ACGT', IUPACUnambiguousDNA())"
      ]
     },
     "execution_count": 32,
     "metadata": {},
     "output_type": "execute_result"
    }
   ],
   "source": [
    "dna_seq"
   ]
  },
  {
   "cell_type": "code",
   "execution_count": 33,
   "metadata": {},
   "outputs": [
    {
     "data": {
      "text/plain": [
       "Seq('GATCGATGCACGT', NucleotideAlphabet())"
      ]
     },
     "execution_count": 33,
     "metadata": {},
     "output_type": "execute_result"
    }
   ],
   "source": [
    "nuc_seq + dna_seq"
   ]
  },
  {
   "cell_type": "markdown",
   "metadata": {},
   "source": [
    "Al concatenar secuencias, el alfabeto que se hereda será el que mayor **precedencia** tenga (más genérico, más precedencia)"
   ]
  },
  {
   "cell_type": "markdown",
   "metadata": {},
   "source": [
    "#### **Cambiar Mayúsculas y minúsculas**"
   ]
  },
  {
   "cell_type": "markdown",
   "metadata": {},
   "source": [
    "Supongamos que tenemos la siguiente secuencia"
   ]
  },
  {
   "cell_type": "code",
   "execution_count": 34,
   "metadata": {},
   "outputs": [],
   "source": [
    "from Bio.Alphabet import generic_dna"
   ]
  },
  {
   "cell_type": "code",
   "execution_count": 35,
   "metadata": {},
   "outputs": [],
   "source": [
    "dna_seq = Seq(\"acgtACGT\", generic_dna)"
   ]
  },
  {
   "cell_type": "markdown",
   "metadata": {},
   "source": [
    "Si queremos comprobar la secuencia"
   ]
  },
  {
   "cell_type": "code",
   "execution_count": 36,
   "metadata": {},
   "outputs": [
    {
     "data": {
      "text/plain": [
       "False"
      ]
     },
     "execution_count": 36,
     "metadata": {},
     "output_type": "execute_result"
    }
   ],
   "source": [
    "\"ACGTACGT\" in dna_seq"
   ]
  },
  {
   "cell_type": "markdown",
   "metadata": {},
   "source": [
    "Como Python diferencia entre mayúsculas y minúsculas, usualmente tener una secuencia con ambas es un problema. Afotunadamente para estos casos tenemos los métodos `.lower()` y `.upper()`"
   ]
  },
  {
   "cell_type": "code",
   "execution_count": 37,
   "metadata": {},
   "outputs": [
    {
     "data": {
      "text/plain": [
       "Seq('acgtacgt', DNAAlphabet())"
      ]
     },
     "execution_count": 37,
     "metadata": {},
     "output_type": "execute_result"
    }
   ],
   "source": [
    "dna_seq.lower()"
   ]
  },
  {
   "cell_type": "code",
   "execution_count": 38,
   "metadata": {},
   "outputs": [
    {
     "data": {
      "text/plain": [
       "Seq('ACGTACGT', DNAAlphabet())"
      ]
     },
     "execution_count": 38,
     "metadata": {},
     "output_type": "execute_result"
    }
   ],
   "source": [
    "dna_seq.upper()"
   ]
  },
  {
   "cell_type": "code",
   "execution_count": 39,
   "metadata": {},
   "outputs": [
    {
     "data": {
      "text/plain": [
       "True"
      ]
     },
     "execution_count": 39,
     "metadata": {},
     "output_type": "execute_result"
    }
   ],
   "source": [
    "\"ACGTACGT\" in dna_seq.upper()"
   ]
  },
  {
   "cell_type": "markdown",
   "metadata": {},
   "source": [
    "Otra nota: los alfabetos IUPAC son sólo compatibles con secuencias en **mayúsculas**"
   ]
  },
  {
   "cell_type": "code",
   "execution_count": 40,
   "metadata": {},
   "outputs": [
    {
     "data": {
      "text/plain": [
       "Seq('ACGT', IUPACUnambiguousDNA())"
      ]
     },
     "execution_count": 40,
     "metadata": {},
     "output_type": "execute_result"
    }
   ],
   "source": [
    "dna_seq = Seq(\"ACGT\", alphabet=IUPAC.unambiguous_dna)\n",
    "dna_seq"
   ]
  },
  {
   "cell_type": "code",
   "execution_count": 41,
   "metadata": {},
   "outputs": [
    {
     "data": {
      "text/plain": [
       "Seq('acgt', DNAAlphabet())"
      ]
     },
     "execution_count": 41,
     "metadata": {},
     "output_type": "execute_result"
    }
   ],
   "source": [
    "dna_seq.lower()"
   ]
  },
  {
   "cell_type": "markdown",
   "metadata": {},
   "source": [
    "### **Métodos más biológicos**"
   ]
  },
  {
   "cell_type": "markdown",
   "metadata": {},
   "source": [
    "#### **Replicación**"
   ]
  },
  {
   "cell_type": "markdown",
   "metadata": {},
   "source": [
    "Algunos de las funciones biológicas que más utilizamos"
   ]
  },
  {
   "cell_type": "code",
   "execution_count": 42,
   "metadata": {},
   "outputs": [
    {
     "data": {
      "text/plain": [
       "Seq('GATCGATGGGCCTATATAGGATCGAAAATCGC', IUPACUnambiguousDNA())"
      ]
     },
     "execution_count": 42,
     "metadata": {},
     "output_type": "execute_result"
    }
   ],
   "source": [
    "my_seq = Seq(\"GATCGATGGGCCTATATAGGATCGAAAATCGC\", IUPAC.unambiguous_dna)\n",
    "my_seq"
   ]
  },
  {
   "cell_type": "markdown",
   "metadata": {},
   "source": [
    "Obtenemos la secuencia complementaria con el método `.complement()`"
   ]
  },
  {
   "cell_type": "code",
   "execution_count": 43,
   "metadata": {},
   "outputs": [
    {
     "data": {
      "text/plain": [
       "Seq('CTAGCTACCCGGATATATCCTAGCTTTTAGCG', IUPACUnambiguousDNA())"
      ]
     },
     "execution_count": 43,
     "metadata": {},
     "output_type": "execute_result"
    }
   ],
   "source": [
    "my_seq.complement()"
   ]
  },
  {
   "cell_type": "markdown",
   "metadata": {},
   "source": [
    "Obtenemos la secuencia reversa utilizando el slicing de strings"
   ]
  },
  {
   "cell_type": "code",
   "execution_count": 44,
   "metadata": {},
   "outputs": [
    {
     "data": {
      "text/plain": [
       "Seq('CGCTAAAAGCTAGGATATATCCGGGTAGCTAG', IUPACUnambiguousDNA())"
      ]
     },
     "execution_count": 44,
     "metadata": {},
     "output_type": "execute_result"
    }
   ],
   "source": [
    "my_seq[::-1]"
   ]
  },
  {
   "cell_type": "markdown",
   "metadata": {},
   "source": [
    "Obtenemos la secuencia reversa complementaria con el método `.reverse_complement()`"
   ]
  },
  {
   "cell_type": "code",
   "execution_count": 45,
   "metadata": {},
   "outputs": [
    {
     "data": {
      "text/plain": [
       "Seq('GCGATTTTCGATCCTATATAGGCCCATCGATC', IUPACUnambiguousDNA())"
      ]
     },
     "execution_count": 45,
     "metadata": {},
     "output_type": "execute_result"
    }
   ],
   "source": [
    "my_seq.reverse_complement()"
   ]
  },
  {
   "cell_type": "markdown",
   "metadata": {},
   "source": [
    "Todos estos métodos conservan el alfabeto que tenian y, de nuevo, evitan que hagamos locuras"
   ]
  },
  {
   "cell_type": "code",
   "execution_count": 46,
   "metadata": {},
   "outputs": [],
   "source": [
    "protein_seq = Seq(\"EVRNAK\", alphabet=IUPAC.protein)"
   ]
  },
  {
   "cell_type": "code",
   "execution_count": 47,
   "metadata": {},
   "outputs": [
    {
     "name": "stdout",
     "output_type": "stream",
     "text": [
      "¡Oops! BioPython no puede hacer esto porque el siguiente error emerge:\n",
      "\n",
      " Proteins do not have complements!\n"
     ]
    }
   ],
   "source": [
    "try:\n",
    "    protein_seq.complement()\n",
    "except ValueError as message:\n",
    "    print(\"¡Oops! BioPython no puede hacer esto porque el siguiente error emerge:\\n\\n %s\" % message)"
   ]
  },
  {
   "cell_type": "markdown",
   "metadata": {},
   "source": [
    "#### **Transcripción**"
   ]
  },
  {
   "cell_type": "markdown",
   "metadata": {},
   "source": [
    "Para tener en cuenta"
   ]
  },
  {
   "cell_type": "markdown",
   "metadata": {},
   "source": [
    "<img src=\"https://sciprolab1.readthedocs.io/en/latest/_images/trans_transl.png\" width=\"500px\" />"
   ]
  },
  {
   "cell_type": "markdown",
   "metadata": {},
   "source": [
    "Biopython (y en general los programas bioinformáticos), a diferencia de la naturaleza, toma la cadena codificante para hacer la transcripción. ¿Por qué será?"
   ]
  },
  {
   "cell_type": "code",
   "execution_count": 48,
   "metadata": {},
   "outputs": [
    {
     "data": {
      "text/plain": [
       "Seq('ATGGCCATTGTAATGGGCCGCTGAAAGGGTGCCCGATAG', IUPACUnambiguousDNA())"
      ]
     },
     "execution_count": 48,
     "metadata": {},
     "output_type": "execute_result"
    }
   ],
   "source": [
    "coding_dna = Seq(\"ATGGCCATTGTAATGGGCCGCTGAAAGGGTGCCCGATAG\", IUPAC.unambiguous_dna)\n",
    "coding_dna"
   ]
  },
  {
   "cell_type": "code",
   "execution_count": 49,
   "metadata": {},
   "outputs": [
    {
     "data": {
      "text/plain": [
       "Seq('CTATCGGGCACCCTTTCAGCGGCCCATTACAATGGCCAT', IUPACUnambiguousDNA())"
      ]
     },
     "execution_count": 49,
     "metadata": {},
     "output_type": "execute_result"
    }
   ],
   "source": [
    "template_dna = coding_dna.reverse_complement()\n",
    "template_dna"
   ]
  },
  {
   "cell_type": "code",
   "execution_count": 50,
   "metadata": {},
   "outputs": [
    {
     "data": {
      "text/plain": [
       "Seq('AUGGCCAUUGUAAUGGGCCGCUGAAAGGGUGCCCGAUAG', IUPACUnambiguousRNA())"
      ]
     },
     "execution_count": 50,
     "metadata": {},
     "output_type": "execute_result"
    }
   ],
   "source": [
    "messenger_rna = coding_dna.transcribe()\n",
    "messenger_rna"
   ]
  },
  {
   "cell_type": "markdown",
   "metadata": {},
   "source": [
    "Ahora, si queremos emular la transcripción biológica sería algo así"
   ]
  },
  {
   "cell_type": "code",
   "execution_count": 51,
   "metadata": {},
   "outputs": [
    {
     "data": {
      "text/plain": [
       "Seq('AUGGCCAUUGUAAUGGGCCGCUGAAAGGGUGCCCGAUAG', IUPACUnambiguousRNA())"
      ]
     },
     "execution_count": 51,
     "metadata": {},
     "output_type": "execute_result"
    }
   ],
   "source": [
    "template_dna.reverse_complement().transcribe()"
   ]
  },
  {
   "cell_type": "markdown",
   "metadata": {},
   "source": [
    "Finalmente, también podemos hacer una transcripción reversa con el método `.back_transcribe()`"
   ]
  },
  {
   "cell_type": "code",
   "execution_count": 52,
   "metadata": {},
   "outputs": [
    {
     "data": {
      "text/plain": [
       "Seq('ATGGCCATTGTAATGGGCCGCTGAAAGGGTGCCCGATAG', IUPACUnambiguousDNA())"
      ]
     },
     "execution_count": 52,
     "metadata": {},
     "output_type": "execute_result"
    }
   ],
   "source": [
    "messenger_rna.back_transcribe()"
   ]
  },
  {
   "cell_type": "markdown",
   "metadata": {},
   "source": [
    "#### **Traducción**"
   ]
  },
  {
   "cell_type": "markdown",
   "metadata": {},
   "source": [
    "Sigamos con nuestra secuencia y hagamos una traducción con el método `.translate()`"
   ]
  },
  {
   "cell_type": "code",
   "execution_count": 53,
   "metadata": {},
   "outputs": [
    {
     "data": {
      "text/plain": [
       "Seq('MAIVMGR*KGAR*', HasStopCodon(IUPACProtein(), '*'))"
      ]
     },
     "execution_count": 53,
     "metadata": {},
     "output_type": "execute_result"
    }
   ],
   "source": [
    "messenger_rna.translate()"
   ]
  },
  {
   "cell_type": "markdown",
   "metadata": {},
   "source": [
    "Como podemos recordar, un ORF siempre tiene un codón de inicio (que traduce a Metionina usualmente) y un codón de parada. Sin embargo, ¡esta secuencia tiene un codón de parada interno (señalado con * )!\n",
    "\n",
    "¿Y si lo leemos con otro código genético?"
   ]
  },
  {
   "cell_type": "code",
   "execution_count": 54,
   "metadata": {},
   "outputs": [
    {
     "data": {
      "text/plain": [
       "Seq('MAIVMGRWKGAR*', HasStopCodon(IUPACProtein(), '*'))"
      ]
     },
     "execution_count": 54,
     "metadata": {},
     "output_type": "execute_result"
    }
   ],
   "source": [
    "messenger_rna.translate(table=\"Vertebrate Mitochondrial\")"
   ]
  },
  {
   "cell_type": "markdown",
   "metadata": {},
   "source": [
    "Parece que ahora si es una ORF válido."
   ]
  },
  {
   "cell_type": "markdown",
   "metadata": {},
   "source": [
    "La traducción puede hacerse con distintos códigos genéticos. Biopython utiliza las mismas tablas que maneja el [NCBI](https://www.ncbi.nlm.nih.gov/Taxonomy/Utils/wprintgc.cgi). Por defecto, Biopython utiliza el *standard genetic code* (tabla 1 del NCBI). \n",
    "\n",
    "También podemos pasar el número de la tabla del NCBI, en lugar del nombre completo"
   ]
  },
  {
   "cell_type": "code",
   "execution_count": 55,
   "metadata": {},
   "outputs": [
    {
     "data": {
      "text/plain": [
       "Seq('MAIVMGRWKGAR*', HasStopCodon(IUPACProtein(), '*'))"
      ]
     },
     "execution_count": 55,
     "metadata": {},
     "output_type": "execute_result"
    }
   ],
   "source": [
    "messenger_rna.translate(table=\"2\")"
   ]
  },
  {
   "cell_type": "markdown",
   "metadata": {},
   "source": [
    "Otra opción que podemos añadir en la traducción, es hacerla como pasa en la naturaleza, es decir, que termine cuando encuentre el primer codón de parada."
   ]
  },
  {
   "cell_type": "code",
   "execution_count": 56,
   "metadata": {},
   "outputs": [
    {
     "data": {
      "text/plain": [
       "Seq('MAIVMGR*KGAR*', HasStopCodon(IUPACProtein(), '*'))"
      ]
     },
     "execution_count": 56,
     "metadata": {},
     "output_type": "execute_result"
    }
   ],
   "source": [
    "coding_dna.translate()"
   ]
  },
  {
   "cell_type": "code",
   "execution_count": 57,
   "metadata": {},
   "outputs": [
    {
     "data": {
      "text/plain": [
       "Seq('MAIVMGR', IUPACProtein())"
      ]
     },
     "execution_count": 57,
     "metadata": {},
     "output_type": "execute_result"
    }
   ],
   "source": [
    "coding_dna.translate(to_stop=True)"
   ]
  },
  {
   "cell_type": "code",
   "execution_count": 58,
   "metadata": {},
   "outputs": [
    {
     "data": {
      "text/plain": [
       "Seq('MAIVMGRWKGAR*', HasStopCodon(IUPACProtein(), '*'))"
      ]
     },
     "execution_count": 58,
     "metadata": {},
     "output_type": "execute_result"
    }
   ],
   "source": [
    "coding_dna.translate(table=\"2\")"
   ]
  },
  {
   "cell_type": "code",
   "execution_count": 59,
   "metadata": {},
   "outputs": [
    {
     "data": {
      "text/plain": [
       "Seq('MAIVMGRWKGAR', IUPACProtein())"
      ]
     },
     "execution_count": 59,
     "metadata": {},
     "output_type": "execute_result"
    }
   ],
   "source": [
    "coding_dna.translate(table=\"2\",to_stop=True)"
   ]
  },
  {
   "cell_type": "markdown",
   "metadata": {},
   "source": [
    "### **El objeto SeqRecord (Capítulo 4 del [manual](http://biopython.org/DIST/docs/tutorial/Tutorial.pdf))**"
   ]
  },
  {
   "cell_type": "markdown",
   "metadata": {},
   "source": [
    "Como ya hemos dicho, la secuencia es uno de los objetos centrales de la bioinformática. Sin embargo, las secuencias rara vez se encuentran solas. Usualmente cuentan con mucha información asociada, como el tipo de secuencia que es, el organismo del que proviene, en que parte del genoma se encuentra asociado, etc.\n",
    "\n",
    "La estructura **[SeqRecord](http://biopython.org/DIST/docs/api/Bio.SeqRecord.SeqRecord-class.html)** es un objeto diseñado para ligar la secuencia y la información asociada a ella.\n",
    "Es un \"contenedor\" que contiene los siguientes atributos:\n",
    "\n",
    "\n",
    "- `.id` : Identificador (_e.g._ un locus) (string)\n",
    "- `.seq` : La secuencia misma (Seq object o similar)\n",
    "- `.name` : Nombre de la secuencia (_e.g._ gene name (string))\n",
    "- `.description` : Texto adicional (string)\n",
    "- `.dbxrefs` : Lista de bases de datos asociadas (lista de strings)\n",
    "- `.features` : Cualquier (sub)característica definida (lista de SeqFeature objects)\n",
    "- `.annotations` : Información adicional relacionada a toda la secuencia (dictionary). La mayoria de items son strings o listas de strings. \n",
    "- `.letter_annotations` : Anotaciones por letra/simbolo (restricted dictionary). Este atributo guarda estructurasde Python (lists, strings or tuples) cuya longitud coincide con la de la secuencia. Un uso típico es una lista de enteros que representa la calidad de la secuenciación de cada letra, O un string representando la estructura secundaría."
   ]
  },
  {
   "cell_type": "markdown",
   "metadata": {},
   "source": [
    "Si bien podemos crear un **SeqRecord** de 0 (así como las secuencias), para hacer las cosas más entendibles y sencillas, leeremos archivos para crear los SeqRecords. Pero, para hacer esto, primero debemos ver el manejo de archivos de Biopython."
   ]
  },
  {
   "cell_type": "markdown",
   "metadata": {},
   "source": [
    "### **El modulo SeqIO (Capítulo 5 del [manual](http://biopython.org/DIST/docs/tutorial/Tutorial.pdf))**"
   ]
  },
  {
   "cell_type": "markdown",
   "metadata": {},
   "source": [
    "El modulo **SeqIO** nos permite facilmente leer y escribir archivos de formatos comunes en bioinformática. En la [Wiki](https://biopython.org/wiki/SeqIO) de Biopython se encuentra una breve introducción y los formatos soportados por este modulo. "
   ]
  },
  {
   "cell_type": "markdown",
   "metadata": {},
   "source": [
    "#### **Leyendo una sola entrada**"
   ]
  },
  {
   "cell_type": "markdown",
   "metadata": {},
   "source": [
    "la función `read()` recibe dos parámetros:\n",
    "\n",
    "- El path del archivo que se va a leer [String], (_e.g._ \"/home/usuario/Downloads/foo.fasta\")\n",
    "- El tipo de archivo que es [String]. Biopython no trata de adivinar el tipo de archivo, hay que decirselo (_e.g._ \"fasta\")\n",
    "\n",
    "También se le puede pasar un parámetro opcional: `alphabet` especifíca el alfabeto que se le va  asignar a la secuencia. Esto es útil con formatos de los cuales no se puede deducir el alfabeto que se debe utilizar (_e.g._ Fasta)"
   ]
  },
  {
   "cell_type": "markdown",
   "metadata": {},
   "source": [
    "Como queremos ver la complejidad que es capaz de abarcar los **SeqRecord**, veremos un archivo de formato genbank, que es un formato que está cargado de muchos metadatos adicionales a la secuencia en sí.  "
   ]
  },
  {
   "cell_type": "code",
   "execution_count": 60,
   "metadata": {},
   "outputs": [],
   "source": [
    "from Bio import SeqIO"
   ]
  },
  {
   "cell_type": "code",
   "execution_count": 61,
   "metadata": {},
   "outputs": [],
   "source": [
    "record = SeqIO.read(\"SI_marker.gb\", \"genbank\")"
   ]
  },
  {
   "cell_type": "markdown",
   "metadata": {},
   "source": [
    "Veamos qué cargamos:"
   ]
  },
  {
   "cell_type": "code",
   "execution_count": 62,
   "metadata": {},
   "outputs": [
    {
     "data": {
      "text/plain": [
       "SeqRecord(seq=Seq('TACACACCGCCCGTCGCTCCTACCGATTGAATGGTCCGGTGAAGTGTTCGGATC...GAG', IUPACAmbiguousDNA()), id='KP794444.1', name='KP794444', description='Plukenetia volubilis isolate WCM_10 18S ribosomal RNA gene, partial sequence; internal transcribed spacer 1, 5.8S ribosomal RNA gene, and internal transcribed spacer 2, complete sequence; and 26S ribosomal RNA gene, partial sequence', dbxrefs=[])"
      ]
     },
     "execution_count": 62,
     "metadata": {},
     "output_type": "execute_result"
    }
   ],
   "source": [
    "record"
   ]
  },
  {
   "cell_type": "markdown",
   "metadata": {},
   "source": [
    "Cuanta maraña...\n",
    "\n",
    "Veamos los atributos que dijimos tenian los **SeqRecords**"
   ]
  },
  {
   "cell_type": "markdown",
   "metadata": {},
   "source": [
    "El id (`.id`)"
   ]
  },
  {
   "cell_type": "code",
   "execution_count": 63,
   "metadata": {},
   "outputs": [
    {
     "data": {
      "text/plain": [
       "'KP794444.1'"
      ]
     },
     "execution_count": 63,
     "metadata": {},
     "output_type": "execute_result"
    }
   ],
   "source": [
    "record.id"
   ]
  },
  {
   "cell_type": "markdown",
   "metadata": {},
   "source": [
    "La secuencia (`.seq`)"
   ]
  },
  {
   "cell_type": "code",
   "execution_count": 64,
   "metadata": {},
   "outputs": [
    {
     "data": {
      "text/plain": [
       "Seq('TACACACCGCCCGTCGCTCCTACCGATTGAATGGTCCGGTGAAGTGTTCGGATC...GAG', IUPACAmbiguousDNA())"
      ]
     },
     "execution_count": 64,
     "metadata": {},
     "output_type": "execute_result"
    }
   ],
   "source": [
    "record.seq"
   ]
  },
  {
   "cell_type": "markdown",
   "metadata": {},
   "source": [
    "El nombre (`.name`)"
   ]
  },
  {
   "cell_type": "code",
   "execution_count": 65,
   "metadata": {},
   "outputs": [
    {
     "data": {
      "text/plain": [
       "'KP794444'"
      ]
     },
     "execution_count": 65,
     "metadata": {},
     "output_type": "execute_result"
    }
   ],
   "source": [
    "record.name"
   ]
  },
  {
   "cell_type": "markdown",
   "metadata": {},
   "source": [
    "La descripcion (`.description`)"
   ]
  },
  {
   "cell_type": "code",
   "execution_count": 66,
   "metadata": {},
   "outputs": [
    {
     "data": {
      "text/plain": [
       "'Plukenetia volubilis isolate WCM_10 18S ribosomal RNA gene, partial sequence; internal transcribed spacer 1, 5.8S ribosomal RNA gene, and internal transcribed spacer 2, complete sequence; and 26S ribosomal RNA gene, partial sequence'"
      ]
     },
     "execution_count": 66,
     "metadata": {},
     "output_type": "execute_result"
    }
   ],
   "source": [
    "record.description"
   ]
  },
  {
   "cell_type": "markdown",
   "metadata": {},
   "source": [
    "Las bases de datos asociadas (`.dbxrefs`)"
   ]
  },
  {
   "cell_type": "code",
   "execution_count": 67,
   "metadata": {},
   "outputs": [
    {
     "data": {
      "text/plain": [
       "[]"
      ]
     },
     "execution_count": 67,
     "metadata": {},
     "output_type": "execute_result"
    }
   ],
   "source": [
    "record.dbxrefs"
   ]
  },
  {
   "cell_type": "markdown",
   "metadata": {},
   "source": [
    "Las características (`.features`)"
   ]
  },
  {
   "cell_type": "code",
   "execution_count": 68,
   "metadata": {},
   "outputs": [
    {
     "data": {
      "text/plain": [
       "[SeqFeature(FeatureLocation(ExactPosition(0), ExactPosition(864), strand=1), type='source'),\n",
       " SeqFeature(FeatureLocation(BeforePosition(0), ExactPosition(173), strand=1), type='rRNA'),\n",
       " SeqFeature(FeatureLocation(ExactPosition(173), ExactPosition(419), strand=1), type='misc_RNA'),\n",
       " SeqFeature(FeatureLocation(ExactPosition(419), ExactPosition(581), strand=1), type='rRNA'),\n",
       " SeqFeature(FeatureLocation(ExactPosition(581), ExactPosition(810), strand=1), type='misc_RNA'),\n",
       " SeqFeature(FeatureLocation(ExactPosition(810), AfterPosition(864), strand=1), type='rRNA')]"
      ]
     },
     "execution_count": 68,
     "metadata": {},
     "output_type": "execute_result"
    }
   ],
   "source": [
    "record.features"
   ]
  },
  {
   "cell_type": "markdown",
   "metadata": {},
   "source": [
    "Las anotaciones (`.annotations`)"
   ]
  },
  {
   "cell_type": "code",
   "execution_count": 69,
   "metadata": {},
   "outputs": [
    {
     "data": {
      "text/plain": [
       "{'molecule_type': 'DNA',\n",
       " 'topology': 'linear',\n",
       " 'data_file_division': 'PLN',\n",
       " 'date': '03-AUG-2016',\n",
       " 'accessions': ['KP794444'],\n",
       " 'sequence_version': 1,\n",
       " 'keywords': [''],\n",
       " 'source': 'Plukenetia volubilis',\n",
       " 'organism': 'Plukenetia volubilis',\n",
       " 'taxonomy': ['Eukaryota',\n",
       "  'Viridiplantae',\n",
       "  'Streptophyta',\n",
       "  'Embryophyta',\n",
       "  'Tracheophyta',\n",
       "  'Spermatophyta',\n",
       "  'Magnoliophyta',\n",
       "  'eudicotyledons',\n",
       "  'Gunneridae',\n",
       "  'Pentapetalae',\n",
       "  'rosids',\n",
       "  'fabids',\n",
       "  'Malpighiales',\n",
       "  'Euphorbiaceae',\n",
       "  'Acalyphoideae',\n",
       "  'Plukenetieae',\n",
       "  'Plukenetia'],\n",
       " 'references': [Reference(title='Molecular phylogeny and pollen evolution of Euphorbiaceae tribe Plukenetieae', ...),\n",
       "  Reference(title='Direct Submission', ...)],\n",
       " 'structured_comment': OrderedDict([('Assembly-Data',\n",
       "               OrderedDict([('Assembly Method', 'Geneious v. 8.0.2'),\n",
       "                            ('Sequencing Technology',\n",
       "                             'Sanger dideoxy sequencing')]))])}"
      ]
     },
     "execution_count": 69,
     "metadata": {},
     "output_type": "execute_result"
    }
   ],
   "source": [
    "record.annotations"
   ]
  },
  {
   "cell_type": "markdown",
   "metadata": {},
   "source": [
    "Y las anotaciones por letra (`.letter_annotations`)"
   ]
  },
  {
   "cell_type": "code",
   "execution_count": 70,
   "metadata": {},
   "outputs": [
    {
     "data": {
      "text/plain": [
       "{}"
      ]
     },
     "execution_count": 70,
     "metadata": {},
     "output_type": "execute_result"
    }
   ],
   "source": [
    "record.letter_annotations"
   ]
  },
  {
   "cell_type": "markdown",
   "metadata": {},
   "source": [
    "Claramente podemos ver que hay campos con más información que otros, e incluso hay unos vacios. Según el tipo de formato que carguemos, Biopython cargará la información del archivo en los diferentes atributos."
   ]
  },
  {
   "cell_type": "markdown",
   "metadata": {},
   "source": [
    "También podemos visulizar de una manera mucho más sencilla el genbank file con `print()`"
   ]
  },
  {
   "cell_type": "code",
   "execution_count": 71,
   "metadata": {},
   "outputs": [
    {
     "name": "stdout",
     "output_type": "stream",
     "text": [
      "ID: KP794444.1\n",
      "Name: KP794444\n",
      "Description: Plukenetia volubilis isolate WCM_10 18S ribosomal RNA gene, partial sequence; internal transcribed spacer 1, 5.8S ribosomal RNA gene, and internal transcribed spacer 2, complete sequence; and 26S ribosomal RNA gene, partial sequence\n",
      "Number of features: 6\n",
      "/molecule_type=DNA\n",
      "/topology=linear\n",
      "/data_file_division=PLN\n",
      "/date=03-AUG-2016\n",
      "/accessions=['KP794444']\n",
      "/sequence_version=1\n",
      "/keywords=['']\n",
      "/source=Plukenetia volubilis\n",
      "/organism=Plukenetia volubilis\n",
      "/taxonomy=['Eukaryota', 'Viridiplantae', 'Streptophyta', 'Embryophyta', 'Tracheophyta', 'Spermatophyta', 'Magnoliophyta', 'eudicotyledons', 'Gunneridae', 'Pentapetalae', 'rosids', 'fabids', 'Malpighiales', 'Euphorbiaceae', 'Acalyphoideae', 'Plukenetieae', 'Plukenetia']\n",
      "/references=[Reference(title='Molecular phylogeny and pollen evolution of Euphorbiaceae tribe Plukenetieae', ...), Reference(title='Direct Submission', ...)]\n",
      "/structured_comment=OrderedDict([('Assembly-Data', OrderedDict([('Assembly Method', 'Geneious v. 8.0.2'), ('Sequencing Technology', 'Sanger dideoxy sequencing')]))])\n",
      "Seq('TACACACCGCCCGTCGCTCCTACCGATTGAATGGTCCGGTGAAGTGTTCGGATC...GAG', IUPACAmbiguousDNA())\n"
     ]
    }
   ],
   "source": [
    "print(record)"
   ]
  },
  {
   "cell_type": "markdown",
   "metadata": {},
   "source": [
    "#### **Extrayendo marcadores (_Features_)**"
   ]
  },
  {
   "cell_type": "markdown",
   "metadata": {},
   "source": [
    "Volviendo a la descripción del Genbank anterior: "
   ]
  },
  {
   "cell_type": "code",
   "execution_count": 72,
   "metadata": {},
   "outputs": [
    {
     "data": {
      "text/plain": [
       "'Plukenetia volubilis isolate WCM_10 18S ribosomal RNA gene, partial sequence; internal transcribed spacer 1, 5.8S ribosomal RNA gene, and internal transcribed spacer 2, complete sequence; and 26S ribosomal RNA gene, partial sequence'"
      ]
     },
     "execution_count": 72,
     "metadata": {},
     "output_type": "execute_result"
    }
   ],
   "source": [
    "record.description"
   ]
  },
  {
   "cell_type": "markdown",
   "metadata": {},
   "source": [
    "Podemos ver que la secuencia está compuesta por múltiples *loci*, algunos parciales (típico de una PCR). La localización de cada uno de estos *loci* se encuentra dentro de las `.features` del **SeqRecord**:"
   ]
  },
  {
   "cell_type": "code",
   "execution_count": 73,
   "metadata": {},
   "outputs": [
    {
     "data": {
      "text/plain": [
       "[SeqFeature(FeatureLocation(ExactPosition(0), ExactPosition(864), strand=1), type='source'),\n",
       " SeqFeature(FeatureLocation(BeforePosition(0), ExactPosition(173), strand=1), type='rRNA'),\n",
       " SeqFeature(FeatureLocation(ExactPosition(173), ExactPosition(419), strand=1), type='misc_RNA'),\n",
       " SeqFeature(FeatureLocation(ExactPosition(419), ExactPosition(581), strand=1), type='rRNA'),\n",
       " SeqFeature(FeatureLocation(ExactPosition(581), ExactPosition(810), strand=1), type='misc_RNA'),\n",
       " SeqFeature(FeatureLocation(ExactPosition(810), AfterPosition(864), strand=1), type='rRNA')]"
      ]
     },
     "execution_count": 73,
     "metadata": {},
     "output_type": "execute_result"
    }
   ],
   "source": [
    "record.features"
   ]
  },
  {
   "cell_type": "markdown",
   "metadata": {},
   "source": [
    "¿Y qué son esos? Veamos:"
   ]
  },
  {
   "cell_type": "code",
   "execution_count": 74,
   "metadata": {},
   "outputs": [
    {
     "name": "stdout",
     "output_type": "stream",
     "text": [
      "18S ribosomal RNA\n",
      "internal transcribed spacer 1\n",
      "5.8S ribosomal RNA\n",
      "internal transcribed spacer 2\n",
      "26S ribosomal RNA\n"
     ]
    }
   ],
   "source": [
    "for ft in record.features[1:]:\n",
    "    print(ft.qualifiers[\"product\"][0])"
   ]
  },
  {
   "cell_type": "markdown",
   "metadata": {},
   "source": [
    "Podemos extraer cualquiera de estos *loci* con el método `.extract()` y pasandole el **SeqRecord** padre. Supongamos que queremos el 5.8s: "
   ]
  },
  {
   "cell_type": "code",
   "execution_count": 75,
   "metadata": {},
   "outputs": [
    {
     "name": "stdout",
     "output_type": "stream",
     "text": [
      "ID: KP794444.1\n",
      "Name: KP794444\n",
      "Description: Plukenetia volubilis isolate WCM_10 18S ribosomal RNA gene, partial sequence; internal transcribed spacer 1, 5.8S ribosomal RNA gene, and internal transcribed spacer 2, complete sequence; and 26S ribosomal RNA gene, partial sequence\n",
      "Number of features: 1\n",
      "Seq('AACGACTCTCGGCAACGGATATCTTGGCTCTCGCATCGATGAAGAACGCAGCAA...CGC', IUPACAmbiguousDNA())\n",
      "\n",
      "\n",
      "El 5.8S mide 162 bp\n",
      "La secuencia completa mide 864 bp\n"
     ]
    }
   ],
   "source": [
    "rna_58s = record.features[3].extract(record)\n",
    "print(rna_58s)\n",
    "print(\"\\n\")\n",
    "print(\"El 5.8S mide %i bp\" % len(rna_58s))\n",
    "print(\"La secuencia completa mide %i bp\" % len(record))"
   ]
  },
  {
   "cell_type": "markdown",
   "metadata": {},
   "source": [
    "La función devuelve un **SeqRecord** como el padre pero con la secuencia solamente del *locus* que le pedimos"
   ]
  },
  {
   "cell_type": "markdown",
   "metadata": {},
   "source": [
    "***\n",
    "\n",
    "#### **Leyendo varias entradas**"
   ]
  },
  {
   "cell_type": "markdown",
   "metadata": {},
   "source": [
    "Ya vimos como leer un sólo archivo y como acceder a la información que contiene. Sin embargo, pocas veces tendremos un sólo archivo que analizar para nuestros proyectos. En la mayoría de ocasiones tendremos muchos archivos o incluso unos cuantos con varias entradas de información.\n",
    "\n",
    "En el ejemplo anterior, el archivo fue cargado en memoria directamente, lo cual no fue un problema ya que sólo pesa unos cuantos kbytes. ¿Pero qué pasaría si en un proyecto más grande, de genómica por ejemplo, donde un archivo no tenga una sino millones de entradas (algo bastante común) se hiciera lo mismo?\n",
    "\n",
    "**Alerta de Spoiler:** Vaya comprando otro computador...\n",
    "\n",
    "Para evitar estas situaciones, Biopython utiliza un *parser* (no existe una buena traducción para el término, sorry!), que lee los archivos con múltiples entradas una por una, en lugar de cargar todo al mismo tiempo.\n",
    "\n",
    "La función `parse()` funciona de una manera muy similar a la función `read()`, la diferencia es que `parse()` retorna un _iterable_ . Un iterable es un objeto que se usa en los ciclos (_e.g_ for, while, etc.) para ser recorridos. En este caso, en cada ciclo este iterable va a retornar un **SeqRecord** por cada entrada que tenga el archivo que estamos leyendo.\n",
    "\n",
    "Un ejemplo lo hará todo más claro: "
   ]
  },
  {
   "cell_type": "code",
   "execution_count": 76,
   "metadata": {},
   "outputs": [],
   "source": [
    "handle = SeqIO.parse(\"reads.fastq\", \"fastq\")"
   ]
  },
  {
   "cell_type": "markdown",
   "metadata": {},
   "source": [
    "¿Qué tipo de variable es 'handle'?"
   ]
  },
  {
   "cell_type": "code",
   "execution_count": 77,
   "metadata": {},
   "outputs": [
    {
     "data": {
      "text/plain": [
       "generator"
      ]
     },
     "execution_count": 77,
     "metadata": {},
     "output_type": "execute_result"
    }
   ],
   "source": [
    "type(handle)"
   ]
  },
  {
   "cell_type": "markdown",
   "metadata": {},
   "source": [
    "Creemos una lista para guardar cada entrada y leer el archivo"
   ]
  },
  {
   "cell_type": "code",
   "execution_count": 78,
   "metadata": {},
   "outputs": [],
   "source": [
    "reads = []\n",
    "for read in handle:\n",
    "    reads.append(read)"
   ]
  },
  {
   "cell_type": "markdown",
   "metadata": {},
   "source": [
    "¿Qué tan grande es nuestro archivo?"
   ]
  },
  {
   "cell_type": "code",
   "execution_count": 79,
   "metadata": {},
   "outputs": [
    {
     "data": {
      "text/plain": [
       "1000"
      ]
     },
     "execution_count": 79,
     "metadata": {},
     "output_type": "execute_result"
    }
   ],
   "source": [
    "len(reads)"
   ]
  },
  {
   "cell_type": "markdown",
   "metadata": {},
   "source": [
    "¿Y qué tenemos?"
   ]
  },
  {
   "cell_type": "code",
   "execution_count": 80,
   "metadata": {},
   "outputs": [
    {
     "data": {
      "text/plain": [
       "Bio.SeqRecord.SeqRecord"
      ]
     },
     "execution_count": 80,
     "metadata": {},
     "output_type": "execute_result"
    }
   ],
   "source": [
    "type(reads[0])"
   ]
  },
  {
   "cell_type": "code",
   "execution_count": 81,
   "metadata": {},
   "outputs": [
    {
     "data": {
      "text/plain": [
       "SeqRecord(seq=Seq('CTGGTTTGCACTCGGGACAATTAGCGCCTCTTTCCTGTGGTTCTTTGGTCTGGC...CAC', SingleLetterAlphabet()), id='SN7001201:1895:HGY57BCX2:1:1116:11049:67781', name='SN7001201:1895:HGY57BCX2:1:1116:11049:67781', description='SN7001201:1895:HGY57BCX2:1:1116:11049:67781', dbxrefs=[])"
      ]
     },
     "execution_count": 81,
     "metadata": {},
     "output_type": "execute_result"
    }
   ],
   "source": [
    "reads[0]"
   ]
  },
  {
   "cell_type": "code",
   "execution_count": 82,
   "metadata": {},
   "outputs": [
    {
     "data": {
      "text/plain": [
       "101"
      ]
     },
     "execution_count": 82,
     "metadata": {},
     "output_type": "execute_result"
    }
   ],
   "source": [
    "len(reads[0].letter_annotations[\"phred_quality\"])"
   ]
  },
  {
   "cell_type": "markdown",
   "metadata": {},
   "source": [
    "Básicamente, tenemos una lista de 1000 elementos, donde cada uno es un **SeqRecord**, es decir una secuencia con su información asociada (en este caso calidad)"
   ]
  },
  {
   "cell_type": "markdown",
   "metadata": {},
   "source": [
    "**Nota:** Vease que el alfabeto de las secuencias que acabamos de cargar es 'SingleLetterAlphabet' lo cual no es lo más apropiado siendo estas secuencias de ADN. Para cambiar esto, como ya lo mencionamos, podriamos pasar un alfabeto a `parse()`."
   ]
  },
  {
   "cell_type": "code",
   "execution_count": 83,
   "metadata": {},
   "outputs": [],
   "source": [
    "handle = SeqIO.parse(\"reads.fastq\", \"fastq\", alphabet=IUPAC.unambiguous_dna)"
   ]
  },
  {
   "cell_type": "code",
   "execution_count": 84,
   "metadata": {},
   "outputs": [],
   "source": [
    "reads2 = []\n",
    "for read in handle:\n",
    "    reads2.append(read)"
   ]
  },
  {
   "cell_type": "code",
   "execution_count": 85,
   "metadata": {},
   "outputs": [
    {
     "data": {
      "text/plain": [
       "Seq('CTGGTTTGCACTCGGGACAATTAGCGCCTCTTTCCTGTGGTTCTTTGGTCTGGC...CAC', IUPACUnambiguousDNA())"
      ]
     },
     "execution_count": 85,
     "metadata": {},
     "output_type": "execute_result"
    }
   ],
   "source": [
    "reads2[0].seq"
   ]
  },
  {
   "cell_type": "markdown",
   "metadata": {},
   "source": [
    "#### **Escritura de archivos**"
   ]
  },
  {
   "cell_type": "markdown",
   "metadata": {},
   "source": [
    "Para escribir archivos, el modulo **SeqIO** cuenta con la función `write()`. Ésta recibe tres argumentos:\n",
    "\n",
    "- Uno (o varios **SeqRecord**), _i.e_ puede ser una lista, diccionario, set etc. de **SeqRecord's** \n",
    "- El path (o nombre) donde se va a guardar el archivo [string] (_e.g._ \"/home/usuario/documentos/foo.fasta\")\n",
    "- El tipo de archivo que se va a escribir [string] (_e.g._ \"fasta\")\n",
    "\n",
    "**Nota:** Si se le dice a `write()` que escriba un archivo que ya existe, ésta sobreecribirá el archivo antiguo sin ninguna clase de advertencia. "
   ]
  },
  {
   "cell_type": "markdown",
   "metadata": {},
   "source": [
    "Escribamos en un archivo fasta la secuencia complementaría del archivo genbank que tenemos"
   ]
  },
  {
   "cell_type": "code",
   "execution_count": 86,
   "metadata": {},
   "outputs": [
    {
     "data": {
      "text/plain": [
       "1"
      ]
     },
     "execution_count": 86,
     "metadata": {},
     "output_type": "execute_result"
    }
   ],
   "source": [
    "record_rna = record\n",
    "record_rna.seq = record.seq.transcribe()\n",
    "SeqIO.write(record_rna, \"rna.fasta\", \"fasta\")"
   ]
  },
  {
   "cell_type": "markdown",
   "metadata": {},
   "source": [
    "#### **Conversión de formatos**"
   ]
  },
  {
   "cell_type": "markdown",
   "metadata": {},
   "source": [
    "Sí nos ponemos a pensarlo, la flexibilidad de las funciones `read()` y `write()` nos permite usando ambas, leer un archivo de un formato y escribirlo en otro. Es decir convertir el formato.\n",
    "\n",
    "Como esta tarea es muy común, y para ahorrar codigo y tiempo, Biopython ya cuenta con una función que acopla ambas funciones. `convert()` recibe 4 argumentos:\n",
    "\n",
    "- El path (o nombre) donde se va a leer el archivo [string] (_e.g._ \"/home/usuario/documentos/foo.fastq\")\n",
    "- El tipo de archivo que se va a leer [string] (_e.g._ \"fastq\")\n",
    "- El path (o nombre) donde se va a guardar el archivo [string] (_e.g._ \"/home/usuario/documentos/foo.fasta\")\n",
    "- El tipo de archivo que se va a escribir [string] (_e.g._ \"fasta\")\n",
    "\n",
    "**Nota:** Ya que la conversión de archivos pasa a través de la estructura **SeqRecord** y cada tipo de archivo llena campos diferentes, hay una lógica detrás de las conversiones que se pueden hacer. Por ejemplo, un archivo fastQ puede convertirse a un archivo fasta, pero lo opuesto no es posible, ya que faltaría información (la calidad asociada a la secuencia)."
   ]
  },
  {
   "cell_type": "code",
   "execution_count": 87,
   "metadata": {},
   "outputs": [
    {
     "data": {
      "text/plain": [
       "1000"
      ]
     },
     "execution_count": 87,
     "metadata": {},
     "output_type": "execute_result"
    }
   ],
   "source": [
    "SeqIO.convert(\"reads.fastq\", \"fastq\", \"reads.fasta\", \"fasta\")"
   ]
  },
  {
   "cell_type": "markdown",
   "metadata": {},
   "source": [
    "## **Ejercicios**"
   ]
  },
  {
   "cell_type": "markdown",
   "metadata": {},
   "source": [
    "Con el archivo 'SI_marker.gb', obtener un archivo de formato fasta con la misma secuencia."
   ]
  },
  {
   "cell_type": "code",
   "execution_count": 89,
   "metadata": {},
   "outputs": [
    {
     "data": {
      "text/plain": [
       "1"
      ]
     },
     "execution_count": 89,
     "metadata": {},
     "output_type": "execute_result"
    }
   ],
   "source": [
    "from Bio import SeqIO\n",
    "aux = SeqIO.read(\"SI_marker.gb\",\"gb\")\n",
    "SeqIO.write(aux, \"SI_marker.fasta\", \"fasta\")\n",
    " #otra forma de hacerlo es \n",
    "#f = open(\"SI_marker.gb\",\"w\")\n",
    "#f.write(aux.format(\"fasta\"))\n",
    "#f.close()\n",
    "\n",
    "#otra forma de correrlo es \n",
    "#SeqIO.convert(\"SI_marker.gb\",\"gb\",\"SI_marker.fasta\",\"fasta\")"
   ]
  },
  {
   "cell_type": "markdown",
   "metadata": {},
   "source": [
    "Escribir un archivo fasta que contenga los mRNA's asociados a las secuencias del archivo 'reads.fastq'"
   ]
  },
  {
   "cell_type": "code",
   "execution_count": 91,
   "metadata": {},
   "outputs": [
    {
     "data": {
      "text/plain": [
       "generator"
      ]
     },
     "execution_count": 91,
     "metadata": {},
     "output_type": "execute_result"
    }
   ],
   "source": [
    "type(aux)"
   ]
  },
  {
   "cell_type": "code",
   "execution_count": 107,
   "metadata": {},
   "outputs": [
    {
     "ename": "AttributeError",
     "evalue": "'list' object has no attribute 'Record'",
     "output_type": "error",
     "traceback": [
      "\u001b[0;31m---------------------------------------------------------------------------\u001b[0m",
      "\u001b[0;31mAttributeError\u001b[0m                            Traceback (most recent call last)",
      "\u001b[0;32m<ipython-input-107-29df6d93e091>\u001b[0m in \u001b[0;36m<module>\u001b[0;34m()\u001b[0m\n\u001b[1;32m      5\u001b[0m     \u001b[0mmrna\u001b[0m\u001b[0;34m=\u001b[0m\u001b[0ma\u001b[0m\u001b[0;34m.\u001b[0m\u001b[0mtranscribe\u001b[0m\u001b[0;34m(\u001b[0m\u001b[0;34m)\u001b[0m\u001b[0;34m\u001b[0m\u001b[0m\n\u001b[1;32m      6\u001b[0m     \u001b[0mlista\u001b[0m\u001b[0;34m.\u001b[0m\u001b[0mappend\u001b[0m\u001b[0;34m(\u001b[0m\u001b[0mmrna\u001b[0m\u001b[0;34m)\u001b[0m\u001b[0;34m\u001b[0m\u001b[0m\n\u001b[0;32m----> 7\u001b[0;31m \u001b[0mSeqIO\u001b[0m\u001b[0;34m.\u001b[0m\u001b[0mwrite\u001b[0m\u001b[0;34m(\u001b[0m\u001b[0mlista\u001b[0m\u001b[0;34m.\u001b[0m\u001b[0mRecord\u001b[0m\u001b[0;34m.\u001b[0m\u001b[0mSeq\u001b[0m\u001b[0;34m,\u001b[0m \u001b[0;34m\"reads.fasta\"\u001b[0m\u001b[0;34m,\u001b[0m\u001b[0;34m\"fasta\"\u001b[0m\u001b[0;34m)\u001b[0m\u001b[0;34m\u001b[0m\u001b[0m\n\u001b[0m",
      "\u001b[0;31mAttributeError\u001b[0m: 'list' object has no attribute 'Record'"
     ]
    }
   ],
   "source": [
    "from Bio import SeqIO\n",
    "lista=[]\n",
    "for i in SeqIO.parse(\"reads.fastq\",\"fastq\"):\n",
    "    a= i.seq\n",
    "    mrna=a.transcribe()\n",
    "    lista.append(mrna)\n",
    "SeqIO.write(lista.Record.Seq, \"reads.fasta\",\"fasta\")"
   ]
  },
  {
   "cell_type": "markdown",
   "metadata": {},
   "source": [
    "Con el archivo 'SI_marker.gb', traducir la secuencia con el código genético correspondiente y escribirla en un archivo fasta."
   ]
  },
  {
   "cell_type": "code",
   "execution_count": null,
   "metadata": {},
   "outputs": [],
   "source": []
  }
 ],
 "metadata": {
  "kernelspec": {
   "display_name": "Python 3",
   "language": "python",
   "name": "python3"
  },
  "language_info": {
   "codemirror_mode": {
    "name": "ipython",
    "version": 3
   },
   "file_extension": ".py",
   "mimetype": "text/x-python",
   "name": "python",
   "nbconvert_exporter": "python",
   "pygments_lexer": "ipython3",
   "version": "3.6.5"
  }
 },
 "nbformat": 4,
 "nbformat_minor": 2
}
