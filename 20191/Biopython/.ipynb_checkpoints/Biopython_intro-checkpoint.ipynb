{
 "cells": [
  {
   "cell_type": "markdown",
   "metadata": {},
   "source": [
    "# **Introducción a Biopython**"
   ]
  },
  {
   "cell_type": "markdown",
   "metadata": {},
   "source": [
    "## **Simón Villanueva**"
   ]
  },
  {
   "cell_type": "markdown",
   "metadata": {},
   "source": [
    "<img src=\"https://upload.wikimedia.org/wikipedia/commons/7/7d/Biopython_logo.svg\" alt=\"Drawing\" width=\"400px\"/>"
   ]
  },
  {
   "cell_type": "markdown",
   "metadata": {},
   "source": [
    "[Biopython](https://biopython.org/) es una serie de modulos de Python diseñados para facilitar la computación con datos biológicos. Cuenta con un [manual](http://biopython.org/DIST/docs/tutorial/Tutorial.pdf), en el que se encuentran los principales módulos y cómo utilizarlos y una [wiki](https://biopython.org/wiki/Category%3AWiki_Documentation) en la que hay suficiente información acerca de su uso."
   ]
  },
  {
   "cell_type": "markdown",
   "metadata": {},
   "source": [
    "Tal y como lo dice Biopython, es difícil concebir un objeto más importante para la bioinformática que las **secuencias** motivo por el cual el manejo de las mismas es lo primero que debemos abordar."
   ]
  },
  {
   "cell_type": "markdown",
   "metadata": {},
   "source": [
    "Biopython cuenta con 2 objetos muy importantes para el manejo de secuencias: El objeto **Seq** y el objeto **SeqRecord**"
   ]
  },
  {
   "cell_type": "markdown",
   "metadata": {},
   "source": [
    "### **Objeto Seq (Capítulo 3 del [manual](http://biopython.org/DIST/docs/tutorial/Tutorial.pdf))**"
   ]
  },
  {
   "cell_type": "markdown",
   "metadata": {},
   "source": [
    "El objeto **Seq** es esencialmente igual al objeto **String**, salvo por dos cosas: tienen métodos diferentes (veremos algunos más adelante); y tienen un atributo asociado, un alfabeto. La función del alfabeto es darle significado a la secuencia, y determina cómo esta debe ser interpretada:\n",
    "\n",
    "Por ejemplo: ¿Es la secuencia \"ATCTATGCTGAC\" una secuencia de ADN o una secuencia proteica muy rica en alaninas, glicinas, cisteinas y treoninas?"
   ]
  },
  {
   "cell_type": "code",
   "execution_count": 8,
   "metadata": {},
   "outputs": [],
   "source": [
    "from Bio.Seq import Seq\n",
    "from Bio.Alphabet import IUPAC"
   ]
  },
  {
   "cell_type": "code",
   "execution_count": 9,
   "metadata": {},
   "outputs": [
    {
     "data": {
      "text/plain": [
       "Seq('AGTACACTGGT', IUPACUnambiguousDNA())"
      ]
     },
     "execution_count": 9,
     "metadata": {},
     "output_type": "execute_result"
    }
   ],
   "source": [
    "my_seq = Seq(\"AGTACACTGGT\", IUPAC.unambiguous_dna)\n",
    "my_seq"
   ]
  },
  {
   "cell_type": "code",
   "execution_count": 10,
   "metadata": {},
   "outputs": [
    {
     "data": {
      "text/plain": [
       "IUPACUnambiguousDNA()"
      ]
     },
     "execution_count": 10,
     "metadata": {},
     "output_type": "execute_result"
    }
   ],
   "source": [
    "my_seq.alphabet"
   ]
  },
  {
   "cell_type": "markdown",
   "metadata": {},
   "source": [
    "Como dijimos, las secuencias actuan tal y como los strings\n",
    "\n",
    "Están divididos en índices y por tanto pueden ser recorridos"
   ]
  },
  {
   "cell_type": "code",
   "execution_count": 11,
   "metadata": {},
   "outputs": [
    {
     "name": "stdout",
     "output_type": "stream",
     "text": [
      "0 \t A\n",
      "1 \t G\n",
      "2 \t T\n",
      "3 \t A\n",
      "4 \t C\n",
      "5 \t A\n",
      "6 \t C\n",
      "7 \t T\n",
      "8 \t G\n",
      "9 \t G\n",
      "10 \t T\n"
     ]
    }
   ],
   "source": [
    "for index,letter in enumerate(my_seq):\n",
    "    print(\"%i \\t %s\" % (index,letter))"
   ]
  },
  {
   "cell_type": "code",
   "execution_count": 12,
   "metadata": {},
   "outputs": [
    {
     "data": {
      "text/plain": [
       "11"
      ]
     },
     "execution_count": 12,
     "metadata": {},
     "output_type": "execute_result"
    }
   ],
   "source": [
    "len(my_seq)"
   ]
  },
  {
   "cell_type": "markdown",
   "metadata": {},
   "source": [
    "#### **Conteo**"
   ]
  },
  {
   "cell_type": "markdown",
   "metadata": {},
   "source": [
    "También podemos contar la cantidad de substrings que haya"
   ]
  },
  {
   "cell_type": "code",
   "execution_count": 13,
   "metadata": {},
   "outputs": [
    {
     "data": {
      "text/plain": [
       "3"
      ]
     },
     "execution_count": 13,
     "metadata": {},
     "output_type": "execute_result"
    }
   ],
   "source": [
    "my_seq.count(\"G\")"
   ]
  },
  {
   "cell_type": "code",
   "execution_count": 14,
   "metadata": {},
   "outputs": [
    {
     "data": {
      "text/plain": [
       "2"
      ]
     },
     "execution_count": 14,
     "metadata": {},
     "output_type": "execute_result"
    }
   ],
   "source": [
    "my_seq.count(\"AC\")"
   ]
  },
  {
   "cell_type": "markdown",
   "metadata": {},
   "source": [
    "Aunque hay que tener en cuenta que el conteo es exclusivo:"
   ]
  },
  {
   "cell_type": "code",
   "execution_count": 15,
   "metadata": {},
   "outputs": [
    {
     "data": {
      "text/plain": [
       "2"
      ]
     },
     "execution_count": 15,
     "metadata": {},
     "output_type": "execute_result"
    }
   ],
   "source": [
    "\"AAAA\".count(\"AA\")"
   ]
  },
  {
   "cell_type": "markdown",
   "metadata": {},
   "source": [
    "#### **Slicing**"
   ]
  },
  {
   "cell_type": "markdown",
   "metadata": {},
   "source": [
    "También podemos sacar porciones de las secuencias"
   ]
  },
  {
   "cell_type": "code",
   "execution_count": 16,
   "metadata": {},
   "outputs": [
    {
     "data": {
      "text/plain": [
       "Seq('CACTG', IUPACUnambiguousDNA())"
      ]
     },
     "execution_count": 16,
     "metadata": {},
     "output_type": "execute_result"
    }
   ],
   "source": [
    "my_seq[4:9]"
   ]
  },
  {
   "cell_type": "markdown",
   "metadata": {},
   "source": [
    "Notese que además de sacar una subsecuencia, también se conserva el alfabeto de la secuencia original."
   ]
  },
  {
   "cell_type": "markdown",
   "metadata": {},
   "source": [
    "#### **Concatenando Secuencias**"
   ]
  },
  {
   "cell_type": "markdown",
   "metadata": {},
   "source": [
    "También podemos concatenar secuencias"
   ]
  },
  {
   "cell_type": "code",
   "execution_count": 24,
   "metadata": {},
   "outputs": [],
   "source": [
    "protein_seq = Seq(\"EVRNAK\", IUPAC.protein)\n",
    "dna_seq = Seq(\"ACGT\", IUPAC.unambiguous_dna)"
   ]
  },
  {
   "cell_type": "code",
   "execution_count": 25,
   "metadata": {},
   "outputs": [
    {
     "name": "stdout",
     "output_type": "stream",
     "text": [
      "¡Oops! BioPython no puede hacer esto porque el siguiente error emerge:\n",
      "\n",
      " Incompatible alphabets IUPACProtein() and IUPACUnambiguousDNA()\n"
     ]
    }
   ],
   "source": [
    "try:\n",
    "    protein_seq + dna_seq\n",
    "except TypeError as message:\n",
    "    print(\"¡Oops! BioPython no puede hacer esto porque el siguiente error emerge:\\n\\n %s\" % message)"
   ]
  },
  {
   "cell_type": "markdown",
   "metadata": {},
   "source": [
    "Los alfabetos evitan que hagamos locuras como concatenar una secuencia de nucleotidos con una secuencia proteica.\n",
    "\n",
    "Pero si de verdad queremos hacer una locura de estas:"
   ]
  },
  {
   "cell_type": "code",
   "execution_count": 26,
   "metadata": {},
   "outputs": [],
   "source": [
    "from Bio.Alphabet import generic_alphabet"
   ]
  },
  {
   "cell_type": "code",
   "execution_count": 27,
   "metadata": {},
   "outputs": [
    {
     "data": {
      "text/plain": [
       "Seq('EVRNAKACGT')"
      ]
     },
     "execution_count": 27,
     "metadata": {},
     "output_type": "execute_result"
    }
   ],
   "source": [
    "protein_seq.alphabet = generic_alphabet\n",
    "dna_seq.alphabet = generic_alphabet\n",
    "protein_seq + dna_seq"
   ]
  },
  {
   "cell_type": "markdown",
   "metadata": {},
   "source": [
    "***"
   ]
  },
  {
   "cell_type": "markdown",
   "metadata": {},
   "source": [
    "Veamos otro ejemplo:"
   ]
  },
  {
   "cell_type": "code",
   "execution_count": 28,
   "metadata": {},
   "outputs": [],
   "source": [
    "from Bio.Alphabet import generic_nucleotide"
   ]
  },
  {
   "cell_type": "code",
   "execution_count": 29,
   "metadata": {},
   "outputs": [],
   "source": [
    "nuc_seq = Seq(\"GATCGATGC\", generic_nucleotide)\n",
    "dna_seq = Seq(\"ACGT\", IUPAC.unambiguous_dna)"
   ]
  },
  {
   "cell_type": "code",
   "execution_count": 30,
   "metadata": {},
   "outputs": [
    {
     "data": {
      "text/plain": [
       "Seq('GATCGATGC', NucleotideAlphabet())"
      ]
     },
     "execution_count": 30,
     "metadata": {},
     "output_type": "execute_result"
    }
   ],
   "source": [
    "nuc_seq"
   ]
  },
  {
   "cell_type": "code",
   "execution_count": 31,
   "metadata": {},
   "outputs": [
    {
     "data": {
      "text/plain": [
       "Seq('ACGT', IUPACUnambiguousDNA())"
      ]
     },
     "execution_count": 31,
     "metadata": {},
     "output_type": "execute_result"
    }
   ],
   "source": [
    "dna_seq"
   ]
  },
  {
   "cell_type": "code",
   "execution_count": 32,
   "metadata": {},
   "outputs": [
    {
     "data": {
      "text/plain": [
       "Seq('GATCGATGCACGT', NucleotideAlphabet())"
      ]
     },
     "execution_count": 32,
     "metadata": {},
     "output_type": "execute_result"
    }
   ],
   "source": [
    "nuc_seq + dna_seq"
   ]
  },
  {
   "cell_type": "markdown",
   "metadata": {},
   "source": [
    "Al concatenar secuencias, el alfabeto que se hereda será el que mayor **precedencia** tenga (más genérico, más precedencia)"
   ]
  },
  {
   "cell_type": "markdown",
   "metadata": {},
   "source": [
    "#### **Cambiar Mayúsculas y minúsculas**"
   ]
  },
  {
   "cell_type": "markdown",
   "metadata": {},
   "source": [
    "Supongamos que tenemos la siguiente secuencia"
   ]
  },
  {
   "cell_type": "code",
   "execution_count": 33,
   "metadata": {},
   "outputs": [],
   "source": [
    "from Bio.Alphabet import generic_dna"
   ]
  },
  {
   "cell_type": "code",
   "execution_count": 34,
   "metadata": {},
   "outputs": [],
   "source": [
    "dna_seq = Seq(\"acgtACGT\", generic_dna)"
   ]
  },
  {
   "cell_type": "markdown",
   "metadata": {},
   "source": [
    "Si queremos comprobar la secuencia"
   ]
  },
  {
   "cell_type": "code",
   "execution_count": 35,
   "metadata": {},
   "outputs": [
    {
     "data": {
      "text/plain": [
       "False"
      ]
     },
     "execution_count": 35,
     "metadata": {},
     "output_type": "execute_result"
    }
   ],
   "source": [
    "\"ACGTACGT\" in dna_seq"
   ]
  },
  {
   "cell_type": "markdown",
   "metadata": {},
   "source": [
    "Como Python diferencia entre mayúsculas y minúsculas, usualmente tener una secuencia con ambas es un problema. Afotunadamente para estos casos tenemos los métodos `.lower()` y `.upper()`"
   ]
  },
  {
   "cell_type": "code",
   "execution_count": 36,
   "metadata": {},
   "outputs": [
    {
     "data": {
      "text/plain": [
       "Seq('acgtacgt', DNAAlphabet())"
      ]
     },
     "execution_count": 36,
     "metadata": {},
     "output_type": "execute_result"
    }
   ],
   "source": [
    "dna_seq.lower()"
   ]
  },
  {
   "cell_type": "code",
   "execution_count": 37,
   "metadata": {},
   "outputs": [
    {
     "data": {
      "text/plain": [
       "Seq('ACGTACGT', DNAAlphabet())"
      ]
     },
     "execution_count": 37,
     "metadata": {},
     "output_type": "execute_result"
    }
   ],
   "source": [
    "dna_seq.upper()"
   ]
  },
  {
   "cell_type": "code",
   "execution_count": 38,
   "metadata": {},
   "outputs": [
    {
     "data": {
      "text/plain": [
       "True"
      ]
     },
     "execution_count": 38,
     "metadata": {},
     "output_type": "execute_result"
    }
   ],
   "source": [
    "\"ACGTACGT\" in dna_seq.upper()"
   ]
  },
  {
   "cell_type": "markdown",
   "metadata": {},
   "source": [
    "Otra nota: los alfabetos IUPAC son sólo compatibles con secuencias en **mayúsculas**"
   ]
  },
  {
   "cell_type": "code",
   "execution_count": 39,
   "metadata": {},
   "outputs": [
    {
     "data": {
      "text/plain": [
       "Seq('ACGT', IUPACUnambiguousDNA())"
      ]
     },
     "execution_count": 39,
     "metadata": {},
     "output_type": "execute_result"
    }
   ],
   "source": [
    "dna_seq = Seq(\"ACGT\", alphabet=IUPAC.unambiguous_dna)\n",
    "dna_seq"
   ]
  },
  {
   "cell_type": "code",
   "execution_count": 40,
   "metadata": {},
   "outputs": [
    {
     "data": {
      "text/plain": [
       "Seq('acgt', DNAAlphabet())"
      ]
     },
     "execution_count": 40,
     "metadata": {},
     "output_type": "execute_result"
    }
   ],
   "source": [
    "dna_seq.lower()"
   ]
  },
  {
   "cell_type": "markdown",
   "metadata": {},
   "source": [
    "### **Métodos más biológicos**"
   ]
  },
  {
   "cell_type": "markdown",
   "metadata": {},
   "source": [
    "#### **Replicación**"
   ]
  },
  {
   "cell_type": "markdown",
   "metadata": {},
   "source": [
    "Algunos de las funciones biológicas que más utilizamos"
   ]
  },
  {
   "cell_type": "code",
   "execution_count": 41,
   "metadata": {},
   "outputs": [
    {
     "data": {
      "text/plain": [
       "Seq('GATCGATGGGCCTATATAGGATCGAAAATCGC', IUPACUnambiguousDNA())"
      ]
     },
     "execution_count": 41,
     "metadata": {},
     "output_type": "execute_result"
    }
   ],
   "source": [
    "my_seq = Seq(\"GATCGATGGGCCTATATAGGATCGAAAATCGC\", IUPAC.unambiguous_dna)\n",
    "my_seq"
   ]
  },
  {
   "cell_type": "markdown",
   "metadata": {},
   "source": [
    "Obtenemos la secuencia complementaria con el método `.complement()`"
   ]
  },
  {
   "cell_type": "code",
   "execution_count": 42,
   "metadata": {},
   "outputs": [
    {
     "data": {
      "text/plain": [
       "Seq('CTAGCTACCCGGATATATCCTAGCTTTTAGCG', IUPACUnambiguousDNA())"
      ]
     },
     "execution_count": 42,
     "metadata": {},
     "output_type": "execute_result"
    }
   ],
   "source": [
    "my_seq.complement()"
   ]
  },
  {
   "cell_type": "markdown",
   "metadata": {},
   "source": [
    "Obtenemos la secuencia reversa utilizando el slicing de strings"
   ]
  },
  {
   "cell_type": "code",
   "execution_count": 43,
   "metadata": {},
   "outputs": [
    {
     "data": {
      "text/plain": [
       "Seq('CGCTAAAAGCTAGGATATATCCGGGTAGCTAG', IUPACUnambiguousDNA())"
      ]
     },
     "execution_count": 43,
     "metadata": {},
     "output_type": "execute_result"
    }
   ],
   "source": [
    "my_seq[::-1]"
   ]
  },
  {
   "cell_type": "markdown",
   "metadata": {},
   "source": [
    "Obtenemos la secuencia reversa complementaria con el método `.reverse_complement()`"
   ]
  },
  {
   "cell_type": "code",
   "execution_count": 44,
   "metadata": {},
   "outputs": [
    {
     "data": {
      "text/plain": [
       "Seq('GCGATTTTCGATCCTATATAGGCCCATCGATC', IUPACUnambiguousDNA())"
      ]
     },
     "execution_count": 44,
     "metadata": {},
     "output_type": "execute_result"
    }
   ],
   "source": [
    "my_seq.reverse_complement()"
   ]
  },
  {
   "cell_type": "markdown",
   "metadata": {},
   "source": [
    "Todos estos métodos conservan el alfabeto que tenian y, de nuevo, evitan que hagamos locuras"
   ]
  },
  {
   "cell_type": "code",
   "execution_count": 45,
   "metadata": {},
   "outputs": [],
   "source": [
    "protein_seq = Seq(\"EVRNAK\", alphabet=IUPAC.protein)"
   ]
  },
  {
   "cell_type": "code",
   "execution_count": 46,
   "metadata": {},
   "outputs": [
    {
     "name": "stdout",
     "output_type": "stream",
     "text": [
      "¡Oops! BioPython no puede hacer esto porque el siguiente error emerge:\n",
      "\n",
      " Proteins do not have complements!\n"
     ]
    }
   ],
   "source": [
    "try:\n",
    "    protein_seq.complement()\n",
    "except ValueError as message:\n",
    "    print(\"¡Oops! BioPython no puede hacer esto porque el siguiente error emerge:\\n\\n %s\" % message)"
   ]
  },
  {
   "cell_type": "markdown",
   "metadata": {},
   "source": [
    "#### **Transcripción**"
   ]
  },
  {
   "cell_type": "markdown",
   "metadata": {},
   "source": [
    "Para tener en cuenta"
   ]
  },
  {
   "cell_type": "markdown",
   "metadata": {},
   "source": [
    "<img src=\"https://sciprolab1.readthedocs.io/en/latest/_images/trans_transl.png\" width=\"500px\" />"
   ]
  },
  {
   "cell_type": "markdown",
   "metadata": {},
   "source": [
    "Biopython (y en general los programas bioinformáticos), a diferencia de la naturaleza, toma la cadena codificante para hacer la transcripción. ¿Por qué será?"
   ]
  },
  {
   "cell_type": "code",
   "execution_count": 47,
   "metadata": {},
   "outputs": [
    {
     "data": {
      "text/plain": [
       "Seq('ATGGCCATTGTAATGGGCCGCTGAAAGGGTGCCCGATAG', IUPACUnambiguousDNA())"
      ]
     },
     "execution_count": 47,
     "metadata": {},
     "output_type": "execute_result"
    }
   ],
   "source": [
    "coding_dna = Seq(\"ATGGCCATTGTAATGGGCCGCTGAAAGGGTGCCCGATAG\", IUPAC.unambiguous_dna)\n",
    "coding_dna"
   ]
  },
  {
   "cell_type": "code",
   "execution_count": 48,
   "metadata": {},
   "outputs": [
    {
     "data": {
      "text/plain": [
       "Seq('CTATCGGGCACCCTTTCAGCGGCCCATTACAATGGCCAT', IUPACUnambiguousDNA())"
      ]
     },
     "execution_count": 48,
     "metadata": {},
     "output_type": "execute_result"
    }
   ],
   "source": [
    "template_dna = coding_dna.reverse_complement()\n",
    "template_dna"
   ]
  },
  {
   "cell_type": "code",
   "execution_count": 49,
   "metadata": {},
   "outputs": [
    {
     "data": {
      "text/plain": [
       "Seq('AUGGCCAUUGUAAUGGGCCGCUGAAAGGGUGCCCGAUAG', IUPACUnambiguousRNA())"
      ]
     },
     "execution_count": 49,
     "metadata": {},
     "output_type": "execute_result"
    }
   ],
   "source": [
    "messenger_rna = coding_dna.transcribe()\n",
    "messenger_rna"
   ]
  },
  {
   "cell_type": "markdown",
   "metadata": {},
   "source": [
    "Ahora, si queremos emular la transcripción biológica sería algo así"
   ]
  },
  {
   "cell_type": "code",
   "execution_count": 50,
   "metadata": {},
   "outputs": [
    {
     "data": {
      "text/plain": [
       "Seq('AUGGCCAUUGUAAUGGGCCGCUGAAAGGGUGCCCGAUAG', IUPACUnambiguousRNA())"
      ]
     },
     "execution_count": 50,
     "metadata": {},
     "output_type": "execute_result"
    }
   ],
   "source": [
    "template_dna.reverse_complement().transcribe()"
   ]
  },
  {
   "cell_type": "markdown",
   "metadata": {},
   "source": [
    "Finalmente, también podemos hacer una transcripción reversa con el método `.back_transcribe()`"
   ]
  },
  {
   "cell_type": "code",
   "execution_count": 51,
   "metadata": {},
   "outputs": [
    {
     "data": {
      "text/plain": [
       "Seq('ATGGCCATTGTAATGGGCCGCTGAAAGGGTGCCCGATAG', IUPACUnambiguousDNA())"
      ]
     },
     "execution_count": 51,
     "metadata": {},
     "output_type": "execute_result"
    }
   ],
   "source": [
    "messenger_rna.back_transcribe()"
   ]
  },
  {
   "cell_type": "markdown",
   "metadata": {},
   "source": [
    "#### **Traducción**"
   ]
  },
  {
   "cell_type": "markdown",
   "metadata": {},
   "source": [
    "Sigamos con nuestra secuencia y hagamos una traducción con el método `.translate()`"
   ]
  },
  {
   "cell_type": "code",
   "execution_count": 52,
   "metadata": {},
   "outputs": [
    {
     "data": {
      "text/plain": [
       "Seq('MAIVMGR*KGAR*', HasStopCodon(IUPACProtein(), '*'))"
      ]
     },
     "execution_count": 52,
     "metadata": {},
     "output_type": "execute_result"
    }
   ],
   "source": [
    "messenger_rna.translate()"
   ]
  },
  {
   "cell_type": "markdown",
   "metadata": {},
   "source": [
    "Como podemos recordar, un ORF siempre tiene un codón de inicio (que traduce a Metionina usualmente) y un codón de parada. Sin embargo, ¡esta secuencia tiene un codón de parada interno (señalado con * )!\n",
    "\n",
    "¿Y si lo leemos con otro código genético?"
   ]
  },
  {
   "cell_type": "code",
   "execution_count": 53,
   "metadata": {},
   "outputs": [
    {
     "data": {
      "text/plain": [
       "Seq('MAIVMGRWKGAR*', HasStopCodon(IUPACProtein(), '*'))"
      ]
     },
     "execution_count": 53,
     "metadata": {},
     "output_type": "execute_result"
    }
   ],
   "source": [
    "messenger_rna.translate(table=\"Vertebrate Mitochondrial\")"
   ]
  },
  {
   "cell_type": "markdown",
   "metadata": {},
   "source": [
    "Parece que ahora si es una ORF válido."
   ]
  },
  {
   "cell_type": "markdown",
   "metadata": {},
   "source": [
    "La traducción puede hacerse con distintos códigos genéticos. Biopython utiliza las mismas tablas que maneja el [NCBI](https://www.ncbi.nlm.nih.gov/Taxonomy/Utils/wprintgc.cgi). Por defecto, Biopython utiliza el *standard genetic code* (tabla 1 del NCBI). \n",
    "\n",
    "También podemos pasar el número de la tabla del NCBI, en lugar del nombre completo"
   ]
  },
  {
   "cell_type": "code",
   "execution_count": 54,
   "metadata": {},
   "outputs": [
    {
     "data": {
      "text/plain": [
       "Seq('MAIVMGRWKGAR*', HasStopCodon(IUPACProtein(), '*'))"
      ]
     },
     "execution_count": 54,
     "metadata": {},
     "output_type": "execute_result"
    }
   ],
   "source": [
    "messenger_rna.translate(table=\"2\")"
   ]
  },
  {
   "cell_type": "markdown",
   "metadata": {},
   "source": [
    "Otra opción que podemos añadir en la traducción, es hacerla como pasa en la naturaleza, es decir, que termine cuando encuentre el primer codón de parada."
   ]
  },
  {
   "cell_type": "code",
   "execution_count": 55,
   "metadata": {},
   "outputs": [
    {
     "data": {
      "text/plain": [
       "Seq('MAIVMGR*KGAR*', HasStopCodon(IUPACProtein(), '*'))"
      ]
     },
     "execution_count": 55,
     "metadata": {},
     "output_type": "execute_result"
    }
   ],
   "source": [
    "coding_dna.translate()"
   ]
  },
  {
   "cell_type": "code",
   "execution_count": 56,
   "metadata": {},
   "outputs": [
    {
     "data": {
      "text/plain": [
       "Seq('MAIVMGR', IUPACProtein())"
      ]
     },
     "execution_count": 56,
     "metadata": {},
     "output_type": "execute_result"
    }
   ],
   "source": [
    "coding_dna.translate(to_stop=True)"
   ]
  },
  {
   "cell_type": "code",
   "execution_count": 57,
   "metadata": {},
   "outputs": [
    {
     "data": {
      "text/plain": [
       "Seq('MAIVMGRWKGAR*', HasStopCodon(IUPACProtein(), '*'))"
      ]
     },
     "execution_count": 57,
     "metadata": {},
     "output_type": "execute_result"
    }
   ],
   "source": [
    "coding_dna.translate(table=\"2\")"
   ]
  },
  {
   "cell_type": "code",
   "execution_count": 58,
   "metadata": {},
   "outputs": [
    {
     "data": {
      "text/plain": [
       "Seq('MAIVMGRWKGAR', IUPACProtein())"
      ]
     },
     "execution_count": 58,
     "metadata": {},
     "output_type": "execute_result"
    }
   ],
   "source": [
    "coding_dna.translate(table=\"2\",to_stop=True)"
   ]
  },
  {
   "cell_type": "markdown",
   "metadata": {},
   "source": [
    "### **El objeto SeqRecord (Capítulo 4 del [manual](http://biopython.org/DIST/docs/tutorial/Tutorial.pdf))**"
   ]
  },
  {
   "cell_type": "markdown",
   "metadata": {},
   "source": [
    "Como ya hemos dicho, la secuencia es uno de los objetos centrales de la bioinformática. Sin embargo, las secuencias rara vez se encuentran solas. Usualmente cuentan con mucha información asociada, como el tipo de secuencia que es, el organismo del que proviene, en que parte del genoma se encuentra asociado, etc.\n",
    "\n",
    "La estructura **[SeqRecord](http://biopython.org/DIST/docs/api/Bio.SeqRecord.SeqRecord-class.html)** es un objeto diseñado para ligar la secuencia y la información asociada a ella.\n",
    "Es un \"contenedor\" que contiene los siguientes atributos:\n",
    "\n",
    "\n",
    "- `.id` : Identificador (_e.g._ un locus) (string)\n",
    "- `.seq` : La secuencia misma (Seq object o similar)\n",
    "- `.name` : Nombre de la secuencia (_e.g._ gene name (string))\n",
    "- `.description` : Texto adicional (string)\n",
    "- `.dbxrefs` : Lista de bases de datos asociadas (lista de strings)\n",
    "- `.features` : Cualquier (sub)característica definida (lista de SeqFeature objects)\n",
    "- `.annotations` : Información adicional relacionada a toda la secuencia (dictionary). La mayoria de items son strings o listas de strings. \n",
    "- `.letter_annotations` : Anotaciones por letra/simbolo (restricted dictionary). Este atributo guarda estructurasde Python (lists, strings or tuples) cuya longitud coincide con la de la secuencia. Un uso típico es una lista de enteros que representa la calidad de la secuenciación de cada letra, O un string representando la estructura secundaría."
   ]
  },
  {
   "cell_type": "markdown",
   "metadata": {},
   "source": [
    "Si bien podemos crear un **SeqRecord** de 0 (así como las secuencias), para hacer las cosas más entendibles y sencillas, leeremos archivos para crear los SeqRecords. Pero, para hacer esto, primero debemos ver el manejo de archivos de Biopython."
   ]
  },
  {
   "cell_type": "markdown",
   "metadata": {},
   "source": [
    "### **El modulo SeqIO (Capítulo 5 del [manual](http://biopython.org/DIST/docs/tutorial/Tutorial.pdf))**"
   ]
  },
  {
   "cell_type": "markdown",
   "metadata": {},
   "source": [
    "El modulo **SeqIO** nos permite facilmente leer y escribir archivos de formatos comunes en bioinformática. En la [Wiki](https://biopython.org/wiki/SeqIO) de Biopython se encuentra una breve introducción y los formatos soportados por este modulo. "
   ]
  },
  {
   "cell_type": "markdown",
   "metadata": {},
   "source": [
    "#### **Leyendo una sola entrada**"
   ]
  },
  {
   "cell_type": "markdown",
   "metadata": {},
   "source": [
    "la función `read()` recibe dos parámetros:\n",
    "\n",
    "- El path del archivo que se va a leer [String], (_e.g._ \"/home/usuario/Downloads/foo.fasta\")\n",
    "- El tipo de archivo que es [String]. Biopython no trata de adivinar el tipo de archivo, hay que decirselo (_e.g._ \"fasta\")\n",
    "\n",
    "También se le puede pasar un parámetro opcional: `alphabet` especifíca el alfabeto que se le va  asignar a la secuencia. Esto es útil con formatos de los cuales no se puede deducir el alfabeto que se debe utilizar (_e.g._ Fasta)"
   ]
  },
  {
   "cell_type": "markdown",
   "metadata": {},
   "source": [
    "Como queremos ver la complejidad que es capaz de abarcar los **SeqRecord**, veremos un archivo de formato genbank, que es un formato que está cargado de muchos metadatos adicionales a la secuencia en sí.  "
   ]
  },
  {
   "cell_type": "code",
   "execution_count": 59,
   "metadata": {},
   "outputs": [],
   "source": [
    "from Bio import SeqIO"
   ]
  },
  {
   "cell_type": "code",
   "execution_count": 60,
   "metadata": {},
   "outputs": [],
   "source": [
    "record = SeqIO.read(\"SI_marker.gb\", \"genbank\")"
   ]
  },
  {
   "cell_type": "markdown",
   "metadata": {},
   "source": [
    "Veamos qué cargamos:"
   ]
  },
  {
   "cell_type": "code",
   "execution_count": 61,
   "metadata": {},
   "outputs": [
    {
     "data": {
      "text/plain": [
       "SeqRecord(seq=Seq('TACACACCGCCCGTCGCTCCTACCGATTGAATGGTCCGGTGAAGTGTTCGGATC...GAG', IUPACAmbiguousDNA()), id='KP794444.1', name='KP794444', description='Plukenetia volubilis isolate WCM_10 18S ribosomal RNA gene, partial sequence; internal transcribed spacer 1, 5.8S ribosomal RNA gene, and internal transcribed spacer 2, complete sequence; and 26S ribosomal RNA gene, partial sequence', dbxrefs=[])"
      ]
     },
     "execution_count": 61,
     "metadata": {},
     "output_type": "execute_result"
    }
   ],
   "source": [
    "record"
   ]
  },
  {
   "cell_type": "markdown",
   "metadata": {},
   "source": [
    "Cuanta maraña...\n",
    "\n",
    "Veamos los atributos que dijimos tenian los **SeqRecords**"
   ]
  },
  {
   "cell_type": "markdown",
   "metadata": {},
   "source": [
    "El id (`.id`)"
   ]
  },
  {
   "cell_type": "code",
   "execution_count": 62,
   "metadata": {},
   "outputs": [
    {
     "data": {
      "text/plain": [
       "'KP794444.1'"
      ]
     },
     "execution_count": 62,
     "metadata": {},
     "output_type": "execute_result"
    }
   ],
   "source": [
    "record.id"
   ]
  },
  {
   "cell_type": "markdown",
   "metadata": {},
   "source": [
    "La secuencia (`.seq`)"
   ]
  },
  {
   "cell_type": "code",
   "execution_count": 63,
   "metadata": {},
   "outputs": [
    {
     "data": {
      "text/plain": [
       "Seq('TACACACCGCCCGTCGCTCCTACCGATTGAATGGTCCGGTGAAGTGTTCGGATC...GAG', IUPACAmbiguousDNA())"
      ]
     },
     "execution_count": 63,
     "metadata": {},
     "output_type": "execute_result"
    }
   ],
   "source": [
    "record.seq"
   ]
  },
  {
   "cell_type": "markdown",
   "metadata": {},
   "source": [
    "El nombre (`.name`)"
   ]
  },
  {
   "cell_type": "code",
   "execution_count": 64,
   "metadata": {},
   "outputs": [
    {
     "data": {
      "text/plain": [
       "'KP794444'"
      ]
     },
     "execution_count": 64,
     "metadata": {},
     "output_type": "execute_result"
    }
   ],
   "source": [
    "record.name"
   ]
  },
  {
   "cell_type": "markdown",
   "metadata": {},
   "source": [
    "La descripcion (`.description`)"
   ]
  },
  {
   "cell_type": "code",
   "execution_count": 65,
   "metadata": {},
   "outputs": [
    {
     "data": {
      "text/plain": [
       "'Plukenetia volubilis isolate WCM_10 18S ribosomal RNA gene, partial sequence; internal transcribed spacer 1, 5.8S ribosomal RNA gene, and internal transcribed spacer 2, complete sequence; and 26S ribosomal RNA gene, partial sequence'"
      ]
     },
     "execution_count": 65,
     "metadata": {},
     "output_type": "execute_result"
    }
   ],
   "source": [
    "record.description"
   ]
  },
  {
   "cell_type": "markdown",
   "metadata": {},
   "source": [
    "Las bases de datos asociadas (`.dbxrefs`)"
   ]
  },
  {
   "cell_type": "code",
   "execution_count": 66,
   "metadata": {},
   "outputs": [
    {
     "data": {
      "text/plain": [
       "[]"
      ]
     },
     "execution_count": 66,
     "metadata": {},
     "output_type": "execute_result"
    }
   ],
   "source": [
    "record.dbxrefs"
   ]
  },
  {
   "cell_type": "markdown",
   "metadata": {},
   "source": [
    "Las características (`.features`)"
   ]
  },
  {
   "cell_type": "code",
   "execution_count": 67,
   "metadata": {},
   "outputs": [
    {
     "data": {
      "text/plain": [
       "[SeqFeature(FeatureLocation(ExactPosition(0), ExactPosition(864), strand=1), type='source'),\n",
       " SeqFeature(FeatureLocation(BeforePosition(0), ExactPosition(173), strand=1), type='rRNA'),\n",
       " SeqFeature(FeatureLocation(ExactPosition(173), ExactPosition(419), strand=1), type='misc_RNA'),\n",
       " SeqFeature(FeatureLocation(ExactPosition(419), ExactPosition(581), strand=1), type='rRNA'),\n",
       " SeqFeature(FeatureLocation(ExactPosition(581), ExactPosition(810), strand=1), type='misc_RNA'),\n",
       " SeqFeature(FeatureLocation(ExactPosition(810), AfterPosition(864), strand=1), type='rRNA')]"
      ]
     },
     "execution_count": 67,
     "metadata": {},
     "output_type": "execute_result"
    }
   ],
   "source": [
    "record.features"
   ]
  },
  {
   "cell_type": "markdown",
   "metadata": {},
   "source": [
    "Las anotaciones (`.annotations`)"
   ]
  },
  {
   "cell_type": "code",
   "execution_count": 68,
   "metadata": {},
   "outputs": [
    {
     "data": {
      "text/plain": [
       "{'molecule_type': 'DNA',\n",
       " 'topology': 'linear',\n",
       " 'data_file_division': 'PLN',\n",
       " 'date': '03-AUG-2016',\n",
       " 'accessions': ['KP794444'],\n",
       " 'sequence_version': 1,\n",
       " 'keywords': [''],\n",
       " 'source': 'Plukenetia volubilis',\n",
       " 'organism': 'Plukenetia volubilis',\n",
       " 'taxonomy': ['Eukaryota',\n",
       "  'Viridiplantae',\n",
       "  'Streptophyta',\n",
       "  'Embryophyta',\n",
       "  'Tracheophyta',\n",
       "  'Spermatophyta',\n",
       "  'Magnoliophyta',\n",
       "  'eudicotyledons',\n",
       "  'Gunneridae',\n",
       "  'Pentapetalae',\n",
       "  'rosids',\n",
       "  'fabids',\n",
       "  'Malpighiales',\n",
       "  'Euphorbiaceae',\n",
       "  'Acalyphoideae',\n",
       "  'Plukenetieae',\n",
       "  'Plukenetia'],\n",
       " 'references': [Reference(title='Molecular phylogeny and pollen evolution of Euphorbiaceae tribe Plukenetieae', ...),\n",
       "  Reference(title='Direct Submission', ...)],\n",
       " 'structured_comment': OrderedDict([('Assembly-Data',\n",
       "               OrderedDict([('Assembly Method', 'Geneious v. 8.0.2'),\n",
       "                            ('Sequencing Technology',\n",
       "                             'Sanger dideoxy sequencing')]))])}"
      ]
     },
     "execution_count": 68,
     "metadata": {},
     "output_type": "execute_result"
    }
   ],
   "source": [
    "record.annotations"
   ]
  },
  {
   "cell_type": "markdown",
   "metadata": {},
   "source": [
    "Y las anotaciones por letra (`.letter_annotations`)"
   ]
  },
  {
   "cell_type": "code",
   "execution_count": 69,
   "metadata": {},
   "outputs": [
    {
     "data": {
      "text/plain": [
       "{}"
      ]
     },
     "execution_count": 69,
     "metadata": {},
     "output_type": "execute_result"
    }
   ],
   "source": [
    "record.letter_annotations"
   ]
  },
  {
   "cell_type": "markdown",
   "metadata": {},
   "source": [
    "Claramente podemos ver que hay campos con más información que otros, e incluso hay unos vacios. Según el tipo de formato que carguemos, Biopython cargará la información del archivo en los diferentes atributos."
   ]
  },
  {
   "cell_type": "markdown",
   "metadata": {},
   "source": [
    "También podemos visulizar de una manera mucho más sencilla el genbank file con `print()`"
   ]
  },
  {
   "cell_type": "code",
   "execution_count": 70,
   "metadata": {},
   "outputs": [
    {
     "name": "stdout",
     "output_type": "stream",
     "text": [
      "ID: KP794444.1\n",
      "Name: KP794444\n",
      "Description: Plukenetia volubilis isolate WCM_10 18S ribosomal RNA gene, partial sequence; internal transcribed spacer 1, 5.8S ribosomal RNA gene, and internal transcribed spacer 2, complete sequence; and 26S ribosomal RNA gene, partial sequence\n",
      "Number of features: 6\n",
      "/molecule_type=DNA\n",
      "/topology=linear\n",
      "/data_file_division=PLN\n",
      "/date=03-AUG-2016\n",
      "/accessions=['KP794444']\n",
      "/sequence_version=1\n",
      "/keywords=['']\n",
      "/source=Plukenetia volubilis\n",
      "/organism=Plukenetia volubilis\n",
      "/taxonomy=['Eukaryota', 'Viridiplantae', 'Streptophyta', 'Embryophyta', 'Tracheophyta', 'Spermatophyta', 'Magnoliophyta', 'eudicotyledons', 'Gunneridae', 'Pentapetalae', 'rosids', 'fabids', 'Malpighiales', 'Euphorbiaceae', 'Acalyphoideae', 'Plukenetieae', 'Plukenetia']\n",
      "/references=[Reference(title='Molecular phylogeny and pollen evolution of Euphorbiaceae tribe Plukenetieae', ...), Reference(title='Direct Submission', ...)]\n",
      "/structured_comment=OrderedDict([('Assembly-Data', OrderedDict([('Assembly Method', 'Geneious v. 8.0.2'), ('Sequencing Technology', 'Sanger dideoxy sequencing')]))])\n",
      "Seq('TACACACCGCCCGTCGCTCCTACCGATTGAATGGTCCGGTGAAGTGTTCGGATC...GAG', IUPACAmbiguousDNA())\n"
     ]
    }
   ],
   "source": [
    "print(record)"
   ]
  },
  {
   "cell_type": "markdown",
   "metadata": {},
   "source": [
    "#### **Extrayendo marcadores (_Features_)**"
   ]
  },
  {
   "cell_type": "markdown",
   "metadata": {},
   "source": [
    "Volviendo a la descripción del Genbank anterior: "
   ]
  },
  {
   "cell_type": "code",
   "execution_count": 71,
   "metadata": {},
   "outputs": [
    {
     "data": {
      "text/plain": [
       "'Plukenetia volubilis isolate WCM_10 18S ribosomal RNA gene, partial sequence; internal transcribed spacer 1, 5.8S ribosomal RNA gene, and internal transcribed spacer 2, complete sequence; and 26S ribosomal RNA gene, partial sequence'"
      ]
     },
     "execution_count": 71,
     "metadata": {},
     "output_type": "execute_result"
    }
   ],
   "source": [
    "record.description"
   ]
  },
  {
   "cell_type": "markdown",
   "metadata": {},
   "source": [
    "Podemos ver que la secuencia está compuesta por múltiples *loci*, algunos parciales (típico de una PCR). La localización de cada uno de estos *loci* se encuentra dentro de las `.features` del **SeqRecord**:"
   ]
  },
  {
   "cell_type": "code",
   "execution_count": 72,
   "metadata": {},
   "outputs": [
    {
     "data": {
      "text/plain": [
       "[SeqFeature(FeatureLocation(ExactPosition(0), ExactPosition(864), strand=1), type='source'),\n",
       " SeqFeature(FeatureLocation(BeforePosition(0), ExactPosition(173), strand=1), type='rRNA'),\n",
       " SeqFeature(FeatureLocation(ExactPosition(173), ExactPosition(419), strand=1), type='misc_RNA'),\n",
       " SeqFeature(FeatureLocation(ExactPosition(419), ExactPosition(581), strand=1), type='rRNA'),\n",
       " SeqFeature(FeatureLocation(ExactPosition(581), ExactPosition(810), strand=1), type='misc_RNA'),\n",
       " SeqFeature(FeatureLocation(ExactPosition(810), AfterPosition(864), strand=1), type='rRNA')]"
      ]
     },
     "execution_count": 72,
     "metadata": {},
     "output_type": "execute_result"
    }
   ],
   "source": [
    "record.features"
   ]
  },
  {
   "cell_type": "markdown",
   "metadata": {},
   "source": [
    "¿Y qué son esos? Veamos:"
   ]
  },
  {
   "cell_type": "code",
   "execution_count": 73,
   "metadata": {},
   "outputs": [
    {
     "name": "stdout",
     "output_type": "stream",
     "text": [
      "18S ribosomal RNA\n",
      "internal transcribed spacer 1\n",
      "5.8S ribosomal RNA\n",
      "internal transcribed spacer 2\n",
      "26S ribosomal RNA\n"
     ]
    }
   ],
   "source": [
    "for ft in record.features[1:]:\n",
    "    print(ft.qualifiers[\"product\"][0])"
   ]
  },
  {
   "cell_type": "markdown",
   "metadata": {},
   "source": [
    "Podemos extraer cualquiera de estos *loci* con el método `.extract()` y pasandole el **SeqRecord** padre. Supongamos que queremos el 5.8s: "
   ]
  },
  {
   "cell_type": "code",
   "execution_count": 74,
   "metadata": {},
   "outputs": [
    {
     "name": "stdout",
     "output_type": "stream",
     "text": [
      "ID: KP794444.1\n",
      "Name: KP794444\n",
      "Description: Plukenetia volubilis isolate WCM_10 18S ribosomal RNA gene, partial sequence; internal transcribed spacer 1, 5.8S ribosomal RNA gene, and internal transcribed spacer 2, complete sequence; and 26S ribosomal RNA gene, partial sequence\n",
      "Number of features: 1\n",
      "Seq('AACGACTCTCGGCAACGGATATCTTGGCTCTCGCATCGATGAAGAACGCAGCAA...CGC', IUPACAmbiguousDNA())\n",
      "\n",
      "\n",
      "El 5.8S mide 162 bp\n",
      "La secuencia completa mide 864 bp\n"
     ]
    }
   ],
   "source": [
    "rna_58s = record.features[3].extract(record)\n",
    "print(rna_58s)\n",
    "print(\"\\n\")\n",
    "print(\"El 5.8S mide %i bp\" % len(rna_58s))\n",
    "print(\"La secuencia completa mide %i bp\" % len(record))"
   ]
  },
  {
   "cell_type": "markdown",
   "metadata": {},
   "source": [
    "La función devuelve un **SeqRecord** como el padre pero con la secuencia solamente del *locus* que le pedimos"
   ]
  },
  {
   "cell_type": "markdown",
   "metadata": {},
   "source": [
    "***\n",
    "\n",
    "#### **Leyendo varias entradas**"
   ]
  },
  {
   "cell_type": "markdown",
   "metadata": {},
   "source": [
    "Ya vimos como leer un sólo archivo y como acceder a la información que contiene. Sin embargo, pocas veces tendremos un sólo archivo que analizar para nuestros proyectos. En la mayoría de ocasiones tendremos muchos archivos o incluso unos cuantos con varias entradas de información.\n",
    "\n",
    "En el ejemplo anterior, el archivo fue cargado en memoria directamente, lo cual no fue un problema ya que sólo pesa unos cuantos kbytes. ¿Pero qué pasaría si en un proyecto más grande, de genómica por ejemplo, donde un archivo no tenga una sino millones de entradas (algo bastante común) se hiciera lo mismo?\n",
    "\n",
    "**Alerta de Spoiler:** Vaya comprando otro computador...\n",
    "\n",
    "Para evitar estas situaciones, Biopython utiliza un *parser* (no existe una buena traducción para el término, sorry!), que lee los archivos con múltiples entradas una por una, en lugar de cargar todo al mismo tiempo.\n",
    "\n",
    "La función `parse()` funciona de una manera muy similar a la función `read()`, la diferencia es que `parse()` retorna un _iterable_ . Un iterable es un objeto que se usa en los ciclos (_e.g_ for, while, etc.) para ser recorridos. En este caso, en cada ciclo este iterable va a retornar un **SeqRecord** por cada entrada que tenga el archivo que estamos leyendo.\n",
    "\n",
    "Un ejemplo lo hará todo más claro: "
   ]
  },
  {
   "cell_type": "code",
   "execution_count": 75,
   "metadata": {},
   "outputs": [],
   "source": [
    "handle = SeqIO.parse(\"reads.fastq\", \"fastq\")"
   ]
  },
  {
   "cell_type": "markdown",
   "metadata": {},
   "source": [
    "¿Qué tipo de variable es 'handle'?"
   ]
  },
  {
   "cell_type": "code",
   "execution_count": 76,
   "metadata": {},
   "outputs": [
    {
     "data": {
      "text/plain": [
       "generator"
      ]
     },
     "execution_count": 76,
     "metadata": {},
     "output_type": "execute_result"
    }
   ],
   "source": [
    "type(handle)"
   ]
  },
  {
   "cell_type": "markdown",
   "metadata": {},
   "source": [
    "Creemos una lista para guardar cada entrada y leer el archivo"
   ]
  },
  {
   "cell_type": "code",
   "execution_count": 77,
   "metadata": {},
   "outputs": [],
   "source": [
    "reads = []\n",
    "for read in handle:\n",
    "    reads.append(read)"
   ]
  },
  {
   "cell_type": "markdown",
   "metadata": {},
   "source": [
    "¿Qué tan grande es nuestro archivo?"
   ]
  },
  {
   "cell_type": "code",
   "execution_count": 78,
   "metadata": {},
   "outputs": [
    {
     "data": {
      "text/plain": [
       "1000"
      ]
     },
     "execution_count": 78,
     "metadata": {},
     "output_type": "execute_result"
    }
   ],
   "source": [
    "len(reads)"
   ]
  },
  {
   "cell_type": "markdown",
   "metadata": {},
   "source": [
    "¿Y qué tenemos?"
   ]
  },
  {
   "cell_type": "code",
   "execution_count": 79,
   "metadata": {},
   "outputs": [
    {
     "data": {
      "text/plain": [
       "Bio.SeqRecord.SeqRecord"
      ]
     },
     "execution_count": 79,
     "metadata": {},
     "output_type": "execute_result"
    }
   ],
   "source": [
    "type(reads[0])"
   ]
  },
  {
   "cell_type": "code",
   "execution_count": 80,
   "metadata": {},
   "outputs": [
    {
     "data": {
      "text/plain": [
       "SeqRecord(seq=Seq('CTGGTTTGCACTCGGGACAATTAGCGCCTCTTTCCTGTGGTTCTTTGGTCTGGC...CAC', SingleLetterAlphabet()), id='SN7001201:1895:HGY57BCX2:1:1116:11049:67781', name='SN7001201:1895:HGY57BCX2:1:1116:11049:67781', description='SN7001201:1895:HGY57BCX2:1:1116:11049:67781', dbxrefs=[])"
      ]
     },
     "execution_count": 80,
     "metadata": {},
     "output_type": "execute_result"
    }
   ],
   "source": [
    "reads[0]"
   ]
  },
  {
   "cell_type": "code",
   "execution_count": 81,
   "metadata": {},
   "outputs": [
    {
     "data": {
      "text/plain": [
       "101"
      ]
     },
     "execution_count": 81,
     "metadata": {},
     "output_type": "execute_result"
    }
   ],
   "source": [
    "len(reads[0].letter_annotations[\"phred_quality\"])"
   ]
  },
  {
   "cell_type": "markdown",
   "metadata": {},
   "source": [
    "Básicamente, tenemos una lista de 1000 elementos, donde cada uno es un **SeqRecord**, es decir una secuencia con su información asociada (en este caso calidad)"
   ]
  },
  {
   "cell_type": "markdown",
   "metadata": {},
   "source": [
    "**Nota:** Vease que el alfabeto de las secuencias que acabamos de cargar es 'SingleLetterAlphabet' lo cual no es lo más apropiado siendo estas secuencias de ADN. Para cambiar esto, como ya lo mencionamos, podriamos pasar un alfabeto a `parse()`."
   ]
  },
  {
   "cell_type": "code",
   "execution_count": 82,
   "metadata": {},
   "outputs": [],
   "source": [
    "handle = SeqIO.parse(\"reads.fastq\", \"fastq\", alphabet=IUPAC.unambiguous_dna)"
   ]
  },
  {
   "cell_type": "code",
   "execution_count": 83,
   "metadata": {},
   "outputs": [],
   "source": [
    "reads2 = []\n",
    "for read in handle:\n",
    "    reads2.append(read)"
   ]
  },
  {
   "cell_type": "code",
   "execution_count": 84,
   "metadata": {},
   "outputs": [
    {
     "data": {
      "text/plain": [
       "Seq('CTGGTTTGCACTCGGGACAATTAGCGCCTCTTTCCTGTGGTTCTTTGGTCTGGC...CAC', IUPACUnambiguousDNA())"
      ]
     },
     "execution_count": 84,
     "metadata": {},
     "output_type": "execute_result"
    }
   ],
   "source": [
    "reads2[0].seq"
   ]
  },
  {
   "cell_type": "markdown",
   "metadata": {},
   "source": [
    "#### **Escritura de archivos**"
   ]
  },
  {
   "cell_type": "markdown",
   "metadata": {},
   "source": [
    "Para escribir archivos, el modulo **SeqIO** cuenta con la función `write()`. Ésta recibe tres argumentos:\n",
    "\n",
    "- Uno (o varios **SeqRecord**), _i.e_ puede ser una lista, diccionario, set etc. de **SeqRecord's** \n",
    "- El path (o nombre) donde se va a guardar el archivo [string] (_e.g._ \"/home/usuario/documentos/foo.fasta\")\n",
    "- El tipo de archivo que se va a escribir [string] (_e.g._ \"fasta\")\n",
    "\n",
    "**Nota:** Si se le dice a `write()` que escriba un archivo que ya existe, ésta sobreecribirá el archivo antiguo sin ninguna clase de advertencia. "
   ]
  },
  {
   "cell_type": "markdown",
   "metadata": {},
   "source": [
    "Escribamos en un archivo fasta la secuencia complementaría del archivo genbank que tenemos"
   ]
  },
  {
   "cell_type": "code",
   "execution_count": 85,
   "metadata": {},
   "outputs": [
    {
     "data": {
      "text/plain": [
       "1"
      ]
     },
     "execution_count": 85,
     "metadata": {},
     "output_type": "execute_result"
    }
   ],
   "source": [
    "record_rna = record\n",
    "record_rna.seq = record.seq.transcribe()\n",
    "SeqIO.write(record_rna, \"rna.fasta\", \"fasta\")"
   ]
  },
  {
   "cell_type": "markdown",
   "metadata": {},
   "source": [
    "#### **Conversión de formatos**"
   ]
  },
  {
   "cell_type": "markdown",
   "metadata": {},
   "source": [
    "Sí nos ponemos a pensarlo, la flexibilidad de las funciones `read()` y `write()` nos permite usando ambas, leer un archivo de un formato y escribirlo en otro. Es decir convertir el formato.\n",
    "\n",
    "Como esta tarea es muy común, y para ahorrar codigo y tiempo, Biopython ya cuenta con una función que acopla ambas funciones. `convert()` recibe 4 argumentos:\n",
    "\n",
    "- El path (o nombre) donde se va a leer el archivo [string] (_e.g._ \"/home/usuario/documentos/foo.fastq\")\n",
    "- El tipo de archivo que se va a leer [string] (_e.g._ \"fastq\")\n",
    "- El path (o nombre) donde se va a guardar el archivo [string] (_e.g._ \"/home/usuario/documentos/foo.fasta\")\n",
    "- El tipo de archivo que se va a escribir [string] (_e.g._ \"fasta\")\n",
    "\n",
    "**Nota:** Ya que la conversión de archivos pasa a través de la estructura **SeqRecord** y cada tipo de archivo llena campos diferentes, hay una lógica detrás de las conversiones que se pueden hacer. Por ejemplo, un archivo fastQ puede convertirse a un archivo fasta, pero lo opuesto no es posible, ya que faltaría información (la calidad asociada a la secuencia)."
   ]
  },
  {
   "cell_type": "code",
   "execution_count": 86,
   "metadata": {},
   "outputs": [
    {
     "data": {
      "text/plain": [
       "1000"
      ]
     },
     "execution_count": 86,
     "metadata": {},
     "output_type": "execute_result"
    }
   ],
   "source": [
    "SeqIO.convert(\"reads.fastq\", \"fastq\", \"reads.fasta\", \"fasta\")"
   ]
  },
  {
   "cell_type": "markdown",
   "metadata": {},
   "source": [
    "## **Ejercicios**"
   ]
  },
  {
   "cell_type": "markdown",
   "metadata": {},
   "source": [
    "Con el archivo 'SI_marker.gb', obtener un archivo de formato fasta con la misma secuencia."
   ]
  },
  {
   "cell_type": "code",
   "execution_count": 87,
   "metadata": {},
   "outputs": [
    {
     "data": {
      "text/plain": [
       "1"
      ]
     },
     "execution_count": 87,
     "metadata": {},
     "output_type": "execute_result"
    }
   ],
   "source": [
    "from Bio import SeqIO\n",
    "aux = SeqIO.read(\"SI_marker.gb\",\"gb\")\n",
    "SeqIO.write(aux, \"SI_marker.fasta\",\"fasta\")\n",
    "\n",
    "#otra forma de hacer eso es con SeqIO. convert (\"SI_marker.gb\",\"gb\",\"SI_marker3.fasta\",\"fasta\")"
   ]
  },
  {
   "cell_type": "markdown",
   "metadata": {},
   "source": [
    "Escribir un archivo fasta que contenga los mRNA's asociados a las secuencias del archivo 'reads.fastq'"
   ]
  },
  {
   "cell_type": "code",
   "execution_count": 97,
   "metadata": {},
   "outputs": [
    {
     "name": "stdout",
     "output_type": "stream",
     "text": [
      "secuencia RNA  CUGGUUUGCACUCGGGACAAUUAGCGCCUCUUUCCUGUGGUUCUUUGGUCUGGCUCUUCUCGCAGCCUGGCUGGCACCGCCUCUGCGCACGGCAAAAGCAC\n",
      "secuencia RNA  AUCAGCAGCCGUUACAUUGGUAACAUCAAGCUGUUUGCUUCUCACUCCACCAUCGAACUGCCGAAAGGUAUGCCGGGUGAAGUGCUGCAACACUUUACGCG\n",
      "secuencia RNA  AUUCUGAAAGAUGAGCUGAUUCUGGCGUACUCCACUGCCAGCUCUGAAAGCGUGCUGCCGCGAAUUAUUGAGAAGAUGGAAGCCUACGGAGCACCGGUGUC\n",
      "secuencia RNA  AGGAAUGCACAACGUAGCAUGGAAUGCCUUGUUCUGGUGUAACCACGAUCAGCCGCGCAUUGUUUCUCGCUUUGGUGAUGAAGGUGAAUACCGCGUGCCUG\n",
      "secuencia RNA  UGACCAGGCGUUAUGGGAUAUCAAAGGUAAAGUGCUGAAUGCGCCGGUCUGGCAACUGAUGGGCGGCCUGGUUCGCGACAAAAUUAAAGCCUACAGUUGGG\n",
      "secuencia RNA  GUAAGCAUUAAAAACAAUGAAGCCCGCUGAAAAGCGGGCUGAGACUGAUGACAAACGCAACAUUGCCUGAUGCGCUACGCUUAUCAGGCCUACGCGUCCCC\n",
      "secuencia RNA  GUAGCCAUCACCACCGUAAGCCAGACCCAGCUUCAGCCAGUAGCUUCCGCCAGCGGUUCUGCGUCGGCAUGGAUCUGCACGGCAAGUUCACGCGUCGGUUC\n",
      "secuencia RNA  AACCCGUGUUCGUCUUUAUCCGCGACCGGUACGGCAAAAUCGAGUUUGAUUGGCCCGACCGGCGAUUCCCAGCGCACGCCGACCCCGGUACCGGUUUUAAA\n",
      "secuencia RNA  GCAGAAGGCACAGAUCGCGUAGUGAAAGCACUUGCAUUGCCUCAUAGCUCUUUUACCAUUAGUCAUUAAUACGCCGUUAAGCAACUCAGGACUCUAUUAUG\n",
      "secuencia RNA  UAUGGAACUCUACAGAGAAUAUCCUGCAUGGCUUAUCUUUUUACGCCGUACUUAUGCGGUUGCAGCGGGCGUUCUGGCGCUGCCUUUCAUGCUUUUCUGGA\n",
      "secuencia RNA  AUGAUGAAGGGAGCAACCCAAUCAAUGAUCAUAGCGUAAGGAUAGCGGUAUUAAGCGG\n",
      "secuencia RNA  AUAGCGAUGAGCGGCCCAACGAGUUUUUGCGGCCCGCUGGUACUUUGGCGAAUCGCAUCUUCCACAUCGCUACGGUAAUCAGCACGUUCGACAAUCACCUG\n",
      "secuencia RNA  AACGCUACGAUGUGCUGGUGGUCCAUGACCUGGCCUAUGCCGAUAUCGUCUACGAUGGCUGGAAAGCGCCGUCAAUUAUGCAGGUACCGGGUGCACGCGAU\n",
      "secuencia RNA  AAUAGGACUGUAACAACGGUAAGUCGUUCCCAACUCACUGCCUUCGCCUUCACCAAAGUUUUCAUGGAAAGCCAAGGUGACCGCCAUUUGC\n",
      "secuencia RNA  GCCUGGUGGCGUAUUCAUAUUUUUAGUUGUCAUCGUAUUUUAUAAACUCAAAUUACCGGCUGAGGCGCUUCGCCCAUUCCUGACUGGCGCGCUCCAACAUA\n",
      "secuencia RNA  GAUGAAUCUCUGGUUAAUGACCAGCCCGGAAUACCAUAUGAAACGCCUGCUGGUUGCCGGUUGUGGGCCGGUAUUCCAGCUGUGCCGCAGCUUCCGUAAUG\n",
      "secuencia RNA  GCGCUUGCGUUCCGGUAUUACCAUAGGCAACAACAUCAUAACCAUGAGUAUGGGCAUAAUCGCCCAACAGCGUUACCCGUGUCUUAUCCCCCAGUUGUUGC\n",
      "secuencia RNA  UGAUUAUUCCACCGUUAACCAGCCAGUAUCUCAACAUCGUCAAAAACUCCUCUCUUGCC\n",
      "secuencia RNA  UCCACGUGGAGAUUAGGUGAAAACACUGGAUCUUAACUCAACUCUACCGCUCUCAUUCUAAAUUUUUCCGUCGCUGCCCUUUGGUCCUGCUACCUUCUUUU\n",
      "secuencia RNA  GAUGGCUGCGGGUGGAUAUCCGGGUGAUUACCGCACCGGUGACGUGAUCCACGGCCUGCCGCUGGAAGAAGUGGCAGGCGGCAAAGUGUUCCACGCGGGCA\n",
      "secuencia RNA  AAUGGACCGCCGUUACCGAUAAUUUCGCAACGCGUACGAUCGGCUGAAAGCGUAUAGCUUACCCCUAACGCUGUUAAUGCAUUCAGCAUAUGACGCACGUC\n",
      "secuencia RNA  AUUGUGAUGUAGUUUCGGGGGAAGAUUGAAGAUUCCCCCGACGUUGGGAGAAGUUAUGCGCAAUCACAGAAUUUCUUUACAGGAUAUCGCUACGCUGGCUG\n",
      "secuencia RNA  CGUGCAGAUACCAGCAAACCGAAGCUGACUCAGCAGGAUGUGACCGAUCUGAUCGCCUAUCUGAACAAAGGUGGAUCGGUGCUGAUCAUGGAAAACGUGAU\n",
      "secuencia RNA  ACAAUUCAAUAUCUCACUGGAGCCAAUCGUUCUCUGGGCCAAGAGUUAGCGGAUCAUCUUUUUGAAACCAUCAAUCCUGCUGAAUUUGAGCAGGUAAAUAU\n",
      "secuencia RNA  CGUCUGGUUCCCGCCAGUGAGCAUUAAUCUCCUGCUUACUAUUUUGCUCGCGGUCGUUGCCGGUACAGUGGGAUGCAUGCUGCGUCUUCCUUCCGGCACGA\n",
      "secuencia RNA  AUGGAACAGCUUUUUGGUAAAAGCGUCGCCGAGCUGGUAGAGGG\n",
      "secuencia RNA  AUAGCUUCUGCCCAGCUGUAGCUGUCGCACACGCCAUUCAAUGGAAUAGCGGACAUCAGACGAGCGUUCACAUAGGCGCGGUGCAGUGCAUCACGCAUUGC\n",
      "secuencia RNA  GUGUAUGUUAUAAAAAUGUAGCAAUAAAGGCGUUUGUACCUGAAAAGAUGAAGAUUCUGCAUAGCGCGAUUUACGCAACAGGAAUAGACUGAACACCAGAC\n",
      "secuencia RNA  GAUUAACGUUCAUCCCACUCAUCAGCUGCUGCGCGUCCUUCCUCGGUAUCCAGCGGUGGCUCAAGCUGAAAUUCCCCCUCGUCCCAUUCAUGUAAUGUAUU\n",
      "secuencia RNA  GUUUUGCGUGCGUUAUUGCGCCAGGAUCCUGACGUCAUCAUGAUCGGAGAGAUCCGCGAUGGCGAAACAGCAGAGAUCGCUAUUAAAGCGGCGCAAACUGG\n",
      "secuencia RNA  CCCAACGUUAUCGCGCAGGGCAUGAAUUUGCCGAUUGGUAUUGGUGACGCACACAUCAUCCAUAUCGAUAAGCGUGAUUGCGCCAAUCCCCGUGCGCGCCA\n",
      "secuencia RNA  AAAUCUGAAAUUAUUUUGGCCGUGUCGCCGUAAAAAAGAUAAAGCCAAAUCUGUGCCAACUUUUAAAUUGCCCCUAAAAGGCGUUAUCAUGCGCACCAUCG\n",
      "secuencia RNA  GCGCAUCACUGGGAAACCUCUACUGACGGGUUACGCUGGGACUUUUAUCUUCGUUCAACCCUACACUGGCAUAACGGCGAUGCAGUAAAAGCCUCACACUU\n",
      "secuencia RNA  CGGCGAACUGGCCUGCGUUUGUGCAGCGGCAGGCGUUACGCCCUCAUGCGCAGCUUCAUUAUCUUUCACCACCGGGUUAUGGAUGGUGUGCGCUUCAUCGC\n",
      "secuencia RNA  UCAUGCUUAUUAUGAAUAGAGAAUUUGACAGCUGCCAAUCUUUUUUGA\n",
      "secuencia RNA  UUUUUCUUGCUUGUUCUGUUUAUCCUCGCCAAGCUUGCCGCUGAUCAUCGACAUCGCUAUUGUCACCACCAGGAUACCCCCGGCGAUACGGAACGAAUCAA\n",
      "secuencia RNA  CUUCCUGUGCCAGCGAUGCGGUACGAACCUGUCCUAACUGAACGGUUUGAUCAACAGAGCCUGCAUCAACUGCGCAAGCGGCGUUAACAACUUCCCCUUUA\n",
      "secuencia RNA  UGCAAUUAACGGAAAAAGGUCACGAGUUUUUGCGCGAGGUUUUACCACCGCAGCAUAACUGCCUGCAUCAACUCUGGUCCGCGCUCAGCACAACAGAAAAA\n",
      "secuencia RNA  AUCGUUUUCGCAUUCUUAAUCGCCGCUAUUCCCACGCCCACGUCGAUCGCCUGCAUCAGCAAAACGUGCAGAGCAUUGAAACCAGUUCGCUACAUUUAGGC\n",
      "secuencia RNA  ACGCCAUAAAGAUGUCGCGAAAAGUCGCCUGAAGAUGAGUAAUCCGUGGCAUCUACUUGCUGUCGGAUUCGGAAGUGGAUUAAGCCCGAUCGUUCCUGGGA\n",
      "secuencia RNA  GUCAGGAAGCGGAGGCCCUGCGCGAUGCACUGCGCGCGCAGAAUCUGAAUGUGCAUCUGAUUGGUCGGGCAACGAAGACCAAAAUCGAGCUGGAUCAGGAU\n",
      "secuencia RNA  CAGAAGAUUUGCCCGGUGUUGGUCACGUUAUCGACCUGCUAAGACCGUCUAUGCCCGGCGCACCGCCCAACCUGCGGGUGUUGAUUCGCCCGCCGCCGGU\n",
      "secuencia RNA  CGUUGGCGCACGCAGAUCGGCAACAAAAUCGGCAAUGGUCACAUCCGUCUCAUGCCCGACGGCGCUGACAACCGGAAUGCGGCUGGUAAAAAUCGCCCGCG\n",
      "secuencia RNA  CAAUGAUCAACUUUGCCAAAUGGCGCAGCCGAAUCGACGUCCCGCAGCAAACUCACGACACCUUAAAACAGCUGGCGAAGAAAUGGCCGCUGGUGGCGAUC\n",
      "secuencia RNA  GUUUUUUUUUGAAUUUUAUAAGAGCUAUAAAAAACGGUGCGAACGCUGUUUUCUUAAGCACUUUUCCGCACAACUUAUCUUCAUUCGUGCUGUGGACUGCA\n",
      "secuencia RNA  CGCUUCCAGCAAUUCCGACUCUUCAAUCAACGUACAAACCCAGUAUGCCUGACGACCUUCAGUUAUGCAGGCGUGGUGCACGCGGUCAAUGAUGUCGGUAC\n",
      "secuencia RNA  ACCUCCUCACUCACCAAUAAAGAGGUGGACUAUCUGUUUCUGAUCAUGAAUCAGUUGCGUAAAGAGGGUACGGCCAUCGUCUAUAUCUCGCAUAAGUUGGC\n",
      "secuencia RNA  AUAACCCGGAGCCAGCAUUUCCAUAUCGCGUUCAAAGACCAUUUUGCCGUCAACUUUGAAUUGCGGCAUUACGCGGUUAACGGAUUCGUCCAGCUUGGUCG\n",
      "secuencia RNA  CUUUGAGAUUAUCCGCGUACGGGAUCGACAUCAUGCCCGGAUCUUGUAAAUAGCGCAGCAGACGCUCAUUACCCCGGUUAAUGGCGUCUGUCGGCACGCUG\n",
      "secuencia RNA  GUGUUCAUCCACGGCAGCGGCCCAGGCGCCAGCGGUUUCAGCAACUUCAAGCACAACGUGCCCGCGUUCGCGUCGGCCGGCUAUCGCGCGAUCGUCGUCGA\n",
      "secuencia RNA  GCAAGGUUUGACUGUCAGCGAAAACAUGAGCGACGACGAAGUCGCGAUGCUGAUAUUUGCACCUGGCUUCUCCACGGCAGAGCAGGUCACCGACGUCUCCG\n",
      "secuencia RNA  GUAAAAGUUUUCAUUAAAAGCUUACCCAAUAAAUAGUUACACGUUGGUGAACACCCAAACGUCUUCAAUUGUUGAGGUUCACACGACAAAGUCCGGCAAAC\n",
      "secuencia RNA  UUCCCGCAAUAUGGUUUUGCCCAACACAAAGGGUACCCAACCGCUUUUCAUCUGGAAAAACUGGCUGAACACGGCGCGACCGAACACCAUCGGCGCAGCUU\n",
      "secuencia RNA  GAAUUCAUCGCCACCUUUAUUUUCCCACUGGACUAGUUUGCCCUUUUUGUCCCGUGCCAGAAGAUGAGGCUCAUUACAAUCAUUACAGAAUGCAACUUCGU\n",
      "secuencia RNA  CAUCAUACUUCAAUGAGAGGCAAUGACAUGAGCGACAACAUCCGUGUUGGGUUGAUUGGGUAUGGUUAUGCGAGCAAAACCUUCCAUGCGCCCCUGAUUGC\n",
      "secuencia RNA  CGCCGCAUCCCGGGCCGAGGUCGCAGCUUCUGAUGCCUUCGUGGUCGCGGUGGAUGCAGAUGUGGCUGCUGAUUGUAGUGACGCUGAAGCAUUCGUUUCUG\n",
      "secuencia RNA  UCCCUAUCAUCCAUGAACCGGUUGCCAGAUGCAGCAACGCGCCGGUGAAGGUCAUAUGCCAGAUAUUCCAGAUAUCAACAUUUACCACCCGCGUCAUACGG\n",
      "secuencia RNA  CUGGCCAUGGAAUGACAUGACACAAUGCUUUAGCGCUCCGCCUGCCGCCGCCAUAGUUGACCGCAACUGUUUCUCCGUCUCGCUCUACAGUGCCCCAAAGC\n",
      "secuencia RNA  GCAGAACGUAUUCGCAGUCGGGUGGAGAAAACCAAACUGAAAGCCGCAAACGGCGAAGAUAUUGCCCUCUCACUUUCCAUCGGUGCCGCCAUGUUUAAUGC\n",
      "secuencia RNA  UGGUCUACCGGAAGCGUUGAUGAAUCGCUUUGUCGGUCUGGUGUCCUUUACCGCGAUGUUCGGUUCCCUGCUGAUGUGGACCGCAACGCCGGUGAAAAUUU\n",
      "secuencia RNA  AGUUACUGUUUUCCCGUCUACAUACCUAAGGGAAUAACAUGUAUCACGACGUCAGCUAUCUGCUCUCCCGCCUGAUCAACGGCCCGCUGUCCCUGCGCCAG\n",
      "secuencia RNA  GAAUUACCUCGUCUGGGGGGUAAUUUGCUACCCGAGCAAUAUUUACUGGUUUUGGUGAGGUAAGCGGUCGCAUUGAGUCGUGAAAGGUGGUUACCAGCGCC\n",
      "secuencia RNA  GCUAUGUGUUUGUCCAGCGUUGGGAACACAACCUGAAGCAGCUCAACCGGAUGAGCGUUCACGAUCAGGAGAUGGUGAUCGGGCGCACAAAAGAGGCUAAC\n",
      "secuencia RNA  AUCCCAAUAAUUAAGUUAUUGGGAUUUGUCUGGUGAAUUAUUUGUCGCUAUCUUUCCCCGCCAGCAGUUUAUCCAGCUCAUCGCCACCGACGUGACGGAAA\n",
      "secuencia RNA  ACGUAUCAAGUUGAUGGCCCCGUUAUUAAAAGCCUGGAAAGGUGCGCUGAAGGCAGAAAACGCUGUCGAUUUUUCGGGCCUUAUUCAUCAGGCGAUUGUGA\n",
      "secuencia RNA  GCCCGGCCAGCGGAUGGUUGAAAUCAACGGUAAUGGAGUCGCCGUUAAUUUCGCGGAUCACGCCAGGCAUCUCACUGCCAUCCAUUGCGGUAAAAAGCAUG\n",
      "secuencia RNA  GAAGGGUUGGAGCCACCAGGAAGUCUUCCCUUGGUUAUGUGUAGCCAAAAUUCCCCCAAACAUCCCUGCCUAAUCGAACUGUUGAGAAUACGGUUCCAUUU\n",
      "secuencia RNA  GUUAGCCUGGAAGUGCUUGUCCCAACCUUGUUUCUGAGCAUGAACGCCCGCAAGCCAACAUGUUAGUUGAAGCAUCAGGGCGAUUAGCAGCAUGAUAUCAA\n",
      "secuencia RNA  CUGUGAUGAAAGAACAGUUAGGUCUAGGCGUGGAUGAUGCGAAACAUGGCUUUACCGUGGAUGAGUUAGCGCUGGUGAUGGCGGCGGAUGAUACGCACCCG\n",
      "secuencia RNA  GAGAAAGGUUUUAAAUAAUGCAUCAUGCGGCGUGCUGGUCGUGAAGUUUGUCAUGGCGAUCCAUCACCUGUUGAAAAAGAUGGCCUGACUUUAGCGACUAA\n",
      "secuencia RNA  CAUCGUACCGAGUUCUGCCAACAACAGUUGCCAGCUAUGCCAGCCAAACAUCGCCUGGCCGAACCCGGCGGCAAUUUGUAGUGCGGCAGGCAAACCCACGG\n",
      "secuencia RNA  AAUCAAACCGACCACCAUUUUGCAUGUUGCGGCAAAAGCCGAUGUGGAACAGGGGCUGGAAGCGGCGCUCGAGCUGGCGUUAGCGCAAUGGCAGUAUCAUG\n",
      "secuencia RNA  CGCUGCUGAUUAUUGACGCUAAUCUCGGUCAGGCACGCGCCUAUAUGGCGAAGACCCUGCUGGGCGCGGCGGCGCGAAAAGCAAAACUGGAAAUCAUCGAC\n",
      "secuencia RNA  AUUUACUUAGCGGAUCGUUUAACUUCACGUUCCCCUGGUCGAGCAAUUUCACCAGCAUCUCACUGGUCAUUAGCUUGGUGAGGGAAGCAAUACGCACGACC\n",
      "secuencia RNA  CGUACCGCCGCGCUGGGGCGUCGUGAAACUAAGGGCUAUGAAGAGAUGGUGAACAACGGACGUACCGCGUUCGUGACUGCGCCGUUAUUAACGUCGCUGGA\n",
      "secuencia RNA  ACCCGCGUCGCGCAGAAAAUCUCGCAGAUUUCCGGCGUCGGCCUGGUGACGCUUUCCGGCGGUCAGCGUCCGGCUGUUCGCGUCAAACUUAACGCUCAGGC\n",
      "secuencia RNA  GCAGACGUUCUCGCAAAAGCGCAUCUGCUGAGUAAGCUUGAGGCCUGUGACGCCAGCGAGAAAAUGCUUGAUGAGUGGGAUCUGCGUCAUCAGGCGUUUCA\n",
      "secuencia RNA  CUACUGUCACCAGGGUGAAAACAAUACUGUAGCGUAGCUUUCCGUCCAUCAAUGAAUGCAGCGCAAUCCCCACCACUACCGCGACGGGCAUCAGCGCCAGA\n",
      "secuencia RNA  AUGUUGGCUACUUUGCAGCGAAAAUAAUCAAGAAGCGCCAAUAUGCGAUGUCAGUAGAAGUACUGGAACAGAUGCAACUGGCUCCGGCCAGUGAGGAAGGC\n",
      "secuencia RNA  GAUAACCUUGAAGGGUUUAUUGCCUACUUUUUUGAUCUCUGACAGGGAAUUGAUUUUUAUCAUUUCGUGAUUAUCUUUCAACUGCCAAAAGCCCUGUAAAA\n",
      "secuencia RNA  UAUUACGCGGACGCGUUUCUGAGGCUGCGGCACCUAAACCAUCCACUGAUUGUUUAUAUGUUUUAAAGGUUCCAUAAUCCG\n",
      "secuencia RNA  GCCUGCUGUAACACUUGCGCGACUUGCGCCUGGGUCACACCCGAUUUCAGGCGGCAGGUAAUGGUUUCGAGAAUGCCGCGCGGGAAAUUGCCCAGAUGUGG\n",
      "secuencia RNA  CUGGUACUGAACAUGUUCAGCACCUUUAUCGUGCUGUCGCUGAUCAAUCCUUACCGUGUUGAUGCCAGUGAAGAAAACAUCCAGAUGUCCAACCUGCACGA\n",
      "secuencia RNA  CUGCUGCAAGCGCGUGCCGAGCCGGAUUUAAUCAUUCAGGCGUUCAAUGAGUACCAGCUUUUGUGCGCCCUGCGGGAAGGGCCGUUUGGCGUGGCUGGACU\n",
      "secuencia RNA  CGAACUGGAGUCAGAGCCGGUUUCGUUGACGAACGGUGCGGCGUCGUGCAGGUCAGGGAUAAGCGGUGUCUGGAAUUUAUAAGUACGCGCACGCGCCCAUU\n",
      "secuencia RNA  ACGGAUAAAUCAUUGCCCCCACCAAUGUGACUGAUAAAAUGCCAGACAGCACAACAUCAAUUUAUCAGGAUACGUUAUGAAACCGACCACCAUCUCCUUAC\n",
      "secuencia RNA  GAUGCUGGCAGUCGCGACCCGGGAAGGGUUUGAUGUCAGUAAAUUUAUUUGGGUACAGCAGCCUGGUAGUUAGUGAGUGCUGAGUUUCAGACCAAUAAUCC\n",
      "secuencia RNA  CACUGCUGGCCGAUGGCCUGAAAGGCGUGAAGCGUAUCUCCCUCGACGAAGCGAUGGCAUCCGGUCAUGUGAAAGAGCAGGAUCUGGUGCAGCCGUUCGUG\n",
      "secuencia RNA  ACGAAUACAGCCUUGAUCACUACCAGCAUCGUUUUUAUCUGCGUUCCAACCGCCACGGCAAAAACUUUGGCUUAUACCGUACCCGUAUGCGUGAUGAGCAA\n",
      "secuencia RNA  UGACGAACGUGGCUGGCUGACAGACAUCAGCCAUAUCAGCGAAGGGCACCGGGUGGCGGUGCAUUACAGGUAUGAUGAGAAAGGCCGGCUGACCGGUGAGC\n",
      "secuencia RNA  GCUGCGGUCGCUGAACUACCGCGUUUACGUCUGCGCGGGUUGAUUGCAAUCCCUGCGCCUGAGUCAGAAUAUGUAAGGCAGGUUGAUGUUGCACGCCA\n",
      "secuencia RNA  AAAGCCUGAGCUCUAGUUAACCAAAAAUUUCCACAAGAUGCUUGCGAUAUUCUUCAGUAUAGCGGGGAACAUCAGGCAUUUUUAUCACGUCAUUAGCGAUA\n",
      "secuencia RNA  CAGUCGAUGCAGCGAAUUGCAGGCACUAACGUCUGGCAGUGGACGACACAACUCAAUGCCAACUGGCGCGGCAGCUACUGCUUUAUUCCCACCGAACGCGA\n",
      "secuencia RNA  GAUGGCGUUGUGGCACAAGUUGGUUCGGCCUUCACAAAACCAACGGGCAAACGGCGGAUUGCUGUGAUCGAGCGUUUGCGUAAAGGGCGUCUGCCAGUCAA\n",
      "secuencia RNA  UCCGGGGUAUCGUGCAGAGAUCACGCCGCUUGGCAGUAACAAAGUGCUGAAAGGGACUGUUGAUAGUGUUGCCGCAGGGGUCACCAACGCCAGCAGCACGC\n",
      "secuencia RNA  GGAAGACCAAACAACAUUGGUGGCUCUCGCCGUCCACGCGCCGCGGAAGUCGUUGUGCGUGUCAUGAGCACGAUCACUGGCCUCGGUGGUGGGGUGAACAA\n",
      "secuencia RNA  AGCUCAAUCACAACCUAACAGGGCCACAUGGGAUGAAACUGUAGAUAAUUUCAGUUCAAUUAUAUCUGACAUAAGCUCAGCUACAAGCAACUACCAUGAAA\n",
      "secuencia RNA  AACGCCGCCGCUAAAACUAAUUAUCGCGAGGGUUAUCCAACGGCGAUAUGAGUUGUGUUGCAUAUCGUAUUCCCAUUUGUAAUAGACAAAAAAAAGAGAAA\n",
      "secuencia RNA  CGGUAAACCCGGCCUGAUAUAUCACCUUCCAGAAGCGAUUUGCCGGAUGAGCAAAGGGAAAACCAGUCCCGGCGGAUGAAAGCCCAGGGUUGAUACCGCAA\n",
      "secuencia RNA  GUAUAAAACUUUCUUUAAGGCUUAGAGUCAAGCAUCAAAAAGCGGUCAAAUUAUACGGUGCGCCCCCGUGAUUUCAAACAAUAAGUAGCCAAAAGGUGAAU\n",
      "secuencia RNA  UUCGCUGACUUCAGCAACAAUCGCUUGUUUGUCUUGAAGAUUUAAAGCCAUUAGCUUUGCUCCUGGAUGUUUGCCAGAGAAAAUCUCUGGAACUCACUUCA\n",
      "secuencia RNA  GCACGUCCGCAAAACCUGGUGCUGCUGAGUCAGGAUUUUCCGGCGCUGAAGGUGAUUAAGCUUGAGCAGAACUAUCGCUCUUCCGGGCGUAUUCUGAAAGC\n",
      "secuencia RNA  GCCACAUGGCGACCCACGUCUUCAUGCCCGCCGACCAGUUCGCCAGAUGGCAACAUCCAGGCAGCGGCGUGAGUACAACCAGUCAGUUGCCCCACUGGCUG\n",
      "secuencia RNA  GAUUUCUCUGAUAGACCAGGAUUAUGACUACGAAAAGAUUGAUGACUUGAAUGUUAUGGUUAUGUUUAAUGUUAGCACAUUUACAUAACUUUCAGCUUCCA\n",
      "secuencia RNA  UAUGUUGCAGUACUCGCACUUUUCCCACUAACUGCGCGCUGUUCCAGGUUUUGUAGCUAAACUGAUCUUUAUCAAGCACCAACUCGCCCCGAUCGGUAAUG\n",
      "secuencia RNA  GGUUUAUCCCUACUUAAGUAGGGAAGGUGCACAAUGUACAUCUUCUUUUAAUUUCCCGGUAUGAGAUUUUAUAUUCACAGUAUGAAUAUUUUAUGUAAUAA\n",
      "secuencia RNA  ACUCUUUAAUGCAGUAUUAAAGAUUAAUCGGUAACAAAGUGAGCUGUUAUGACUGAUAAAACCAUUGCGUUUUCGCUACUCGAUCUGGCCCCCAUUCCCGA\n",
      "secuencia RNA  GGUGCCCAUUCUGGCGGUGUGGUUUUUUUGCAUGGGGGCGUCAAUAAAAUUAAGCGCGACGGGAACGGUACUGCGUAAAUCCGGUACGCUGGUGGUAACUA\n",
      "secuencia RNA  AGUUCCUGAUGGAUAAUCCCAAUCCCGGCUUCCUGGGAAGAUUUUGGCCCGGUAAAUGUCGUUUCUUUCCCCAGCCAUAAAAGCGUACCGGCAUCGCGAGU\n",
      "secuencia RNA  CUGGCGGGGCGUGAAGCGGCAAUCGUAACCGAUAUCGCCGGAACUACGCGUGACGUGCUGCGUGAGCAUAUCCACAUUGACGGAAUGCCGCUGCAUAUCAU\n",
      "secuencia RNA  AUCAAGAUCCAGCUGAAUCAGCGCCUGUUGCCAGGCCCCCACCAGAUCCGUUUCAUCAAUCGGGAUCGCCACCGGCAAAUUGCGCAGCGGCAGUUGUACGC\n",
      "secuencia RNA  CGUGAAAUCAAUAAGCUCAUCAGGGACAUCGCAAACAAUAUGAAGACGGGUUUCUUCUCUGCCGUGACUCUUUUCACUAAUUGCGUAACUGUCAUGCUUGG\n",
      "secuencia RNA  GAAAUUGCCAAAACGCUGAUGCUCGAUGCCAAAGUCAUCAUCAUGGAUGAACCCACCUCCUCACUCACCAAUAAAGAGGUGGACUAUCUGUUUCUGAUCAU\n",
      "secuencia RNA  ACCGGACGCGCCGGGCGUGAUGGCCUGCCCGCGGAAGCGAUGCUGUUUUACGAUCCGGCUGAUAUGGCGUGGCUGCGCCGUUGUCUGGAAGAGAAGCCGCA\n",
      "secuencia RNA  GCUAUUUACUAUGCUCGAAUUGCUUUACACCGCCCUUCUCUACCUUAUUCAGCCGCUGAUCUGGAUACGGCUCUGGGUGCGCGGACGUAAGGCUCCGGCCU\n",
      "secuencia RNA  AUUUUUAUUCAGGAUCGCAUUUACAUCUGAUACAACCCAAUAAUUCGUGUAUCAGAGUUUAAACAGAGUUGUUUGCCACCAUCUCAAAUCUGUCGUGGAUA\n",
      "secuencia RNA  GCCCGGGUGCCGAUUUUAUGGCGGAACGGCGUCGCUGCCAGUAAUUCCACACCAAUGUUGUCGGUCGCCAUAUAAGUAAACGUAAGGCCCAGUUGCGUGUU\n",
      "secuencia RNA  UAGAUUAUGCAACGGCGCGCCAGUUAACUGUUGCCAUUCGCGGCAUAAAUCAGCCGGUAAGGCCUCACCACUACAGAAAACCUGUUUCAACGUCGCGCAAC\n",
      "secuencia RNA  GACCGGCGAGAUGAAAGAACAGACUGAAUGGCACCGCGUUGUGCUGUUCGGCAAACUGGCAGAAGUGGCGAGCGAAUAUCUGCGUAAAGGUUCUCAGGUUU\n",
      "secuencia RNA  AUAUUGUUUUUACGGCAGAUGUUAUCGAUCAGGCGACGCUUGAACGCGUCAGUGAAUUGCAAAUUCCGGUGAAUGCGGGUUCUGUUGAUAUGCUCGACCAA\n",
      "secuencia RNA  CGUCAACAUUCAUGGUUUUAUCCCACAACAACCCGUUACGGUUUUGCUGGGUGAUACCGUUCCAGGUGAGACUUUUCUCACUGUACAUAUGAUAAAACUCG\n",
      "secuencia RNA  AUUACACUGCGCCCAUGUGUUGUAUGUAAAAACAAACAAAGAUACAAUGACACAGUUCCUAAACAAUAUUUUUUUACAUAUUACCAUGAACUCUGCAGACA\n",
      "secuencia RNA  GAUUAGUCUGGUUGAGCAGUAGCGUCGCCAGCAAUUUUUUCUGUGCGGGGGUAAAACCGGGAAGAUCCAGAUUACGCACCAGAUAAGCAGCGUGUUGCGGC\n",
      "secuencia RNA  CUAUUACUGAUAAGAGUAUUGUAACGUGGCAGAACAUUUUACUGUCUGUAUAUAUAAGUUAUAUCAAUGGAUUUUUUAAUUCAGGGAAUUUUUAUGGCUCA\n",
      "secuencia RNA  ACCUACGUCAAAGUGCGGAAGUACACCUUUUGUCCGCCGGGGCAUAUGGGCGGCACCGCAUAUCACAACAGUCCGGUUGGCGGUCUGUUUUAUGAUUUUUU\n",
      "secuencia RNA  ACAGCAGGCCAUGGAGCUUUUUGGCUAUGCGGAAGCGACUGUCCGUCGUGAUUUCCAGUAUAUUGUCAACCAGUAUCCAGGCAUGAUCCGCGGUCACGGUU\n",
      "secuencia RNA  UUGAUGACAAUUACAUCUGGGUUGUGAAUGAUGCAGCAGGUCGCUGCCUGAUUGUCGAUCCCGUAGACGCAGAGCCAGUAUUAAACGCCAUUGCCGCCAAU\n",
      "secuencia RNA  UUUUGCAGCAGGUUUUUCAGCGCUAACUCCAUAUUGAUGGAGGUAAACAGCGCAAUGUAGAGCAGUGCGAUUGCGCUAUAAAAAAUCAGACAUAAGCCGAU\n",
      "secuencia RNA  AUCAAGGAUCUGGCAACCUUCAGGGCGGGCUGGAUUGUCCUGUUAUUGCUGCUUGUCGGUUUCUUCUUUCUGGAGCCGCAGGGAAUCCUGGUCAGUGCGAU\n",
      "secuencia RNA  UUGCUAUUGCCGGAAUGGGGGCAUUACUGGCGGCAUCUAUUCGCGCGCCGUUAACGGGGAUCAUUCUGGUUCUGGAGAUGACCGAUAACUACCAGCUCAUU\n",
      "secuencia RNA  GAAGCAGGUGAUAGCAAUCGGCAGGCCCAUGCCGGUUAACGCUUCGCCCAGUGCCGGACCUACGCCAGAGUCAACCAGCACCUGUUUGAACACGCCGCCC\n",
      "secuencia RNA  UUUUUUCAGCGGGGAAAACUGGUUGUUCUGUACAUAACGGGAAGGUUUAAUAAUGGCAUUGCCGAGCUGUAAUUCGGGUAACGCCUGAGUCACAUUCUGCC\n",
      "secuencia RNA  CCGUUACACCAUAAUUCACUUUGCUGGUGUCGAUGUUGGACCAUGCCCACGGGCCGUUGAUGGUCAUCGCUGUUUCGCCUUUAUUAAAGGCAGCUUCUGCG\n",
      "secuencia RNA  GGAAACGGCUGGCGUGUAGCACUUCAAAAUUCAACAAAGAGAGCCAGUCCAGCUGCCGCAUCAGAGUAAACAUCCGGCUGUUAUAGGGCGAGGUUUUGCGC\n",
      "secuencia RNA  UAUUUACCAGUAUUUAAUUUCCGACGCGCUUUAUAACACGUCAUACGAAACGAAAAAUCCCUUUGCGCAAUAAUUAUUGAGAAAGGACUUUCUUAUGAUUA\n",
      "secuencia RNA  AUAGCCGCCUUUACGCAAAGCAGCGAGAACUUCUGCGACGACAGAACGCGAUAUGCGUGUACGUUGAUGGAUAUAAUUCAUCACACCAAUACGUGAUCGCA\n",
      "secuencia RNA  CAGUUGCUGUUUACUUUGUUGGCAACCGCAUUGAUCGUCCCCUAUUUCAAACGCUCGUCGCGGGUAAAAGCGACGUUUGUGAAUCCGUAAUAACCUUACAG\n",
      "secuencia RNA  GAAAUUUCAGCUGGCAAUGCGGACCUGUCAUCUCGCACCGAAGAACAAGCGGCGGCUAUCGAACAAACUGCCGCCAGCAUGGAGCAACUCACUGCGACGGU\n",
      "secuencia RNA  CUAUACAGAUCGCAUAGUUAACAUUUCGUUAAAAGAUCCUUUGCUUUUUAUGAUUCGCGAUUUAACUAUUAGCAACAGAAAUGUGAAACAUCUGGAGAGUA\n",
      "secuencia RNA  GGCGGCCACCUGCCCCUGCCUGGCCUUGCUUUCCAGAAUAUCG\n",
      "secuencia RNA  GCGGAAUAUUGAGCGCGUUAGCCAGCGCCUUCCAGCGGUCACCGACGCUGAUACCGCCAGCGUCAUGCACUUCUUUCGGGUCAGCCCAAAUCGCUUUUACC\n",
      "secuencia RNA  AAGAUAUAUUCGCAGCGUUUCGCCCGGCACUUGCGAUAUCAAUGGUAGUGCCAGCGUACUCAAACGUGCGCGCCCGUCAGGGGUACUCAGAUCAACUUGCG\n",
      "secuencia RNA  CAGAUGGCGUGGCUAAAACGCCGGAAUGGGCCUCGCAAAUCACUGGUGUUCCGGCAGACAAAAUCAUCAAAUUGGCUCGUGAAAUCGGUAGUACCAAACCG\n",
      "secuencia RNA  UUGAGGGUGCAUGCUGCACAAAAUUAAAGUUAAAAAGUAAAACCCCCGUUCCUUACCAGUUCGGGGGUUUUACUUUUUAAAGAGAACGGUAUUAUUUUUAA\n",
      "secuencia RNA  GACCGCGUGGAUAUUGUGGUAGAAGCGGUUGUUGAAAACCCGAAAGUGAAAAAAGCCGUACUGGCAGAAACCGAACAAAAAGUACGCCAGGAUACCGUGCU\n",
      "secuencia RNA  UGGCGACGCUUGCGAGCAGAUUCAAACGCGAUGCGGGCGAUACGUUCGAUCUCAAAACGGUGAUACACCUCGGUAUCAAAGGCUUUUUCAUAUUGUCCGCU\n",
      "secuencia RNA  CAUCAUUUGCCAGCCAGGGAAACCUGCUGGGGCCGAUUCUAUUUUUCGCCGUUUACCUGCUUAUCUUUUUCCUGCGCGUCGGCUGGACCCACGUCGGUUAU\n",
      "secuencia RNA  UGCCGCUCAGGUUGACCGACUACGUGAAGAAUUUGGUGUCUAUCUCAUCGCCAGCGGUCGCAUGUGUGUCGCCGGGUUAAAUACGGCAAAUGUACAACGUG\n",
      "secuencia RNA  GGCGCACCAGUUACAAUCAAACCGUCAAAGUUCUGAUCCUGAAUAUCUUCAAAGUUACAGUAGAAGUUGUUCAGAUGCUCUGCGGGCGUGUUGCGCGAUUC\n",
      "secuencia RNA  AGACGUUAGCGGCGGCAAUCAGCUGGUUUAGUUCCUGCCAGUUGGAGCGGAUAAACCCGCCGCGCCCACGCACUUGUUUGUAGCUCAGGCACUUUUGCGGA\n",
      "secuencia RNA  CCGGUUAACGCCGCGCCCGCUAAUGCGACCCAUGCACCUGGGGCUUGCCAGAGCAGCAACAAGCCCACCGUUUCUACAAGCAGAGAGACAAUCGCCACUUU\n",
      "secuencia RNA  UUUCUCACCCAUUCCAGCACGCCGGAUGCCAGCCAUUGCAUACCUGGGUUAUACAACCCUGCCUGGCUAUCCAGUUCGCAGGUGGAACCGGCGUACUGACU\n",
      "secuencia RNA  ACGCUGGCCAACCUGUUUCGGGCGGACCACAUGAUACGUCAGUGGGGGCGAUCUCACUACAAACUGGGGAUAACGCCUUAAAUGGCGAGGAAACGGUCUAA\n",
      "secuencia RNA  AGCGCGAUUUUAAUGGCCGCCACGUUGGGAUUUUUUGGCCUUGGUGCUCAACAACCGAGUGCUGAAUGGGGCGCGAUGGUAGCAAAUGGUCGCAACUAUGU\n",
      "secuencia RNA  CAUUAACACCCGCCAUAUCUUGCGCGGUUAACUCAUUGAUUUUUUCUAAAUUCAUCGCAAAAGCCGGGCUUUUCGCCCCGAUUACCUUACUGUGAACAAAG\n",
      "secuencia RNA  CACGUUUUUCCAGAAGCAAGAGAUUGGGUAUCAAGAGGCUGGCUGCUAUGAUAAGGCGUCUUGUUUUUUAAGCGAGGAAAGAUUUUGAGUGCGGGACGCCU\n",
      "secuencia RNA  ACUGAGUAAACUUUACGGUUUUUGUACACAAGCCAAACACCACCUGGACGCCAGGUGCGGGCUGCAAGUAUCGCGAUUUCCAGAUGGUGUUCCACCGGG\n",
      "secuencia RNA  GCGUGUUGCGGGAAAAGUGAUCUUCGAAACGCAAUCGACCCACAAAAUGCUGGCGGCGUUAUCGCAGGCUUCGCUGAUCCACAUUAAAGGCGAGUAUGACG\n",
      "secuencia RNA  GUCAACCGCGAUCGGGUGAACUCGAUUGCUGAAAUGCGUAAAGUGCUGGCGGCAAAACCGGCCAUCAUCGCCCUGCAAAUUGUACGCGGCAAUGAAAGCAU\n",
      "secuencia RNA  CGUUGUCAGCUGAUCGACCUCGGAGAAUGGGCUGCUGAAGAAAAACGAAUCCCCAGCAGUGGCGAUCUUUCCGAAAGCGAUGACUGGAGCGAAGAACCAAA\n",
      "secuencia RNA  CUUACGCGCUGAUUAUUGGCGGCGCGCUGGGCAACCUGUUCGACCGCCUGUGGCACGGCUUCGUUGUCGAUAUGAUCGACUUCUACGUCGGCGACUGGCAC\n",
      "secuencia RNA  UGGCAAACCCAGGACUGGGUGGCGCUGGGUGGAUGUGCCGCUGGGGCAUUGAUUAUCGGCGCUGGCGUAGGUUCUGUGGUAACAGAGUGGCGGCGCUUAUG\n",
      "secuencia RNA  CACGAUAUUUAACUGGCGACCAUACUGGCGAAACAAUCGCUGAAACAGAUGCCCCGCCAGCGCCCAGCACACAUUGCCAAACGUCCCAAUCAUCGCCAGCA\n",
      "secuencia RNA  AGCCAACAUGUUAGUUGAAGCAUCAGGGCGAUUAGCAGCAUGAUAUCAAAACGCUCUGAGCUGCUCGUUCGGCUAUGGCGUAGGCCUAGUCCGUAGGCAGG\n",
      "secuencia RNA  CCAUCAAUACCUAAGCGUAGUGUGUUCAUAUCACCACCACUGGCGGUAUGACCGCUAAAAAUAACCUGGAUGGCGUCGAUAAAACCAGGGAUGUUGACCGC\n",
      "secuencia RNA  CCGCUUCGGCAAAAUGCGACAUCAGGGUCAUUUCGCCAACAUUCGCCAUUGCCCGCAACUGCUGCCAGACGGUAAGCACGCGAUCGGGCUGGAAGCCCAAC\n",
      "secuencia RNA  UCUACCAGAGCUUUAACCGUUUCUUUUUCAAUGAUAUCAACCGGUUUUGGCGAGGCAACAACACGGCGAUAGCCGCGACCAGCAUCUUCUUUCAGAGUGUA\n",
      "secuencia RNA  GCAGGAUUCCAGCGACGCCAUCUCAAUGGUGUUGUCCUGCUUGGUCACGCCGAUGCGUUUGCAGAACUCACGAAUAGAAGCCGCAGUGUAACCACGACGAC\n",
      "secuencia RNA  CUUCAUCACUAGAUCAUAUUUCUUCUGAGCAACACAGGUCUUCCUCAUUAAAGCCAUUCCACAACUGCUCCCCUUCAUCAGCUCCGUCUGUGGGAAUCUAA\n",
      "secuencia RNA  AAGUAUUAAUGGCGCUACUCGCUUGUCAAACACUGUGCGCCACAGGGUCGGUAACUGAAGCGA\n",
      "secuencia RNA  CGAAACCACUCCGGCAGGCGUGGCAGCCAUCAAUUAUAUGGUUGAAACGGUAGAGAAAACGCCACAGCUGAAGGGCAAGCUGACCAUCAGUCACGCCUUUG\n",
      "secuencia RNA  UGAUACCCACCUGCAUGAAGUCCACCUCAACACCCUGUUUUUCAAUCAUUUCCUUUGUUUCGCCGUUAUCUUUGACGAAACUAGGAAUAAAGAUAUUUGCG\n",
      "secuencia RNA  GUUCGUAAAUUCCAGUACGGCCAACACACCGUGACUCUGGAAACCGGCAUGAUGGCUCGUCAGGCUACUGCCGCUGUUAUGGUUAGCAUGGAUGACAACGC\n",
      "secuencia RNA  GUUUUUGCAGAUCCGGCCACAUUUUCAGAUGCAACUGCAAGGUGACAUCUGCAUCUUCGGCGGCGUAACGUCCGGCUUCUUCGAGGGCAAUCUGGUUAAAG\n",
      "secuencia RNA  AUCGUCCGCGCUUUCGUGGACGACCCUGACGCCGGGUAAACCAAAUACGCUGAAUUUUUACGCCCGGCUAAUGGCGACACAGGUGCCUGUCACUGCGGGGC\n",
      "secuencia RNA  ACUCUUUAUAAAGCCGCGCCAUCGCCUGACGGAAAUCAACCGCUUCGUCAAUCACUUCCUGUGUCAGUGACAGGCAGCUGUUGCCGUCCAUCAUCGACACC\n",
      "secuencia RNA  CGCGCCGCUAAAAGCGAUGGUGCCGCUACGUUUGGUGGCGGCGCGGGCGAUUUUUACCGCGUUUUCCACCGCUUCGGAACCGGUCGUAACCAGCAGCGUUU\n",
      "secuencia RNA  AUUGGCUAUAACGUUGUUAAAGUUAAAGCGGUGCUGGGCGAAAACGCGCCCGUCGAUAGCUGGGACUUGAUCCUCAAACCUGAAAAUCUGGAAAAACUGAA\n",
      "secuencia RNA  GUAAAAUUGCUGACCAGCCAGGGGCCAGGUACAGCUAUCGACUUUGGUCUGAAAAUUAUCGACCUGUUGGUUGGGCGUGAAAAAGCCCAUGAAGUGGCAUC\n",
      "secuencia RNA  AGCUGAUUGAAGCCGGCUUCGAAACCGGUCAUGCCUAUGCGAAAGCACUGCGUAUGGCGAAAACCUGCGUGGGUAGCACCUGGUGCCGCUACGGCGUUGGC\n",
      "secuencia RNA  CGAUCAUCUGGUGAAGCUGAAAACCAGCCCGCAGGCACGAAAAAAGUGGCCGGGACUGGGAAAUGAAGUGACUGCCCGCCUGCUGACCGUGACGCGCAAAG\n",
      "secuencia RNA  ACUGGCAGCGCAAUCACCGAAUCAGGUCACCGGGGUACGCCCGAACGGCCUGGAAGAUACGCCGAUGUUCAAAGUGAACGUCAACGCUGCGAAAGCUGAAG\n",
      "secuencia RNA  GACCAUAAACCAGGGCACUAAAGGAAGAGAAAAGGGUGAUUGAAUCCGCUUCAGACAUACCCAGUUGUUUAACCAGGUAAACAGCCAUAAUUCCUUGUAGG\n",
      "secuencia RNA  AGUUAAGCAGGAAAACAGUCGAAACUCAUAGACUCAAUAUCAUGAAGAAAUUAGAUGUUCACAGUGGUAUCGAGUUGAUCAAAACAGCUUUACGUAUGGGU\n",
      "secuencia RNA  GUGUGAGCAAUGGUGAACUUACCGGUGGACGUUAUGCCGUGGCCCGCCACGUUGGCGAGCUGGACGAUAUUUCACACACGGUAUGGGGCAUCAUUCGCCAC\n",
      "secuencia RNA  AGACCGCUUUGUCGAUCAGAUCUCCGGCGGGCAGCAGCAGCGCGUGGCGCUGGCCCGCGCGCUGAUCCUCAAGCCGAAAGUGCUGCUGUUUGAUGAGCCGU\n",
      "secuencia RNA  GGAUUCACAUACAACAUCACCACGCCGCCGAGCAGACAGAUACACGAGAACGUCAGCCCUUUCGCGGGUACUGCGCGCUUAGAAAGUUUAGCGAACGCUUU\n",
      "secuencia RNA  GGCACAAUAUGGACGAUAUUCUGCAAAACGUGCCGAACCAUAAUAUUAAAGUGAUUGUGGUGACUGACGGUGAACGCAUUCUGGGGCUUGGUGACCAGGGC\n",
      "secuencia RNA  CGCUGUUUUUCACCAGCCAGGUCCAGCCAGAACCAAAGUUUUUGAUCGCUGCAUCAGUAAACUGCGCUUUGAAAUCGGCAAAGCUGACAAAAGAUGCGGC\n",
      "secuencia RNA  AUUGUUGGUGCUGACGGUCAAACCCAUCAGGGUGCUUUUGAUCUCUCUUACCUGCGCUGCAUACCGGAAAUGGUCAUUAUGACCCCGAGCGAUGAAAACGA\n",
      "secuencia RNA  AUUCACACCAGUGGAACACCUUGCUAAGUUUGCAUAACGCGCAAUUUUAUUUGCUACAACGCACGCCAGAGGUUGCCCGCAGCCGCGCCACCCCGUUAUUA\n",
      "secuencia RNA  UUAUCGAACUCUUUUGUCUGGAAUUUACCAAUACUACCUACCUUGCCAUAGUUGACAGCUAAACUAUCCCCUUCGUAAUCUAUCCACCAAAAUUUAUUCGA\n",
      "secuencia RNA  AUAUUCUCGCCCUCGGUGAAGACUACAAAAUGGAAAUUAAUGAGUCGCGCACCGUCCUGAAAACGGAAGACAACAGCUACUCGUUUGACGUUUUUAUUGAU\n",
      "secuencia RNA  CUUCUCGCUGAUCACCUCAUCCAGUGCUGCCAGCAGACGCUGACGCGGGGCGAGACGGUCAACGGUGAUAUCUUUCAUACCAUCCGGGAUCCAGAUGUUCA\n",
      "secuencia RNA  UGGCCGCCUACGCAUUAAUCGCUAUGUCACUGUGCCUGAUCUCAGCCUUCGCUGGCGGUCAUGUGGGCUUAAUAGCCCUGACUUUAUGCAGCGCCUUUAUG\n",
      "secuencia RNA  UUUCGAUCUGGCUAACGUUCGCGCCAAUCGCCGCCUGGGUGAAUGGGCUGUCGCCUGGGGUGUGCGUAACUUUAUUCAUAUCUCUUCCCCCUCCCUGUACU\n",
      "secuencia RNA  UAAGCCGCUGCUCGCGCACCUGCCUGCAGUACAAAACAAGCCGGUUUAUGCGCUGGGAACCGAGACGUUCCGUCUGGAUUACUACAGCGCCAUGCAAGUGC\n",
      "secuencia RNA  AUUAUGGUGCUGACCAAAAGUGCGUCCGAUACGCUGUAUCAAUACUUUGGUCAACAUGGGGAUAAAGUGCUGCAGCCGAUGGUGCAAAAGCUGGAUAAGCA\n",
      "secuencia RNA  AAGAAGCUACCCGUAAGUCGAUGGGGCAGAUUCAGGGCGCUCUGGUCGGUAUCGCGAUGGUACUGUCGGCGGUAUUCGUACCGAUGGCCUUCUUUGGCGGU\n",
      "secuencia RNA  UUAAAAACAGCGAUCAAUAAAAAGGUGUAACGCCAGCUAAAUUCCUGACUUAAAUACGUUCCCAGCGGAAUGCCCAGCAAAUUGGCGACUGUCAUCCCGGA\n",
      "secuencia RNA  GCCGAUUCUGGAAUGCGGGCGCUCCAGAAAUGGCAACCAGAGCUUACAUGGUUCCAACAAAAUAUGGGCAGGUGGAAACACGUCUCUUUUGUCCGCAGCCA\n",
      "secuencia RNA  CCACCGAACUGGUUGAUUUAGCCGUAAUCUUCCCUGAUCUGGAGAUCGAAUUGAAAUACGCCUGCGCUGAUAACAUCACAGGUAAAGCUAUUUAUCAGCAA\n",
      "secuencia RNA  GGUGGCAGGAAGCGGUUGAGCUGCAACUGCUUCGGAGCCUGGGCUUCAACCACAUAAAUCAGUUCCACCAACAGCGUACCUACCGGCAACGCUUUGUUUUU\n",
      "secuencia RNA  CACGAUGGGCUUAUGCAAACUUUCCUGUGUUUUCAGAACCGCUAAUUUCUCUUCGGGAAUGGUUAAUUUAAGCGUUUCCGUAACGAAUUUAUCGCCAUCGA\n",
      "secuencia RNA  CGUAGCUACGUUUACCUCGACGAAAGUAAAGAGAUCUACAAACGCCUGAUUGUCAGCGAAGACAACUAAACCCUGCUCGGUGCGGUACUGGUGGGCGAUAC\n",
      "secuencia RNA  UUCCGCUUCGCCUGCUUGUUGCCGCACCAUUUGUGUUACUGACUGCGGCAGACAUGAGUAUUAGCCUCUAUUCAUGGUGUACCUUUGGUACAACUUUCAAU\n",
      "secuencia RNA  UAACCGAUGCCGAUCUUUCACAAUCUCUACUUUAUAAAGUCGCUAUUUUCGCCGUACUGGUGGCGAUUGCGUCUGGUGGUGAACGAUUACUGUUUAAGAUU\n",
      "secuencia RNA  AAGCAGAAGCCUGCGAUGUCGGUUUUCGCGAGGUGCGGAUUGAAAAUGGUCUGCUGCUGCUGAACGGCAAGCCGUUGCUGAUUCGAGGCGUUAACCGUCAC\n",
      "secuencia RNA  AGAAAUCGAUCGUGCCGGAAAAAAGCAAAGUUACCCCGCUGAUAAAUAAAUCAGGUAGAUUGCUUUUUUCAGAAUGCAGAAACCCUUACCAGUCAGGUGGC\n",
      "secuencia RNA  AUGGAUUCAUCAAAUGAAUAUAAAAAAAUCAGCACCCUUAUGCGCAAGGGCGAAAAUGAAAUUAACCAAUGGGCUGACCGUCAUUCUGUUGAGCGCGCUAC\n",
      "secuencia RNA  UCACACAUCAAUUGUUUUUUUAAGUAUAUUAAACAAAUACAGAUUACAAUUUUUAUUCUCACCUCAUCAAAAAACAAAUUUCAACUUUUCAAAAGAAGAAA\n",
      "secuencia RNA  UCCCAUGCCGGGAGUUUCUCCCAACCUACAAUAUGCGGAUACUGAUCCCACAAUACCGGCACGUUAAAGCGCCACUCCCCGUAAACAAAAGAUUUCAGCAG\n",
      "secuencia RNA  AGGCGGCAAAAUGGUUCACGAAGUGAGUUUUGACGGCUUCACGACUCAAUCUGCGCCGUGGAAACUGGAAGCUGGCACGCCAAAUGUCGCUGGUGUCAUAG\n",
      "secuencia RNA  GAACGCAUUGGGCACGGUCGGCGAGUAGCCGAUCCGCACCACGCCCUGCUCGCCGCCGCGGAUCGCGCGCAUCUCCUGCAGCGCGUCAUCGAACUCGAGC\n",
      "secuencia RNA  AAAAAGAGGUAAGAUGCGUACUACUUACUCGCCGUUAUUGGUAUUAUUCAGAAAAAGUGAGUAAGACUUUGCAGCAAUGUUUUUGAUCCUGUUCAAAUAAA\n",
      "secuencia RNA  GAACGAGCAGCUCAGAGCGUUUUGAUAUCAUGCUGCUAAUCUCCCUGAUGCUUCAACUAACAUGUUGGCUUGCGGGCGUUCAUGCUCAGAAACAAGGUUG\n",
      "secuencia RNA  ACCAACGCACACAUGCGAUAAAGCAUACCGUGGUACGUUAAAGUUAAGCGAAAACGAAUACGCCCAUCAUUCAGUGACAGGUUGCUCAUAAAAUGGUUUCG\n",
      "secuencia RNA  CGGCACGCCCAGCCCUGCACAGGCGGCGAGAAAGAUUUCCGGGUCCGGUUUCGAGUUUUUAAGUUGGGAAGCAUCCGCGCAGAAGGUGAAAAACUCGCGCA\n",
      "secuencia RNA  AUCUGCGCCGGGGUUUUGCCGUAUUUAUCUGCCAGAUCGCGAAUGACUUUCUGAUCGAAAACGCCUUUCCCUCCUUGCGCUAAUGGGCUCCAGGAUUCGGU\n",
      "secuencia RNA  UGAUUUUCUAUUUCAUGAUCCUGCGUCCACAGCAGAAGCGCACCAAAGAACACAAAAAGCUGAUGGACUCCAUUGCCAAAGGUGAUGAAGUUCUGACGAAC\n",
      "secuencia RNA  GAUGAAUAUGUUAGCACUUGGCGAGAUCUCGGCGCGGCAACUGGGUUUACCCCUGUGGUUCUGGCGCAAUGUGCUGGUGGCAGCGACCGGCUGGAUGGUUG\n",
      "secuencia RNA  GGUCAUGGGCGCGUAUUGGUUUGCCCCCUGUGCAACGUGGUGCGCCAGCCGCUCCUGUAAAUAGCGCGGACCAUCAAAAUCAGGGAAGCCUUGCGACCGG\n",
      "secuencia RNA  AUGAGCACAUGGGUCGGCUCCAGCCAGUUAUCUGGCAUCUGUACUGCCAGCACGCCCUGCGGAUUAAGUAAAGAAACCAGAUGAGGAAACAAUUCGUAGUG\n",
      "secuencia RNA  CGGCAGCGGUUACCUGGCAGGCAUGAAACUCGGCGACACACCGCUGGUGGAGUACACCCGCGACCGCCUGCACCGGGAAACGCUGCGCAGCUUCGGCCGUU\n",
      "secuencia RNA  CGAGGAAAGGUGAAAGCAGUGGGAAGGAGCAGAUGAGCGCCAGCAUGACCAGACCCAGUGGAUGGCUCGCCAGCGGAGCAAGACCGUGGGCAAUCCAGUCA\n",
      "secuencia RNA  UUGCUCCUGUAAUGCCUUACCUGCGCAAAGUGUUUCUGGUGCUCGAUGCGCUCGGACUGGUGGUCUUUUCUAUCAUCGGGGCACAGGUUGCACUGGGUAUG\n",
      "secuencia RNA  UGGAAAACGUCGUCCAUACCGCGAAAUCGGUGCGUGUGCGCGAUGAGCAUCGUGUGCUGCAUGUGAUCCCGCAAGAGUAUGCGAUUGACUAUCAGGAAGGG\n",
      "secuencia RNA  UUUACCCUCUUUCUCCAUGAGAUCUUUAGCGAACUCAACGAUCAAAAUAGCGUUUUUGGCCGACAAGCCAAUUGUCGUUAGCAAGCCCACCAUAAAGUAGA\n",
      "secuencia RNA  GCGUAAGCUGAUCAAAAAGAUCGAGAAGACGCUGAAAAAAGUGGAAGACGAAGAUUUCGGCUACUGCGAAUCCUGCGGUGUUGAAAUUGGUAUUCGCCGUC\n",
      "secuencia RNA  UUAUUCACAACCGCCGCACCAGCCGUUCCGUACCAGGGCGAUUCGCCAGCGUAACUCCAUUGCUGUGUUGAGGGAUCAAAAGACAACAGAAACUUAUUGAA\n",
      "secuencia RNA  GAAACCGCGUUAAGAGGGCGUACAUCCUUGUACACGUCGGGCAGGAGGGAUUAAUUACCAGCGAUAUUCAUUGCGGGUUUCCCAAUCCACGACCUCUUUUU\n",
      "secuencia RNA  AAGCUGCAAAAAGCGGGCUACAAGCUGGUGAUGAUCACUAAUCAGGAUGGUUUUGGAACACAAAGUUUCCGACAGGCGGAUUUCGAUGGCCCGCACAACCU\n",
      "secuencia RNA  CCAUUCGGCGGCCCGACGUUGUGGCGAAAACGAAACGACCAGUGCGCCGAUAAAAGGCAGCAAUAACGUCGUCAGAGCAAGAUUUUCCAUAUUCCGUCAGU\n",
      "secuencia RNA  GGCGGCAAUCAAAAAAGCAAGGGUGAGCGACUGAUUCAUCCAAUCGCGUCCGGUUCAGUGCGCUCGUCGAGUUGCAACUGCAUAAAUGUCAGAUCCAGCCA\n",
      "secuencia RNA  UUUGACCUGUCUUCCGACGACGAUUCCGACAGCCAGCCGAUGGCUCCGGUGCUCUAUCUGCAGGAUAAAUCAUCUAACUUUGCCGACGGCAUUGAAGAUGA\n",
      "secuencia RNA  UUCGAUAAUUUUAUCGUUCUCAUCAACCGCCAUAACGCCAAAUGCGGAGGCUUCUUCAAUCGGUACUGGCAUACAAGCAACGGUGCAACGUGCGCCUUUUU\n",
      "secuencia RNA  AUCUUCCAGGUAUGGUGCGCUUAACUCAUCAACAUACGCGGUCAGCAGGUCAAAUUUCAGGGCUGUGUCGGUGGCUUCCACAGCGUCCGGCGGACAAUAAG\n",
      "secuencia RNA  CACCGGUAAACUGAUCGACGGCACCGUGUUUGACAGCUCCGUUGCUCGUGGUGAACCCG\n",
      "secuencia RNA  UACGAGCACACAUCAUCGUUGCUUCGCAAACUACUUUACCAUCGACCAGAGCAACCCCUUUAAAACGGGUCAGGCCGCGGCGCGUUUUUUCGAAAGUGACU\n",
      "secuencia RNA  GAAAUGGCUAACAAUACAUCUCCCGCAUGACCCAGCGCCCGCACCUGUUUUGCAUACACUUCAUCAUGUAAGCGAUCGUUGGCAAUCGCCGUUAAGACAAC\n",
      "secuencia RNA  GUUCAUAUCACCUUACCGACGCUUAUCGCAGAUUAGCACGUCCUUCAUCGCCUCUGACUGCCAGGGCAUCCACCGUGUACGCUUAGUCGCUUAACCUCACA\n",
      "secuencia RNA  UUGGCUGGCAGGAACCGUUUUCAUCAAGGAUUCAAUAACAUAGUGACCAAGUUGGCCAGUGGCACCAGUAAUAGCGAUCAUGGGAAGUCUCCAUCGUUUUG\n",
      "secuencia RNA  UUGCCAGAUGCCUUGCAUAACGUUGGCGUCAAUACGAAUGCCUAACAGCCAGAUAUGCAACAGCGGUUCGCCCCAGGCAAACGGCAUAAGCAACAGCAUGG\n",
      "secuencia RNA  CGAACCCAUGUCGGGGGUAAUAGGUGGCGUGGCCGAGAACAAAAACCGUCUGGCAGCCCAUCAACCUCAGGUGCUCGAUGCCAGUGCGUAUCAACCGUCCU\n",
      "secuencia RNA  CGGGGCAGAAUAUAACGGCUAUGCGGCUGACCUGACCCGUACCUGGUCGGCAAAAAGUGACAACGACUACGCGCAGCUGGUGAAGGACGUUAAUGAUGAAC\n",
      "secuencia RNA  GAGUUUUCCGGCAAUGUACCGGUACUGAAUGCCGGUGAUGGCUCCAACCAACAUCCGACGCAAACCUUGCUGGACUUAUUCACUAUUCAGGAAACCCAGGG\n",
      "secuencia RNA  GCGUCAAGAGUGACCUGUAAUUCGCAGCCCUGCCAGAACAGAGGUAAAGACAACUGUUGCCACUGCGCAGGUAACGCCGGAUUGAGAUGCAAUUCACCGUC\n",
      "secuencia RNA  GUGGUAAUCGCCUGCCACAAGGAUAUCUAACACAAUAUCAAUACGUUCGGCAACGCGCUGGGCAUCAAAUUCAGACAUCAAGGACAUCCUUAUAGCAAAAG\n",
      "secuencia RNA  AACAUCGAGCAAAAUGGCCCGAUACAAUUUACCGUGUCCGCGCAGUUUGUUGGCGAUACUAUCGCCACCAAAAUGCUGUAAUUCUCCGGCAAUCAGCUGCC\n",
      "secuencia RNA  CGGGCAUCGAAAUAUUCGCCAUACUGUGCGUUAUACCGCCAGUAAUGCUGCUCGUUUUGCCGGAUUAUGGGAAAGAAAUAAUCUCAUAAACGAAAAAUUAA\n",
      "secuencia RNA  GGCCAGUGCAUUCAUCUUUAUAUGGAGUCUUUCGACUAGGGUUAGAUCGAGC\n",
      "secuencia RNA  CUUUUUCCUUAAACACCUGGCGCUGCUCUGGUGAUGCGGACUGAAUACGCUCACGCGCUGCGUCUCUUCGCUGCUGGUUCUGCGGGUUAGUCUGCAUUUUC\n",
      "secuencia RNA  CCCCGCAAGAACUCGAGGCUUAUGGUAUCAGUGACGUACAUGAUAUCGUUUACAACCCAAGCUACGACCUGCUGUAUCAGGAAGAGCUCGAUCCGAGCCUG\n",
      "secuencia RNA  AGAGGAAAAGUACAAUAUGCAGACCUAGGAGCGGAAAACUGGAAACCUAUCAGCAACUUACAUGAUAUGUCAUCUAGUCACUCAAAGACUUUAGGCUAUAA\n",
      "secuencia RNA  UCCUCCAGCCUCAGGGAACAGAUGAACCAACCCCCGGAGGGGUC\n",
      "secuencia RNA  GUAAAAAUCAUUAAGUUAAGGUGGAUACACAUCUUGUCAUAUGAUCAAAUGGUUUCGCGAAAAAUCAAUAAUCAGACAACAAGAUGUGCGAACUCGAUAUU\n",
      "secuencia RNA  AGCCAAUCAAACCCACCAACACAACCUCGGAAUCAACGACAGGGCAUACAUGUCGCG\n",
      "secuencia RNA  UUUUCGCGGAGGGCGAAUGAUAAAAUCGUUGUUUAUCAUCAGGAACAAGUAAAUGGACCGCUUGUCGACGAGUCAGGGCGGGUUAUUUUUGCCGAUUUUAA\n",
      "secuencia RNA  CCAGGGCUACCUGACAUCAUCAAGCAGCCUGAUUCAGAAAGUCAAAAUGUACUCGCUGAUUAUAUUAUCGCCACGCCUAUACGUGAUGGAGAACAGAUAUA\n",
      "secuencia RNA  CUCUCCACCCAUUGAUUAAACAAGGGGUCUUUUUUCUGCGCCGGAAAAA\n",
      "secuencia RNA  AGUCACCAGCCUUUUUGCGCUGUAAGGCGCCAGUAGCGUUUCACACUGUUUGACUACUGCUGUGCCUUUCAAUGCUUGUUUCUAUCGACGACUUAAUAUAC\n",
      "secuencia RNA  CACGAAGGUGCAAUCCUUGCCAAUGAGUUUUCCGCCAGUCGGGUAAAAGUGUUACAUGCCCAUAUCAGCC\n",
      "secuencia RNA  CCUUAAUGGUUGGCCUUUCUUGCGCCUGUUUCUGUAAACUCAAUAACGGUGGCUGGGAUGGUGCCGUCAUCACCUUCUUUGCCAGUACGACCGCGAUGUAU\n",
      "secuencia RNA  AUGCUCCGCCAGUGCGCGUUGGUACAUCUCUUGCGGAUCUAUGCGGCGGUGUCUAUUUAUUCAGCGGAAUAGUGAGUGCACUUUAUGGCCGCGAAAAGAGC\n",
      "secuencia RNA  AAAGUAACUAUGUUGGUAAAGUCUCUGAUCUGAGCGUUCCGCAGCUGGUCUUGUCCUUUAUCCCGAAAAACCCGUUUGCCGAUCUUACCGGAGCCAAUCCG\n",
      "secuencia RNA  AGAAGGUGUGCCAGUAGCAGGCGGCAAAACGCAAGUGCUCUUCCAUACGCUUACCCAACACCAGUUCGUCGGGAUUGUAGUGACGGAAUGCUAACGGGUUU\n",
      "secuencia RNA  GCAAAUCUCCCAUUGGAUUAUGGAUGGUACAAAGAUCUUCGGGUUGAUAAGCAUGAAACCAGUAACCCUUUUCUUCUUCGGGAGUUUCUGGUCCGUCGGCG\n",
      "secuencia RNA  AGCGGGAAACGACGAUGAGCAGAAAGGCACAUGGACGGCACGCGCACGCCGGUUUCAACAAUCGCAUUGACCAGCGCCAGACGCUGCUCGCGGCUCCAGUU\n",
      "secuencia RNA  UCACACCGAUAUUACGCAGCUUCUCGCGGCCCAUUUUGAGCAUGGAUUCAUUGAUAUCAGCAAGGACCACUUUGCCAGUUUCUCCGACCAGGCGGGAGAAU\n",
      "secuencia RNA  CUGGUAAUCUUCGGUAAUGAUUAAUUUCAUCUUAAUGCCUUAUUUUAUUUAAAUAAUUUCUGUACAAAGGCUGCAUAGGCUGGUCGCCAGACAUCCAUUUC\n",
      "secuencia RNA  GUAUCCCACGGAUUAUUUUGAUCAGCCAUUAUUUACCCCCUCACGAUCUAAAGCGCGCAGCAGCAUUCCUUUCGAAAUGAUGCCGACAUACUGUUGGUCCU\n",
      "secuencia RNA  GGCGUGUUCAGGUCAUCAAAGAACAGCCCGCCAAUACCGCGCUGUUCGUUGCGAUGUUUGAGGUAGAAGUAUUCGUCGCACCACUUUUUGUAACGGGGAUA\n",
      "secuencia RNA  GAUCCGAUGUGUGGUUCCGGUACGUUGCUGAUUGAAGCAGCGAUGCUGGCGACCGAUCGCGCACCAGGCUUGCACCGUGGGCGUUGGGGCUUUAGCGGCUG\n",
      "secuencia RNA  UUUAUCGUUCGCUCACUUUUCAGGCAAAACAUCUUAAAUAUAGUCUUUUCCGUCUAACUUAUAGACAAAAACGAGCCCCGAAGGGCUCGUUUUAUCAUUUA\n",
      "secuencia RNA  UCUGCGGCCUUUUUUCUUUUCACUGUCGAAGAGUCACCGUAAAAUCAACGCCAUGACACUUCAGCAGAACGGAUACCAUGCUGACACUUGCCCGCCAACAA\n",
      "secuencia RNA  GCCGUUGCGGAUACCGCCGCCGUUGCCGCUCUACUGGUGCCGAUGAUGCGCAGCGCCAACUAUCCGGUCAACCGGGCGGCGGGGCUGAUUGCCUCUGGCGG\n",
      "secuencia RNA  GGAAAUACCCACACACCUGGGAAUUAACUCAAAGCCAGAGCGGCGCAUUUAUUUGCGUCAACACGCUUUGGGCUAACAGGUUGACGAAAGAGGCUAUCCUU\n",
      "secuencia RNA  GAAAUUUACCGCGUUCAAUCAUUAUUCUUCCUCUCCGCUAUCUGGCUGAUUCUCUUCGGUUUCAUCGUUGAGUUGCAGAUGAUUUUCAAUCGGCAUUGCUU\n",
      "secuencia RNA  UGGGGUUACUUUAAAAUUAUCCAUCUGGAAGGAUCGCCAUUAACCCGCAUCGACGGGAUGAUGAUCCUCGGUAUGUUUGGCGGCUGCUUUGCCGCAGCGCU\n",
      "secuencia RNA  AGAACGGUAGGUCAGUGCAUAGCGGUUAUUUUUAUCCAGUUCAUACAGGAUUCCGGCGUUCCAGCCAAAGCCCCACUGGUUACCGUUCAGAUGAGCGAUUU\n",
      "secuencia RNA  CGAACCGGUGUUUGACGUCCAGGAAUGUCAAAUCCGUGGCGUGACCUAUUCCGCACCGCUGCGCGUUAAACUGCGUCUGGUGAUCUAUGAGCGCGAAGCGC\n",
      "secuencia RNA  GGUGGGCGGAUGUCGUUAAACCGACCAGGACCCGCCUGUAUAUCGGUAUCGCCUUCUAUAAAGUGGGUGAACCUUCAAAGAUAGAGCCAGACUGGAUGAUU\n",
      "secuencia RNA  AAUUUGGGGUUCUGUAUUUUUCUCUACCCCCAAAAAUUCAUUUCGCAGGUAAGGAAUUUUCUUAAUGCGAAAAAAAAACCACAAAAGCUACAAACGUUGC\n",
      "secuencia RNA  UGAUGAAAGGCGUGGAGAUGGGCAGUGGUGAUGCUUAUCCGGGGCGCUGGCUGGCGAUUAACCCUGGAACCGCGG\n",
      "secuencia RNA  CCAGGGCAUGACCAGUAGCGUGAAUAACAGCGCCAGAAUCGCGCCGCAAAAGGCCCCGCCAAAACG\n",
      "secuencia RNA  CAUCAGGCAGUUUCCCAGACAUUACUCACCCGUCCGCCACUCGUCAGCAAAGAAGCAAGCUUCUUCCUGUUACCGUUCGACUUGCAUGUGUUAGGCCUGCC\n",
      "secuencia RNA  GUUGAUGACAGCAUUCAGGUCAAUCAGCAAAAGUGUAUUGGCUGUAAAUCCUGCGUGGUGGCCUGUCCUUUUGGUACGAUGCAAAUCGUCCUGACACCCGU\n",
      "secuencia RNA  GGACGAUCUUUGAUAGCGUGCAUACCCAGAAUUGCGCUCUGCGGCGGGUUGAUGAUCGGCGUAGACAUCAGGGAACCGAACACACCACCGUUGGUGAUGGU\n",
      "secuencia RNA  GAUUACCCGUCAUAUCAGCGUUUCAUCGUUGGCACGGAAGAUGCAAUACCCGAAGUAAGACAACCACUGGAGGAUUAACCAUGAAACGGAACACGAAAAUU\n",
      "secuencia RNA  CGCGUAAUGUUUUCUAUCCGCAGAUGGCCCGUUUACUGGGGCUGGAACCUCCGCAGUUCAGAAAUAGUCUGGACAGCGGCAAAGGUAAGAUUAUUGAUGGC\n",
      "secuencia RNA  GUUCGUUGAUUGGCGCGUUUGCGGGCAGCAAUCCGGCAGCGUUCCAUGCCGAAGAUGGCAGCGGUUACCUGUUCCUGGUGGAAAUGCUUACCGACCUCAAC\n",
      "secuencia RNA  UUCUUGACAGACUUGGGCUUCCAGCAAAAAACGUUUUUCGCUGAAGUAGUGGCCUUCCAGCCCAACGGCAAAAUGUUGUGGGGCGUUAUCGGG\n",
      "secuencia RNA  ACUGGAUGCGCGUAAUCACGGCUAUACGGUGCUGGAUAUUCAGCAAGACGGGCCGACCAUUCGUUAUUUAAUUCAGAAGUAAUCCCUCAUUCCCGCUGUGA\n",
      "secuencia RNA  CAUUCAUUAUGAAGGCAUGGACGAUGUUAUUCUGCUGGAUUUUCUGCCCAAAGAGUUAGGUUUUGAUAUGAACAUGCAUAUCCUCUCUUUUGCACCAGGUG\n",
      "secuencia RNA  ACUUUUUCCGGUGCGAUCCCCAAUGCGGAAGCCAGUUCACGAGUCGUUGUGCGGCAACGUUGCGGGUAAUCAUCGCCUUCAUCUGCAUAACGCUGGGGAAU\n",
      "secuencia RNA  CUAUCUGGUGCUGGCAGGGCUGUGCGCCUCACUGCUGGGCGAUGCGCUAACCCUGUUGCCACGUCAACGUCUGAUGUACGCCAUCGGCGCGUUUUUCCUCU\n",
      "secuencia RNA  CGCCCCAACCAAAUUGGUCGUUAAUCGGUGCAACAAAGUGCAUGUUCGGAACCCAUGCCGUAGGCGCGAUGUUAUCGGCUUUCAGGCUACGACCAGAUGGA\n",
      "secuencia RNA  AAGACCAAGGGUUGCUGUCCAGCGUUAAUAGGUGCAGGGUAAGUCGACCCCUAAGCC\n",
      "secuencia RNA  CUUCGGCUGGCGGUUAAAGCCAGUAACCAGCCACUGGGUGUCAUCGUCUGGCCGACCGAUCUCCUUGCGGCUGAUGACACGCCCGGUACGCAUCGCGGCA\n",
      "secuencia RNA  UCCACAGUAUGUGGCUCGCGAAUCAAUCACUCAGUGGCAAACGAUGGAUGGUCGCACCUGCAAAGGGCCGAACAUCAUGCCGAAAUUCAAAAAUAACCCCG\n",
      "secuencia RNA  GUGUAAAACAUCCGCCUGUCUGGCUGACAUAUAAAAAGUGUGGCCGAUCCGUUACCCUCAAUUACUAUCGGGUUGAUGAAAGUCUAUGGCGAAAUCAACUG\n",
      "secuencia RNA  ACGGUUAAUUUGCAUCGCGUUACCUUGCUGAUCGUGAUAACUCACCAGCCCGGUAUCAUCAUCAAUUUCAGGUUUUCCAUCGGUCAAAAUCAUACGGCCAU\n",
      "secuencia RNA  CCGCCCGCAAUAAACAGGUGGAGAUGGAGUUUUAUCUGCCGAUUAGUGAACCGCUUAUCGCCAGUCAGCUUGAUACGUUAAUCCGCCAGUUUGACCCGCUA\n",
      "secuencia RNA  CGGAAUGCAGUUAAUCGCGCGUGGCAGCGAUUUCUCUGUAUCUUUGGUUUCCGCAGCUGUUGUACCUAGCAGCUCAAUCCACACUAAAACGAAUACCCCAA\n",
      "secuencia RNA  ACCGCUUAAGCUGCCUGCUAACAGUUUGCCAAACCAGCUAAUAAAACCGGAGUUGUUGAGUCCUGUGGC\n",
      "secuencia RNA  UUUUAUCACGGUAUUCAACCGUUGAAAGCGGGGUUUCAUCCACUCACCAUCGACUGCCGCUACAACCUGACAUUCCGUCAGGCAGGUAAAAAAGAAUAAAA\n",
      "secuencia RNA  CUGAAACAGCAGAACCGAAAACCCGAGCUGGCCGGAUUCGCUGCGAUUCAUCCCUUUCUCACGCAUCAAUUGCAACGCCAUUGCAGUUGAAGACAUCGCAA\n",
      "secuencia RNA  CAUAUUGCCGAUAAAAUAUCCUGGAGGACCAACCAGCUGCGGGACGAUAAACUCGCCCAGUGUGAGUGAGAAGGUAAAGAUAGAGCCCGCGGCAAUACUCG\n",
      "secuencia RNA  UGACUUAUGAAAAAUUAACCACGCUGACGCCGUUUGCCCCUGCGUUGACAGACGAACAGGCGGCGGAACAGGUUGAGAUUCAGGUUAAAUACGAAGGUUAU\n",
      "secuencia RNA  AUCGUGUGCUGCAUGUGAUCCCGCAAGAGUAUGCGAUUGACUAUCAGGAAGGGAUCAAGAAUCCGGUAGGACUUUCGGGCGUGCGGAUGCAGGCAAAAGUG\n",
      "secuencia RNA  AAUCGCGACACAUCCACUGUUUUUUCUGCCUCUGCCAGACUCCAGGCGUUUUGCAGAUUCAGCCACAUUUGCGGCGAACUGCCGAUCACCACGGAAAGUUU\n",
      "secuencia RNA  GGAAGAGUCAUACCACGAAGCAGUAUGCGAAAUCUCAUUAUCCUGAUUUCGAUGCAUACCAUAGCUCAAUGUUCUACUAGUUCCCCAGGGAAUCGAAAUAU\n",
      "secuencia RNA  UUAUCACAAAGAAUAAACCGCUCUGGCGAAAGGCUUAAAAUUGCACCCUGUUCAAGACGUAAAAAAGCGCUAAAUGGCGCGCGGUUGGCCUGAUUAAGCUG\n",
      "secuencia RNA  ACCGUAAAAUUGUGGGAAGUCAUUUAAUUACAGGAUGGCACCGAUUUAAACGCCGCGGCGGUGAAAGAGAAUCUGGAACAGGUACG\n",
      "secuencia RNA  AAGACAUUGAUGCUGUGGCCUAUACCGCAGGCCCUGGAUUAGUCGGCGCGCUACUGGUUGGC\n",
      "secuencia RNA  UAUUACGCGGCAUGACGCUGCAUUGAUGUAUUUACACUUAGAGGAUGCGCUUGUGGAAAAAGCCAAACAAGUUACCUGGCGGCUGUUGGCUGCCGGUGUCU\n",
      "secuencia RNA  UCUACUGCGCUACUUUUUCGCCAGCGCCACGGCGUAUACCUCCGCUCUCGCACCGAUGAUGAUUGCUGCUGCGCUGGCGAUGCCGGAAAUCCCGCUGCCGG\n",
      "secuencia RNA  CCAUUACCGGAAUCUCCACACCUGCGUUCUGGCUUGGGCUGGGCGUCAUUGUGCUGUUUUAUGGUCAUCUGCAAAUUCUUCCCGGCGGCGGAAGGCUUGAU\n",
      "secuencia RNA  AAGAUGACAUGAGCGUUGACGCCGAAAGUGCAUUCCUGACCGAUCCACAAGAAGCUAAACGCUUUGUCGAACUGACUGGCGUCGACAGCCUGGCGGUAGCG\n",
      "secuencia RNA  GACGGAUGAAGAGAUCGCGGCGGUGGAGCCGCUGUACAAAGCGUUGAACGCCGGACGUACCAGUAAGCGUAUUCAUACAGGCCUGGUGGUGCGUAAAGGCU\n",
      "secuencia RNA  CAUAAAAGGUGCCGAAAAUAACGCAAGAAAUUAUUUUUCCGGCAGUUUUAUAUCUUUAAACAUGACCUCAAUUUCUUCAUUAGAGCGCAAUGCGACAGCCG\n",
      "secuencia RNA  CGAGUCUGCGGCGGGUACGGCGGCGGGCGGUAAAACCGGUUUGACGGCUAUCACCGUUGGCGUGCUGUUCCUCCUGAUUCUGUUCCUCUCUCCGCUCUCUU\n",
      "secuencia RNA  ACGCUUGCUUCAUCAGCCUUAAUGGUGCCUUCGGUUUCACUGACCAGCGCCUGUUGGGCAUCCAGCUCCUGGCGGGAAACGAGAUUGGUUUUUGCCAGUUG\n",
      "secuencia RNA  CUCACCUGCGGUUUGUUGUUCAUAUUGCUCGUAAUUAUGCGGGCUAUGGCCUGCCACAGGCGGAUUUGAUUCAGGAAGGUAACAUCGGCCUGAUGAAAGCA\n",
      "secuencia RNA  CGCAGCGUCGGGAGCUUUCCCGGCGUGUAAACCUGUUUAUGCAGUGGCUGGCUGGCGUAAUGAAAGAGUACCUGGACUGACCGACUAUACUUUUUAAGAAU\n",
      "secuencia RNA  UUUGUCUGCCUCGUAAUCCCAUGGUUUGUGAUUUAUACCUGGCUGCCAACUAUCGCCCAGACUAUUGGUCUGGAAGAUGCGCUGACUGCCAGCCUGAUGCU\n",
      "secuencia RNA  UGCACAAUGUCAUACUGCGCCAGCCAGGCGUAAUCCUCUUCACUCAGGGCAAAGUCGGCCAUCACGCCUUCGGUGUAGUCGCCAAAAACGCGAUCAUUGUC\n",
      "secuencia RNA  GGAUCGCGUCAUCUUUACCCUGGCACCGAUGAUUGCCUUUACCUCGCUGCUGCUGGCCUUUGCGAUUGUGCCAGUCAGUCCGGGUUGGGUGGUUGCCGACC\n",
      "secuencia RNA  GGCCGGAAUUUCAAUCAGCUCGAAGGGCAUAUCUUUCGGAAAACGACGCAGGUACUCGGUAAAACCGGUUUGUACCCAGUCCGGCAUUUUCGUUCCCACGG\n",
      "secuencia RNA  GCCCGGCCCAUGCGGUAUUGCGCAGGCCAAAGAAAGCAAGCGAAGGUGUCAGGUCGCUCAUUUCGACUUCGGGCCAGCGUGGCACAAAGACCAAUGGUGAA\n",
      "secuencia RNA  GCGGCGUGCGCAACCGGGAAAUUUGUGGCAAGGACGAGCGCGAGCAAUGUGGGAUGAAACGAUAUCGAUCUCUUCAUGACAGUUUCCUGAUUAACUGACGU\n",
      "secuencia RNA  GCAGGGUCGGAGCAGGAGGGCGCACGAGGUAGCUUCCAGGG\n",
      "secuencia RNA  AUCUGGUGAUAUUAUUGAUAAUAUUAAAGUUUUCCCGACAUUGGCUGAAUCGUUACACGAUGUCGAUUUCACUGUCGCCACCACUGCGCGCAGUCGGGCGA\n",
      "secuencia RNA  AAAAUCGGCUGACCAAACCAGAGCAACUGACUGGUUUUAAUAGCGAAGGUUACUUCUUUGAUGAAGAUUCCUCCAGCAAUGGCGAACUGGUGUUUAAACGC\n",
      "secuencia RNA  UAGUCACGGUUGAGGCGGCAGAGACAUUCAGUCUCAACAACCUCGGACGCUUUGCCGAUAAGCUGCCGUCAGAACCACGGGAAAAUAUCGUUUAUCAGUGC\n",
      "secuencia RNA  GCGCCAUUUCCUGCAAUAAGAACGUGACCACGUUAUCGGCAAUCUGCUGGCACAUGGGAUUUUGCUUAUCCAGCAUAUUACCGGCGUCGGGUAAGUUGGUU\n",
      "secuencia RNA  GUGCAGCGGAUAACCUGGAGGCGGCGAUCAAAGGCAAACCACUAACUGAUGUCUGGUUUGCCUUCCCGCAGUUAAAACCUUAUCAAUCACAACUUAUCGGU\n",
      "secuencia RNA  CUUCUACCAGUUUAGCCUUUCGCCCGGUAAUGAUAGCGACUUCAAUAUCAGAGGUGAGCGCACAACGAAUGCCAUAACCGUCACGAACAUUGAACGCUUUC\n",
      "secuencia RNA  CUAUCAGCAACUUACAUGAUAUGUCAUCUAGUCACUCAAAGACUUUAGGCUAUAAGAGGCUGACUAAAAGCAAUCCAAUCUCAUGCCAAAUUCUAUUGUAU\n",
      "secuencia RNA  GUGCCAUAUCCGUCACAGGAAUACCUACAACACCAUAAAUAGUGUCAAUAUUAUUCUGUUUUAAUGCUUCAACGAUGAUAUGCAUACCAUCUGUCAUUUGA\n",
      "secuencia RNA  AUACACAUCUUGUCAUAUGAUCAAAUGGUUUCGCCAAAAAUCAAUAAUCAGAUAACAAAAUGUGCGAACUCGAUAUUAUACACGACUCUCUUUACCAAUUC\n",
      "secuencia RNA  GACCAAGUUUACUCUUAUAAACCUUAGAUUUAUUUAAAACUUCAUUUUUAAUUUAAAAGGAACUAGGUGAAGAUCCUUUUUUAUAAUCUCAUUACCAAAAA\n",
      "secuencia RNA  UGAUACGCAGGUGUGUAGCCCAGCGGCCAGCGAUGCGCGCCAACAUGGAACUGCCCGCCGCGAAUGGUUCCCUGCAGGCGGUUCACUUCGCCCAUAAAUUC\n",
      "secuencia RNA  GUGGAAGAUAACGGGCCGGGCAUUCCGCCUCAUUUGCAGGAUACGCUGUUUUACCCGAUGGUCAGCGGCCGCGAAGGUGGCACCGGGCUUGGCUUAUCCAU\n",
      "secuencia RNA  GCAAGACCAAAGAGGGGGACCUUCGGGCCUCUUGCCAUCGGAUGUGCCCAGAUGGGAUUAGCUUGUUGGUGGGGUAACGGCUCACCAAGGCGACGAUCCCU\n",
      "secuencia RNA  ACCUUGGUCGAUGCCACCAUCAUUGAGGCACCCAGCUCGACCAAGAACAAAGAGCAGCAACGCGAUCCGGAGAUGCAUCAGACCAAGAAAGGCAAUCAGUU\n",
      "secuencia RNA  AGAUUACUUAUGGUAAACACUUGCCCCAUAAGAAUUCACAAUUAUGUUUUUCACAUAAUCAGUUCAAAAUUAUGCAACUGAUUCUGAAAAAUAAAAAUGAA\n",
      "secuencia RNA  UUUUUAUUAGCAUUGGGUGGCUGGCGCUCUUGUUAUUGAGUUUGCAACCGGUAGCCGACCGCCUGCUGCGUCCCAUCGAAAGCACCUAUCCGACAUGGAAU\n",
      "secuencia RNA  GUCGGCACCGUCGUAGAGGAAGGCAAACAGACACUGACACUCGACGGUAAAACCUGGCUGCUCGAACGCCCACUGCGCGCCGACCUGGCGCUAAUUCGCG\n",
      "secuencia RNA  UGGUCGGUUCCAGUUUUCACUACUAAAGGCAUACAGCGUUAACGCCUCAAUACCGUUGUUGGCCGCAAAAGAGACAGCCCGGAGGACGGAUUUUGCGCC\n",
      "secuencia RNA  GUGGAAGAGAGAGGAGCUAUAAAGAGACUGAAAAAACAUCAGCGAUGACGACCACACACUCUACAAAACUUCAGCCAUCACAGGCGAGUUUGUUUAAGAUG\n",
      "secuencia RNA  CAUCAUCACCAGCCCGGUGAAGCCGUGCGGCAGGAAACCACCCUGAUCCCACAGGUUGCUAACGGUCGCCUGCGGGCCGCCGUUGCCACUGAAUAGCAGC\n",
      "secuencia RNA  UGUAUUCGCCCCCUGAAUGAUUUCGAUGGGCUUAGUGUGGACCCGAUCUGCCUGGGAUGAUAGAGGGUGAAAAUUGACCCCUCUGUUCAAAAAAAUUGAAC\n",
      "secuencia RNA  GGAGAACAUGGCGAGGCUUGCUGCCUUACUUCAUUACUUCAGCGGUGAUGGAGGCGAUAUAUCUGUUACCGCAGUAAAAGCAGCAGUGGAGAUAGUGGCUU\n",
      "secuencia RNA  GGGCGAUGUUUAUCAGACGCUGACGACCCGCCAUCCCUCUGCGGAAUCUCGCCGUUAUCUUUAUAAAGUGAAUACCGCGCAAAAAUCCUACCGCCGCCGAU\n",
      "secuencia RNA  GCUCUACUGGCAGGGUGAAGUCAUUCCAGGCGAGAUUUCCUUCCGCGCGGUCUAACGCCUAUUAACCAUUCUGGUUAUUCUACAUACACCGCAGAGAUGUU\n",
      "secuencia RNA  CAAGUAACAGUAAGCAGGCAAUCUUUAGAGUCCGGCGAGAAAAACAAAUACGGAGAAGAAGGCGGGCAAAUGCGCGCAGCAUGGUCGUUAUCCUUAACGAA\n",
      "secuencia RNA  GGCCUCGAUUUUGGCAGUGAUUCUGUGCGAGCUUUGGCGGUGGACUGCGCUACCGGUGAAGAGAUCGCCACCAGCGUAGAGUGGUAUCCCCGUUGGCAGAA\n",
      "secuencia RNA  CGCCAGACGGCGUUCCGGUGGUCGUAUCAGUCUCAGUAGGUUUUAGCUUGCUGCUACAGGCGGCAAGCAACACAAAAAGGGGAAGCAAUGUUACAUAACGA\n",
      "secuencia RNA  GGAUAUGGCGCGAAUUCAGUCCGGCGGCUUUAAUUUGAAGAAAGAGUGGUUAACGCUGGAAGAAGUAGUCGGCAGCGCGCUGCAAAUGCUGGAACCGGGUU\n",
      "secuencia RNA  CGUUGGCCCCGUGGAAAAUGUUGUCCAGUUGGUGACACAACCGCAACUGCGCGAUCGCCUCUGGUGGCCUGGUGCCUUGCUGACCGACUCUGCGGCGAAAG\n",
      "secuencia RNA  AAAAUGUAUCUCUUUUACGCUACACAUCAACGGCAAAGAUCACGAUUUGUUAGCGGUGGAUAAAAUUCAUGUCGAUUUAAACUGGCGAUAUCUGAACGAGU\n",
      "secuencia RNA  GUGGCGAGGCGAAAUAUCCUUGCGCGGCAUAACGUAAAUAACUGACGCUCACCGCUGUGGUAACGAGUUGCAGAUUGUCGGAACAGGCAAAAAACGGACGA\n",
      "secuencia RNA  CAUCGAUGCGUUUUCAAUGGCGAUAUCGCGAAUAUCACCUUCAAUGACGUCUACUGGCGUAGGGGCUUUAUAGGCGUCAAUAUGACGACGGCAGCGUUCAA\n",
      "secuencia RNA  AUGGCAUCUAAAAAUCGUACGAGAAUCUGAUAGAGCUCACUCUAGGUACACGAGAUGACGC\n",
      "secuencia RNA  GCGUAACCAAAGCUGUUGCUGCGGUAAACGGCCCGAUCGCUCAGGCGCUGAUUGGCAAAGAUGCUAAAGAUCAGGCUGGCAUUGACAAGAUCAUGAUCGAC\n",
      "secuencia RNA  ACCGGUGCCGGUGGAUUUGAAGUGUCAGAACAGCCUGCCAGCCAUAGCGAAACCAGUGACAAAGCCGCAAUGCGGCGAACGGUGAAUUUUGUGCUUCCCGC\n",
      "secuencia RNA  CGCACUUGCGAGCGCCAAUAUUGCCGCCAAUACAUACCCACGUUUGCACCAUUUCAUGAGCAUCUCCAGUUACUGAUAUUCAAGAGUGAAGGUAGCCGUGG\n",
      "secuencia RNA  GCUUUUAAUGCCACCUACCAGCAGAUCAGAGAAAAUAUGUCUGAAUUUGCACGUUGCCAUUAUGGGUAUAUACAAAUCCCUCCAGUGACAACUUUCCGCGC\n",
      "secuencia RNA  AAAAAGGGCAAUCUCGACGCCAACAACUACCGCACGGGCAUUGCGGAACAUAUCAAGCAGGCCAUUGUUGAGCAGGAACGUUUGGGACUGGAUGUGCUGGU\n",
      "secuencia RNA  GCUGACUGGCGGUCAUCGUAACCGCUCUAAUGAAAAUAGCGCAUAGUUGCUGAAAAUCGCCAGGCUGAUAGUUUCUUAUUUGUAUGUUAUUCAUAAUAUAA\n",
      "secuencia RNA  ACCCGAAAAGAGAUUUUCCUCUCCCGCAUGGAGCAGAUUCUGCCAUGGCAGAAUAUGACCGCUGUCAUCGAGCCGUUUUAUCCCAAGGCGGGCAAUGGCCG\n",
      "secuencia RNA  AGUCUUCUUCGCUAUCCUGUUACGAUGCCGCGAUAAACAGCUCACGCAGCUGAUGCAACUGGUCACGAAUUUGCGCCGCUUCUUCGAACUCCAGAUUCUGC\n",
      "secuencia RNA  CAACGUACCGCACAACCUACCGGAACAUGUCGUCGCAACGCAACAAACCCGUUCUCAACC\n",
      "secuencia RNA  GGUGGUGAAACCAACCUGGUUGUUGAUAACGAUACGUACCGUACCGCCAACUUCAUAACCACGCGCUUUCGACAUGUUCAGGGUUUCCUGAACCACGCCCU\n",
      "secuencia RNA  CAUCACCUGCAUUGAGCAGAUUUUGCAGGUUCUCAAUAACCGGUAAUCCAGCCCCAACGUUGGUGUCAUAGAGGAAUUUACGCCGCGAUUUUUCCGCCGCA\n",
      "secuencia RNA  ACGGGUGGAAUCAAAAUGAAAAAUUCAAAAGCAAUAUUGCAGGUGCCGGGCACAAUGAAAAUUAUUUCAGCAGAAAUACCAGUGCCUAAAGAAGAUGAAGU\n",
      "secuencia RNA  UAACAGGUUAUCACGAGUGAUACCGGCAUUAUUGACCAGGAUAUCCACUUCACCAAAUUCUGCGCGAAUUUUUUCCAGAACAGAUUCGAUAGAUGCCGGGU\n",
      "secuencia RNA  CGGCGUUUCCUGCCGGAUGCGGCGCGAGCGCCUUAUCCGGCCUACAAAGGGCGCAAACGUCGCGCCCUUACUAAAGCAUUACAGCAACUCAAACUCGCCUU\n",
      "secuencia RNA  CAUCGCUUGUGUAUUGGUCGCUUUGUCAUGUGGCGCAAAAACCGGCUCAUGAAAACCGGCAAUAAUUAGAUCCAGCGAGUCAAACAUUUUACCGCUGCAGU\n",
      "secuencia RNA  AUUUCCAGAUCAACGGUCUGCGGCAGCUCAAGCGCCAGCAGUUGACCGUCCCAGGUCAGCACCUGCAUGUCCGGCAUGCCGCCCUCUGGCAUAAACAGCAA\n",
      "secuencia RNA  UCUAACUCACGAAAAUAUCUUCGGACUCUGGAAAUUGGUGUGAUAACUUUGUCAGCAUCGCACCAUAAGCAAGCUAGCUCACUCGUUGAGAGGAAGACGAA\n",
      "secuencia RNA  CGUCGCAUCAGGCAGUCGGCACCGUUGCCGGAUGCGGCGUAAACGCCUUAUCCGGCCUACGGAUGGUGCGGGAAUUUGUAGGCCUGAUAAGACGCGCAAGC\n",
      "secuencia RNA  CAUUAUCCAGCACAUCCGCCAGUGCUCCAUAGGCCGCUUUUUUUUGUUCGAUAUCCGGUUCCGGGGCCGGUUCAGUCGUUGAGUCCGUUGUCGUUGUGGUU\n",
      "secuencia RNA  ACGGCUGAGACGAAGGGCAAAGUUCCGGUCAUCAACCCGAACAGUAUGGCGGCGCUGGGUAUUGAAGUUGUCGAUGUGCGUAUCAAGCAGAUCAACCUGCC\n",
      "secuencia RNA  CAUAAUUAGAUCUCCGGGAACGUGGAAUAGUCAGUCUUUUUCUCGGCGGCGAGUUGAUGCUCCAGCCGGGAAAUUCGGUCAGAAAGUGCGGCGAUUUCCGG\n",
      "secuencia RNA  UGCCCGUUUAUGUGCGUGAUAACACUCUACUGGCGCUGGGCAACAACGAUCAACGUCCCGAUUACGUGUGGCACGAAGGCACGGCAUUCCACCUCUUCAAU\n",
      "secuencia RNA  CGUUUCGCUCCGCUCCGGGCGGCGCGGAAUAAACGAUACAACCCAGGAAACCAGAGAAGUCAGCACACGGAAUAUGCCCUUCACCGAAGAAGGCGCAAACU\n",
      "secuencia RNA  AACAGUUAGCGGGGUAUUAAUUAGCUCAAUAAUUAGUGUAUACUUGAUUUUGUGAUAUGGUUC\n",
      "secuencia RNA  AUUCCCGAAGACUGCUAUUACAAAGAUCAAAGCCAUCUGUCGAUGGAAGAACGCGUUAAGACCAACUACGACCAUCCCAGCGCGAUGGAUCACAGUCUGCU\n",
      "secuencia RNA  AAAACCACAAAUUACGGGCGAUAUACCUUCACAUUGUUAAAGCCCUGCUCGCGCAGAUAGAGCGCCUGCAGACGGCUCAUCACCCCGCGCUCACACCACAG\n",
      "secuencia RNA  UUAUUUGUGAUGAAGAUCACGUCAGAAAAUUGUUAUAUUACUAUGUUACGCAUAACGUGAUGUGCCUUGUAAUUCUUAUCAGUAGAAAUAAAAAAACGUGA\n",
      "secuencia RNA  CUACGCAGGUAGAGUCUGCCCACUGCAUCAUGCGCACACACAACAGCUUGUCUCCGGUUUUAACCAUCGCGCUUAUCUCAAACUCUGCGGUCAGGCGACUU\n",
      "secuencia RNA  AAAAUAUACCCUGCCGGUACUGAUCCUCACCGCUCGCGAUACGCUGACCGACAAAAUCGCCGGGCUGGAUGUCGGUGCCGACGACUAUCUGGUGAAGCCUU\n",
      "secuencia RNA  CGGUUAGGUCCUUCAGGUCCCCGGUCUGUUUCCUAAGAUUGUUGGCC\n",
      "secuencia RNA  UACUAAAAUAACACAAAAAAAAAAUCUUUGUUAUGCACACAUUUAUACCAAAAAACAAAAAAAUUUUU\n",
      "secuencia RNA  CUACGUACCAUUUUUUCGGCUUUGUCGCACAGCUCUUUGACUGUCGCUUCGAGCGUGGUUUUAGUGACGUCAAAGGUGAUAUCCAGCGUAUCGGCGCGGUA\n",
      "secuencia RNA  AAAUCCGUGCCUAUUUGGCUACACCCACCAGUGGGUUUGAAUAAUUUAAAGUGAAACAUGGCCC\n",
      "secuencia RNA  ACGCUCAGUGGUCAGCCUGUCGGUAUCCAUUUCUCUGAUUCAGCAUGGCGCAUUAUGGUACCGGGCAAAACACCAUCAGCCUGGCGCUGGGUUCCAUUACA\n",
      "secuencia RNA  GGAUUUUUACUGGCGUUUGCCUGGAGUCAAGCGAUCCAUUUCAUACUCUUCUUUAUUUCUUCGUUUUAACCCUUCCUUUCUUGUUCUUGUUUUCAUUUCCG\n",
      "secuencia RNA  AUCCCUGAUAAAUGCUUCAAUAAUAUGGAAAAAGGACGAGAAUGAGUAUUAAACAUUUCCGUGUCGCCGUUAUUCCCUUUUUUGC\n",
      "secuencia RNA  CUCCUGACCGUCAGCAUAUUCACCAUUUGAUCAUGCGUGCCGGGUUUACUUCCCGUCAGGCGUUUGUGCUGAUUACCCUUGCCGCAGCACUGCUCGCUUCC\n",
      "secuencia RNA  CGGAACCUGGCGCAUAGCGCGUUCGGUCAGGUCACGGUGAGUGAUGACGAGGUCCACAUCUGGCGGCAGGUUGUUGAUCGCGCUGUUAGUAACAGAAAUCU\n",
      "secuencia RNA  UCUGGCUCCGCAUUAGCCGGUUGCUGUUCCCGUUUGCGCGCUUUGGCUCGGGCAAUAGCGGCUUCGACGGCGGCUUUGCGCGGAUCGACCUGUUGUUCUGG\n",
      "secuencia RNA  CUGUCGUCACUAAGCCUUUCAACUUUGAAGGCAAGAAGCGUAUGGCAUUCGCGGAGCAGGGGAUCACUGAACUGUCCAAGCAUGUGGACUCUCUGAUCACU\n",
      "secuencia RNA  UGGCGGAUCGCUGGGGUUGAUUUUGGGACUGAUUAGCGGGCUAUCUCGCUGGGGAGAACGGCUGCUGGAUACCUCAAUUCAGAUGUUGCGCAACGUGCCGC\n",
      "secuencia RNA  AUUUGGCAUUCAUUUGAUUAUUUCACGGUGAUGCCAGACGCGUCUUCAGAGUAAGUCGGAUAAGGCGUUUACGCCGCAUCCGACAUUAUUUUUCACGCAUG\n",
      "secuencia RNA  AAAGUGCUGGCGCAAAUGAAUUACGGCGGCUGCGUGGCGGCCUGUGGUCUGGC\n",
      "secuencia RNA  ACCCGCCGUGUGUCUCCCGUGAUAACAUUCUCCGGUAUUCGCAGUUUGCAUCGUGUUGGUAAGUCGGGAUGACCCCCUUGCCGAAACAGUGCUCUACCCCC\n",
      "secuencia RNA  UUUACAUGCUGAAUAUUUUUACUGACAUUAAACAAUCCAGUCAGACAAUUACCAUCAGCGUUACUUCUUGGAAUACGCAUUACGGAUGAAUUAAUCGUAUC\n",
      "secuencia RNA  AGCCAUCGGCAGGAGGUUAAGACCCUUCCUUACGGUUUCACGUACUCGAUAGCAUUAACAUACCAGCUCGCUUCCCCGGCAGGGGUAUUCACCACCGCCAG\n",
      "secuencia RNA  CUGGGCCAUCGCACAGCAUUAAUGAGUCGUAUUGGUAAAGAUGCCGCAGGGCAAUUUAUUCUCGACCAUUGCCACAAAGAGAAUAUUGAUAUUCAAAUCCU\n",
      "secuencia RNA  UCGGGAUUUUAUUUAAUUGAAGCAAUUUAGUUUGCAUUUUUAUUUAAAAACUGAGCUAGAGUCCAUCAGAAAAAAUAUAUAAAGCCCAAACCACCGUUGGA\n",
      "secuencia RNA  AAAAAGGGGCCACUCAGGCCCCCUUUUCUGAAACUCGCAAGAAUUAGCGACGCAGACCCAGGCGCUCGAUGAGCUGGGUGUAACGUGCUACGUCUUUACGU\n",
      "secuencia RNA  GCCGUCUUACGUUUGAGCAAAUAAAAGUUAUAUAUCAAGAAGUGAAAACACACUUUGAAAAUUAUCGGAUUAUAUUUACCGGGUUACCGCAAGAUUUAUUG\n",
      "secuencia RNA  AUGACGCUGCCGGAUGAGCUGGUGGAAGCCGCGCGGAUCGACGGCGCAUCGCCAAUGCGCUUCUUUUGCGACAUCGUUUUUCCGCUCUCCAAAACUAAUCU\n",
      "secuencia RNA  AGAAGUUGUCCAGCGCAUGGACAACUUCUGCCAGCUUCACGAAAGCCUUAUUCUACCUUUUCGGCUGUCUCUUCUCUCGUACUGUUUAAGUAUUUGUUCCG\n",
      "secuencia RNA  CUCGUCAAAAGACCCCCGCAUGAGAAACAGGUGAAAAAUGAAAAUAAACCAGCCCGCCGUUGCAGGCACCCUUGAGUCUGGGGAUGUGAUGAUACGCAUCG\n",
      "secuencia RNA  CACCCAGCUCGACCAAGAACAAAGAGCAGCAACGCGAUCCGGAGAUGCAUCAGACCAAGAAAGGCAAUCAGUGGCACUUUGGCAUGAAGGCCCACAUUGGU\n",
      "secuencia RNA  GCCAGUUCCUGCGCCUGAUGAAUCGCGUUAUCAAUCGCUGCCUUAUGCGCUUUGUCUUUAUAGGCAUCCGGCUGCGCCACGCCCAGCGACACAGAACGAAU\n",
      "secuencia RNA  UAUUUACACCAUAUGUAACGUCGGUUUGACGAAGCAGCCGUUAUGCCUUAACCUGCGCCGCAGAUAUCACUCAUAAAGAUCGUCAGGACAGAAGAAAGCGU\n",
      "secuencia RNA  GUACCAACGAUAAGAAUCGGCAACGAGGCGUGAAUAUCAUGACGCAGGCGGAUCGCCACCACAAACACCGCCAGGUAGCAAAUCAAAAAGGUGGCGCUGGC\n",
      "secuencia RNA  GGUAAAGACAUCGCCCGAUUCACAUAACGGUCCGGCGACGACGGUUUCCACCGUUGGCGCGUGUUCCAGAGAACGACCAUCAGCUGCCAGGGCACUGAUAU\n",
      "secuencia RNA  CUCCACGCAGGGCGCUGUCGGUAGCCUGACGCAGGCUGUCAUCCGGGCUGGUCACGCUAUACAGAUAUUUUUCCGGAUUGGUGACGCGGUACUGCACGUUC\n",
      "secuencia RNA  AUAAUGCUCUCAGAAAUAUUGAUAUAGAUAGGCUUUCAUCAGUUACUUAUUUUAGUGCGGCACAUAAUCAACUAGAGUUUGUGCAAUUAGAAUCUUGCGAA\n",
      "secuencia RNA  GUUGGACUGGCGCAGCCAGGUUCGCCUAAGCUUAUCAACUCCUUGCUGGAGAACGGUUAUCUGCCGGUGGUCAGCUCCAUUGGCGUAACAGACGAAGGGCA\n",
      "secuencia RNA  UGGCACUUCUGCAUCCGGCGCAAUAUACAGCCCUGGCUCUACGGUCAGUACCAUGCCCGGUUCCAGAAUGCGCGAGCGAUCCUGACCAUAAACACCCACGU\n",
      "secuencia RNA  UAUCAUCUAAAAAACCAGAAAAACAAAUAACAUCAUGUUUUUAAACUAAUUAAAUGAAAUAAAAUUUUAAGCCACUCGCCAUUGUUCACAAUAAAAUAAAC\n",
      "secuencia RNA  AAUUCAGCAAAAUUUAAUAUUCGUUCAACUAGCCGUCUCACAUAUGACAUUAUUAGUCAACUCCAUUUGCCACAAAAUGGCUAUUUCAUGGAGCGCAGUAA\n",
      "secuencia RNA  GGCUCAAGGACCGGACUUCAUCAAUUGGUGCUUCUUCCCGAACCCAGCGUGUGAUGAAAAUUAACUCAGACAUGGACUCUACUGAGAGACCGUACAAGAGA\n",
      "secuencia RNA  UGACGCUCAAGCAGUUGUGCCUCUUUGAUGGUGAAAUCACCAUGACGAGAGAAUCCACGUGGAUAAUGUUUAUUGUCGAAAUAUCGAUUAGUCGUCGUAAA\n",
      "secuencia RNA  AGUUAAUCUCCGAUUUGCAUCCGCAGCUAAAAGGCAUCGUUGAUCUGCCGUUGCAGCCGAUGUCGGAUAUCAGCGAGUUUAGCCCAGGGGUGGACGUAGUG\n",
      "secuencia RNA  GAGUAUGAUGCGUUUAUUACCAACCAGUUACGUGCGGCGCAGACGCAAAGUAGCGGUCUGACUGCCCGCUAUGAGCAGAUGUCGAAAAUCGACAAUAUGCU\n",
      "secuencia RNA  AAUGCUGAUGAUCCACUGGUUACCCAGCGGCGGCAGCAUACGACGCAGUGCCAGCGGUAAAAUGACGUAGCGAAUGGUUUCCCAACGUGAAAGACCGAGCG\n",
      "secuencia RNA  GCUUGUCACGCAUCACGCGGGUCAUGCCUUCGCGAACGGGCGUGCGUACGGUGGAGAGUUUCCAUGCUGGUAACAACCACGCAUUGAACGCCGCACAUAGC\n",
      "secuencia RNA  CCGAACCGUAGGCCGGAUAAGGCGUUCACGCCGCAUCCGGCAGUUGGCGCACAAUGCCUGAUGCGACGCUUGUCGCGUCUUAUCAUGCCUACAAGUCUGUG\n",
      "secuencia RNA  CUUGCAUGUGUUAGGCCUGCCGCCAGCGUUCAAUCUGAGCCAUGAUCAAACUCUUCAAUUUAAAAGUUUGACGCUCAAAGAAUUAAACUUCGUAAUGAAUU\n",
      "secuencia RNA  CCGAAAUGCACCGAUAAUUUAUCUACAUUUAAUAACGCCAUCUCGAACCUCUUACUGCUUCAGUUUGGGAUCGAGCGCGUCACGCAGACCGUCACCCAUCA\n",
      "secuencia RNA  UGCGCUUGAUAACCCCUUCAUCGGGUGUUACCAGCCCGAGCACUACCCGUACCAGUGUCGACUUACCUGCGCCAUUUGGCCCAAGUAAAGUCAAAAUUUUU\n",
      "secuencia RNA  AUAGGUUUACCUUUUGCCCUUGCAGUCAACGUAUUUCUCCCCUUAUUAUUUACAAAUUCCCUUUCUUCAGUGUUCUCUGCAUUGGGAAGCAUAUAUCUUAA\n",
      "secuencia RNA  GCCUUUUCGCCAUUCUGUUGGCUCGGUUAUUAGCAUCAACAGCUUUGUAAUAGCGUCUGCCCCGAUUACGCUGAACUUCACGUGAGAUCGUCGAAGGACUG\n",
      "secuencia RNA  AACAGGCCGGUUCUCUUUUCAGACUUUUGCCCUCUACGCCCCGUUCAUCCAUGCUGAUAGCAUCGACAUUUUGCCGAAGCGACCAUCAUGCCAACCGUUAU\n",
      "secuencia RNA  UACCGCAGGCCCCGCUGGCGGUUACCGGCGAGACUGAAAAAACCGGCACCAUGGUGCGUUUCUGGCCCAGCCUCGAAACCUUCACCAAUGUGACCGAGUUC\n",
      "secuencia RNA  AUUCCGUUACCAACGAGUAGGUGAUGCCCCCUUAUAGGUCCUGGGUGUGGGAGUUUUUUAUCCUUUUAGCCACCUUGACGAGGAACAAAAAGCCCCAAAUU\n",
      "secuencia RNA  UGUUCCGCACAUCCGCUGGUGCUGGAAGCUGCAAUCCGCUACGCCAGUGCAAACCAAACGCCGUUACUGAUUGAAGCAACCUCCAAUCAGGUAGACCAGUU\n",
      "secuencia RNA  GCCGGAACAGCGCGUUCCGCCUGCGGGAAGCUCUGAUACAGCACUUUGCCAUCUUCCGCGAUUACCGAACGCAGCGCAGAAAGCGGUGCACGGUUACCACC\n",
      "secuencia RNA  AGUUGUUAGGCGGGCCGCAGGCAGGAAUUAUUGUUGGUAAAAAAGAGAUGAUCGCCCGCCUGCAAAGCCACCCGCUGAAGCGUGCAUUACGCGCGGAUAAA\n",
      "secuencia RNA  GAGAUUUUCUUGUCAGCCAGCAGGAUGAACGGGCUUUCCAGUUCUACUGCGCCAGUUUCCGGCUUGUUGAUGAAGUAAGGAGACAGGUAGCCACGGUCGAA\n",
      "secuencia RNA  UAUUGGCUCCGAUUGAACAAAUAGGUCGGGGAGAAGCAGGGCGGAUUGAACUCGGCGUAGUGGGAACGGCAAUGUGGGGACGGAUGCGCCCGGUUAUGCGG\n",
      "secuencia RNA  GCGGAGUAUGCAAAAUAAACCCGCGAUCUUCAGCCAGCGGACCGCCGAGCAUAACCGGUUUAUCCAGACGGAUUGAUUCAUCACGCGGCUCCGGCGUGAUC\n",
      "secuencia RNA  GUUGCCCUUCUCACCUGCCUUUCGUCAUUACCGACGGUAUUGAAUUUCGUUUUCCCCGUUGGGGUUCUCCGGACAAGGAGUUGUUUGUUAUGCCACGUUUU\n",
      "secuencia RNA  UCUCAGGCGGCUUUUUCAUCACUGCGAGUAGAGCUAAACUCGCAAAAGUGGUAUAACAAAUAUAGUCUGCCGUAUCAUGCCUGGAGCGCAUAUGGAAAUCA\n",
      "secuencia RNA  UUCCAUUAAAUGAUCUUUCGUUAAAAACUCAGCCGGUUCAAUUAAAUAAAGUCACAUCUAAUACUGAAUCUACGAUAAAACAACAUGAGUUAGUAUCUGAU\n",
      "secuencia RNA  GCUUUCAGCGCAUCCAUAGAUCCCGUAGUACGGCGGCGGGCGGUAUCCAGUUCGUUGGCGGUAAUCGCCAUCACCGCGCUUUCUUUGACAUCCCAGCCACG\n",
      "secuencia RNA  UUUUGCCUGCCGCCCACUGGGAAAUGAGGGUGGUCUUUCCGUAGCCCGCAGGACUCGUGAUCAGCGCCAGCCGGAAGUUGUUCGCGCCGGAAAGUUUAGCC\n",
      "secuencia RNA  GCAGAUAGCGAAUUUUGUUCUGCCAGCGCUUGCGGACUUCUUCAUUGCGUUGCAGCAGCAACGUCGGCAAUAAAAUCAGAUCAUCGAAGUCGAGAACGUUA\n",
      "secuencia RNA  AAUGAGCGCGGAAGCCGCAGGUAUCGCUGUCUGCCUGAUUGAAUAUAGCCAUCACGCCUGCCUCACCGAAUGCGAUGCCAUGACGGAGCACUAUUACCGCC\n",
      "secuencia RNA  AUGUAAUCACCGUCAAGUGCCGAUGAAUCUCUAUCAGGAGUAAACCUGGACGAGAGUCAACGGU\n",
      "secuencia RNA  CCCUGUAUGGUGGUUCAGUUUUAACAAACCGUGAUUAUCAAUCUCUGGCUGCCGGCGUUGGUUUUAAUCUUAACUCAUUAGGUUCAUUAUCUUUUGAUGUC\n",
      "secuencia RNA  CCAGGUCACCGGCAUGGGGGAUAACCCUUCCCUGUCCGAACUGAUCGGUCCGGUAAAAGUGAUGUUGCAGGCCUACGACGAAGGCCGUCUGGACAAGCUUU\n",
      "secuencia RNA  GUGCUGCCGGUGGGCUUGGCGCGGCAAUGGUUCUGGAGGCGGAAUAAUGGAAAUGACAUCAGCGUUUACCCUUAAUGUUCGUCUGGACAACAUUGCCGUUA\n",
      "secuencia RNA  AUCAGUAGUAAUGGACCUACAAUUCAUACAUUAGCAUUUGCUCAGACUGAUAGGAAUACAACGACGAUUCUCAGACUAUCAACAUGUUUCAGUCAUAUGAA\n",
      "secuencia RNA  UGUUACACUAGUGUCAAACAGGUAGUUAACACAACAACGCCUGGUAAAGGCUUUGUCACCACGCUUAUCGAUCAUCCCGGCAAC\n",
      "secuencia RNA  CUGCCAGUGUGAAGCCCUGUGGACGCCAGCGAAAAUUAUCGACGAUGCUGUAGCUCGCAUCCGCGAGCAGGUAGGCGACGAUAAAGUCAUCCUCGGCCUCU\n",
      "secuencia RNA  GUCGGAUGCCUUCUCACGGUCUUCGGCGAAAUUUCCUGAACCACCACGAUGUUCGGCCAUGUUAUUUCUCCCUUUGCGUUGCAUUGUUUCAUUAAUAUGAG\n",
      "secuencia RNA  GAUGCCGUAAUAAAUUGCAGGUAGGCAUCGGAAAUACUGCUCACCCCUUGCCAGAUCCCCACCUCAUCCCAGCUAUACUGCGCCGCCAGCAGUUUACGCAU\n",
      "secuencia RNA  UUCGCCGCUGGAAAGAAUAUCUCCCCAGCGAUCGUGGUCAUGAAUACGCGCAGCCAAUUUCCCAAGACCAACCUGAUGCAGUACUUCGCUCAACGAUUUAU\n",
      "secuencia RNA  CCUUCUGGAAAUCAGGAACCCCGCCGCGAUCCUGAAUUAAAACGUAAAGCCUGGCUGGCGGUUUUUCUUGGUUCUGCACUUUUCUGGGUGGUUGUCGCACU\n",
      "secuencia RNA  CACGGUGAAGAAGGUUUACAGGCGGCAAAACGUAUUACCGAAUGCCUGUUCAGCGGUUCUUUGAGUGCGCUGAGUGAAGCGGACUUCGAACAGCUGGCGCA\n",
      "secuencia RNA  CGUUCUUGGCUUAACCGGUCUGGUUAUCCGUCGCAAUCUGCUGUUUAUGUUGAUUGGUCUGGAAAUCAUGAUUAACGCCUCCGCGCUGGCCUUCGUGGUCG\n",
      "secuencia RNA  GCCAGACGGCCUUAUGGGAAGGGAAUCGGGUUACUUUUGGGAGAAGCGA\n",
      "secuencia RNA  AAAGAUUCUGGUGUUAAGCGAGUUGGCUCUGCGUGGCGAAUCGAUCCUUGCAUCGCUGGCGGCAGCAUGUGCGGUCAGCCGCGGGACUGCCGCAUUAUUGA\n",
      "secuencia RNA  AUACUGAUUAAUUACGCCAGUACGAUAAUAUUUUGCUGUUCCGAGCACCACACCGACCUGGCGGUAGGGGAGAUCCUGCAAUUCGUCGUAGAUAUAAGGCG\n",
      "secuencia RNA  AGUCCAGCGCCUUUUUUAGCGGUCGCAGUGCUGUUGCCCCGGUAGAUCUCAUUUUGCUGAAAGAUUGCCUGUGGUAUGACGCGCAAAGCCUGAAUUUGAUA\n",
      "secuencia RNA  AGAAAGCCCGGGAUCUGAUCGACGAUGCCCGUCAGUCGCUGAAACAACUGGCUGAACAGUCACUCGAUACCUCGGCACUGGAAGCGCUAGCGGACUACAUC\n",
      "secuencia RNA  AACUCCAGGAAUUUGCUGAUAUUCCGCCUUCAGAGGGUUUGCUAUGAUCAGCGGUUACUGUGAUGUGCUUAAUGAUGCUCAAGUUAAACUCCACGCUUGCC\n",
      "secuencia RNA  CACCAGCGCAGUGGUUUUAGCAUUAAGUUCAAGCAUAAUGACUCCUGAAAAAACAAAAUCGUGCCUCACACCUUAAUGCGAUUAGCCGAUGGCGGAACGAC\n",
      "secuencia RNA  ACAUGCUGAUAGCUGUAAUUCCAGACAUCUUCCAGCGCCUUCAGGUUCUGCUGAAUGUUUGGAUACUCG\n",
      "secuencia RNA  GAUCGUGAUGCCUGAAUCGUUGAUGGUCAUACGUUCUUCCUCGACGCUGCGUAAGCAUUGGGAAUGGAUGACGUUCUCCGCAGAUAGCGUAUCUUCGGUAC\n",
      "secuencia RNA  GACAGCGUUGUCCUCGCGGCUUUUACCCGGUCAAAACAGCGUUACGGUGCCCCACGCCUGACGGAUGAACUGCGUGCUCAGGGUUACCCCUUUAACGUAAA\n",
      "secuencia RNA  GCUUUUAUAACGAGAUCGCUGUAAAAACCGUUUUGUGCCAUGUAACUGGCGUACAUUCCCAUGUAGUCUGAACGUGCGGUACCGUCGCCUCCGCUAUAGUC\n",
      "secuencia RNA  UGCAGGCUAAAAUGAAAAAGCUGCAGUCCAUGAAAGCGGGCAGCGAUCGCACUAAGCUGGAAAAAGACGUGAUGGCUCAGCGCCAGACUUUUGCUCAGAAA\n",
      "secuencia RNA  CUAUUUAGGAAAAUUUUCGGGUUUAAUGCGUGUCAGCUCUUAUUUGCCUGAACUGAAUGUUUUUUCUGAAAAUACCCUCUGAAUAGACAUGCAAAGACUUU\n",
      "secuencia RNA  AGAAUCCUUAAACAUCACGCUACAUUCUCCUCUGGUAGUAAUCCAACAGUCUGUCUGUAACAGAAUCUCGCUGUACGCAUGAGAAAUCAUGAUUGCAUUUA\n",
      "secuencia RNA  AAGAAAACCCUUAAGUCUGUGCGACACAGGCUUAAGGGUUUCUACCCCAUCCGGCGCUUAUCUCCGGCACUCUCAGUGGCUUAGCUCUUGAAGGGGCGAUA\n",
      "secuencia RNA  AUCGUUGCGCCAACUGUUAACUGUCCAACUACUUACCCUAGCGUCCCGGCAACAAUUACUCGACUGCAUGGUGGCUGCCAAAGUUCCAGGACUACUUCUGC\n",
      "secuencia RNA  AUCAAAACGCCGUCGUUAAUCACCAACGGCGGGGACGUCUGCCAGUCAAAUGCCUGGCAAAUUAUUCUUUCUCGGCAAUGUACGGAUCCUCAUAGCCCAGA\n",
      "secuencia RNA  GGGCUGAACAGCAGCCAGGGAGAGAGUAUGGCGAUGAUGGAUAUACCCACCAUCGCCACCACGGCACCCGGCACGGGUUCGAGGAUCAGUCCAACGAUCAC\n",
      "secuencia RNA  CUUCCCACAUCGUUUCCCACUUAACCAUGACUUUGGGACCUUAGCUGGCGGUCUGGGUUGUUUCCCUCUUCACGACGGACGUUAGCACCCGCCGUGUGUCU\n",
      "secuencia RNA  UUUUUCGCGAAAAGAUGCCCGCGAUGCAAAUGGCCUUGCUGGAACGCCGCGAACUUGAUGCCGGGAUCUGGCGAAUGGCGACAGAACCACCGACUGGUUUU\n",
      "secuencia RNA  CGGAUGCGUGGUCACGCCCGGAUAUCCCACUGCACGCGCUGGCGAUGCUGAAAAACGCCCGUGAAGGUAUUGAGCCAGACCAGCCUGGUGUUGUUGGUCCG\n",
      "secuencia RNA  UAUUAUUAAGUUUGACGGUUUUUAAAAGACGUCCAUUGUGGGUAACCAGCAUGGCGUUAUCCUGGGAUAACCAUUUGCUUUGUUCUUGUUCUAUAUAUCCC\n",
      "secuencia RNA  AACGAGAGGGAGCAGGCGCAUAAAUGUUUCCUUACUGGUUUUUUUCUAAGUGUAGAUGACAGCAAGGAAAAGCGGAGAAAAGGUCCGAAAAUUCGGACCCG\n",
      "secuencia RNA  AGGCUCCAUAAGAAUUUCACGGAAUAAAAUUCCUUUAUAAAAAGGUGCAGGGUUAUGACAAUACACAUAUCUUUUUUUAGUGACGACAUUGGCCGUAAUAU\n",
      "secuencia RNA  UUAAUCAUCGGCAUCAUCUCAUUUCCUCGUCACAGUCUUAAUCGUUAACGGAAGCCCGUUGCCGCCCGCGCUCCAUAACGCGACAUCCGGGAAAUGUCUGG\n",
      "secuencia RNA  GCCAUUUUCCUCUGGCUAUGGUUUAAGGAUUUGCCCAUUACGACCAAGCAGCUCUAUCAGCGCCUGAAAGCACGCGGCGUGCUGAUGGUGCCGGGGCACAA\n",
      "secuencia RNA  CACCAACAUGGAUUCUAUUUGGCGAUGAAGACAAGCAACCAACACCACCUGUUGAGAAGCCAGUUGCCUUAUCCCCCAAAGAACUAGAGCUCCUUGAGCUG\n",
      "secuencia RNA  CCUGACACCGGUAUAUAACCCUGCUCGGAACGCUGCAUCCCGAUGGUCCCGCCCGUGUAGGCAACGUAAAUUGAUUUCUUUUGCAUGAUAUUGAUAUGAAU\n",
      "secuencia RNA  UAGACAUGCCCGCAGAACAAAACAGAUAAAUGUGUUUCUUUUCCAUAAAACUGCCCUCAUCGACGAUUAUCUGUCAGCCAGACACUCCGCAAGCCUUAACC\n",
      "secuencia RNA  CGAAGAGUGGUUUUCGUUCGUCGGUGAACAGGAUCUGCCGCUGGCCGAUCUCGAUGUGAUCCUGAUGCGUAAAGACCCGCCGUUUGAUACCGAGUUUAUCU\n",
      "secuencia RNA  AAAUUAACUUGUUCUCCGUCUUGAUCCGGCAAGCUAAAUUUCGGUGCGAUAUCACCGGCUUUCAGUGGAUUCAUUACUUAACUCCAUCCUGUUCAUCAUGU\n",
      "secuencia RNA  AACAGCCUGCUGGCAGAGCUGGAAUCCUGGGGCGUUAACACCCGUUACACCAAACGGUAUAACCAGGCGAAAUCUUCGCAAUCCGCCAUCAUGGUGGAUAC\n",
      "secuencia RNA  UUUUUCUCCGUCUCUUCCGGCACCGCCACGGUGGCAGGUUUUGGCGGAUGAGACGGGCUGAUUUUAUUUAACGGCGACAGCCCACCACCGUUAAAAAUCGA\n",
      "secuencia RNA  AGAGCUGGACCAGGAGAUUGCUGUUUUCUGUCAGAAAAAUGACUAAAUAGCGGCUCCCACAAUGUUCAAAUGUGGGAGCUAUUUACCAGCACAUCUUACAU\n",
      "secuencia RNA  CAUCGUACUUUUUGAACGGCUGGGCGUAGGAGAACACCAACGGCCCCAAUGGGGACAUCCAUUGUAAUGCGAUACCCGCAGACAUACGGAUAUUGCUUGGA\n",
      "secuencia RNA  GACAAUGCGAUCGGUUUUAUUGAGAGUCAUGGAGAGUCCUUGUGCUCUGUAUGUUCUUCUCUACUUUACCCCGAUCGAUGCAUAACGCGGCAACUUUGUAG\n",
      "secuencia RNA  AAACGUAAUGUGGUUACCAUUAGUAAACGUCACACGAUAGCGCCCAUUAAGUACGCCGGGAUUUACUGCCGUCGUACUCUUUUCCGCUGUGAUUUUCUUCA\n",
      "secuencia RNA  AGAUCGAUAUCAUCAAUGCGCGAAGAGAGUUUCGCAGUGUAGUAGUAACGCAGGCUGUCUGCGUCAAAAUGAUUCAGCCAGGUGCUGGCUUUAAUAAAGGU\n",
      "secuencia RNA  GUGAAUUCUUUGCUUGAUGAUAUUAGUCGCGAUCGUGCGCAUCAGAUCCGCCAUGCGUUUGAUCGCGCCACCUUCGCCCUGAUCGACAAGCUGAAAAACGA\n",
      "secuencia RNA  AUAACCAUAUUUGCACCGCAGGCCAAUAACAAACGUUCAUCGGUGGCGCGCAGGCUAGCGGUAUUUUCCCGCACGAGGAUUUUCAUCGCACUACCGCGCU\n",
      "secuencia RNA  GUGGCUGUUUUUCCUCGUCAGCACGGUCGCCUUUGGCUUGCUGACUUAUAUGAUUGUCGGCGGCACUCGCGCCAAUAUCAUCAUCGCAUUCGCUAUCUUCC\n",
      "secuencia RNA  CUGACGCACGGCAAUCACCGCAGGCAAGCGAACCCGGCAACAACGCAACCCAUGUUCAGUACGCUGUUCGAGGGUGAUAAACAGCGCGUCGAGAGUGAAAC\n",
      "secuencia RNA  CUGGGCGUCAAAGUCAAAAACACCCCAUUGCCUCAUGCUGAAAUCAAUGUGAGCGCUGCGCAUGCCUUCUUGUAAUUCGGCAGACUUUACUGCUUCCAGUA\n",
      "secuencia RNA  GAAGUGACUUCAGCGGUGACGCUGAUCUUCCUCGCGCUAAUCUUUUUACCGCGCUAUCUGAAGCGCGGCAUUGCCACCAUCCCCGAUUUUCUGGAGGAACG\n",
      "secuencia RNA  UGCGCUAAAGCGUCGCUUCGAUUUUGAAACGGUUUUUCCGAUUAUGGAUUUCGCCCAGGAGUUGGAACUGGUCGCCAGUGCUUCGGCGCGUUUGCUGGCCC\n",
      "secuencia RNA  GAAAGUUUGAAUAAAAGGAUAGCGAGGGGAAUGAGUUGAGUUAUGUAAAGUCCGUAUCGGGCAGUGACUACCGCUUCCUUGUGCGGGGCGUGAUGCUUUAC\n",
      "secuencia RNA  UAAUUCACGUCCUGUUCCCACGCGUGACGCGCUCAGGUCAGGAAUGUGCGGUUCGCGAGCAGCCAGUUCCGCUUCGUCUACCAGCAGCGUCAGUUCGCCUG\n",
      "secuencia RNA  GAAAAUGCGCAAAUCAAGAAGCUGGGCAGUUGGCUGGCUGCCCAGCAGAUCACAGGUUUUGAACCUUAGUGUCCUUCGUGGCUGUAGUAAAAGACCGGUAA\n",
      "secuencia RNA  ACUGGAUCAAUUACAGAAGGCUUAGAUGGCGGAAAGGAUUCCGUAUUGGAUAGGGAUCAAUAAAUAAUGGUCUACAGAAAAAAAGGUUGUCACAUUAGACA\n",
      "secuencia RNA  UUCAAUAUUUGUCGAUGACAUGCGCCUGUACCUUGGCUCCGUAAUCAUUAAUCGGCUGCCAUUUCGCUGGCAGUCCGGUGAAAUCUGCUUGCGCUACGCCA\n",
      "secuencia RNA  UAUCCUGGCGCUGGGGCAGAACAUUGCCAAAACCAAAGCGAAGGGCAGAGGAAAAUCGCGCCCGAUUGUUGAGCCGGAUAAUGUGCCGAUGGAUAUGUCGC\n",
      "secuencia RNA  AUUAUCUGUUUGCUGAUAUCGUCGGUACUGGCGGUGACGGCAGCAACAGUAUCAAUAUUUCUACCGCCAGUGCGUUUGUCGCCGCGGCCUGUGGGCUGAAA\n",
      "secuencia RNA  AUAAAAAUCAUUAGGGGAUUCAUCAGCGCUUGGCAUAACGUGUCCUUACAUUCCUUAAAUCAAUAACAGGUUAGGGGGUAAUAACGCGGCCAGUUCGACGG\n",
      "secuencia RNA  AGUGGUCUGAUCAACGGUAACGUCAGAGAAUUCCAGCGUACCGUCCUGCGGGAACUUAAUGCCGUCACUGGUGAUCAGUGACACUUUGGCUUUGCCGUUCU\n",
      "secuencia RNA  UGAACGCAUCGCCAACGCCGGUAUUCGUUCCGUGAUGACUUUUGGCAUCUCUCACCAUACCCAUGAAACCGGCAGCGAUGCCUGGCGGCAAGAUGCACUGG\n",
      "secuencia RNA  AGCGCCGAGCAUAAUUACGCGUUUAGUACCCAGUACCUUGUCACCUAACCAGCCGCCGAUAGCGACCAGACCAUAAACCAGGGCACUAAAGGAAGAGAAAA\n",
      "secuencia RNA  UCGCCAAUCUGUCACUGCUCAUUCCUGGGCAGCCGGUUGGGGGCUACGAUACCGGUCCUGGUAACAUGCUGAUGGAUGCCUGGAUCUGGCGUCAGGCCGG\n",
      "secuencia RNA  CUCACGGGCACUCCAUCGCUUCUGCGGGGGGGAAUAAAGUCGCUUACCUUUAUCCUCGUUGUGCCUACGCUUACAGUUCAAAGACCUGCUAUACCAACCUC\n",
      "secuencia RNA  GGGCAGUUGGCGCUGACCGUGACUACAGUUUUCUGGUGAUGGAUUAUCUCCCACCUCGUCCGCUGGAUGCGCAUAGCGCAUUUAUUCUUGGUCAGCAAAUU\n",
      "secuencia RNA  CCGGAAUCGCAUCACUGAUCCCGCCAUCCAGGUAGUUAAUGCCUUCCAGCGACACUCCGCUACGAUAAAAGCCAGGUAUCGCACUGGAGGCGCGAAUCACA\n",
      "secuencia RNA  UUGUUGGCAAGGACGACGGCUUAAGUGAUAGCUGUCCGGCGCUUUCUGUGCAAUUUUUCCCUGGGAAAAAAUCGCUGGCGGAAGCGGUCAUCGCGAAAGCA\n",
      "secuencia RNA  CUUUUGGCGCGCUACGGUUAUGACGUUAAACCUGAUAUGACACCGCGCGAGCAGCGGCGCGUGAUUAUGGCAUUCCAGAUGCAUUUCCGCCCGACGUUAUA\n",
      "secuencia RNA  ACGCUCACAUUGGCGGCGACGUUGUAUCUCAUCAUUCACACCGGAAAAGGGCUGCUGAUCUUAACCUUACUGAACAGCCCGAUUGCCACCAUUUUCGGAU\n",
      "secuencia RNA  GUCCUUUUCAAAAAGGAUCUCAUGGUAAGCACCUUUAAUUACCAACGGCCGUCCUCCUUCGACAGGAUGGCCCGCGGCGGUGCGGAGUUCACAAAAACGGU\n",
      "secuencia RNA  GCCAAUCCAGUACAGCGUAUUGCCGCGCGGAUCUUGCUGCGGGAUCACCUGAUCUGCCGGAUGUCGUGUACCGCAGCGCGUCACGCGAAUACCUUUGAUUU\n",
      "secuencia RNA  GUUCGGGUAGCAAAUCAUCCGAUACAGGAACGUAUUCCGGCUCCGUUUACACCGUGAAACGGGGGGAUACGCUAUAUCGUAUUUCGCGCACCACGGGAACC\n",
      "secuencia RNA  GGUAUAUUUUCGUGCGGCACAUGCCAGGCGACAGGGGCAGAAGUGACGAGUGAAUCUGUAUUUAACAUUCUUAAUUCCACGGGGGCAGCAACAGAUAAAAG\n",
      "secuencia RNA  GCAGAUAACCAGAGCGGAGAUACCGAUGCUGCUUUCGGCUCUGCUGGUAAAUUAUCGCCCGGUAUGCAGUAACGAAAUUUACCGCCCUGAUUUACGCGAAU\n",
      "secuencia RNA  AUUUCAGGCGCUAGUAAAGCUCACGGUACGACUUCGCCGCGACCUGCCAGCUAAAAUCAAUUGCCAUAGCCUGACGUUGCACAAACCGCCACAGUGAAGGA\n",
      "secuencia RNA  AUUCAUAACCUGUUUUUCCCAGAUAUUCAGCCGGAAUAAUGACGACUGGCAUCGCCAUAUCGAUACAGGUCACCGGGACAUCGUCAAAAUAAUCAAUCUGA\n",
      "secuencia RNA  UACGCGAAGCGGUCAAAACGUUAACGGCAAAAGGGAUGGUUUUACCGCGACCGCGAAUUGGUACUCGGGUCAUGCCACAAUCGAACUGGAAUUUUCUUGAU\n",
      "secuencia RNA  GCGUUUCUGCAUGAACGAAGAUCCACGCGGGUUUGAUUUCAGCCAGCGCGUUAAACCAGCGCUGUGGCCGGGCAAGCAUGAAAUGAAAGGACAAGGGAUGA\n",
      "secuencia RNA  AUCGAAAACAUCUUUGCCUGGCCGGGCGUCGGGCGCUAUGCGGUGUCGGCGAUUUUUAACCGUGACUAUCCGGUGAUCCAGUGCUUUACGCUGACGAUGGU\n",
      "secuencia RNA  CGCAUACCAGGAAGGGCGCUGGGAAACACUGCCCUUUCAGCGGGCCAUCAUGAAUGCGAUGGGCAGCGACUACAUCCGUGAGGUGAAUGUGGUGAAGUCUG\n",
      "secuencia RNA  GAAGGUAUCCGUCUGACCAUUGGCGUUUGCGCCGUUGCGCGUCAGGCCGCCGGGAUGAAUGCUGCUGUCAGGAUGAUAAAUAUUUACCGCGGGUAACGUCA\n",
      "secuencia RNA  CGCCGCGUCUUUCCCCAGUGGAUGGGAAUGUAACGCUGCCAGCACUUGCUCUGCCGCGUUGCGUUCAACAGCUAUUACUAGUUUGCCUUCGUUGGCAAAGU\n",
      "secuencia RNA  CAAUCAGUAUGAAGUACUUAGCAUGAUUGAAUGUUGGUCUGUUCACAGUUCGGUGACUCUGUUGGGCUAUCAAUGUUUAUCAUCAAGGGGGAAGUGUCUUU\n",
      "secuencia RNA  CAGUAUUUAGUGCAAUGGCAGGUAAGCUGGGCCGCUCCGUUUCGAAACGGUUGAUCAUGCUGGCAGCAAAAUGCUGUGCAUUGGCAGCGGAAGUUCCAUUA\n",
      "secuencia RNA  CUCGCCCUGACAUCCGGUACCUUACAGGCCUGGAUGACGGUCGAGAAUAUCGAUCUCAAAACCAUUGGUUUCUUCUCUCUGGUAGGCCAGGCUUACGUUUU\n",
      "secuencia RNA  ACCGCAGGCCCUGGAUUAGUCGGCGCGCUACUGGUUGGCGCGACCGUGGGGCGUUCUCUGGCGUUUGCCUGGGACGUUCCGGCGAUCCCUGUACACCAUAU\n",
      "secuencia RNA  CUUCGACAGCGACCACGGGGGCGCGAACGAUGACCGCCUGGACGCAGGUUAUCAUCUAUGCAGGCGAUCCGGUUCAUUAUCAUGGCAGUCGCGCUACCGAA\n",
      "secuencia RNA  UGGUUUUUGCCUGUCUCUAUCCCAGCAUGUUUAAUUCGCGCGUUGAGGAAGAGGAAAGGCUUUUUCGCGACUAGGAUGCAAUGGUUGAUAACCCUGCCGC\n",
      "secuencia RNA  GAUCCAGAACUCUGGCAACGUACUCUUCACGAUCGAGAUGCGACUGCAAUUUCAGUUUGCCCUUUUCGCUCAGUAAGGUCGUCUCACCGUGGCUGACAAAC\n",
      "secuencia RNA  UUUCGGCGCAUCAUCCUUCAGCAGUUUCAAUGCAGCUACGCCGUGGAAUGCGGCAAAAAUUACCACGCUGAUAAUUGACGUCGGAUUGGCUCCGGUAAGAU\n",
      "secuencia RNA  CUUCAGCGUAUCCAGCAUACCUUCCAGCGCGUUCUGUUCAAAUGCGCUCAGGGUACCGAUAGAUUUACGCUCUUCCACGCCGUUUUUACCCAGCAGCAGCG\n",
      "secuencia RNA  AAGAAGAAGCUGCAGCAGUGAAACAGGCGAUUGGUGACGCCCCUUUCCUGCUGGUGACCUCCGCAUCACAUCUGCCGCGGGCGAUGAUCUUUUUUCAGCAG\n",
      "secuencia RNA  GAUCAGGUUCUGUGGUUCGCCCACCAUGGUCAUUACGCCGCCUAAUGCGGUGCCGACACCGGCAUGCAUCAUCAGGCUACGCAGAAAGCCACGGAACUGUU\n",
      "secuencia RNA  GACCGCUAUCGCCAACGGCAUCGCGCACCACGGCGGCUUUGUGCCGUAUACGGCGACGUUCCUGAUGUUUGUUGAAUACGCCCGUAACGCCGCGCGGAUGG\n",
      "secuencia RNA  AAACAGGCCAGCGCAGUUGCCACUAUGUUUAUGGGGUUAACCCUGGCAAAUAUCGGUGGCGUGCCGGCGGCGACCUGGUUGGGUGAAACCAUCGGCUGGCG\n",
      "secuencia RNA  GAGUAAAUUGCUCGACACUCCACCGUAAAAUAGUCUCAAUCCGUUGCGCGAACAGUGC\n",
      "secuencia RNA  GACGAACAACAAUUACUCAAUGCCUGGCAGUAUGCAACCGCAGAAGGACAACCCGUUCUUAUUCUGGGUGAAGGAAGUAAUGUACUUUUUCUGGAGGACUA\n",
      "secuencia RNA  UUCGCUGCACGCGCGAGAGAAGACAAUUUUGGCGUUAUUGAAAUGCGCUUCGCGUCCGAGGUUAAAACCUUCGGCAAACGGCUUGGCAAACGCGACAUAGG\n",
      "secuencia RNA  AACUUGUUAAAGCCCUUCAGGACACUCUGAGUAUGUUCAGCAGUGAAUAACCAGCCGUCUUUCGAUGCGCCAUCAACCAGACGAUAGUUAUCACGCAAGUU\n",
      "secuencia RNA  GGUCUUUUACCGUUCUUUUCUUUUAUGGUGGAUUAGAAUUUUGAGUGUCAGCAGUAGGCUCAUCAUCACUAGAUGGCAUUUCUUCUUAGCAAAACAGGUUA\n",
      "secuencia RNA  GAAUUUCUGUAUUAUCUAGUUACGUGCGAUAACGAUCGCUGGCACCCAUAAUGGUCAGAUCAGCUUGACCUUGCAACUGGGCGGUCAGUCGUUAGCUAUAU\n",
      "secuencia RNA  UAUUACGGAGCAGGCGUUAAAACAGGUCUGUAUGACAACAAGUGGGUGCUUCACCCAACGUUGUGUCCAUGGUGUCUGAUGAGGCAUAAGCGACAUCUGUC\n",
      "secuencia RNA  UAUGCUUUGAGGCUGAAUGAUUUGUGCAAAAUAUAAUUAUUUUCCCAUCGAACAUGAGGUGUAUGUCAUAAGAUAAAAUGUUAACUAUGUAUUCCUCGCGG\n",
      "secuencia RNA  UCAGAGGGGGGAGAAAUCCUCCCUUACCCUUGUUCCUUUACUCUAGGUUGAAAAAACAACAGCGUCAAUAGGCCUGCCAUGUACGAAGCGAGAUCUGUGAA\n",
      "secuencia RNA  AUCAUCGCCCGUACUGAACAUAUGCUGUAAUCUCCUCGGCCCGUCGG\n",
      "secuencia RNA  GCCUGCUGGUGAGAUACGGUAGUUUUUAAAAUCAUCUGCACUUCGUAUUCUUGCUCCAGCUUACCUUCCCAGUAAUAGAGAGAGGUAGCGCCGGGGAUCAA\n",
      "secuencia RNA  UCGGCGUUAACGGAGGCAAUCACCCGCAUAGCGGUGACAGACGGUCGAAUCAAAUCUAAAGCUGGCAUGAUGCCUCCUUAUCGGGUCAUGUUGAUGCCGGA\n",
      "secuencia RNA  UUACACCUUUCCUGGUUGUUUUCUCGAUUGUUUUUUUUUUUGUUGGAUCUUUUAGUUAGUGUGUAUAAGUCGUUUGUUUCGUUAAGUGGCAGUUAUCAGAG\n",
      "secuencia RNA  CGCUGGAAGGCGUUAAAGCGCUGACAGACUUCAUGGUUGAGUUCGAACGCCGUCACGGUUAAUGCCGAAAUUUUGCUUAAUCCCCACAGCCAGCCUGUGGG\n",
      "secuencia RNA  UCUUUGUUACGCCUGAUGCGCUGCGCUUAUCAGGCCUACGGGUAAUGACUUGUAGGCCGGAUAAGGCGUUCACGCCGCAUCCGGCACUGGUUGCCUGAUGC\n",
      "secuencia RNA  CUCUUCUUCAAUCUGAUCUUUGGUGAAGGUAUACGGGGUAUAGUCUUCUUUAUCCAUAAAGACAUAUUCGUUGCCAUCGACAUAGGAGAAGUCAACGUAAC\n",
      "secuencia RNA  CGCCGAAUCCGCUGCACAAAGUACGAUUACGAUGCAAGCCCGCAAAGGCCGCGCCAGUUAUCUCGGUGAACGCAGUAUUGGUCACCAGGAUCCCGGCGCGA\n",
      "secuencia RNA  AGCUCCGCGACCAUCCGCAUCACGCCGUAAACCGCUGCCGCACCGCACAUAUCGUACUUCAUCUCAUCCAUGCCUUCUGAAGGCUUGAUCGAGAUACCGCC\n",
      "secuencia RNA  AAAGUUGGGCUAAAGCACCUGCCAGUAAGCCCUGCCAGAGUUUAAUUUUUGGAAAUACUUCAGCGACCACACAAUAACCGACAGCAAACACUAUCGAAAAG\n",
      "secuencia RNA  UUGAGGGGUCCAUUAAGAAUUCCAUGACAAGCUCCUGCUUAAGGAAUAGCUAUUCGACGCCAGAAAUAAUGCAGGCGUAACGACAAAAUGCAAACGAAAGG\n",
      "secuencia RNA  GCGGAAGUGUUCAGCGAAAAUCAGGACAUCGUGGUCGCCACGACCGGACGUCUGCUGCAAUACAUAAAAGAAGAGAACUUCGAUUGCCGCGCGGUUGAAAC\n",
      "secuencia RNA  AAAAGAUACAAAAACAAAACCCCACAACAUUUCUAAUUUGAAAGAAAACCUUUCAGAAUAUUGUAUAGUUACUCAGGCGGCAACAACUAUUUUUUCAGGUC\n",
      "secuencia RNA  GAUUCAAAAUCGCCCGGCGAAGAGACGGGGAAACCGACUUCCAUCACGUCAACACCCAUACGCUCAAGGGCCAGCGCAAUUUGCAGUUUUUCUUUCACACU\n",
      "secuencia RNA  UUUUAAUGCCUGGGUCUAUUACACCGAAUCCCCCUGGACGCGUGACGCGCGCUUUAGCGCUGACGUCGUUGCGAUCGCGCCGGACGUUUCUGGACUCAUUA\n",
      "secuencia RNA  GUGGUAUGCCUGAUUGUUACAAGAUUAAGCUCCGGUCUUCAGGCUAUCGCCUUGUAUACCAGGUUAUAGACGAGAAAGUUGUCGUUUUCGUGAUUUCUGUU\n",
      "secuencia RNA  UCAGCCAGACCUUCAUCUUCACGCAUGUUGUCGAAGUUACGGGUCAGGGCGCCAGUCGGGUCGCCGAUCAUCGCAUAUUUGAUUUUAGCGAUGGUUUCAGA\n",
      "secuencia RNA  AGUCUGCAGCAGACGCGGGUGAGCUGGGUAGCAACGGCAUUCUGCCAGACGUCGAAAGCCUGCGUAUUCCGGUACAGUAUCUGGCGAAUCUGCUGACCGCC\n",
      "secuencia RNA  CGACAAAUUCCAUGGUCGUGGGAAGCGUACGCUGCGGUUUUACGAUUUCAGCCAGUUGAUCCAGGCGAGGAUCAGGCAUUGGUACGACGCCUGUGUUCGGC\n",
      "secuencia RNA  AUGGACAAUAACGGCUUGCUGUGUCGAACGCUGUCGGCGUGGUUUCGCCACAAUGUGCCACCACGUGCCACGUCAAAGGCGUUGUUUACUCAUCGUAAGAC\n",
      "secuencia RNA  CGUAGCUCUUCGUCGCUGAAAACAUCGAACUGAUCGGGCUGCAUCCCGUCGAGCGUCAGUGCGCCGAUCAGGUUUUGCCCGGCAAACAAUGGCAGACCAAC\n",
      "secuencia RNA  CUAAAGCGCGUAAUAUCGACGUCCUGAUUGCCGAUACAGCCGGACGCCUGCAGAACAAAUCGCACCUGAUGGAAGAGUUGAAGAAAAUCGUCCGCGUGAUG\n",
      "secuencia RNA  UGAUGUAGCGAUUAUCAGCACCACUUACAUUCAGCAGACCGGGCUUUCUCCGGUGCACGACAGCGUAUUUAUUGAAGAUAAGAAUUCGCCGUAUGUGAAUA\n",
      "secuencia RNA  CGUAAGGAUACCAGCGGUAAACUGAUCCAGCUGAUGAACGAAACCGUUGACGGCGACUACCAGACCUUCAAAUCGAAAGAUGGUGCGUACGUUCGUGAACA\n",
      "secuencia RNA  GCAAAAUCACCAUCCCAAGGCUGAGCAAUCCGCACAAUAAAGGGAAUGGCGUCAGCAGUUGCCAGAAGCUGCCGAGAUACUCCACGCGUAAUUGCGGUGUG\n",
      "secuencia RNA  UGGUUAACGCACACUAACCGCUGAUUUACCCGGCGCAGUCUCUCCUGCGCCGGUGUAUUAACCUAUCUCCUGUAACGCGUGUCUCUGGCGUUCGACGAUAU\n",
      "secuencia RNA  UCCAGCACCGCCAGUACCGCCGAGGCGCGUGCCAGCUGCUGGUUAAGCAUUUUUUGCAGAUGCGGUUGCCCGGCUUCAUUUGGCCCGGGGGUAUCCAGUAA\n",
      "secuencia RNA  ACGUCAUAUCCUCCAAGCUGGAUGGUGCGAAUGCCGAGAUCUUGCGCCAGGCGCAUCUCGUUACUCAUGAUUUCCCGCGCCCGUUCGCGCACUGCAUCGUG\n",
      "secuencia RNA  GCUUCGUGAAAGCGGAUGGCAAGGUUACUGGAUUGACGCAGCAUCGUCUCUGCGCAUGAAAGAUGACGCCAUCAUCAUUCUUGACCCCGUCAAUCAGGACG\n",
      "secuencia RNA  AGCAUGUUAACCAUCAUUACGGUACUACUGGGUCGUGAACUCGGGCCGCUGAACAACCUGGCGCUGAUUCUACGUAUGCGUGAACCUAACUCGGCUUAACC\n",
      "secuencia RNA  AGAGGAGAUCAAAGAUGUGCCACUGACCGGAACAGCGUUUACAGCAUGUUGGAUAAAAGUAUCAAGUUUACUCAUUCGCUUCAGUCUGUUGUUAUUGUUGU\n",
      "secuencia RNA  GCGUUCUGGUACAUACCACUGGUCGCCAUCAGCGCGUUAAUUUGCCGCGCCUGCAUUGGCGUCACCACUGGUUCAUCAAUAUGAAUAGCUUUCCCCUGAUU\n",
      "secuencia RNA  CGUUGUCACUCGCUUAUAUCGCCAGUAUUGCGCGUAUUACCCGUGGCUCUAUGAUUGAAGUAUUACACUCCAAUUUUAUUCGUACUGCCCGGGCGAAAGGG\n",
      "secuencia RNA  AGGCAUUGGCGCGGCCAAACAUCAACCUCACUUAUUCUGCGUGUGCAGCAUAUAGUUCACAUCCACGCCGGGGCCGAGUUUAAAAGUAUUAGUGAUCGGGU\n",
      "secuencia RNA  CUGCGCAACCCGGCAAAACCCGUCUGCGAAAAUCACUGAAAUUGUGGCAGGUGGUGAUGAUGGGUCUGGCCUAUCUCACGCCGAUGACCGUAUUUGAUACU\n",
      "secuencia RNA  AGCGCAAUCAACAAACCAAUCAGCGAAAUAAAAUCUCGCAGAUAUUUUACCCAGAACUUCCCCUGAUCUUGCGGCGAGCGGUCCCAGACAUCGCGCGACUG\n",
      "secuencia RNA  CGCCCUGAAUGAUCAGUUUGAUCCGCACCCCGCGCCGUGCCGCUUUACGCAAGGCGUGUAAAAAUCGAUAGCCGGGGAAGAAGUAGGCGUUGGCGAUAAUC\n",
      "secuencia RNA  UCAGACGCGCUUCUUCGGUGUUGACGUGGUUAGAGUCAAGCGGCAGAACAUCUGCGCGGUUGAUGAUAGUCAGCGAGGACGCCAGCACUUCGAUUUCGCCG\n",
      "secuencia RNA  CGGCCAUCAAGAUGGAAUGUUUUCCCCGUGGUGGUUUCUUGGCCCAGAGCCGU\n",
      "secuencia RNA  AAUCGUACCCCAAACCGACACAGGUGGUCAGGUAGAGAAUACCAAGGCGCUUGAGAGAACUCGGGUGAAGGAACUAGGCAAAAUGGUGCCGUAACUUCGGG\n",
      "secuencia RNA  GGGCGAUUUUGUUGGUCGAGGCUGGUUUAAACGCUUUUACGUUAACCAACUGCGUUGGCAGCAUUUUCGCGCCCGGAUUGUUCGGAUAACGUUUCUGCCCG\n",
      "secuencia RNA  CGAUAAAGUGUUUCGCCGCUGCCUGAGACAUGAAGAAUACGCUCUUGAUAUUCAGGUUCAUGACAUCGUCCCAGUCCUUUUCGCUGAACUCGAGAGCAUCU\n",
      "secuencia RNA  UACAUUAGCCGACAAUUUUAAACAAAAAAGUGAAGUUUUAAAUACCUGGCGUGUUGGAAUGAAUGAUUUUGCCCGUAUUGCCGGGGGGCAGGAUAACAGAA\n",
      "secuencia RNA  CGCGCACCCAGCUCCAGUGUCAGAAAAUGGAUGCCAACUAACAGGAUGCCGCGUUUUUGCGCCUGCACGUCACGAAUGUGUUCCAUGCCGAUCACUUCCGU\n",
      "secuencia RNA  GUUGAAGAUGCCCUGCACGCGACCCGUGCUGCGGUAGAAGAAGGCGUGGUUGCUGGUGGUGGUGUUGCGCUGAUCCGCGUAGCGUCUAAACUGGCUGACCU\n",
      "secuencia RNA  CAUCACUGAUAUGUGGCAAGUAAAAAGACGUGGGUCGGUAGAGCUGAAAAAUGCGAAGAGAAGUUAUGCAAGAAAGAAAGAAUAGGG\n",
      "secuencia RNA  AUAUGGGUACCGUUUGGGAUACAAACUGGGAUUCCAGCCAAUAUUCUGGAUAUCCGGACUAUAGUGAUCCAAGCAAUAUCCGUAUGUCUGCGGGUAUCGCA\n",
      "secuencia RNA  GGCAUCAUGUCAUAGUCGCGACUGCGCAUGCGGUUAGUGAUUUGCGAGUUAUCCACCUUGCGAAUGUCCAUGUUGAUACCCAGCCGUUGCAGGCUGUGCUG\n",
      "secuencia RNA  AGGACAAACUUGCCUUUAUGGCUGCGACAGCUGACGCGCAGUUGUUGAAUUAUGUCGCCUGGCCGCAGGCAACGCUUCACGGUGGACGAGGCGGAAAAGUU\n",
      "secuencia RNA  UUACCUUUGCCAUUGCGAUGGUGCUUGGCCCGAUCAUCACUCACAAACUUGGGCUGCACGCGCUGUUCUGGAUGAUCGCUAUUCUGGCAACGACCGGCAUU\n",
      "secuencia RNA  UCAUCAAGGAUCAACGUUUUCCCGUCACGCAGCCAGUUCCCUGACGUUCUGACCAUACCCCCUUCCCAGCGGCUGGUGAACUGGCGCAGCGCUACGCCCUG\n",
      "secuencia RNA  CUUGGCGUAGAUGUUAAAUUGCAAAAUCAGGAAUGGAAAACCUAUAUCGAUAGCCGUAACACCGGCAAUUUUGAUGUUAUCCGCGCCUCGUGGGUGGGGGA\n",
      "secuencia RNA  GAACAGGGAGUGAGUUAUGUCCAAAAAUGAACGAAUGGUGGGCAUCAGCCGCAGAACACUCGUUAAAUCUACCGCGAUAGGUUCUCUGGCGCUGGCUGCAG\n",
      "secuencia RNA  UGCGGGCGCUCUGCAAACCCCGACACUCAGUAUUUUUCUUACCGAUGAAGUACAUGCCCGUCCGGCGAUGGUGGGAUUCUUCUUUACCGGCAGCGCUGUCA\n",
      "secuencia RNA  UACCUGACGGGAAUUUACUGGCGACACCGACAGGUUCAUGCCUGGGCAAUCUCGAUCCGCAGCGGCUUUCCAAAGUCGCCGCGGAUGGCGAAUGGUUAAGU\n",
      "secuencia RNA  ACAAUCAUGAAUGUUUCAGCCUUAGUCAUUAUCGACUUUUGUUCGAGUGGAGUCCGCCGUGUCACUUUCGCUUUUGCUGCAGUGUCUUGUCCGAUUGCAGG\n",
      "secuencia RNA  CAGAGCUUCCAGACGAGACAGCUCGGCAGACAGUUUUUCGUCGGCUUCGUUACGCGCUGCAUCAAUCAAUGCACGGGCAGAUUUCUCGAUCUGCGCUUCAC\n",
      "secuencia RNA  AUCGGGUUAUGAAUGCAUAAAUCUUAUCAUAAUCAUUUAUGCGACGGGGUCUAUUUCCCAGCCGGUGCGGCAAUCAGUAAAGAGGCCUUGCGGGCAGCAUC\n",
      "secuencia RNA  ACCCAAUUGGCAUGUCGCUGGUAGAGCUGAAAGAGGUUGUUUGCCAUAAAGACAGCGUGAUUCUGAAGCUCGGCAGUCUGGAUCUGGUCGAUGGUACGCCG\n",
      "secuencia RNA  GACGGCAAUGCCUGGGUGCCAGACCAUAGCUGGGGUGGUUUCGAGGGCGGAAUUAACCGUUUCUAUGGCGGUUAUCGUACCAAUGAUGGCACCGAAAUCAU\n",
      "secuencia RNA  AGAUAAAGCUAGCAUGCCAACGGUAUACAGCGAGUCGCUCUUUGUGGAGGUGACGAUUACCUAACAAUCGGUCGAUUCGUUUGAUGUCAUGUUUUGUUCUC\n",
      "secuencia RNA  CUGAAAAUAAUAACGCCUGCUCUCUCUUUACAACCAAGGUCAACAUGAGUCUGUUUCCCGUUAUCGUGGUGUUUGGGCUGUCCUUCCCACCGAUAUUUUUU\n"
     ]
    },
    {
     "name": "stdout",
     "output_type": "stream",
     "text": [
      "secuencia RNA  AGCUUUUCUAACAUGCGCCGCCUGGCCUGGCAGAACGGUCAUUACUUUACAUUGCGUACUACCUUUAACCAGCCAGGACAUCUGGCAACGGUCGUGGCUUU\n",
      "secuencia RNA  CAUUACCUCCACGCCAGGCAAUCACCAGAUCGGGUUUCAGCGCGACAAUGCGUUCCAGAUUCAUCCCCUGCCAGGUGGAAACCUGCUCAAUCUUUUGCGC\n",
      "secuencia RNA  GUACUGGCUGGCGUGAAGGAGGCGAUUUGCAGGCUGGCGAUAUCGGCGCUGAGUACCAGCCCC\n",
      "secuencia RNA  UUAACAUAACCUUAAUAGACCCAACAUAAAGAAUAAUCUGAAUAGCUGCUCUAUUUAUUUCCGCUUGUUCAAGUUAAAUAUUUCCGCGCAUCGAUUAAAGA\n",
      "secuencia RNA  ACAGGCGCAAAUAGAGCGCCGCAAUCGUAAAGGUUUUGCCUGUGCCGGCAGAGGCUUCAAUCAGGCGCUCACCCUGUAAGGGCAAGCGCAAAGGAUCUAGU\n",
      "secuencia RNA  GGAGUUCAUGGUGUGUGCUUCGCCCAGUACACGCAGCUCUUCUUUGAUAACGGCAAUGGCUAACGGCGCUUUCUCAGAGAUGUGGUGCGCCAUUUGUAAGG\n",
      "secuencia RNA  UUUACCGGAUCAUGCGCCAGAAUGCGCUGUUGCUUGAGCGAAAACCUGCUGUACCGCCAUCGAAACGGGCACAUACAGGCAGAGUGGCCGUGAAAGAAAGC\n",
      "secuencia RNA  GUUUCCCCUACCAUGGGGGAGGGGGAUCAGCGUGGGAGAAAAAUUCGUCC\n",
      "secuencia RNA  GGAUCUCUCAGUGUUUGGUGUCAAAGCCUCUGGCAACUGGAAAGGGCCAGUUACUGAAAUCACCACGACUGAAUAUGAAAACGGCGAAGCGAAGAAAGUAA\n",
      "secuencia RNA  UCAACAAAGUGGAACUGGAAAACGUGCUGCUGCACAAACUGCCGGUGAAACGCCUGCAACUGGCUGAUGGCAGCACCGCCCUGGUGACCACCGUUUAUGAU\n",
      "secuencia RNA  GGCGAACUGGCGUGUUUCAUUAGCCCGGGAGCAUGAACCAUUAUCCGUCAGCCACUCCACUGGAGACGACGGAAGAUCGUUGCCGAAGCGGAGUUCCACC\n",
      "secuencia RNA  CUUGACGGAAUCGCGCCACUACCAGGAGAAUCUGUCCAAACUGGGC\n",
      "secuencia RNA  GUUCACCCGCUAUAGCGGUGAGCAAACGCAAAAAGCCGUCGCGGCGUAUGUUGAUAUCGCCAGACGUCAUGGCCUGGACCCUGCUCAGAUGGCGCUCGCGU\n",
      "secuencia RNA  UUCAGAUCUUCCAUCAACAGCGUAAUGCCGGAGUGGCGGGUUAAUUUUUUACCAAAAAAGGG\n",
      "secuencia RNA  CCGUAUCUACCUUACCCGAGCGGAUGGUGAAAAGACAGUCGGCAAGAAAAAGCUGCCGUUCUGGACGCGUAGUGGGCUGAUCCUUUCCGCUAUCGGCGUGG\n",
      "secuencia RNA  CGAUGCGCUGCUCCACACCUCAGCACAGCGAAUUGGCCUUUCUGCCACUGUGCGCUCAGCCAGCGAUGUGGCAGCAUUUCUUGGUGGCGAUCGCCCGGUUA\n",
      "secuencia RNA  CGUUACGUACCACGCACAGCCCGCCGCCAUCCUGAAUCACCUGAUUGACCGCCAGCGCCAUCUCUUCGGCACUGCGACCGAUCACCACAAUAUUAUGGCUG\n",
      "secuencia RNA  AACUUCAAAUAUCUGGAUAAGCAUUAUGUUUUCAAUGUUGGGGGCAAUGAAUUACGUGUUGUAGCAAUGGUCUUUUUUGAAUCGCAAAAGUGCUACAUACG\n",
      "secuencia RNA  AGCGAUAGCAAUGCGGUAAUGGUUUUCGUCUACCAGUUCAACGUUAUACGGAGGGUAGCCGCCAUUACUCUGGCUCUGGUUGUUUUCUAAGUGGUUAAACA\n",
      "secuencia RNA  GCAAAAGAUGCGGGAGUGAUGGCAGCUUUCUUGGCGUAAUAUUAAGCACAGGAUGCAUCAAUCAAAACCUGCGAAAAAGCGGUUAUUGAGAUGACGUUGUU\n",
      "secuencia RNA  AGUAUGAAUGUGACUAAAGAAGAGCGUGAUAAAUAGCGUCAGAAAGUACCCGGUUUACGUAACGUUUCUUUAACGGCACCGUAAUUCCAUCGC\n",
      "secuencia RNA  ACUGGGAGGCGCAAUUCUCUUGCACCAUUAACUAUGUUCAGUCCCUGCGCGAGUUGUACACCGAUGUCAUCGAAGAGUUUUACUGGGUUGCGCUCCCGCUU\n",
      "secuencia RNA  UACGCUCAACUUCUUCGACUCCUUUCAUUUCAGCAAAGCCUUUAAACAUAAAUUUGGUUAUGCGCCGUCAGCCGUGCUAAAGAAUACGGACCAGCACCCAA\n",
      "secuencia RNA  GGUUGCCACGGGGUUCUGGUAGUUUUGUGUAUUUUAGUUUGUUAACAUUCUGCUAAAUUAUCGUGGGCCAUCGGUCCAGAUAAGGGAGAUAUGAUGAAGCA\n",
      "secuencia RNA  AUGCUUUUAUCCCUUUUCACUAUCAUACCCUUUAUCCUUGCUGAAUCGAAGCAGCAGCAAGAUGAUUCUGAAGUUCAGGAAUUAUUUGCGCAAGGCCCGGC\n",
      "secuencia RNA  GGUGGAAUGGCUGCGUAAGCAGACCGAAGAAGAAGUACUGAAUCACCUGUUCGCGAAUGAAGAUUUCGAUCGCUAUUACCGCCAGACGCUUUUAGCGGUCA\n",
      "secuencia RNA  UCAUCCGCCCUAAACGCUCCACUCUUAAAAGCCGUUCCGAUGUUGAACUGGAACGUCAAUUCACCUUCAAACAUUCAGGUCAGAGCUGGUCCGGCGUGCCG\n",
      "secuencia RNA  UGUGGAUGUGGUAAGAGAAGUCCAGCGGCGUUGAUCCCGCAGGCAAAUCAACGACAUCACCUUUCGGCGUAAAGACGUACACCCGGUCGUCAAAGACCUGA\n",
      "secuencia RNA  CACCAUCAGCGUGGCGCGUCUGCAAGCGCCGGUGCGCUGGGGCGAUGAUGAAGCGCAAUUCAUCAUUAUGUUAACCCUGAACAAACACGCUGCGGGCGAUC\n",
      "secuencia RNA  UGAUGAUGACGUCAAAAGGAUCCGGAUAAAACAUGGUGAUUGCCUCGCAUAACGCGGUAUGAAAAUGGAUUGAAGCCCGGGCCGUGGAUUCUACUCAACUU\n",
      "secuencia RNA  UGGCGCAGAAGUUUAUUCAGUCGACCCUGCAUCUGGAUAUCCCGGAAGAUUACCAGGAACGUCUGCAAGCGGAGCCAUUUACUGACUGCGUGCCGAUGCUG\n",
      "secuencia RNA  GAAACCGCUUCGCCGGAAGUGAUGGCGGAUUGCCCGCGUCGUAUCAUUCUUCCGGUCAAUGAUGGUCGACUGAUUGCGGUUAACGCUGAAAACGGCAAACU\n",
      "secuencia RNA  GGAAACCAUCAACGGCCAGGCGUUCCGCCUGAUUGAUGAAAUCCGCCGUCAUGACAUGAAAGUGGGGCUGAUCCUUAACCCGGAGACGACAGUUGAGGCCA\n",
      "secuencia RNA  AAUGGGUGAAGAGUACAAACUCGACGGUGUUAAACCACCGAAGAAAGAGACCAUGGAACGCGUGAAAGGCAUUCUUGAGCAGUACGGUCAUAAGGUAAUGU\n",
      "secuencia RNA  UACGAACUGGCGGGCGAUAGUGCCUGGACGUUGACACAGUUAGCGGCAGAGCUGACCAAACAGAGCGGCAAACAGGUUACCUAUCAAAAUCUGAGCGAAGC\n",
      "secuencia RNA  AGGUACACAAUUUUUUAGCAUAAUUUUUAAUAACAGACACUCUAUGCCCGUGUGGGGUAAGAAAAAAAAAUAUGUUAUGAUUAUAACUUUUAUGCCUACUU\n",
      "secuencia RNA  GAUUUUGCUGCGGAACCGCUUUUACCGCCACUACACCCAAUGCCGGGAACACCAGCGAAAACCCGGCCCCCGCCAGUAAGACGCCGAUUUUCGCCAUCCAC\n",
      "secuencia RNA  ACCGGAUGUGUUUAUUCCUAUCGCGGAAGAACAUCAUUUAAUCGUGCCACUGACCCGCUAUGUGAUGGCAGAAACCAUUCGUCAGCGCCAUGUUUUCCCGA\n",
      "secuencia RNA  CCGAACGUUUUUUACAGCAAAAGCGGCUUGUUCCUUUACAGGGCUUUGAACUGGAUUCAUUAAGAAGCUGCCGGAUAGCACUUCUAUUUUGCCUACCCGUU\n",
      "secuencia RNA  UUACCAAAGUCGGUACGCGUCUGCAAAACGCCGUCUGGCAUUGCUACCAGACCAGAGCCAAACCCUUGCGGUAAUACGCGGGUAUCAGCGGGUAAGUUAAC\n",
      "secuencia RNA  CAGGCCUACAAGUUGAAUUGCAAUUUAUUGAAUUUGCACAUUUUUGUAGGCCGGAUAAGGCGUUUACGCCGCAUCCGGCAACAUAAAGCGCAAUUUGUCAG\n",
      "secuencia RNA  CUAUCAGUUCAGAAGCUGAAGCAGAAAGCGGAUCAGUUCCAGCAGCGCAAUUAACGCCCCUAGAACGAUGAUUGCUUUAUCAAUCACCCGGUUUCUCCAUG\n",
      "secuencia RNA  AAAUGACUGAGUCAGCCGAGAAGAAUUUCCCCGCUUAUUCGCACCUUCCCUAAGCAAACCUUAACAGCAGAGAAUUCCGAUAUUAGAUGUAAAUAUAUGUC\n",
      "secuencia RNA  CACCUGCAAAACGGCGGCAGCUGGCGUCACCUGGCGCUGGGCGUGGCUGGCUGGAUGCGUUACACCCAGGGCGUGGAUGAGCAGGGUAAUGCCAUUGACGU\n",
      "secuencia RNA  GAAAGAACACCACAAACUCCCCCCGUACAUGCUCCAGAUCUGGCAUCAUCCCAAGUCUGCAAUAAUCCCAUAGGGUCAAUUUGUUGUAGUGGAUUUAAAGG\n",
      "secuencia RNA  AAAGGGAGCAUAAGCGGGCGUCUUCAUCCAGCACUGGACUGACGGGGGGGAAGCGCAGCACACGGCAGUUUGGUGAUUGUUCACUUUCCACACCC\n",
      "secuencia RNA  CGUCGAUGAUAACGCAGGCCGUGCCAACCAACUGCUGUCGAUGAGUUAAUUGAAAGGAUACAUGACAAGUAUAAGUUGCCCGAUGCGCAAGUUUAUCGGGU\n",
      "secuencia RNA  GGUCCAAAAAGCCGACCGCCGCAAAAGAAACGUAUUAAAGUGAUUCUAUAGCCGCCGCGUAAUGCACCAAGCACUACCGCCCCCUUCGGGUGGUGCCACUU\n",
      "secuencia RNA  CCGAUUGUUAGGUAAUCGUCACCUCCACAAAGAGCGACUCGCUGUAUACCGUUGGCAUGCUAGCUUUAUCUGUUCGGGCAAUACGAUGCCCAUUGUACUUG\n",
      "secuencia RNA  CGUGUAGUGAAUAACAACAAAAGCGCACGGAUAUACCGUAUUGCCAUCAGUGCUAUUGAUAGCCCGGGCAGCAGUGAAUUGCGCACCCGACCGGUGGAUGG\n",
      "secuencia RNA  UUCUUCACCACUUCUUUUCAUCAGAAACUCUAUCAGCCCAUAAAUUCUAUUUUUUUUUUCCUAAAAUGGAUUCUUUUAUUACUUUUU\n",
      "secuencia RNA  CGCGCGGCUGGUUUGAAUUUACCGAAGCCUGGCUUCCCGCGCCAUCGCAAUGAAUAGCUGGUCCGGGUUAAUCGCAGGCGUUACCAUAACGCUUUUAUUGU\n",
      "secuencia RNA  CGAAUUUUGCUUGAGGCGACGUUGGGAUGAAUACGCGGAUUAAUUACACCGUUUUCCAUCAACAUUGGCCCUGACUGCACCGCAAACUGAAUCUCUUUACU\n",
      "secuencia RNA  AAAAUCUAACCUUCUGCGAAGGCGUAAAUCUCUGGCUACAAAAAAGGCAACGGCACUAUCAUUUUUUAACAAUGAAACAACAAAUUAACCUUGUUUCAUUU\n",
      "secuencia RNA  UGACGAUAGACUCAGCGGCCUCUGCACCCGCAGAACGUAAAAGAUCGACCUGCGUGGCGUCGCCGUAAUAAACUUUGUAGCCGUAUUUACGCAUCAGGUUA\n",
      "secuencia RNA  AACGAUCGGGUACUGUUUGGUCAGUUCUUCCAGGAAGUGAGUGAAUUCUUCAGAGGUGAACGCUUUGUUGCCUUCGCCAGCCAGAACGUAUUUACCAUCUU\n",
      "secuencia RNA  UAUACGCGUGACCCGGCGCGGGAAAUGUCGGGGCGCUCUCCCAAGUGACACACUUUCGAGAGGAUUCAGGAUGGGGCAAUCAUCGCAACCACAUGAGUUAG\n",
      "secuencia RNA  UUCAGUGAAUCCAGCGUUGGCUGAAUCGGUGAACCUUUGGCCGCAAUCAAACGAGAAUCUGCGGCGUACAGCUUGUCGGAGAAGGCAAUCUCCUGCUGACG\n",
      "secuencia RNA  AACGAUGUUUAUUGGCGGACUGCAAGGCGCAAAAUGGGAAAUUCCACAUCAGGAAAUCCAGAAUGCGACGAAAGCCUGCCACGGGCUAUUUCCCAAACGCC\n",
      "secuencia RNA  AUGCAGCGUGCUGAACUGGAAGAGAAACAGAGCGAGCAACAAACGCUGUUAUAUGAGCAGCGCGCCCAACAGGCGAAACUGACUCAGGCGCUGAACGAGCG\n",
      "secuencia RNA  AUAUUUCCCUUUAACCAUACGUCCAGCAUAUGUUCGCUUAACGAUUCACCGUUAAAAGGAUUAAUCAGCCAAAUUUCGCCAUCGGGACAUUCAAUGCGCAA\n",
      "secuencia RNA  CGCCAACGGAUGGUUCUGCAGCAUUAGCUAGCUGCCCUGCAUGCUGGUUUUCUUUGGCCACCAAGCAUUCCUCUCUUUAUUCGUCGGACCUCGCAUGCAGC\n",
      "secuencia RNA  UUCUCAGACUUUACGCCGACAGAAUACAGUACCAAAGGAAAGCCAAAUAUUAUCGUACUGACCAUGGAUGAUCUUGGUUAUGGACAACUUCCUUUUGAUAA\n",
      "secuencia RNA  AAUCGUCAGAAUAACCGCAAUCAGGGACGUACAGAUAAAAUCGAUAACGCCUGGGGUGAUAAAUUUGAGUUUAUAGUUUUCUAUAACAUAAUUAAUAAUGC\n",
      "secuencia RNA  CGGGGAUUUUCAGAUGGUUGGCAAACCCCCCUAAAUUCUAUACGUUUUUU\n",
      "secuencia RNA  AAAAAGCGCCGGGCGUACUGGCUGUCAUUACCGCCAGUAACGCCGGGGCACUCGGCAAAGGCGACAAAAACACCGCCAGGCUGUUAGGCGGCCCCACUAUU\n",
      "secuencia RNA  CAGAAGCUGGAUGAGGCGUUAUAUCACGGCGCGGUCCUGCGCGUGCGCCCGAAAGCGAUGACGGUGGCGGUGAUUAUCGCCGGUCUGCUGCCGAUUCUGUG\n",
      "secuencia RNA  ACAGAAGAAAUGUUAGCCCACUGGCAGUCAUCGCUGGUUCUGCUGGCGCGUGACGCAAAAGGCUUUGCUUCGGUCUGUUAUGACGACGAAGGGGCAAUCAA\n",
      "secuencia RNA  AAAGCUGAGCAGGGACGUUAAAACGUCACGGCCUUACGCAUCCGGUAACGCCGUGAAAAGACGGGCUUACCGGAAAAGUUUUAAUCUCCGUCGAGGGAGAG\n",
      "secuencia RNA  CGUCGGCUUUGUUUUUCAGUCAUUUAUGUUAAUUCCUACCCUUAACGCGCUGGAAAACGUCGAGCUUCCGGCUCUGCUGCGCGGUGAGAGUAGCGCGGAAA\n",
      "secuencia RNA  AACAACCUGGCUUUAUCAAUAAAGUCCCGUAUAACUUCCUGGAAGUGAAUAUGCAGGGCAUCCAGGUGUGGCAUUUGAGAGAAGUGGUUAAUACCACCUAU\n",
      "secuencia RNA  UUCUUUUGUCCUUCGGCAUAUCCUUUAAGGUAUAGACCGCGAUCCGCCUGUGAAUCGCUAAAUGCAUCGUCAUCUUUUAUGGCGCUGCCCGAUAUCGCAUC\n",
      "secuencia RNA  UGAUCACAUGCUGGUUAAUGCGGUGAUCCAUGAUCAGCAGCGAUCCUUUCGCCGGGAACAUGCGAAUGCGCAGAUCGGCAUAUUCGGCAAUGUGUUGCCCC\n",
      "secuencia RNA  GUUAGUGAAUCGAAGAACUCUAUAAGUGAGGAGAUGGUUUUGUGGAAGUCAAAGUUGGAGAGGAUGAGGCAGGAAUUUGGAAUUUGCAGUGAUGGAUUCUU\n",
      "secuencia RNA  GAUCUGAAUAAAGAAGCGAUUGCCAGUUACGACUGGGCGGAAAAUGCGCGUAAGGAUGAAGUAAAGUUUCAGUUGAGCCUGGCAUUUCCGCUGUGGCGUGG\n",
      "secuencia RNA  GAUUAUUUAGGACAAUUGAUGUGAUGGAAACACCUACACCAUCAAGAUAAUUAGCAUCGACACCAUAGGCAACAUUUAAACAUUCAGAAGUAUUUAUAUUA\n",
      "secuencia RNA  GUCUGAAGGUCUAUGUCGAACGGAACGUGUUCGACCCGGCGUUCGACACGGCAAUGCUCGUCAACGGCGCGCUCGCGACGACCGCGUCGUUCGGGCAGACC\n",
      "secuencia RNA  AUAACAUCAAACGAAUCGACCGAUUGUUAGGUAAUCGUCACCUCCACAAAGAGCGACUCGCUGUAUACCGUUGGCAUGCUAGCUUUAUCUGUUCGGGCAAU\n",
      "secuencia RNA  AUUAUUUCCCGGUUGGUUAGCCGGGAUCAUGCUCGCCUGUGCCGCGGGUCCGCUGGGUUCGUUUGUAGUCUGGCGUCGUAUGUCUUAUUUCGGUGAUACGC\n",
      "secuencia RNA  UUCCUUCUCCCUUGAGCCCAAAAAACCCCUAAACCCAAUACGUUAUUCAGAUGUAUAAUAAAUAUUAAAAA\n",
      "secuencia RNA  GAGCUGGAAACAGGAAAAUUUCAGGGCACAGCCACCAUUACCGUCAUCGUGCGGUAAAAGAAGACGUUGCGUUUUGAUUAACGCAACGCUUCGGCACUGUU\n",
      "secuencia RNA  ACUGAAUAACAGCGAGUCGCGAAUGCCGUUAGUGCCACUAUAACCACUGAUGUAAAUAAUGGCCUGUAGCAGAGUAGAGAAAAACCAAAAGUAGAGCAGUG\n",
      "secuencia RNA  UUUUUGUCGGCAAGGAAACAUCAUAUUUUAUUAUUACUGCCAAAAAAAGAAGGGAUAAAAAAGCAAAGGCACAUAGAUAAGGGAUAUACAUCCCCAGCAUU\n",
      "secuencia RNA  UCGCCAGCGCCUCCAGCACUUCUGCGCCGUUCUCAAACGUCGUACAGGUUAAACCUGCCCCAGCGAGCGCACGUUCAAGCACCCAACGGAUGGAACUAUCG\n",
      "secuencia RNA  CGGCGAAUUUAUGAUUCUGUUCGGCAGCUUCCAGGUUGUACCGGUGAUUACCGUUAUCUCUACCUUUGGGCUGGUCUUUGCAUCUGUUUAUUCGCUGGCG\n",
      "secuencia RNA  AACGCCCGCCCAUAAAUUGGGGCUGAUCUCCAGAUUGUCGCGCUUGCCGUUAUGUAACGCCGCCAUUCGCUGUUGCCCUACGGAAUCCGUCCGGGCGAAUG\n",
      "secuencia RNA  UCACCGACAAUCAAUGGCUGGAUGGCGCUGCAUGAAUCAGCAAGCGUAAACGGCAAAUCCUGUACUCCGGCACGAAAACGCGUAAUGAGUGCCGCCAGUUU\n",
      "secuencia RNA  CGACUGAAGAACGCCGCGCCGGAUAUUAUUGCAGCGCGAAAAUCUGCCACAACAACGCCUGCGCAGGUAUCGCGGGUCAUCAGUGACAGUGCUUCCGCGCA\n",
      "secuencia RNA  GACGAAUGGCAGCCACGGGUUCUGACUUGUAGCGCACUGGAAAAACGUGGAAUCGAUGAGAUCUGGCACGCCAUCAUCGACUUCAAAACCGCGCUAACUGC\n",
      "secuencia RNA  GUCUGGAAGAGAUCAUUCAGGCUCACGACGGUCAUAAUCUGAACGUACAGCUGGCGCGUGCGGCGGAUGCGCUACGUCUGCCGGACUGGGACGCGAAAAUC\n",
      "secuencia RNA  AACCAGCCGCCGGAAAGCGACGACAGCGCAACGUUAGGAUCUAACCCCAGUUGCGCCAGCACUUCGUUGAUGCGGUUUUCCAGCUGCCACAGGUUGUGGUG\n",
      "secuencia RNA  CGGGAAAAUGUACAGACAUUUACCCGUAAAAUAGCGAUGGUAAACGAUUUUGACAGCAGCUUUGGCUACCGCAAUCUGCGCAUCCAUAAGUCUGCCAUUUG\n",
      "secuencia RNA  AAAAGAUCGCGAAUCAACGCAUUUUUAUCGCUAUUUUGCAGCCAUAUGGCAUAAAGCGGCCGUGAAAGUGUUGUGCUAUCGACAACGGUAUGCAGGCCGCC\n",
      "secuencia RNA  ACUGUUGCCGACCUGUAGGCCGGAUAAGGCACUUGUGCCGCAUCCGGCAAUCAAUGCCUGAUGCGACGCUGUCGCGUCUUAUCAGGCCUACAACUAUUGCC\n",
      "secuencia RNA  AGGUGGGUAAAGCCCAUCCAUUUAGCAUAAGGCACCAGUUGAUCGGCCAGCUCGCGGUAGCUCAACCAGAAAUUGUUGUCGGUGUGGCUACGCCAGGAACC\n",
      "secuencia RNA  GGCAAUCUGACGACCGUAACGAUAACCCGCCAGGCGACGUGCUUCGCGAUCCACUUUCACGCGCAGCGGCUGCACCAUAUCACCAUGCAGGAUCUCCGCCG\n",
      "secuencia RNA  UGUCGAUAACGCCCCGGCAAUUAAGGUCUAUAAAAAAUACGGCUUUGAAAUUGAAGGGACUGGUAAGAAGUACGAAUUGCGUAAUGGUGAAUAUGUCGAUG\n",
      "secuencia RNA  CCUGCUGAUUUUGAUGCGCACAGUCGCCAAUCAGCACCAGAUAUCCGUGAUUUGCCGCCGUAACUUCGAUACCGCGAAUAAUUUCGCUAAAGAAGGGAUCG\n",
      "secuencia RNA  GAACCGCCGCCUGACCAGGCGGCGGUUUUUUUAUUACAGGCCGGAUAUAAUUAGUGCUGGAAAGCGGAACCUCCGCUGUAUUAAUUUAGUUACCCGCAUCA\n",
      "secuencia RNA  ACGGCGAAACAGCGAUAACGUAUCGGACACCACCCGAAUAAAAGGAGCCGACGAAGUAAAACCAAUGCGCAACUCCCCCGCUUCACCCUGAUGCAGCCUUU\n",
      "secuencia RNA  AGAAUCAGGAAACCGACAAAAUCGGCCAGCGUAUGGCAUGCCACUGCAACCAGUGCCAGCCCGGAGAGACAGAUGAGCACGACGGUAAUAAUGAGCGCCCG\n",
      "secuencia RNA  CCGACUGGGUCGCCUCGCUGGCGGUGAUAGUGCUGCUGCUGACGCUCAAUCUCGCCACCGUGAAAAUGUUCGGUGAGAUGGAGUUCUGGUUUGCGAUGAUC\n",
      "secuencia RNA  UGACAAGAACAAACUGAAAAACCCGCCACAAAGCCUGAAAGAACUGGUUGAGAGCGAUCAAAACUGGCGGGUGAUUUAUCAGGAUCCGCGCACCAGUACAC\n",
      "secuencia RNA  CAACUCUUCCGCUGCCGGUUGCUGCACUUCCAGUUGUUCACAGGUCAGCUCCAGUUCAACGUCGGUUUUAAUCGUCGCCAGCUGGUAUGAGAGAUAAGCAA\n",
      "secuencia RNA  GUGAAGUGCAGGAUAUUCCCGGUGUGCUGGCCGUGUUUGCUGAACGCCGUAAGGACAGUUUUGGUCCGUAUGUCCGGCUGAUGAGCGUCACCCUGAACUGA\n",
      "secuencia RNA  GAUAAUUUGUUGUGAACCUGCUUGCGUAAUCGGUUAAAAAGUGAACGCCUCUUUUUAUACUGUAAGGCUCAAAGCAGUACAGCUAGCCAAGCGA\n",
      "secuencia RNA  AGAAUGUUAUCACGGGAGACACACGGCGGGUGCUAACGUCCGUCGUGAAGAGGGAAACAACCCAGACCGCCAGCUAAGGUCCCAAAGUCAUGGUUAAGUGG\n",
      "secuencia RNA  GCCCUAUCCCGAAAAACGUGACACCGUCACCUUUAAAAUAACAACAACAACGCAAACACAACAACCGAGGAAUGCCCAUGAGUAUGUCAUCCAUACCGUCG\n",
      "secuencia RNA  CCUGACGGUAGAUCAUCUCUUUCCCUGCGACCGGCAGACGUUCAUCGAUGUAAUCCUGAUCCAGCUCGAUUUUGGUUUUCGUUGCCCGACCAAUCAGAUGC\n",
      "secuencia RNA  CGGUGCUCUCCUCUGACUUCAAGCAGUGCCCCACAGUCUGGAAUAGACGUAGAUGCUUGGGC\n",
      "secuencia RNA  AUGCGCAAAUUGCUGUGAUUGAGCAGUGCGUGCGCUACCGCUUCCGGCGUGGUGCCGAUAUCGAUAAACAGCGUCGAGCCAUUGGGGAUUUGCUCCGCCAC\n",
      "secuencia RNA  UUAAUCCCCAUCGUCCGUCGACCGCAACCGGGGUUGUUGCUGACUCAGCGUUCGAUUCAUCUGCGUAAACACGCUGGACAAGUGGCAUUCCCUGGAGGUGC\n",
      "secuencia RNA  GUCCAUUUCGCAGGCCACACCCGCGUAAUGGACCGGCACGAUAACGCGCGUUUUGUCGGUGAUCGCCGCUUCAAUCAGCGUUUCGUCGAUGUUCAUGGUGU\n",
      "secuencia RNA  AAUCGCGCAGCAGUUUCUCGCGCUGCACACGCGCGUUGUCCUGACGACCACUUAACACCAGCAGCAGAUUAUGCAGGCAAAGCACUUCCUGAUUGGUUGGG\n",
      "secuencia RNA  UACAGUGUUAACAGCAGUUGAGUACCAGUACCCGUUCACGUUUAUAACGAUUUUCGUUACUAUGGAUAAUUGUUGCUUCCUGACACUCAGUCUAACCGC\n",
      "secuencia RNA  UAUCGCUCAGUAACGCGCGAACGUGGUUGAUGCGCAUCGCGGUAAUGUACUGUUUCAUCGUCAAUUGCAUGACCCGCUGGAAUAUCCCCAUUGCAUAGUUG\n",
      "secuencia RNA  AUGCCGAUGGCCUUUAUGAGCGGUGCAACCGGGGAGAUCUACCGCCAGUUCUCCAUCACGCUGAUCUCCUCCAUGCUGCUUUCAGUAUUUGUGGCAAUGAG\n",
      "secuencia RNA  GUAUUCUGCGUACCACGCUGUUGUCCCUUCCGUGCUGAUAAGGGCCAGCGGCAGGCCGCGAUGGUCGCAGUGGUACAGGUGAAUUUUUCGCGCCGGCGUGU\n",
      "secuencia RNA  AGGCGUUUGUCUCGUUCCUUAUUCAGCCUUGUUGCGGUAACACACAUCAGGAGAGAGGAAUGAAAACAAUUGGUUUGCUGGGAGGAAUGAGCUGGGAAUCC\n",
      "secuencia RNA  CUGGCAGUGAUCGUCCCUGCUCUGUUAGUAGCAGGUACUGCAAACGCUGCAGAAAUCUAUAACAAAGAUGGCAACAAAGUAGAUCUGUACGGUAAAGCUG\n",
      "secuencia RNA  UCGCUGUUAGAAAACGCCUCGGAAGAUCUGGAGAACGACUCUGCCGUCGAUGCCCAAAUGCUGCUUGGUGUGAUUUACGCCAACGGCGUGGGCCUUAAGGC\n",
      "secuencia RNA  UGGUACGCAUAGAAGAUAUCGACCCGCCUCGUGAAGUUCCCGGUGCCGCAGAAACUAUCCUGCGCCAGCUGGAACAUUACGGUCUGCACUGGGACGGCGAU\n",
      "secuencia RNA  GGCUGUUUGUAUCAUCUCUAAGUUAUGCAGAAAACACGGAGAUCCCUUCUUAUGAAGAAGGGAUCUCGCUCUUUGAUGUUGAAGCCACUCUGCAACCAGAU\n",
      "secuencia RNA  CAGGCUGAAUUCCGGCAGGUCGUGCGGAAAAAACAGCCCCUGAUUUUUGCCCAACCCCUGGGUUACGGCUUGCGCAAAGCUGACCUGCUCGUUGUGAUCUU\n",
      "secuencia RNA  AUGGCUGCGCGGCACAAUAGGCUCCCAGCGGGCGGGUGGC\n",
      "secuencia RNA  AGAAAGCAGGGUAGCGUUAUCGCUACCCUGUUUUAGUUUUACACUGGCGUACCUGCAUAGAUAUCAAAGCGAUGCCCUUUAGUGACUACCGCGUUUGGCGU\n",
      "secuencia RNA  UGCUGAAAACCCGUGAACGCCAGAAGGGCAAAAACCAAUACCAGAAACUGGGCGAGAAGGGCGAGUUUCUUGAAGUUACCGAAUAUAACGCUCACUUGUGG\n",
      "secuencia RNA  UACAGUGCCAGGUAAAAUUGCCGUUGAGGUGGCUUAUGCGCUACCUGAGAAGCAGUACCUGCAGCGAGUGACGCUGCAGGAGGGCGCGACGGUUGAAGAAG\n",
      "secuencia RNA  GAUCCAGGCGGGUAAGAUUUGCCGGUUCUUGCUGAUACAGCAAUCGUGCCAGACGCAGAGCUUCAGCCUUGUUACGGGUCGCCACGCUGACAGCAUAACGC\n",
      "secuencia RNA  AGACAUCAACCCGCCGAUAAAACCAGCCGGGAACGCCAGUUUGCCACCGAUAGAGUUCGCCACAAAAGCAGCAAACAUCGGAAUGGCAAAACCAAACAACA\n",
      "secuencia RNA  AUCAUUAACUGAAUCCAUAGGUUAAUGAGGCGAACCGGGGGAACUGAAACAUCUAAGUACCCCGAGGAAAAGAAAUCAACCGAGAUUCCCCCAGUAGCGGC\n",
      "secuencia RNA  CGCUGAAAGAAUUAAAUAAUCCAGAGCAUGACAGCUACGCAAUGAGUGAAAAGAGUCAAGGCAGAGAAGAAAACCGUCUUCAUAUUGUUUGUGAUGCCCCU\n",
      "secuencia RNA  CAUCGAACAACGCAUUACUCAGGUUUGCCAGAGAUUGUGCGUUAUCGUUCACAUCACGUAACAGCACGCUCUGGUUCAGCAAAGUAAUGCCUACCCG\n",
      "secuencia RNA  CAUAUCCAUUCAUAGGGUAGAUUCUUAAGUCGCGUUUCUGGUGUUCAUUUUCGGGUGGUUUGUUACUUGUUUUACCGGGGAUAUGCCAGAAACGCGCUGAG\n",
      "secuencia RNA  GAGUCGCCCAUAUUCCUGCAUUCCCGACAGGCUCAGCAGGGAGUAGAAAGUACAGCGGUACUCCAUUAGCAAGCGUU\n",
      "secuencia RNA  AAAUCAUGGCUGGAUAACAAAGAAUUAUUACAAACAGCGAUAUCAGUUCUUAAAGACAACCAAAAUUUAAAUGGUAAAAUGUAAUAUAAUAAACUUACUUU\n",
      "secuencia RNA  AAAAGCUGGAUCGACAAAGAAGAAUAUCCGCAAUCCGCAGCCAUCGACGUGCGUUGCGUAAAUAUGGUUGCCGACCUGUGGCAUGUGCCUGCGCCGAAAAA\n",
      "secuencia RNA  UGGUGGCAAUCGCAGUCGGACCCGGAUGCGGUGGCAGGAAGCCGUGGGUCACAGACAGUGCAGCCGCCAUUGGUACACCAACAUACAGCAGUGGAAUAUUC\n",
      "secuencia RNA  UCAUUUGCUUUUCCAUCUCCUCCAGCGCCGUGCCGCCCGCAUCAUCGAGUGACAGGUGCGCCUCACUGACCUCUGUUACAUCACUUUGCUCCGUUGUGCCA\n",
      "secuencia RNA  GAAAACCUGGCCGGGCGAUGAAAAAGUGUGGGCCAAACUGGCGGUGGUGCACGACAAACAAGUGCAUAUGGCGAACCUGUGUGUCGCUGGCGGUUUCGCGG\n",
      "secuencia RNA  CGGUCGCCGUCGCGCAGCCGGGGCAGACGGUCAUGCCGUAGCCCACCGCACGGCGGAUCACUUCACUAUGGAUAUUGGGCGUAACGAUGAGCUGACAGCCC\n",
      "secuencia RNA  AUUGCUGCAAACCUGGAGUGAAGACGACUUCCGUCGGGUGCAGGAAAAUCUGAUUGGUCAUCUGGUGACUCAGAAAAGGCUAAAACUGCCGCCCACACUAU\n",
      "secuencia RNA  GCUGGGAUUGUUAUUUAAACCACACUAUCUGCUGCGCCAUCGCAACCCACGGUUGCUUUUUGAGUCGCUGCUCACGUUAGCCAUCACACUGACGUUAAGCU\n",
      "secuencia RNA  GCCGAUAUCGUGCAUCAGGCAUGACAUCUCAACAAUGCUUUCAAAGGGACCGGUCAGUUCAUCCAGGCCGUAUGCUUCCAGUAAUUUAAGCUCUUUCAGAC\n",
      "secuencia RNA  CGUUAAUGUCACUUUCAUGUUGGACUCUCGAAACAGAACAUCAGGCCCGAGAUGCGGGCCUGUGGGAUGCAUGAUUAGCCGUAGCGAAAAUCAAUACCGAA\n",
      "secuencia RNA  CCCAAUCGUAUUAUCAAAAUGAAAAAAAUUAUCGCAUUGAUGUUGUUUUUGACAUUCUUUGCCCACGCCAACGACUCCGAGCCUGGCAGCCAGUAUUUAAA\n",
      "secuencia RNA  GACAAAGAGUCUGACUUUCUCGCGUUUGUGAAUCUGUGGAAUUAUCUUGGCGAGCAGCAAAAAGCGCUUUCUUCCAACGCCUUCCGUCGCCUGUGUCGUAC\n",
      "secuencia RNA  AUGAUCGGUAAGCGACCGUUUAAUUCCAGUGACAAGCGGCGAAUAAUUUCGGUGCUUUUUAACUGAAGCGGACGACCACUUAAGCCACCGGUUUGAUCGCA\n",
      "secuencia RNA  CGCUUAACGCGGGCUUCUUCUUUCGCCAGCGCCAGUUUUUGUUUCUGAAUCUCUAAGCUGCGUAGCUCAUCUUCAUAACUUUGAUCGCGUUUUUUGUCCGC\n",
      "secuencia RNA  GGAUGCUGAAAUUGAGAACGAAAAGCUGCGCCGGGAAGUUGAAGAACUGCGGCAGGCCAGCGAGACAGAUCUCCAGCCAGGGACUAUUGAGUACGAACGCC\n",
      "secuencia RNA  CGCCAUAAUGCUGUCAAAGGCCGGGCUCUUAUAAUGCGCGGUAUUCAUCGAGCUGUUCGAAAGCAUGGUGUUCAGGAAGGAAGUUGGUUCGUUGUAGUCAG\n",
      "secuencia RNA  UGUGGACUCGCUGAUCGCAGAGCGCACCGGCAAGGUAAGAACCUUGAAACCGCAUCCACGCACGAACAAAAAGGCCAUCAACAUCGAAUACAUGACAGCCA\n",
      "secuencia RNA  GCCUGAAAGCCCCUGAUACGCGUAACGAAAAACUUAAUUCUCUGGAAGACGUACGCAAAGGCAGUGAAAAUUAUGCGCUGACCACUAAUCAGGGCGUGCGC\n",
      "secuencia RNA  CCAGAGCGAUUUGCGCGUCGUCCAGAGAACGCGGCAGUUGCGGUGCUUCCAGUUCAACAAUUUUCAGAUUUUUGGGGUUCUCAACAACAUCAAGAACGGUC\n",
      "secuencia RNA  UUAAAUGAUGGCUGCUUCUAAGCCAACAUCCUGGCUGUCUGGGCCUUCCCACAUCGUUUCCCACUUAACCAUGACUUUGGGACCUUAGCUGGCGGUCUGGG\n",
      "secuencia RNA  UCAGGAGCAGAAAAAGCAGGCUGAAGAAGCCGCAAAACAGGCCGAGUUAAAGCAGAAGCAAGCUGAAGAGGCGGCAGCGAAAGCGGCGGCAGAUGCUAAAG\n",
      "secuencia RNA  GUCGAUGCAAUUCGCACCCCGAUGGGCCGUUCGAAGGGCGGUGCUUUUCGUAACGUUCGUGCAGAAGAUCUCUCCGCUCAUUUAAUGCGUAGCCUGCUGGC\n",
      "secuencia RNA  AGUUGAGAGUUAUUGAUAUGUUGGAUGUAUUUACUCUAUUGUUGAAACUUUUUGCUAACGAGCCACUCGAAAGACUUAUGUAUACGAUUAUCAUUUUUGGU\n",
      "secuencia RNA  CAGCACUUCCGCUUGCGAAAUGUCGCCACCACCCGUUGCCAGGUAGUAACGGCUGAAAUCGCUGAUGCGCCAUUUGAUGUAAGAGUCGACGAUCAGGUCUU\n",
      "secuencia RNA  CCAGCGUUGGUUUGGUGUGAACCUGAUCGUUUCCCGUAAGAUGGUCGUAACGCUGGGUGCAGUGCUGAUGAUUGGCCCGGGUAUGAUCGGCCUGUUCACCA\n",
      "secuencia RNA  GAGGGUCAGACACGUCUGCAAACAAAACCAAUCUGGUAAGUCUGCUGCUUCUGGUGGAAUCAGCCCAAACGCACAUGAGAGCAUUUAUGGGCAACAAACG\n",
      "secuencia RNA  UGCGAGCCGGAACACCUUUUGUCAUAAGGGAUGCGGGAUAUGAGUGGCGCUUUUAACAACGAUGGUCGGGGCAUAUCUCCCUUAAUUGCAACCUCCUGGGA\n",
      "secuencia RNA  GCGCCAAGCUGAAACUGCUGGGCGUAGACGUAGGCGGUAUUGGUGAUGCGCACGGUCGCACGCCUGGCGCACGUAGCUACGUUUACCUCGACGAAAGUAAA\n",
      "secuencia RNA  AAUGGUUACAACAUCUGUACGCCAAAAUGCUUGCCAAAGAUCCGGCGUUACCGUCUUACGACGAACUGAAAAAAAUGGGUAUCUAUAAGCGUAAAGAUCGC\n",
      "secuencia RNA  GGUACUGCAGGCAAUUGUCUUGCUUCUAAGGUCUUACUCCUGUCGGAAUUGAUUGUUCAUCCGCCGCCCCGUAAAAUUAUGUCCUUGUUUAACCAUAGCC\n",
      "secuencia RNA  UACAUUCGUUCAACGAAAGUGGCCUCUGGCGAAGCGGGCGGCAUUACCCAGCACAUUGGUGCAUACCACGUUGAAACUGAAAACGGCAUGAUCACCUUCCU\n",
      "secuencia RNA  CACCACCAGUGAGCCUAUAAGCGUAGGCGAGAUCGCCAGUCCGGAGUGGUUAUUCAGCACUUCCCAGGUAAAGUAGUUGGCUGAGUUCAGCACCAUACUCG\n",
      "secuencia RNA  GUUACUGUUUUUCACUCAGAUAGAGUUCAUAUGCCCGAUCAGCCGUUUCGUUAUGGUGAACCACCGCCUGUACGGCUUUCAUCAUCGCCACCGGAUGGUCA\n",
      "secuencia RNA  AUAGCUGGCCAUUCAUCGGUAUUCAGGCAGUCAGACAGGGUUCGCAGAUUGCGGUGAUAUUCCUGUUGACCUGCCAGUUUUGCUUCUUCGCCCAUCAUGAA\n",
      "secuencia RNA  UAAAUAAGUGUCUGGGCAGAUACUAUAUAAAUUAACUUAGUGAAUGAUUAUGCUAAUGUCAUCAAUUAAAUAAAUAUAAUGGCGUUAAGGCUUCCCAGUAA\n",
      "secuencia RNA  AAACGCUCGUUAUGUUUACUGCUGGCACUACGAUGAGUUAAUGCCUGCUGCAACAGUUCCUGAUGAUUAAAAGUGUAGCCCAGCUUCCGUUGAAGCCGAUU\n",
      "secuencia RNA  CUGCCAUUUCGAUUUAAUGGCACAGUGGGGCUAUCAGAUAAGGAAUCUUGUUGUCUAUACUAUGAAAAUGGGGUAAUGUCAGAGGUAGGGGAGCUAUUAAC\n",
      "secuencia RNA  CGGCAUCGAAGCGGGUAAUGCCUUGCCGCUCGGUCAGGGCGUGUGGGCGGAGAUGAUUCGCAACCGGAUGGCAAAAGAGGGCUUAAUCAGCCUGAUCGAUA\n",
      "secuencia RNA  CGCGGCGGAUCAGUUUUCCGCUGAAGGUUUUCGGCGGUGAGAAAUCCCCGCCAUCGAGCAUAAAAAUCAGCCGUCCAAUAAUUUCCUGAAUCAUCUCAGUC\n",
      "secuencia RNA  UUUAAAGAUGUUUUUUCUAAUGCGCAUGAAGUCACAGCAGAAACGAAAGAAAAUCGAACAAUAUACACACAGGUAUUUGAAAUUGAUAAUGGCAUCGAGAA\n",
      "secuencia RNA  AUACCCCGCGUGAGCUUGAGCAUCAGCUUAACGAUAGCGGCGCAUCGGCGAUUGUUAUCGUGUCUAACUUUGCUCACACACUGGAAAAAGUGGUUGAUAAA\n",
      "secuencia RNA  GCCGCCUUCGAGGUUUUCUAACCACGGUGCGGUACGCGUCAGUUUGUCGGCAGUACGGAUGUAGAACAUCAUGAAGCGGUCGAGAUAUUUGAUCAGCGUUU\n",
      "secuencia RNA  CACUUUUGAAAUCAAACUUGACGAUUAACACUUCUCCCAGCCGCCCUGUUGUGCCGUAAACCCCAGCGCCUGCAUAAACGCCGUCAUCACACCGCGAUCUU\n",
      "secuencia RNA  GUAUCGUAAUCGUAUCCCUUUAUUUCGCCGGAGUACUGAGCGCUGCUAUGGCCUUUUCUGAACUCAACAUUGACAUUCUUACCCGCAGCAAAGCUCGUGGA\n",
      "secuencia RNA  ACCAUUGGCGCUAUCACGCUGUUCAUGGCGGCACAGGUCACGACACCGGAAGCGAUGUUCCUUGUGAUAUUGGUUAACUCGUUUGCUUAUAUGCCAACGCU\n",
      "secuencia RNA  AGGUUCUGUCAGCUAUAUGUUUGACAAUACGGGUGUGAUUGUAUUUAAAGGGACAGACCCUGACCAUAUUUUUGAAAUUUUACUUGAAGCUGAAGUUGAUG\n",
      "secuencia RNA  AACGCCAGGUCGCGGACGUGAUUUUGCAGGAUCCGGCAGUGCAAAGCCUGACCUCAUUUGUUGGCGUUGAUGGCACUAACCCGUCGCUGAACAGUGCACGU\n",
      "secuencia RNA  ACAACGUGAUGGUUGCGCCGGUGUUCACUGAAGCGGGCGAUGUGCAGUUCUACCUGCCGGAAGGUCGCUGGACACACCUGUGGCACAACGAUGAACUCGAC\n",
      "secuencia RNA  CCGGUUUUGGUGAUGGGCAAAUUUACCGUCGCAUUCUCGAUCUCAUCUGGGAAACGCUGACCGUUAAAGACGCAAAAGUAAAUUUCGACAGCCAACUGGAG\n",
      "secuencia RNA  GGAAACGAAUUUACCGUAUCCUGUGUUAUCGCAGCAUUUCGUCGCU\n",
      "secuencia RNA  UCCAUAAAGGUGACAAAUUUUUCUGCUGCUUCCGUCUCUUCGGUCUUUUGCCCGGCGGUAAUGGUCAGCGAGGUCAACAUGCCGUAGACCGCAGAGUUUUU\n",
      "secuencia RNA  GACCAAUAUCAAACGUCUGCUCGGUUACUCAUCUAUCUCUCACCUCGGCUAUCUGCUGGUAGCGCUGAUUGCGCUGCAAACCGGCGAGAUGUCGAUGGAAG\n",
      "secuencia RNA  ACCGCUCGCGAUACGCUGACCGACAAAAUCGCCGGGCUGGAUGUCGGUGCCGACGACUAUCUGGUGAAGCCUUUUGCGCUGGAAGAGUUACAUGCCCGUAU\n",
      "secuencia RNA  CUACCAGCACGCCGCAGCCGCGCCCGGAAAAACCGGUUUAUCUGUCGGUGAAGGCAGACAACUCGAUGUUUAUCGGUAACGAUCCGGUCACCGAUGAAACA\n",
      "secuencia RNA  AAUCUCGACCCUACAAAUGAUAACAAUGACGAGGACAACAUGAGCGACACAACGAUCCUGCAAAACAGUACCCAUGUCAUUAAACCGAAAAAAUCUGUGGC\n",
      "secuencia RNA  CAAAAUGAGGUUUUAAAUCAAUCUAAAGGAUAUAUGAGUAAACUUGGUCUCAUAGUUACCCAUGCUUAAUCAGUGACGCACCUAUCUCAGCG\n",
      "secuencia RNA  AUGAGCCCGAGCAGACCAAGGUAACCGUCAGUGCCGUAAUCUUAAUAGAUGAAAUUGGUGUUGAUACCAAGAUUGUAACGUUGAUCGAAAACGCGUUGACA\n",
      "secuencia RNA  AUCGGAGGAAGAUCCGGAACCACCGCCAUCACAACCGGCUAACAGGGUUGCGCUCAAAAUAGCCGCUAAAAGCGAUUUCUUAUAUUUAAAUUUUUUAUUCA\n",
      "secuencia RNA  AGACUUCAUUUGCCAGUUCUUGAUUAUUCUCGGCAGUAGAAAAAUCAGGCGUACUCAUUUAUUUUCCUCGUCAUGUUGCAAUGAAAAUUUGCGGUGAAAAA\n",
      "secuencia RNA  UCCUUAUCUCCAGCCAGCCUUUUUCCACAAUCAGAUAUACUUUCCCUACACUGUGUUAAUAAGGAUAUGCUGGUGAGAACACGACAUCUGGUCGGCCUUAU\n",
      "secuencia RNA  CUCCCGAAGGGAAAAGCCGAUGAGGCCAUUUCAGGCGUACUUCAACAUGCAUUCGUCAGUGUCAUCUGCCUUUUCCAGUAAAUGGGUUGGCAUUCAAUUUC\n",
      "secuencia RNA  UAGACGCCGGAUCCCCACCGCUCGACUCACCGUGGUCCUGCAAGACGGUAGAGGCUUCCGUCCCCAUCGGA\n",
      "secuencia RNA  GAGAUAUAGCUGGUAAACGUAUGGUUAAGGCACAGCAACCGAAACGCGGCUUCGCGAAUUUGCGGGGUAACGUUCGGCUCGCUGGACAUAUUUGAUACCAC\n",
      "secuencia RNA  UUCUGAAAUCUUCAAAAACGGUCGUGCGUCUAUUUCGCUGGGUUACAUCGGCAUCCACGAAACCAUUAACGCGCUGUUCGGCGGCGAGCAUGUUUACGACA\n",
      "secuencia RNA  GGGGGCGCAAACGACUAUGCCGCAUUCCCUUUCGCCAUGGGAGCCAGUGCCGCAGGCAACUCUUUACCCAGCCCCUGCACCAGCGAAUCUUGCGUAAUUUC\n",
      "secuencia RNA  AUUAUUAAUCGGCCUGACAAUUUUUGCGUUAGGUAGUCUGGGGAUGCUGUGGGUAGAAAACGCCGCUACGCUGCUGGUAUUGCGUUUUGUACAGGCUGUGG\n",
      "secuencia RNA  CGCCGCCGCAAAACUGCCCCGGCGAUCGAUCGCAUCCAUAACCCGUAGUGCUUCCAGCGUUAAUGCCCUUUCUUUGGCCAUUUCGUUCUCAUUCAGGAAAU\n",
      "secuencia RNA  UCGCAAGUACUAACAGUCCAGCUUGCUCUAGCGCUAUUUUAGCUUCCUUUCCUUGUUCAACAAGAAAAUGAGCAUGGCAUUCAUCACCAACCGUAAAUAUC\n",
      "secuencia RNA  GGUGGUCUUUUCUUUACAGCAAAAUGCGCAAAUCGAGCCACUGGCCCGCAGCAUUCAUACCCUGCGUCGCCAGCGCGGUAGUGCGAUGAAAAUCCUCGUGC\n",
      "secuencia RNA  GGACGAGCAUGCAGGCCGUGUUCAUUGCGCACCACAAACUCCGCGCUUAACACGUCGUCGGUCGGCGCAUCAUCGCUGGUCAGCAGCGCCAGCAACGUUGC\n",
      "secuencia RNA  CUACGCGAAUUGUUAAUGUGAGCGAGAAAGAGAGCGAAGCCUUGUUAAGUUUUUUGUUUGCCCAUAUCACCAAACCGGAGUUUCAGGUGCGCUGGCGCUGG\n",
      "secuencia RNA  GUACCUUUAAACUCUUCGUAGAUAACUUCGUCCAUUUUAGAACCGGUAUCGAUAAGCGCCGUCGCGAUAAUGGUCAGGCUGCCGCCCUCUUCCACGUUACG\n",
      "secuencia RNA  GUUGUGCUCACACUUAUCUGGAGUUAUAGCUGGAUUUUCAUGAAGCAAGUCACCAGUUACAUCGGUGCCUUCGACUUUACCGCCUUACGCUGCAUUUUCGG\n",
      "secuencia RNA  CUCCGUUACUGGAAGCAGGUAUCCAUAUUCGUCGUUUGAAUACGCCACCCGCCCCGCACGGUGAAGGGGAAUUAAUCGUUCAUCCAAUCACCCCACAACCA\n",
      "secuencia RNA  CACGUUCGCACAGCUCCUCCAACAGCACGACAAGAUGCCACAUACUGCGCCCCAGUCGGUUCAGUUUACAGACUAGCAGUUCGUUCCCUGCCGAUGAUGUC\n",
      "secuencia RNA  UUCCAGCAGCGAUUCGGCAAUCGCCCCGCAGUUGACGGCAACAAACGGAUGCGACUUUUUGCCCUGUCGCGCAUCGUGGCGGGCAAAAUAUUCCCGAUGAA\n",
      "secuencia RNA  UCGAGUGCGCGAAAGGCUGUUUUGACGCGGACGUUUGGGCUAUGCUAUGCGGAUCUGAAAAACCACCUCAACGCUACAUUUGUAGCCGUAUUGAAAACAGG\n",
      "secuencia RNA  CUAAGAUAUUAUGCGGCUUUUAGAAUAGUGUGCAGCAAUUGUAUUGCUAAAACAAAUGUAUUGCUGCAUUUGGUUACCGUCAGACAUAUUUUUCAGAAAUU\n",
      "secuencia RNA  GGCAAACAUCACUUCAGUUCUUUCUCAUCGGGUGAUGAAAACGCACUUCAGUCUGAAAGGAAUAUGAAAAUGAGAUCAACGGACAUUCUAUUUUAUGACUC\n",
      "secuencia RNA  CGCCAAAACGGUUUCUGUGGAUGCGGGCGAUAUCGCAGCAUUUAACGACCUGAAAACCGCUGGGGUGGAAUGCUUCGUUCAGGGCGUCCCGACAGAGCCUG\n",
      "secuencia RNA  GGCGGCCUGACGUCGCUUCCCGCCAAUGAAGCCACGCUUUCGGCGCGUAUCGAAAGGGCAAUCAAAACCUGGCAAGGCGAACUGCCCAAAAGUGAGCAGGG\n",
      "secuencia RNA  AACCGGUAGCGUCGAUGUUCUGCUGCCGUUGCCGGGGCGUCACAAUAUUGCGAAUGCGCUGGCAGCCGCUGCGCUCUCCAUGUCCGUGGGCGCAACGCUUG\n",
      "secuencia RNA  GUCGAAUUUGCCGUUGAGAUGAUGCAGAAAGAAGGGAAAACGCCGAUAGAGGCAAUCAUCGAAGCGGCGCGGAUGCGUUUACGCCCAAUCCUGAUGACCUC\n",
      "secuencia RNA  AUCCGGAAAAUCAAGGCUGAGGCGUGAUGACGAGGCACUACGGUGCUGAAGCAACAAAUGCCCUGCUUCCAGGAAAAGCCUCUAAGCAUCAGGUAACAUCA\n",
      "secuencia RNA  UUUUCCGCCUUAACGGCAUGACGGUUAAUACCAUGGCUUCAUCCUUUACCGAAGGGGCGCGAAUGAUGAUCGCCCCUGCCCUGCUGGUGGGUUUCGCCAAA\n",
      "secuencia RNA  AUCUCUUACGACCCGGCUUACGCUUACGAAGUUGCUGUCAUCAUGCAUGACGGUCUGGAGCGUAUGUACGGUGAAAAACAAGAGAACGUUUACUACUACAU\n",
      "secuencia RNA  GGAAGAUGAAGUCCCCAGUACAAUCAGCAGUUCUUCACGG\n",
      "secuencia RNA  UUCCGAUGGAUGCCAGUACGCUGGCGGCGUUAAACCCGAAUCGGUUAUGGGUGCGGAAAUUGUUGAAGGGUAAAGCGGUUAAGGCGGGGUAAUCUGCUCUC\n",
      "secuencia RNA  GUCUGGUAUUCGACUUCAGACAACACCAAACGGAAAUACCCACACACCUGGGAAUUAACUCAAAGCCAGAGCGGCGCAUUUAUUUGCGUCAACACGCUUUG\n",
      "secuencia RNA  CUGCGGAUAUUUGCGAUACAGGAAUGCAGUCGCUGUAUUUUGCGUUUCUGCUUUUGCCAGUUGUUGCUGAAUUUGACCUUGCGGCUUAACUGUCGCUGAAG\n",
      "secuencia RNA  UAUUCUCUUCAACAAUCUUGUACUCAACGCCCAGCUUUUCAAGAUACUCGGGCAGAACGUGUUCCGGGAAGCCCGGUUGCUUUUGAUCGAGGUUAACAGCC\n",
      "secuencia RNA  CAAUCACCACACCAGUCACCUGUGGGACAACAGGAAUAGAAAUAACCGCUUUUUGCGCUUUAAAGGUAUACGGAUGGUUAUAGUUCAUUAACAGAAUUAGA\n",
      "secuencia RNA  UCUGGUUCUGCGUAGCGCGUGGCGACUGUUGAAAGAUAGCGUGAAUGAAUUACUUGAAGGUGCACCGGUAUCGCUGGAUAUCGCUGAACUGAAGCGUCGUA\n",
      "secuencia RNA  GGCCGUGCUGAAGCGGUGACUUGCGCCGUUAUGCAGGCUAAAGAGAAUGAUGUGGUACUGGUCGCGGGCAAAGGCCAUGAAGAUUACCAGAUUGUUGGCAA\n",
      "secuencia RNA  UUACCGACAUAGCAUUACCAAUUUGACCAUUGGUCAAAUGGAAAUAUUCCUGCAUCGGGAUAUAAAACGCAUCUCUCAGCGACGGUAAUUUAUAAAUUGUA\n",
      "secuencia RNA  UAACGAAAAACAUUAUUCAGCAUGUAGAGAAUAACCGUUUCUCUUUGCUGGAAAAAUUAACUCAGGAUGUGCUCGAUAUCGCACGUGAACAUCACUGGGUG\n",
      "secuencia RNA  CGAAACGAUCUGUCAGCACAAAGUAAACCGUGGCGUUAUGCCAGUCGACAGGG\n",
      "secuencia RNA  UAACGCUCCGGCGGUUGCGUAAGGAGGAACUAUCGCCACCAGCGGUGAGAAGAACAUAACCAACAAGACCAUAACGCCAACCACCACCGCAGUCAGCCCCG\n",
      "secuencia RNA  ACAUAGUGAGUGGUGAAAUCCGUGCCAGAGAAGUUAUCGUCAUAAAAGUGCUGCCAGACACCGUAAAACUGGCCUGCUGUUAUCGGCAAACGCAGCCCCAG\n",
      "secuencia RNA  UGCUUAAUGCCAGCUCCGUAAAACCAUUACCAAUCUGCUCUGGCAGCACUACGCAGAAACAUCCCUCUUCGGUAAUGCACUCCGCCGCACAGGUCAGCAAC\n",
      "secuencia RNA  AGCUGAUAACGGAACCGAGCGUCGCCUCCGCGAUGUUUGAAUACCGUUUUGGUGUCAAUGGUGAACUUUCCGUUCAUAAUCUCGGAAACUUGAUUUUAAAG\n",
      "secuencia RNA  AGGUGGACCACGGGUUCGCCCAGCCGCUGGAGUUCCUGCUCGGUGGGCUGGAUAAGGUGCCAGUUCUGCCUGUGUUCAUCAACGGUGUCGCCACGCCGCUG\n",
      "secuencia RNA  CACCAGCCAGGAGAUAAUUGAGAUUGUCCCGACUUCGGCAAGCUUUGUCGGCAGCAUGAUGAUACCGGAGCCCAUCAUGUUGACCAUCGUCAGUAUGGUUA\n",
      "secuencia RNA  CGCCCAACGCACCAAACGCCACCGGCGCAAUAUUGGCAAUCAGACACAGCCCCGCCGCGUAUAACGGUUUGAAGCCCAGGCCCACCAGCAGCGCACCGGUA\n",
      "secuencia RNA  CAAAAGAGCCAAUGAUUCCCGUUUAUUUGUCCUCCGUUGAAUUUCAUGUGGCGCAUCUUAAAAGAGAUGAGGGAAAAUAAGAUGUGCAUGUCGCGUUUGCU\n",
      "secuencia RNA  GCCAAAUGUUUGGCGAAAAUACAUCUGUCCAUCCCGUUCCCAUCAACCCGCCCUGAACGGCGAGCAUUGCAGUGGCACUGAUCAAACUCCAGACGGCAGCG\n",
      "secuencia RNA  CGCCCUGCCAACAAUCGCCACGGACCUUCAUGCCACGCCAGCCAGUUCCAUCUGGGUAGUGAACGCCUAUCAAAUCGCCAUUGUCAUCUCCCUGCUCUCGU\n",
      "secuencia RNA  CGUGAACAUCUGAUUGGGAAACUUCUUGCGAGCUUUGAUUGCAAGCACUGCGGGAAUAAUGACCGCCCAGAUGGUGGCGCACAGCCCAGCACCGCCGAUCC\n",
      "secuencia RNA  ACCUCGCUGGCAGAUAAACUUUCUUUAUAAGAGUCUGGGGCGAUUACGAUUUUCAUACCUAUGCCUGUUACCACAUGACGCCGGAGGGCGUUUCUCUUAUU\n",
      "secuencia RNA  UUAAUCAUUGCAACUGUUUCCAUGCGCGACAUGCGCAAGGCUGGUGUUCACUUCGGUCACCAGACCCGUUACUGGAACCCGAAAAUGAAGCCGUUCAUCUU\n",
      "secuencia RNA  CCUGAACAAUCGGCGGUCCAGUCUAUGCUGCUGCAGGAGAGAGCGGAUUUUCAAGAUGGUUGAGCUGGCCGGAGUGGGUCUUCCGAGGGUUAACCGGGCAA\n",
      "secuencia RNA  UUUCACAGAGCGAAAACGUGCCAUGAACCCCGCAGUGGAUAAUGAGUUUCAGCAAUGGCUUUCCCAAAUCAAUCAGGUAUGCGGAAAUUUUACCGGACGCC\n",
      "secuencia RNA  GCGAUCUCGUUUUUGUCUCUUCAUGCCUCGUUUCCCUCAUACUGGUUUCUGGUGGAAAAGAAAACAGUGAUUACUAAAUGUGCAAUCACAGUUAAGCAAUA\n",
      "secuencia RNA  GCACAGGGAUAUGGGGCCGAAAUCUCGCUACAUCGGGCCGGAAGUGCCGAAAGAAGAUCUGAUCUGGCAAGAUCCGCUGCCGCAGCCGAUCUACAACCCGA\n",
      "secuencia RNA  AGAUUCAGUGGUAGAGCUAUUGCCCGUGAUAUAAAUCAGGCCACCGUAAGGCACCUUGAACUUCACGGUACCGCUAGCGUCCAGAGAGUACGCUUUAGUCA\n",
      "secuencia RNA  CGGUUUAUUGUUCUGGGACGGCGAUAUUUUGCUGGCUUACGGGCUGGUGGGCUUAAUCUGCUGGCGGCUGGUGCGCGAUGCGCCAUCGGUAAAAAGCCUGU\n",
      "secuencia RNA  CGAUCAGAUGGCGCUGGGCGCAAUGCGCGCCAUUACCGAGUCCGGGCUGCGCGUUGGUGCGGAUAUCUCGGUAGUGGGAUACGACGAUACCGAAGACAGCU\n",
      "secuencia RNA  AUAGUUUUUAUCGCUUCCCCCGCCAUUGCAGCUGUUGCACAGAGUUGUUCUAUAGAGUGCCCCUCUCGUGCCUUCGCAGAAAGCCCAGACAUCACGGUACU\n",
      "secuencia RNA  UAGAUGACAUAUCAUGUAAGUUGCUGAUAGGUUUCCAGUUUUCCGCUCCUAGGUCUGCAUAUUGUACUUUUCCUCUUACUCGACUUAACCAGUACCAACCC\n",
      "secuencia RNA  GAUAAUUGUAUUCUCGAUGACUCAAAUUUCGCUCAGAUAAAAAUGACUGACGGAACUCUAAAUUCAUGUUCCGCUAUGCAUGUUCAAUUCUACAAUGCAAC\n",
      "secuencia RNA  UAUUACUGGGAAGGUAAGCUGGAGCAAGAAUACGAAGUGCAGAUGAUUUUAAAAACUACCGUAUCUCACCAGCAGGCACUGCUGGAAUGCCUGAAGUCUCA\n",
      "secuencia RNA  CCGUUCAGCUUUUGCGCAUGUUGUAGGGUACACGGACAGUGGAAGGCCAGCUUUUUAUCGCCGCGAAUUGCCAGUUUUUCCAGCGGUUCCUCGCGCAGAAG\n",
      "secuencia RNA  UUACUCAAAGAUCCUGAACUCAUCUGCCAGGGUGCAAAAGCGAUGCGUGAAGCUGUACAGGCGCAUUUGCCCGUCAGCGUGAAAGUGCGUCUGGGCUGGUG\n",
      "secuencia RNA  AUGCCGAAUAUAACAGAACUGCAAAAAGCUUCUGCCAGAGCGCGUGCACCUGCAGCUGUUUCCACGUUGCCGCCGAUAAUUUGCAGAUCCGGAUAUUUAGC\n",
      "secuencia RNA  GCGGUUUUCAGCUGGCCUUACGCUCAUGUGCCUGACGGUAUGCCACCAGGUCUUCAAUAGUCACGAGCGCCAUAUUGUGUUUAUUGGCAAACUCAAUACAC\n",
      "secuencia RNA  ACUCCCCAGUAAAGAAAGCGAUGGAAAAACUAACAGCUGACAUUGUUGCCUGGCGGCGGCCCUCACAAACUCCAGAUGAUGAGCUACCUGUUCGGUGAGUG\n",
      "secuencia RNA  UGACUGCCUGAUUUCACACCGCCAGCUCAGCUGGCGGUGCUGUUUUGUAACCCGCCAAAUCGGCGGUAACGAAAGAGGAUAAACCGUGUCCCGUAUUAUUA\n",
      "secuencia RNA  UGCAGCAAAUAUUCAUCCGCCGCUUCCCACGCCUGUAGCGGGUUAACGUCAUCCGUCGCCGGAAAACGUUGUAGUGUCAGUGAACGGAAACCGUUGUCUAA\n",
      "secuencia RNA  AGCGAUUAGCGCCAGUAACGGUGGUACACAACUGGUUGCCCAGCCGCUGCAGUUUGCUCUGGUGCAGGGUGUGAUCCGCGGCAACAGCGGUAAUACGCUGG\n",
      "secuencia RNA  AAAAGAAGAAGCAGGGGAAAUUCAGUCUAUUGUAGC\n",
      "secuencia RNA  ACCGAGCGUAAGGGUUUUCAGCAUCAUGCUUUUCACCGUGUUGAGCACUUCAACAUUGGCCUGAUAGCUGCGUGACGCCGACAUGGUGUUAACCAUCUCUC\n",
      "secuencia RNA  AGUCAGCACCGGCUGGUGCACUACACGCGGACACAAUAUGCAGAGCCGCUGGUCGAAAGCCGCUAUCUUUACGACCCGCUGGGCCGCAGGGUGGCAAAACG\n",
      "secuencia RNA  GCCAGAUUUCAUCAAGGGUACUAUCAUCGCGGGUAUCGGUGAAUUCAUGCAUAGCCUGGGAGAUUGGCUCGUAAGGCUGAAGACCGAGCUGGCGGACAAA\n",
      "secuencia RNA  CCGUAACAGCAACGGGCAAAAUAGCUGGCUGGCAGGUGUAGGUGGGACCUUACUGGAAGGCCACAACCUGAGUUAUCACGUAAGCCAGGGUGAUACCUCGA\n",
      "secuencia RNA  UUACAUUGUUCAUUUUGCCUCCACCAGGACCGUCAGAUUGCCUGUAAUAUCUGUCAUGUCGGUUAGUUCCCCUUCAUCCUUAAAAGCUGGAGCCAUUGUCA\n",
      "secuencia RNA  CUUCCUGACCUUGUGAACGGUGACGACGCGCUACCGCUUCACGCUCGGCGCGCAUACGGUUGUAGAUCGCUUCAGACACUUCGGUCGGCAGGUUGAUCUGC\n",
      "secuencia RNA  ACUGUGGGUAAAAGUGAAAUCCGGUUGGGCCGACGACGAACGCGCACUGCGCAGUCUCGGUUACGUUGACGAUCUUUAAGAGUAACUCCGAUGGAAGGCUG\n",
      "secuencia RNA  CUUUUCCUUGCGGACAGUCAUUUCCCGGCAGACGUGCGUUCUGCUCCAGCCAUGCCUGGAGAUUAUCGCCAAAGCGUAAACUGCGCCACAGCGUAAAAAUA\n",
      "secuencia RNA  GGGCGUCACUCAGGCACGGUUAAACCUGGCGUAGCGUACUGCGCAUGUGAUGGGCAGUGCCUCCUCACAAGAUUUAGUGCAGGCGGUGGAAAAAGCGGGCU\n",
      "secuencia RNA  GUGUUGUCCUGAUGAAACAAAAAGAGCUAUGGAUUAACCAGAUCAAAGGGUUAUGUAUUUGUCUGGUGGUGAUUUAUCACUCGGUCAUUACCUUUUAUCCG\n",
      "secuencia RNA  GAACUGAAGCAGGAUUACACCGUGGUGAUCGUCACCCACAACAUGCAGCAGGCUGCGCGUUGUUCCGACCACACGGCGUUUAUGUACCUGGGCGAAUUGAU\n",
      "secuencia RNA  GCAGAUAUCACAAUUCCGGCCUCUGCGCGGAAGGUACGCGUCAGAUAAGCCACGGCCGGUGUUGGCAUCGGGCCAGUGAAGAGUGCGGAAAGGCCCGCUG\n",
      "secuencia RNA  CUGAUGGCAGAACAGCUUGAUCAGAUGGGCGGCGAGCAGCUGCGUCGCAAAAUCGAAAGUAUGGGCGUGCGCGUUCACACCAGCAAAAACACCCUUGAGAU\n",
      "secuencia RNA  AAAGCGCCGUUUCUUGAUAUGGCUUUUGAUGAGUGGCGCAAGAUUUUUACCGUUGAUGUCGAUGGUGCAUUCUUAUGCUCGCAAAUUGCGGCUCGUCAGAU\n",
      "secuencia RNA  GUUCGACAAAGAAGGCGCUGUAUCCGGCAACGCGCACCACCAGCCCGGCAUAAUCUUGUGGGCGCUGUUGCGCUUCCCGCAACGUGUCGGCGUUCACCACG\n",
      "secuencia RNA  CUAAAUUACUGCUGGCGAUUGCGACCUCUGCAGCAUUACUGACAGGGUGUCAAAAUACCCACGGUAUUGAUACCAAUAUGGCUAUCAGCUCCGGUUUAAAU\n",
      "secuencia RNA  UUUUGCAACGGACCAGCUCCGGUACAAACGCUGUUGUGGGUUCAGAUUAUAACAUUCUGUCUAAGGGGCGGGAUAAAGGUGAAAUUAGGGGGCAUGAAAGA\n",
      "secuencia RNA  CGUACGUGGACGCGGACCGGCACGACCGGUACAAACGCGGGCCACGGUGCUGCGGCGCAGUUCUGUUAAUACGUCUGCGCGAUGCGGAUUUUCAACACCAA\n",
      "secuencia RNA  AGAGAAAGGUGUGAAAACCUCUUCAACUGGUCUGGUUUAUCAGGUAGUAGAAGCCGGUAAAGGCGAAGCACCGAAAGACAGCGAUACUGUUGUAGUGAACU\n",
      "secuencia RNA  GCCAUAAUCCAUCAAUCAGCGCGGACAGGCCGUAGCCCGCUUCCUGUGCCUGUUCGCGCGGCAAUUCGCGACGAAACUCGCUUACCAGAUUCGACAGCAAG\n",
      "secuencia RNA  UAUAAGCAUGACAUGAGAAUAAGGUUUCAAUUUUUGAGUUAUAUAGGAAUGAUUUAACCUGUUCCUGGCUAAAAUACAUAUAACCGGAUGAUGACUAAACC\n",
      "secuencia RNA  CCAUAAGGCACUGCCUGGAUCCCAGCGCGGAUAAUCUCGGCGAUAAAUGCAGAUGUAUAAACCGAAAGUGCCAGCGUUAAGGCUGCCAGUUCAGGAAUUAA\n",
      "secuencia RNA  CGAUAUACACCGGCAUCAACGGGUGGCGAAUUAACACCACCAGCGCCACCACGCCGAUGGCAGAAAUCAACGGCGUCAGCCACAACAAACGACCGCGGGAC\n",
      "secuencia RNA  AAACUUUCCGGGCAGCAUAACUACACCAAUGCGCUGGCGGCGCUGGCGCUGGCAGAUGCUGCAGGGUUACCGCGUGCCAGCAGCCUGAAAGCGUUAACCAC\n",
      "secuencia RNA  GAAAAGUGUGGACGCUGUCGGUGCCAGCCACCAGCGGCGACUCUGACGCAGGCGGUUAAAAACGUGCACGUCGAGGAUUUGCCCCAGCGCGUAGGCCAUGA\n",
      "secuencia RNA  GCUCCAGAUGCCUUCCGGUAGAGUGCUGUAAUCUGUUACUGCGGUGGUACCAUUGGUGGUACCGCUGAUGAUGGAGAAGGUGAAACCAUCCUGUGCGGUGG\n",
      "secuencia RNA  UGAUUUGUACACCAGUAAAAGGUGUUCACCAGAAUCAAACCGGUAAAUGCCGCGCCAAUCGGCAAGGGAUCGGUCGGGCCACCGAUUGAGUUUAAUUUCUC\n",
      "secuencia RNA  AACACUGGAACAGACAGGAAUUAUCAGAACGACGAUUUACGCAUCAAAGAAAUCAAAGAGUUACUUCCUCCUGUCGCAUUGCUGGAAAAAUUCCCCGCUAC\n",
      "secuencia RNA  UGUUUCGCCUGCUUAAGAAUAAGGAAAUAACUAUGCAACGUCGUGAUUUCUUAAAAUAUUCCGUCGCGCUGGGUGUGGCUUCGGCUUUGCCGCUGUGGAGC\n",
      "secuencia RNA  CUGGAUCAAAAAAUCGCAGCUAACGGUGGCCUGAUUGUCUCCUGCCAGCCGGUUCCGGACAGCCUGCUCGAUAAACCC\n",
      "secuencia RNA  GGAGCUGAUUGGGAUUACUGCCGCUGAAGCGCGCGAUCCGGAAAAAAGCAUUCCAAAAGCGGUAAAUCAGGUGGUGUAUCGCAUCCUGCUGUUUUACAUCG\n",
      "secuencia RNA  AACAAGUCUGUAUUAAUUAUGUUCGCUUGAUGAGCAAACACCGUUCUAUCUGUUGCUUUUGCAAUCUUAAUCGUUAAAACUACCAACAAAUUUAUAUAGUU\n",
      "secuencia RNA  AAAAAAAACCUUACAAUCACUGUAGAAAUUCUUUUAUACAGCUAAUUGAUGUGGUUUUUUACUCCUUUCUAUAACCUUUUGUCAACUUUAACAAAAGUUUC\n",
      "secuencia RNA  CGCCAUUUCAAUCGGGUUCAACGGCGGUCCACCAGCCUGAUCCUGCAAUGUUGCCGCACGACCAUCCCAGAACUGCUCAACGUUAAAUACUGAGUUAAAUA\n",
      "secuencia RNA  AGUGCAGAUAAUCAACUUUGGUGGUUUUAUCGUUCUGAUAAAACUCAUCCAUUUACAGAUGCAACGGCGCUUUGUAUUCGUUGGUCCACAUGUAGGAGAAA\n",
      "secuencia RNA  AUAAAUGUGUUUCAGCAACUCGGAGGUAUGCAUUAUUCCCACCCAGAAUAACCAACUUUAUUUUUAUGCGGUUUCACCGCACCCCGUGAUGUCGCCGGGAA\n",
      "secuencia RNA  CAUGAGUCGGCACCUGGGAAAUCUUAUCGGCAACGUCCAUGCCUUUCACCACUUUACCAAAUACCGCGUAACCGAAAUCACGCUGACCAUGGUCAAGGAAG\n",
      "secuencia RNA  CAGGCGAUUUGUGAGGAAGGGUCCGGUGCGUAGUAGAGAUUAUGCGGUGCAACGGCCUGGGAGAUCGCCAGGUUACGCACGCCUGGCUGCACGCGCGCGC\n",
      "secuencia RNA  UGCAAAUUCAGUGAUUUCAGCCCGGAGAAGCCACCGGAUGUCGGUACGGCCAAUUUCACUUCAGACGGAUUGCUUUUCGACAUGAUGUUCGCUCCUCAAUG\n",
      "secuencia RNA  AGCGCCGGGCGUUGCAGAAUUUUGGAAUCUUCAGAGCCCAGC\n",
      "secuencia RNA  GGUCGCGUAAGUAAUAUAUGACUGAGGAUCGGUGAAGAUCCCCUGUGAUUGCAGUGCCAGGAUCCGAUCGUCCAGCUGCCCGGCAAGAAGCACGUCAAACC\n",
      "secuencia RNA  CAGUCUUAGGAGUGGCGGCAUAUAGCCAAAAUAACGUGAGCGGGUCCAUGCCCGCCAGAAUCGUUACUCUCUCCCAUCCGGACUCUAACCGUCGGCCCCGG\n",
      "secuencia RNA  CCACAUCCGGUAGCAGAUUGAUGCGGACAAAUUCCCCCGGUUGCCAGUAGCUUGAAAUCUGCAACACCUCCGGUCCAGACAAGCCGUGCUAGCUGCAGAUU\n",
      "secuencia RNA  AUCGGGUUAUCCUCGAUUCCGGGACCACCACUUUUGAGAUUGCUCGUCUGAUGCGCAAGCACACUGACGUAAUUGCGAUGACCAACGGUAUGAACGUGGCU\n",
      "secuencia RNA  GAGAGGGAGAAAACACUCAAGGCCUUCUCCUGGAGAAGGCCUUGCUAUUAGUUGCGGUACAGCACCUUAAUGAUGUGAUAUCCGAACUGGGUGUGCAGCGG\n",
      "secuencia RNA  GUCAGGGAACCAUUCAAAUCUCUGACCAAAUGAAUAUCAAAGCCAAGACCGUUUCAUCGCAUAAAGGUAAUAUUAAACGUAAGAUCAAAACGCAUAAUAAA\n",
      "secuencia RNA  AUAGGCCAGAGCCAGCGUGACAACAUCAGCUUCAAUACCGUUGAUUACCGACGUCGCUUGUUUACCUGAGCCACCGUGUGACUGACGAAUCACCACGUUAU\n",
      "secuencia RNA  AAUUCCGCUAUAUUGGCGCUUCCUCAGCGUUUCUAACACCUGGAUACCGUUAACUCCGGGGAUAUCGACAUCAAUGAUGACGAUAUCAGGCUUAAGUGUUU\n",
      "secuencia RNA  CCGAUUCAUUUUCUGAUAUCGGCCAUUUUUAUUGCGGGUAUCAGGCCAGUUUAUGGUUAGCCAGUAAUUCCAGCGCCUGCACUAACGCAGAGUGAUCCAAC\n",
      "secuencia RNA  UGACUGUAAUUUGAGAACGAAUUUAAACCGCUUCACCUUGAAAAAACUACAUUUUUUUCAUCGUGAAAUGGACAGAGGAUAAAUUGUUCAAUAACGGAUUA\n",
      "secuencia RNA  CAGGCGAUCUCGUGUUGUAUCCCUCCAGCAGCCUGCAUUGCGUGACACCCGUAACCCGCGGCGUACGAGUGGCAUCAUUUAUGUGGAUCCAGUCGAUGAUC\n",
      "secuencia RNA  GAUUAAAUCUUUGUCUGUCAGUUGCUGGGGAGUGUUUUUAUUAAUAUUACUUUGUGUGACUUGAGCUUUUUUCUUCUUUUCAUCAAUAGAAGAUUCAGAGG\n",
      "secuencia RNA  CUAUCGAUUGAGUCCAUCAAUCUCCGGGCGUUAGCGGGGGAGCGCAGUAGAUAAGCCGUCUCUUCCAGCGAGUUGUAUUCUUCGAGUGACAUCAGAACACA\n",
      "secuencia RNA  GCAUUUUUCUUUUCAUCAUCUGCACUUUCCGCAAAUUAUCUCGCCAUUAACCGUUUCAGCCCCAGGUGCCUUUCUUGAGGCAAUCGCCUGUUGGUGGUAUC\n",
      "secuencia RNA  CAGAUUUUUAUUUAUAUAUAUUUAUCUGCAAAAUUUUAAAUAAAGCUCCAAUAAAUCAUAUUGUUAAUUUCUUCACUUUCCGCUGAUUCGGUGCCAGACUG\n",
      "secuencia RNA  GAAUGAUGUAUUCCGGACCAAAGCUCAGAUCCUGAUCGCCAUACGCUGAAGCCACCACUUCGCUCUGUUCCGCAUGGGCGAGUUCUGCAAUCGCACGUACC\n",
      "secuencia RNA  AGCCUUGCAUAGCUUCGAAGUUUUCACGGUUGAUGUAAGUUUCACCAAACUUCAGCCCUUUAAUGGCUUUCAUCGCGACGUUCAGAUUUUGGGUAUAGAUU\n",
      "secuencia RNA  GCAUUGAACUUGUGGAUAAAAUCACGGUCUGAUAAAACAGUGAAUGAUAACCUCGUUGCUCUUAAGCUCUGGCACAGUUGUUGCUACCACUGAAGCGCCAG\n",
      "secuencia RNA  AACACCAAGUACAGGAAUAUUAACCUGUUUCCCAUCGACUACGCCUUUCGGCCUCGCCUUAGGGGUCGACUCACCCUGCCCCGAUUAACGUUGGACAGGAA\n",
      "secuencia RNA  GCGCUAUAACCCAGGCCGCGUAAGCAGAGGUGACAUGCUGAGCAUGGAAGAUGUGCUGGAGAUCCUGCGCAUCAAACUCGUCGGCGUGAUCCCAGAGGAUC\n",
      "secuencia RNA  CGCCAGCAUCCCCGAAGCGUUAUGGAACAUCCCCGUCGAUUGCCAACCACUGGCGGUCAGCAAGGCACUCGGCCCGUGAGUUUUCUGCACGCGUUCCAGUU\n",
      "secuencia RNA  GCCCUGCUUCUCCCCGACCUAUUUGUUCAAUCCGAGCCAAUACAUUAUUAGCAUUCACCAGCAAUCGACGCGAUUCUUCCAUCAAGAUUUUGCCCGCGUGU\n",
      "secuencia RNA  UCCGGGCUGGUCAUUAACCAGAGAUUCAUCCCCUGCGAAUGCCCGGGGCCAACGAAACGUGUCUCAAACGGGACCAAAUGAAUAUCGGUUACCGUCGCCUG\n",
      "secuencia RNA  UGAAGGUGAGCAAACCAACUACGUGCAGGGCGCGAACAUUGCCGGUUUUGUGAAGGUUGCCGAUGCGAUGCUGGCGCAGGGUGUGAUUUAAGUUGUAAAUG\n",
      "secuencia RNA  GAAGCGGCGUUUUACGGCCUGCAACCGGUAGAUAGCGAUCUGCACGCGUUUGCUGCACAUCAGUCGUUGUUGAAGGCCUACGAAAAGCUGCAGCGCGCCAA\n",
      "secuencia RNA  CCGACGGUCGAGGGUACAAUGCGGAAGUGGUCCGCAUGAAAAAACAAAAGCUACAGUUAAAAGAUGAGAUGCUCAAAAUCCUGCAGCAGGAGAGCGUCAAA\n",
      "secuencia RNA  UCUUAGCUAUCAUGAUUUCUUCCUCGCAGUUCUCAUCGGUAAUCUUCUCCUCGGUAUUUACACUUCAUUUCUCGGUUACAUUGGCGCAAAAACCGGCCUGA\n",
      "secuencia RNA  CUACCGCCGCCUGAUCCCUUCGCUACUGUGGAGGCGACGGCAUGAUAGAGAAACGGG\n",
      "secuencia RNA  UGCUGACUCGCCCGGAAGCGCCGUUCCUCGCUGACCUGGCAAUGGACUUCGCCUCUAUUCUGUCAAAAGAAUAUGCUGAUGCGAUGAUGAAAGCCGGUACA\n",
      "secuencia RNA  CAAAUUCGAAAAGCCUGCUCAACGAGCAGGCUUUUUUGCAUCUGCAGCUCAUGAGGAUGAGAACCUCCGGGGGCAGGGAGGUUCGACUCGACGUAGGCCUG\n",
      "secuencia RNA  CGGCUGCCGCUACUGCCACAUGGCUUGUCCGUACGGCGCGCCACAGUACAAUGCUGAAAAAGGGCACAUGACGAAGUGCGAUGGUUGUUAUUCGCGCGUCG\n",
      "secuencia RNA  CGUGUGGGCGAAUCCCUCGAUCGCACCACCAUUGCCGAUAUCGAGAAAGGUCUGGAAGACUUCUACUACAGCGUCGGUAAAUAUAGCGCCAGCGUAAAAGC\n",
      "secuencia RNA  AUUGCGGCGCAAGAAACGCUGCCGGAACUGGCAACCCGACUGGCAGCACAACUGAAAAAAAUGCGUCGUCAUCAACGUUACGAUGCCGAACAAAUUGUCCG\n",
      "secuencia RNA  GUCGCAGUUGGCGACCGUCGAUAUCUCGAAAUAUCAGAGCACUACGGAAGCGGUACAAAGCAGUUCCCACGGCAUUAUGGGCACGAUUUUGUCGCUGGUGC\n",
      "secuencia RNA  AGUUCAGCACCUGUUGGCGCACCAAACUGAUCGUUAAUAACCGCUAAUUCUUCACGCUCUUUUGCCAGACGUAACAUCGUUUUGGCGAAGUUAUUUCCUUU\n",
      "secuencia RNA  UGAACUUUUCGCCAUCGAUGGCAAAAAAUUUAAAGCCGU\n",
      "secuencia RNA  GUAUCGAAGUUACGGCGGCAAAUCACGGAUAUCUGGUGCUGAUUGGCGACUGUGCGCAUCAAAAUCAGCAGGAAAAAACCUUUAUCGAUUUGAUCAUCACC\n",
      "secuencia RNA  GAUAAUACGAUCGAGUUUGCUCUGCAGAUCGAACACCAGACGAUCGACGAAAUGCAGAUCGUCAUGGGUCAUCGUCGCAUCCUGAAUGCGCAACAGAUUAG\n",
      "secuencia RNA  AUGCGCGAUCAUUCAACGCGCCAUUUAUGGACCACCUUUAGUGACGAUCAAAUUGACCUGAAUUACCGUAGCCCUGAAGUGUUGCUGGCGAUGGUGGAUGU\n",
      "secuencia RNA  UUAGAGAUCUGUUCUAUUGUGAUCUCUUAUUAGGAUCGCACUGCCCUGUGGAUAACAAGGAUCCGGCUUUUAAGAUCAACAACCUGGAAAGGAUCAUUAAC\n",
      "secuencia RNA  CCCUUCCUCAUGCCGUGAGCGGCGAAUACUAAUAACCAUUUUCUCUCCUUUUAGUCAUUCUUAUAUUCUAACGUAGUCUUUUCCUUGAAACUUUCUCACCU\n",
      "secuencia RNA  AACUUGAAAACCAAAAUAUAUUCUUGAACGUCCAUGUCAGUAAUGUUGCUAAGAAGUAUCCAAAUCACGUUGAGUGACUUAGGUAAAAUGAACAGAAAAA\n",
      "secuencia RNA  GGCGGGGAGCAUGCUGAUUUUUUAAGUUGGCUGGGAAAGUGGACCACGGCAGAUAAACAACCCGUUUGCUGGUCAGUGACCCAACGCUGGCAAACUGUCGC\n",
      "secuencia RNA  UGUUGCCGUUGAAGCCGCGCGAGCGGGUGAGCAAGGGCGUGGAUUUGCCGUUGUCGCCAGCGAAGUACGGACACUCGCAAGUCGCAGCGCUCAGGCGGCGA\n",
      "secuencia RNA  AGUUCUGAACCUUCUUAUCAGAAAUAGAUGUGAAGGAGUAAGUAAGACACCUGGCAAAUAGCCUGCAAUAAUCGUGGGCUGUUUGCUUCCUUGGGCGGAUA\n",
      "secuencia RNA  CCAGAUUAUGAGUGCUGGUACGGGUAUUCGUCACUCAGAGUACAACCCAAGCAGCACCGAGCGUCUGCAUCUGUAUCAGAUCUGGAUCAUGCCUGAAGAAA\n",
      "secuencia RNA  AACAUUUUAAUGCCACAGAUGCGUAAUCCGGUUGCCAGCAGCAAUAAACCGCCUACGGCGCUGAAGUCUGCCAUCAUCGACGGUGUGGUCAGCGGUAAAAU\n",
      "secuencia RNA  GUAAACCAUCACCUGACGCUGUUUCAUCAGCGCAGCCAUACGUACGGCGUUACGUGCGUAUUCCACGAACAUCAGGAAGGUGGAGGUGUACGGCAGGAAGC\n",
      "secuencia RNA  AGUCGGAUACAGUGAUAGUGAACUCUUUUCCACCUGGUUGAUAACUUUCAGGAGUAACAUUACCUGAAAAAUAUCCCACCCCAACGACGCCAAGAUCAAUA\n",
      "secuencia RNA  AAAUCGAGCCAGUGGCGCAGCCUGGCGUUGCGCCGCGCCAGUGGUUGCCCGGUAUGCGGAGGAAGCAAUGCAGAUCCUGUUUAACGAUCAAGCGAUGCAGU\n",
      "secuencia RNA  UAACCCGUCUGGUUUGGGCAUGAUACUGAUGUAGUCACGCUUUAUCGUUUUCACGAAGCUCUCUGCUAUUCCGUUACUCUCCGGACUCCGCACCGCCGUGU\n",
      "secuencia RNA  AUCUCGAUACCCACGAUCGCAUCAUGCGCCUGCUGGCAAGCUACAGCCAAUGUACGGUGAUUGGUAUUGAUUACACCCUUUCACCUGAAGCGCGUUUUCCG\n",
      "secuencia RNA  GGCGCACAUACGCUGCCAUUUCGGCCCAGGCCACAGCGCCACAAUCACCAGCAGGGCAAUCAACAAUGCCCCGACCGCCGCGAUGGUUGUCGACACCAGCG\n",
      "secuencia RNA  GAUGGUGCUGCGCCGUUGCCAACCGAUCAGGCUGGCGUGACCACGCCGGUGGCUGAUCCGAAUGCGCUGGUGAUGAACUUUACUGCCGAUUGCUGGCUGGA\n",
      "secuencia RNA  GAGUUGUAAAUUCGGUCAUGAUAAUAAUUCUUAGUAUUAAUUCGGCAAUCUGAUUCUACUCCCCCCCAGUACCUGAUACUACCCCCCAGUAGAUUAAUAGU\n",
      "secuencia RNA  GACGUAAAGCCAAUAACCAGAAUGCCAGCACCAGCGCAAUCAUUAGAGCUACCAUUGGUGAGCCGAUCAGCUGUAGCGUACCAAGCAGGGGAUGCGAAGGC\n",
      "secuencia RNA  UCAUCCUGGGUAUCCCAGAAUUUCUUGAUCAUCGCGGUUAGCGCCGGAACAGAAAGCGGCUUACUCAGCACAUCAUCCAUUCAAGCAUUGAGGUACUCUUG\n",
      "secuencia RNA  CGCGGAUUGGCGUCUCGAACAGUUUGAAGUUAACCAGCAGCGUGAUGCACUCUUCCAGAGCGAUGCGUUCGUCAACAAACUGGAAGAAGGUCACACCAACG\n",
      "secuencia RNA  GGCGCUGCCUGCGGUAAUAGAGAAAUCCGUUGAGCCGAUGAAGUCAAUCGACGGUAUCAAGAUUAUUCAGGUCGAUGGUCUGAAUCGUGGCGGCGCUGCGG\n",
      "secuencia RNA  CGCCUUCACUUUCGCGGUGAUGGCGCUGUCAUCCAUGAAAUUACCGACUUUAUUCAUAGAGCUAUCGACUUUUUGCCCUGCGCUUUCAUUGGUAGUCUGCG\n",
      "secuencia RNA  CAUUGAUCGCAGGCAUACCAUCAACUUCUGCCUGUCUGCGAAGGUGCGCC\n",
      "secuencia RNA  ACUCGCUAUUGACAUGGCGAAACAGCGGUAGCGUUUUGUUGGCGAUAUCCAGCGCCAGCUUGGCCUGCCGCGCGGCGCUGGCCUCUUUUUCGCCCUCAACG\n",
      "secuencia RNA  GAGCCUGCUCCCUGGAGGCACCACCUAAAUUUUCCUGAAGUUGAGCGAGGUUAAUGUUGGCAUAACGAUAAAAAACACCCGAUGAAAAUUCCUGAGUUCCC\n",
      "secuencia RNA  GCAUUUUCAGACGACCAUCGGCAAACCAGCUAAUCACCAGUGGAUAAAUGGCGUGGUCCUGGGUUUGCACGCGGGCGGUGAUGUCAUCUUCCGAAUCACCC\n",
      "secuencia RNA  ACCGUUGGCGCUGAUUUUUUGCCGAUUGGUCAGCACUGUAUUUUCGUCAACGCCCAACCAGGGAAUGAUCCCCGCUUCUUUGCGGUUUUCUGGCGUAUAGC\n"
     ]
    }
   ],
   "source": [
    "#fastq es como fasta, pero ademas de la secuencia este tiene asociado la calidad de esta\n",
    "from Bio import SeqIO\n",
    "datos = SeqIO.parse (\"reads.fastq\" , \"fastq\")\n",
    "RNA = []\n",
    "for read in datos:\n",
    "    RNA.append(read)\n",
    "    RNA[0].seq\n",
    "\n",
    "\n",
    "for read in RNA [0:]:\n",
    "    read.seq = read.seq.transcribe()\n",
    "    print(\"secuencia RNA \" , read.seq)\n",
    "    \n",
    "   "
   ]
  },
  {
   "cell_type": "markdown",
   "metadata": {},
   "source": [
    "Con el archivo 'SI_marker.gb', traducir la secuencia con el código genético correspondiente y escribirla en un archivo fasta."
   ]
  },
  {
   "cell_type": "code",
   "execution_count": null,
   "metadata": {},
   "outputs": [],
   "source": []
  }
 ],
 "metadata": {
  "kernelspec": {
   "display_name": "Python 3",
   "language": "python",
   "name": "python3"
  },
  "language_info": {
   "codemirror_mode": {
    "name": "ipython",
    "version": 3
   },
   "file_extension": ".py",
   "mimetype": "text/x-python",
   "name": "python",
   "nbconvert_exporter": "python",
   "pygments_lexer": "ipython3",
   "version": "3.7.1"
  }
 },
 "nbformat": 4,
 "nbformat_minor": 2
}
