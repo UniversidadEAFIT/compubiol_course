{
 "cells": [
  {
   "cell_type": "markdown",
   "metadata": {},
   "source": [
    "# **Entrez: Sistema de retorno de bases de datos (NCBI)**"
   ]
  },
  {
   "cell_type": "markdown",
   "metadata": {},
   "source": [
    "## **Acceso con Biopython**"
   ]
  },
  {
   "cell_type": "markdown",
   "metadata": {},
   "source": [
    "## Simón Villanueva"
   ]
  },
  {
   "cell_type": "markdown",
   "metadata": {},
   "source": [
    "Entrez, es un sistema de retorno de datos que permite a los usuarios acceder a las [bases de datos del NCBI](https://www.ncbi.nlm.nih.gov/search/?expt_dict=b&utm_expid=.DBAxP8EQR36MD9GU0WtSdg.2&utm_referrer=) como PubMed, GenBank, GEO, etc."
   ]
  },
  {
   "cell_type": "markdown",
   "metadata": {},
   "source": [
    "### **Normas de Entrez**"
   ]
  },
  {
   "cell_type": "markdown",
   "metadata": {},
   "source": [
    "Imaginense que son un base de datos que compila básicamente todo elconocimiento de las ciencias de la vida y que le ofreces acceso público a nivel mundial. ¿Cuantas solicitudes de datos creen que puedan generarse en un día? ¿En una hora? ¿En un minuto? ¿En un segundo?\n",
    "\n",
    "Claramente, si ésto no se regula, hay que ir buscando otro \"computador\" (Y este sí que es _Grande_ $\\rightarrow$ \\$\\$\\$)\n",
    "\n",
    "Entonces, para acceder a los datos hay que seguir las normas establecidas por el NCBI:\n",
    "\n",
    "- Si se va a hacer una serie de más de 100 solicitudes, hacerla en fines de semana o en horas no-pico de USA\n",
    "- Usar este link [https://www.ncbi.nlm.nih.gov/books/NBK25501/](https://www.ncbi.nlm.nih.gov/books/NBK25501/) para hacer las solicitudes $^*$. \n",
    "- No hacer más de 1 solicitud cada 3 segundos $^*$\n",
    "- Identificarse: proveer un correo en caso de que el NCBI te quiera contactar. No usar correos inexistentes, es preferible no identificarse.\n",
    "- Para incrementar la tasa de solicitudes, utilizar una API-key (hasta 10 solicitudes por segundo).\n",
    "\n",
    "$^*$Biopython hace esto por nosotros\n",
    "\n",
    "En caso de no seguir los lineamientos, el NCBI puede bloquearte el acceso a sus bases de datos."
   ]
  },
  {
   "cell_type": "markdown",
   "metadata": {},
   "source": [
    "### **EInfo: Información de las bases de datos**"
   ]
  },
  {
   "cell_type": "markdown",
   "metadata": {},
   "source": [
    "Con **Einfo** podemos obtener información acerca de las bases de datos que tiene el NCBI. ¿Cómo vamos a utilizar la información del NCBI si no sabemos qué hay?"
   ]
  },
  {
   "cell_type": "code",
   "execution_count": 1,
   "metadata": {},
   "outputs": [],
   "source": [
    "from Bio import Entrez"
   ]
  },
  {
   "cell_type": "markdown",
   "metadata": {},
   "source": [
    "### **Importante:** antes de ejecutar las siguientes celdas, cambien el **correo** por el de ustedes."
   ]
  },
  {
   "cell_type": "code",
   "execution_count": 4,
   "metadata": {},
   "outputs": [],
   "source": [
    "Entrez.email = \"svillanu@eafit.edu.co\"  # Cambienlo por su correo\n",
    "handle = Entrez.einfo()\n",
    "result = Entrez.read(handle)\n",
    "handle.close()"
   ]
  },
  {
   "cell_type": "code",
   "execution_count": 9,
   "metadata": {},
   "outputs": [
    {
     "name": "stdout",
     "output_type": "stream",
     "text": [
      "pubmed\n",
      "protein\n",
      "nuccore\n",
      "ipg\n",
      "nucleotide\n",
      "nucgss\n",
      "nucest\n",
      "structure\n",
      "sparcle\n",
      "genome\n",
      "annotinfo\n",
      "assembly\n",
      "bioproject\n",
      "biosample\n",
      "blastdbinfo\n",
      "books\n",
      "cdd\n",
      "clinvar\n",
      "clone\n",
      "gap\n",
      "gapplus\n",
      "grasp\n",
      "dbvar\n",
      "gene\n",
      "gds\n",
      "geoprofiles\n",
      "homologene\n",
      "medgen\n",
      "mesh\n",
      "ncbisearch\n",
      "nlmcatalog\n",
      "omim\n",
      "orgtrack\n",
      "pmc\n",
      "popset\n",
      "probe\n",
      "proteinclusters\n",
      "pcassay\n",
      "biosystems\n",
      "pccompound\n",
      "pcsubstance\n",
      "pubmedhealth\n",
      "seqannot\n",
      "snp\n",
      "sra\n",
      "taxonomy\n",
      "biocollections\n",
      "unigene\n",
      "gencoll\n",
      "gtr\n"
     ]
    }
   ],
   "source": [
    "for db in result[\"DbList\"]:\n",
    "    print(db)"
   ]
  },
  {
   "cell_type": "markdown",
   "metadata": {},
   "source": [
    "***\n",
    "¿Y entonces? A duras pensa reconocemos 5. Pidamos la descripción de cada una a ver si se vuelve más informativo."
   ]
  },
  {
   "cell_type": "code",
   "execution_count": 26,
   "metadata": {},
   "outputs": [
    {
     "name": "stdout",
     "output_type": "stream",
     "text": [
      "Base de datos \t Descripción \t número de entradas\n",
      "pubmed \t \t PubMed bibliographic record \t \t 28882965\n",
      "protein \t \t Protein sequence record \t \t 581056830\n",
      "nuccore \t \t Core Nucleotide db \t \t 267669951\n",
      "ipg \t \t Identical Protein Groups DB \t \t 190454339\n",
      "nucleotide \t \t Core Nucleotide db \t \t 267669951\n",
      "nucgss \t \t GSS db \t \t 40713027\n",
      "nucest \t \t EST db \t \t 77036622\n",
      "structure \t \t Three-dimensional molecular model \t \t 143638\n",
      "sparcle \t \t Protein classification by domain architecture \t \t 134334\n",
      "genome \t \t Genomic sequences, contigs, and maps \t \t 49824\n",
      "annotinfo \t \t Annotinfo Database \t \t 834\n",
      "assembly \t \t Genome Assembly Database \t \t 212701\n",
      "bioproject \t \t BioProject Database \t \t 312433\n",
      "biosample \t \t BioSample Database \t \t 9170040\n",
      "blastdbinfo \t \t BlastdbInfo Database \t \t 4491394\n",
      "books \t \t Books Database \t \t 754531\n",
      "cdd \t \t Conserved Domain Database \t \t 56066\n",
      "clinvar \t \t ClinVar Database \t \t 444312\n",
      "clone \t \t Clone Database \t \t 38326156\n",
      "gap \t \t dbGaP Data \t \t 344732\n",
      "gapplus \t \t Internal Genotypes and Phenotypes database \t \t 136796\n",
      "grasp \t \t grasp Data \t \t 7862970\n",
      "dbvar \t \t dbVar records \t \t 5227847\n",
      "gene \t \t Gene database \t \t 33159588\n",
      "gds \t \t GEO DataSets \t \t 2778908\n",
      "geoprofiles \t \t Genes Expression Omnibus \t \t 128414055\n",
      "homologene \t \t HomoloGene Database \t \t 141268\n",
      "medgen \t \t Medgen Database \t \t 307690\n",
      "mesh \t \t MeSH Database \t \t 277157\n",
      "ncbisearch \t \t NcbiSearch Database \t \t 3941\n",
      "nlmcatalog \t \t NLM Catalog Database \t \t 1588234\n",
      "omim \t \t OMIM records \t \t 25754\n",
      "orgtrack \t \t Orgtrack Database \t \t 6200\n",
      "pmc \t \t PubMed Central \t \t 5199909\n",
      "popset \t \t PopSet sequence record \t \t 309182\n",
      "probe \t \t Probe DB \t \t 32407923\n",
      "proteinclusters \t \t Protein Cluster record \t \t 1137329\n",
      "pcassay \t \t PubChem BioAssay Database \t \t 1065624\n",
      "biosystems \t \t BioSystems Database \t \t 983968\n",
      "pccompound \t \t PubChem Compound Database \t \t 96532203\n",
      "pcsubstance \t \t PubChem Substance Database \t \t 247673269\n",
      "pubmedhealth \t \t PubMed Health Database \t \t 72301\n",
      "seqannot \t \t SeqAnnot Database \t \t 187570\n",
      "snp \t \t Single Nucleotide Polymorphisms \t \t 672043185\n",
      "sra \t \t SRA Database \t \t 6397322\n",
      "taxonomy \t \t Taxonomy db \t \t 2006261\n",
      "biocollections \t \t Biocollections db \t \t 7671\n",
      "unigene \t \t UniGene database \t \t 6473284\n",
      "gencoll \t \t GenColl Database \t \t 714288\n",
      "gtr \t \t GTR Database \t \t 55282\n"
     ]
    }
   ],
   "source": [
    "print(\"Base de datos \\t Descripción \\t número de entradas\")\n",
    "for db in result[\"DbList\"]:\n",
    "    handle = Entrez.einfo(db=db)\n",
    "    record = Entrez.read(handle)\n",
    "    desc = record[\"DbInfo\"][\"Description\"]\n",
    "    #print(type(desc))\n",
    "    entries = record[\"DbInfo\"][\"Count\"]\n",
    "    #print(type(entries))\n",
    "    print(\"%s \\t \\t %s \\t \\t %s\" % (db, str(desc), str(entries)))"
   ]
  },
  {
   "cell_type": "markdown",
   "metadata": {},
   "source": [
    "***\n",
    "Un poco desorganizado, pero bueno. Hay descripciones informatias, y otras que lo dejan a uno en las mismas ¿Quién dijo que el NCBI era perfecto?\n",
    "\n",
    "Notese el número de entradas asociadas a cada base de datos... \n",
    "- PubChem tiene identificado más de 247 millones de sustancias\n",
    "- Existen más de 267 millones de secuencias de nucleotidos\n",
    "- Hay más de 581 millones de secuencias de proteinas\n",
    "\n",
    "Los científicos se pasan...\n",
    "\n",
    "Otra cosa información importante que nos puede retornar **Einfo** es la lista de filtro que podemos usar qen cada base de datos, con el fin de hacer mejores búsquedas"
   ]
  },
  {
   "cell_type": "code",
   "execution_count": 13,
   "metadata": {},
   "outputs": [
    {
     "data": {
      "text/plain": [
       "'PubMed bibliographic record'"
      ]
     },
     "execution_count": 13,
     "metadata": {},
     "output_type": "execute_result"
    }
   ],
   "source": [
    "handle = Entrez.einfo(db=\"pubmed\")\n",
    "rec = Entrez.read(handle)\n",
    "rec[\"DbInfo\"][\"Description\"]"
   ]
  },
  {
   "cell_type": "code",
   "execution_count": 31,
   "metadata": {},
   "outputs": [
    {
     "name": "stdout",
     "output_type": "stream",
     "text": [
      "ALL, All Fields, All terms from all searchable fields\n",
      "UID, UID, Unique number assigned to publication\n",
      "FILT, Filter, Limits the records\n",
      "WORD, Text Word, Free text associated with record\n",
      "WRD1, Text Word 1, Free text associated with record with higher score then regular TEXT field\n",
      "PROP, Properties, Properties of this record\n",
      "ORG, Organization names, Lab or Clinic name including institution and department\n",
      "OID, Organization UID, Unique number for this lab/clinic\n",
      "CITY, Organization City, Lab or clinic city\n",
      "STATE, Organization State, Lab or clinic State or province\n",
      "COUNTRY, Organization Country, Lab or clinic Country\n",
      "POSTCODE, Organization postcode, Lab or clinic zip or postcode\n",
      "DIRECTOR, Organization Director(s), Lab or clinic director(s)\n",
      "STAFF, Organization Staff, Lab or clinic Staff name\n",
      "LS, Lab Service name, Lab Service name\n",
      "GTRACC, Accession for GTR test, Accession for GTR test\n",
      "MDAT, Modification Date, The last date on which the record was updated\n",
      "NAME, name for this test, name for this test\n",
      "ALT, Alternate name, alternate short and full names for test\n",
      "TESTDIS, disease name for this test, preferred name of disease by lab\n",
      "SPECIMEN, Specimen options for test, Specimen options for test\n",
      "TITL, title of this clinvar assertion, title of this clinvar assertion\n",
      "CVACC, Accession for clinvar assertion, Accession for clinvar assertion\n",
      "DCUI, Disease BioConcepts concept id, Concept identifier from BioConcepts for a disease\n",
      "DISNAME, Name of Disease, preferred full name\n",
      "GCUI, Gene BioConcepts concept id, Concept identifier from BioConcepts for a gene\n",
      "GENEID, UID for a record from Gene, Unique number for this record\n",
      "SYMB, Gene Symbol, Symbol or symbols of the gene\n",
      "GENENAME, Name of Gene, preferred full name\n",
      "GENEMIM, MIM number for the Gene, MIM number for the Gene\n",
      "PROTNAME, Name of Protein, preferred full name\n",
      "MTOD, Name of Method, method name\n",
      "MCAT, name for method category, name for method category\n",
      "TCAT, name for method top category, name for method top category\n",
      "LCRT, laboratory certification, laboratory certification\n",
      "CID, Country ISO code, Country ISO code\n",
      "SID, State ISO code, State ISO code\n",
      "TCID, Top Method Category ID, Top Method Category ID\n",
      "CTID, Method Category ID, Method Category ID\n",
      "MTID, Test Method ID, Test Method ID\n",
      "DID, Disease BioConcepts Entrez ID, Disease BioConcepts Entrez ID\n",
      "ORGN, Organism, scientific and common names of organism\n",
      "TARPOP, Target Population option for the test, Target Population option for the test\n",
      "CLNUTL, Clinical Utility option for the test, Clinical Utility option for the test\n",
      "CLNVAL, Clinical Validity option for the test, Clinical Validity option for the test\n",
      "GENENUM, Number of genes, Number of genes explicitly listed as being targeted in a test\n",
      "pharma, Pharmacogenetic response condition, Names of conditions that are identified as being pharmacogenetic responses\n",
      "STID, Specimen Type ID, Specimen Type ID\n",
      "TESTTARGET, Test target, Test target\n",
      "ALYT, Analyte, Analyte\n",
      "CHRG, Chromosomal region, Chromosomal region/Mitochondrion\n",
      "TESTGENE, Test gene, Test gene symbol or name\n"
     ]
    }
   ],
   "source": [
    "for field in record[\"DbInfo\"][\"FieldList\"]:\n",
    "     print(\"%(Name)s, %(FullName)s, %(Description)s\" % field)"
   ]
  },
  {
   "cell_type": "markdown",
   "metadata": {},
   "source": [
    "***\n",
    "Evidentemente, hay decenas de filtros que ~~no~~ utilizar\n"
   ]
  },
  {
   "cell_type": "markdown",
   "metadata": {},
   "source": [
    "### **ESearch: Busquedas en las bases de datos**"
   ]
  },
  {
   "cell_type": "markdown",
   "metadata": {},
   "source": [
    "Conociendo la base de datos a la que queremos acceder,podemoa hacer búsquedas dentro de esta. Por ejemplo, busquemos artículos de bioinformática de colombia en pubmed."
   ]
  },
  {
   "cell_type": "code",
   "execution_count": 32,
   "metadata": {},
   "outputs": [],
   "source": [
    "handle = Entrez.esearch(db=\"pubmed\", term=\"Bioinformatic[ALL] AND Colombia[COUNTRY]\")\n",
    "record = Entrez.read(handle)"
   ]
  },
  {
   "cell_type": "markdown",
   "metadata": {},
   "source": [
    "Y el resultado es un diccionario que describe los resultados de nuestra búsqueda"
   ]
  },
  {
   "cell_type": "code",
   "execution_count": 34,
   "metadata": {},
   "outputs": [
    {
     "data": {
      "text/plain": [
       "dict_keys(['Count', 'RetMax', 'RetStart', 'IdList', 'TranslationSet', 'TranslationStack', 'QueryTranslation'])"
      ]
     },
     "execution_count": 34,
     "metadata": {},
     "output_type": "execute_result"
    }
   ],
   "source": [
    "record.keys()"
   ]
  },
  {
   "cell_type": "code",
   "execution_count": 35,
   "metadata": {},
   "outputs": [
    {
     "data": {
      "text/plain": [
       "'9'"
      ]
     },
     "execution_count": 35,
     "metadata": {},
     "output_type": "execute_result"
    }
   ],
   "source": [
    "record[\"Count\"]"
   ]
  },
  {
   "cell_type": "markdown",
   "metadata": {},
   "source": [
    "Por ejemplo, sólo encontró 9 artículos con esa descripción **\\#TercerMundo**\n",
    "\n",
    "La lista de los artículos es la siguiente:"
   ]
  },
  {
   "cell_type": "code",
   "execution_count": 38,
   "metadata": {},
   "outputs": [
    {
     "data": {
      "text/plain": [
       "['27622633', '26535546', '25504244', '23715190', '24892459', '22030796', '20890564', '19462562', '15962905']"
      ]
     },
     "execution_count": 38,
     "metadata": {},
     "output_type": "execute_result"
    }
   ],
   "source": [
    "record[\"IdList\"]"
   ]
  },
  {
   "cell_type": "markdown",
   "metadata": {},
   "source": [
    "¿Incomprensible verdad? Son Id's asociados a los artículos, nos serán útiles más adelante cuando queramos acceder a ellos.\n",
    "***\n",
    "Veamos otro ejemplo, busquemos ahora una secuencia en la base de datos del Genbank. Busquemos una secuencia de interés en el Genbank"
   ]
  },
  {
   "cell_type": "code",
   "execution_count": 76,
   "metadata": {},
   "outputs": [
    {
     "data": {
      "text/plain": [
       "'9'"
      ]
     },
     "execution_count": 76,
     "metadata": {},
     "output_type": "execute_result"
    }
   ],
   "source": [
    "handle = Entrez.esearch(db=\"nucleotide\", term=\"Plukenetia[Orgn] AND matK[Gene]\", idtype=\"acc\")\n",
    "record = Entrez.read(handle)\n",
    "record[\"Count\"]"
   ]
  },
  {
   "cell_type": "code",
   "execution_count": 79,
   "metadata": {},
   "outputs": [],
   "source": [
    "id_list = record[\"IdList\"]"
   ]
  },
  {
   "cell_type": "code",
   "execution_count": 80,
   "metadata": {},
   "outputs": [
    {
     "data": {
      "text/plain": [
       "['MF062253.1', 'GQ463881.1', 'LK021490.1', 'LK021489.1', 'LK021488.1', 'LK021487.1', 'JQ587470.1', 'JQ587469.1', 'AB268032.1']"
      ]
     },
     "execution_count": 80,
     "metadata": {},
     "output_type": "execute_result"
    }
   ],
   "source": [
    "id_list"
   ]
  },
  {
   "cell_type": "markdown",
   "metadata": {},
   "source": [
    "### **Ejercicio**"
   ]
  },
  {
   "cell_type": "markdown",
   "metadata": {},
   "source": [
    "Busquen en la base de datos de nucleotidos (o proteinas o metabolitos) una secuencia de interés y guarden los Id que resulten en un lista (Los utilizaremos así que que el resultado tenga **al menos 1** entrada)."
   ]
  },
  {
   "cell_type": "code",
   "execution_count": null,
   "metadata": {},
   "outputs": [],
   "source": []
  },
  {
   "cell_type": "markdown",
   "metadata": {},
   "source": [
    "### **ESummary: resumenes de Ids**"
   ]
  },
  {
   "cell_type": "markdown",
   "metadata": {},
   "source": [
    "Cuando utilizamos **ESearch**, obtuvimos una lista de Id's, que son identificadores únicos asociados a los resultados, pero no tenemos ni idea de qué resultados son los que encontramos. Para saberlo, podemos utilizar ESummary. "
   ]
  },
  {
   "cell_type": "code",
   "execution_count": 112,
   "metadata": {},
   "outputs": [
    {
     "data": {
      "text/plain": [
       "'MF062253.1'"
      ]
     },
     "execution_count": 112,
     "metadata": {},
     "output_type": "execute_result"
    }
   ],
   "source": [
    "id_list[0]"
   ]
  },
  {
   "cell_type": "code",
   "execution_count": 81,
   "metadata": {},
   "outputs": [],
   "source": [
    "handle = Entrez.esummary(db=\"nucleotide\", id=id_list[0])\n",
    "record = Entrez.read(handle)"
   ]
  },
  {
   "cell_type": "code",
   "execution_count": 89,
   "metadata": {},
   "outputs": [
    {
     "data": {
      "text/plain": [
       "dict_keys(['Item', 'Id', 'Caption', 'Title', 'Extra', 'Gi', 'CreateDate', 'UpdateDate', 'Flags', 'TaxId', 'Length', 'Status', 'ReplacedBy', 'Comment', 'AccessionVersion'])"
      ]
     },
     "execution_count": 89,
     "metadata": {},
     "output_type": "execute_result"
    }
   ],
   "source": [
    "record[0].keys()"
   ]
  },
  {
   "cell_type": "markdown",
   "metadata": {},
   "source": [
    "Veamos que información nos retorna"
   ]
  },
  {
   "cell_type": "code",
   "execution_count": 98,
   "metadata": {},
   "outputs": [
    {
     "name": "stdout",
     "output_type": "stream",
     "text": [
      "Item \t\t []\n",
      "Id \t\t 1253214023\n",
      "Caption \t\t MF062253\n",
      "Title \t\t UNVERIFIED: Plukenetia volubilis plastid sequence\n",
      "Extra \t\t gi|1253214023|gb|MF062253.1|[1253214023]\n",
      "Gi \t\t 1253214023\n",
      "CreateDate \t\t 2017/10/15\n",
      "UpdateDate \t\t 2018/04/04\n",
      "Flags \t\t 256\n",
      "TaxId \t\t 316893\n",
      "Length \t\t 161733\n",
      "Status \t\t live\n",
      "ReplacedBy \t\t \n",
      "Comment \t\t   \n",
      "AccessionVersion \t\t MF062253.1\n"
     ]
    }
   ],
   "source": [
    "for key in record[0].keys():\n",
    "    print(\"%s \\t\\t %s\" % (key,record[0][key]))"
   ]
  },
  {
   "cell_type": "markdown",
   "metadata": {},
   "source": [
    "***\n",
    "Depndiendo de la base de datos unos campos pueden tener información que otros no. En nuestro caso, para tener una idea de las secuencias de nuestra búsqueda, usaremos caption, title y lenght. "
   ]
  },
  {
   "cell_type": "code",
   "execution_count": 99,
   "metadata": {},
   "outputs": [
    {
     "name": "stdout",
     "output_type": "stream",
     "text": [
      "TaxID \t Description \t longitud(bp)\n",
      "MF062253 \t UNVERIFIED: Plukenetia volubilis plastid sequence \t 161733\n",
      "GQ463881 \t Plukenetia volubilis tRNA-Lys (trnK) gene, partial sequence; and maturase K (matK) gene, partial cds; plastid \t 447\n",
      "LK021490 \t Plukenetia volubilis chloroplast matK gene for maturase K and partial trnK gene intron, specimen voucher G. Ibarra & Sinaca 3608 (MEXU), isolate EPH200 \t 2506\n",
      "LK021489 \t Plukenetia penninervia chloroplast matK gene for maturase K and partial trnK gene intron, specimen voucher D. Alvarez 8184 (MEXU), isolate EPH229 \t 2486\n",
      "LK021488 \t Plukenetia penninervia chloroplast matK gene for maturase K and partial trnK gene intron, specimen voucher A. Hanan 1387 et al. (MEXU), isolate EPH234 \t 2520\n",
      "LK021487 \t Plukenetia penninervia chloroplast matK gene for maturase K and partial trnK gene intron, specimen voucher J. Calonico 22458 (MEXU), isolate EPH228 \t 2467\n",
      "JQ587470 \t Plukenetia stipellata voucher BioBot06277 maturase K (matK) gene, partial cds; chloroplast \t 753\n",
      "JQ587469 \t Plukenetia stipellata voucher BioBot06276 maturase K (matK) gene, partial cds; chloroplast \t 778\n",
      "AB268032 \t Plukenetia polyadenia chloroplast matK gene for maturase K, partial cds \t 1194\n"
     ]
    }
   ],
   "source": [
    "print(\"TaxID \\t Description \\t longitud(bp)\")\n",
    "for idt in id_list: \n",
    "    handle = Entrez.esummary(db=\"nucleotide\", id=idt)\n",
    "    record = Entrez.read(handle)\n",
    "    print(\"%s \\t %s \\t %s\" % (record[0][\"Caption\"],record[0][\"Title\"],record[0][\"Length\"]))"
   ]
  },
  {
   "cell_type": "markdown",
   "metadata": {},
   "source": [
    "***\n",
    "No está mal, así podemos ver cuál secuencia es la que nos interesa para finalmente descargarla."
   ]
  },
  {
   "cell_type": "markdown",
   "metadata": {},
   "source": [
    "### **Ejercicio**"
   ]
  },
  {
   "cell_type": "markdown",
   "metadata": {},
   "source": [
    "Utilicé **ESummary** para obtener información acerca de los Id's que obtuvo en el ejercicio anterior. ¿Qué encontró?"
   ]
  },
  {
   "cell_type": "code",
   "execution_count": null,
   "metadata": {},
   "outputs": [],
   "source": []
  },
  {
   "cell_type": "markdown",
   "metadata": {},
   "source": [
    "### **EFetch: Descarga  de información de Entrez**"
   ]
  },
  {
   "cell_type": "markdown",
   "metadata": {},
   "source": [
    "EFetch nos permite descargar las entradas de las bases de datos de NCBI. EFecth recibe varios argumentos. pero siempre es necesario especificar el _rettype_ y/o _retmode_ ,los cuales están en función de la base de datos de que queramos acceder. \n",
    "\n",
    "- `db` : Base de datos de la cual descargar. \n",
    "- `id` : Identificador\n",
    "- `rettype` : formato en el cual devolver la información (_e.g._ gb, fasta)\n",
    "- `retmode` : formato de texto (_e.g._ txt, XML, HTML)\n",
    "\n",
    "\n",
    "Esta [Tabla](https://www.ncbi.nlm.nih.gov/books/NBK25499/table/chapter4.T._valid_values_of__retmode_and/?report=objectonly) describe las combinaciones posibles que se pueden emplear.\n",
    "\n",
    "Podemos utilizar Efecth para descargar una secuencia que nos interese del ejercicio anterior"
   ]
  },
  {
   "cell_type": "code",
   "execution_count": 104,
   "metadata": {},
   "outputs": [
    {
     "name": "stdout",
     "output_type": "stream",
     "text": [
      "LOCUS       LK021490                2506 bp    DNA     linear   PLN 04-JAN-2016\n",
      "DEFINITION  Plukenetia volubilis chloroplast matK gene for maturase K and\n",
      "            partial trnK gene intron, specimen voucher G. Ibarra & Sinaca 3608\n",
      "            (MEXU), isolate EPH200.\n",
      "ACCESSION   LK021490\n",
      "VERSION     LK021490.1\n",
      "KEYWORDS    .\n",
      "SOURCE      chloroplast Plukenetia volubilis\n",
      "  ORGANISM  Plukenetia volubilis\n",
      "            Eukaryota; Viridiplantae; Streptophyta; Embryophyta; Tracheophyta;\n",
      "            Spermatophyta; Magnoliophyta; eudicotyledons; Gunneridae;\n",
      "            Pentapetalae; rosids; fabids; Malpighiales; Euphorbiaceae;\n",
      "            Acalyphoideae; Plukenetieae; Plukenetia.\n",
      "REFERENCE   1\n",
      "  AUTHORS   Cervantes,A., Magallon,S., Gutierrez-Amaro,J., Fuentes-Bazan,S. and\n",
      "            Borsch,T.\n",
      "  TITLE     Phylogeny and Biogeography of Acalyphoideae s. str.\n",
      "            (Euphorbiaceae): molecular evidence of at least three Caribbean\n",
      "            lineages with radiations in Cuba and the Hispanola\n",
      "  JOURNAL   Unpublished\n",
      "REFERENCE   2  (bases 1 to 2506)\n",
      "  AUTHORS   Fuentes,S.\n",
      "  TITLE     Direct Submission\n",
      "  JOURNAL   Submitted (14-APR-2014) Spezielle Botanik, FU Berlin,\n",
      "            Altensteinstrasse 6, 14195 Berlin, GERMANY\n",
      "FEATURES             Location/Qualifiers\n",
      "     source          1..2506\n",
      "                     /organism=\"Plukenetia volubilis\"\n",
      "                     /organelle=\"plastid:chloroplast\"\n",
      "                     /mol_type=\"genomic DNA\"\n",
      "                     /isolate=\"EPH200\"\n",
      "                     /specimen_voucher=\"G. Ibarra & Sinaca 3608 (MEXU)\"\n",
      "                     /db_xref=\"taxon:316893\"\n",
      "                     /country=\"Mexico\"\n",
      "     gene            <1..>2506\n",
      "                     /gene=\"trnK\"\n",
      "     intron          <1..>2506\n",
      "                     /gene=\"trnK\"\n",
      "                     /note=\"group II intron\"\n",
      "     gene            776..2293\n",
      "                     /gene=\"matK\"\n",
      "     CDS             776..2293\n",
      "                     /gene=\"matK\"\n",
      "                     /codon_start=1\n",
      "                     /transl_table=11\n",
      "                     /product=\"maturase K\"\n",
      "                     /protein_id=\"CDQ47569.1\"\n",
      "                     /translation=\"MEEYQRYLELARSRKNNFLYPFIFREYIYTFAHDHRSTLLENVG\n",
      "                     YDNKSSLLIVKRLITRMYQQNHLIFSANDSNQNPFFRYNKNLYYQMISEGFAVIMEIP\n",
      "                     FSLRLVSSLERSEIVKSHKLRSIHSIFPFLEDKFPHLNYVSNVLIPYPLHLERLVQIL\n",
      "                     RYWVKDPSSLYLLRLFLHEYWNLNSFFIPKKSISIFTKSNPRFFLFLYNSHIYEYESI\n",
      "                     LFFLRKQSFHLRSTFSRVLLERIAFYGKIEHFAEVFANDFRAILWLFTDPFMHYVRYQ\n",
      "                     GKSILASKDRPLLMKKWKDYFVNLCQCHFYVWFQPEKIHINSLSKHSLNLLGYLSNVQ\n",
      "                     FNSSLVRSQMLENSFIIDKDNTMKKLDTIVPIIPLIGSLAKTKFCNAVGHPISKPTWA\n",
      "                     DSADSDIIDRFVRIYRNLSHYYSGSSKKKNLYRIKYILRLSCVKTLARKHKSTVRTFL\n",
      "                     KRLGLELLEEFVTETEEEQILSLIFPRVSSSLRRLYRGRVWYLDIISINDLANHE\"\n",
      "ORIGIN      \n",
      "        1 atcttttaca catttgtatg aagaaaggac ttcgtccata ccatcggtat agtttgcaag\n",
      "       61 accacgactg atcctgaaag gaatgaatgg aaaaaacagc atgtcgtatc aatggagaat\n",
      "      121 tctaagaata tttcattttt gtcggatcgg gccaaacctc atttgaattc ttggtgcgga\n",
      "      181 acataataaa tgaattctag gttggataaa tgaattcaaa gttgggtcga gtgaataaat\n",
      "      241 ggatagaggc ctacggcccc aattataggg aaacaaaaaa gtatagggaa acaaaaaagt\n",
      "      301 aacgagctta cgttcttaat ttgaatgatt atctgaccta attagacgtt aaaaaaaatt\n",
      "      361 agtgcctaat gcgggaaagt ttttttgtga gcaaattttc gattttcttt taatgagtcc\n",
      "      421 taactattag ctattcccca ctatgagtat gaggggagat gagtgtgtag aagaaagagt\n",
      "      481 atattgataa agatattttt tttccaaaat caaaagagcg attggcttga aaaaataaag\n",
      "      541 gatttctaat cgtttttttc tcttttttcc tataatgaac ataaaccaat tagatggaaa\n",
      "      601 aaagagagga tgggagtccg ttgatgagtt tacctatttc ctttccgagg tatctattct\n",
      "      661 tttctatttc gattagacta ctttgttttt atttttactg tatcgcacta tgtatcattt\n",
      "      721 aataaccaaa tttaaatcct ctatccttgc ttctgaattt caaatcaaat aaaaaatgga\n",
      "      781 ggaatatcaa agatatttag aactagctag atctcgaaag aataacttcc tatacccatt\n",
      "      841 tatctttcgg gagtatattt atacatttgc tcatgatcac agatctactt tgttggaaaa\n",
      "      901 tgtaggttat gataataaat ctagtttatt aattgtaaaa cgtttaatta ctcgaatgta\n",
      "      961 tcaacagaat catttgattt tttctgctaa tgattctaat caaaatccat tttttaggta\n",
      "     1021 caacaagaat ttgtattatc aaatgatatc agagggcttt gcagttatta tggaaattcc\n",
      "     1081 attttcccta cgattagtat cttctttaga aaggtcagag atagtaaaat ctcataaatt\n",
      "     1141 acgatcaatt cattcaatat ttcctttttt agaggacaaa tttccacatt taaattatgt\n",
      "     1201 gtcaaatgta ttaatacctt accccctcca tctagaaaga ttggttcaaa tccttcgcta\n",
      "     1261 ttgggtgaaa gatccctctt ctttgtattt attacggctc tttcttcatg agtattggaa\n",
      "     1321 tttgaacagt ttttttattc caaagaaatc catttctatt tttacaaaaa gtaatccaag\n",
      "     1381 atttttcttg ttcctatata attctcatat atatgaatat gaatccatct tattttttct\n",
      "     1441 ccgtaagcaa tcctttcatt tacgatcaac attttctcga gtacttcttg aacgaattgc\n",
      "     1501 tttctatgga aaaatagagc attttgcgga agtctttgct aatgattttc gggccattct\n",
      "     1561 atggttgttc acggatccct tcatgcatta tgttagatat caaggaaaat ccattttggc\n",
      "     1621 ttcaaaagat aggcctcttc tgatgaaaaa atggaaagat tactttgtca atttatgtca\n",
      "     1681 atgtcatttt tatgtatggt ttcaaccaga aaagatccat ataaattcat tatctaagca\n",
      "     1741 ttctctcaac cttttgggct atctttcaaa tgtacaattt aattcttcgt tggtacggag\n",
      "     1801 tcaaatgtta gaaaattcat ttataataga taaagataat actatgaaga aactcgatac\n",
      "     1861 aatagttcca attattcctt taattggatc attggcaaaa acaaaatttt gtaacgcagt\n",
      "     1921 aggacatccc attagtaaac cgacctgggc tgattcagcg gattctgata ttatcgaccg\n",
      "     1981 atttgtgcgt atatacagaa atctttctca ttattatagt ggatcctcaa aaaaaaagaa\n",
      "     2041 tttgtatcga ataaaatata tacttcgact ttcttgtgtt aaaactttgg ctcgtaaaca\n",
      "     2101 caaaagtact gtacgcactt ttttgaaaag actaggtttg gaattattag aagaatttgt\n",
      "     2161 tacggaaacg gaagaagaac agattctttc tttgatcttc cccagggttt cttctagttt\n",
      "     2221 gcgcaggtta tatagaggac gggtttggta tttggatatt atttctatca atgatttggc\n",
      "     2281 caatcatgaa taattggtta tgaaaatatg taaatcgaaa ttttccttaa atgatgaagg\n",
      "     2341 gataacaaaa aattcatttt tttctcttat gaaatgctca tacagtatac gagtaaggat\n",
      "     2401 tgagcagctg agtattcaac ttccttagag gtttcgtctg cggttttgat gtatacatag\n",
      "     2461 ggaaagccat gtgcaataaa aaatgcaagc acggcttgga gaggga\n",
      "//\n",
      "\n",
      "\n"
     ]
    }
   ],
   "source": [
    "handle = Entrez.efetch(db=\"nucleotide\", id=id_list[2], rettype=\"gb\", retmode=\"text\")\n",
    "print(handle.read())"
   ]
  },
  {
   "cell_type": "markdown",
   "metadata": {},
   "source": [
    "***\n",
    "¡Y así obtuvimos un Genbank! Sin embargo, eso así en texto no deja explorar la información facilmente. Por suerte tenemos **SeqIO**"
   ]
  },
  {
   "cell_type": "code",
   "execution_count": 105,
   "metadata": {},
   "outputs": [],
   "source": [
    "from Bio import SeqIO"
   ]
  },
  {
   "cell_type": "code",
   "execution_count": 106,
   "metadata": {},
   "outputs": [],
   "source": [
    "handle = Entrez.efetch(db=\"nucleotide\", id=id_list[2], rettype=\"gb\", retmode=\"text\")\n",
    "my_gb = SeqIO.read(handle, \"genbank\")"
   ]
  },
  {
   "cell_type": "code",
   "execution_count": 111,
   "metadata": {},
   "outputs": [
    {
     "data": {
      "text/plain": [
       "'Plukenetia volubilis chloroplast matK gene for maturase K and partial trnK gene intron, specimen voucher G. Ibarra & Sinaca 3608 (MEXU), isolate EPH200'"
      ]
     },
     "execution_count": 111,
     "metadata": {},
     "output_type": "execute_result"
    }
   ],
   "source": [
    "my_gb.description"
   ]
  },
  {
   "cell_type": "code",
   "execution_count": 109,
   "metadata": {},
   "outputs": [
    {
     "data": {
      "text/plain": [
       "Seq('ATCTTTTACACATTTGTATGAAGAAAGGACTTCGTCCATACCATCGGTATAGTT...GGA', IUPACAmbiguousDNA())"
      ]
     },
     "execution_count": 109,
     "metadata": {},
     "output_type": "execute_result"
    }
   ],
   "source": [
    "my_gb.seq"
   ]
  },
  {
   "cell_type": "markdown",
   "metadata": {},
   "source": [
    "### **Ejercicio**"
   ]
  },
  {
   "cell_type": "markdown",
   "metadata": {},
   "source": [
    "Utilizando **EFetch** descarguen las secuencias de su lista de Id's y escribanas en mismo archivo (formato de libre elección)"
   ]
  },
  {
   "cell_type": "code",
   "execution_count": null,
   "metadata": {},
   "outputs": [],
   "source": []
  }
 ],
 "metadata": {
  "kernelspec": {
   "display_name": "Python 3",
   "language": "python",
   "name": "python3"
  },
  "language_info": {
   "codemirror_mode": {
    "name": "ipython",
    "version": 3
   },
   "file_extension": ".py",
   "mimetype": "text/x-python",
   "name": "python",
   "nbconvert_exporter": "python",
   "pygments_lexer": "ipython3",
   "version": "3.6.4"
  }
 },
 "nbformat": 4,
 "nbformat_minor": 2
}
