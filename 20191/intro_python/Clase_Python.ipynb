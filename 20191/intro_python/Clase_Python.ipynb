{
 "cells": [
  {
   "cell_type": "markdown",
   "metadata": {},
   "source": [
    "# Introducción a la programación en Python\n",
    "by Javier Correa Alvarez, PhD <br>\n",
    "Fund. Biología Computacional BI436 <br>\n",
    "![title](pic1.png)"
   ]
  },
  {
   "cell_type": "markdown",
   "metadata": {},
   "source": [
    "## Contenido\n",
    "- [Introducción](#Introducción)\n",
    "- [¿Por qué Python?](#¿Por-qué-Python?)\n",
    "- [¿Cómo instalar Python?](#¿Cómo-instalar-Python?)\n",
    "- [Hello World!](#Hello-World!)\n",
    "- [Sintáxis de Python](#Sintáxis-de-Python)\n",
    "- [Manupulando Strings y salidas de la consola (cap 2:25-37)](#Operaciones-con-Strings)\n",
    "- [*Ejercicios 1*](#Ejercicios-1)\n",
    "- [Loops](#Loops)\n",
    "- [Leyendo y escribiendo archivos](#Leyendo-y-escribiendo-archivos)\n",
    "- [*Ejercicios 2*](#Ejercicios-2)\n",
    "- Métodos y expresiones regulares\n",
    "- Biopython\n",
    "- *Ejercicios - Taller 3*"
   ]
  },
  {
   "cell_type": "markdown",
   "metadata": {},
   "source": [
    "## Introducción\n",
    "\n",
    "### ¿Por qué Python?\n",
    "\n",
    "1. Es un lenguaje de programación de alto nivel cuya filosofía hace hincapié en una sintaxis muy limpia y que favorezca un código legible. <br>\n",
    "2. Es administrado por la Python Software Foundation. Posee una licencia de código abierto, denominada Python Software Foundation License.<br>\n",
    "3. Si usted aprende al menos el 30% del lenguaje será más productivo y usted tomará el control de su investigación.<br>\n",
    "\n"
   ]
  },
  {
   "cell_type": "markdown",
   "metadata": {},
   "source": [
    "![gif_lang](PythonGIF.gif)"
   ]
  },
  {
   "cell_type": "markdown",
   "metadata": {},
   "source": [
    "### Rankings of Programming Language\n",
    "![rank](rank.png)"
   ]
  },
  {
   "cell_type": "markdown",
   "metadata": {},
   "source": [
    "### ¿Que atributos tiene python?\n",
    "\n",
    "- Interpretado e Interactivo\n",
    "- Fácil de aprender, programar y leer (menos bugs)\n",
    "- De muy alto nivel\n",
    "- Multiparadigma\n",
    "- Orientado a objetos\n",
    "- Libre y con licencia permisiva\n",
    "- Eficiente\n",
    "- Versátil y potente!\n",
    "- Con gran documentación\n",
    "- Y una gran comunidad de usuarios"
   ]
  },
  {
   "cell_type": "code",
   "execution_count": 1,
   "metadata": {},
   "outputs": [
    {
     "name": "stdout",
     "output_type": "stream",
     "text": [
      "The Zen of Python, by Tim Peters\n",
      "\n",
      "Beautiful is better than ugly.\n",
      "Explicit is better than implicit.\n",
      "Simple is better than complex.\n",
      "Complex is better than complicated.\n",
      "Flat is better than nested.\n",
      "Sparse is better than dense.\n",
      "Readability counts.\n",
      "Special cases aren't special enough to break the rules.\n",
      "Although practicality beats purity.\n",
      "Errors should never pass silently.\n",
      "Unless explicitly silenced.\n",
      "In the face of ambiguity, refuse the temptation to guess.\n",
      "There should be one-- and preferably only one --obvious way to do it.\n",
      "Although that way may not be obvious at first unless you're Dutch.\n",
      "Now is better than never.\n",
      "Although never is often better than *right* now.\n",
      "If the implementation is hard to explain, it's a bad idea.\n",
      "If the implementation is easy to explain, it may be a good idea.\n",
      "Namespaces are one honking great idea -- let's do more of those!\n"
     ]
    }
   ],
   "source": [
    "import this"
   ]
  },
  {
   "cell_type": "markdown",
   "metadata": {},
   "source": [
    "### ¿Cómo instalar Python?\n",
    "\n",
    "¿Cúal sistema operativo tienes?<br>\n",
    "![OS](OS.png)\n",
    "\n",
    "Para los dos primeros felicidades, **ya lo tienes instalado!!!**<br>\n",
    "\n",
    "Solo es abrir la terminal y digitar python + return. Obtendrás la versón de instalación y entrarás al programa.<br>"
   ]
  },
  {
   "cell_type": "code",
   "execution_count": null,
   "metadata": {},
   "outputs": [
    {
     "name": "stdout",
     "output_type": "stream",
     "text": [
      "bash: fg: %%bash: no such job\n",
      "Python 3.6.3 |Anaconda, Inc.| (default, Oct  6 2017, 12:04:38) \n",
      "[GCC 4.2.1 Compatible Clang 4.0.1 (tags/RELEASE_401/final)] on darwin\n",
      "Type \"help\", \"copyright\", \"credits\" or \"license\" for more information.\n"
     ]
    }
   ],
   "source": [
    "%%bash\n",
    "python"
   ]
  },
  {
   "cell_type": "markdown",
   "metadata": {},
   "source": [
    "### ¿Cómo podemos usar Python?\n",
    "\n",
    "- Consolas interactivas<br>\n",
    "- Jupyter<br>\n",
    "- Scripts<br>"
   ]
  },
  {
   "cell_type": "markdown",
   "metadata": {},
   "source": [
    "> ### Scripting en la terminal\n",
    "Abrir un procesador de texto y crear un archivo con la extensión .py y ejecutarlo desde la terminal"
   ]
  },
  {
   "cell_type": "code",
   "execution_count": null,
   "metadata": {
    "collapsed": true
   },
   "outputs": [],
   "source": []
  },
  {
   "cell_type": "raw",
   "metadata": {},
   "source": [
    "#! /usb/bin/env python\n",
    "# Uso: python temp_amb.py\n",
    "#Creacion de variable que se recibe de la consola el valor en grados fahrenheit de la temperatura ambiente\n",
    "#Se cambia el tipo de objeto de str a float, averiguar que es esto\n",
    "temp_actual = float(input(\"Entre la temperatura en grados Fahrenheit: \"))\n",
    "\n",
    "#funcion para cambiar de Fahrenheit a Celsus\n",
    "def change_fatoce(temp_actual):\n",
    "    TC = (temp_actual - 32.0) * 5/9\n",
    "    return TC\n",
    "    \n",
    "#Guardo el valor calculado en celsus\n",
    "TF = change_fatoce(temp_actual)\n",
    "\n",
    "\n",
    "#Imprimo el resultado\n",
    "print(\"La temperatura en grados celsus es: \" + str(TF) + \"C\")\n",
    "#Por que hubo necesidad de volver TF un string?"
   ]
  },
  {
   "cell_type": "code",
   "execution_count": 6,
   "metadata": {},
   "outputs": [
    {
     "name": "stdout",
     "output_type": "stream",
     "text": [
      "Entre la temperatura en grados Fahrenheit: "
     ]
    },
    {
     "name": "stderr",
     "output_type": "stream",
     "text": [
      "Traceback (most recent call last):\n",
      "  File \"temp_amb.py\", line 9, in <module>\n",
      "    temp_actual = float(input(\"Entre la temperatura en grados Fahrenheit: \"))\n",
      "EOFError: EOF when reading a line\n"
     ]
    }
   ],
   "source": [
    "%%bash\n",
    "python temp_amb.py"
   ]
  },
  {
   "cell_type": "markdown",
   "metadata": {},
   "source": [
    "## Hello World!\n",
    "![Hello_world](helloworld.png)\n",
    "- Es una forma sencilla y rápida de dar un vistazo a algunos de los lenguajes de programacion más común. \n",
    "- Los compiladores o interpretes deben estar instalados. \n",
    "- Los editores de texto para usar son:\n",
    "    - **Windows: Notepad (No WordPad o Word)**\n",
    "    - **Mac´s : TextEdit, nano, vi**\n",
    "    - **Linux : Gedit, Vi, nano**"
   ]
  },
  {
   "cell_type": "code",
   "execution_count": 10,
   "metadata": {},
   "outputs": [
    {
     "name": "stdout",
     "output_type": "stream",
     "text": [
      "Hello World!\n"
     ]
    }
   ],
   "source": [
    "print(\"Hello World!\")"
   ]
  },
  {
   "cell_type": "markdown",
   "metadata": {},
   "source": [
    "> ### Buenas Prácticas en Scripting\n",
    "> - Comentarios: usar # para registrar propiedades del código\n",
    "> - En la primera línea del archivo, incluir #!/usr/bin/env python\n",
    "> - En las siguientes lineas: #Description of program; #Written by; #Date created; #Last Modified;\n",
    "> - Orden de identación:<br>\n",
    "----Nivel 1 (cuatro espacios o un tabular)<br>\n",
    "--------Nivel 2(ocho espacios o dos tabular)<br>\n",
    "------------ Nivel 3 (etc)<br>\n"
   ]
  },
  {
   "cell_type": "markdown",
   "metadata": {},
   "source": [
    "## Sintáxis de Python\n",
    "\n",
    "1.**Variables:** <br>\n",
    "Como su nombre lo indica, una variable es un espacio reservado de la memoria donde se puede almacenar información temporal. Tiene algunas restricciones al usarse como:\n",
    "    - Deben comenzar con una letra o un Underline (_)\n",
    "    - Son caso sensitivo\n",
    "    - Deben consistir de solo letras, números o underline\n",
    "    - No se deben usar palabras reservadas. p.e: for, if, else etc.\n",
    "    - Por convensión son usadas con las formas: alignment_sequences ó AlignmentSequences"
   ]
  },
  {
   "cell_type": "code",
   "execution_count": 10,
   "metadata": {},
   "outputs": [
    {
     "data": {
      "text/plain": [
       "'Mi nombre es Javier y tengo 37 años'"
      ]
     },
     "execution_count": 10,
     "metadata": {},
     "output_type": "execute_result"
    }
   ],
   "source": [
    "Name = \"Javier\"\n",
    "BirthDate = 1982\n",
    "\"Mi nombre es \" + Name + \" y tengo \" + str(2019- BirthDate) + \" años\""
   ]
  },
  {
   "cell_type": "markdown",
   "metadata": {},
   "source": [
    "2.**Números** <br>\n",
    "Los tipos type() numéricos básicos son: \n",
    "    - int (enteros sin límite) p.e:  3, -7, 123, 76\n",
    "    - float (reales) p.e: 1.2, 3.14159,3.14e-10\n",
    "    - complex (complejos) p.e: 3+4j, 3.0+4.0j, 3J"
   ]
  },
  {
   "cell_type": "markdown",
   "metadata": {},
   "source": [
    "3.**Operaciones ariméticas**\n",
    "\n",
    "Las operaciones aritméticas básicas son:\n",
    "* adición: +\n",
    "* sustracción: -\n",
    "* multiplicación: *\n",
    "* división: /\n",
    "* módulo (resto de división): %\n",
    "* potencia: **\n",
    "* división entera: //\n",
    "Las operaciones se pueden agrupar con paréntesis y tienen precedencia estándar"
   ]
  },
  {
   "cell_type": "code",
   "execution_count": 25,
   "metadata": {},
   "outputs": [
    {
     "name": "stdout",
     "output_type": "stream",
     "text": [
      "5\n"
     ]
    },
    {
     "data": {
      "text/plain": [
       "int"
      ]
     },
     "execution_count": 25,
     "metadata": {},
     "output_type": "execute_result"
    }
   ],
   "source": [
    "#Enteros\n",
    "x = 2 + 3\n",
    "print(x)\n",
    "type(x)"
   ]
  },
  {
   "cell_type": "code",
   "execution_count": 26,
   "metadata": {},
   "outputs": [
    {
     "name": "stdout",
     "output_type": "stream",
     "text": [
      "-9.6\n"
     ]
    },
    {
     "data": {
      "text/plain": [
       "float"
      ]
     },
     "execution_count": 26,
     "metadata": {},
     "output_type": "execute_result"
    }
   ],
   "source": [
    "#Reales \n",
    "y = 1 + 1.4 - 12\n",
    "print(y)\n",
    "type(y)"
   ]
  },
  {
   "cell_type": "code",
   "execution_count": 30,
   "metadata": {},
   "outputs": [
    {
     "data": {
      "text/plain": [
       "1"
      ]
     },
     "execution_count": 30,
     "metadata": {},
     "output_type": "execute_result"
    }
   ],
   "source": [
    "#modulus/remainder\n",
    "7%3"
   ]
  },
  {
   "cell_type": "markdown",
   "metadata": {},
   "source": [
    "4.**Relational and Logical Operators**\n",
    "\n",
    "|Operador Racional| |Operador Lógico|\n",
    "|-----------------| |---------------|\n",
    "|   ==   | Igual  | |   and  |   y  |\n",
    "| !=, <> |No igual| |   or   |   o  |\n",
    "|   >    |Mayor Q | |   not  |   no |\n",
    "|   <    |Menor Q |\n",
    "|   >=   |May o ig|\n",
    "|   <=   |Men o ig|"
   ]
  },
  {
   "cell_type": "code",
   "execution_count": 31,
   "metadata": {},
   "outputs": [
    {
     "data": {
      "text/plain": [
       "True"
      ]
     },
     "execution_count": 31,
     "metadata": {},
     "output_type": "execute_result"
    }
   ],
   "source": [
    "x > y"
   ]
  },
  {
   "cell_type": "code",
   "execution_count": 32,
   "metadata": {},
   "outputs": [
    {
     "data": {
      "text/plain": [
       "False"
      ]
     },
     "execution_count": 32,
     "metadata": {},
     "output_type": "execute_result"
    }
   ],
   "source": [
    "x == y"
   ]
  },
  {
   "cell_type": "code",
   "execution_count": 33,
   "metadata": {},
   "outputs": [
    {
     "data": {
      "text/plain": [
       "True"
      ]
     },
     "execution_count": 33,
     "metadata": {},
     "output_type": "execute_result"
    }
   ],
   "source": [
    "x != y"
   ]
  },
  {
   "cell_type": "code",
   "execution_count": 35,
   "metadata": {},
   "outputs": [],
   "source": [
    "#Asuma estos valores para las tres variables\n",
    "x = 1\n",
    "y = 4\n",
    "z = 14"
   ]
  },
  {
   "cell_type": "code",
   "execution_count": 36,
   "metadata": {},
   "outputs": [
    {
     "data": {
      "text/plain": [
       "False"
      ]
     },
     "execution_count": 36,
     "metadata": {},
     "output_type": "execute_result"
    }
   ],
   "source": [
    "x <= 1 and y == 3"
   ]
  },
  {
   "cell_type": "code",
   "execution_count": 37,
   "metadata": {},
   "outputs": [
    {
     "data": {
      "text/plain": [
       "True"
      ]
     },
     "execution_count": 37,
     "metadata": {},
     "output_type": "execute_result"
    }
   ],
   "source": [
    "x <= 1 or y == 3"
   ]
  },
  {
   "cell_type": "code",
   "execution_count": 38,
   "metadata": {},
   "outputs": [
    {
     "data": {
      "text/plain": [
       "True"
      ]
     },
     "execution_count": 38,
     "metadata": {},
     "output_type": "execute_result"
    }
   ],
   "source": [
    "not (x > 1)"
   ]
  },
  {
   "cell_type": "code",
   "execution_count": 40,
   "metadata": {},
   "outputs": [
    {
     "data": {
      "text/plain": [
       "False"
      ]
     },
     "execution_count": 40,
     "metadata": {},
     "output_type": "execute_result"
    }
   ],
   "source": [
    "not (x<=1 or y==3)"
   ]
  },
  {
   "cell_type": "markdown",
   "metadata": {},
   "source": [
    "5.**Strings**<br>\n",
    "    * Encerradas simpre entre \"Hello\", \"35\", \"$&\"\n",
    "    * Es una secuencia de caracteres\n"
   ]
  },
  {
   "cell_type": "code",
   "execution_count": 42,
   "metadata": {},
   "outputs": [
    {
     "data": {
      "text/plain": [
       "'J'"
      ]
     },
     "execution_count": 42,
     "metadata": {},
     "output_type": "execute_result"
    }
   ],
   "source": [
    "Name[0]"
   ]
  },
  {
   "cell_type": "code",
   "execution_count": 43,
   "metadata": {},
   "outputs": [
    {
     "data": {
      "text/plain": [
       "'r'"
      ]
     },
     "execution_count": 43,
     "metadata": {},
     "output_type": "execute_result"
    }
   ],
   "source": [
    "Name[-1]"
   ]
  },
  {
   "cell_type": "code",
   "execution_count": 44,
   "metadata": {},
   "outputs": [
    {
     "data": {
      "text/plain": [
       "'Javi'"
      ]
     },
     "execution_count": 44,
     "metadata": {},
     "output_type": "execute_result"
    }
   ],
   "source": [
    "Name[0:4]"
   ]
  },
  {
   "cell_type": "markdown",
   "metadata": {},
   "source": [
    "   >**Operaciones con Strings**"
   ]
  },
  {
   "cell_type": "code",
   "execution_count": 45,
   "metadata": {},
   "outputs": [
    {
     "data": {
      "text/plain": [
       "'Hello Javi'"
      ]
     },
     "execution_count": 45,
     "metadata": {},
     "output_type": "execute_result"
    }
   ],
   "source": [
    "#Concatenar Strings +\n",
    "\"Hello \" + Name[0:4]"
   ]
  },
  {
   "cell_type": "code",
   "execution_count": 46,
   "metadata": {},
   "outputs": [
    {
     "data": {
      "text/plain": [
       "6"
      ]
     },
     "execution_count": 46,
     "metadata": {},
     "output_type": "execute_result"
    }
   ],
   "source": [
    "#Tamano de una String\n",
    "len(Name)"
   ]
  },
  {
   "cell_type": "code",
   "execution_count": 11,
   "metadata": {},
   "outputs": [
    {
     "ename": "TypeError",
     "evalue": "not all arguments converted during string formatting",
     "output_type": "error",
     "traceback": [
      "\u001b[0;31m---------------------------------------------------------------------------\u001b[0m",
      "\u001b[0;31mTypeError\u001b[0m                                 Traceback (most recent call last)",
      "\u001b[0;32m<ipython-input-11-239ed556ac22>\u001b[0m in \u001b[0;36m<module>\u001b[0;34m()\u001b[0m\n\u001b[1;32m      1\u001b[0m \u001b[0;31m#Formatear un String\u001b[0m\u001b[0;34m\u001b[0m\u001b[0;34m\u001b[0m\u001b[0m\n\u001b[0;32m----> 2\u001b[0;31m \u001b[0;34m\"Name\"\u001b[0m\u001b[0;34m%\u001b[0m\u001b[0;34m\"Hello\"\u001b[0m\u001b[0;34m\u001b[0m\u001b[0m\n\u001b[0m",
      "\u001b[0;31mTypeError\u001b[0m: not all arguments converted during string formatting"
     ]
    }
   ],
   "source": [
    "#Formatear un String\n",
    "\"Name\"%\"Hello\""
   ]
  },
  {
   "cell_type": "code",
   "execution_count": 55,
   "metadata": {},
   "outputs": [
    {
     "data": {
      "text/plain": [
       "True"
      ]
     },
     "execution_count": 55,
     "metadata": {},
     "output_type": "execute_result"
    }
   ],
   "source": [
    "\"Javi\" == Name[0:4]"
   ]
  },
  {
   "cell_type": "code",
   "execution_count": 56,
   "metadata": {},
   "outputs": [
    {
     "data": {
      "text/plain": [
       "False"
      ]
     },
     "execution_count": 56,
     "metadata": {},
     "output_type": "execute_result"
    }
   ],
   "source": [
    "\"a\" > \"b\""
   ]
  },
  {
   "cell_type": "code",
   "execution_count": 57,
   "metadata": {},
   "outputs": [
    {
     "data": {
      "text/plain": [
       "True"
      ]
     },
     "execution_count": 57,
     "metadata": {},
     "output_type": "execute_result"
    }
   ],
   "source": [
    "\"a\" < \"b\""
   ]
  },
  {
   "cell_type": "code",
   "execution_count": 60,
   "metadata": {},
   "outputs": [
    {
     "data": {
      "text/plain": [
       "False"
      ]
     },
     "execution_count": 60,
     "metadata": {},
     "output_type": "execute_result"
    }
   ],
   "source": [
    "\"2\" < \"10\""
   ]
  },
  {
   "cell_type": "markdown",
   "metadata": {},
   "source": [
    "6.**Listas y tuplas**<br>\n",
    "Listas: Secuencias ordenada de objetos. [a, b, c, d, e]\n",
    "Tuplas: Las tuplas son secuencias, igual que las cadenas, y se puede utilizar la misma notación de índices que en las cadenas para obtener cada una de sus componentes. las tuplas, son inmutables. (25, \"Mayo\", 1810)"
   ]
  },
  {
   "cell_type": "code",
   "execution_count": 6,
   "metadata": {},
   "outputs": [
    {
     "data": {
      "text/plain": [
       "1"
      ]
     },
     "execution_count": 6,
     "metadata": {},
     "output_type": "execute_result"
    }
   ],
   "source": [
    "lista = [1, 2, 3, 4]\n",
    "lista[0]"
   ]
  },
  {
   "cell_type": "code",
   "execution_count": 4,
   "metadata": {},
   "outputs": [
    {
     "data": {
      "text/plain": [
       "'BioComp'"
      ]
     },
     "execution_count": 4,
     "metadata": {},
     "output_type": "execute_result"
    }
   ],
   "source": [
    "lista = ['BioComp', 2.5, [5,6] ,4]\n",
    "lista[0]"
   ]
  },
  {
   "cell_type": "code",
   "execution_count": 7,
   "metadata": {},
   "outputs": [
    {
     "data": {
      "text/plain": [
       "['BioComp', 2.5, [5, 6]]"
      ]
     },
     "execution_count": 7,
     "metadata": {},
     "output_type": "execute_result"
    }
   ],
   "source": [
    "lista[0:3]"
   ]
  },
  {
   "cell_type": "code",
   "execution_count": 8,
   "metadata": {},
   "outputs": [
    {
     "data": {
      "text/plain": [
       "10"
      ]
     },
     "execution_count": 8,
     "metadata": {},
     "output_type": "execute_result"
    }
   ],
   "source": [
    "#como mutar listas\n",
    "lista[0] = 10\n",
    "lista[0]"
   ]
  },
  {
   "cell_type": "code",
   "execution_count": 9,
   "metadata": {},
   "outputs": [
    {
     "name": "stdout",
     "output_type": "stream",
     "text": [
      "10\n",
      "2.5\n",
      "[5, 6]\n",
      "4\n"
     ]
    }
   ],
   "source": [
    "#La forma mas sencilla de recorrer un lista\n",
    "for i in lista:\n",
    "    print (i)"
   ]
  },
  {
   "cell_type": "code",
   "execution_count": 9,
   "metadata": {},
   "outputs": [
    {
     "name": "stdout",
     "output_type": "stream",
     "text": [
      "[0, 0, 0, 0]\n"
     ]
    }
   ],
   "source": [
    "for i in range(4):\n",
    "    lista[i] = 0\n",
    "print(lista)"
   ]
  },
  {
   "cell_type": "code",
   "execution_count": 10,
   "metadata": {},
   "outputs": [
    {
     "data": {
      "text/plain": [
       "4"
      ]
     },
     "execution_count": 10,
     "metadata": {},
     "output_type": "execute_result"
    }
   ],
   "source": [
    "#Tuplas\n",
    "tupla = (1, 2, 3, 4)\n",
    "tupla[3]"
   ]
  },
  {
   "cell_type": "code",
   "execution_count": 11,
   "metadata": {},
   "outputs": [
    {
     "ename": "TypeError",
     "evalue": "'tuple' object does not support item assignment",
     "output_type": "error",
     "traceback": [
      "\u001b[0;31m---------------------------------------------------------------------------\u001b[0m",
      "\u001b[0;31mTypeError\u001b[0m                                 Traceback (most recent call last)",
      "\u001b[0;32m<ipython-input-11-4a27a60ca161>\u001b[0m in \u001b[0;36m<module>\u001b[0;34m()\u001b[0m\n\u001b[0;32m----> 1\u001b[0;31m \u001b[0mtupla\u001b[0m\u001b[0;34m[\u001b[0m\u001b[0;36m3\u001b[0m\u001b[0;34m]\u001b[0m \u001b[0;34m=\u001b[0m \u001b[0;36m5\u001b[0m\u001b[0;34m\u001b[0m\u001b[0m\n\u001b[0m",
      "\u001b[0;31mTypeError\u001b[0m: 'tuple' object does not support item assignment"
     ]
    }
   ],
   "source": [
    "tupla[3] = 5"
   ]
  },
  {
   "cell_type": "code",
   "execution_count": 13,
   "metadata": {},
   "outputs": [
    {
     "data": {
      "text/plain": [
       "[1, 2, 3, 4]"
      ]
     },
     "execution_count": 13,
     "metadata": {},
     "output_type": "execute_result"
    }
   ],
   "source": [
    "list(tupla)"
   ]
  },
  {
   "cell_type": "code",
   "execution_count": 14,
   "metadata": {},
   "outputs": [
    {
     "data": {
      "text/plain": [
       "(1, 2, 3, 4)"
      ]
     },
     "execution_count": 14,
     "metadata": {},
     "output_type": "execute_result"
    }
   ],
   "source": [
    "tuple(tupla)"
   ]
  },
  {
   "cell_type": "markdown",
   "metadata": {},
   "source": [
    "6.**Diccionarios**<br>\n",
    "Un Diccionario es una estructura de datos y un tipo de dato en Python con características especiales que nos permite almacenar cualquier tipo de valor como enteros, cadenas, listas e incluso otras funciones. Estos diccionarios nos permiten además identificar cada elemento por una clave (Key)."
   ]
  },
  {
   "cell_type": "code",
   "execution_count": 16,
   "metadata": {},
   "outputs": [
    {
     "data": {
      "text/plain": [
       "2"
      ]
     },
     "execution_count": 16,
     "metadata": {},
     "output_type": "execute_result"
    }
   ],
   "source": [
    "punto = {'x': 2, 'y': 1, 'z': 4}\n",
    "punto[\"x\"]"
   ]
  },
  {
   "cell_type": "code",
   "execution_count": 17,
   "metadata": {},
   "outputs": [
    {
     "data": {
      "text/plain": [
       "['TTT', 'TTC']"
      ]
     },
     "execution_count": 17,
     "metadata": {},
     "output_type": "execute_result"
    }
   ],
   "source": [
    "#Se puede declarar vacio e irlo llenando\n",
    "tabla_codones = {}\n",
    "tabla_codones[\"Phe\"] = [\"TTT\", \"TTC\"]\n",
    "tabla_codones[\"Met\"] = [\"ATG\"]\n",
    "tabla_codones[\"Stop\"] = []\n",
    "tabla_codones[\"Phe\"]"
   ]
  },
  {
   "cell_type": "code",
   "execution_count": 20,
   "metadata": {},
   "outputs": [
    {
     "name": "stdout",
     "output_type": "stream",
     "text": [
      "Phe : ['TTT', 'TTC']\n",
      "Met : ['ATG']\n",
      "Stop : []\n"
     ]
    }
   ],
   "source": [
    "#Para recorrer un diccionario\n",
    "for key in tabla_codones:\n",
    "  print (key, \":\", tabla_codones[key])"
   ]
  },
  {
   "cell_type": "markdown",
   "metadata": {},
   "source": [
    "6.**Otros objetos**<br>\n",
    "Sets<br>\n",
    "Files<br>\n",
    "None<br>"
   ]
  },
  {
   "cell_type": "markdown",
   "metadata": {},
   "source": [
    "# Ejercicios 1\n",
    "1. Paso de minutos a horas y minutos. Se desea elaborar una función algorítmica en la que se recibe un número de minutos, y se desea determinar el número de horas y minutos. Por ejemplo, si la función algorítmica recibe 32, el resultado deberá ser el par de valores 0 y 32. Si se reciben 34521 minutos, el resultado deberá ser el par de valores 575 y  21 (575 horas y 21 minutos).\n",
    "\n",
    "def minutosAHorasyMinutos ( minutos ) <br>\n",
    "> horas <-- minutos / 60 <br>\n",
    "> ihoras <-- int(horas) <br>\n",
    "> restahoras = horas - ihoras <br>\n",
    "> iminutos = restahoras * 60 <br>\n",
    "> **return** ihoras, iminutos <br>\n",
    "\n",
    "end def"
   ]
  },
  {
   "cell_type": "markdown",
   "metadata": {},
   "source": [
    "2.Volumen bacterial Cilíndrico. Dada la longitud y radio de una bacteria en forma de cilindro, calcule el volumen aproximado.\n",
    "\n",
    "def volumenBacteria <br>\n",
    "> in: (radiobacteria, longitudbacteria) <br>\n",
    "> pi <-- 3.1415926535897932384 <br>\n",
    "> cuadradio <-- radiobacteria * radiobacteria <br>\n",
    "> volumenbacteria <-- pi * cuadradio <br>\n",
    "> **return** volumenbacteria <br>\n",
    "\n",
    "end def"
   ]
  },
  {
   "cell_type": "markdown",
   "metadata": {},
   "source": [
    "3.Dada una secuencia de DNA y un nucleótido dado, entregar el número de nucleótidos de ese tipo en la secuencia. <br>\n",
    "\n",
    "4.Dada un string de caracteres que representa una secuencia de DNA, transcribir dicha secuencia. Generar un nuevo elemento.\n",
    "![rna](DNA_RNA.png)"
   ]
  },
  {
   "cell_type": "markdown",
   "metadata": {},
   "source": [
    "# Loops\n",
    "## if / else\n",
    "\n",
    "if/else statement: Executes one block of statements if a certain condition is True, and a second block of statements if it is False. <br>\n",
    "\n",
    "Syntax: <br>\n",
    "> if condition:<br>\n",
    ">> statements<br>\n",
    "\n",
    "> else:<br>\n",
    ">> statements<br>"
   ]
  },
  {
   "cell_type": "code",
   "execution_count": 23,
   "metadata": {},
   "outputs": [
    {
     "name": "stdout",
     "output_type": "stream",
     "text": [
      "Curso de Biología Computacional reprobado, nos vemos el otro semeste :(\n"
     ]
    }
   ],
   "source": [
    "gpa = 1.4\n",
    "if gpa > 3.0:\n",
    "\tprint (\"Curso de Biología Computacional Aprobado!\")\n",
    "else:\n",
    "\tprint (\"Curso de Biología Computacional reprobado, nos vemos el otro semeste :(\")"
   ]
  },
  {
   "cell_type": "markdown",
   "metadata": {},
   "source": [
    "Multiple conditions can be chained with elif (\"else if\"):\n",
    "> if condition:\n",
    "\n",
    ">>statements\n",
    "\n",
    "> elif condition:\n",
    "\n",
    ">> statements"
   ]
  },
  {
   "cell_type": "code",
   "execution_count": 24,
   "metadata": {},
   "outputs": [
    {
     "name": "stdout",
     "output_type": "stream",
     "text": [
      "Negative number\n"
     ]
    }
   ],
   "source": [
    "num = -2\n",
    "if num > 0:\n",
    "    print(\"Positive number\")\n",
    "elif num == 0:\n",
    "    print(\"Zero\")\n",
    "else:\n",
    "    print(\"Negative number\")"
   ]
  },
  {
   "cell_type": "markdown",
   "metadata": {},
   "source": [
    "## While loop:\n",
    "Executes a group of statements as long as a condition is True. good for indefinite loops (repeat an unknown number of times)\n",
    "\n",
    "\n",
    "Syntax:\n",
    "> while condition:\n",
    "\n",
    ">>statements"
   ]
  },
  {
   "cell_type": "code",
   "execution_count": 61,
   "metadata": {},
   "outputs": [
    {
     "name": "stdout",
     "output_type": "stream",
     "text": [
      "1\n",
      "2\n",
      "4\n",
      "8\n",
      "16\n",
      "32\n",
      "64\n",
      "128\n"
     ]
    }
   ],
   "source": [
    "number = 1\n",
    "while number < 200:\n",
    "    print (number)\n",
    "    number = number * 2"
   ]
  },
  {
   "cell_type": "markdown",
   "metadata": {},
   "source": [
    "# Leyendo y escribiendo archivos\n",
    "Inputs and Ouputs <br>\n",
    "\n",
    "Función open( ) <br>\n",
    "file_object  = open(“filename”, “mode”) <br>\n",
    "r -> read <br>\n",
    "w -> write <br>\n",
    "a -> appending <br>"
   ]
  },
  {
   "cell_type": "code",
   "execution_count": 29,
   "metadata": {},
   "outputs": [],
   "source": [
    "#Creando un archivo\n",
    "file = open('textfile.txt','w') \n",
    " \n",
    "file.write('Hola Python \\n') \n",
    "file.write('Este es un texto prueba\\n') \n",
    "file.write('acá meto otra línea y qué! jajaja.\\n') \n",
    " \n",
    "file.close() "
   ]
  },
  {
   "cell_type": "code",
   "execution_count": 30,
   "metadata": {},
   "outputs": [
    {
     "name": "stdout",
     "output_type": "stream",
     "text": [
      "Hola Python \n",
      "Este es un texto prueba\n",
      "acá meto otra línea y qué! jajaja.\n"
     ]
    }
   ],
   "source": [
    "%%bash\n",
    "cat textfile.txt"
   ]
  },
  {
   "cell_type": "code",
   "execution_count": 36,
   "metadata": {},
   "outputs": [
    {
     "name": "stdout",
     "output_type": "stream",
     "text": [
      "Hola Python \n",
      "Este es un texto prueba\n",
      "acá meto otra línea y qué! jajaja.\n",
      "\n"
     ]
    }
   ],
   "source": [
    "#Leyendo un archivo de texto en python\n",
    "file = open('textfile.txt', 'r') \n",
    "file.read()"
   ]
  },
  {
   "cell_type": "code",
   "execution_count": 41,
   "metadata": {},
   "outputs": [
    {
     "data": {
      "text/plain": [
       "'Hola Python \\n'"
      ]
     },
     "execution_count": 41,
     "metadata": {},
     "output_type": "execute_result"
    }
   ],
   "source": [
    "#Leer linea por linea\n",
    "file = open('textfile.txt', 'r') \n",
    "file.readline()"
   ]
  },
  {
   "cell_type": "code",
   "execution_count": 42,
   "metadata": {},
   "outputs": [
    {
     "name": "stdout",
     "output_type": "stream",
     "text": [
      "Hola Python \n",
      "\n",
      "Este es un texto prueba\n",
      "\n",
      "acá meto otra línea y qué! jajaja.\n",
      "\n"
     ]
    }
   ],
   "source": [
    "#Looping lineas\n",
    "file = open('textfile.txt', 'r')\n",
    "for line in file: \n",
    "    print (line) "
   ]
  },
  {
   "cell_type": "markdown",
   "metadata": {},
   "source": [
    "# Ejercicios 2"
   ]
  },
  {
   "cell_type": "markdown",
   "metadata": {},
   "source": [
    "Metodos\n",
    "https://devcode.la/tutoriales/listas-python/\n"
   ]
  },
  {
   "cell_type": "code",
   "execution_count": null,
   "metadata": {},
   "outputs": [],
   "source": []
  }
 ],
 "metadata": {
  "kernelspec": {
   "display_name": "Python 3",
   "language": "python",
   "name": "python3"
  },
  "language_info": {
   "codemirror_mode": {
    "name": "ipython",
    "version": 3
   },
   "file_extension": ".py",
   "mimetype": "text/x-python",
   "name": "python",
   "nbconvert_exporter": "python",
   "pygments_lexer": "ipython3",
   "version": "3.6.4"
  }
 },
 "nbformat": 4,
 "nbformat_minor": 2
}
