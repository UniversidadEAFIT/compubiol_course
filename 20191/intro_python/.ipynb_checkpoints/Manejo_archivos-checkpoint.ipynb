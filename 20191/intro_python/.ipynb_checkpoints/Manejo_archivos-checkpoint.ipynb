{
 "cells": [
  {
   "cell_type": "markdown",
   "metadata": {},
   "source": [
    "# **Manejo e archivos con Python**"
   ]
  },
  {
   "cell_type": "markdown",
   "metadata": {},
   "source": [
    "## Simón Villanueva & Javier Correa"
   ]
  },
  {
   "cell_type": "markdown",
   "metadata": {},
   "source": [
    "## **Manejo de archivos con Python**"
   ]
  },
  {
   "cell_type": "markdown",
   "metadata": {},
   "source": [
    "Python permite leer, modificar, crear y guardar archivos de texto. Estas funcionalidades pueden acoplarse a las demás que Python ofrece."
   ]
  },
  {
   "cell_type": "markdown",
   "metadata": {},
   "source": [
    "La [función](https://docs.python.org/3/library/functions.html#open) `open`, permite abrir o crear archivos y recibe dos argumentos:\n",
    "\n",
    "- La ubicación del archivo [string] (_e.g._ \"home/Downloads/foo.txt\")\n",
    "- Los permisos u operaciones que hará con el archivo [string]. Las opciones básicas son:\n",
    "    + `r` , reading: Abrir el archivo como sólo lectura\n",
    "    + `w` , writing: Abrir el archivo con permiso de escritura \n",
    "    + `x` , exclusive creation: Crea el archivo, aunque este ya exista\n",
    "    + `a` , appending: Toda lo que se escriba en el archivo será anexado al final del archivo.\n",
    "- Adicionalmente, podemos agregar un `+` en el segundo argumento para indicar que el archivo se cree en caso de que no exista"
   ]
  },
  {
   "cell_type": "markdown",
   "metadata": {},
   "source": [
    "### **Creación de archivos y escritura**"
   ]
  },
  {
   "cell_type": "code",
   "execution_count": 1,
   "metadata": {},
   "outputs": [],
   "source": [
    "#Creando un archivo\n",
    "file = open('textfile.txt','w') \n",
    " \n",
    "file.write('Hola Python \\n') \n",
    "file.write('Este es un texto prueba\\n') \n",
    "file.write('acá meto otra línea y qué! jajaja.\\n') \n",
    " \n",
    "file.close()"
   ]
  },
  {
   "cell_type": "code",
   "execution_count": 2,
   "metadata": {},
   "outputs": [
    {
     "name": "stdout",
     "output_type": "stream",
     "text": [
      "Hola Python \n",
      "Este es un texto prueba\n",
      "acá meto otra línea y qué! jajaja.\n"
     ]
    }
   ],
   "source": [
    "%%bash\n",
    "cat textfile.txt"
   ]
  },
  {
   "cell_type": "code",
   "execution_count": 3,
   "metadata": {},
   "outputs": [
    {
     "data": {
      "text/plain": [
       "'Hola Python \\nEste es un texto prueba\\nacá meto otra línea y qué! jajaja.\\n'"
      ]
     },
     "execution_count": 3,
     "metadata": {},
     "output_type": "execute_result"
    }
   ],
   "source": [
    "#Leyendo un archivo de texto en python\n",
    "file = open('textfile.txt', 'r') \n",
    "file.read()"
   ]
  },
  {
   "cell_type": "code",
   "execution_count": 4,
   "metadata": {},
   "outputs": [
    {
     "data": {
      "text/plain": [
       "'Hola Python \\n'"
      ]
     },
     "execution_count": 4,
     "metadata": {},
     "output_type": "execute_result"
    }
   ],
   "source": [
    "#Leer linea por linea\n",
    "file = open('textfile.txt', 'r') \n",
    "file.readline()"
   ]
  },
  {
   "cell_type": "code",
   "execution_count": 5,
   "metadata": {},
   "outputs": [
    {
     "name": "stdout",
     "output_type": "stream",
     "text": [
      "Hola Python \n",
      "\n",
      "Este es un texto prueba\n",
      "\n",
      "acá meto otra línea y qué! jajaja.\n",
      "\n"
     ]
    }
   ],
   "source": [
    "#Looping lineas\n",
    "file = open('textfile.txt', 'r')\n",
    "for line in file: \n",
    "    print (line) "
   ]
  },
  {
   "cell_type": "markdown",
   "metadata": {},
   "source": [
    "Todo esto queda más claro con otro ejemplo"
   ]
  },
  {
   "cell_type": "code",
   "execution_count": 7,
   "metadata": {},
   "outputs": [],
   "source": [
    "f = open(\"foo.txt\", \"w+\")"
   ]
  },
  {
   "cell_type": "markdown",
   "metadata": {},
   "source": [
    "En este caso, al no existir el archivo, Python lo creó y está habilitado con permisos de escritura. \n",
    "\n",
    "**Notese que el archivo fue guardado en la variable f**\n",
    "\n",
    "Como está recién creado, está vacio. Aprovechemos los permisos de escritura y llenemoslo."
   ]
  },
  {
   "cell_type": "code",
   "execution_count": 8,
   "metadata": {},
   "outputs": [],
   "source": [
    "for i in range(10):\n",
    "    f.write(\"Esta es la linea %d\\n\" % (i+1))"
   ]
  },
  {
   "cell_type": "markdown",
   "metadata": {},
   "source": [
    "El método `.write()` es utilzado para escribir sobre los archivos. \n",
    "\n",
    "Ya que escribimos unas cuantas lineas podemos ver cómo quedo el archivo...\n",
    "\n",
    "¿Pero y dónde está el archivo?\n",
    "\n",
    "El archivo como tal no existe aún. Python lo tiene guardado en la variable `f`, la cual está en memoria, mas no guardada en disco.\n",
    "\n",
    "Para guardar el archivo en disco, tenemos que \"cerrar\" el archivo con el método `.close()`"
   ]
  },
  {
   "cell_type": "code",
   "execution_count": 9,
   "metadata": {},
   "outputs": [],
   "source": [
    "f.close()"
   ]
  },
  {
   "cell_type": "markdown",
   "metadata": {},
   "source": [
    "Ahora si podemos ver el archivo (debería estar en la misma carpeta en la que se encuentra este notebook)"
   ]
  },
  {
   "cell_type": "markdown",
   "metadata": {},
   "source": [
    "### **Lectura de archivos**"
   ]
  },
  {
   "cell_type": "markdown",
   "metadata": {},
   "source": [
    "Usualmente vamos a trabajar con archivos externos que contienen información que vamos a utilizar.\n",
    "\n",
    "Examinemos el archivo de datos2.csv . ¿Qué tipo de datos son?"
   ]
  },
  {
   "cell_type": "code",
   "execution_count": 6,
   "metadata": {},
   "outputs": [],
   "source": [
    "f = open(\"datos-2.csv\", \"r\")"
   ]
  },
  {
   "cell_type": "markdown",
   "metadata": {},
   "source": [
    "datos2.csv no es un archivo tan pequeño. Por lo que lo mejor es leerlo linea por linea"
   ]
  },
  {
   "cell_type": "code",
   "execution_count": 7,
   "metadata": {},
   "outputs": [],
   "source": [
    "f1 = f.readlines()"
   ]
  },
  {
   "cell_type": "markdown",
   "metadata": {},
   "source": [
    "El método `.readlines()` separa el archivo por saltos de linea (`\\n`) y pasa el archivo a una lista. Por lo que el resultado es una lista en la que cada elemento es una linea del archivo original.\n",
    "\n",
    "Comprobemos eso:"
   ]
  },
  {
   "cell_type": "code",
   "execution_count": 8,
   "metadata": {},
   "outputs": [
    {
     "name": "stdout",
     "output_type": "stream",
     "text": [
      "Country Name;Region;IncomeGroup;population2009;population2010;populationGrowthPercent\n",
      "\n",
      "Brunei Darussalam;East Asia & Pacific;High income: nonOECD;394400;400569;1.54%\n",
      "\n",
      "French Polynesia;East Asia & Pacific;High income: nonOECD;265412;268065;0.99%\n",
      "\n",
      "Guam;East Asia & Pacific;High income: nonOECD;158621;159440;0.51%\n",
      "\n",
      "Hong Kong SAR China;East Asia & Pacific;High income: nonOECD;6972800;7024200;0.73%\n",
      "\n"
     ]
    }
   ],
   "source": [
    "for i in range(5):\n",
    "    print(f1[i])"
   ]
  },
  {
   "cell_type": "markdown",
   "metadata": {},
   "source": [
    "¡Son datos demográficos de distintos paises categorizados por ingresos y región!"
   ]
  },
  {
   "cell_type": "markdown",
   "metadata": {},
   "source": [
    "Veamos en que categorias están subdivididos los paises"
   ]
  },
  {
   "cell_type": "markdown",
   "metadata": {},
   "source": [
    "Regiones:"
   ]
  },
  {
   "cell_type": "code",
   "execution_count": 9,
   "metadata": {},
   "outputs": [
    {
     "name": "stdout",
     "output_type": "stream",
     "text": [
      "Region\n",
      "East Asia & Pacific\n",
      "Europe & Central Asia\n",
      "Latin America & Caribbean\n",
      "Middle East & North Africa\n",
      "North America\n",
      "South Asia\n",
      "Sub-Saharan Africa\n"
     ]
    }
   ],
   "source": [
    "Regions = []\n",
    "for line in f1:\n",
    "    #print(line.split(\";\")[1])\n",
    "    if line.split(';')[1] not in Regions:\n",
    "        aux = line.split(';')[1]\n",
    "        Regions.append(aux)\n",
    "        print(aux)"
   ]
  },
  {
   "cell_type": "markdown",
   "metadata": {},
   "source": [
    "Ingresos:"
   ]
  },
  {
   "cell_type": "code",
   "execution_count": 10,
   "metadata": {},
   "outputs": [
    {
     "name": "stdout",
     "output_type": "stream",
     "text": [
      "IncomeGroup\n",
      "High income: nonOECD\n",
      "High income: OECD\n",
      "Low income\n",
      "Lower middle income\n",
      "Upper middle income\n"
     ]
    }
   ],
   "source": [
    "Income = []\n",
    "for line in f1:\n",
    "    if line.split(';')[2] not in Income:\n",
    "        aux = line.split(';')[2]\n",
    "        Income.append(aux)\n",
    "        print(aux)\n"
   ]
  },
  {
   "cell_type": "markdown",
   "metadata": {},
   "source": [
    "### **Ejercicio**"
   ]
  },
  {
   "cell_type": "markdown",
   "metadata": {},
   "source": [
    "A partir del archivo \"datos-2.csv\" Crear otro con la misma estructura que sólo contenga los paises que más crecen de cada región.\n",
    "\n",
    "Resultado:\n",
    "\n",
    "Country Name;Region;IncomeGroup;population2009;population2010;populationGrowthPercent\n",
    "Timor-Leste;East Asia & Pacific;Lower middle income;1110071;1142502;2.84%\n",
    "Uzbekistan;Europe & Central Asia;Lower middle income;27767400;28562400;2.78%\n",
    "Guatemala;Latin America & Caribbean;Lower middle income;13988988;14341576;2.46%\n",
    "Qatar;Middle East & North Africa;High income: nonOECD;1564082;1749713;10.61%\n",
    "Canada;North America;High income: OECD;33726915;34126547;1.17%\n",
    "Afghanistan;South Asia;Low income;27708187;28397812;2.43%\n",
    "South Sudan;Sub-Saharan Africa;Low income;9520571;9940929;4.23%"
   ]
  },
  {
   "cell_type": "code",
   "execution_count": null,
   "metadata": {},
   "outputs": [],
   "source": []
  }
 ],
 "metadata": {
  "kernelspec": {
   "display_name": "Python 3",
   "language": "python",
   "name": "python3"
  },
  "language_info": {
   "codemirror_mode": {
    "name": "ipython",
    "version": 3
   },
   "file_extension": ".py",
   "mimetype": "text/x-python",
   "name": "python",
   "nbconvert_exporter": "python",
   "pygments_lexer": "ipython3",
   "version": "3.6.5"
  }
 },
 "nbformat": 4,
 "nbformat_minor": 2
}
