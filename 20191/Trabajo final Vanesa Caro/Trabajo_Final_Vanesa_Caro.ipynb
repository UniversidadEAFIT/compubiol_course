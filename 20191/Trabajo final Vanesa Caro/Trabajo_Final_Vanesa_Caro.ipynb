{
 "cells": [
  {
   "cell_type": "markdown",
   "metadata": {},
   "source": [
    "# Vanesa Caro Miranda  201610015183\n",
    "\n",
    "# Trabajo Final de Biología Computacional \n",
    "\n",
    "\n",
    "\n",
    "## Uso de Bio.PDB para encontrar sitios de unión del transportador de LDP (Dopamina) que sean útiles para el desarrollo de medicamentos. "
   ]
  },
  {
   "cell_type": "markdown",
   "metadata": {},
   "source": [
    "### Introducción\n",
    "\n",
    "<div class=text-justify>La dopamina es un neurotransmisor producido en una amplia variedad de animales, incluidos vertebrados e invertebrados. Esta cumple la función de neurotransmisor en el sistema nervioso central, activando los cinco tipos de receptores celulares de dopamina: D1 (relacionado con un efecto activador), D2 (relacionado con un efecto inhibidor), D3, D4 y D5, y sus variantes (Benes, 2001). \n",
    "\n",
    "\n",
    "<div class=text-justify>Los receptores de dopamina en el cerebro son los principales objetivos en el tratamiento médico de enfermedades como, esquizofrenia, Parkinson, y Huntington. Se puede obtener una terapia mejorada mediante el desarrollo de medicamentos dirigidos a un subtipo particular de los diversos receptores de dopamina. El descubrimiento de los receptores de dopamina surgió de la investigación sobre el mecanismo de los fármacos antipsicóticos (Seeman, 1994) . A lo largo de la década de 1960, fue difícil establecer cuál de los varios receptores fue bloqueado específicamente por los fármacos antipsicóticos. Posteriormente, la evidencia directa in vitro confirmó la especulación de que los neurolépticos bloqueaban específicamente los receptores de dopamina. Los receptores de dopamina clonados ahora están facilitando la búsqueda y el descubrimiento de antipsicóticos más selectivos y fármacos anti parkinsonianos (Wang, 2015).\n",
    "\n",
    "\n",
    "<div class=text-justify>El transportador de dopamina, conocido también como transportador activo de dopamina, DAT (por las siglas en inglés de dopamine active transporter) o por su número en código SLC6A3, es una proteína integral de la membrana celular de las neuronas dopaminérgicas cuya función es transportar el neurotransmisor dopamina desde el espacio sináptico, hacia el interior de la neurona presináptica, desde donde puede ser almacenada nuevamente en vesículas para su ulterior liberación, o bien, ser degradada. Varias hipótesis aseguran que los fármacos anti esquizofrénicos producen sus efectos terapéuticos mediante el bloqueo del DAT (German et al., 2015).\n",
    "\n",
    "\n",
    "<div class=text-justify>Bio.PDB es un módulo de Biopython que se enfoca en trabajar con estructuras cristalinas de macromoléculas biológicas. Entre otras cosas, Bio.PDB incluye una clase de analizador de PDB que produce un objeto de estructura, que puede utilizarse para acceder a los datos atómicos en el archivo de una manera conveniente (Hamelryck & Manderick, 2003). Si se pretende diseñar un medicamento que se una al transportador y lo bloquee de la unión a la dopamina, lograría entonces que la dopamina no se eliminara de las sinapsis. Para hacer esto, se necesita saber qué residuos se adhieren al transportador para poder diseñar un producto químico que se dirija a este tipo de residuos.\n"
   ]
  },
  {
   "cell_type": "markdown",
   "metadata": {},
   "source": [
    "### Metodología\n",
    "\n",
    "\n",
    "<div class=text-justify>Se utilizó el módulo Bio.PDB para descargar un archivo de la base de datos del Protein Data Bank, específicamente el transportador de dopamina 4XP1 en formato mmCIF. \n",
    "El archivo se analizó mediante el PDBParser y se utilizó un código para encontrar una lista de los residuos específicos a los cuales se une el transportador. \n"
   ]
  },
  {
   "cell_type": "markdown",
   "metadata": {},
   "source": [
    " Aquí está la [estructura](http://www.rcsb.org/pdb/ngl/ngl.do?pdbid=4XP1&bionumber=1) en 3D.\n"
   ]
  },
  {
   "cell_type": "markdown",
   "metadata": {},
   "source": [
    "### Resultados"
   ]
  },
  {
   "cell_type": "code",
   "execution_count": 1,
   "metadata": {},
   "outputs": [
    {
     "name": "stdout",
     "output_type": "stream",
     "text": [
      "Structure exists: 'C:\\Users\\Usuario\\Downloads\\Trabajo final Vanesa Caro\\xp\\4xp1.cif' \n"
     ]
    },
    {
     "name": "stderr",
     "output_type": "stream",
     "text": [
      "WARNING: The default download format has changed from PDB to PDBx/mmCif\n"
     ]
    },
    {
     "data": {
      "text/plain": [
       "'C:\\\\Users\\\\Usuario\\\\Downloads\\\\Trabajo final Vanesa Caro\\\\xp\\\\4xp1.cif'"
      ]
     },
     "execution_count": 1,
     "metadata": {},
     "output_type": "execute_result"
    }
   ],
   "source": [
    "# Cada entrada en la base de datos tiene un código de identificación único. El transportador de dopamina que nos interesa es: 4XP1\n",
    "#Podemos descargar automáticamente una estructura de la base de datos utilizando el método retrieve_pdb_file del objeto PDBList.\n",
    "\n",
    "from Bio.PDB import *\n",
    "\n",
    "pdbl = PDBList()\n",
    "pdbl.retrieve_pdb_file('4XP1')\n",
    "\n",
    "#Y podemos observar que ahora se tiene una carpeta con el nombre del transportador en nuestro espacio de trabajo."
   ]
  },
  {
   "cell_type": "code",
   "execution_count": 2,
   "metadata": {},
   "outputs": [],
   "source": [
    "Analizar = MMCIFParser()\n",
    "\n",
    "#Analizar un archivo mmCIF y  me devuelve un objeto de estructura"
   ]
  },
  {
   "cell_type": "code",
   "execution_count": 3,
   "metadata": {},
   "outputs": [
    {
     "name": "stderr",
     "output_type": "stream",
     "text": [
      "C:\\Users\\Usuario\\Anaconda3\\lib\\site-packages\\Bio\\PDB\\StructureBuilder.py:91: PDBConstructionWarning: WARNING: Chain A is discontinuous at line 7477.\n",
      "  PDBConstructionWarning)\n",
      "C:\\Users\\Usuario\\Anaconda3\\lib\\site-packages\\Bio\\PDB\\StructureBuilder.py:91: PDBConstructionWarning: WARNING: Chain L is discontinuous at line 7658.\n",
      "  PDBConstructionWarning)\n",
      "C:\\Users\\Usuario\\Anaconda3\\lib\\site-packages\\Bio\\PDB\\StructureBuilder.py:91: PDBConstructionWarning: WARNING: Chain A is discontinuous at line 7659.\n",
      "  PDBConstructionWarning)\n",
      "C:\\Users\\Usuario\\Anaconda3\\lib\\site-packages\\Bio\\PDB\\StructureBuilder.py:91: PDBConstructionWarning: WARNING: Chain L is discontinuous at line 7674.\n",
      "  PDBConstructionWarning)\n",
      "C:\\Users\\Usuario\\Anaconda3\\lib\\site-packages\\Bio\\PDB\\StructureBuilder.py:91: PDBConstructionWarning: WARNING: Chain H is discontinuous at line 7677.\n",
      "  PDBConstructionWarning)\n"
     ]
    }
   ],
   "source": [
    "Estructura = Analizar.get_structure('4XP1', 'xp/4xp1.cif')\n",
    "\n",
    "#El primer argumento del método  get_structure es un nombre opcional para la molécula, y el segundo argumento es la ruta al archivo de estructura."
   ]
  },
  {
   "cell_type": "code",
   "execution_count": 4,
   "metadata": {},
   "outputs": [
    {
     "name": "stdout",
     "output_type": "stream",
     "text": [
      "add, child_dict, child_list, copy, detach_child, detach_parent, full_id, get_atoms, get_chains, get_full_id, get_id, get_iterator, get_level, get_list, get_models, get_parent, get_residues, has_id, header, id, insert, level, parent, set_parent, transform, xtra\n"
     ]
    }
   ],
   "source": [
    "#La información estructural posee atributos, podemos extraerlos mediante un diccionario\n",
    "\n",
    "def Diccionario_de_Estructura(obj):\n",
    "    print(\", \".join([a for a in dir(obj) if not a.startswith(\"_\")]))\n",
    "Diccionario_de_Estructura(Estructura)\n",
    "\n",
    "#Las estructuras están organizadas en una jerarquía específica que es: Modelo -> Cadena -> Residuo -> Átomo. Nos centraremos en los residuos.\n"
   ]
  },
  {
   "cell_type": "code",
   "execution_count": 5,
   "metadata": {},
   "outputs": [],
   "source": [
    "#Para extraer los resiudos debemos analizar el archivo mmCIF, Bio.PDB convirtió inicialmente un archivo .PDB a uno .mmCIF, así que desde antes estamos trabajando con ese tipo de formato. mmCIF es como un diccionario con claves.\n",
    "\n",
    "Diccionario_MMCIF = MMCIF2Dict.MMCIF2Dict('xp/4xp1.cif')"
   ]
  },
  {
   "cell_type": "code",
   "execution_count": 6,
   "metadata": {},
   "outputs": [
    {
     "name": "stdout",
     "output_type": "stream",
     "text": [
      "dict_keys(['data_', '_entry.id', '_audit_conform.dict_name', '_audit_conform.dict_version', '_audit_conform.dict_location', '_database_2.database_id', '_database_2.database_code', '_pdbx_database_related.db_name', '_pdbx_database_related.details', '_pdbx_database_related.db_id', '_pdbx_database_related.content_type', '_pdbx_database_status.status_code', '_pdbx_database_status.status_code_sf', '_pdbx_database_status.status_code_mr', '_pdbx_database_status.entry_id', '_pdbx_database_status.recvd_initial_deposition_date', '_pdbx_database_status.SG_entry', '_pdbx_database_status.deposit_site', '_pdbx_database_status.process_site', '_pdbx_database_status.status_code_cs', '_pdbx_database_status.methods_development_category', '_pdbx_database_status.pdb_format_compatible', '_audit_author.name', '_audit_author.pdbx_ordinal', '_citation.abstract', '_citation.abstract_id_CAS', '_citation.book_id_ISBN', '_citation.book_publisher', '_citation.book_publisher_city', '_citation.book_title', '_citation.coordinate_linkage', '_citation.country', '_citation.database_id_Medline', '_citation.details', '_citation.id', '_citation.journal_abbrev', '_citation.journal_id_ASTM', '_citation.journal_id_CSD', '_citation.journal_id_ISSN', '_citation.journal_full', '_citation.journal_issue', '_citation.journal_volume', '_citation.language', '_citation.page_first', '_citation.page_last', '_citation.title', '_citation.year', '_citation.database_id_CSD', '_citation.pdbx_database_id_DOI', '_citation.pdbx_database_id_PubMed', '_citation.unpublished_flag', '_citation_author.citation_id', '_citation_author.name', '_citation_author.ordinal', '_cell.length_a', '_cell.length_b', '_cell.length_c', '_cell.angle_alpha', '_cell.angle_beta', '_cell.angle_gamma', '_cell.entry_id', '_cell.Z_PDB', '_cell.pdbx_unique_axis', '_symmetry.space_group_name_H-M', '_symmetry.entry_id', '_symmetry.Int_Tables_number', '_symmetry.pdbx_full_space_group_name_H-M', '_symmetry.cell_setting', '_entity.id', '_entity.type', '_entity.src_method', '_entity.pdbx_description', '_entity.formula_weight', '_entity.pdbx_number_of_molecules', '_entity.pdbx_ec', '_entity.pdbx_mutation', '_entity.pdbx_fragment', '_entity.details', '_entity_poly.entity_id', '_entity_poly.type', '_entity_poly.nstd_linkage', '_entity_poly.nstd_monomer', '_entity_poly.pdbx_seq_one_letter_code', '_entity_poly.pdbx_seq_one_letter_code_can', '_entity_poly.pdbx_strand_id', '_entity_poly.pdbx_target_identifier', '_entity_poly_seq.entity_id', '_entity_poly_seq.num', '_entity_poly_seq.mon_id', '_entity_poly_seq.hetero', '_entity_src_gen.entity_id', '_entity_src_gen.pdbx_src_id', '_entity_src_gen.pdbx_alt_source_flag', '_entity_src_gen.pdbx_seq_type', '_entity_src_gen.pdbx_beg_seq_num', '_entity_src_gen.pdbx_end_seq_num', '_entity_src_gen.gene_src_common_name', '_entity_src_gen.gene_src_genus', '_entity_src_gen.pdbx_gene_src_gene', '_entity_src_gen.gene_src_species', '_entity_src_gen.gene_src_strain', '_entity_src_gen.gene_src_tissue', '_entity_src_gen.gene_src_tissue_fraction', '_entity_src_gen.gene_src_details', '_entity_src_gen.pdbx_gene_src_fragment', '_entity_src_gen.pdbx_gene_src_scientific_name', '_entity_src_gen.pdbx_gene_src_ncbi_taxonomy_id', '_entity_src_gen.pdbx_gene_src_variant', '_entity_src_gen.pdbx_gene_src_cell_line', '_entity_src_gen.pdbx_gene_src_atcc', '_entity_src_gen.pdbx_gene_src_organ', '_entity_src_gen.pdbx_gene_src_organelle', '_entity_src_gen.pdbx_gene_src_cell', '_entity_src_gen.pdbx_gene_src_cellular_location', '_entity_src_gen.host_org_common_name', '_entity_src_gen.pdbx_host_org_scientific_name', '_entity_src_gen.pdbx_host_org_ncbi_taxonomy_id', '_entity_src_gen.host_org_genus', '_entity_src_gen.pdbx_host_org_gene', '_entity_src_gen.pdbx_host_org_organ', '_entity_src_gen.host_org_species', '_entity_src_gen.pdbx_host_org_tissue', '_entity_src_gen.pdbx_host_org_tissue_fraction', '_entity_src_gen.pdbx_host_org_strain', '_entity_src_gen.pdbx_host_org_variant', '_entity_src_gen.pdbx_host_org_cell_line', '_entity_src_gen.pdbx_host_org_atcc', '_entity_src_gen.pdbx_host_org_culture_collection', '_entity_src_gen.pdbx_host_org_cell', '_entity_src_gen.pdbx_host_org_organelle', '_entity_src_gen.pdbx_host_org_cellular_location', '_entity_src_gen.pdbx_host_org_vector_type', '_entity_src_gen.pdbx_host_org_vector', '_entity_src_gen.host_org_details', '_entity_src_gen.expression_system_id', '_entity_src_gen.plasmid_name', '_entity_src_gen.plasmid_details', '_entity_src_gen.pdbx_description', '_struct_ref.id', '_struct_ref.db_name', '_struct_ref.db_code', '_struct_ref.pdbx_db_accession', '_struct_ref.pdbx_db_isoform', '_struct_ref.entity_id', '_struct_ref.pdbx_seq_one_letter_code', '_struct_ref.pdbx_align_begin', '_struct_ref_seq.align_id', '_struct_ref_seq.ref_id', '_struct_ref_seq.pdbx_PDB_id_code', '_struct_ref_seq.pdbx_strand_id', '_struct_ref_seq.seq_align_beg', '_struct_ref_seq.pdbx_seq_align_beg_ins_code', '_struct_ref_seq.seq_align_end', '_struct_ref_seq.pdbx_seq_align_end_ins_code', '_struct_ref_seq.pdbx_db_accession', '_struct_ref_seq.db_align_beg', '_struct_ref_seq.pdbx_db_align_beg_ins_code', '_struct_ref_seq.db_align_end', '_struct_ref_seq.pdbx_db_align_end_ins_code', '_struct_ref_seq.pdbx_auth_seq_align_beg', '_struct_ref_seq.pdbx_auth_seq_align_end', '_struct_ref_seq_dif.align_id', '_struct_ref_seq_dif.pdbx_pdb_id_code', '_struct_ref_seq_dif.mon_id', '_struct_ref_seq_dif.pdbx_pdb_strand_id', '_struct_ref_seq_dif.seq_num', '_struct_ref_seq_dif.pdbx_pdb_ins_code', '_struct_ref_seq_dif.pdbx_seq_db_name', '_struct_ref_seq_dif.pdbx_seq_db_accession_code', '_struct_ref_seq_dif.db_mon_id', '_struct_ref_seq_dif.pdbx_seq_db_seq_num', '_struct_ref_seq_dif.details', '_struct_ref_seq_dif.pdbx_auth_seq_num', '_struct_ref_seq_dif.pdbx_ordinal', '_chem_comp.id', '_chem_comp.type', '_chem_comp.mon_nstd_flag', '_chem_comp.name', '_chem_comp.pdbx_synonyms', '_chem_comp.formula', '_chem_comp.formula_weight', '_exptl.absorpt_coefficient_mu', '_exptl.absorpt_correction_T_max', '_exptl.absorpt_correction_T_min', '_exptl.absorpt_correction_type', '_exptl.absorpt_process_details', '_exptl.entry_id', '_exptl.crystals_number', '_exptl.details', '_exptl.method', '_exptl.method_details', '_exptl_crystal.colour', '_exptl_crystal.density_diffrn', '_exptl_crystal.density_Matthews', '_exptl_crystal.density_method', '_exptl_crystal.density_percent_sol', '_exptl_crystal.description', '_exptl_crystal.F_000', '_exptl_crystal.id', '_exptl_crystal.preparation', '_exptl_crystal.size_max', '_exptl_crystal.size_mid', '_exptl_crystal.size_min', '_exptl_crystal.size_rad', '_exptl_crystal.colour_lustre', '_exptl_crystal.colour_modifier', '_exptl_crystal.colour_primary', '_exptl_crystal.density_meas', '_exptl_crystal.density_meas_esd', '_exptl_crystal.density_meas_gt', '_exptl_crystal.density_meas_lt', '_exptl_crystal.density_meas_temp', '_exptl_crystal.density_meas_temp_esd', '_exptl_crystal.density_meas_temp_gt', '_exptl_crystal.density_meas_temp_lt', '_exptl_crystal.pdbx_crystal_image_url', '_exptl_crystal.pdbx_crystal_image_format', '_exptl_crystal.pdbx_mosaicity', '_exptl_crystal.pdbx_mosaicity_esd', '_exptl_crystal_grow.apparatus', '_exptl_crystal_grow.atmosphere', '_exptl_crystal_grow.crystal_id', '_exptl_crystal_grow.details', '_exptl_crystal_grow.method', '_exptl_crystal_grow.method_ref', '_exptl_crystal_grow.pH', '_exptl_crystal_grow.pressure', '_exptl_crystal_grow.pressure_esd', '_exptl_crystal_grow.seeding', '_exptl_crystal_grow.seeding_ref', '_exptl_crystal_grow.temp', '_exptl_crystal_grow.temp_details', '_exptl_crystal_grow.temp_esd', '_exptl_crystal_grow.time', '_exptl_crystal_grow.pdbx_details', '_exptl_crystal_grow.pdbx_pH_range', '_diffrn.ambient_environment', '_diffrn.ambient_temp', '_diffrn.ambient_temp_details', '_diffrn.ambient_temp_esd', '_diffrn.crystal_id', '_diffrn.crystal_support', '_diffrn.crystal_treatment', '_diffrn.details', '_diffrn.id', '_diffrn.ambient_pressure', '_diffrn.ambient_pressure_esd', '_diffrn.ambient_pressure_gt', '_diffrn.ambient_pressure_lt', '_diffrn.ambient_temp_gt', '_diffrn.ambient_temp_lt', '_diffrn_detector.details', '_diffrn_detector.detector', '_diffrn_detector.diffrn_id', '_diffrn_detector.type', '_diffrn_detector.area_resol_mean', '_diffrn_detector.dtime', '_diffrn_detector.pdbx_frames_total', '_diffrn_detector.pdbx_collection_time_total', '_diffrn_detector.pdbx_collection_date', '_diffrn_radiation.collimation', '_diffrn_radiation.diffrn_id', '_diffrn_radiation.filter_edge', '_diffrn_radiation.inhomogeneity', '_diffrn_radiation.monochromator', '_diffrn_radiation.polarisn_norm', '_diffrn_radiation.polarisn_ratio', '_diffrn_radiation.probe', '_diffrn_radiation.type', '_diffrn_radiation.xray_symbol', '_diffrn_radiation.wavelength_id', '_diffrn_radiation.pdbx_monochromatic_or_laue_m_l', '_diffrn_radiation.pdbx_wavelength_list', '_diffrn_radiation.pdbx_wavelength', '_diffrn_radiation.pdbx_diffrn_protocol', '_diffrn_radiation.pdbx_analyzer', '_diffrn_radiation.pdbx_scattering_type', '_diffrn_radiation_wavelength.id', '_diffrn_radiation_wavelength.wavelength', '_diffrn_radiation_wavelength.wt', '_diffrn_source.current', '_diffrn_source.details', '_diffrn_source.diffrn_id', '_diffrn_source.power', '_diffrn_source.size', '_diffrn_source.source', '_diffrn_source.target', '_diffrn_source.type', '_diffrn_source.voltage', '_diffrn_source.take-off_angle', '_diffrn_source.pdbx_wavelength_list', '_diffrn_source.pdbx_wavelength', '_diffrn_source.pdbx_synchrotron_beamline', '_diffrn_source.pdbx_synchrotron_site', '_reflns.d_resolution_high', '_reflns.pdbx_number_measured_all', '_reflns.number_obs', '_reflns.pdbx_Rmerge_I_obs', '_reflns.pdbx_netI_over_sigmaI', '_reflns.pdbx_chi_squared', '_reflns.percent_possible_obs', '_reflns.Rmerge_F_obs', '_reflns.observed_criterion_sigma_I', '_reflns.pdbx_Rrim_I_all', '_reflns.B_iso_Wilson_estimate', '_reflns.pdbx_diffrn_id', '_reflns.pdbx_ordinal', '_reflns.entry_id', '_reflns.observed_criterion_sigma_F', '_reflns.d_resolution_low', '_reflns.number_all', '_reflns.pdbx_Rsym_value', '_reflns.pdbx_redundancy', '_reflns_shell.pdbx_diffrn_id', '_reflns_shell.pdbx_ordinal', '_reflns_shell.d_res_high', '_reflns_shell.d_res_low', '_reflns_shell.number_measured_obs', '_reflns_shell.number_measured_all', '_reflns_shell.number_unique_obs', '_reflns_shell.pdbx_rejects', '_reflns_shell.Rmerge_I_obs', '_reflns_shell.meanI_over_sigI_obs', '_reflns_shell.pdbx_Rsym_value', '_reflns_shell.pdbx_chi_squared', '_reflns_shell.pdbx_redundancy', '_reflns_shell.percent_possible_obs', '_reflns_shell.pdbx_netI_over_sigmaI_obs', '_reflns_shell.number_possible', '_reflns_shell.number_unique_all', '_reflns_shell.Rmerge_F_all', '_reflns_shell.Rmerge_F_obs', '_reflns_shell.Rmerge_I_all', '_reflns_shell.meanI_over_sigI_all', '_reflns_shell.percent_possible_all', '_reflns_shell.pdbx_Rrim_I_all', '_reflns_shell.pdbx_Rpim_I_all', '_reflns_shell.pdbx_CC_half', '_refine.entry_id', '_refine.pdbx_refine_id', '_refine.ls_d_res_high', '_refine.ls_d_res_low', '_refine.pdbx_ls_sigma_F', '_refine.pdbx_data_cutoff_high_absF', '_refine.pdbx_data_cutoff_low_absF', '_refine.ls_percent_reflns_obs', '_refine.ls_number_reflns_obs', '_refine.ls_number_reflns_all', '_refine.pdbx_ls_cross_valid_method', '_refine.ls_matrix_type', '_refine.pdbx_R_Free_selection_details', '_refine.details', '_refine.ls_R_factor_all', '_refine.ls_R_factor_obs', '_refine.ls_R_factor_R_work', '_refine.ls_wR_factor_R_work', '_refine.ls_R_factor_R_free', '_refine.ls_wR_factor_R_free', '_refine.ls_percent_reflns_R_free', '_refine.ls_number_reflns_R_free', '_refine.ls_number_reflns_R_work', '_refine.ls_R_factor_R_free_error', '_refine.B_iso_mean', '_refine.solvent_model_param_bsol', '_refine.solvent_model_param_ksol', '_refine.pdbx_isotropic_thermal_model', '_refine.aniso_B[1][1]', '_refine.aniso_B[2][2]', '_refine.aniso_B[3][3]', '_refine.aniso_B[1][2]', '_refine.aniso_B[1][3]', '_refine.aniso_B[2][3]', '_refine.correlation_coeff_Fo_to_Fc', '_refine.correlation_coeff_Fo_to_Fc_free', '_refine.overall_SU_R_Cruickshank_DPI', '_refine.pdbx_overall_SU_R_free_Cruickshank_DPI', '_refine.pdbx_overall_SU_R_Blow_DPI', '_refine.pdbx_overall_SU_R_free_Blow_DPI', '_refine.overall_SU_R_free', '_refine.pdbx_overall_ESU_R', '_refine.pdbx_overall_ESU_R_Free', '_refine.overall_SU_ML', '_refine.overall_SU_B', '_refine.solvent_model_details', '_refine.pdbx_solvent_vdw_probe_radii', '_refine.pdbx_solvent_ion_probe_radii', '_refine.pdbx_solvent_shrinkage_radii', '_refine.ls_number_parameters', '_refine.ls_number_restraints', '_refine.pdbx_starting_model', '_refine.pdbx_method_to_determine_struct', '_refine.pdbx_stereochemistry_target_values', '_refine.pdbx_stereochem_target_val_spec_case', '_refine.overall_FOM_work_R_set', '_refine.B_iso_max', '_refine.B_iso_min', '_refine.pdbx_overall_phase_error', '_refine.occupancy_max', '_refine.occupancy_min', '_refine.pdbx_diffrn_id', '_refine.pdbx_TLS_residual_ADP_flag', '_refine.pdbx_ls_sigma_I', '_refine.pdbx_data_cutoff_high_rms_absF', '_refine.ls_R_factor_R_free_error_details', '_refine_hist.cycle_id', '_refine_hist.pdbx_refine_id', '_refine_hist.d_res_high', '_refine_hist.d_res_low', '_refine_hist.pdbx_number_atoms_ligand', '_refine_hist.number_atoms_solvent', '_refine_hist.number_atoms_total', '_refine_hist.pdbx_number_residues_total', '_refine_hist.pdbx_B_iso_mean_ligand', '_refine_hist.pdbx_B_iso_mean_solvent', '_refine_hist.pdbx_number_atoms_protein', '_refine_hist.pdbx_number_atoms_nucleic_acid', '_refine_ls_restr.pdbx_refine_id', '_refine_ls_restr.type', '_refine_ls_restr.number', '_refine_ls_restr.dev_ideal', '_refine_ls_restr.dev_ideal_target', '_refine_ls_restr.weight', '_refine_ls_restr.pdbx_restraint_function', '_refine_ls_shell.d_res_high', '_refine_ls_shell.d_res_low', '_refine_ls_shell.pdbx_total_number_of_bins_used', '_refine_ls_shell.percent_reflns_obs', '_refine_ls_shell.number_reflns_R_work', '_refine_ls_shell.R_factor_all', '_refine_ls_shell.R_factor_R_work', '_refine_ls_shell.R_factor_R_free', '_refine_ls_shell.percent_reflns_R_free', '_refine_ls_shell.number_reflns_R_free', '_refine_ls_shell.R_factor_R_free_error', '_refine_ls_shell.number_reflns_all', '_refine_ls_shell.number_reflns_obs', '_refine_ls_shell.pdbx_refine_id', '_refine_ls_shell.R_factor_obs', '_struct.entry_id', '_struct.title', '_struct.pdbx_descriptor', '_struct.pdbx_model_details', '_struct.pdbx_formula_weight', '_struct.pdbx_formula_weight_method', '_struct.pdbx_model_type_details', '_struct.pdbx_CASP_flag', '_struct_keywords.entry_id', '_struct_keywords.text', '_struct_keywords.pdbx_keywords', '_struct_asym.id', '_struct_asym.pdbx_blank_PDB_chainid_flag', '_struct_asym.pdbx_modified', '_struct_asym.entity_id', '_struct_asym.details', '_struct_conf.conf_type_id', '_struct_conf.id', '_struct_conf.pdbx_PDB_helix_id', '_struct_conf.beg_label_comp_id', '_struct_conf.beg_label_asym_id', '_struct_conf.beg_label_seq_id', '_struct_conf.pdbx_beg_PDB_ins_code', '_struct_conf.end_label_comp_id', '_struct_conf.end_label_asym_id', '_struct_conf.end_label_seq_id', '_struct_conf.pdbx_end_PDB_ins_code', '_struct_conf.beg_auth_comp_id', '_struct_conf.beg_auth_asym_id', '_struct_conf.beg_auth_seq_id', '_struct_conf.end_auth_comp_id', '_struct_conf.end_auth_asym_id', '_struct_conf.end_auth_seq_id', '_struct_conf.pdbx_PDB_helix_class', '_struct_conf.details', '_struct_conf.pdbx_PDB_helix_length', '_struct_conf_type.id', '_struct_conf_type.criteria', '_struct_conf_type.reference', '_struct_conn.id', '_struct_conn.conn_type_id', '_struct_conn.pdbx_leaving_atom_flag', '_struct_conn.pdbx_PDB_id', '_struct_conn.ptnr1_label_asym_id', '_struct_conn.ptnr1_label_comp_id', '_struct_conn.ptnr1_label_seq_id', '_struct_conn.ptnr1_label_atom_id', '_struct_conn.pdbx_ptnr1_label_alt_id', '_struct_conn.pdbx_ptnr1_PDB_ins_code', '_struct_conn.pdbx_ptnr1_standard_comp_id', '_struct_conn.ptnr1_symmetry', '_struct_conn.ptnr2_label_asym_id', '_struct_conn.ptnr2_label_comp_id', '_struct_conn.ptnr2_label_seq_id', '_struct_conn.ptnr2_label_atom_id', '_struct_conn.pdbx_ptnr2_label_alt_id', '_struct_conn.pdbx_ptnr2_PDB_ins_code', '_struct_conn.ptnr1_auth_asym_id', '_struct_conn.ptnr1_auth_comp_id', '_struct_conn.ptnr1_auth_seq_id', '_struct_conn.ptnr2_auth_asym_id', '_struct_conn.ptnr2_auth_comp_id', '_struct_conn.ptnr2_auth_seq_id', '_struct_conn.ptnr2_symmetry', '_struct_conn.pdbx_ptnr3_label_atom_id', '_struct_conn.pdbx_ptnr3_label_seq_id', '_struct_conn.pdbx_ptnr3_label_comp_id', '_struct_conn.pdbx_ptnr3_label_asym_id', '_struct_conn.pdbx_ptnr3_label_alt_id', '_struct_conn.pdbx_ptnr3_PDB_ins_code', '_struct_conn.details', '_struct_conn.pdbx_dist_value', '_struct_conn.pdbx_value_order', '_struct_conn_type.id', '_struct_conn_type.criteria', '_struct_conn_type.reference', '_struct_mon_prot_cis.pdbx_id', '_struct_mon_prot_cis.label_comp_id', '_struct_mon_prot_cis.label_seq_id', '_struct_mon_prot_cis.label_asym_id', '_struct_mon_prot_cis.label_alt_id', '_struct_mon_prot_cis.pdbx_PDB_ins_code', '_struct_mon_prot_cis.auth_comp_id', '_struct_mon_prot_cis.auth_seq_id', '_struct_mon_prot_cis.auth_asym_id', '_struct_mon_prot_cis.pdbx_label_comp_id_2', '_struct_mon_prot_cis.pdbx_label_seq_id_2', '_struct_mon_prot_cis.pdbx_label_asym_id_2', '_struct_mon_prot_cis.pdbx_PDB_ins_code_2', '_struct_mon_prot_cis.pdbx_auth_comp_id_2', '_struct_mon_prot_cis.pdbx_auth_seq_id_2', '_struct_mon_prot_cis.pdbx_auth_asym_id_2', '_struct_mon_prot_cis.pdbx_PDB_model_num', '_struct_mon_prot_cis.pdbx_omega_angle', '_struct_sheet.id', '_struct_sheet.type', '_struct_sheet.number_strands', '_struct_sheet.details', '_struct_sheet_order.sheet_id', '_struct_sheet_order.range_id_1', '_struct_sheet_order.range_id_2', '_struct_sheet_order.offset', '_struct_sheet_order.sense', '_struct_sheet_range.sheet_id', '_struct_sheet_range.id', '_struct_sheet_range.beg_label_comp_id', '_struct_sheet_range.beg_label_asym_id', '_struct_sheet_range.beg_label_seq_id', '_struct_sheet_range.pdbx_beg_PDB_ins_code', '_struct_sheet_range.end_label_comp_id', '_struct_sheet_range.end_label_asym_id', '_struct_sheet_range.end_label_seq_id', '_struct_sheet_range.pdbx_end_PDB_ins_code', '_struct_sheet_range.beg_auth_comp_id', '_struct_sheet_range.beg_auth_asym_id', '_struct_sheet_range.beg_auth_seq_id', '_struct_sheet_range.end_auth_comp_id', '_struct_sheet_range.end_auth_asym_id', '_struct_sheet_range.end_auth_seq_id', '_pdbx_struct_sheet_hbond.sheet_id', '_pdbx_struct_sheet_hbond.range_id_1', '_pdbx_struct_sheet_hbond.range_id_2', '_pdbx_struct_sheet_hbond.range_1_label_atom_id', '_pdbx_struct_sheet_hbond.range_1_label_comp_id', '_pdbx_struct_sheet_hbond.range_1_label_asym_id', '_pdbx_struct_sheet_hbond.range_1_label_seq_id', '_pdbx_struct_sheet_hbond.range_1_PDB_ins_code', '_pdbx_struct_sheet_hbond.range_1_auth_atom_id', '_pdbx_struct_sheet_hbond.range_1_auth_comp_id', '_pdbx_struct_sheet_hbond.range_1_auth_asym_id', '_pdbx_struct_sheet_hbond.range_1_auth_seq_id', '_pdbx_struct_sheet_hbond.range_2_label_atom_id', '_pdbx_struct_sheet_hbond.range_2_label_comp_id', '_pdbx_struct_sheet_hbond.range_2_label_asym_id', '_pdbx_struct_sheet_hbond.range_2_label_seq_id', '_pdbx_struct_sheet_hbond.range_2_PDB_ins_code', '_pdbx_struct_sheet_hbond.range_2_auth_atom_id', '_pdbx_struct_sheet_hbond.range_2_auth_comp_id', '_pdbx_struct_sheet_hbond.range_2_auth_asym_id', '_pdbx_struct_sheet_hbond.range_2_auth_seq_id', '_struct_site.id', '_struct_site.pdbx_evidence_code', '_struct_site.pdbx_auth_asym_id', '_struct_site.pdbx_auth_comp_id', '_struct_site.pdbx_auth_seq_id', '_struct_site.pdbx_auth_ins_code', '_struct_site.pdbx_num_residues', '_struct_site.details', '_struct_site_gen.id', '_struct_site_gen.site_id', '_struct_site_gen.pdbx_num_res', '_struct_site_gen.label_comp_id', '_struct_site_gen.label_asym_id', '_struct_site_gen.label_seq_id', '_struct_site_gen.pdbx_auth_ins_code', '_struct_site_gen.auth_comp_id', '_struct_site_gen.auth_asym_id', '_struct_site_gen.auth_seq_id', '_struct_site_gen.label_atom_id', '_struct_site_gen.label_alt_id', '_struct_site_gen.symmetry', '_struct_site_gen.details', '_atom_sites.entry_id', '_atom_sites.fract_transf_matrix[1][1]', '_atom_sites.fract_transf_matrix[1][2]', '_atom_sites.fract_transf_matrix[1][3]', '_atom_sites.fract_transf_matrix[2][1]', '_atom_sites.fract_transf_matrix[2][2]', '_atom_sites.fract_transf_matrix[2][3]', '_atom_sites.fract_transf_matrix[3][1]', '_atom_sites.fract_transf_matrix[3][2]', '_atom_sites.fract_transf_matrix[3][3]', '_atom_sites.fract_transf_vector[1]', '_atom_sites.fract_transf_vector[2]', '_atom_sites.fract_transf_vector[3]', '_atom_type.symbol', '_atom_site.group_PDB', '_atom_site.id', '_atom_site.type_symbol', '_atom_site.label_atom_id', '_atom_site.label_alt_id', '_atom_site.label_comp_id', '_atom_site.label_asym_id', '_atom_site.label_entity_id', '_atom_site.label_seq_id', '_atom_site.pdbx_PDB_ins_code', '_atom_site.Cartn_x', '_atom_site.Cartn_y', '_atom_site.Cartn_z', '_atom_site.occupancy', '_atom_site.B_iso_or_equiv', '_atom_site.pdbx_formal_charge', '_atom_site.auth_seq_id', '_atom_site.auth_comp_id', '_atom_site.auth_asym_id', '_atom_site.auth_atom_id', '_atom_site.pdbx_PDB_model_num', '_pdbx_poly_seq_scheme.asym_id', '_pdbx_poly_seq_scheme.entity_id', '_pdbx_poly_seq_scheme.seq_id', '_pdbx_poly_seq_scheme.mon_id', '_pdbx_poly_seq_scheme.ndb_seq_num', '_pdbx_poly_seq_scheme.pdb_seq_num', '_pdbx_poly_seq_scheme.auth_seq_num', '_pdbx_poly_seq_scheme.pdb_mon_id', '_pdbx_poly_seq_scheme.auth_mon_id', '_pdbx_poly_seq_scheme.pdb_strand_id', '_pdbx_poly_seq_scheme.pdb_ins_code', '_pdbx_poly_seq_scheme.hetero', '_pdbx_nonpoly_scheme.asym_id', '_pdbx_nonpoly_scheme.entity_id', '_pdbx_nonpoly_scheme.mon_id', '_pdbx_nonpoly_scheme.ndb_seq_num', '_pdbx_nonpoly_scheme.pdb_seq_num', '_pdbx_nonpoly_scheme.auth_seq_num', '_pdbx_nonpoly_scheme.pdb_mon_id', '_pdbx_nonpoly_scheme.auth_mon_id', '_pdbx_nonpoly_scheme.pdb_strand_id', '_pdbx_nonpoly_scheme.pdb_ins_code', '_pdbx_struct_assembly.id', '_pdbx_struct_assembly.details', '_pdbx_struct_assembly.method_details', '_pdbx_struct_assembly.oligomeric_details', '_pdbx_struct_assembly.oligomeric_count', '_pdbx_struct_assembly_gen.assembly_id', '_pdbx_struct_assembly_gen.oper_expression', '_pdbx_struct_assembly_gen.asym_id_list', '_pdbx_struct_oper_list.id', '_pdbx_struct_oper_list.type', '_pdbx_struct_oper_list.name', '_pdbx_struct_oper_list.symmetry_operation', '_pdbx_struct_oper_list.matrix[1][1]', '_pdbx_struct_oper_list.matrix[1][2]', '_pdbx_struct_oper_list.matrix[1][3]', '_pdbx_struct_oper_list.vector[1]', '_pdbx_struct_oper_list.matrix[2][1]', '_pdbx_struct_oper_list.matrix[2][2]', '_pdbx_struct_oper_list.matrix[2][3]', '_pdbx_struct_oper_list.vector[2]', '_pdbx_struct_oper_list.matrix[3][1]', '_pdbx_struct_oper_list.matrix[3][2]', '_pdbx_struct_oper_list.matrix[3][3]', '_pdbx_struct_oper_list.vector[3]', '_pdbx_struct_conn_angle.id', '_pdbx_struct_conn_angle.ptnr1_label_atom_id', '_pdbx_struct_conn_angle.ptnr1_label_alt_id', '_pdbx_struct_conn_angle.ptnr1_label_asym_id', '_pdbx_struct_conn_angle.ptnr1_label_comp_id', '_pdbx_struct_conn_angle.ptnr1_label_seq_id', '_pdbx_struct_conn_angle.ptnr1_auth_atom_id', '_pdbx_struct_conn_angle.ptnr1_auth_asym_id', '_pdbx_struct_conn_angle.ptnr1_auth_comp_id', '_pdbx_struct_conn_angle.ptnr1_auth_seq_id', '_pdbx_struct_conn_angle.ptnr1_PDB_ins_code', '_pdbx_struct_conn_angle.ptnr1_symmetry', '_pdbx_struct_conn_angle.ptnr2_label_atom_id', '_pdbx_struct_conn_angle.ptnr2_label_alt_id', '_pdbx_struct_conn_angle.ptnr2_label_asym_id', '_pdbx_struct_conn_angle.ptnr2_label_comp_id', '_pdbx_struct_conn_angle.ptnr2_label_seq_id', '_pdbx_struct_conn_angle.ptnr2_auth_atom_id', '_pdbx_struct_conn_angle.ptnr2_auth_asym_id', '_pdbx_struct_conn_angle.ptnr2_auth_comp_id', '_pdbx_struct_conn_angle.ptnr2_auth_seq_id', '_pdbx_struct_conn_angle.ptnr2_PDB_ins_code', '_pdbx_struct_conn_angle.ptnr2_symmetry', '_pdbx_struct_conn_angle.ptnr3_label_atom_id', '_pdbx_struct_conn_angle.ptnr3_label_alt_id', '_pdbx_struct_conn_angle.ptnr3_label_asym_id', '_pdbx_struct_conn_angle.ptnr3_label_comp_id', '_pdbx_struct_conn_angle.ptnr3_label_seq_id', '_pdbx_struct_conn_angle.ptnr3_auth_atom_id', '_pdbx_struct_conn_angle.ptnr3_auth_asym_id', '_pdbx_struct_conn_angle.ptnr3_auth_comp_id', '_pdbx_struct_conn_angle.ptnr3_auth_seq_id', '_pdbx_struct_conn_angle.ptnr3_PDB_ins_code', '_pdbx_struct_conn_angle.ptnr3_symmetry', '_pdbx_struct_conn_angle.value', '_pdbx_struct_conn_angle.value_esd', '_pdbx_audit_revision_history.ordinal', '_pdbx_audit_revision_history.data_content_type', '_pdbx_audit_revision_history.major_revision', '_pdbx_audit_revision_history.minor_revision', '_pdbx_audit_revision_history.revision_date', '_pdbx_audit_revision_details.ordinal', '_pdbx_audit_revision_details.revision_ordinal', '_pdbx_audit_revision_details.data_content_type', '_pdbx_audit_revision_details.provider', '_pdbx_audit_revision_details.type', '_pdbx_audit_revision_details.description', '_pdbx_audit_revision_group.ordinal', '_pdbx_audit_revision_group.revision_ordinal', '_pdbx_audit_revision_group.data_content_type', '_pdbx_audit_revision_group.group', '_pdbx_audit_revision_category.ordinal', '_pdbx_audit_revision_category.revision_ordinal', '_pdbx_audit_revision_category.data_content_type', '_pdbx_audit_revision_category.category', '_pdbx_audit_revision_item.ordinal', '_pdbx_audit_revision_item.revision_ordinal', '_pdbx_audit_revision_item.data_content_type', '_pdbx_audit_revision_item.item', '_software.citation_id', '_software.classification', '_software.compiler_name', '_software.compiler_version', '_software.contact_author', '_software.contact_author_email', '_software.date', '_software.description', '_software.dependencies', '_software.hardware', '_software.language', '_software.location', '_software.mods', '_software.name', '_software.os', '_software.os_version', '_software.type', '_software.version', '_software.pdbx_ordinal', '_pdbx_validate_close_contact.id', '_pdbx_validate_close_contact.PDB_model_num', '_pdbx_validate_close_contact.auth_atom_id_1', '_pdbx_validate_close_contact.auth_asym_id_1', '_pdbx_validate_close_contact.auth_comp_id_1', '_pdbx_validate_close_contact.auth_seq_id_1', '_pdbx_validate_close_contact.PDB_ins_code_1', '_pdbx_validate_close_contact.label_alt_id_1', '_pdbx_validate_close_contact.auth_atom_id_2', '_pdbx_validate_close_contact.auth_asym_id_2', '_pdbx_validate_close_contact.auth_comp_id_2', '_pdbx_validate_close_contact.auth_seq_id_2', '_pdbx_validate_close_contact.PDB_ins_code_2', '_pdbx_validate_close_contact.label_alt_id_2', '_pdbx_validate_close_contact.dist', '_pdbx_validate_torsion.id', '_pdbx_validate_torsion.PDB_model_num', '_pdbx_validate_torsion.auth_comp_id', '_pdbx_validate_torsion.auth_asym_id', '_pdbx_validate_torsion.auth_seq_id', '_pdbx_validate_torsion.PDB_ins_code', '_pdbx_validate_torsion.label_alt_id', '_pdbx_validate_torsion.phi', '_pdbx_validate_torsion.psi', '_pdbx_validate_peptide_omega.id', '_pdbx_validate_peptide_omega.PDB_model_num', '_pdbx_validate_peptide_omega.auth_comp_id_1', '_pdbx_validate_peptide_omega.auth_asym_id_1', '_pdbx_validate_peptide_omega.auth_seq_id_1', '_pdbx_validate_peptide_omega.PDB_ins_code_1', '_pdbx_validate_peptide_omega.label_alt_id_1', '_pdbx_validate_peptide_omega.auth_comp_id_2', '_pdbx_validate_peptide_omega.auth_asym_id_2', '_pdbx_validate_peptide_omega.auth_seq_id_2', '_pdbx_validate_peptide_omega.PDB_ins_code_2', '_pdbx_validate_peptide_omega.label_alt_id_2', '_pdbx_validate_peptide_omega.omega', '_pdbx_unobs_or_zero_occ_atoms.id', '_pdbx_unobs_or_zero_occ_atoms.PDB_model_num', '_pdbx_unobs_or_zero_occ_atoms.polymer_flag', '_pdbx_unobs_or_zero_occ_atoms.occupancy_flag', '_pdbx_unobs_or_zero_occ_atoms.auth_asym_id', '_pdbx_unobs_or_zero_occ_atoms.auth_comp_id', '_pdbx_unobs_or_zero_occ_atoms.auth_seq_id', '_pdbx_unobs_or_zero_occ_atoms.PDB_ins_code', '_pdbx_unobs_or_zero_occ_atoms.auth_atom_id', '_pdbx_unobs_or_zero_occ_atoms.label_alt_id', '_pdbx_unobs_or_zero_occ_atoms.label_asym_id', '_pdbx_unobs_or_zero_occ_atoms.label_comp_id', '_pdbx_unobs_or_zero_occ_atoms.label_seq_id', '_pdbx_unobs_or_zero_occ_atoms.label_atom_id', '_pdbx_entity_nonpoly.entity_id', '_pdbx_entity_nonpoly.name', '_pdbx_entity_nonpoly.comp_id'])\n"
     ]
    }
   ],
   "source": [
    "print(Diccionario_MMCIF.keys())\n",
    "\n",
    "#Existen un montón de claves, pero nuestro próposito es examinar el sitio de unión de la dopamina, por lo que sólo nos va a interesar la información contenida en _struct_site.details"
   ]
  },
  {
   "cell_type": "code",
   "execution_count": 7,
   "metadata": {},
   "outputs": [
    {
     "data": {
      "text/plain": [
       "['binding site for residue NA A 701',\n",
       " 'binding site for residue NA A 702',\n",
       " 'binding site for residue CL A 703',\n",
       " 'binding site for residue MAL A 704',\n",
       " 'binding site for residue MAL A 705',\n",
       " 'binding site for residue P4G A 707',\n",
       " 'binding site for residue LDP A 708',\n",
       " 'binding site for residue EDO A 709',\n",
       " 'binding site for residue Y01 A 710',\n",
       " 'binding site for residue CLR A 711',\n",
       " 'binding site for residue NA L 301',\n",
       " 'binding site for Mono-Saccharide NAG A 706 bound to ASN A 141']"
      ]
     },
     "execution_count": 7,
     "metadata": {},
     "output_type": "execute_result"
    }
   ],
   "source": [
    "Diccionario_MMCIF['_struct_site.details']\n",
    "\n",
    "#La clave nos revela múltiples sitios de unión para diferentes moléculas, sin embargo, LDP es la dopamina, esa es la que nos interesa. El ID para este sitio es AC7"
   ]
  },
  {
   "cell_type": "markdown",
   "metadata": {},
   "source": [
    " Aquí está la [estructura](https://www.rcsb.org/ligand/LDP) de la dopamina LDP."
   ]
  },
  {
   "cell_type": "code",
   "execution_count": 8,
   "metadata": {},
   "outputs": [
    {
     "name": "stdout",
     "output_type": "stream",
     "text": [
      "AC7 A 46 ASP\n",
      "AC7 A 117 ALA\n",
      "AC7 A 120 VAL\n",
      "AC7 A 121 ASP\n",
      "AC7 A 124 TYR\n",
      "AC7 A 325 PHE\n",
      "AC7 A 422 SER\n",
      "AC7 A 425 GLY\n",
      "AC7 A 812 HOH\n"
     ]
    }
   ],
   "source": [
    "#Ahora, si miramos otra entrada en el mmCIF, podemos obtener una lista de todos los residuos en cada sitio de enlace\n",
    "\n",
    "ID = Diccionario_MMCIF['_struct_site_gen.site_id']\n",
    "Cadena = Diccionario_MMCIF['_struct_site_gen.auth_asym_id']\n",
    "NumResiduo = Diccionario_MMCIF['_struct_site_gen.auth_seq_id']\n",
    "NombreResiduo = Diccionario_MMCIF['_struct_site_gen.label_comp_id']\n",
    "\n",
    "Residuos = []\n",
    "for bind_id, ch, num, name in zip(ID, Cadena,NumResiduo, NombreResiduo):\n",
    "    if bind_id == \"AC7\":\n",
    "        print(bind_id, ch, num, name)\n",
    "        try:\n",
    "            Residuos.append(structure[0][ch][int(num)])\n",
    "        except:\n",
    "            continue\n",
    "    else:\n",
    "        continue"
   ]
  },
  {
   "cell_type": "markdown",
   "metadata": {},
   "source": [
    "### Discusión y conclusiones\n",
    "\n",
    "<div class=text-justify>Los resultados obtenidos en el análisis del archivo descargado del PDB, evidencian una lista de aminoácidos que participan en la unión de dopamina al transportador de membrana. La recaptación de dopamina por medio del DAT es el principal mecanismo por el cual la dopamina es eliminada después de ocurrir sinapsis, la cocaína, por ejemplo, al ser un bloqueador del transportador de la dopamina, inhibe competitivamente la recaptación de la dopamina y disminuye la tasa de transporte  al unirse a estos residuos para aumentar el periodo de vida de la misma y producir una sobreabundancia de esta (Beuming et al., 2008). Este mecanismo provoca una remoción disminuida de dopamina de la sinapsis y un aumento en la señalización, lo cual se piensa que es la causa subyacente de los sentimientos placenteros causados por estas sustancias (Wilkinson et al., 1980).\n",
    "\n",
    "\n",
    "<div class=text-justify>En conclusión, el diseño de un nuevo medicamento que pueda ser antidepresivo o que en contraste, pueda ayudar con las enfermedades mencionadas anteriormente, debería tener afinidad por estos residuos para poder conseguir un efecto beneficioso. \n",
    "\n"
   ]
  },
  {
   "cell_type": "markdown",
   "metadata": {},
   "source": [
    "### Referencias\n",
    "\n",
    "1. Benes, F.M. (2001). Carlsson and the discovery of dopamine. Trends in Pharmacological Sciences. Volume 22 (Issue 1): 46-47.\n",
    "\n",
    "2. Beuming, T., Kniazeff, J., Bergmann, M. L., Shi, L., Gracia, L., Raniszewska, K., … Loland, C. J. (2008). The binding sites for cocaine and dopamine in the dopamine transporter overlap. Nature Neuroscience, 11(7), 780–789.\n",
    "\n",
    "3. German, C. L., Baladi, M. G., McFadden, L. M., Hanson, G. R., Fleckenstein, A. E. (2015). Regulation of the Dopamine and Vesicular Monoamine Transporters: Pharmacological Targets and Implications for Disease. Pharmacol Rev (en inglés) (American Society for Pharmacology and Experimental Therapeutics) 67 (4): 1005-1024.\n",
    "\n",
    "4. Hamelryck, T., Manderick, B. (2003). PDB parser and structure class implemented in Python. Bioinformatics 19: 2308–2310\n",
    "\n",
    "5. Seeman, P., & Van Tol, H. H. M. (1994). Dopamine receptor pharmacology. Trends in Pharmacological Sciences, 15(7), 264–270.\n",
    "\n",
    "6. Wang, K. H., Penmatsa, A., & Gouaux, E. (2015). Neurotransmitter and psychostimulant recognition by the dopamine transporter. Nature, 521(7552), 322–327. \n",
    "\n",
    "7. Wilkinson, P., Van Dyke, C., Jatlow, P., Barash, P., Byck, R. (1980). Intranasal and oral cocaine kinetics. Clin. Pharmacol. Ther. 27 (3): 386-94.\n",
    "\n",
    "\n"
   ]
  },
  {
   "cell_type": "code",
   "execution_count": null,
   "metadata": {},
   "outputs": [],
   "source": []
  }
 ],
 "metadata": {
  "kernelspec": {
   "display_name": "Python 3",
   "language": "python",
   "name": "python3"
  },
  "language_info": {
   "codemirror_mode": {
    "name": "ipython",
    "version": 3
   },
   "file_extension": ".py",
   "mimetype": "text/x-python",
   "name": "python",
   "nbconvert_exporter": "python",
   "pygments_lexer": "ipython3",
   "version": "3.7.1"
  }
 },
 "nbformat": 4,
 "nbformat_minor": 2
}
