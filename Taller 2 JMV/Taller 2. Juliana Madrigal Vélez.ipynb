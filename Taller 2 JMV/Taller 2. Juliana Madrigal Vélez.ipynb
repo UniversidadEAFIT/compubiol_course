{
 "cells": [
  {
   "cell_type": "markdown",
   "metadata": {},
   "source": [
    "# Taller 2 - Python\n",
    "    Fundamentos en Biología Computacional\n",
    "    por: Juliana Madrigal Vélez"
   ]
  },
  {
   "cell_type": "markdown",
   "metadata": {},
   "source": [
    "1. Realice un función para expresar cualquier número entero en su conotación factorial. \n",
    "Ejemplo: factorial(4)\n",
    "Out: 24"
   ]
  },
  {
   "cell_type": "code",
   "execution_count": 92,
   "metadata": {},
   "outputs": [
    {
     "data": {
      "text/plain": [
       "24"
      ]
     },
     "execution_count": 92,
     "metadata": {},
     "output_type": "execute_result"
    }
   ],
   "source": [
    "def factorial(numero): \n",
    "    i = 1\n",
    "    factorial = numero\n",
    "    while i < numero:\n",
    "        factorial = factorial * i\n",
    "        i = i + 1\n",
    "    return factorial \n",
    "\n",
    "factorial (4)"
   ]
  },
  {
   "cell_type": "markdown",
   "metadata": {},
   "source": [
    "2. Realice un función para expresar la potencia de cualquier número. La función recibe como parámetros la base y el exponencial. \n",
    "Ejemplo: potencia(4,2)\n",
    "Out: 16"
   ]
  },
  {
   "cell_type": "code",
   "execution_count": 93,
   "metadata": {},
   "outputs": [
    {
     "data": {
      "text/plain": [
       "16"
      ]
     },
     "execution_count": 93,
     "metadata": {},
     "output_type": "execute_result"
    }
   ],
   "source": [
    "def potencia (base, exp):\n",
    "    resultado = base**exp\n",
    "    return resultado\n",
    "potencia (4,2)"
   ]
  },
  {
   "cell_type": "markdown",
   "metadata": {},
   "source": [
    "3. Utilizando las dos funciones anteriormente definidas (factorial y potencia), realice un función para expresar el Seno de un entero. \n",
    "Ejemplo: seno(5)\n",
    "Out: -0.9589331651965962"
   ]
  },
  {
   "cell_type": "code",
   "execution_count": 94,
   "metadata": {},
   "outputs": [
    {
     "data": {
      "text/plain": [
       "-0.9589331651965963"
      ]
     },
     "execution_count": 94,
     "metadata": {},
     "output_type": "execute_result"
    }
   ],
   "source": [
    "def seno (numero):\n",
    "    numero = float (numero)\n",
    "    aux = 0.0\n",
    "    for i in range (0,10):\n",
    "        aux = aux + ((potencia(-1,i))/(factorial(2*i+1)))*(potencia(numero,(2*i+1)))\n",
    "    return (aux)\n",
    "\n",
    "seno (5)"
   ]
  },
  {
   "cell_type": "markdown",
   "metadata": {},
   "source": [
    "4. Dadas las cantidades de individuos con los genótipos AA, AB y BB. Calcular la frecuencia del alelo A esperada en equilibrio de Hardyweinber. \n",
    "Ejemplo: hardyweinbergpp(12,4,4) \n",
    "Out: 0.48999999999999994"
   ]
  },
  {
   "cell_type": "code",
   "execution_count": 95,
   "metadata": {},
   "outputs": [
    {
     "data": {
      "text/plain": [
       "0.4522774424948338"
      ]
     },
     "execution_count": 95,
     "metadata": {},
     "output_type": "execute_result"
    }
   ],
   "source": [
    "def hardyweinbergpp(AA,AB,BB):\n",
    "    \n",
    "    n = AA+AB+BB\n",
    "    proporcionA = AA/n\n",
    "    proporcionAB = AB/n\n",
    "    proporcionBB = BB/n\n",
    "    frecuenciadominante = proporcionA + (proporcionAB/2)\n",
    "    frecuenciarecesivo = 1 - frecuenciadominante\n",
    "    frecuencia_alelo_recesivo = frecuenciarecesivo ** (1/2)\n",
    "    frecuencia_alelo_dominante = 1 - frecuencia_alelo_recesivo\n",
    "    \n",
    "    return frecuencia_alelo_dominante\n",
    "    \n",
    "hardyweinbergpp(12,4,4)"
   ]
  },
  {
   "cell_type": "markdown",
   "metadata": {},
   "source": [
    "5. Dada una cadena de DNA retornar una de RNA \n",
    "Ejemplo: DNA_to_RNA(\"TCTCTACTCATGTCTGCA\")\n",
    "Out: UCUCUACUCAUGUCUGCA"
   ]
  },
  {
   "cell_type": "code",
   "execution_count": 96,
   "metadata": {},
   "outputs": [
    {
     "data": {
      "text/plain": [
       "'UCUCUACUCAUGUCUGCA'"
      ]
     },
     "execution_count": 96,
     "metadata": {},
     "output_type": "execute_result"
    }
   ],
   "source": [
    "def DNA_to_RNA(cadena):\n",
    "    respuesta = \"\"\n",
    "    for i in cadena:\n",
    "        if(i == \"T\"):\n",
    "            respuesta += \"U\"\n",
    "        else:\n",
    "            respuesta = respuesta + i\n",
    "    return respuesta\n",
    "\n",
    "DNA_to_RNA (\"TCTCTACTCATGTCTGCA\")"
   ]
  },
  {
   "cell_type": "markdown",
   "metadata": {},
   "source": [
    "6. Realizar una función que calcule la Temperatura de Melting de un primer de DNA en grados Celcius. Teniendo en cuenta que; en un oligonucleótido < de 14 nucleótidos, la Tm se calcula multiplicando la cantidad de G+C por 4 y las A+T por 2. Mientras que, si es >= de 14 nt, se debe aplicar la siguiente fórmula (64.9 + 41 * (totalG+C -16.4) / Tamaño sel oligo). \n",
    "Ejemplo: tempmelt(TCTCTACTCATGTCTGCA)\n",
    "Out: 57.2"
   ]
  },
  {
   "cell_type": "code",
   "execution_count": 97,
   "metadata": {},
   "outputs": [
    {
     "data": {
      "text/plain": [
       "45.76666666666668"
      ]
     },
     "execution_count": 97,
     "metadata": {},
     "output_type": "execute_result"
    }
   ],
   "source": [
    "def tempmelting (nucleotidos):\n",
    "    secuencia = nucleotidos\n",
    "    tamaño_secuencia = len (nucleotidos)\n",
    "    contarG = 0\n",
    "    contarC = 0\n",
    "    contarT = 0\n",
    "    contarA = 0\n",
    "    \n",
    "    for i in secuencia:\n",
    "    \n",
    "        if i == \"G\":\n",
    "            contarG = contarG + 1\n",
    "        if i == \"C\":\n",
    "            contarC = contarC + 1\n",
    "        if i == \"T\":\n",
    "            contarT = contarT + 1\n",
    "        if i == \"A\":\n",
    "            contarA= contarA + 1\n",
    "\n",
    "    if tamaño_secuencia < 14:\n",
    "        Tm = ((contarG + contarC) * 4) + ((contarT + contarA) * 2)\n",
    "    else:\n",
    "        Tm = 64.9 + 41 * ((contarG + contarC - 16.4)/tamaño_secuencia)\n",
    "\n",
    "    return Tm\n",
    "\n",
    "tempmelting (\"TCTCTACTCATGTCTGCA\")"
   ]
  },
  {
   "cell_type": "markdown",
   "metadata": {},
   "source": [
    "7. Hallar la distancia Hamming entre dos secuencias de polipéptidos. \n",
    "link: https://es.wikipedia.org/wiki/Distancia_de_Hamming \n",
    "Ejemplo: distancia_Hamming(\"SRSLLLRFLMSRSLLLRFLLFLLLLPPLPLFLLLLPPL\",\"SRSLLLRFLSSRSLLLRFLLFLLLLAALALFLLLLSML\")\n",
    "Out:6"
   ]
  },
  {
   "cell_type": "code",
   "execution_count": 98,
   "metadata": {},
   "outputs": [
    {
     "data": {
      "text/plain": [
       "6"
      ]
     },
     "execution_count": 98,
     "metadata": {},
     "output_type": "execute_result"
    }
   ],
   "source": [
    "def distanciaHamming (secuencia1, secuencia2):\n",
    "    distancia = 0\n",
    "    longitud = len (secuencia1)\n",
    "    for i in range (longitud):\n",
    "        if secuencia1 [i] != secuencia2[i]:\n",
    "            distancia = distancia + 1\n",
    "    return distancia\n",
    "\n",
    "distanciaHamming (\"SRSLLLRFLMSRSLLLRFLLFLLLLPPLPLFLLLLPPL\",\"SRSLLLRFLSSRSLLLRFLLFLLLLAALALFLLLLSML\")\n"
   ]
  },
  {
   "cell_type": "markdown",
   "metadata": {},
   "source": [
    "8. Dada la tabla de codones estandar, hacer una función para traducir una cadena de DNA empezando desde la posición 1 <br>\n",
    "Ejemplo: traducir(\"ATGGCGCGTATGAATAGCAATCCGAGCGCATGCCATGTTTGCCATGCGGCTCTGGCGGTCATTGATGCGTGCAATAACAATACCCGTAATAGCAATATCAATAGCTAA\")<br>\n",
    "Out: Met A R Met N S N P S A C H V C H A A L A V I D A C N N N T R N S N I N S Stop"
   ]
  },
  {
   "cell_type": "code",
   "execution_count": 99,
   "metadata": {},
   "outputs": [
    {
     "data": {
      "text/plain": [
       "'MetARMetNSNPSACHVCHAALAVIDACNNNTRNSNINSStop'"
      ]
     },
     "execution_count": 99,
     "metadata": {},
     "output_type": "execute_result"
    }
   ],
   "source": [
    "def traduccion(secuencia):\n",
    "    tabla = {\n",
    "    'ATA':'I', 'ATC':'I', 'ATT':'I', 'ATG':'Met',\n",
    "    'ACA':'T', 'ACC':'T', 'ACG':'T', 'ACT':'T',\n",
    "    'AAC':'N', 'AAT':'N', 'AAA':'K', 'AAG':'K',\n",
    "    'AGC':'S', 'AGT':'S', 'AGA':'R', 'AGG':'R',\n",
    "    'CTA':'L', 'CTC':'L', 'CTG':'L', 'CTT':'L',\n",
    "    'CCA':'P', 'CCC':'P', 'CCG':'P', 'CCT':'P',\n",
    "    'CAC':'H', 'CAT':'H', 'CAA':'Q', 'CAG':'Q',\n",
    "    'CGA':'R', 'CGC':'R', 'CGG':'R', 'CGT':'R',\n",
    "    'GTA':'V', 'GTC':'V', 'GTG':'V', 'GTT':'V',\n",
    "    'GCA':'A', 'GCC':'A', 'GCG':'A', 'GCT':'A',\n",
    "    'GAC':'D', 'GAT':'D', 'GAA':'E', 'GAG':'E',\n",
    "    'GGA':'G', 'GGC':'G', 'GGG':'G', 'GGT':'G',\n",
    "    'TCA':'S', 'TCC':'S', 'TCG':'S', 'TCT':'S',\n",
    "    'TTC':'F', 'TTT':'F', 'TTA':'L', 'TTG':'L',\n",
    "    'TAC':'Y', 'TAT':'Y', 'TAA':'Stop', 'TAG':'Stop',\n",
    "    'TGC':'C', 'TGT':'C', 'TGA':'Stop', 'TGG':'W',}\n",
    "    \n",
    "    proteina = \"\"\n",
    "    if len(secuencia)%3 == 0:\n",
    "        for i in range(0, len(secuencia), 3):\n",
    "            codon = secuencia[i : i+3]\n",
    "            proteina += tabla[codon]\n",
    "    return proteina\n",
    "\n",
    "translate (\"ATGGCGCGTATGAATAGCAATCCGAGCGCATGCCATGTTTGCCATGCGGCTCTGGCGGTCATTGATGCGTGCAATAACAATACCCGTAATAGCAATATCAATAGCTAA\")\n"
   ]
  },
  {
   "cell_type": "markdown",
   "metadata": {},
   "source": [
    "9. Usando la función anterior, traducir en los 6 frames una cadena de DNA dada. Ejemplo: traducirALL(\"ATGGCGCGTATGAATAGCAATCCGAGCGCATGCCATGTTTGCCATGCGGCTCTGGCGGTCATTGATGCGTGCAATAACAATACCCGTAATAGCAATATCAATAGCTAA\")\n",
    "Out: (1:Met A R Met N S N P S A C H V C H A A L A V I D A C N N N T R N S N I N S Stop, 2:W R V Stop I A I R A H A Met F A Met R L W R S L Met R A I T I P V I A I S I A, 3:G A Y E Stop Q S E R Met P C L P C G S G G H Stop C V Q Stop Q Y P Stop Stop Q Y Q Stop L, 4:L A I D I A I T G I V I A R I N D R Q S R Met A N Met A C A R I A I H T R H, 5:Stop L L I L L L R V L L L H A S Met T A R A A W Q T W H A L G L L F I R A, 6:S Y Stop Y C Y Y G Y C Y C T H Q Stop P P E P H G K H G Met R S D C Y S Y A P)"
   ]
  },
  {
   "cell_type": "code",
   "execution_count": null,
   "metadata": {},
   "outputs": [],
   "source": []
  },
  {
   "cell_type": "markdown",
   "metadata": {},
   "source": [
    "10. Un investigador realizó un experiemento donde trató células cancerígeneas con un antimitótico y luego de un tiempo cuantificó la expresión de varios oncogenes usando RNAseq. (Figura adjunta).<br>\n",
    "![texte](image.png)\n",
    "En la imagen se muestra en la primera columna los IDs de los oncogenes. Las tres columnas siguientes (Son réplicas del tratamiento control con células no tratadas, Exp1, Exp2 y Exp3). Las tres últimas columnas son las tres réplicas del tratamiento con el antimitótico. <br>\n",
    "a. Utilizando la librería numpy, creár una matríz y cargar los datos de la tabla e imprimirla. <br>\n",
    "b. Realizar una función que promedie, usando las tres réplicas, la expresión de cada gen por tratamiento. <br>\n",
    "c. Realizar una función donde a partir de los promedio de cada gen, compare el tratamiento versus el control y si la relación es < 0.5 ó > 1.5 retornar el ID del gen expresado diferencialmente."
   ]
  },
  {
   "cell_type": "code",
   "execution_count": 100,
   "metadata": {},
   "outputs": [
    {
     "ename": "SyntaxError",
     "evalue": "invalid syntax (<ipython-input-100-ee4129a5bd17>, line 2)",
     "output_type": "error",
     "traceback": [
      "\u001b[1;36m  File \u001b[1;32m\"<ipython-input-100-ee4129a5bd17>\"\u001b[1;36m, line \u001b[1;32m2\u001b[0m\n\u001b[1;33m    Tratamiento = matrix ([[3501.2,5697.47,2426.72],[128.67,104.42,101.33],[9.05,23.33,8.44],[750.9,659.84,491.89],[735.82,816.46,118.22],[245.27,372.13,335.67],[17.09,13.33,8.44],[1731.0,1641.81,1853.55],[268.39,186.62,135.11],[323.68,428.78.116.11],[370.93,378.79,279.72],[214.11,168.85,144.61],[30.16,63.32,26.39],[97.51,77.76,71.78],[5209.07,7680.3,6312.2]])\u001b[0m\n\u001b[1;37m                                                                                                                                                                                                                                                     ^\u001b[0m\n\u001b[1;31mSyntaxError\u001b[0m\u001b[1;31m:\u001b[0m invalid syntax\n"
     ]
    }
   ],
   "source": [
    "from numpy import matrix\n",
    "Tratamiento = matrix ([[3501.2,5697.47,2426.72],[128.67,104.42,101.33],[9.05,23.33,8.44],[750.9,659.84,491.89],[735.82,816.46,118.22],[245.27,372.13,335.67],[17.09,13.33,8.44],[1731.0,1641.81,1853.55],[268.39,186.62,135.11],[323.68,428.78.116.11],[370.93,378.79,279.72],[214.11,168.85,144.61],[30.16,63.32,26.39],[97.51,77.76,71.78],[5209.07,7680.3,6312.2]])\n",
    "print (Tratamiento)\n",
    "\n",
    "a = np.mean(control[0:])\n",
    "b = np.mean(control[1:])\n",
    "c = np.mean(control[3:])\n",
    "d = np.mean(control[4:])\n",
    "e = np.mean(control[5:])\n",
    "f = np.mean(control[6:])\n",
    "g = np.mean(control[7:])\n",
    "h = np.mean(control[8:])\n",
    "i = np.mean(control[9:])\n",
    "j = np.mean(control[10:])\n",
    "k = np.mean(control[11:])\n",
    "l = np.mean(control[12:])\n",
    "m = np.mean(control[13:])\n",
    "n = np.mean(control[14:])\n",
    "\n",
    "\n",
    "print (a,b,c,d,e,f,g,h,i,j,k,l,m,n)"
   ]
  },
  {
   "cell_type": "code",
   "execution_count": 101,
   "metadata": {},
   "outputs": [
    {
     "name": "stdout",
     "output_type": "stream",
     "text": [
      "[[6.754089e+04 7.092409e+04 8.024376e+04]\n",
      " [8.119300e+02 8.013600e+02 7.407100e+02]\n",
      " [1.904100e+02 2.110600e+02 2.361900e+02]\n",
      " [6.677000e+01 5.756000e+01 1.010900e+02]\n",
      " [3.300000e+00 1.129000e+01 1.890000e+00]\n",
      " [4.534000e+01 3.612000e+01 5.102000e+01]\n",
      " [1.030400e+02 3.702100e+02 2.002900e+02]\n",
      " [7.708780e+03 6.976380e+03 6.569040e+03]\n",
      " [3.132000e+01 1.016000e+01 2.456000e+01]\n",
      " [3.132000e+01 2.483000e+01 1.984000e+01]\n",
      " [4.781000e+01 8.917000e+01 7.086000e+01]\n",
      " [7.039500e+02 6.896200e+02 6.622900e+02]\n",
      " [2.225600e+02 3.397300e+02 2.267500e+02]\n",
      " [1.236000e+01 1.129000e+01 8.500000e+00]\n",
      " [2.061309e+04 2.521813e+04 3.154046e+04]]\n",
      "7213.358222222222 2521.247142857143 2858.3533333333335 3111.372727272727 3421.960666666667 3797.271851851852 4243.866666666667 3838.028571428572 4474.031111111111 5363.771333333334 6687.394166666668 8688.096666666666 12900.638333333334 25790.559999999998\n"
     ]
    }
   ],
   "source": [
    "import numpy as np\n",
    "from numpy import matrix \n",
    "control = matrix([[67540.89,70924.09,80243.76],[811.93,801.36,740.71],[190.41,211.06,236.19],[66.77,57.56,101.09],[3.3,11.29,1.89],[45.34,36.12,51.02],[103.04,370.21,200.29],[7708.78,6976.38,6569.04],[31.32,10.16,24.56],[31.32,24.83,19.84],[47.81,89.17,70.86],[703.95,689.62,662.29],[222.56,339.73,226.75],[12.36,11.29,8.5],[20613.09,25218.13,31540.46]])\n",
    "print (control)\n",
    "\n",
    "a = np.mean(control[0:])\n",
    "b = np.mean(control[1:])\n",
    "c = np.mean(control[3:])\n",
    "d = np.mean(control[4:])\n",
    "e = np.mean(control[5:])\n",
    "f = np.mean(control[6:])\n",
    "g = np.mean(control[7:])\n",
    "h = np.mean(control[8:])\n",
    "i = np.mean(control[9:])\n",
    "j = np.mean(control[10:])\n",
    "k = np.mean(control[11:])\n",
    "l = np.mean(control[12:])\n",
    "m = np.mean(control[13:])\n",
    "n = np.mean(control[14:])\n",
    "\n",
    "\n",
    "print (a,b,c,d,e,f,g,h,i,j,k,l,m,n)\n"
   ]
  },
  {
   "cell_type": "code",
   "execution_count": null,
   "metadata": {},
   "outputs": [],
   "source": []
  }
 ],
 "metadata": {
  "kernelspec": {
   "display_name": "Python 3",
   "language": "python",
   "name": "python3"
  },
  "language_info": {
   "codemirror_mode": {
    "name": "ipython",
    "version": 3
   },
   "file_extension": ".py",
   "mimetype": "text/x-python",
   "name": "python",
   "nbconvert_exporter": "python",
   "pygments_lexer": "ipython3",
   "version": "3.6.5"
  }
 },
 "nbformat": 4,
 "nbformat_minor": 2
}
