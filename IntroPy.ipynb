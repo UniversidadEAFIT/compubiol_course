{
 "cells": [
  {
   "cell_type": "markdown",
   "metadata": {},
   "source": [
    "### Introducción a Python"
   ]
  },
  {
   "cell_type": "code",
   "execution_count": 2,
   "metadata": {},
   "outputs": [
    {
     "name": "stdout",
     "output_type": "stream",
     "text": [
      "UCUCUACUCAUGUCUGCA\n",
      "UCUCUCGCGACGUGCAGCU\n"
     ]
    }
   ],
   "source": [
    "# lee una cadena de DNA.\n",
    "# retorna una cadena de RNA.\n",
    "\n",
    "cadena1 = input(\"Por favor ingrese una cadena 1 en DNA\\n\")\n",
    "cadena2 = input(\"Por favor ingrese una cadena 2 en DNA\\n\")\n",
    "\n",
    "def DNA_to_RNA(cadena):\n",
    "    respuesta = \"\"\n",
    "    for i in cadena:\n",
    "        if(i == \"T\"):\n",
    "            respuesta += \"U\"\n",
    "        else:\n",
    "            respuesta = respuesta + i\n",
    "    return respuesta\n",
    "\n",
    "print(DNA_to_RNA(cadena1))\n",
    "print(DNA_to_RNA(cadena2))\n"
   ]
  },
  {
   "cell_type": "code",
   "execution_count": null,
   "metadata": {},
   "outputs": [],
   "source": []
  }
 ],
 "metadata": {
  "kernelspec": {
   "display_name": "Python 3",
   "language": "python",
   "name": "python3"
  },
  "language_info": {
   "codemirror_mode": {
    "name": "ipython",
    "version": 3
   },
   "file_extension": ".py",
   "mimetype": "text/x-python",
   "name": "python",
   "nbconvert_exporter": "python",
   "pygments_lexer": "ipython3",
   "version": "3.6.3"
  }
 },
 "nbformat": 4,
 "nbformat_minor": 2
}
